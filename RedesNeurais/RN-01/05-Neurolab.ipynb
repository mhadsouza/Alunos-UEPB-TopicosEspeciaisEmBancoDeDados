{
 "cells": [
  {
   "cell_type": "markdown",
   "metadata": {},
   "source": [
    "# Redes Neurais"
   ]
  },
  {
   "cell_type": "markdown",
   "metadata": {},
   "source": [
    "## Neurolab"
   ]
  },
  {
   "cell_type": "markdown",
   "metadata": {},
   "source": [
    "https://pythonhosted.org/neurolab/"
   ]
  },
  {
   "cell_type": "markdown",
   "metadata": {},
   "source": [
    "https://code.google.com/archive/p/neurolab/"
   ]
  },
  {
   "cell_type": "markdown",
   "metadata": {},
   "source": [
    "https://pypi.python.org/pypi/neurolab"
   ]
  },
  {
   "cell_type": "code",
   "execution_count": null,
   "metadata": {},
   "outputs": [],
   "source": [
    "#!pip install neurolab"
   ]
  },
  {
   "cell_type": "code",
   "execution_count": null,
   "metadata": {},
   "outputs": [],
   "source": [
    "import neurolab as nl\n",
    "import numpy as np\n",
    "from sklearn import preprocessing\n",
    "import matplotlib.pyplot as plt\n",
    "plt.style.use('ggplot')\n",
    "%matplotlib inline"
   ]
  },
  {
   "cell_type": "code",
   "execution_count": null,
   "metadata": {},
   "outputs": [],
   "source": [
    "# Criando datasets de treino\n",
    "x = np.linspace(-10,10, 60)\n",
    "y = np.cos(x) * 0.9\n",
    "size = len(x)\n",
    "x_train = x.reshape(size,1)\n",
    "y_train = y.reshape(size,1)"
   ]
  },
  {
   "cell_type": "code",
   "execution_count": null,
   "metadata": {},
   "outputs": [],
   "source": [
    "?nl.net.newff"
   ]
  },
  {
   "cell_type": "code",
   "execution_count": null,
   "metadata": {},
   "outputs": [],
   "source": [
    "?nl.train.train_gd"
   ]
  },
  {
   "cell_type": "code",
   "execution_count": null,
   "metadata": {},
   "outputs": [],
   "source": [
    "def gerar_rede_neural(num_camadas, camadas):\n",
    "    net = nl.net.newff([[-10, 10]],camadas)\n",
    "    train_net = nl.train.train_gd(net, x_train, y_train, epochs = 1000, show = 100)\n",
    "    outp = net.sim(x_train)\n",
    "    \n",
    "    # Plot \n",
    "    plt.subplot(2, 1, 1)\n",
    "    plt.plot(train_net)\n",
    "    plt.xlabel('Epochs')\n",
    "    plt.ylabel('Squared error')\n",
    "    x2 = np.linspace(-10.0,10.0,150)\n",
    "    y2 = net.sim(x2.reshape(x2.size,1)).reshape(x2.size)\n",
    "    y3 = outp.reshape(size)\n",
    "    plt.subplot(2, 1, 2)\n",
    "\n",
    "    plt.suptitle([num_camadas ,'Camadas Ocultas'])\n",
    "    plt.plot(x2, y2, '-',x , y, '.', x, y3, 'p')\n",
    "    plt.legend(['Y previsto', 'Y observado'])\n",
    "    plt.show()"
   ]
  },
  {
   "cell_type": "markdown",
   "metadata": {},
   "source": [
    "## Criando 4 redes com 0, 1, 2, e 3 camadas e randomizando a inicialização"
   ]
  },
  {
   "cell_type": "code",
   "execution_count": null,
   "metadata": {},
   "outputs": [],
   "source": [
    "d = [[1,1],[45,1],[45,45,1],[45,45,45,1]]\n",
    "camadas = d[0]\n",
    "num_camadas_ocultas = 0\n",
    "gerar_rede_neural(num_camadas_ocultas, camadas)"
   ]
  },
  {
   "cell_type": "code",
   "execution_count": null,
   "metadata": {},
   "outputs": [],
   "source": [
    "camadas = d[1]\n",
    "num_camadas_ocultas = 1\n",
    "gerar_rede_neural(num_camadas_ocultas, camadas)"
   ]
  },
  {
   "cell_type": "code",
   "execution_count": null,
   "metadata": {},
   "outputs": [],
   "source": [
    "camadas = d[2]\n",
    "num_camadas_ocultas = 2\n",
    "gerar_rede_neural(num_camadas_ocultas, camadas)"
   ]
  },
  {
   "cell_type": "code",
   "execution_count": null,
   "metadata": {},
   "outputs": [],
   "source": [
    "camadas = d[3]\n",
    "num_camadas_ocultas = 3\n",
    "gerar_rede_neural(num_camadas_ocultas, camadas)"
   ]
  },
  {
   "cell_type": "markdown",
   "metadata": {},
   "source": [
    "---"
   ]
  }
 ],
 "metadata": {
  "anaconda-cloud": {},
  "kernelspec": {
   "display_name": "Python 3",
   "language": "python",
   "name": "python3"
  },
  "language_info": {
   "codemirror_mode": {
    "name": "ipython",
    "version": 3
   },
   "file_extension": ".py",
   "mimetype": "text/x-python",
   "name": "python",
   "nbconvert_exporter": "python",
   "pygments_lexer": "ipython3",
   "version": "3.8.5"
  }
 },
 "nbformat": 4,
 "nbformat_minor": 1
}
