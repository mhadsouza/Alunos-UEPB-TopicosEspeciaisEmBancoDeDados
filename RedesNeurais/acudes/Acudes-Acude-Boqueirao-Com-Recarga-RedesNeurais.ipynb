{
 "cells": [
  {
   "cell_type": "markdown",
   "metadata": {
    "collapsed": true
   },
   "source": [
    "# Regressao Linear - Açudes da Paraíba\n",
    "## Boqueirão - Com Recarga do Rio São Francisco (Abril/2017)\n",
    "#### http://www.aesa.pb.gov.br/aesa-website/monitoramento/volume-acude/?id_acude=531"
   ]
  },
  {
   "cell_type": "markdown",
   "metadata": {},
   "source": [
    "### Nome: xxxxx Matricula: xxx"
   ]
  },
  {
   "cell_type": "markdown",
   "metadata": {},
   "source": [
    "### Acude de Boqueirão com Recarga do Rio São Francisco - 03/05/2017 ate 01/05/2018"
   ]
  },
  {
   "cell_type": "code",
   "execution_count": 1,
   "metadata": {},
   "outputs": [],
   "source": [
    "import pandas as pd"
   ]
  },
  {
   "cell_type": "code",
   "execution_count": 2,
   "metadata": {},
   "outputs": [
    {
     "data": {
      "text/html": [
       "<div>\n",
       "<style scoped>\n",
       "    .dataframe tbody tr th:only-of-type {\n",
       "        vertical-align: middle;\n",
       "    }\n",
       "\n",
       "    .dataframe tbody tr th {\n",
       "        vertical-align: top;\n",
       "    }\n",
       "\n",
       "    .dataframe thead th {\n",
       "        text-align: right;\n",
       "    }\n",
       "</style>\n",
       "<table border=\"1\" class=\"dataframe\">\n",
       "  <thead>\n",
       "    <tr style=\"text-align: right;\">\n",
       "      <th></th>\n",
       "      <th>Açude</th>\n",
       "      <th>Data do registro</th>\n",
       "      <th>Volume (%)</th>\n",
       "      <th>Volume (m³)</th>\n",
       "      <th>Aporte (m²)</th>\n",
       "    </tr>\n",
       "  </thead>\n",
       "  <tbody>\n",
       "    <tr>\n",
       "      <th>0</th>\n",
       "      <td>Epitácio Pessoa</td>\n",
       "      <td>03/05/2017</td>\n",
       "      <td>3.65</td>\n",
       "      <td>15030385.92</td>\n",
       "      <td>282269.44</td>\n",
       "    </tr>\n",
       "    <tr>\n",
       "      <th>1</th>\n",
       "      <td>Epitácio Pessoa</td>\n",
       "      <td>04/05/2017</td>\n",
       "      <td>3.74</td>\n",
       "      <td>15383222.72</td>\n",
       "      <td>352836.80</td>\n",
       "    </tr>\n",
       "    <tr>\n",
       "      <th>2</th>\n",
       "      <td>Epitácio Pessoa</td>\n",
       "      <td>05/05/2017</td>\n",
       "      <td>3.81</td>\n",
       "      <td>15700775.84</td>\n",
       "      <td>317553.12</td>\n",
       "    </tr>\n",
       "    <tr>\n",
       "      <th>3</th>\n",
       "      <td>Epitácio Pessoa</td>\n",
       "      <td>06/05/2017</td>\n",
       "      <td>3.89</td>\n",
       "      <td>16018328.96</td>\n",
       "      <td>317553.12</td>\n",
       "    </tr>\n",
       "    <tr>\n",
       "      <th>4</th>\n",
       "      <td>Epitácio Pessoa</td>\n",
       "      <td>07/05/2017</td>\n",
       "      <td>3.98</td>\n",
       "      <td>16371165.76</td>\n",
       "      <td>352836.80</td>\n",
       "    </tr>\n",
       "  </tbody>\n",
       "</table>\n",
       "</div>"
      ],
      "text/plain": [
       "             Açude Data do registro  Volume (%)  Volume (m³)  Aporte (m²)\n",
       "0  Epitácio Pessoa       03/05/2017        3.65  15030385.92    282269.44\n",
       "1  Epitácio Pessoa       04/05/2017        3.74  15383222.72    352836.80\n",
       "2  Epitácio Pessoa       05/05/2017        3.81  15700775.84    317553.12\n",
       "3  Epitácio Pessoa       06/05/2017        3.89  16018328.96    317553.12\n",
       "4  Epitácio Pessoa       07/05/2017        3.98  16371165.76    352836.80"
      ]
     },
     "execution_count": 2,
     "metadata": {},
     "output_type": "execute_result"
    }
   ],
   "source": [
    "# leitura do dataset\n",
    "# Acude de Boqueirão com Recarga do Rio São Francisco - 03/05/2017 ate 01/05/2018\n",
    "df = pd.read_excel(open(\"boqueirao-2017-2018.xlsx\",'rb'))\n",
    "df.head()"
   ]
  },
  {
   "cell_type": "code",
   "execution_count": 3,
   "metadata": {},
   "outputs": [
    {
     "data": {
      "text/html": [
       "<div>\n",
       "<style scoped>\n",
       "    .dataframe tbody tr th:only-of-type {\n",
       "        vertical-align: middle;\n",
       "    }\n",
       "\n",
       "    .dataframe tbody tr th {\n",
       "        vertical-align: top;\n",
       "    }\n",
       "\n",
       "    .dataframe thead th {\n",
       "        text-align: right;\n",
       "    }\n",
       "</style>\n",
       "<table border=\"1\" class=\"dataframe\">\n",
       "  <thead>\n",
       "    <tr style=\"text-align: right;\">\n",
       "      <th></th>\n",
       "      <th>Açude</th>\n",
       "      <th>Data do registro</th>\n",
       "      <th>Volume (%)</th>\n",
       "      <th>Volume (m³)</th>\n",
       "      <th>Aporte (m²)</th>\n",
       "    </tr>\n",
       "  </thead>\n",
       "  <tbody>\n",
       "    <tr>\n",
       "      <th>0</th>\n",
       "      <td>Epitácio Pessoa</td>\n",
       "      <td>03/05/2017</td>\n",
       "      <td>3.65</td>\n",
       "      <td>15030385.92</td>\n",
       "      <td>282269.44</td>\n",
       "    </tr>\n",
       "    <tr>\n",
       "      <th>1</th>\n",
       "      <td>Epitácio Pessoa</td>\n",
       "      <td>04/05/2017</td>\n",
       "      <td>3.74</td>\n",
       "      <td>15383222.72</td>\n",
       "      <td>352836.80</td>\n",
       "    </tr>\n",
       "    <tr>\n",
       "      <th>2</th>\n",
       "      <td>Epitácio Pessoa</td>\n",
       "      <td>05/05/2017</td>\n",
       "      <td>3.81</td>\n",
       "      <td>15700775.84</td>\n",
       "      <td>317553.12</td>\n",
       "    </tr>\n",
       "    <tr>\n",
       "      <th>3</th>\n",
       "      <td>Epitácio Pessoa</td>\n",
       "      <td>06/05/2017</td>\n",
       "      <td>3.89</td>\n",
       "      <td>16018328.96</td>\n",
       "      <td>317553.12</td>\n",
       "    </tr>\n",
       "    <tr>\n",
       "      <th>4</th>\n",
       "      <td>Epitácio Pessoa</td>\n",
       "      <td>07/05/2017</td>\n",
       "      <td>3.98</td>\n",
       "      <td>16371165.76</td>\n",
       "      <td>352836.80</td>\n",
       "    </tr>\n",
       "  </tbody>\n",
       "</table>\n",
       "</div>"
      ],
      "text/plain": [
       "             Açude Data do registro  Volume (%)  Volume (m³)  Aporte (m²)\n",
       "0  Epitácio Pessoa       03/05/2017        3.65  15030385.92    282269.44\n",
       "1  Epitácio Pessoa       04/05/2017        3.74  15383222.72    352836.80\n",
       "2  Epitácio Pessoa       05/05/2017        3.81  15700775.84    317553.12\n",
       "3  Epitácio Pessoa       06/05/2017        3.89  16018328.96    317553.12\n",
       "4  Epitácio Pessoa       07/05/2017        3.98  16371165.76    352836.80"
      ]
     },
     "execution_count": 3,
     "metadata": {},
     "output_type": "execute_result"
    }
   ],
   "source": [
    "# leitura do dataset\n",
    "# Acude de Boqueirão com Recarga do Rio São Francisco - 03/05/2017 ate 01/05/2018\n",
    "#df = pd.read_excel(open(\"boqueirao10anos.xlsx\",'rb'))\n",
    "df.head()"
   ]
  },
  {
   "cell_type": "code",
   "execution_count": 4,
   "metadata": {},
   "outputs": [
    {
     "data": {
      "text/html": [
       "<div>\n",
       "<style scoped>\n",
       "    .dataframe tbody tr th:only-of-type {\n",
       "        vertical-align: middle;\n",
       "    }\n",
       "\n",
       "    .dataframe tbody tr th {\n",
       "        vertical-align: top;\n",
       "    }\n",
       "\n",
       "    .dataframe thead th {\n",
       "        text-align: right;\n",
       "    }\n",
       "</style>\n",
       "<table border=\"1\" class=\"dataframe\">\n",
       "  <thead>\n",
       "    <tr style=\"text-align: right;\">\n",
       "      <th></th>\n",
       "      <th>Data do registro</th>\n",
       "      <th>Volume (%)</th>\n",
       "      <th>Volume (m³)</th>\n",
       "      <th>Aporte (m²)</th>\n",
       "    </tr>\n",
       "  </thead>\n",
       "  <tbody>\n",
       "    <tr>\n",
       "      <th>0</th>\n",
       "      <td>03/05/2017</td>\n",
       "      <td>3.65</td>\n",
       "      <td>15030385.92</td>\n",
       "      <td>282269.44</td>\n",
       "    </tr>\n",
       "    <tr>\n",
       "      <th>1</th>\n",
       "      <td>04/05/2017</td>\n",
       "      <td>3.74</td>\n",
       "      <td>15383222.72</td>\n",
       "      <td>352836.80</td>\n",
       "    </tr>\n",
       "    <tr>\n",
       "      <th>2</th>\n",
       "      <td>05/05/2017</td>\n",
       "      <td>3.81</td>\n",
       "      <td>15700775.84</td>\n",
       "      <td>317553.12</td>\n",
       "    </tr>\n",
       "    <tr>\n",
       "      <th>3</th>\n",
       "      <td>06/05/2017</td>\n",
       "      <td>3.89</td>\n",
       "      <td>16018328.96</td>\n",
       "      <td>317553.12</td>\n",
       "    </tr>\n",
       "    <tr>\n",
       "      <th>4</th>\n",
       "      <td>07/05/2017</td>\n",
       "      <td>3.98</td>\n",
       "      <td>16371165.76</td>\n",
       "      <td>352836.80</td>\n",
       "    </tr>\n",
       "    <tr>\n",
       "      <th>5</th>\n",
       "      <td>08/05/2017</td>\n",
       "      <td>4.05</td>\n",
       "      <td>16653435.20</td>\n",
       "      <td>282269.44</td>\n",
       "    </tr>\n",
       "    <tr>\n",
       "      <th>6</th>\n",
       "      <td>09/05/2017</td>\n",
       "      <td>4.12</td>\n",
       "      <td>16970988.32</td>\n",
       "      <td>317553.12</td>\n",
       "    </tr>\n",
       "    <tr>\n",
       "      <th>7</th>\n",
       "      <td>10/05/2017</td>\n",
       "      <td>4.19</td>\n",
       "      <td>17258970.64</td>\n",
       "      <td>287982.32</td>\n",
       "    </tr>\n",
       "    <tr>\n",
       "      <th>8</th>\n",
       "      <td>11/05/2017</td>\n",
       "      <td>4.28</td>\n",
       "      <td>17638018.60</td>\n",
       "      <td>379047.96</td>\n",
       "    </tr>\n",
       "    <tr>\n",
       "      <th>9</th>\n",
       "      <td>12/05/2017</td>\n",
       "      <td>4.36</td>\n",
       "      <td>17932833.68</td>\n",
       "      <td>294815.08</td>\n",
       "    </tr>\n",
       "    <tr>\n",
       "      <th>10</th>\n",
       "      <td>13/05/2017</td>\n",
       "      <td>4.43</td>\n",
       "      <td>18227648.76</td>\n",
       "      <td>294815.08</td>\n",
       "    </tr>\n",
       "    <tr>\n",
       "      <th>11</th>\n",
       "      <td>14/05/2017</td>\n",
       "      <td>4.50</td>\n",
       "      <td>18522463.84</td>\n",
       "      <td>294815.08</td>\n",
       "    </tr>\n",
       "    <tr>\n",
       "      <th>12</th>\n",
       "      <td>15/05/2017</td>\n",
       "      <td>4.56</td>\n",
       "      <td>18775162.48</td>\n",
       "      <td>252698.64</td>\n",
       "    </tr>\n",
       "    <tr>\n",
       "      <th>13</th>\n",
       "      <td>16/05/2017</td>\n",
       "      <td>4.62</td>\n",
       "      <td>19027861.12</td>\n",
       "      <td>252698.64</td>\n",
       "    </tr>\n",
       "    <tr>\n",
       "      <th>14</th>\n",
       "      <td>17/05/2017</td>\n",
       "      <td>4.67</td>\n",
       "      <td>19238443.32</td>\n",
       "      <td>210582.20</td>\n",
       "    </tr>\n",
       "    <tr>\n",
       "      <th>15</th>\n",
       "      <td>18/05/2017</td>\n",
       "      <td>4.72</td>\n",
       "      <td>19449025.52</td>\n",
       "      <td>210582.20</td>\n",
       "    </tr>\n",
       "    <tr>\n",
       "      <th>16</th>\n",
       "      <td>19/05/2017</td>\n",
       "      <td>4.78</td>\n",
       "      <td>19659607.72</td>\n",
       "      <td>210582.20</td>\n",
       "    </tr>\n",
       "    <tr>\n",
       "      <th>17</th>\n",
       "      <td>20/05/2017</td>\n",
       "      <td>4.82</td>\n",
       "      <td>19828073.48</td>\n",
       "      <td>168465.76</td>\n",
       "    </tr>\n",
       "    <tr>\n",
       "      <th>18</th>\n",
       "      <td>21/05/2017</td>\n",
       "      <td>4.88</td>\n",
       "      <td>20080772.12</td>\n",
       "      <td>252698.64</td>\n",
       "    </tr>\n",
       "    <tr>\n",
       "      <th>19</th>\n",
       "      <td>22/05/2017</td>\n",
       "      <td>4.94</td>\n",
       "      <td>20333470.76</td>\n",
       "      <td>252698.64</td>\n",
       "    </tr>\n",
       "  </tbody>\n",
       "</table>\n",
       "</div>"
      ],
      "text/plain": [
       "   Data do registro  Volume (%)  Volume (m³)  Aporte (m²)\n",
       "0        03/05/2017        3.65  15030385.92    282269.44\n",
       "1        04/05/2017        3.74  15383222.72    352836.80\n",
       "2        05/05/2017        3.81  15700775.84    317553.12\n",
       "3        06/05/2017        3.89  16018328.96    317553.12\n",
       "4        07/05/2017        3.98  16371165.76    352836.80\n",
       "5        08/05/2017        4.05  16653435.20    282269.44\n",
       "6        09/05/2017        4.12  16970988.32    317553.12\n",
       "7        10/05/2017        4.19  17258970.64    287982.32\n",
       "8        11/05/2017        4.28  17638018.60    379047.96\n",
       "9        12/05/2017        4.36  17932833.68    294815.08\n",
       "10       13/05/2017        4.43  18227648.76    294815.08\n",
       "11       14/05/2017        4.50  18522463.84    294815.08\n",
       "12       15/05/2017        4.56  18775162.48    252698.64\n",
       "13       16/05/2017        4.62  19027861.12    252698.64\n",
       "14       17/05/2017        4.67  19238443.32    210582.20\n",
       "15       18/05/2017        4.72  19449025.52    210582.20\n",
       "16       19/05/2017        4.78  19659607.72    210582.20\n",
       "17       20/05/2017        4.82  19828073.48    168465.76\n",
       "18       21/05/2017        4.88  20080772.12    252698.64\n",
       "19       22/05/2017        4.94  20333470.76    252698.64"
      ]
     },
     "execution_count": 4,
     "metadata": {},
     "output_type": "execute_result"
    }
   ],
   "source": [
    "del df[\"Açude\"]\n",
    "df.head(20)"
   ]
  },
  {
   "cell_type": "code",
   "execution_count": 5,
   "metadata": {},
   "outputs": [
    {
     "data": {
      "text/html": [
       "<div>\n",
       "<style scoped>\n",
       "    .dataframe tbody tr th:only-of-type {\n",
       "        vertical-align: middle;\n",
       "    }\n",
       "\n",
       "    .dataframe tbody tr th {\n",
       "        vertical-align: top;\n",
       "    }\n",
       "\n",
       "    .dataframe thead th {\n",
       "        text-align: right;\n",
       "    }\n",
       "</style>\n",
       "<table border=\"1\" class=\"dataframe\">\n",
       "  <thead>\n",
       "    <tr style=\"text-align: right;\">\n",
       "      <th></th>\n",
       "      <th>Data do registro</th>\n",
       "      <th>Volume (%)</th>\n",
       "      <th>Volume (m³)</th>\n",
       "      <th>Aporte (m²)</th>\n",
       "    </tr>\n",
       "  </thead>\n",
       "  <tbody>\n",
       "    <tr>\n",
       "      <th>358</th>\n",
       "      <td>27/04/2018</td>\n",
       "      <td>34.91</td>\n",
       "      <td>1.437192e+08</td>\n",
       "      <td>1104342.24</td>\n",
       "    </tr>\n",
       "    <tr>\n",
       "      <th>359</th>\n",
       "      <td>28/04/2018</td>\n",
       "      <td>35.04</td>\n",
       "      <td>1.442714e+08</td>\n",
       "      <td>552171.12</td>\n",
       "    </tr>\n",
       "    <tr>\n",
       "      <th>360</th>\n",
       "      <td>29/04/2018</td>\n",
       "      <td>35.13</td>\n",
       "      <td>1.446395e+08</td>\n",
       "      <td>368114.08</td>\n",
       "    </tr>\n",
       "    <tr>\n",
       "      <th>361</th>\n",
       "      <td>30/04/2018</td>\n",
       "      <td>35.13</td>\n",
       "      <td>1.446395e+08</td>\n",
       "      <td>0.00</td>\n",
       "    </tr>\n",
       "    <tr>\n",
       "      <th>362</th>\n",
       "      <td>01/05/2018</td>\n",
       "      <td>35.40</td>\n",
       "      <td>1.457439e+08</td>\n",
       "      <td>1104342.24</td>\n",
       "    </tr>\n",
       "  </tbody>\n",
       "</table>\n",
       "</div>"
      ],
      "text/plain": [
       "    Data do registro  Volume (%)   Volume (m³)  Aporte (m²)\n",
       "358       27/04/2018       34.91  1.437192e+08   1104342.24\n",
       "359       28/04/2018       35.04  1.442714e+08    552171.12\n",
       "360       29/04/2018       35.13  1.446395e+08    368114.08\n",
       "361       30/04/2018       35.13  1.446395e+08         0.00\n",
       "362       01/05/2018       35.40  1.457439e+08   1104342.24"
      ]
     },
     "execution_count": 5,
     "metadata": {},
     "output_type": "execute_result"
    }
   ],
   "source": [
    "df.tail()"
   ]
  },
  {
   "cell_type": "code",
   "execution_count": 6,
   "metadata": {},
   "outputs": [
    {
     "data": {
      "text/plain": [
       "363"
      ]
     },
     "execution_count": 6,
     "metadata": {},
     "output_type": "execute_result"
    }
   ],
   "source": [
    "len(df)"
   ]
  },
  {
   "cell_type": "code",
   "execution_count": 7,
   "metadata": {},
   "outputs": [
    {
     "data": {
      "text/html": [
       "<div>\n",
       "<style scoped>\n",
       "    .dataframe tbody tr th:only-of-type {\n",
       "        vertical-align: middle;\n",
       "    }\n",
       "\n",
       "    .dataframe tbody tr th {\n",
       "        vertical-align: top;\n",
       "    }\n",
       "\n",
       "    .dataframe thead th {\n",
       "        text-align: right;\n",
       "    }\n",
       "</style>\n",
       "<table border=\"1\" class=\"dataframe\">\n",
       "  <thead>\n",
       "    <tr style=\"text-align: right;\">\n",
       "      <th></th>\n",
       "      <th>Data do registro</th>\n",
       "      <th>Volume (%)</th>\n",
       "      <th>Volume (m³)</th>\n",
       "      <th>Aporte (m²)</th>\n",
       "    </tr>\n",
       "  </thead>\n",
       "  <tbody>\n",
       "    <tr>\n",
       "      <th>0</th>\n",
       "      <td>2017-05-03</td>\n",
       "      <td>3.65</td>\n",
       "      <td>15030385.92</td>\n",
       "      <td>282269.44</td>\n",
       "    </tr>\n",
       "    <tr>\n",
       "      <th>1</th>\n",
       "      <td>2017-05-04</td>\n",
       "      <td>3.74</td>\n",
       "      <td>15383222.72</td>\n",
       "      <td>352836.80</td>\n",
       "    </tr>\n",
       "    <tr>\n",
       "      <th>2</th>\n",
       "      <td>2017-05-05</td>\n",
       "      <td>3.81</td>\n",
       "      <td>15700775.84</td>\n",
       "      <td>317553.12</td>\n",
       "    </tr>\n",
       "    <tr>\n",
       "      <th>3</th>\n",
       "      <td>2017-05-06</td>\n",
       "      <td>3.89</td>\n",
       "      <td>16018328.96</td>\n",
       "      <td>317553.12</td>\n",
       "    </tr>\n",
       "    <tr>\n",
       "      <th>4</th>\n",
       "      <td>2017-05-07</td>\n",
       "      <td>3.98</td>\n",
       "      <td>16371165.76</td>\n",
       "      <td>352836.80</td>\n",
       "    </tr>\n",
       "  </tbody>\n",
       "</table>\n",
       "</div>"
      ],
      "text/plain": [
       "  Data do registro  Volume (%)  Volume (m³)  Aporte (m²)\n",
       "0       2017-05-03        3.65  15030385.92    282269.44\n",
       "1       2017-05-04        3.74  15383222.72    352836.80\n",
       "2       2017-05-05        3.81  15700775.84    317553.12\n",
       "3       2017-05-06        3.89  16018328.96    317553.12\n",
       "4       2017-05-07        3.98  16371165.76    352836.80"
      ]
     },
     "execution_count": 7,
     "metadata": {},
     "output_type": "execute_result"
    }
   ],
   "source": [
    "# converter atributo para data\n",
    "df['Data do registro'] =  pd.to_datetime( df['Data do registro'], format=\"%d/%m/%Y\") \n",
    "df.head()"
   ]
  },
  {
   "cell_type": "code",
   "execution_count": 8,
   "metadata": {},
   "outputs": [
    {
     "data": {
      "text/html": [
       "<div>\n",
       "<style scoped>\n",
       "    .dataframe tbody tr th:only-of-type {\n",
       "        vertical-align: middle;\n",
       "    }\n",
       "\n",
       "    .dataframe tbody tr th {\n",
       "        vertical-align: top;\n",
       "    }\n",
       "\n",
       "    .dataframe thead th {\n",
       "        text-align: right;\n",
       "    }\n",
       "</style>\n",
       "<table border=\"1\" class=\"dataframe\">\n",
       "  <thead>\n",
       "    <tr style=\"text-align: right;\">\n",
       "      <th></th>\n",
       "      <th>Volume (%)</th>\n",
       "      <th>Volume (m³)</th>\n",
       "      <th>Aporte (m²)</th>\n",
       "    </tr>\n",
       "    <tr>\n",
       "      <th>Data do registro</th>\n",
       "      <th></th>\n",
       "      <th></th>\n",
       "      <th></th>\n",
       "    </tr>\n",
       "  </thead>\n",
       "  <tbody>\n",
       "    <tr>\n",
       "      <th>2017-05-03</th>\n",
       "      <td>3.65</td>\n",
       "      <td>15030385.92</td>\n",
       "      <td>282269.44</td>\n",
       "    </tr>\n",
       "    <tr>\n",
       "      <th>2017-05-04</th>\n",
       "      <td>3.74</td>\n",
       "      <td>15383222.72</td>\n",
       "      <td>352836.80</td>\n",
       "    </tr>\n",
       "    <tr>\n",
       "      <th>2017-05-05</th>\n",
       "      <td>3.81</td>\n",
       "      <td>15700775.84</td>\n",
       "      <td>317553.12</td>\n",
       "    </tr>\n",
       "    <tr>\n",
       "      <th>2017-05-06</th>\n",
       "      <td>3.89</td>\n",
       "      <td>16018328.96</td>\n",
       "      <td>317553.12</td>\n",
       "    </tr>\n",
       "    <tr>\n",
       "      <th>2017-05-07</th>\n",
       "      <td>3.98</td>\n",
       "      <td>16371165.76</td>\n",
       "      <td>352836.80</td>\n",
       "    </tr>\n",
       "  </tbody>\n",
       "</table>\n",
       "</div>"
      ],
      "text/plain": [
       "                  Volume (%)  Volume (m³)  Aporte (m²)\n",
       "Data do registro                                      \n",
       "2017-05-03              3.65  15030385.92    282269.44\n",
       "2017-05-04              3.74  15383222.72    352836.80\n",
       "2017-05-05              3.81  15700775.84    317553.12\n",
       "2017-05-06              3.89  16018328.96    317553.12\n",
       "2017-05-07              3.98  16371165.76    352836.80"
      ]
     },
     "execution_count": 8,
     "metadata": {},
     "output_type": "execute_result"
    }
   ],
   "source": [
    "# colocar a data como indice para fazer uma série temporal\n",
    "df2 = df.set_index(pd.DatetimeIndex(df['Data do registro']))\n",
    "del df2['Data do registro']\n",
    "df2.head()"
   ]
  },
  {
   "cell_type": "code",
   "execution_count": 9,
   "metadata": {},
   "outputs": [
    {
     "data": {
      "text/plain": [
       "count    363.000000\n",
       "mean      10.546391\n",
       "std        6.045179\n",
       "min        3.650000\n",
       "25%        7.770000\n",
       "50%        9.240000\n",
       "75%       10.235000\n",
       "max       35.400000\n",
       "Name: Volume (%), dtype: float64"
      ]
     },
     "execution_count": 9,
     "metadata": {},
     "output_type": "execute_result"
    }
   ],
   "source": [
    "#del df2[\"Data do registro\"]\n",
    "df2.describe()[\"Volume (%)\"]"
   ]
  },
  {
   "cell_type": "code",
   "execution_count": 10,
   "metadata": {},
   "outputs": [
    {
     "name": "stdout",
     "output_type": "stream",
     "text": [
      "<class 'pandas.core.frame.DataFrame'>\n",
      "DatetimeIndex: 363 entries, 2017-05-03 to 2018-05-01\n",
      "Data columns (total 3 columns):\n",
      "Volume (%)     363 non-null float64\n",
      "Volume (m³)    363 non-null float64\n",
      "Aporte (m²)    363 non-null float64\n",
      "dtypes: float64(3)\n",
      "memory usage: 11.3 KB\n"
     ]
    }
   ],
   "source": [
    "df2.info()"
   ]
  },
  {
   "cell_type": "code",
   "execution_count": 11,
   "metadata": {},
   "outputs": [
    {
     "data": {
      "text/html": [
       "<div>\n",
       "<style scoped>\n",
       "    .dataframe tbody tr th:only-of-type {\n",
       "        vertical-align: middle;\n",
       "    }\n",
       "\n",
       "    .dataframe tbody tr th {\n",
       "        vertical-align: top;\n",
       "    }\n",
       "\n",
       "    .dataframe thead th {\n",
       "        text-align: right;\n",
       "    }\n",
       "</style>\n",
       "<table border=\"1\" class=\"dataframe\">\n",
       "  <thead>\n",
       "    <tr style=\"text-align: right;\">\n",
       "      <th></th>\n",
       "      <th>Volume (%)</th>\n",
       "      <th>Volume (m³)</th>\n",
       "      <th>Aporte (m²)</th>\n",
       "    </tr>\n",
       "    <tr>\n",
       "      <th>Data do registro</th>\n",
       "      <th></th>\n",
       "      <th></th>\n",
       "      <th></th>\n",
       "    </tr>\n",
       "  </thead>\n",
       "  <tbody>\n",
       "    <tr>\n",
       "      <th>2017-05-03</th>\n",
       "      <td>3.65</td>\n",
       "      <td>15030385.92</td>\n",
       "      <td>282269.44</td>\n",
       "    </tr>\n",
       "    <tr>\n",
       "      <th>2017-05-04</th>\n",
       "      <td>3.74</td>\n",
       "      <td>15383222.72</td>\n",
       "      <td>352836.80</td>\n",
       "    </tr>\n",
       "    <tr>\n",
       "      <th>2017-05-05</th>\n",
       "      <td>3.81</td>\n",
       "      <td>15700775.84</td>\n",
       "      <td>317553.12</td>\n",
       "    </tr>\n",
       "    <tr>\n",
       "      <th>2017-05-06</th>\n",
       "      <td>3.89</td>\n",
       "      <td>16018328.96</td>\n",
       "      <td>317553.12</td>\n",
       "    </tr>\n",
       "    <tr>\n",
       "      <th>2017-05-07</th>\n",
       "      <td>3.98</td>\n",
       "      <td>16371165.76</td>\n",
       "      <td>352836.80</td>\n",
       "    </tr>\n",
       "  </tbody>\n",
       "</table>\n",
       "</div>"
      ],
      "text/plain": [
       "                  Volume (%)  Volume (m³)  Aporte (m²)\n",
       "Data do registro                                      \n",
       "2017-05-03              3.65  15030385.92    282269.44\n",
       "2017-05-04              3.74  15383222.72    352836.80\n",
       "2017-05-05              3.81  15700775.84    317553.12\n",
       "2017-05-06              3.89  16018328.96    317553.12\n",
       "2017-05-07              3.98  16371165.76    352836.80"
      ]
     },
     "execution_count": 11,
     "metadata": {},
     "output_type": "execute_result"
    }
   ],
   "source": [
    "#del df2[\"Açude\"]\n",
    "#del df2[\"Data do registro\"]\n",
    "df2.head()"
   ]
  },
  {
   "cell_type": "markdown",
   "metadata": {},
   "source": [
    "## Plota dados do açude de Boqueirão - 03/05/2017 ate 01/05/2018"
   ]
  },
  {
   "cell_type": "code",
   "execution_count": 12,
   "metadata": {
    "scrolled": true
   },
   "outputs": [
    {
     "data": {
      "image/png": "[encoded data removed]",
      "text/plain": [
       "<matplotlib.figure.Figure at 0x113076978>"
      ]
     },
     "metadata": {},
     "output_type": "display_data"
    }
   ],
   "source": [
    "import matplotlib, matplotlib.pyplot as plt\n",
    "%matplotlib inline\n",
    "plt.figure(figsize=(16,5))\n",
    "matplotlib.style.use(\"ggplot\")\n",
    "\n",
    "plt.plot(df2[\"Volume (%)\"], color='blue', linewidth=1)\n",
    "# adcionando textos\n",
    "plt.title(\"Açude de Boqueirão - Recarga (09/04/2017 ate 08/04/2018)\")\n",
    "plt.xlabel(\"Ano\")\n",
    "plt.ylabel(\"Volume (%)\")\n",
    "plt.legend([\"Observado\"], loc=\"lower right\")\n",
    "plt.show()"
   ]
  },
  {
   "cell_type": "code",
   "execution_count": 13,
   "metadata": {},
   "outputs": [
    {
     "data": {
      "text/html": [
       "<div>\n",
       "<style scoped>\n",
       "    .dataframe tbody tr th:only-of-type {\n",
       "        vertical-align: middle;\n",
       "    }\n",
       "\n",
       "    .dataframe tbody tr th {\n",
       "        vertical-align: top;\n",
       "    }\n",
       "\n",
       "    .dataframe thead th {\n",
       "        text-align: right;\n",
       "    }\n",
       "</style>\n",
       "<table border=\"1\" class=\"dataframe\">\n",
       "  <thead>\n",
       "    <tr style=\"text-align: right;\">\n",
       "      <th></th>\n",
       "      <th>Volume (%)</th>\n",
       "      <th>Volume (m³)</th>\n",
       "      <th>Aporte (m²)</th>\n",
       "      <th>dia</th>\n",
       "    </tr>\n",
       "    <tr>\n",
       "      <th>Data do registro</th>\n",
       "      <th></th>\n",
       "      <th></th>\n",
       "      <th></th>\n",
       "      <th></th>\n",
       "    </tr>\n",
       "  </thead>\n",
       "  <tbody>\n",
       "    <tr>\n",
       "      <th>2017-05-03</th>\n",
       "      <td>3.65</td>\n",
       "      <td>15030385.92</td>\n",
       "      <td>282269.44</td>\n",
       "      <td>1</td>\n",
       "    </tr>\n",
       "    <tr>\n",
       "      <th>2017-05-04</th>\n",
       "      <td>3.74</td>\n",
       "      <td>15383222.72</td>\n",
       "      <td>352836.80</td>\n",
       "      <td>2</td>\n",
       "    </tr>\n",
       "    <tr>\n",
       "      <th>2017-05-05</th>\n",
       "      <td>3.81</td>\n",
       "      <td>15700775.84</td>\n",
       "      <td>317553.12</td>\n",
       "      <td>3</td>\n",
       "    </tr>\n",
       "    <tr>\n",
       "      <th>2017-05-06</th>\n",
       "      <td>3.89</td>\n",
       "      <td>16018328.96</td>\n",
       "      <td>317553.12</td>\n",
       "      <td>4</td>\n",
       "    </tr>\n",
       "    <tr>\n",
       "      <th>2017-05-07</th>\n",
       "      <td>3.98</td>\n",
       "      <td>16371165.76</td>\n",
       "      <td>352836.80</td>\n",
       "      <td>5</td>\n",
       "    </tr>\n",
       "  </tbody>\n",
       "</table>\n",
       "</div>"
      ],
      "text/plain": [
       "                  Volume (%)  Volume (m³)  Aporte (m²)  dia\n",
       "Data do registro                                           \n",
       "2017-05-03              3.65  15030385.92    282269.44    1\n",
       "2017-05-04              3.74  15383222.72    352836.80    2\n",
       "2017-05-05              3.81  15700775.84    317553.12    3\n",
       "2017-05-06              3.89  16018328.96    317553.12    4\n",
       "2017-05-07              3.98  16371165.76    352836.80    5"
      ]
     },
     "execution_count": 13,
     "metadata": {},
     "output_type": "execute_result"
    }
   ],
   "source": [
    "# criar uma coluna com os dias\n",
    "df3 = df2\n",
    "numero_de_dias_observados = len(df3)\n",
    "df3[\"dia\"] = range(1,numero_de_dias_observados+1)\n",
    "df3.head()"
   ]
  },
  {
   "cell_type": "code",
   "execution_count": 14,
   "metadata": {},
   "outputs": [
    {
     "name": "stdout",
     "output_type": "stream",
     "text": [
      "numero_de_dias_observados =  363\n"
     ]
    }
   ],
   "source": [
    "print(\"numero_de_dias_observados = \",len(df3)) # numero de tuplas ou linhas ou medições"
   ]
  },
  {
   "cell_type": "code",
   "execution_count": 15,
   "metadata": {},
   "outputs": [
    {
     "data": {
      "text/html": [
       "<div>\n",
       "<style scoped>\n",
       "    .dataframe tbody tr th:only-of-type {\n",
       "        vertical-align: middle;\n",
       "    }\n",
       "\n",
       "    .dataframe tbody tr th {\n",
       "        vertical-align: top;\n",
       "    }\n",
       "\n",
       "    .dataframe thead th {\n",
       "        text-align: right;\n",
       "    }\n",
       "</style>\n",
       "<table border=\"1\" class=\"dataframe\">\n",
       "  <thead>\n",
       "    <tr style=\"text-align: right;\">\n",
       "      <th></th>\n",
       "      <th>Volume (%)</th>\n",
       "      <th>Volume (m³)</th>\n",
       "      <th>Aporte (m²)</th>\n",
       "      <th>dia</th>\n",
       "    </tr>\n",
       "    <tr>\n",
       "      <th>Data do registro</th>\n",
       "      <th></th>\n",
       "      <th></th>\n",
       "      <th></th>\n",
       "      <th></th>\n",
       "    </tr>\n",
       "  </thead>\n",
       "  <tbody>\n",
       "    <tr>\n",
       "      <th>2018-04-27</th>\n",
       "      <td>34.91</td>\n",
       "      <td>1.437192e+08</td>\n",
       "      <td>1104342.24</td>\n",
       "      <td>359</td>\n",
       "    </tr>\n",
       "    <tr>\n",
       "      <th>2018-04-28</th>\n",
       "      <td>35.04</td>\n",
       "      <td>1.442714e+08</td>\n",
       "      <td>552171.12</td>\n",
       "      <td>360</td>\n",
       "    </tr>\n",
       "    <tr>\n",
       "      <th>2018-04-29</th>\n",
       "      <td>35.13</td>\n",
       "      <td>1.446395e+08</td>\n",
       "      <td>368114.08</td>\n",
       "      <td>361</td>\n",
       "    </tr>\n",
       "    <tr>\n",
       "      <th>2018-04-30</th>\n",
       "      <td>35.13</td>\n",
       "      <td>1.446395e+08</td>\n",
       "      <td>0.00</td>\n",
       "      <td>362</td>\n",
       "    </tr>\n",
       "    <tr>\n",
       "      <th>2018-05-01</th>\n",
       "      <td>35.40</td>\n",
       "      <td>1.457439e+08</td>\n",
       "      <td>1104342.24</td>\n",
       "      <td>363</td>\n",
       "    </tr>\n",
       "  </tbody>\n",
       "</table>\n",
       "</div>"
      ],
      "text/plain": [
       "                  Volume (%)   Volume (m³)  Aporte (m²)  dia\n",
       "Data do registro                                            \n",
       "2018-04-27             34.91  1.437192e+08   1104342.24  359\n",
       "2018-04-28             35.04  1.442714e+08    552171.12  360\n",
       "2018-04-29             35.13  1.446395e+08    368114.08  361\n",
       "2018-04-30             35.13  1.446395e+08         0.00  362\n",
       "2018-05-01             35.40  1.457439e+08   1104342.24  363"
      ]
     },
     "execution_count": 15,
     "metadata": {},
     "output_type": "execute_result"
    }
   ],
   "source": [
    "df3.tail()"
   ]
  },
  {
   "cell_type": "markdown",
   "metadata": {},
   "source": [
    "## Preparar os dados para aplicar o modelo de regressao"
   ]
  },
  {
   "cell_type": "code",
   "execution_count": 16,
   "metadata": {},
   "outputs": [
    {
     "name": "stdout",
     "output_type": "stream",
     "text": [
      "[[1]\n",
      " [2]\n",
      " [3]]\n",
      "Data do registro\n",
      "2017-05-03    3.65\n",
      "2017-05-04    3.74\n",
      "2017-05-05    3.81\n",
      "Name: Volume (%), dtype: float64\n"
     ]
    }
   ],
   "source": [
    "import numpy, pandas as pd\n",
    "import matplotlib, matplotlib.pyplot as plt\n",
    "import sklearn.linear_model as lm\n",
    "import warnings\n",
    "warnings.filterwarnings('ignore')\n",
    "#X = numpy.array([x.toordinal() for x in df3.index])[:, numpy.newaxis]\n",
    "X = df3['dia'].values.reshape(-1, 1)\n",
    "y = df3['Volume (%)']\n",
    "\n",
    "print(X[:3])\n",
    "print(y[:3])"
   ]
  },
  {
   "cell_type": "markdown",
   "metadata": {},
   "source": [
    "## Aplicar o modelo de Regressao"
   ]
  },
  {
   "cell_type": "code",
   "execution_count": 17,
   "metadata": {},
   "outputs": [
    {
     "data": {
      "text/plain": [
       "LinearRegression(copy_X=True, fit_intercept=True, n_jobs=1, normalize=False)"
      ]
     },
     "execution_count": 17,
     "metadata": {},
     "output_type": "execute_result"
    }
   ],
   "source": [
    "# Aplicar o modelo de Regressao\n",
    "olm = lm.LinearRegression()\n",
    "olm.fit(X, y)\n",
    "olm"
   ]
  },
  {
   "cell_type": "markdown",
   "metadata": {},
   "source": [
    "## Métrica para avaliar o modelo\n",
    "R² - coeficiente de determinação. <br />\n",
    "É uma métrica que mede os o quanto dos futuros examplos são previstos corretamente. <br />\n",
    "Varia entre 1 e -1. Quanto mais o R² se aproximar de 1 ou -1, melhor a previsão. <br />\n",
    "Um R² próximo de 0, não reflete o modelo"
   ]
  },
  {
   "cell_type": "code",
   "execution_count": 18,
   "metadata": {},
   "outputs": [
    {
     "name": "stdout",
     "output_type": "stream",
     "text": [
      "r2 =  0.564282474914285\n"
     ]
    }
   ],
   "source": [
    "from sklearn.metrics import r2_score\n",
    "\n",
    "y_pred = olm.predict(df3['dia'].values.reshape(-1, 1))\n",
    "# Evaluate the model\n",
    "r2 = r2_score(y, y_pred)\n",
    "print('r2 = ', r2 )"
   ]
  },
  {
   "cell_type": "markdown",
   "metadata": {},
   "source": [
    "## Plota os Dados Observados e Previstos"
   ]
  },
  {
   "cell_type": "markdown",
   "metadata": {
    "collapsed": true
   },
   "source": [
    "### preparando a saida para plotar"
   ]
  },
  {
   "cell_type": "code",
   "execution_count": 19,
   "metadata": {},
   "outputs": [
    {
     "name": "stdout",
     "output_type": "stream",
     "text": [
      " y = 0.04327569718077 * x + 2.670214297672864\n"
     ]
    }
   ],
   "source": [
    "# a reta de regressao\n",
    "a = olm.coef_[0]\n",
    "b = olm.intercept_\n",
    "print(' y = {0} * x + {1}'.format(a, b))"
   ]
  },
  {
   "cell_type": "code",
   "execution_count": 20,
   "metadata": {},
   "outputs": [
    {
     "name": "stdout",
     "output_type": "stream",
     "text": [
      "reta de regressão\n",
      " y = 0.04327569718077 * x + 2.670214297672864\n"
     ]
    },
    {
     "data": {
      "image/png": "[encoded data removed]",
      "text/plain": [
       "<matplotlib.figure.Figure at 0x1a1e12eef0>"
      ]
     },
     "metadata": {},
     "output_type": "display_data"
    }
   ],
   "source": [
    "matplotlib.style.use(\"ggplot\")\n",
    "plt.figure(figsize=(15,8))\n",
    "\n",
    "# Plot both data sets\n",
    "plt.plot(X, y, color='blue',\n",
    "         linewidth=1)\n",
    "plt.plot(X, olm.predict(X), color='green',\n",
    "         linewidth=1)\n",
    "\n",
    "# Add decorations\n",
    "plt.title(\"Açude de Boqueirão - 2017 (Depois da Recarga do São Francisco)\")\n",
    "plt.xlabel(\"Dia\")\n",
    "plt.ylabel(\"Volume (%)\")\n",
    "plt.legend([\"Atual\", \"Previsto\",], loc=\"lower right\")\n",
    "print('reta de regressão')\n",
    "print(' y = {0} * x + {1}'.format(a, b))\n",
    "plt.show()"
   ]
  },
  {
   "cell_type": "code",
   "execution_count": 21,
   "metadata": {},
   "outputs": [
    {
     "data": {
      "text/plain": [
       "[2.7134899948536337, 2.7567656920344037, 2.8000413892151736]"
      ]
     },
     "execution_count": 21,
     "metadata": {},
     "output_type": "execute_result"
    }
   ],
   "source": [
    "list(olm.predict(X))[:3]"
   ]
  },
  {
   "cell_type": "code",
   "execution_count": 22,
   "metadata": {},
   "outputs": [],
   "source": [
    "import numpy as np"
   ]
  },
  {
   "cell_type": "code",
   "execution_count": 23,
   "metadata": {},
   "outputs": [
    {
     "data": {
      "text/plain": [
       "363"
      ]
     },
     "execution_count": 23,
     "metadata": {},
     "output_type": "execute_result"
    }
   ],
   "source": [
    "numero_de_dias_observados"
   ]
  },
  {
   "cell_type": "code",
   "execution_count": 24,
   "metadata": {},
   "outputs": [
    {
     "data": {
      "text/plain": [
       "array(453)"
      ]
     },
     "execution_count": 24,
     "metadata": {},
     "output_type": "execute_result"
    }
   ],
   "source": [
    "dados3meses = np.array(numero_de_dias_observados + 90)\n",
    "dados3meses"
   ]
  },
  {
   "cell_type": "code",
   "execution_count": 25,
   "metadata": {},
   "outputs": [
    {
     "data": {
      "text/plain": [
       "22.27410512056167"
      ]
     },
     "execution_count": 25,
     "metadata": {},
     "output_type": "execute_result"
    }
   ],
   "source": [
    "olm.predict(dados3meses)[0]"
   ]
  },
  {
   "cell_type": "code",
   "execution_count": 26,
   "metadata": {},
   "outputs": [
    {
     "name": "stdout",
     "output_type": "stream",
     "text": [
      "Volume Boqueirão depois de um ano =  34.17 %\n"
     ]
    }
   ],
   "source": [
    "# predicao para 1 ano\n",
    "dados = np.array(numero_de_dias_observados + 365)\n",
    "pred = olm.predict(dados)[0] \n",
    "print (\"Volume Boqueirão depois de um ano = %6.2f %%\" % (pred))"
   ]
  },
  {
   "cell_type": "code",
   "execution_count": 27,
   "metadata": {},
   "outputs": [
    {
     "name": "stdout",
     "output_type": "stream",
     "text": [
      "Volume Boqueirão depois de dois anos =  65.68 %\n"
     ]
    }
   ],
   "source": [
    "# predicao para 2 anos\n",
    "dados = np.array((numero_de_dias_observados+365)*2).reshape(1, -1)\n",
    "pred = olm.predict(dados)[0]  \n",
    "\n",
    "print (\"Volume Boqueirão depois de dois anos = %6.2f %%\" % (pred))"
   ]
  },
  {
   "cell_type": "code",
   "execution_count": 28,
   "metadata": {},
   "outputs": [
    {
     "name": "stdout",
     "output_type": "stream",
     "text": [
      "Volume Boqueirão depois de 1 ano(s) -> 34.17%\n",
      "Volume Boqueirão depois de 2 ano(s) -> 65.68%\n",
      "Volume Boqueirão depois de 3 ano(s) -> 97.18%\n",
      "Volume Boqueirão depois de 4 ano(s) -> 128.69%\n"
     ]
    }
   ],
   "source": [
    "# predicao até verter água-sangrar\n",
    "ano = 1\n",
    "while (True):\n",
    "    anopred = np.array([(numero_de_dias_observados + 365)*ano]).reshape(1, -1)\n",
    "    #print(anopred/365, anopred, ano)\n",
    "    pred = olm.predict(anopred)[0]  \n",
    "    if pred >= 100:\n",
    "        break\n",
    "    print (\"Volume Boqueirão depois de %d ano(s) -> %-5.2f%%\" % (ano,pred))\n",
    "    ano = ano +  1\n",
    "print (\"Volume Boqueirão depois de %d ano(s) -> %-5.2f%%\" % (ano,pred))"
   ]
  },
  {
   "cell_type": "markdown",
   "metadata": {},
   "source": [
    "### Com os dados de recarga do São Francisco e dados de chuva, representados pelo Volume diário, <br /> O Açude de Boqueirão encherá em 3 anos (2021)"
   ]
  },
  {
   "cell_type": "markdown",
   "metadata": {},
   "source": [
    "---"
   ]
  },
  {
   "cell_type": "markdown",
   "metadata": {},
   "source": [
    "# Usando Redes Neurais para prever - Multi-layer Perceptron regressor"
   ]
  },
  {
   "cell_type": "code",
   "execution_count": 29,
   "metadata": {},
   "outputs": [],
   "source": [
    "from sklearn.neural_network import MLPRegressor"
   ]
  },
  {
   "cell_type": "code",
   "execution_count": 30,
   "metadata": {},
   "outputs": [
    {
     "data": {
      "text/html": [
       "<div>\n",
       "<style scoped>\n",
       "    .dataframe tbody tr th:only-of-type {\n",
       "        vertical-align: middle;\n",
       "    }\n",
       "\n",
       "    .dataframe tbody tr th {\n",
       "        vertical-align: top;\n",
       "    }\n",
       "\n",
       "    .dataframe thead th {\n",
       "        text-align: right;\n",
       "    }\n",
       "</style>\n",
       "<table border=\"1\" class=\"dataframe\">\n",
       "  <thead>\n",
       "    <tr style=\"text-align: right;\">\n",
       "      <th></th>\n",
       "      <th>Data do registro</th>\n",
       "      <th>Volume (%)</th>\n",
       "      <th>Volume (m³)</th>\n",
       "      <th>Aporte (m²)</th>\n",
       "    </tr>\n",
       "  </thead>\n",
       "  <tbody>\n",
       "    <tr>\n",
       "      <th>0</th>\n",
       "      <td>2017-05-03</td>\n",
       "      <td>3.65</td>\n",
       "      <td>15030385.92</td>\n",
       "      <td>282269.44</td>\n",
       "    </tr>\n",
       "    <tr>\n",
       "      <th>1</th>\n",
       "      <td>2017-05-04</td>\n",
       "      <td>3.74</td>\n",
       "      <td>15383222.72</td>\n",
       "      <td>352836.80</td>\n",
       "    </tr>\n",
       "    <tr>\n",
       "      <th>2</th>\n",
       "      <td>2017-05-05</td>\n",
       "      <td>3.81</td>\n",
       "      <td>15700775.84</td>\n",
       "      <td>317553.12</td>\n",
       "    </tr>\n",
       "    <tr>\n",
       "      <th>3</th>\n",
       "      <td>2017-05-06</td>\n",
       "      <td>3.89</td>\n",
       "      <td>16018328.96</td>\n",
       "      <td>317553.12</td>\n",
       "    </tr>\n",
       "    <tr>\n",
       "      <th>4</th>\n",
       "      <td>2017-05-07</td>\n",
       "      <td>3.98</td>\n",
       "      <td>16371165.76</td>\n",
       "      <td>352836.80</td>\n",
       "    </tr>\n",
       "  </tbody>\n",
       "</table>\n",
       "</div>"
      ],
      "text/plain": [
       "  Data do registro  Volume (%)  Volume (m³)  Aporte (m²)\n",
       "0       2017-05-03        3.65  15030385.92    282269.44\n",
       "1       2017-05-04        3.74  15383222.72    352836.80\n",
       "2       2017-05-05        3.81  15700775.84    317553.12\n",
       "3       2017-05-06        3.89  16018328.96    317553.12\n",
       "4       2017-05-07        3.98  16371165.76    352836.80"
      ]
     },
     "execution_count": 30,
     "metadata": {},
     "output_type": "execute_result"
    }
   ],
   "source": [
    "df.head()"
   ]
  },
  {
   "cell_type": "code",
   "execution_count": 31,
   "metadata": {},
   "outputs": [
    {
     "data": {
      "text/html": [
       "<div>\n",
       "<style scoped>\n",
       "    .dataframe tbody tr th:only-of-type {\n",
       "        vertical-align: middle;\n",
       "    }\n",
       "\n",
       "    .dataframe tbody tr th {\n",
       "        vertical-align: top;\n",
       "    }\n",
       "\n",
       "    .dataframe thead th {\n",
       "        text-align: right;\n",
       "    }\n",
       "</style>\n",
       "<table border=\"1\" class=\"dataframe\">\n",
       "  <thead>\n",
       "    <tr style=\"text-align: right;\">\n",
       "      <th></th>\n",
       "      <th>Data do registro</th>\n",
       "      <th>Volume (%)</th>\n",
       "      <th>Volume (m³)</th>\n",
       "      <th>Aporte (m²)</th>\n",
       "    </tr>\n",
       "  </thead>\n",
       "  <tbody>\n",
       "    <tr>\n",
       "      <th>358</th>\n",
       "      <td>2018-04-27</td>\n",
       "      <td>34.91</td>\n",
       "      <td>1.437192e+08</td>\n",
       "      <td>1104342.24</td>\n",
       "    </tr>\n",
       "    <tr>\n",
       "      <th>359</th>\n",
       "      <td>2018-04-28</td>\n",
       "      <td>35.04</td>\n",
       "      <td>1.442714e+08</td>\n",
       "      <td>552171.12</td>\n",
       "    </tr>\n",
       "    <tr>\n",
       "      <th>360</th>\n",
       "      <td>2018-04-29</td>\n",
       "      <td>35.13</td>\n",
       "      <td>1.446395e+08</td>\n",
       "      <td>368114.08</td>\n",
       "    </tr>\n",
       "    <tr>\n",
       "      <th>361</th>\n",
       "      <td>2018-04-30</td>\n",
       "      <td>35.13</td>\n",
       "      <td>1.446395e+08</td>\n",
       "      <td>0.00</td>\n",
       "    </tr>\n",
       "    <tr>\n",
       "      <th>362</th>\n",
       "      <td>2018-05-01</td>\n",
       "      <td>35.40</td>\n",
       "      <td>1.457439e+08</td>\n",
       "      <td>1104342.24</td>\n",
       "    </tr>\n",
       "  </tbody>\n",
       "</table>\n",
       "</div>"
      ],
      "text/plain": [
       "    Data do registro  Volume (%)   Volume (m³)  Aporte (m²)\n",
       "358       2018-04-27       34.91  1.437192e+08   1104342.24\n",
       "359       2018-04-28       35.04  1.442714e+08    552171.12\n",
       "360       2018-04-29       35.13  1.446395e+08    368114.08\n",
       "361       2018-04-30       35.13  1.446395e+08         0.00\n",
       "362       2018-05-01       35.40  1.457439e+08   1104342.24"
      ]
     },
     "execution_count": 31,
     "metadata": {},
     "output_type": "execute_result"
    }
   ],
   "source": [
    "df.tail()"
   ]
  },
  {
   "cell_type": "code",
   "execution_count": 32,
   "metadata": {},
   "outputs": [
    {
     "data": {
      "text/plain": [
       "array([[1],\n",
       "       [2],\n",
       "       [3]])"
      ]
     },
     "execution_count": 32,
     "metadata": {},
     "output_type": "execute_result"
    }
   ],
   "source": [
    "X[:3]"
   ]
  },
  {
   "cell_type": "code",
   "execution_count": 33,
   "metadata": {},
   "outputs": [
    {
     "data": {
      "text/plain": [
       "Data do registro\n",
       "2017-05-03    3.65\n",
       "2017-05-04    3.74\n",
       "2017-05-05    3.81\n",
       "Name: Volume (%), dtype: float64"
      ]
     },
     "execution_count": 33,
     "metadata": {},
     "output_type": "execute_result"
    }
   ],
   "source": [
    "y[:3]"
   ]
  },
  {
   "cell_type": "markdown",
   "metadata": {},
   "source": [
    "# Usando Redes Neurais"
   ]
  },
  {
   "cell_type": "markdown",
   "metadata": {},
   "source": [
    "### ‘lbfgs’ is an optimizer in the family of quasi-Newton methods."
   ]
  },
  {
   "cell_type": "code",
   "execution_count": 34,
   "metadata": {},
   "outputs": [
    {
     "data": {
      "text/plain": [
       "0.9690094396781803"
      ]
     },
     "execution_count": 34,
     "metadata": {},
     "output_type": "execute_result"
    }
   ],
   "source": [
    "from sklearn.neural_network import MLPRegressor\n",
    "nn = MLPRegressor(\n",
    "    hidden_layer_sizes=(100,100,100,100,100,100),  activation='relu', solver='lbfgs', alpha=0.001, batch_size='auto',\n",
    "    learning_rate='constant', learning_rate_init=0.001, power_t=0.5, max_iter=1000000, shuffle=True,\n",
    "    random_state=0, tol=0.0001, verbose=False, warm_start=False, momentum=0.9, nesterovs_momentum=True,\n",
    "    early_stopping=False, validation_fraction=0.1, beta_1=0.9, beta_2=0.999, epsilon=1e-08)\n",
    "model = nn\n",
    "model\n",
    "model.fit(X,y.values)\n",
    "\n",
    "from sklearn.metrics import r2_score\n",
    "y_pred = model.predict(X)\n",
    "r2_score(y.values,y_pred) "
   ]
  },
  {
   "cell_type": "code",
   "execution_count": 35,
   "metadata": {},
   "outputs": [
    {
     "data": {
      "image/png": "[encoded data removed]",
      "text/plain": [
       "<matplotlib.figure.Figure at 0x1a1e3b82e8>"
      ]
     },
     "metadata": {},
     "output_type": "display_data"
    }
   ],
   "source": [
    "matplotlib.style.use(\"ggplot\")\n",
    "plt.figure(figsize=(15,8))\n",
    "\n",
    "# Plot both data sets\n",
    "plt.plot(X, y, color='blue',\n",
    "         linewidth=1)\n",
    "plt.plot(X, model.predict(X), color='green',\n",
    "         linewidth=1)\n",
    "\n",
    "# Add decorations\n",
    "plt.title(\"Açude de Boqueirão - 2017 (Depois da Recarga do São Francisco)\")\n",
    "plt.xlabel(\"Dia\")\n",
    "plt.ylabel(\"Volume (%)\")\n",
    "plt.legend([\"Atual\", \"Previsto\",], loc=\"lower right\")\n",
    "plt.show()"
   ]
  },
  {
   "cell_type": "code",
   "execution_count": 36,
   "metadata": {},
   "outputs": [
    {
     "name": "stdout",
     "output_type": "stream",
     "text": [
      "Volume Boqueirão depois de 0 ano(s) -> 33.80%\n",
      "Volume Boqueirão depois de 1 ano(s) -> 193.31%\n"
     ]
    }
   ],
   "source": [
    "# predicao até verter água-sangrar\n",
    "ano=0\n",
    "print (\"Volume Boqueirão depois de %d ano(s) -> %-5.2f%%\" % (ano,model.predict(numero_de_dias_observados)))\n",
    "ano = 1\n",
    "while (True):\n",
    "    anopred = np.array([(numero_de_dias_observados + 365)*ano]).reshape(1, -1)\n",
    "    #print(anopred/365, anopred, ano)\n",
    "    pred = model.predict(anopred)[0]  \n",
    "    if pred >= 100:\n",
    "        break\n",
    "    print (\"Volume Boqueirão depois de %d ano(s) -> %-5.2f%%\" % (ano,pred))\n",
    "    ano = ano +  1\n",
    "print (\"Volume Boqueirão depois de %d ano(s) -> %-5.2f%%\" % (ano,pred))"
   ]
  },
  {
   "cell_type": "markdown",
   "metadata": {},
   "source": [
    "### Utilizando Redes Neurais, Com os dados de recarga do São Francisco e dados de chuva, <br /> representados pelo Volume diário, <br />O Açude de Boqueirão encherá em 1 ano e alguns meses (2019)"
   ]
  },
  {
   "cell_type": "markdown",
   "metadata": {},
   "source": [
    "---"
   ]
  },
  {
   "cell_type": "markdown",
   "metadata": {},
   "source": [
    "# Usando Redes Neurais para prever - Tunning de parâmetros"
   ]
  },
  {
   "cell_type": "code",
   "execution_count": 37,
   "metadata": {},
   "outputs": [
    {
     "data": {
      "text/plain": [
       "0.5381408249768259"
      ]
     },
     "execution_count": 37,
     "metadata": {},
     "output_type": "execute_result"
    }
   ],
   "source": [
    "from sklearn.neural_network import MLPRegressor\n",
    "nn = MLPRegressor(\n",
    "    hidden_layer_sizes=(100,100,100,100,100,100),  activation='relu', solver='adam', alpha=0.001, batch_size='auto',\n",
    "    learning_rate='constant', learning_rate_init=0.002, power_t=0.5, max_iter=1000000, shuffle=True,\n",
    "    random_state=0, tol=0.0001, verbose=False, warm_start=False, momentum=0.9, nesterovs_momentum=True,\n",
    "    early_stopping=False, validation_fraction=0.1, beta_1=0.9, beta_2=0.999, epsilon=1e-08)\n",
    "model = nn\n",
    "model\n",
    "model.fit(X,y.values)\n",
    "\n",
    "from sklearn.metrics import r2_score\n",
    "y_pred = model.predict(X)\n",
    "r2_score(y.values,y_pred) "
   ]
  },
  {
   "cell_type": "code",
   "execution_count": 38,
   "metadata": {},
   "outputs": [
    {
     "data": {
      "image/png": "[encoded data removed]",
      "text/plain": [
       "<matplotlib.figure.Figure at 0x1a1e3da668>"
      ]
     },
     "metadata": {},
     "output_type": "display_data"
    }
   ],
   "source": [
    "matplotlib.style.use(\"ggplot\")\n",
    "plt.figure(figsize=(15,8))\n",
    "\n",
    "# Plot both data sets\n",
    "plt.plot(X, y, color='blue',\n",
    "         linewidth=1)\n",
    "plt.plot(X, model.predict(X), color='green',\n",
    "         linewidth=1)\n",
    "\n",
    "# Add decorations\n",
    "plt.title(\"Açude de Boqueirão - 2017 (Depois da Recarga do São Francisco)\")\n",
    "plt.xlabel(\"Dia\")\n",
    "plt.ylabel(\"Volume (%)\")\n",
    "plt.legend([\"Atual\", \"Previsto\",], loc=\"lower right\")\n",
    "plt.show()"
   ]
  },
  {
   "cell_type": "code",
   "execution_count": 39,
   "metadata": {},
   "outputs": [
    {
     "name": "stdout",
     "output_type": "stream",
     "text": [
      "Volume Boqueirão depois de 0 ano(s) -> 19.47%\n",
      "Volume Boqueirão depois de 1 ano(s) -> 38.65%\n",
      "Volume Boqueirão depois de 2 ano(s) -> 76.89%\n",
      "Volume Boqueirão depois de 3 ano(s) -> 115.13%\n"
     ]
    }
   ],
   "source": [
    "# predicao até verter água-sangrar\n",
    "ano=0\n",
    "print (\"Volume Boqueirão depois de %d ano(s) -> %-5.2f%%\" % (ano,model.predict(numero_de_dias_observados)))\n",
    "ano = 1\n",
    "while (True):\n",
    "    anopred = np.array([(numero_de_dias_observados + 365)*ano]).reshape(1, -1)\n",
    "    #print(anopred/365, anopred, ano)\n",
    "    pred = model.predict(anopred)[0]  \n",
    "    if pred >= 100:\n",
    "        break\n",
    "    print (\"Volume Boqueirão depois de %d ano(s) -> %-5.2f%%\" % (ano,pred))\n",
    "    ano = ano +  1\n",
    "print (\"Volume Boqueirão depois de %d ano(s) -> %-5.2f%%\" % (ano,pred))"
   ]
  },
  {
   "cell_type": "markdown",
   "metadata": {},
   "source": [
    "### Utilizando Redes Neurais, Com os dados de recarga do São Francisco e dados de chuva, representados pelo Volume diário, <br /> O Açude de Boqueirão encherá em pouco menos de 3 anos (2020)"
   ]
  },
  {
   "cell_type": "markdown",
   "metadata": {},
   "source": [
    "---"
   ]
  }
 ],
 "metadata": {
  "anaconda-cloud": {},
  "kernelspec": {
   "display_name": "Python 3",
   "language": "python",
   "name": "python3"
  },
  "language_info": {
   "codemirror_mode": {
    "name": "ipython",
    "version": 3
   },
   "file_extension": ".py",
   "mimetype": "text/x-python",
   "name": "python",
   "nbconvert_exporter": "python",
   "pygments_lexer": "ipython3",
   "version": "3.6.4"
  }
 },
 "nbformat": 4,
 "nbformat_minor": 1
}
