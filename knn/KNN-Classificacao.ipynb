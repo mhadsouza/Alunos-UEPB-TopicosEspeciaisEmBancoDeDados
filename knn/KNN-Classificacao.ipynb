{
 "cells": [
  {
   "cell_type": "markdown",
   "metadata": {},
   "source": [
    "#  Classificação KNN"
   ]
  },
  {
   "cell_type": "markdown",
   "metadata": {},
   "source": [
    "O KNN é um dos algoritmos mais simples para Machine Learning, sendo um algoritmo do tipo \"lazy\", ou seja, nenhuma computação é realizada no dataset até que um novo ponto de dado seja alvo de teste."
   ]
  },
  {
   "cell_type": "code",
   "execution_count": null,
   "metadata": {
    "collapsed": true
   },
   "outputs": [],
   "source": [
    "import pandas as pd\n",
    "import matplotlib.pyplot as plt"
   ]
  },
  {
   "cell_type": "code",
   "execution_count": null,
   "metadata": {},
   "outputs": [],
   "source": [
    "df = pd.read_excel(\"logi1.xlsx\")\n",
    "df.head()"
   ]
  },
  {
   "cell_type": "code",
   "execution_count": null,
   "metadata": {},
   "outputs": [],
   "source": [
    "plt.scatter(df.index, df['Score'], c = df['Accepted'].astype('category').cat.codes)\n",
    "plt.xlabel('Provas Alunos')\n",
    "plt.ylabel('Score')\n",
    "plt.show()"
   ]
  },
  {
   "cell_type": "markdown",
   "metadata": {},
   "source": [
    "### Preparação do dados"
   ]
  },
  {
   "cell_type": "code",
   "execution_count": null,
   "metadata": {},
   "outputs": [],
   "source": [
    "X = df[\"Score\"].values.reshape(-1, 1)\n",
    "y = df[\"Accepted\"]"
   ]
  },
  {
   "cell_type": "code",
   "execution_count": null,
   "metadata": {},
   "outputs": [],
   "source": [
    "print(X[:3])\n",
    "print(y[:3])"
   ]
  },
  {
   "cell_type": "markdown",
   "metadata": {},
   "source": [
    "### Aplicacao do modelo"
   ]
  },
  {
   "cell_type": "code",
   "execution_count": null,
   "metadata": {},
   "outputs": [],
   "source": [
    "from sklearn.neighbors import KNeighborsClassifier"
   ]
  },
  {
   "cell_type": "code",
   "execution_count": null,
   "metadata": {
    "collapsed": true
   },
   "outputs": [],
   "source": [
    "modelo = KNeighborsClassifier(n_neighbors=5)"
   ]
  },
  {
   "cell_type": "code",
   "execution_count": null,
   "metadata": {},
   "outputs": [],
   "source": [
    "modelo.fit(X,y)"
   ]
  },
  {
   "cell_type": "markdown",
   "metadata": {},
   "source": [
    "### uso do modelo"
   ]
  },
  {
   "cell_type": "markdown",
   "metadata": {},
   "source": [
    "#### modelo.predict()  retornará 1 ou 0 – (Accepted or Not)"
   ]
  },
  {
   "cell_type": "code",
   "execution_count": null,
   "metadata": {},
   "outputs": [],
   "source": [
    "modelo.predict(1200)"
   ]
  },
  {
   "cell_type": "code",
   "execution_count": null,
   "metadata": {},
   "outputs": [],
   "source": [
    "modelo.predict_proba(1200) # (40% de chance de não ser Aceito(0), 60% chance de ser  Aceito(1))"
   ]
  },
  {
   "cell_type": "code",
   "execution_count": null,
   "metadata": {},
   "outputs": [],
   "source": [
    "modelo.predict(1400)"
   ]
  },
  {
   "cell_type": "code",
   "execution_count": null,
   "metadata": {},
   "outputs": [],
   "source": [
    "modelo.predict(550)"
   ]
  },
  {
   "cell_type": "code",
   "execution_count": null,
   "metadata": {},
   "outputs": [],
   "source": [
    "modelo.predict_proba(1400)"
   ]
  },
  {
   "cell_type": "code",
   "execution_count": null,
   "metadata": {},
   "outputs": [],
   "source": [
    "modelo.predict_proba(550)"
   ]
  },
  {
   "cell_type": "code",
   "execution_count": null,
   "metadata": {
    "collapsed": true
   },
   "outputs": [],
   "source": []
  },
  {
   "cell_type": "markdown",
   "metadata": {},
   "source": [
    "## *** KNN - dados do Titanic***"
   ]
  },
  {
   "cell_type": "code",
   "execution_count": null,
   "metadata": {},
   "outputs": [],
   "source": [
    "df = pd.read_csv(\"titanic_train.csv\")\n",
    "df.head()"
   ]
  },
  {
   "cell_type": "code",
   "execution_count": null,
   "metadata": {},
   "outputs": [],
   "source": [
    "df['fsex'] = df.apply(lambda row: 0 if row['Sex'] == \"male\" else 1, axis=1)\n",
    "df.head()"
   ]
  },
  {
   "cell_type": "markdown",
   "metadata": {},
   "source": [
    "### pclass- Ticket class 1 = 1st, 2 = 2nd, 3 = 3rd\n",
    "### Survived: 0 = No, 1 = Yes"
   ]
  },
  {
   "cell_type": "code",
   "execution_count": null,
   "metadata": {},
   "outputs": [],
   "source": [
    "print(\"Número de passageiros= \",len(df))"
   ]
  },
  {
   "cell_type": "code",
   "execution_count": null,
   "metadata": {},
   "outputs": [],
   "source": [
    "plt.scatter(   df.index, df.Age, c = df['Survived'].astype('category').cat.codes);\n",
    "plt.xlabel('# passagers')\n",
    "plt.ylabel('Age');\n",
    "plt.show()"
   ]
  },
  {
   "cell_type": "code",
   "execution_count": null,
   "metadata": {
    "collapsed": true
   },
   "outputs": [],
   "source": [
    "X = df[\"Pclass\"].values.reshape(-1, 1)\n",
    "y = df[\"Survived\"]"
   ]
  },
  {
   "cell_type": "code",
   "execution_count": null,
   "metadata": {
    "collapsed": true
   },
   "outputs": [],
   "source": [
    "modelo = KNeighborsClassifier(n_neighbors=5)"
   ]
  },
  {
   "cell_type": "code",
   "execution_count": null,
   "metadata": {},
   "outputs": [],
   "source": [
    "modelo.fit(X,y)"
   ]
  },
  {
   "cell_type": "code",
   "execution_count": null,
   "metadata": {},
   "outputs": [],
   "source": [
    "modelo.predict(2)"
   ]
  },
  {
   "cell_type": "code",
   "execution_count": null,
   "metadata": {},
   "outputs": [],
   "source": [
    "modelo.predict_proba(2)"
   ]
  },
  {
   "cell_type": "code",
   "execution_count": null,
   "metadata": {
    "collapsed": true
   },
   "outputs": [],
   "source": [
    "# modelo 2 - com idade\n",
    "import numpy as np"
   ]
  },
  {
   "cell_type": "code",
   "execution_count": null,
   "metadata": {},
   "outputs": [],
   "source": [
    "# remover valores missing de idade- nan\n",
    "df = df[df.Age != np.NaN]\n",
    "df.head()"
   ]
  },
  {
   "cell_type": "code",
   "execution_count": null,
   "metadata": {},
   "outputs": [],
   "source": [
    "len(df)"
   ]
  },
  {
   "cell_type": "code",
   "execution_count": null,
   "metadata": {},
   "outputs": [],
   "source": [
    "# remover valores missing - nan\n",
    "df = df.dropna(axis=0, how='any')\n",
    "len(df)"
   ]
  },
  {
   "cell_type": "code",
   "execution_count": null,
   "metadata": {
    "collapsed": true
   },
   "outputs": [],
   "source": [
    "X = df[\"Age\"].values.reshape(-1, 1)\n",
    "y = df[\"Survived\"]"
   ]
  },
  {
   "cell_type": "code",
   "execution_count": null,
   "metadata": {},
   "outputs": [],
   "source": [
    "modelo = KNeighborsClassifier(n_neighbors=5)\n",
    "modelo.fit(X,y)"
   ]
  },
  {
   "cell_type": "code",
   "execution_count": null,
   "metadata": {},
   "outputs": [],
   "source": [
    "modelo.predict(30)"
   ]
  },
  {
   "cell_type": "code",
   "execution_count": null,
   "metadata": {},
   "outputs": [],
   "source": [
    "modelo.predict_proba(30)"
   ]
  },
  {
   "cell_type": "code",
   "execution_count": null,
   "metadata": {},
   "outputs": [],
   "source": [
    "modelo.predict_proba(10)"
   ]
  },
  {
   "cell_type": "code",
   "execution_count": null,
   "metadata": {},
   "outputs": [],
   "source": [
    "modelo.predict(50)"
   ]
  },
  {
   "cell_type": "code",
   "execution_count": null,
   "metadata": {},
   "outputs": [],
   "source": [
    "modelo.predict_proba(50)"
   ]
  },
  {
   "cell_type": "code",
   "execution_count": null,
   "metadata": {},
   "outputs": [],
   "source": [
    "modelo.predict_proba(60)"
   ]
  },
  {
   "cell_type": "code",
   "execution_count": null,
   "metadata": {
    "collapsed": true
   },
   "outputs": [],
   "source": [
    "# modelo 3 - fare (valor do ticket)"
   ]
  },
  {
   "cell_type": "code",
   "execution_count": null,
   "metadata": {},
   "outputs": [],
   "source": [
    "df = pd.read_csv(\"titanic_train.csv\")\n",
    "df.head()"
   ]
  },
  {
   "cell_type": "code",
   "execution_count": null,
   "metadata": {},
   "outputs": [],
   "source": [
    "df.describe()"
   ]
  },
  {
   "cell_type": "code",
   "execution_count": null,
   "metadata": {
    "collapsed": true
   },
   "outputs": [],
   "source": [
    "X = df[\"Fare\"].values.reshape(-1, 1)\n",
    "y = df[\"Survived\"]"
   ]
  },
  {
   "cell_type": "code",
   "execution_count": null,
   "metadata": {},
   "outputs": [],
   "source": [
    "modelo = KNeighborsClassifier(n_neighbors=5)\n",
    "modelo.fit(X,y)"
   ]
  },
  {
   "cell_type": "code",
   "execution_count": null,
   "metadata": {},
   "outputs": [],
   "source": [
    "modelo.predict(10)"
   ]
  },
  {
   "cell_type": "code",
   "execution_count": null,
   "metadata": {},
   "outputs": [],
   "source": [
    "modelo.predict_proba(10)"
   ]
  },
  {
   "cell_type": "code",
   "execution_count": null,
   "metadata": {},
   "outputs": [],
   "source": [
    "valor = 200 # 56\n",
    "print(modelo.predict(valor), modelo.predict_proba(valor))"
   ]
  },
  {
   "cell_type": "markdown",
   "metadata": {},
   "source": [
    "### fim"
   ]
  },
  {
   "cell_type": "markdown",
   "metadata": {},
   "source": [
    "## Normalizar os dados (Usar mais de uma variável preditora)"
   ]
  },
  {
   "cell_type": "code",
   "execution_count": null,
   "metadata": {},
   "outputs": [],
   "source": [
    "df = pd.read_excel(\"dados.xlsx\")\n",
    "df"
   ]
  },
  {
   "cell_type": "markdown",
   "metadata": {},
   "source": [
    "### Normalizacao de dados - forma 1"
   ]
  },
  {
   "cell_type": "code",
   "execution_count": null,
   "metadata": {},
   "outputs": [],
   "source": [
    "df_norm = (df - df.mean()) / (df.max() - df.min())\n",
    "df_norm"
   ]
  },
  {
   "cell_type": "markdown",
   "metadata": {},
   "source": [
    "### Normalizacao de dados - forma 2"
   ]
  },
  {
   "cell_type": "code",
   "execution_count": null,
   "metadata": {},
   "outputs": [],
   "source": [
    "from sklearn import preprocessing\n",
    "\n",
    "min_max_scaler = preprocessing.MinMaxScaler()\n",
    "np_scaled = min_max_scaler.fit_transform(df)\n",
    "df_normalized = pd.DataFrame(np_scaled)\n",
    "df_normalized.columns = [\"Altura\", \"Peso\", \"Salario\"]\n",
    "df_normalized"
   ]
  },
  {
   "cell_type": "markdown",
   "metadata": {},
   "source": [
    "## fim"
   ]
  },
  {
   "cell_type": "code",
   "execution_count": null,
   "metadata": {},
   "outputs": [],
   "source": [
    "from sklearn import datasets\n",
    "from sklearn.cross_validation import train_test_split\n",
    "\n",
    "from sklearn.preprocessing import StandardScaler\n",
    "from sklearn.neighbors import KNeighborsClassifier\n",
    "\n",
    "import numpy as np\n",
    "import matplotlib.pyplot as plt\n",
    "from matplotlib.colors import ListedColormap\n",
    "\n",
    "def plot_decision_regions(X, y, classifier, test_idx=None, resolution=0.02):\n",
    "   # setup marker generator and color map\n",
    "   markers = ('s', 'x', 'o', '^', 'v')\n",
    "   colors = ('red', 'blue', 'lightgreen', 'gray', 'cyan')\n",
    "   cmap = ListedColormap(colors[:len(np.unique(y))])\n",
    "\n",
    "   # plot the decision surface\n",
    "   x1_min, x1_max = X[:, 0].min() - 1, X[:, 0].max() + 1\n",
    "   x2_min, x2_max = X[:, 1].min() - 1, X[:, 1].max() + 1\n",
    "   xx1, xx2 = np.meshgrid(np.arange(x1_min, x1_max, resolution),\n",
    "   np.arange(x2_min, x2_max, resolution))\n",
    "   Z = classifier.predict(np.array([xx1.ravel(), xx2.ravel()]).T)\n",
    "   Z = Z.reshape(xx1.shape)\n",
    "   plt.contourf(xx1, xx2, Z, alpha=0.4, cmap=cmap)\n",
    "   plt.xlim(xx1.min(), xx1.max())\n",
    "   plt.ylim(xx2.min(), xx2.max())\n",
    "\n",
    "   # plot all samples\n",
    "   X_test, y_test = X[test_idx, :], y[test_idx]\n",
    "   for idx, cl in enumerate(np.unique(y)):\n",
    "      plt.scatter(x=X[y == cl, 0], y=X[y == cl, 1],\n",
    "               alpha=0.8, c=cmap(idx),\n",
    "               marker=markers[idx], label=cl)\n",
    "   # highlight test samples\n",
    "   if test_idx:\n",
    "      X_test, y_test = X[test_idx, :], y[test_idx]\n",
    "      plt.scatter(X_test[:, 0], X_test[:, 1], c='',\n",
    "               alpha=1.0, linewidth=1, marker='o',\n",
    "               s=55, label='test set')\n",
    "\n",
    "iris = datasets.load_iris()\n",
    "X = iris.data[:, [2, 3]]\n",
    "y = iris.target\n",
    "\n",
    "X_train, X_test, y_train, y_test = train_test_split(X, y, test_size=0.3, random_state=0)\n",
    "\n",
    "sc = StandardScaler()\n",
    "X_train_std = sc.fit_transform(X_train)\n",
    "X_test_std = sc.fit_transform(X_test)\n",
    "\n",
    "X_combined_std = np.vstack((X_train_std, X_test_std))\n",
    "y_combined = np.hstack((y_train, y_test))\n",
    "\n",
    "knn = KNeighborsClassifier(n_neighbors=5, p=2,\n",
    "                           metric='minkowski')\n",
    "knn.fit(X_train_std, y_train)\n",
    "\n",
    "plot_decision_regions(X_combined_std, y_combined,\n",
    "                      classifier=knn, test_idx=range(105,150))\n",
    "\n",
    "plt.xlabel('petal length [cm]')\n",
    "plt.ylabel('petal width [cm]')\n",
    "plt.legend(loc='upper left')\n",
    "plt.show()"
   ]
  },
  {
   "cell_type": "code",
   "execution_count": null,
   "metadata": {
    "collapsed": true
   },
   "outputs": [],
   "source": []
  },
  {
   "cell_type": "code",
   "execution_count": null,
   "metadata": {
    "_cell_guid": "882930a8-4400-4307-a36a-caa647d2cd03",
    "_execution_state": "idle",
    "_uuid": "268592f6f249942631a867c2c57318095395252e",
    "collapsed": true
   },
   "outputs": [],
   "source": [
    "%matplotlib inline\n",
    "import numpy as np # linear algebra\n",
    "import pandas as pd # data processing, CSV file I/O (e.g. pd.read_csv)\n",
    "import matplotlib.pyplot as plt\n",
    "\n",
    "from sklearn.linear_model import LogisticRegression"
   ]
  },
  {
   "cell_type": "code",
   "execution_count": null,
   "metadata": {
    "_cell_guid": "a69f6ffe-5f4a-4eb8-94a5-2b8e5770d455",
    "_execution_state": "idle",
    "_uuid": "20bcba922d8e13d323bd3155a1a74fcae642af24"
   },
   "outputs": [],
   "source": [
    "iris = pd.read_csv('Iris.csv')"
   ]
  },
  {
   "cell_type": "code",
   "execution_count": null,
   "metadata": {
    "_cell_guid": "364ccf18-99e3-4221-bb65-75e577687b4c",
    "_execution_state": "idle",
    "_uuid": "bdac8e2b61677d03767566be82521ed365d863e9"
   },
   "outputs": [],
   "source": [
    "iris"
   ]
  },
  {
   "cell_type": "code",
   "execution_count": null,
   "metadata": {
    "_cell_guid": "f2fa5d5a-1a5d-47d4-8bae-108d54b58fce",
    "_execution_state": "idle",
    "_uuid": "ae01bf95c4f4884e9148e382c6a2316516303466"
   },
   "outputs": [],
   "source": [
    "iris['Species'] = iris['Species'].astype('category')"
   ]
  },
  {
   "cell_type": "code",
   "execution_count": null,
   "metadata": {
    "_cell_guid": "b1a74a82-fbd5-48d8-979a-2445be4d79ff",
    "_execution_state": "idle",
    "_uuid": "afa67a573a83af890132b9bd2de7cea7bce09889"
   },
   "outputs": [],
   "source": [
    "plt.scatter(iris['SepalLengthCm'], iris['SepalWidthCm'], c = iris['Species'].astype('category').cat.codes);\n",
    "plt.xlabel('Sepal length (cm)')\n",
    "plt.ylabel('Sepal width (cm)');"
   ]
  },
  {
   "cell_type": "code",
   "execution_count": null,
   "metadata": {
    "_cell_guid": "ccbabf17-7293-4c74-a318-8f574b42aebb",
    "_execution_state": "idle",
    "_uuid": "18697ecc4044f1d9fc9c3319b6099bc9908db5a8"
   },
   "outputs": [],
   "source": [
    "plt.scatter(iris['PetalLengthCm'], iris['PetalWidthCm'], c = iris['Species'].astype('category').cat.codes)\n",
    "plt.xlabel('Petal Length (cm)')\n",
    "plt.ylabel('Petal Width (cm)');"
   ]
  },
  {
   "cell_type": "code",
   "execution_count": null,
   "metadata": {
    "_cell_guid": "29bd1774-637d-44a5-a46a-15e9843555f5",
    "_execution_state": "idle",
    "_uuid": "ea8fda68a5cc4fcf7613e7e3d60d52f6d951f601"
   },
   "outputs": [],
   "source": [
    "model = LogisticRegression()"
   ]
  },
  {
   "cell_type": "code",
   "execution_count": null,
   "metadata": {
    "_cell_guid": "745136de-64b2-4208-a6c0-c73109da7518",
    "_execution_state": "idle",
    "_uuid": "977d0348ae32dc581cc884621684cb0b3ec579d3"
   },
   "outputs": [],
   "source": [
    "mask = np.random.rand(len(iris)) <= 0.8\n",
    "\n",
    "train = iris[mask]\n",
    "test = iris[~mask]"
   ]
  },
  {
   "cell_type": "code",
   "execution_count": null,
   "metadata": {
    "_cell_guid": "6d4851ea-cbbf-4d33-a605-79bfab004926",
    "_execution_state": "idle",
    "_uuid": "ec0c36de5834d6af1ad15ccc261cc93ef1f76540"
   },
   "outputs": [],
   "source": [
    "X_train = train.drop('Species', axis = 1).drop('Id', axis = 1)\n",
    "y_train = train['Species']"
   ]
  },
  {
   "cell_type": "code",
   "execution_count": null,
   "metadata": {
    "_cell_guid": "19c6958e-3f9a-4672-b9fa-cc13071569b8",
    "_execution_state": "idle",
    "_uuid": "e58c48aace3b7198e43b238c4685933b2a511ab0"
   },
   "outputs": [],
   "source": [
    "X_test = test.drop('Species', axis = 1).drop('Id', axis = 1)\n",
    "y_test = test['Species']"
   ]
  },
  {
   "cell_type": "code",
   "execution_count": null,
   "metadata": {
    "_cell_guid": "dec78fdc-19ee-4e23-9029-dcae56b0ee8e",
    "_execution_state": "idle",
    "_uuid": "698202670408e115ba711ff81ff71a8ea37b5b9e"
   },
   "outputs": [],
   "source": [
    "X_train"
   ]
  },
  {
   "cell_type": "code",
   "execution_count": null,
   "metadata": {
    "_cell_guid": "a5531e02-0f4f-4f61-b7fc-7a6c03c4dbce",
    "_execution_state": "idle",
    "_uuid": "000f0f1c4b2edff4d7ab7f9cb7f5ddd79f9bebf7"
   },
   "outputs": [],
   "source": [
    "model.fit(X_train, y_train); "
   ]
  },
  {
   "cell_type": "code",
   "execution_count": null,
   "metadata": {
    "_cell_guid": "7f77fdf9-3d60-4de5-93ab-ca52baf5dfcc",
    "_execution_state": "idle",
    "_uuid": "f38ba49384675a355a24dbfb4ed6ee05f2fb0584"
   },
   "outputs": [],
   "source": [
    "prediction = model.predict(X_test)"
   ]
  },
  {
   "cell_type": "code",
   "execution_count": null,
   "metadata": {
    "_cell_guid": "0cf00c11-ebe9-4ea2-8aac-88fe2a70ce68",
    "_execution_state": "idle",
    "_uuid": "093078997ed80f3f20183f2ce72765e2d15c0168"
   },
   "outputs": [],
   "source": [
    "import sklearn.metrics as metrics\n",
    "\n",
    "metrics.confusion_matrix(y_true = y_test, y_pred = prediction)"
   ]
  },
  {
   "cell_type": "code",
   "execution_count": null,
   "metadata": {
    "_cell_guid": "2997b373-da2e-42ac-90a6-57f6439a2881",
    "_execution_state": "idle",
    "_uuid": "659b480c21296db8b35e130addfa965363f4fb0f"
   },
   "outputs": [],
   "source": [
    "metrics.accuracy_score(y_true = y_test, y_pred = prediction)\n"
   ]
  },
  {
   "cell_type": "code",
   "execution_count": null,
   "metadata": {
    "_cell_guid": "36225625-2901-4846-8189-ef2c531358c9",
    "_execution_state": "idle",
    "_uuid": "13091cb61286a6feb8f4b6c95998e0c5d8b5b535"
   },
   "outputs": [],
   "source": [
    "len(X_train)"
   ]
  },
  {
   "cell_type": "code",
   "execution_count": null,
   "metadata": {
    "_cell_guid": "3b641cba-4377-4b7e-a8f5-ce04ccc42db7",
    "_execution_state": "idle",
    "_uuid": "131b0ff945a96337acac3d692cf418f6b3cdc1ae"
   },
   "outputs": [],
   "source": [
    "model.coef_"
   ]
  },
  {
   "cell_type": "code",
   "execution_count": null,
   "metadata": {
    "_cell_guid": "03ddea04-1f96-4be6-80ef-c48d4a5f4b79",
    "_execution_state": "idle",
    "_uuid": "700742df456602b7e2aa7ab6fce20854f3206c1b"
   },
   "outputs": [],
   "source": [
    "model.intercept_"
   ]
  },
  {
   "cell_type": "code",
   "execution_count": null,
   "metadata": {
    "_cell_guid": "6f816924-45ba-4d8c-9f59-7c0aca28124c",
    "_execution_state": "idle",
    "_uuid": "d52c62833cef8d44a63beae711cd2bbb954c6ed7"
   },
   "outputs": [],
   "source": []
  }
 ],
 "metadata": {
  "kernelspec": {
   "display_name": "Python 3",
   "language": "python",
   "name": "python3"
  },
  "language_info": {
   "codemirror_mode": {
    "name": "ipython",
    "version": 3
   },
   "file_extension": ".py",
   "mimetype": "text/x-python",
   "name": "python",
   "nbconvert_exporter": "python",
   "pygments_lexer": "ipython3",
   "version": "3.6.2"
  }
 },
 "nbformat": 4,
 "nbformat_minor": 1
}
