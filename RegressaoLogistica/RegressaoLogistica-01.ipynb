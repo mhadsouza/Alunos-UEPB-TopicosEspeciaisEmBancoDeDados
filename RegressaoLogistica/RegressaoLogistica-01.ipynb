{
 "cells": [
  {
   "cell_type": "markdown",
   "metadata": {},
   "source": [
    "# Regressão Logística"
   ]
  },
  {
   "cell_type": "markdown",
   "metadata": {},
   "source": [
    "## Dataset de Previsão e Detecção de Risco de Crédito"
   ]
  },
  {
   "cell_type": "markdown",
   "metadata": {},
   "source": [
    "Variável target ou classe:<br />\n",
    "credit.rating<br />\n",
    "1 - concedeu crédito<br />\n",
    "0 - não concedeu crédito"
   ]
  },
  {
   "cell_type": "code",
   "execution_count": 2,
   "metadata": {},
   "outputs": [],
   "source": [
    "import warnings\n",
    "warnings.filterwarnings('ignore')\n",
    "import pandas as pd\n",
    "import numpy as np\n",
    "import matplotlib.pyplot as plt\n",
    "import matplotlib as mpl\n",
    "from sklearn.linear_model import LogisticRegression\n",
    "from sklearn.cross_validation import train_test_split\n",
    "from sklearn import metrics\n",
    "from sklearn.metrics import confusion_matrix\n",
    "from sklearn.cross_validation import cross_val_score\n",
    "from sklearn.preprocessing import StandardScaler\n",
    "%matplotlib inline "
   ]
  },
  {
   "cell_type": "code",
   "execution_count": 3,
   "metadata": {},
   "outputs": [
    {
     "data": {
      "text/html": [
       "<div>\n",
       "<style scoped>\n",
       "    .dataframe tbody tr th:only-of-type {\n",
       "        vertical-align: middle;\n",
       "    }\n",
       "\n",
       "    .dataframe tbody tr th {\n",
       "        vertical-align: top;\n",
       "    }\n",
       "\n",
       "    .dataframe thead th {\n",
       "        text-align: right;\n",
       "    }\n",
       "</style>\n",
       "<table border=\"1\" class=\"dataframe\">\n",
       "  <thead>\n",
       "    <tr style=\"text-align: right;\">\n",
       "      <th></th>\n",
       "      <th>credit.rating</th>\n",
       "      <th>account.balance</th>\n",
       "      <th>credit.duration.months</th>\n",
       "      <th>previous.credit.payment.status</th>\n",
       "      <th>credit.purpose</th>\n",
       "      <th>credit.amount</th>\n",
       "      <th>savings</th>\n",
       "      <th>employment.duration</th>\n",
       "      <th>installment.rate</th>\n",
       "      <th>marital.status</th>\n",
       "      <th>...</th>\n",
       "      <th>residence.duration</th>\n",
       "      <th>current.assets</th>\n",
       "      <th>age</th>\n",
       "      <th>other.credits</th>\n",
       "      <th>apartment.type</th>\n",
       "      <th>bank.credits</th>\n",
       "      <th>occupation</th>\n",
       "      <th>dependents</th>\n",
       "      <th>telephone</th>\n",
       "      <th>foreign.worker</th>\n",
       "    </tr>\n",
       "  </thead>\n",
       "  <tbody>\n",
       "    <tr>\n",
       "      <th>0</th>\n",
       "      <td>1</td>\n",
       "      <td>1</td>\n",
       "      <td>18</td>\n",
       "      <td>3</td>\n",
       "      <td>2</td>\n",
       "      <td>1049</td>\n",
       "      <td>1</td>\n",
       "      <td>1</td>\n",
       "      <td>4</td>\n",
       "      <td>1</td>\n",
       "      <td>...</td>\n",
       "      <td>4</td>\n",
       "      <td>2</td>\n",
       "      <td>21</td>\n",
       "      <td>2</td>\n",
       "      <td>1</td>\n",
       "      <td>1</td>\n",
       "      <td>3</td>\n",
       "      <td>1</td>\n",
       "      <td>1</td>\n",
       "      <td>1</td>\n",
       "    </tr>\n",
       "    <tr>\n",
       "      <th>1</th>\n",
       "      <td>1</td>\n",
       "      <td>1</td>\n",
       "      <td>9</td>\n",
       "      <td>3</td>\n",
       "      <td>4</td>\n",
       "      <td>2799</td>\n",
       "      <td>1</td>\n",
       "      <td>2</td>\n",
       "      <td>2</td>\n",
       "      <td>3</td>\n",
       "      <td>...</td>\n",
       "      <td>2</td>\n",
       "      <td>1</td>\n",
       "      <td>36</td>\n",
       "      <td>2</td>\n",
       "      <td>1</td>\n",
       "      <td>2</td>\n",
       "      <td>3</td>\n",
       "      <td>2</td>\n",
       "      <td>1</td>\n",
       "      <td>1</td>\n",
       "    </tr>\n",
       "    <tr>\n",
       "      <th>2</th>\n",
       "      <td>1</td>\n",
       "      <td>2</td>\n",
       "      <td>12</td>\n",
       "      <td>2</td>\n",
       "      <td>4</td>\n",
       "      <td>841</td>\n",
       "      <td>2</td>\n",
       "      <td>3</td>\n",
       "      <td>2</td>\n",
       "      <td>1</td>\n",
       "      <td>...</td>\n",
       "      <td>4</td>\n",
       "      <td>1</td>\n",
       "      <td>23</td>\n",
       "      <td>2</td>\n",
       "      <td>1</td>\n",
       "      <td>1</td>\n",
       "      <td>2</td>\n",
       "      <td>1</td>\n",
       "      <td>1</td>\n",
       "      <td>1</td>\n",
       "    </tr>\n",
       "    <tr>\n",
       "      <th>3</th>\n",
       "      <td>1</td>\n",
       "      <td>1</td>\n",
       "      <td>12</td>\n",
       "      <td>3</td>\n",
       "      <td>4</td>\n",
       "      <td>2122</td>\n",
       "      <td>1</td>\n",
       "      <td>2</td>\n",
       "      <td>3</td>\n",
       "      <td>3</td>\n",
       "      <td>...</td>\n",
       "      <td>2</td>\n",
       "      <td>1</td>\n",
       "      <td>39</td>\n",
       "      <td>2</td>\n",
       "      <td>1</td>\n",
       "      <td>2</td>\n",
       "      <td>2</td>\n",
       "      <td>2</td>\n",
       "      <td>1</td>\n",
       "      <td>2</td>\n",
       "    </tr>\n",
       "    <tr>\n",
       "      <th>4</th>\n",
       "      <td>1</td>\n",
       "      <td>1</td>\n",
       "      <td>12</td>\n",
       "      <td>3</td>\n",
       "      <td>4</td>\n",
       "      <td>2171</td>\n",
       "      <td>1</td>\n",
       "      <td>2</td>\n",
       "      <td>4</td>\n",
       "      <td>3</td>\n",
       "      <td>...</td>\n",
       "      <td>4</td>\n",
       "      <td>2</td>\n",
       "      <td>38</td>\n",
       "      <td>1</td>\n",
       "      <td>2</td>\n",
       "      <td>2</td>\n",
       "      <td>2</td>\n",
       "      <td>1</td>\n",
       "      <td>1</td>\n",
       "      <td>2</td>\n",
       "    </tr>\n",
       "  </tbody>\n",
       "</table>\n",
       "<p>5 rows × 21 columns</p>\n",
       "</div>"
      ],
      "text/plain": [
       "   credit.rating  account.balance  credit.duration.months  \\\n",
       "0              1                1                      18   \n",
       "1              1                1                       9   \n",
       "2              1                2                      12   \n",
       "3              1                1                      12   \n",
       "4              1                1                      12   \n",
       "\n",
       "   previous.credit.payment.status  credit.purpose  credit.amount  savings  \\\n",
       "0                               3               2           1049        1   \n",
       "1                               3               4           2799        1   \n",
       "2                               2               4            841        2   \n",
       "3                               3               4           2122        1   \n",
       "4                               3               4           2171        1   \n",
       "\n",
       "   employment.duration  installment.rate  marital.status       ...        \\\n",
       "0                    1                 4               1       ...         \n",
       "1                    2                 2               3       ...         \n",
       "2                    3                 2               1       ...         \n",
       "3                    2                 3               3       ...         \n",
       "4                    2                 4               3       ...         \n",
       "\n",
       "   residence.duration  current.assets  age  other.credits  apartment.type  \\\n",
       "0                   4               2   21              2               1   \n",
       "1                   2               1   36              2               1   \n",
       "2                   4               1   23              2               1   \n",
       "3                   2               1   39              2               1   \n",
       "4                   4               2   38              1               2   \n",
       "\n",
       "   bank.credits  occupation  dependents  telephone  foreign.worker  \n",
       "0             1           3           1          1               1  \n",
       "1             2           3           2          1               1  \n",
       "2             1           2           1          1               1  \n",
       "3             2           2           2          1               2  \n",
       "4             2           2           1          1               2  \n",
       "\n",
       "[5 rows x 21 columns]"
      ]
     },
     "execution_count": 3,
     "metadata": {},
     "output_type": "execute_result"
    }
   ],
   "source": [
    "df = pd.read_csv('credit_dataset_final.csv')\n",
    "df.head()"
   ]
  },
  {
   "cell_type": "code",
   "execution_count": 4,
   "metadata": {},
   "outputs": [
    {
     "data": {
      "text/plain": [
       "Index(['credit.rating', 'account.balance', 'credit.duration.months',\n",
       "       'previous.credit.payment.status', 'credit.purpose', 'credit.amount',\n",
       "       'savings', 'employment.duration', 'installment.rate', 'marital.status',\n",
       "       'guarantor', 'residence.duration', 'current.assets', 'age',\n",
       "       'other.credits', 'apartment.type', 'bank.credits', 'occupation',\n",
       "       'dependents', 'telephone', 'foreign.worker'],\n",
       "      dtype='object')"
      ]
     },
     "execution_count": 4,
     "metadata": {},
     "output_type": "execute_result"
    }
   ],
   "source": [
    "df.columns"
   ]
  },
  {
   "cell_type": "markdown",
   "metadata": {},
   "source": [
    "## Análise Exploratória"
   ]
  },
  {
   "cell_type": "code",
   "execution_count": 5,
   "metadata": {},
   "outputs": [
    {
     "data": {
      "text/plain": [
       "1    700\n",
       "0    300\n",
       "Name: credit.rating, dtype: int64"
      ]
     },
     "execution_count": 5,
     "metadata": {},
     "output_type": "execute_result"
    }
   ],
   "source": [
    "# variavél target ou classe\n",
    "df['credit.rating'].value_counts()"
   ]
  },
  {
   "cell_type": "code",
   "execution_count": 6,
   "metadata": {},
   "outputs": [
    {
     "name": "stdout",
     "output_type": "stream",
     "text": [
      "       credit.rating  account.balance  credit.duration.months  \\\n",
      "count    1000.000000      1000.000000             1000.000000   \n",
      "mean        0.700000         2.183000               20.903000   \n",
      "std         0.458487         0.835589               12.058814   \n",
      "min         0.000000         1.000000                4.000000   \n",
      "25%         0.000000         1.000000               12.000000   \n",
      "50%         1.000000         2.000000               18.000000   \n",
      "75%         1.000000         3.000000               24.000000   \n",
      "max         1.000000         3.000000               72.000000   \n",
      "\n",
      "       previous.credit.payment.status  credit.purpose  credit.amount  \\\n",
      "count                     1000.000000     1000.000000     1000.00000   \n",
      "mean                         2.292000        2.965000     3271.24800   \n",
      "std                          0.620581        0.971967     2822.75176   \n",
      "min                          1.000000        1.000000      250.00000   \n",
      "25%                          2.000000        2.000000     1365.50000   \n",
      "50%                          2.000000        3.000000     2319.50000   \n",
      "75%                          3.000000        4.000000     3972.25000   \n",
      "max                          3.000000        4.000000    18424.00000   \n",
      "\n",
      "           savings  employment.duration  installment.rate  marital.status  \\\n",
      "count  1000.000000           1000.00000       1000.000000     1000.000000   \n",
      "mean      1.874000              2.44600          2.973000        2.372000   \n",
      "std       1.196476              1.10558          1.118715        1.067125   \n",
      "min       1.000000              1.00000          1.000000        1.000000   \n",
      "25%       1.000000              2.00000          2.000000        1.000000   \n",
      "50%       1.000000              2.00000          3.000000        3.000000   \n",
      "75%       3.000000              4.00000          4.000000        3.000000   \n",
      "max       4.000000              4.00000          4.000000        4.000000   \n",
      "\n",
      "            ...        residence.duration  current.assets         age  \\\n",
      "count       ...               1000.000000     1000.000000  1000.00000   \n",
      "mean        ...                  2.845000        2.358000    35.54200   \n",
      "std         ...                  1.103718        1.050209    11.35267   \n",
      "min         ...                  1.000000        1.000000    19.00000   \n",
      "25%         ...                  2.000000        1.000000    27.00000   \n",
      "50%         ...                  3.000000        2.000000    33.00000   \n",
      "75%         ...                  4.000000        3.000000    42.00000   \n",
      "max         ...                  4.000000        4.000000    75.00000   \n",
      "\n",
      "       other.credits  apartment.type  bank.credits   occupation   dependents  \\\n",
      "count    1000.000000     1000.000000   1000.000000  1000.000000  1000.000000   \n",
      "mean        1.814000        1.928000      1.367000     2.904000     1.155000   \n",
      "std         0.389301        0.530186      0.482228     0.653614     0.362086   \n",
      "min         1.000000        1.000000      1.000000     1.000000     1.000000   \n",
      "25%         2.000000        2.000000      1.000000     3.000000     1.000000   \n",
      "50%         2.000000        2.000000      1.000000     3.000000     1.000000   \n",
      "75%         2.000000        2.000000      2.000000     3.000000     1.000000   \n",
      "max         2.000000        3.000000      2.000000     4.000000     2.000000   \n",
      "\n",
      "         telephone  foreign.worker  \n",
      "count  1000.000000     1000.000000  \n",
      "mean      1.404000        1.037000  \n",
      "std       0.490943        0.188856  \n",
      "min       1.000000        1.000000  \n",
      "25%       1.000000        1.000000  \n",
      "50%       1.000000        1.000000  \n",
      "75%       2.000000        1.000000  \n",
      "max       2.000000        2.000000  \n",
      "\n",
      "[8 rows x 21 columns]\n"
     ]
    }
   ],
   "source": [
    "print(df.describe())"
   ]
  },
  {
   "cell_type": "code",
   "execution_count": 7,
   "metadata": {},
   "outputs": [
    {
     "data": {
      "text/plain": [
       "<matplotlib.axes._subplots.AxesSubplot at 0x10ab42390>"
      ]
     },
     "execution_count": 7,
     "metadata": {},
     "output_type": "execute_result"
    },
    {
     "data": {
      "image/png": "[encoded data removed]",
      "text/plain": [
       "<matplotlib.figure.Figure at 0x10508bdd8>"
      ]
     },
     "metadata": {},
     "output_type": "display_data"
    }
   ],
   "source": [
    "import seaborn as sns\n",
    "sns.barplot(x='credit.rating',y='credit.amount', data=df)"
   ]
  },
  {
   "cell_type": "code",
   "execution_count": 8,
   "metadata": {},
   "outputs": [
    {
     "data": {
      "text/plain": [
       "<seaborn.axisgrid.FacetGrid at 0x10f3f2e48>"
      ]
     },
     "execution_count": 8,
     "metadata": {},
     "output_type": "execute_result"
    },
    {
     "data": {
      "image/png": "[encoded data removed]",
      "text/plain": [
       "<matplotlib.figure.Figure at 0x10f3f2940>"
      ]
     },
     "metadata": {},
     "output_type": "display_data"
    }
   ],
   "source": [
    "sns.factorplot(x='credit.rating', y='age', hue='credit.rating', data=df,\n",
    "                   size=6, kind=\"bar\", palette=\"muted\")"
   ]
  },
  {
   "cell_type": "code",
   "execution_count": 9,
   "metadata": {},
   "outputs": [
    {
     "data": {
      "text/plain": [
       "35.542"
      ]
     },
     "execution_count": 9,
     "metadata": {},
     "output_type": "execute_result"
    }
   ],
   "source": [
    "df.age.mean()"
   ]
  },
  {
   "cell_type": "code",
   "execution_count": 10,
   "metadata": {},
   "outputs": [
    {
     "data": {
      "text/plain": [
       "<matplotlib.axes._subplots.AxesSubplot at 0x10f4410f0>"
      ]
     },
     "execution_count": 10,
     "metadata": {},
     "output_type": "execute_result"
    },
    {
     "data": {
      "image/png": "[encoded data removed]",
      "text/plain": [
       "<matplotlib.figure.Figure at 0x105a46b00>"
      ]
     },
     "metadata": {},
     "output_type": "display_data"
    }
   ],
   "source": [
    "sns.distplot(df.age)"
   ]
  },
  {
   "cell_type": "markdown",
   "metadata": {},
   "source": [
    "## Definindo X e Y"
   ]
  },
  {
   "cell_type": "code",
   "execution_count": 11,
   "metadata": {},
   "outputs": [],
   "source": [
    "X = df.iloc[:,1:].values.astype(float)\n",
    "y = df.iloc[:,0]"
   ]
  },
  {
   "cell_type": "code",
   "execution_count": 12,
   "metadata": {},
   "outputs": [
    {
     "data": {
      "text/plain": [
       "numpy.ndarray"
      ]
     },
     "execution_count": 12,
     "metadata": {},
     "output_type": "execute_result"
    }
   ],
   "source": [
    "type(X)"
   ]
  },
  {
   "cell_type": "code",
   "execution_count": 13,
   "metadata": {},
   "outputs": [
    {
     "data": {
      "text/plain": [
       "pandas.core.series.Series"
      ]
     },
     "execution_count": 13,
     "metadata": {},
     "output_type": "execute_result"
    }
   ],
   "source": [
    "type(y)"
   ]
  },
  {
   "cell_type": "code",
   "execution_count": 14,
   "metadata": {},
   "outputs": [
    {
     "data": {
      "text/plain": [
       "array([[1.000e+00, 1.800e+01, 3.000e+00, 2.000e+00, 1.049e+03, 1.000e+00,\n",
       "        1.000e+00, 4.000e+00, 1.000e+00, 1.000e+00, 4.000e+00, 2.000e+00,\n",
       "        2.100e+01, 2.000e+00, 1.000e+00, 1.000e+00, 3.000e+00, 1.000e+00,\n",
       "        1.000e+00, 1.000e+00],\n",
       "       [1.000e+00, 9.000e+00, 3.000e+00, 4.000e+00, 2.799e+03, 1.000e+00,\n",
       "        2.000e+00, 2.000e+00, 3.000e+00, 1.000e+00, 2.000e+00, 1.000e+00,\n",
       "        3.600e+01, 2.000e+00, 1.000e+00, 2.000e+00, 3.000e+00, 2.000e+00,\n",
       "        1.000e+00, 1.000e+00],\n",
       "       [2.000e+00, 1.200e+01, 2.000e+00, 4.000e+00, 8.410e+02, 2.000e+00,\n",
       "        3.000e+00, 2.000e+00, 1.000e+00, 1.000e+00, 4.000e+00, 1.000e+00,\n",
       "        2.300e+01, 2.000e+00, 1.000e+00, 1.000e+00, 2.000e+00, 1.000e+00,\n",
       "        1.000e+00, 1.000e+00]])"
      ]
     },
     "execution_count": 14,
     "metadata": {},
     "output_type": "execute_result"
    }
   ],
   "source": [
    "X[:3]"
   ]
  },
  {
   "cell_type": "code",
   "execution_count": 15,
   "metadata": {},
   "outputs": [
    {
     "data": {
      "text/plain": [
       "0    1\n",
       "1    1\n",
       "2    1\n",
       "Name: credit.rating, dtype: int64"
      ]
     },
     "execution_count": 15,
     "metadata": {},
     "output_type": "execute_result"
    }
   ],
   "source": [
    "y[:3]"
   ]
  },
  {
   "cell_type": "markdown",
   "metadata": {},
   "source": [
    "## Preparando os dados para aplicar Regressão Logistica<br />\n",
    "## Colocando os dados em Escala"
   ]
  },
  {
   "cell_type": "code",
   "execution_count": 16,
   "metadata": {},
   "outputs": [
    {
     "data": {
      "text/plain": [
       "(1000, 20)"
      ]
     },
     "execution_count": 16,
     "metadata": {},
     "output_type": "execute_result"
    }
   ],
   "source": [
    "X.shape"
   ]
  },
  {
   "cell_type": "code",
   "execution_count": 17,
   "metadata": {},
   "outputs": [
    {
     "name": "stdout",
     "output_type": "stream",
     "text": [
      "Dataset Original\n"
     ]
    },
    {
     "data": {
      "text/plain": [
       "array([[   1,   18,    3,    2, 1049,    1,    1,    4,    1,    1,    4,\n",
       "           2,   21,    2,    1,    1,    3,    1,    1,    1],\n",
       "       [   1,    9,    3,    4, 2799,    1,    2,    2,    3,    1,    2,\n",
       "           1,   36,    2,    1,    2,    3,    2,    1,    1],\n",
       "       [   2,   12,    2,    4,  841,    2,    3,    2,    1,    1,    4,\n",
       "           1,   23,    2,    1,    1,    2,    1,    1,    1],\n",
       "       [   1,   12,    3,    4, 2122,    1,    2,    3,    3,    1,    2,\n",
       "           1,   39,    2,    1,    2,    2,    2,    1,    2],\n",
       "       [   1,   12,    3,    4, 2171,    1,    2,    4,    3,    1,    4,\n",
       "           2,   38,    1,    2,    2,    2,    1,    1,    2]])"
      ]
     },
     "execution_count": 17,
     "metadata": {},
     "output_type": "execute_result"
    }
   ],
   "source": [
    "standardization  = StandardScaler().fit(X)\n",
    "Xst = standardization.transform(X)\n",
    "\n",
    "print('Dataset Original')\n",
    "X[:5].astype(int)"
   ]
  },
  {
   "cell_type": "code",
   "execution_count": 18,
   "metadata": {},
   "outputs": [
    {
     "name": "stdout",
     "output_type": "stream",
     "text": [
      "Dataset Em Escala\n"
     ]
    },
    {
     "data": {
      "text/plain": [
       "array([[-1.41647598, -0.24085723,  1.14143673, -0.99332892, -0.78765692,\n",
       "        -0.73084383, -1.30856567,  0.91847717, -1.28634145, -0.32021217,\n",
       "         1.04698668, -0.3410551 , -1.28157308,  0.47801802, -1.75120525,\n",
       "        -0.76143209,  0.14694918, -0.42828957, -0.82331789, -0.19601428],\n",
       "       [-1.41647598, -0.9875727 ,  1.14143673,  1.06538387, -0.16738429,\n",
       "        -0.73084383, -0.40361016, -0.87018333,  0.58879186, -0.32021217,\n",
       "        -0.76597727, -1.29372298,  0.04036312,  0.47801802, -1.75120525,\n",
       "         1.31331475,  0.14694918,  2.33486893, -0.82331789, -0.19601428],\n",
       "       [-0.21911674, -0.73866754, -0.47076204,  1.06538387, -0.86138075,\n",
       "         0.10536193,  0.50134535, -0.87018333, -1.28634145, -0.32021217,\n",
       "         1.04698668, -1.29372298, -1.10531492,  0.47801802, -1.75120525,\n",
       "        -0.76143209, -1.38377145, -0.42828957, -0.82331789, -0.19601428],\n",
       "       [-1.41647598, -0.73866754,  1.14143673,  1.06538387, -0.40734119,\n",
       "        -0.73084383, -0.40361016,  0.02414692,  0.58879186, -0.32021217,\n",
       "        -0.76597727, -1.29372298,  0.30475036,  0.47801802, -1.75120525,\n",
       "         1.31331475, -1.38377145,  2.33486893, -0.82331789,  5.10166904],\n",
       "       [-1.41647598, -0.73866754,  1.14143673,  1.06538387, -0.38997355,\n",
       "        -0.73084383, -0.40361016,  0.91847717,  0.58879186, -0.32021217,\n",
       "         1.04698668, -0.3410551 ,  0.21662128, -2.09197134,  0.13586937,\n",
       "         1.31331475, -1.38377145, -0.42828957, -0.82331789,  5.10166904]])"
      ]
     },
     "execution_count": 18,
     "metadata": {},
     "output_type": "execute_result"
    }
   ],
   "source": [
    "print('Dataset Em Escala')\n",
    "Xst[:5]"
   ]
  },
  {
   "cell_type": "markdown",
   "metadata": {},
   "source": [
    "## Aplicando o Algoritmo"
   ]
  },
  {
   "cell_type": "code",
   "execution_count": 19,
   "metadata": {},
   "outputs": [
    {
     "data": {
      "text/plain": [
       "LogisticRegression(C=1.0, class_weight=None, dual=False, fit_intercept=True,\n",
       "          intercept_scaling=1, max_iter=100, multi_class='ovr', n_jobs=1,\n",
       "          penalty='l2', random_state=None, solver='liblinear', tol=0.0001,\n",
       "          verbose=0, warm_start=False)"
      ]
     },
     "execution_count": 19,
     "metadata": {},
     "output_type": "execute_result"
    }
   ],
   "source": [
    "# instantiate a logistic regression model, and fit with X and y\n",
    "model = LogisticRegression()\n",
    "model = model.fit(Xst, y)\n",
    "model"
   ]
  },
  {
   "cell_type": "markdown",
   "metadata": {},
   "source": [
    "## Avaliando A Acurácia do Modelo"
   ]
  },
  {
   "cell_type": "code",
   "execution_count": 20,
   "metadata": {},
   "outputs": [
    {
     "data": {
      "text/plain": [
       "0.775"
      ]
     },
     "execution_count": 20,
     "metadata": {},
     "output_type": "execute_result"
    }
   ],
   "source": [
    "# check the accuracy on the training set\n",
    "model.score(Xst, y)"
   ]
  },
  {
   "cell_type": "markdown",
   "metadata": {},
   "source": [
    "### Examinando os Coeficientes"
   ]
  },
  {
   "cell_type": "code",
   "execution_count": 21,
   "metadata": {},
   "outputs": [
    {
     "data": {
      "text/plain": [
       "array(['credit.rating', 'account.balance', 'credit.duration.months',\n",
       "       'previous.credit.payment.status', 'credit.purpose',\n",
       "       'credit.amount', 'savings', 'employment.duration',\n",
       "       'installment.rate', 'marital.status', 'guarantor',\n",
       "       'residence.duration', 'current.assets', 'age', 'other.credits',\n",
       "       'apartment.type', 'bank.credits', 'occupation', 'dependents',\n",
       "       'telephone', 'foreign.worker'], dtype=object)"
      ]
     },
     "execution_count": 21,
     "metadata": {},
     "output_type": "execute_result"
    }
   ],
   "source": [
    "cols = df.columns.values\n",
    "cols"
   ]
  },
  {
   "cell_type": "code",
   "execution_count": 22,
   "metadata": {},
   "outputs": [
    {
     "data": {
      "text/plain": [
       "array(['account.balance', 'credit.duration.months',\n",
       "       'previous.credit.payment.status', 'credit.purpose',\n",
       "       'credit.amount', 'savings', 'employment.duration',\n",
       "       'installment.rate', 'marital.status', 'guarantor',\n",
       "       'residence.duration', 'current.assets', 'age', 'other.credits',\n",
       "       'apartment.type', 'bank.credits', 'occupation', 'dependents',\n",
       "       'telephone', 'foreign.worker'], dtype=object)"
      ]
     },
     "execution_count": 22,
     "metadata": {},
     "output_type": "execute_result"
    }
   ],
   "source": [
    "cols_atributos = cols[1:]\n",
    "cols_atributos"
   ]
  },
  {
   "cell_type": "code",
   "execution_count": 23,
   "metadata": {},
   "outputs": [
    {
     "data": {
      "text/plain": [
       "20"
      ]
     },
     "execution_count": 23,
     "metadata": {},
     "output_type": "execute_result"
    }
   ],
   "source": [
    "len(cols_atributos)"
   ]
  },
  {
   "cell_type": "code",
   "execution_count": 24,
   "metadata": {},
   "outputs": [
    {
     "data": {
      "text/plain": [
       "array([ 0.67064222, -0.27669158,  0.36111941, -0.35777913, -0.30747001,\n",
       "        0.3676245 ,  0.2053669 , -0.29253095,  0.20036286,  0.0942617 ,\n",
       "       -0.03960407, -0.24420229,  0.09899829,  0.14170967,  0.14903121,\n",
       "       -0.08787836, -0.03044483, -0.05360281,  0.16686263,  0.24558817])"
      ]
     },
     "execution_count": 24,
     "metadata": {},
     "output_type": "execute_result"
    }
   ],
   "source": [
    "model.coef_[0]"
   ]
  },
  {
   "cell_type": "code",
   "execution_count": 25,
   "metadata": {},
   "outputs": [
    {
     "data": {
      "text/plain": [
       "20"
      ]
     },
     "execution_count": 25,
     "metadata": {},
     "output_type": "execute_result"
    }
   ],
   "source": [
    "len(model.coef_[0])"
   ]
  },
  {
   "cell_type": "code",
   "execution_count": 26,
   "metadata": {},
   "outputs": [
    {
     "data": {
      "text/plain": [
       "[['account.balance', 0.6706422196200345],\n",
       " ['credit.duration.months', -0.27669158436952535],\n",
       " ['previous.credit.payment.status', 0.36111940717998753],\n",
       " ['credit.purpose', -0.3577791330647178],\n",
       " ['credit.amount', -0.3074700082143304],\n",
       " ['savings', 0.3676245037395642],\n",
       " ['employment.duration', 0.20536689635504715],\n",
       " ['installment.rate', -0.29253094669308644],\n",
       " ['marital.status', 0.20036285645183416],\n",
       " ['guarantor', 0.0942616957484897],\n",
       " ['residence.duration', -0.03960406900848034],\n",
       " ['current.assets', -0.24420229425865905],\n",
       " ['age', 0.09899829241768397],\n",
       " ['other.credits', 0.1417096742671958],\n",
       " ['apartment.type', 0.1490312115088367],\n",
       " ['bank.credits', -0.08787836059911981],\n",
       " ['occupation', -0.030444834205835273],\n",
       " ['dependents', -0.053602809318327685],\n",
       " ['telephone', 0.16686262546906425],\n",
       " ['foreign.worker', 0.24558816698411945]]"
      ]
     },
     "execution_count": 26,
     "metadata": {},
     "output_type": "execute_result"
    }
   ],
   "source": [
    "# examine the coefficients\n",
    "elementos = [[x,y] for x, y in zip(cols_atributos, model.coef_[0])]\n",
    "elementos"
   ]
  },
  {
   "cell_type": "code",
   "execution_count": 27,
   "metadata": {},
   "outputs": [
    {
     "data": {
      "text/html": [
       "<div>\n",
       "<style scoped>\n",
       "    .dataframe tbody tr th:only-of-type {\n",
       "        vertical-align: middle;\n",
       "    }\n",
       "\n",
       "    .dataframe tbody tr th {\n",
       "        vertical-align: top;\n",
       "    }\n",
       "\n",
       "    .dataframe thead th {\n",
       "        text-align: right;\n",
       "    }\n",
       "</style>\n",
       "<table border=\"1\" class=\"dataframe\">\n",
       "  <thead>\n",
       "    <tr style=\"text-align: right;\">\n",
       "      <th></th>\n",
       "      <th>Atributo</th>\n",
       "      <th>Coeficiente</th>\n",
       "    </tr>\n",
       "  </thead>\n",
       "  <tbody>\n",
       "    <tr>\n",
       "      <th>0</th>\n",
       "      <td>account.balance</td>\n",
       "      <td>0.670642</td>\n",
       "    </tr>\n",
       "    <tr>\n",
       "      <th>1</th>\n",
       "      <td>credit.duration.months</td>\n",
       "      <td>-0.276692</td>\n",
       "    </tr>\n",
       "    <tr>\n",
       "      <th>2</th>\n",
       "      <td>previous.credit.payment.status</td>\n",
       "      <td>0.361119</td>\n",
       "    </tr>\n",
       "    <tr>\n",
       "      <th>3</th>\n",
       "      <td>credit.purpose</td>\n",
       "      <td>-0.357779</td>\n",
       "    </tr>\n",
       "    <tr>\n",
       "      <th>4</th>\n",
       "      <td>credit.amount</td>\n",
       "      <td>-0.307470</td>\n",
       "    </tr>\n",
       "    <tr>\n",
       "      <th>5</th>\n",
       "      <td>savings</td>\n",
       "      <td>0.367625</td>\n",
       "    </tr>\n",
       "    <tr>\n",
       "      <th>6</th>\n",
       "      <td>employment.duration</td>\n",
       "      <td>0.205367</td>\n",
       "    </tr>\n",
       "    <tr>\n",
       "      <th>7</th>\n",
       "      <td>installment.rate</td>\n",
       "      <td>-0.292531</td>\n",
       "    </tr>\n",
       "    <tr>\n",
       "      <th>8</th>\n",
       "      <td>marital.status</td>\n",
       "      <td>0.200363</td>\n",
       "    </tr>\n",
       "    <tr>\n",
       "      <th>9</th>\n",
       "      <td>guarantor</td>\n",
       "      <td>0.094262</td>\n",
       "    </tr>\n",
       "    <tr>\n",
       "      <th>10</th>\n",
       "      <td>residence.duration</td>\n",
       "      <td>-0.039604</td>\n",
       "    </tr>\n",
       "    <tr>\n",
       "      <th>11</th>\n",
       "      <td>current.assets</td>\n",
       "      <td>-0.244202</td>\n",
       "    </tr>\n",
       "    <tr>\n",
       "      <th>12</th>\n",
       "      <td>age</td>\n",
       "      <td>0.098998</td>\n",
       "    </tr>\n",
       "    <tr>\n",
       "      <th>13</th>\n",
       "      <td>other.credits</td>\n",
       "      <td>0.141710</td>\n",
       "    </tr>\n",
       "    <tr>\n",
       "      <th>14</th>\n",
       "      <td>apartment.type</td>\n",
       "      <td>0.149031</td>\n",
       "    </tr>\n",
       "    <tr>\n",
       "      <th>15</th>\n",
       "      <td>bank.credits</td>\n",
       "      <td>-0.087878</td>\n",
       "    </tr>\n",
       "    <tr>\n",
       "      <th>16</th>\n",
       "      <td>occupation</td>\n",
       "      <td>-0.030445</td>\n",
       "    </tr>\n",
       "    <tr>\n",
       "      <th>17</th>\n",
       "      <td>dependents</td>\n",
       "      <td>-0.053603</td>\n",
       "    </tr>\n",
       "    <tr>\n",
       "      <th>18</th>\n",
       "      <td>telephone</td>\n",
       "      <td>0.166863</td>\n",
       "    </tr>\n",
       "    <tr>\n",
       "      <th>19</th>\n",
       "      <td>foreign.worker</td>\n",
       "      <td>0.245588</td>\n",
       "    </tr>\n",
       "  </tbody>\n",
       "</table>\n",
       "</div>"
      ],
      "text/plain": [
       "                          Atributo  Coeficiente\n",
       "0                  account.balance     0.670642\n",
       "1           credit.duration.months    -0.276692\n",
       "2   previous.credit.payment.status     0.361119\n",
       "3                   credit.purpose    -0.357779\n",
       "4                    credit.amount    -0.307470\n",
       "5                          savings     0.367625\n",
       "6              employment.duration     0.205367\n",
       "7                 installment.rate    -0.292531\n",
       "8                   marital.status     0.200363\n",
       "9                        guarantor     0.094262\n",
       "10              residence.duration    -0.039604\n",
       "11                  current.assets    -0.244202\n",
       "12                             age     0.098998\n",
       "13                   other.credits     0.141710\n",
       "14                  apartment.type     0.149031\n",
       "15                    bank.credits    -0.087878\n",
       "16                      occupation    -0.030445\n",
       "17                      dependents    -0.053603\n",
       "18                       telephone     0.166863\n",
       "19                  foreign.worker     0.245588"
      ]
     },
     "execution_count": 27,
     "metadata": {},
     "output_type": "execute_result"
    }
   ],
   "source": [
    "# examine the coefficients\n",
    "pd.DataFrame(elementos, columns=['Atributo', 'Coeficiente'])"
   ]
  },
  {
   "cell_type": "markdown",
   "metadata": {},
   "source": [
    "## Avaliando o modelo usando split de dados"
   ]
  },
  {
   "cell_type": "code",
   "execution_count": 28,
   "metadata": {},
   "outputs": [
    {
     "data": {
      "text/plain": [
       "LogisticRegression(C=1.0, class_weight=None, dual=False, fit_intercept=True,\n",
       "          intercept_scaling=1, max_iter=100, multi_class='ovr', n_jobs=1,\n",
       "          penalty='l2', random_state=None, solver='liblinear', tol=0.0001,\n",
       "          verbose=0, warm_start=False)"
      ]
     },
     "execution_count": 28,
     "metadata": {},
     "output_type": "execute_result"
    }
   ],
   "source": [
    "# evaluate the model by splitting into train and test sets\n",
    "X_train, X_test, y_train, y_test = train_test_split(Xst, y, test_size=0.3, random_state=0)\n",
    "model2 = LogisticRegression()\n",
    "model2.fit(X_train, y_train)\n",
    "model2"
   ]
  },
  {
   "cell_type": "code",
   "execution_count": 29,
   "metadata": {},
   "outputs": [
    {
     "name": "stdout",
     "output_type": "stream",
     "text": [
      "[1 0 1 1 0]\n"
     ]
    }
   ],
   "source": [
    "# predict class labels for the test set\n",
    "predicted = model2.predict(X_test)\n",
    "print (predicted[:5])"
   ]
  },
  {
   "cell_type": "code",
   "execution_count": 30,
   "metadata": {},
   "outputs": [
    {
     "name": "stdout",
     "output_type": "stream",
     "text": [
      "[[0.34614015 0.65385985]\n",
      " [0.50576614 0.49423386]\n",
      " [0.13488831 0.86511169]\n",
      " [0.09869362 0.90130638]\n",
      " [0.50304835 0.49695165]]\n"
     ]
    }
   ],
   "source": [
    "# generate class probabilities\n",
    "probs = model2.predict_proba(X_test)\n",
    "print (probs[:5])"
   ]
  },
  {
   "cell_type": "code",
   "execution_count": 31,
   "metadata": {},
   "outputs": [
    {
     "name": "stdout",
     "output_type": "stream",
     "text": [
      "Valores Previstos e suas Probalidades\n"
     ]
    },
    {
     "data": {
      "text/html": [
       "<div>\n",
       "<style scoped>\n",
       "    .dataframe tbody tr th:only-of-type {\n",
       "        vertical-align: middle;\n",
       "    }\n",
       "\n",
       "    .dataframe tbody tr th {\n",
       "        vertical-align: top;\n",
       "    }\n",
       "\n",
       "    .dataframe thead th {\n",
       "        text-align: right;\n",
       "    }\n",
       "</style>\n",
       "<table border=\"1\" class=\"dataframe\">\n",
       "  <thead>\n",
       "    <tr style=\"text-align: right;\">\n",
       "      <th></th>\n",
       "      <th>Classe</th>\n",
       "      <th>Probabilidade</th>\n",
       "    </tr>\n",
       "  </thead>\n",
       "  <tbody>\n",
       "    <tr>\n",
       "      <th>0</th>\n",
       "      <td>1</td>\n",
       "      <td>[0.34614015315095203, 0.653859846849048]</td>\n",
       "    </tr>\n",
       "    <tr>\n",
       "      <th>1</th>\n",
       "      <td>0</td>\n",
       "      <td>[0.50576613753089, 0.49423386246911]</td>\n",
       "    </tr>\n",
       "    <tr>\n",
       "      <th>2</th>\n",
       "      <td>1</td>\n",
       "      <td>[0.13488830921011485, 0.8651116907898851]</td>\n",
       "    </tr>\n",
       "    <tr>\n",
       "      <th>3</th>\n",
       "      <td>1</td>\n",
       "      <td>[0.09869361786030706, 0.9013063821396929]</td>\n",
       "    </tr>\n",
       "    <tr>\n",
       "      <th>4</th>\n",
       "      <td>0</td>\n",
       "      <td>[0.503048353413627, 0.496951646586373]</td>\n",
       "    </tr>\n",
       "    <tr>\n",
       "      <th>5</th>\n",
       "      <td>0</td>\n",
       "      <td>[0.5962526750232171, 0.40374732497678284]</td>\n",
       "    </tr>\n",
       "    <tr>\n",
       "      <th>6</th>\n",
       "      <td>1</td>\n",
       "      <td>[0.06326764859174472, 0.9367323514082553]</td>\n",
       "    </tr>\n",
       "    <tr>\n",
       "      <th>7</th>\n",
       "      <td>1</td>\n",
       "      <td>[0.14762673286171546, 0.8523732671382845]</td>\n",
       "    </tr>\n",
       "    <tr>\n",
       "      <th>8</th>\n",
       "      <td>1</td>\n",
       "      <td>[0.12703997138673007, 0.8729600286132699]</td>\n",
       "    </tr>\n",
       "    <tr>\n",
       "      <th>9</th>\n",
       "      <td>1</td>\n",
       "      <td>[0.09170745759387333, 0.9082925424061267]</td>\n",
       "    </tr>\n",
       "  </tbody>\n",
       "</table>\n",
       "</div>"
      ],
      "text/plain": [
       "   Classe                              Probabilidade\n",
       "0       1   [0.34614015315095203, 0.653859846849048]\n",
       "1       0       [0.50576613753089, 0.49423386246911]\n",
       "2       1  [0.13488830921011485, 0.8651116907898851]\n",
       "3       1  [0.09869361786030706, 0.9013063821396929]\n",
       "4       0     [0.503048353413627, 0.496951646586373]\n",
       "5       0  [0.5962526750232171, 0.40374732497678284]\n",
       "6       1  [0.06326764859174472, 0.9367323514082553]\n",
       "7       1  [0.14762673286171546, 0.8523732671382845]\n",
       "8       1  [0.12703997138673007, 0.8729600286132699]\n",
       "9       1  [0.09170745759387333, 0.9082925424061267]"
      ]
     },
     "execution_count": 31,
     "metadata": {},
     "output_type": "execute_result"
    }
   ],
   "source": [
    "print('Valores Previstos e suas Probalidades')\n",
    "elementos = [[x,y] for x, y in zip(predicted,probs)]\n",
    "elementos\n",
    "df2 = pd.DataFrame(elementos, columns=['Classe', 'Probabilidade'])\n",
    "df2.head(10)"
   ]
  },
  {
   "cell_type": "code",
   "execution_count": 32,
   "metadata": {},
   "outputs": [
    {
     "name": "stdout",
     "output_type": "stream",
     "text": [
      "Acurácia:  0.7466666666666667\n",
      "Curva ROC:  0.792\n"
     ]
    }
   ],
   "source": [
    "# generate evaluation metrics\n",
    "print ('Acurácia: ', metrics.accuracy_score(y_test, predicted))\n",
    "print ('Curva ROC: ',metrics.roc_auc_score(y_test, probs[:, 1]))"
   ]
  },
  {
   "cell_type": "code",
   "execution_count": 33,
   "metadata": {},
   "outputs": [
    {
     "name": "stdout",
     "output_type": "stream",
     "text": [
      "Matriz de Confusão:\n",
      " [[ 40  60]\n",
      " [ 16 184]]\n",
      "\n",
      "Métricas Relacionadas:\n",
      "              precision    recall  f1-score   support\n",
      "\n",
      "          0       0.71      0.40      0.51       100\n",
      "          1       0.75      0.92      0.83       200\n",
      "\n",
      "avg / total       0.74      0.75      0.72       300\n",
      "\n"
     ]
    }
   ],
   "source": [
    "print (\"Matriz de Confusão:\\n\",metrics.confusion_matrix(y_test, predicted))\n",
    "print (\"\\nMétricas Relacionadas:\\n\",metrics.classification_report(y_test, predicted))"
   ]
  },
  {
   "cell_type": "markdown",
   "metadata": {},
   "source": [
    "## Avaliando o modelo usando Cross-validation"
   ]
  },
  {
   "cell_type": "code",
   "execution_count": 34,
   "metadata": {},
   "outputs": [
    {
     "name": "stdout",
     "output_type": "stream",
     "text": [
      "[0.74 0.79 0.73 0.74 0.77 0.76 0.82 0.82 0.55 0.72]\n",
      "0.744\n"
     ]
    }
   ],
   "source": [
    "# evaluate the model using 10-fold cross-validation\n",
    "scores = cross_val_score(LogisticRegression(), Xst, y, scoring='accuracy', cv=10)\n",
    "print (scores)\n",
    "print (scores.mean())"
   ]
  },
  {
   "cell_type": "markdown",
   "metadata": {},
   "source": [
    "## Importância dos Atributos"
   ]
  },
  {
   "cell_type": "markdown",
   "metadata": {},
   "source": [
    "## Seleção Univariada\n",
    "Testes estatísticos podem ser usados para selecionar os atributos que possuem forte relacionamento com a variável que estamos tentando prever.<br/> O Scikit-learn fornece a função SelectKBest() que pode ser usada com diversos testes estatísticos, para selecionar os atributos.<br /> Vamos usar um teste que estudamos no capítulo anterior, o teste qui-quadrado. Vamos seelcionar os 4 melhores atributos que podem ser usados como variáveis preditoras.\n",
    "\n",
    "Veremos abaixo o score para cada atributo e os 4 atributos com maior score e que portanto devem ser selecionados como variáveis preditoras."
   ]
  },
  {
   "cell_type": "code",
   "execution_count": 37,
   "metadata": {},
   "outputs": [
    {
     "data": {
      "text/html": [
       "<div>\n",
       "<style scoped>\n",
       "    .dataframe tbody tr th:only-of-type {\n",
       "        vertical-align: middle;\n",
       "    }\n",
       "\n",
       "    .dataframe tbody tr th {\n",
       "        vertical-align: top;\n",
       "    }\n",
       "\n",
       "    .dataframe thead th {\n",
       "        text-align: right;\n",
       "    }\n",
       "</style>\n",
       "<table border=\"1\" class=\"dataframe\">\n",
       "  <thead>\n",
       "    <tr style=\"text-align: right;\">\n",
       "      <th></th>\n",
       "      <th>Atributo</th>\n",
       "      <th>Importância</th>\n",
       "    </tr>\n",
       "  </thead>\n",
       "  <tbody>\n",
       "    <tr>\n",
       "      <th>0</th>\n",
       "      <td>credit.amount</td>\n",
       "      <td>58264.415475</td>\n",
       "    </tr>\n",
       "    <tr>\n",
       "      <th>1</th>\n",
       "      <td>credit.duration.months</td>\n",
       "      <td>321.030795</td>\n",
       "    </tr>\n",
       "    <tr>\n",
       "      <th>2</th>\n",
       "      <td>account.balance</td>\n",
       "      <td>36.808259</td>\n",
       "    </tr>\n",
       "    <tr>\n",
       "      <th>3</th>\n",
       "      <td>age</td>\n",
       "      <td>30.178268</td>\n",
       "    </tr>\n",
       "    <tr>\n",
       "      <th>4</th>\n",
       "      <td>savings</td>\n",
       "      <td>24.503837</td>\n",
       "    </tr>\n",
       "    <tr>\n",
       "      <th>5</th>\n",
       "      <td>current.assets</td>\n",
       "      <td>9.503534</td>\n",
       "    </tr>\n",
       "    <tr>\n",
       "      <th>6</th>\n",
       "      <td>previous.credit.payment.status</td>\n",
       "      <td>8.141694</td>\n",
       "    </tr>\n",
       "    <tr>\n",
       "      <th>7</th>\n",
       "      <td>employment.duration</td>\n",
       "      <td>6.961881</td>\n",
       "    </tr>\n",
       "    <tr>\n",
       "      <th>8</th>\n",
       "      <td>marital.status</td>\n",
       "      <td>3.993335</td>\n",
       "    </tr>\n",
       "    <tr>\n",
       "      <th>9</th>\n",
       "      <td>credit.purpose</td>\n",
       "      <td>3.623625</td>\n",
       "    </tr>\n",
       "    <tr>\n",
       "      <th>10</th>\n",
       "      <td>installment.rate</td>\n",
       "      <td>2.204619</td>\n",
       "    </tr>\n",
       "    <tr>\n",
       "      <th>11</th>\n",
       "      <td>other.credits</td>\n",
       "      <td>1.071140</td>\n",
       "    </tr>\n",
       "    <tr>\n",
       "      <th>12</th>\n",
       "      <td>bank.credits</td>\n",
       "      <td>0.355349</td>\n",
       "    </tr>\n",
       "    <tr>\n",
       "      <th>13</th>\n",
       "      <td>foreign.worker</td>\n",
       "      <td>0.231483</td>\n",
       "    </tr>\n",
       "    <tr>\n",
       "      <th>14</th>\n",
       "      <td>telephone</td>\n",
       "      <td>0.228056</td>\n",
       "    </tr>\n",
       "    <tr>\n",
       "      <th>15</th>\n",
       "      <td>occupation</td>\n",
       "      <td>0.157484</td>\n",
       "    </tr>\n",
       "    <tr>\n",
       "      <th>16</th>\n",
       "      <td>apartment.type</td>\n",
       "      <td>0.047817</td>\n",
       "    </tr>\n",
       "    <tr>\n",
       "      <th>17</th>\n",
       "      <td>residence.duration</td>\n",
       "      <td>0.003766</td>\n",
       "    </tr>\n",
       "    <tr>\n",
       "      <th>18</th>\n",
       "      <td>dependents</td>\n",
       "      <td>0.001031</td>\n",
       "    </tr>\n",
       "    <tr>\n",
       "      <th>19</th>\n",
       "      <td>guarantor</td>\n",
       "      <td>0.000044</td>\n",
       "    </tr>\n",
       "  </tbody>\n",
       "</table>\n",
       "</div>"
      ],
      "text/plain": [
       "                          Atributo   Importância\n",
       "0                    credit.amount  58264.415475\n",
       "1           credit.duration.months    321.030795\n",
       "2                  account.balance     36.808259\n",
       "3                              age     30.178268\n",
       "4                          savings     24.503837\n",
       "5                   current.assets      9.503534\n",
       "6   previous.credit.payment.status      8.141694\n",
       "7              employment.duration      6.961881\n",
       "8                   marital.status      3.993335\n",
       "9                   credit.purpose      3.623625\n",
       "10                installment.rate      2.204619\n",
       "11                   other.credits      1.071140\n",
       "12                    bank.credits      0.355349\n",
       "13                  foreign.worker      0.231483\n",
       "14                       telephone      0.228056\n",
       "15                      occupation      0.157484\n",
       "16                  apartment.type      0.047817\n",
       "17              residence.duration      0.003766\n",
       "18                      dependents      0.001031\n",
       "19                       guarantor      0.000044"
      ]
     },
     "execution_count": 37,
     "metadata": {},
     "output_type": "execute_result"
    }
   ],
   "source": [
    "# Extração de Variáveis com Testes Estatísticos Univariados (Teste qui-quadrado)\n",
    "from sklearn.feature_selection import SelectKBest\n",
    "from sklearn.feature_selection import chi2\n",
    "\n",
    "# Extração de Variáveis\n",
    "test = SelectKBest(score_func = chi2, k = 4)\n",
    "fit = test.fit(X, y)\n",
    "\n",
    "# Sumarizando o score\n",
    "#print(df.columns[1:])\n",
    "#print(fit.scores_)\n",
    "#features = fit.transform(X)\n",
    "\n",
    "tuplas = []\n",
    "for coef, var in sorted(zip(map(abs, fit.scores_), df.columns[1:]), reverse = True):\n",
    "    #print (\"%6.3f %s\" % (coef,var))\n",
    "    tuplas.append([var,coef])\n",
    "\n",
    "dfsu = pd.DataFrame(tuplas, columns=['Atributo','Importância'])\n",
    "dfsu"
   ]
  },
  {
   "cell_type": "code",
   "execution_count": 38,
   "metadata": {},
   "outputs": [
    {
     "data": {
      "image/png": "[encoded data removed]",
      "text/plain": [
       "<matplotlib.figure.Figure at 0x1a14d8f518>"
      ]
     },
     "metadata": {},
     "output_type": "display_data"
    }
   ],
   "source": [
    "fig = plt.figure(figsize=(9,7))\n",
    "fig.add_subplot(1,1,1)\n",
    "plt.style.use('ggplot')\n",
    "palette = 'Blues_r'\n",
    "sns.barplot(y='Atributo',x='Importância', data=dfsu, palette=palette)\n",
    "plt.show()"
   ]
  },
  {
   "cell_type": "markdown",
   "metadata": {},
   "source": [
    "## Eliminação Recursiva de Atributos\n",
    "Esta é outra técnica para seleção de atributos, que recursivamente remove os atributos e constrói o modelo com os atributos remanescentes. Esta técnica utiliza a acurácia do modelo para identificar os atributos que mais contribuem para prever a variável alvo. Em inglês esta técnia é chamada Recursive Feature Elimination (RFE).\n",
    "\n",
    "O exemplo abaixo utiliza a técnica de eliminação recursiva de atributos com um algoritmo de Regressão Logística para selecionar as 10 melhores variáveis preditoras. O RFE selecionou as variáveis preg, mass e pedi, que estão marcadas como True em \"Atributos Selecionados\" e com valor 1 em \"Ranking dos Atributos\"."
   ]
  },
  {
   "cell_type": "code",
   "execution_count": 39,
   "metadata": {},
   "outputs": [
    {
     "name": "stdout",
     "output_type": "stream",
     "text": [
      "Número de Atributos: 10\n",
      "Atributos Selecionados: [ True False  True  True False  True  True False False False False  True\n",
      " False  True  True  True False False False  True]\n",
      "Ranking dos Atributos: [ 1  8  1  1 11  1  1  4  5  7  9  1 10  1  1  1  2  6  3  1]\n"
     ]
    }
   ],
   "source": [
    "from sklearn.feature_selection import RFE\n",
    "from sklearn.linear_model import LogisticRegression\n",
    "\n",
    "# RFE\n",
    "rfe = RFE(model, 10)\n",
    "fit = rfe.fit(X, y)\n",
    "\n",
    "# Print dos resultados\n",
    "print(\"Número de Atributos: %d\" % fit.n_features_)\n",
    "#print(df.columns[1:])\n",
    "print(\"Atributos Selecionados: %s\" % fit.support_)\n",
    "print(\"Ranking dos Atributos: %s\" % fit.ranking_)"
   ]
  },
  {
   "cell_type": "code",
   "execution_count": 40,
   "metadata": {},
   "outputs": [
    {
     "data": {
      "text/html": [
       "<div>\n",
       "<style scoped>\n",
       "    .dataframe tbody tr th:only-of-type {\n",
       "        vertical-align: middle;\n",
       "    }\n",
       "\n",
       "    .dataframe tbody tr th {\n",
       "        vertical-align: top;\n",
       "    }\n",
       "\n",
       "    .dataframe thead th {\n",
       "        text-align: right;\n",
       "    }\n",
       "</style>\n",
       "<table border=\"1\" class=\"dataframe\">\n",
       "  <thead>\n",
       "    <tr style=\"text-align: right;\">\n",
       "      <th></th>\n",
       "      <th>atributo</th>\n",
       "      <th>ranking</th>\n",
       "    </tr>\n",
       "  </thead>\n",
       "  <tbody>\n",
       "    <tr>\n",
       "      <th>0</th>\n",
       "      <td>account.balance</td>\n",
       "      <td>1</td>\n",
       "    </tr>\n",
       "    <tr>\n",
       "      <th>15</th>\n",
       "      <td>bank.credits</td>\n",
       "      <td>1</td>\n",
       "    </tr>\n",
       "    <tr>\n",
       "      <th>14</th>\n",
       "      <td>apartment.type</td>\n",
       "      <td>1</td>\n",
       "    </tr>\n",
       "    <tr>\n",
       "      <th>13</th>\n",
       "      <td>other.credits</td>\n",
       "      <td>1</td>\n",
       "    </tr>\n",
       "    <tr>\n",
       "      <th>11</th>\n",
       "      <td>current.assets</td>\n",
       "      <td>1</td>\n",
       "    </tr>\n",
       "    <tr>\n",
       "      <th>6</th>\n",
       "      <td>employment.duration</td>\n",
       "      <td>1</td>\n",
       "    </tr>\n",
       "    <tr>\n",
       "      <th>19</th>\n",
       "      <td>foreign.worker</td>\n",
       "      <td>1</td>\n",
       "    </tr>\n",
       "    <tr>\n",
       "      <th>3</th>\n",
       "      <td>credit.purpose</td>\n",
       "      <td>1</td>\n",
       "    </tr>\n",
       "    <tr>\n",
       "      <th>2</th>\n",
       "      <td>previous.credit.payment.status</td>\n",
       "      <td>1</td>\n",
       "    </tr>\n",
       "    <tr>\n",
       "      <th>5</th>\n",
       "      <td>savings</td>\n",
       "      <td>1</td>\n",
       "    </tr>\n",
       "    <tr>\n",
       "      <th>16</th>\n",
       "      <td>occupation</td>\n",
       "      <td>2</td>\n",
       "    </tr>\n",
       "    <tr>\n",
       "      <th>18</th>\n",
       "      <td>telephone</td>\n",
       "      <td>3</td>\n",
       "    </tr>\n",
       "    <tr>\n",
       "      <th>7</th>\n",
       "      <td>installment.rate</td>\n",
       "      <td>4</td>\n",
       "    </tr>\n",
       "    <tr>\n",
       "      <th>8</th>\n",
       "      <td>marital.status</td>\n",
       "      <td>5</td>\n",
       "    </tr>\n",
       "    <tr>\n",
       "      <th>17</th>\n",
       "      <td>dependents</td>\n",
       "      <td>6</td>\n",
       "    </tr>\n",
       "    <tr>\n",
       "      <th>9</th>\n",
       "      <td>guarantor</td>\n",
       "      <td>7</td>\n",
       "    </tr>\n",
       "    <tr>\n",
       "      <th>1</th>\n",
       "      <td>credit.duration.months</td>\n",
       "      <td>8</td>\n",
       "    </tr>\n",
       "    <tr>\n",
       "      <th>10</th>\n",
       "      <td>residence.duration</td>\n",
       "      <td>9</td>\n",
       "    </tr>\n",
       "    <tr>\n",
       "      <th>12</th>\n",
       "      <td>age</td>\n",
       "      <td>10</td>\n",
       "    </tr>\n",
       "    <tr>\n",
       "      <th>4</th>\n",
       "      <td>credit.amount</td>\n",
       "      <td>11</td>\n",
       "    </tr>\n",
       "  </tbody>\n",
       "</table>\n",
       "</div>"
      ],
      "text/plain": [
       "                          atributo  ranking\n",
       "0                  account.balance        1\n",
       "15                    bank.credits        1\n",
       "14                  apartment.type        1\n",
       "13                   other.credits        1\n",
       "11                  current.assets        1\n",
       "6              employment.duration        1\n",
       "19                  foreign.worker        1\n",
       "3                   credit.purpose        1\n",
       "2   previous.credit.payment.status        1\n",
       "5                          savings        1\n",
       "16                      occupation        2\n",
       "18                       telephone        3\n",
       "7                 installment.rate        4\n",
       "8                   marital.status        5\n",
       "17                      dependents        6\n",
       "9                        guarantor        7\n",
       "1           credit.duration.months        8\n",
       "10              residence.duration        9\n",
       "12                             age       10\n",
       "4                    credit.amount       11"
      ]
     },
     "execution_count": 40,
     "metadata": {},
     "output_type": "execute_result"
    }
   ],
   "source": [
    "dfrfe = pd.DataFrame()\n",
    "dfrfe['atributo'] = df.columns[1:]\n",
    "dfrfe['ranking'] = fit.ranking_\n",
    "dfrfe = dfrfe.sort_values('ranking')\n",
    "dfrfe"
   ]
  },
  {
   "cell_type": "code",
   "execution_count": 41,
   "metadata": {},
   "outputs": [
    {
     "data": {
      "image/png": "[encoded data removed]",
      "text/plain": [
       "<matplotlib.figure.Figure at 0x1a14daecc0>"
      ]
     },
     "metadata": {},
     "output_type": "display_data"
    }
   ],
   "source": [
    "fig = plt.figure(figsize=(9,7))\n",
    "fig.add_subplot(1,1,1)\n",
    "plt.style.use('ggplot')\n",
    "palette = 'Blues_r'\n",
    "sns.barplot(y='atributo',x='ranking', data=dfrfe, palette=palette)\n",
    "plt.show()"
   ]
  },
  {
   "cell_type": "markdown",
   "metadata": {},
   "source": [
    "## Importância dos Atributos - Usando Árvores de Decisão para coletar a importância\n",
    "## Método Ensemble para Seleção de Variáveis\n",
    "Bagged Decision Trees, como o algoritmo RandomForest, podem ser usados para estimar a importância de cada atributo. Esse método retorna um score para cada atributo.\n",
    "\n",
    "Quanto maior o score, maior a importância do atributo."
   ]
  },
  {
   "cell_type": "code",
   "execution_count": 42,
   "metadata": {},
   "outputs": [
    {
     "name": "stdout",
     "output_type": "stream",
     "text": [
      "[0.11009446 0.08104111 0.05908955 0.05692187 0.08216859 0.04782878\n",
      " 0.05488629 0.05744616 0.04217485 0.02538948 0.05298643 0.05677734\n",
      " 0.07324665 0.02426601 0.03353901 0.03159446 0.0501551  0.02184606\n",
      " 0.03234297 0.00620482]\n"
     ]
    }
   ],
   "source": [
    "# Criação do Modelo - Feature Selection\n",
    "from sklearn.ensemble import ExtraTreesClassifier\n",
    "modeloETC = ExtraTreesClassifier()\n",
    "modeloETC.fit(X, y)\n",
    "\n",
    "# Print dos Resultados\n",
    "#print(df.columns[1:])\n",
    "print(modeloETC.feature_importances_)"
   ]
  },
  {
   "cell_type": "code",
   "execution_count": 43,
   "metadata": {},
   "outputs": [
    {
     "name": "stdout",
     "output_type": "stream",
     "text": [
      " 0.110 account.balance\n",
      " 0.082 credit.amount\n",
      " 0.081 credit.duration.months\n",
      " 0.073 age\n",
      " 0.059 previous.credit.payment.status\n",
      " 0.057 installment.rate\n",
      " 0.057 credit.purpose\n",
      " 0.057 current.assets\n",
      " 0.055 employment.duration\n",
      " 0.053 residence.duration\n",
      " 0.050 occupation\n",
      " 0.048 savings\n",
      " 0.042 marital.status\n",
      " 0.034 apartment.type\n",
      " 0.032 telephone\n",
      " 0.032 bank.credits\n",
      " 0.025 guarantor\n",
      " 0.024 other.credits\n",
      " 0.022 dependents\n",
      " 0.006 foreign.worker\n"
     ]
    }
   ],
   "source": [
    "tupla = []\n",
    "for coef, var in sorted(zip(map(abs, modeloETC.feature_importances_), df.columns[1:]), reverse = True):\n",
    "    print (\"%6.3f %s\" % (coef,var))\n",
    "    tupla.append([var,coef])"
   ]
  },
  {
   "cell_type": "code",
   "execution_count": 44,
   "metadata": {},
   "outputs": [
    {
     "data": {
      "text/html": [
       "<div>\n",
       "<style scoped>\n",
       "    .dataframe tbody tr th:only-of-type {\n",
       "        vertical-align: middle;\n",
       "    }\n",
       "\n",
       "    .dataframe tbody tr th {\n",
       "        vertical-align: top;\n",
       "    }\n",
       "\n",
       "    .dataframe thead th {\n",
       "        text-align: right;\n",
       "    }\n",
       "</style>\n",
       "<table border=\"1\" class=\"dataframe\">\n",
       "  <thead>\n",
       "    <tr style=\"text-align: right;\">\n",
       "      <th></th>\n",
       "      <th>atributo</th>\n",
       "      <th>importancia</th>\n",
       "    </tr>\n",
       "  </thead>\n",
       "  <tbody>\n",
       "    <tr>\n",
       "      <th>0</th>\n",
       "      <td>account.balance</td>\n",
       "      <td>0.110094</td>\n",
       "    </tr>\n",
       "    <tr>\n",
       "      <th>1</th>\n",
       "      <td>credit.amount</td>\n",
       "      <td>0.082169</td>\n",
       "    </tr>\n",
       "    <tr>\n",
       "      <th>2</th>\n",
       "      <td>credit.duration.months</td>\n",
       "      <td>0.081041</td>\n",
       "    </tr>\n",
       "    <tr>\n",
       "      <th>3</th>\n",
       "      <td>age</td>\n",
       "      <td>0.073247</td>\n",
       "    </tr>\n",
       "    <tr>\n",
       "      <th>4</th>\n",
       "      <td>previous.credit.payment.status</td>\n",
       "      <td>0.059090</td>\n",
       "    </tr>\n",
       "    <tr>\n",
       "      <th>5</th>\n",
       "      <td>installment.rate</td>\n",
       "      <td>0.057446</td>\n",
       "    </tr>\n",
       "    <tr>\n",
       "      <th>6</th>\n",
       "      <td>credit.purpose</td>\n",
       "      <td>0.056922</td>\n",
       "    </tr>\n",
       "    <tr>\n",
       "      <th>7</th>\n",
       "      <td>current.assets</td>\n",
       "      <td>0.056777</td>\n",
       "    </tr>\n",
       "    <tr>\n",
       "      <th>8</th>\n",
       "      <td>employment.duration</td>\n",
       "      <td>0.054886</td>\n",
       "    </tr>\n",
       "    <tr>\n",
       "      <th>9</th>\n",
       "      <td>residence.duration</td>\n",
       "      <td>0.052986</td>\n",
       "    </tr>\n",
       "    <tr>\n",
       "      <th>10</th>\n",
       "      <td>occupation</td>\n",
       "      <td>0.050155</td>\n",
       "    </tr>\n",
       "    <tr>\n",
       "      <th>11</th>\n",
       "      <td>savings</td>\n",
       "      <td>0.047829</td>\n",
       "    </tr>\n",
       "    <tr>\n",
       "      <th>12</th>\n",
       "      <td>marital.status</td>\n",
       "      <td>0.042175</td>\n",
       "    </tr>\n",
       "    <tr>\n",
       "      <th>13</th>\n",
       "      <td>apartment.type</td>\n",
       "      <td>0.033539</td>\n",
       "    </tr>\n",
       "    <tr>\n",
       "      <th>14</th>\n",
       "      <td>telephone</td>\n",
       "      <td>0.032343</td>\n",
       "    </tr>\n",
       "    <tr>\n",
       "      <th>15</th>\n",
       "      <td>bank.credits</td>\n",
       "      <td>0.031594</td>\n",
       "    </tr>\n",
       "    <tr>\n",
       "      <th>16</th>\n",
       "      <td>guarantor</td>\n",
       "      <td>0.025389</td>\n",
       "    </tr>\n",
       "    <tr>\n",
       "      <th>17</th>\n",
       "      <td>other.credits</td>\n",
       "      <td>0.024266</td>\n",
       "    </tr>\n",
       "    <tr>\n",
       "      <th>18</th>\n",
       "      <td>dependents</td>\n",
       "      <td>0.021846</td>\n",
       "    </tr>\n",
       "    <tr>\n",
       "      <th>19</th>\n",
       "      <td>foreign.worker</td>\n",
       "      <td>0.006205</td>\n",
       "    </tr>\n",
       "  </tbody>\n",
       "</table>\n",
       "</div>"
      ],
      "text/plain": [
       "                          atributo  importancia\n",
       "0                  account.balance     0.110094\n",
       "1                    credit.amount     0.082169\n",
       "2           credit.duration.months     0.081041\n",
       "3                              age     0.073247\n",
       "4   previous.credit.payment.status     0.059090\n",
       "5                 installment.rate     0.057446\n",
       "6                   credit.purpose     0.056922\n",
       "7                   current.assets     0.056777\n",
       "8              employment.duration     0.054886\n",
       "9               residence.duration     0.052986\n",
       "10                      occupation     0.050155\n",
       "11                         savings     0.047829\n",
       "12                  marital.status     0.042175\n",
       "13                  apartment.type     0.033539\n",
       "14                       telephone     0.032343\n",
       "15                    bank.credits     0.031594\n",
       "16                       guarantor     0.025389\n",
       "17                   other.credits     0.024266\n",
       "18                      dependents     0.021846\n",
       "19                  foreign.worker     0.006205"
      ]
     },
     "execution_count": 44,
     "metadata": {},
     "output_type": "execute_result"
    }
   ],
   "source": [
    "dfimp2 = pd.DataFrame(tupla,columns=['atributo','importancia'] )\n",
    "dfimp2"
   ]
  },
  {
   "cell_type": "code",
   "execution_count": 45,
   "metadata": {},
   "outputs": [
    {
     "data": {
      "image/png": "[encoded data removed]",
      "text/plain": [
       "<matplotlib.figure.Figure at 0x1a153b4940>"
      ]
     },
     "metadata": {},
     "output_type": "display_data"
    }
   ],
   "source": [
    "fig = plt.figure(figsize=(9,7))\n",
    "fig.add_subplot(1,1,1)\n",
    "plt.style.use('ggplot')\n",
    "palette = 'Greens_r'\n",
    "sns.barplot(y='atributo',x='importancia', data=dfimp2, palette=palette)\n",
    "plt.show()"
   ]
  },
  {
   "cell_type": "markdown",
   "metadata": {},
   "source": [
    "## Realizando Previsões"
   ]
  },
  {
   "cell_type": "code",
   "execution_count": 46,
   "metadata": {},
   "outputs": [
    {
     "data": {
      "text/html": [
       "<div>\n",
       "<style scoped>\n",
       "    .dataframe tbody tr th:only-of-type {\n",
       "        vertical-align: middle;\n",
       "    }\n",
       "\n",
       "    .dataframe tbody tr th {\n",
       "        vertical-align: top;\n",
       "    }\n",
       "\n",
       "    .dataframe thead th {\n",
       "        text-align: right;\n",
       "    }\n",
       "</style>\n",
       "<table border=\"1\" class=\"dataframe\">\n",
       "  <thead>\n",
       "    <tr style=\"text-align: right;\">\n",
       "      <th></th>\n",
       "      <th>credit.rating</th>\n",
       "      <th>account.balance</th>\n",
       "      <th>credit.duration.months</th>\n",
       "      <th>previous.credit.payment.status</th>\n",
       "      <th>credit.purpose</th>\n",
       "      <th>credit.amount</th>\n",
       "      <th>savings</th>\n",
       "      <th>employment.duration</th>\n",
       "      <th>installment.rate</th>\n",
       "      <th>marital.status</th>\n",
       "      <th>...</th>\n",
       "      <th>residence.duration</th>\n",
       "      <th>current.assets</th>\n",
       "      <th>age</th>\n",
       "      <th>other.credits</th>\n",
       "      <th>apartment.type</th>\n",
       "      <th>bank.credits</th>\n",
       "      <th>occupation</th>\n",
       "      <th>dependents</th>\n",
       "      <th>telephone</th>\n",
       "      <th>foreign.worker</th>\n",
       "    </tr>\n",
       "  </thead>\n",
       "  <tbody>\n",
       "    <tr>\n",
       "      <th>0</th>\n",
       "      <td>1</td>\n",
       "      <td>1</td>\n",
       "      <td>18</td>\n",
       "      <td>3</td>\n",
       "      <td>2</td>\n",
       "      <td>1049</td>\n",
       "      <td>1</td>\n",
       "      <td>1</td>\n",
       "      <td>4</td>\n",
       "      <td>1</td>\n",
       "      <td>...</td>\n",
       "      <td>4</td>\n",
       "      <td>2</td>\n",
       "      <td>21</td>\n",
       "      <td>2</td>\n",
       "      <td>1</td>\n",
       "      <td>1</td>\n",
       "      <td>3</td>\n",
       "      <td>1</td>\n",
       "      <td>1</td>\n",
       "      <td>1</td>\n",
       "    </tr>\n",
       "    <tr>\n",
       "      <th>1</th>\n",
       "      <td>1</td>\n",
       "      <td>1</td>\n",
       "      <td>9</td>\n",
       "      <td>3</td>\n",
       "      <td>4</td>\n",
       "      <td>2799</td>\n",
       "      <td>1</td>\n",
       "      <td>2</td>\n",
       "      <td>2</td>\n",
       "      <td>3</td>\n",
       "      <td>...</td>\n",
       "      <td>2</td>\n",
       "      <td>1</td>\n",
       "      <td>36</td>\n",
       "      <td>2</td>\n",
       "      <td>1</td>\n",
       "      <td>2</td>\n",
       "      <td>3</td>\n",
       "      <td>2</td>\n",
       "      <td>1</td>\n",
       "      <td>1</td>\n",
       "    </tr>\n",
       "    <tr>\n",
       "      <th>2</th>\n",
       "      <td>1</td>\n",
       "      <td>2</td>\n",
       "      <td>12</td>\n",
       "      <td>2</td>\n",
       "      <td>4</td>\n",
       "      <td>841</td>\n",
       "      <td>2</td>\n",
       "      <td>3</td>\n",
       "      <td>2</td>\n",
       "      <td>1</td>\n",
       "      <td>...</td>\n",
       "      <td>4</td>\n",
       "      <td>1</td>\n",
       "      <td>23</td>\n",
       "      <td>2</td>\n",
       "      <td>1</td>\n",
       "      <td>1</td>\n",
       "      <td>2</td>\n",
       "      <td>1</td>\n",
       "      <td>1</td>\n",
       "      <td>1</td>\n",
       "    </tr>\n",
       "    <tr>\n",
       "      <th>3</th>\n",
       "      <td>1</td>\n",
       "      <td>1</td>\n",
       "      <td>12</td>\n",
       "      <td>3</td>\n",
       "      <td>4</td>\n",
       "      <td>2122</td>\n",
       "      <td>1</td>\n",
       "      <td>2</td>\n",
       "      <td>3</td>\n",
       "      <td>3</td>\n",
       "      <td>...</td>\n",
       "      <td>2</td>\n",
       "      <td>1</td>\n",
       "      <td>39</td>\n",
       "      <td>2</td>\n",
       "      <td>1</td>\n",
       "      <td>2</td>\n",
       "      <td>2</td>\n",
       "      <td>2</td>\n",
       "      <td>1</td>\n",
       "      <td>2</td>\n",
       "    </tr>\n",
       "    <tr>\n",
       "      <th>4</th>\n",
       "      <td>1</td>\n",
       "      <td>1</td>\n",
       "      <td>12</td>\n",
       "      <td>3</td>\n",
       "      <td>4</td>\n",
       "      <td>2171</td>\n",
       "      <td>1</td>\n",
       "      <td>2</td>\n",
       "      <td>4</td>\n",
       "      <td>3</td>\n",
       "      <td>...</td>\n",
       "      <td>4</td>\n",
       "      <td>2</td>\n",
       "      <td>38</td>\n",
       "      <td>1</td>\n",
       "      <td>2</td>\n",
       "      <td>2</td>\n",
       "      <td>2</td>\n",
       "      <td>1</td>\n",
       "      <td>1</td>\n",
       "      <td>2</td>\n",
       "    </tr>\n",
       "  </tbody>\n",
       "</table>\n",
       "<p>5 rows × 21 columns</p>\n",
       "</div>"
      ],
      "text/plain": [
       "   credit.rating  account.balance  credit.duration.months  \\\n",
       "0              1                1                      18   \n",
       "1              1                1                       9   \n",
       "2              1                2                      12   \n",
       "3              1                1                      12   \n",
       "4              1                1                      12   \n",
       "\n",
       "   previous.credit.payment.status  credit.purpose  credit.amount  savings  \\\n",
       "0                               3               2           1049        1   \n",
       "1                               3               4           2799        1   \n",
       "2                               2               4            841        2   \n",
       "3                               3               4           2122        1   \n",
       "4                               3               4           2171        1   \n",
       "\n",
       "   employment.duration  installment.rate  marital.status       ...        \\\n",
       "0                    1                 4               1       ...         \n",
       "1                    2                 2               3       ...         \n",
       "2                    3                 2               1       ...         \n",
       "3                    2                 3               3       ...         \n",
       "4                    2                 4               3       ...         \n",
       "\n",
       "   residence.duration  current.assets  age  other.credits  apartment.type  \\\n",
       "0                   4               2   21              2               1   \n",
       "1                   2               1   36              2               1   \n",
       "2                   4               1   23              2               1   \n",
       "3                   2               1   39              2               1   \n",
       "4                   4               2   38              1               2   \n",
       "\n",
       "   bank.credits  occupation  dependents  telephone  foreign.worker  \n",
       "0             1           3           1          1               1  \n",
       "1             2           3           2          1               1  \n",
       "2             1           2           1          1               1  \n",
       "3             2           2           2          1               2  \n",
       "4             2           2           1          1               2  \n",
       "\n",
       "[5 rows x 21 columns]"
      ]
     },
     "execution_count": 46,
     "metadata": {},
     "output_type": "execute_result"
    }
   ],
   "source": [
    "df.head()"
   ]
  },
  {
   "cell_type": "code",
   "execution_count": 47,
   "metadata": {},
   "outputs": [
    {
     "data": {
      "text/plain": [
       "array([   1,    1,   18,    3,    2, 1049,    1,    1,    4,    1,    1,\n",
       "          4,    2,   21,    2,    1,    1,    3,    1,    1,    1])"
      ]
     },
     "execution_count": 47,
     "metadata": {},
     "output_type": "execute_result"
    }
   ],
   "source": [
    "df.loc[0,:].values"
   ]
  },
  {
   "cell_type": "code",
   "execution_count": 48,
   "metadata": {},
   "outputs": [
    {
     "data": {
      "text/plain": [
       "3    457\n",
       "1    274\n",
       "2    269\n",
       "Name: account.balance, dtype: int64"
      ]
     },
     "execution_count": 48,
     "metadata": {},
     "output_type": "execute_result"
    }
   ],
   "source": [
    "df['account.balance'].value_counts()"
   ]
  },
  {
   "cell_type": "code",
   "execution_count": 49,
   "metadata": {},
   "outputs": [
    {
     "data": {
      "text/plain": [
       "1    603\n",
       "4    183\n",
       "3    111\n",
       "2    103\n",
       "Name: savings, dtype: int64"
      ]
     },
     "execution_count": 49,
     "metadata": {},
     "output_type": "execute_result"
    }
   ],
   "source": [
    "df.savings.value_counts()"
   ]
  },
  {
   "cell_type": "code",
   "execution_count": 50,
   "metadata": {},
   "outputs": [
    {
     "data": {
      "text/plain": [
       "array([   3,   18,    3,    3, 1049,    1,    4,    4,    1,    1,    4,\n",
       "          2,   21,    2,    1,    1,    3,    1,    1,    1])"
      ]
     },
     "execution_count": 50,
     "metadata": {},
     "output_type": "execute_result"
    }
   ],
   "source": [
    "Xprev1 = np.array([3,   18,    3,    3, 1049,    1,    4,    4,    1,    1,\n",
    "          4,    2,   21,    2,    1,    1,    3,    1,    1,    1])\n",
    "Xprev1"
   ]
  },
  {
   "cell_type": "code",
   "execution_count": 51,
   "metadata": {},
   "outputs": [
    {
     "data": {
      "text/plain": [
       "array([[   3,   18,    3,    3, 1049,    1,    4,    4,    1,    1,    4,\n",
       "           2,   21,    2,    1,    1,    3,    1,    1,    1]])"
      ]
     },
     "execution_count": 51,
     "metadata": {},
     "output_type": "execute_result"
    }
   ],
   "source": [
    "Xprev1 = Xprev1.reshape(1, -1)\n",
    "Xprev1"
   ]
  },
  {
   "cell_type": "code",
   "execution_count": 52,
   "metadata": {},
   "outputs": [
    {
     "data": {
      "text/plain": [
       "array([[ 0.9782425 , -0.24085723,  1.14143673,  0.03602747, -0.78765692,\n",
       "        -0.73084383,  1.40630087,  0.91847717, -1.28634145, -0.32021217,\n",
       "         1.04698668, -0.3410551 , -1.28157308,  0.47801802, -1.75120525,\n",
       "        -0.76143209,  0.14694918, -0.42828957, -0.82331789, -0.19601428]])"
      ]
     },
     "execution_count": 52,
     "metadata": {},
     "output_type": "execute_result"
    }
   ],
   "source": [
    "# Colocando o valor na Escala\n",
    "#standardization = StandardScaler()\n",
    "Xst_prev1 = standardization.transform(Xprev1)\n",
    "Xst_prev1"
   ]
  },
  {
   "cell_type": "code",
   "execution_count": 53,
   "metadata": {},
   "outputs": [
    {
     "data": {
      "text/plain": [
       "array([1])"
      ]
     },
     "execution_count": 53,
     "metadata": {},
     "output_type": "execute_result"
    }
   ],
   "source": [
    "model2.predict(Xst_prev1)"
   ]
  },
  {
   "cell_type": "code",
   "execution_count": 54,
   "metadata": {},
   "outputs": [
    {
     "data": {
      "text/plain": [
       "array([[0.23120965, 0.76879035]])"
      ]
     },
     "execution_count": 54,
     "metadata": {},
     "output_type": "execute_result"
    }
   ],
   "source": [
    "model2.predict_proba(Xst_prev1)"
   ]
  },
  {
   "cell_type": "code",
   "execution_count": 55,
   "metadata": {},
   "outputs": [
    {
     "data": {
      "text/plain": [
       "array([   1,    3,   24,    3,    2, 3777,    3,    2,    4,    3,    1,\n",
       "          4,    1,   40,    2,    2,    1,    3,    1,    2,    1])"
      ]
     },
     "execution_count": 55,
     "metadata": {},
     "output_type": "execute_result"
    }
   ],
   "source": [
    "df.loc[100,:].values"
   ]
  },
  {
   "cell_type": "code",
   "execution_count": 56,
   "metadata": {},
   "outputs": [
    {
     "data": {
      "text/plain": [
       "array([   3,   24,    3,    2, 3777,    3,    2,    4,    3,    1,    4,\n",
       "          1,   40,    2,    2,    1,    3,    1,    2,    1])"
      ]
     },
     "execution_count": 56,
     "metadata": {},
     "output_type": "execute_result"
    }
   ],
   "source": [
    "Xprev2 = np.array([ 3,   24,    3,    2, 3777,    3,    2,    4,    3,    1,\n",
    "          4,    1,   40,    2,    2,    1,    3,    1,    2,    1])\n",
    "Xprev2"
   ]
  },
  {
   "cell_type": "code",
   "execution_count": 57,
   "metadata": {},
   "outputs": [
    {
     "data": {
      "text/plain": [
       "array([[   3,   24,    3,    2, 3777,    3,    2,    4,    3,    1,    4,\n",
       "           1,   40,    2,    2,    1,    3,    1,    2,    1]])"
      ]
     },
     "execution_count": 57,
     "metadata": {},
     "output_type": "execute_result"
    }
   ],
   "source": [
    "Xprev2 = Xprev2.reshape(1, -1)\n",
    "Xprev2"
   ]
  },
  {
   "cell_type": "code",
   "execution_count": 58,
   "metadata": {},
   "outputs": [
    {
     "data": {
      "text/plain": [
       "array([[ 0.9782425 ,  0.25695309,  1.14143673, -0.99332892,  0.1792595 ,\n",
       "         0.94156768, -0.40361016,  0.91847717,  0.58879186, -0.32021217,\n",
       "         1.04698668, -1.29372298,  0.39287944,  0.47801802,  0.13586937,\n",
       "        -0.76143209,  0.14694918, -0.42828957,  1.21459768, -0.19601428]])"
      ]
     },
     "execution_count": 58,
     "metadata": {},
     "output_type": "execute_result"
    }
   ],
   "source": [
    "# Colocando o valor na Escala\n",
    "#standardization = StandardScaler()\n",
    "Xst_prev2 = standardization.transform(Xprev2)\n",
    "Xst_prev2"
   ]
  },
  {
   "cell_type": "code",
   "execution_count": 59,
   "metadata": {},
   "outputs": [
    {
     "data": {
      "text/plain": [
       "array([1])"
      ]
     },
     "execution_count": 59,
     "metadata": {},
     "output_type": "execute_result"
    }
   ],
   "source": [
    "model2.predict(Xst_prev2)"
   ]
  },
  {
   "cell_type": "code",
   "execution_count": 60,
   "metadata": {},
   "outputs": [
    {
     "data": {
      "text/plain": [
       "array([[0.05252126, 0.94747874]])"
      ]
     },
     "execution_count": 60,
     "metadata": {},
     "output_type": "execute_result"
    }
   ],
   "source": [
    "model2.predict_proba(Xst_prev2)"
   ]
  },
  {
   "cell_type": "code",
   "execution_count": 61,
   "metadata": {},
   "outputs": [
    {
     "data": {
      "text/plain": [
       "array([   1,    1,   10,    3,    4, 2241,    1,    1,    1,    3,    1,\n",
       "          3,    1,   48,    2,    1,    2,    2,    2,    1,    2])"
      ]
     },
     "execution_count": 61,
     "metadata": {},
     "output_type": "execute_result"
    }
   ],
   "source": [
    "df.loc[5,:].values"
   ]
  },
  {
   "cell_type": "code",
   "execution_count": 62,
   "metadata": {},
   "outputs": [
    {
     "data": {
      "text/plain": [
       "array([   1,   10,    3,    4, 2241,    1,    1,    1,    3,    1,    3,\n",
       "          1,   48,    2,    1,    2,    2,    2,    1,    2])"
      ]
     },
     "execution_count": 62,
     "metadata": {},
     "output_type": "execute_result"
    }
   ],
   "source": [
    "Xprev = np.array([1,   10,    3,    4, 2241,    1,    1,    1,    3,    1,\n",
    "          3,    1,   48,    2,    1,    2,    2,    2,    1,    2])\n",
    "Xprev"
   ]
  },
  {
   "cell_type": "code",
   "execution_count": 63,
   "metadata": {},
   "outputs": [
    {
     "data": {
      "text/plain": [
       "array([[   1,   10,    3,    4, 2241,    1,    1,    1,    3,    1,    3,\n",
       "           1,   48,    2,    1,    2,    2,    2,    1,    2]])"
      ]
     },
     "execution_count": 63,
     "metadata": {},
     "output_type": "execute_result"
    }
   ],
   "source": [
    "Xprev = Xprev.reshape(1, -1)\n",
    "Xprev"
   ]
  },
  {
   "cell_type": "code",
   "execution_count": 64,
   "metadata": {},
   "outputs": [
    {
     "data": {
      "text/plain": [
       "array([[-1.41647598, -0.90460432,  1.14143673,  1.06538387, -0.36516265,\n",
       "        -0.73084383, -1.30856567, -1.76451358,  0.58879186, -0.32021217,\n",
       "         0.14050471, -1.29372298,  1.09791208,  0.47801802, -1.75120525,\n",
       "         1.31331475, -1.38377145,  2.33486893, -0.82331789,  5.10166904]])"
      ]
     },
     "execution_count": 64,
     "metadata": {},
     "output_type": "execute_result"
    }
   ],
   "source": [
    "# Colocando o valor na Escala\n",
    "Xst_prev = standardization.transform(Xprev)\n",
    "Xst_prev"
   ]
  },
  {
   "cell_type": "code",
   "execution_count": 65,
   "metadata": {},
   "outputs": [
    {
     "data": {
      "text/plain": [
       "array([1])"
      ]
     },
     "execution_count": 65,
     "metadata": {},
     "output_type": "execute_result"
    }
   ],
   "source": [
    "# aplicando o modelo de Regressão Logística\n",
    "model2.predict(Xst_prev)"
   ]
  },
  {
   "cell_type": "code",
   "execution_count": 66,
   "metadata": {},
   "outputs": [
    {
     "data": {
      "text/plain": [
       "array([[0.11313744, 0.88686256]])"
      ]
     },
     "execution_count": 66,
     "metadata": {},
     "output_type": "execute_result"
    }
   ],
   "source": [
    "model2.predict_proba(Xst_prev)"
   ]
  }
 ],
 "metadata": {
  "kernelspec": {
   "display_name": "Python 3",
   "language": "python",
   "name": "python3"
  },
  "language_info": {
   "codemirror_mode": {
    "name": "ipython",
    "version": 3
   },
   "file_extension": ".py",
   "mimetype": "text/x-python",
   "name": "python",
   "nbconvert_exporter": "python",
   "pygments_lexer": "ipython3",
   "version": "3.6.4"
  }
 },
 "nbformat": 4,
 "nbformat_minor": 2
}
