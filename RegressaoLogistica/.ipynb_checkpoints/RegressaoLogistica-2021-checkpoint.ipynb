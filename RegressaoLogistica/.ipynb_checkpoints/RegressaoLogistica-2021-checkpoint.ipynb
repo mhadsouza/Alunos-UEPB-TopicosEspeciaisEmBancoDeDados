{
 "cells": [
  {
   "cell_type": "markdown",
   "metadata": {},
   "source": [
    "# Regressão Logística"
   ]
  },
  {
   "cell_type": "markdown",
   "metadata": {},
   "source": [
    "## Dataset de Previsão e Detecção de Risco de Crédito"
   ]
  },
  {
   "cell_type": "markdown",
   "metadata": {},
   "source": [
    "Variável target ou classe:<br />\n",
    "credit.rating<br />\n",
    "1 - concedeu crédito<br />\n",
    "0 - não concedeu crédito"
   ]
  },
  {
   "cell_type": "code",
   "execution_count": 1,
   "metadata": {},
   "outputs": [],
   "source": [
    "import warnings\n",
    "warnings.filterwarnings('ignore')\n",
    "import pandas as pd\n",
    "import numpy as np\n",
    "import matplotlib.pyplot as plt\n",
    "import matplotlib as mpl\n",
    "from sklearn.linear_model import LogisticRegression\n",
    "from sklearn import metrics\n",
    "from sklearn.metrics import confusion_matrix\n",
    "#from sklearn.cross_validation import cross_val_score\n",
    "from sklearn.model_selection import train_test_split\n",
    "from sklearn.preprocessing import StandardScaler\n",
    "%matplotlib inline "
   ]
  },
  {
   "cell_type": "code",
   "execution_count": 3,
   "metadata": {},
   "outputs": [
    {
     "name": "stdout",
     "output_type": "stream",
     "text": [
      "(1000, 21)\n"
     ]
    },
    {
     "data": {
      "text/html": [
       "<div>\n",
       "<style scoped>\n",
       "    .dataframe tbody tr th:only-of-type {\n",
       "        vertical-align: middle;\n",
       "    }\n",
       "\n",
       "    .dataframe tbody tr th {\n",
       "        vertical-align: top;\n",
       "    }\n",
       "\n",
       "    .dataframe thead th {\n",
       "        text-align: right;\n",
       "    }\n",
       "</style>\n",
       "<table border=\"1\" class=\"dataframe\">\n",
       "  <thead>\n",
       "    <tr style=\"text-align: right;\">\n",
       "      <th></th>\n",
       "      <th>credit.rating</th>\n",
       "      <th>account.balance</th>\n",
       "      <th>credit.duration.months</th>\n",
       "      <th>previous.credit.payment.status</th>\n",
       "      <th>credit.purpose</th>\n",
       "      <th>credit.amount</th>\n",
       "      <th>savings</th>\n",
       "      <th>employment.duration</th>\n",
       "      <th>installment.rate</th>\n",
       "      <th>marital.status</th>\n",
       "      <th>...</th>\n",
       "      <th>residence.duration</th>\n",
       "      <th>current.assets</th>\n",
       "      <th>age</th>\n",
       "      <th>other.credits</th>\n",
       "      <th>apartment.type</th>\n",
       "      <th>bank.credits</th>\n",
       "      <th>occupation</th>\n",
       "      <th>dependents</th>\n",
       "      <th>telephone</th>\n",
       "      <th>foreign.worker</th>\n",
       "    </tr>\n",
       "  </thead>\n",
       "  <tbody>\n",
       "    <tr>\n",
       "      <th>0</th>\n",
       "      <td>1</td>\n",
       "      <td>1</td>\n",
       "      <td>18</td>\n",
       "      <td>3</td>\n",
       "      <td>2</td>\n",
       "      <td>1049</td>\n",
       "      <td>1</td>\n",
       "      <td>1</td>\n",
       "      <td>4</td>\n",
       "      <td>1</td>\n",
       "      <td>...</td>\n",
       "      <td>4</td>\n",
       "      <td>2</td>\n",
       "      <td>21</td>\n",
       "      <td>2</td>\n",
       "      <td>1</td>\n",
       "      <td>1</td>\n",
       "      <td>3</td>\n",
       "      <td>1</td>\n",
       "      <td>1</td>\n",
       "      <td>1</td>\n",
       "    </tr>\n",
       "    <tr>\n",
       "      <th>1</th>\n",
       "      <td>1</td>\n",
       "      <td>1</td>\n",
       "      <td>9</td>\n",
       "      <td>3</td>\n",
       "      <td>4</td>\n",
       "      <td>2799</td>\n",
       "      <td>1</td>\n",
       "      <td>2</td>\n",
       "      <td>2</td>\n",
       "      <td>3</td>\n",
       "      <td>...</td>\n",
       "      <td>2</td>\n",
       "      <td>1</td>\n",
       "      <td>36</td>\n",
       "      <td>2</td>\n",
       "      <td>1</td>\n",
       "      <td>2</td>\n",
       "      <td>3</td>\n",
       "      <td>2</td>\n",
       "      <td>1</td>\n",
       "      <td>1</td>\n",
       "    </tr>\n",
       "    <tr>\n",
       "      <th>2</th>\n",
       "      <td>1</td>\n",
       "      <td>2</td>\n",
       "      <td>12</td>\n",
       "      <td>2</td>\n",
       "      <td>4</td>\n",
       "      <td>841</td>\n",
       "      <td>2</td>\n",
       "      <td>3</td>\n",
       "      <td>2</td>\n",
       "      <td>1</td>\n",
       "      <td>...</td>\n",
       "      <td>4</td>\n",
       "      <td>1</td>\n",
       "      <td>23</td>\n",
       "      <td>2</td>\n",
       "      <td>1</td>\n",
       "      <td>1</td>\n",
       "      <td>2</td>\n",
       "      <td>1</td>\n",
       "      <td>1</td>\n",
       "      <td>1</td>\n",
       "    </tr>\n",
       "    <tr>\n",
       "      <th>3</th>\n",
       "      <td>1</td>\n",
       "      <td>1</td>\n",
       "      <td>12</td>\n",
       "      <td>3</td>\n",
       "      <td>4</td>\n",
       "      <td>2122</td>\n",
       "      <td>1</td>\n",
       "      <td>2</td>\n",
       "      <td>3</td>\n",
       "      <td>3</td>\n",
       "      <td>...</td>\n",
       "      <td>2</td>\n",
       "      <td>1</td>\n",
       "      <td>39</td>\n",
       "      <td>2</td>\n",
       "      <td>1</td>\n",
       "      <td>2</td>\n",
       "      <td>2</td>\n",
       "      <td>2</td>\n",
       "      <td>1</td>\n",
       "      <td>2</td>\n",
       "    </tr>\n",
       "    <tr>\n",
       "      <th>4</th>\n",
       "      <td>1</td>\n",
       "      <td>1</td>\n",
       "      <td>12</td>\n",
       "      <td>3</td>\n",
       "      <td>4</td>\n",
       "      <td>2171</td>\n",
       "      <td>1</td>\n",
       "      <td>2</td>\n",
       "      <td>4</td>\n",
       "      <td>3</td>\n",
       "      <td>...</td>\n",
       "      <td>4</td>\n",
       "      <td>2</td>\n",
       "      <td>38</td>\n",
       "      <td>1</td>\n",
       "      <td>2</td>\n",
       "      <td>2</td>\n",
       "      <td>2</td>\n",
       "      <td>1</td>\n",
       "      <td>1</td>\n",
       "      <td>2</td>\n",
       "    </tr>\n",
       "  </tbody>\n",
       "</table>\n",
       "<p>5 rows × 21 columns</p>\n",
       "</div>"
      ],
      "text/plain": [
       "   credit.rating  account.balance  credit.duration.months  \\\n",
       "0              1                1                      18   \n",
       "1              1                1                       9   \n",
       "2              1                2                      12   \n",
       "3              1                1                      12   \n",
       "4              1                1                      12   \n",
       "\n",
       "   previous.credit.payment.status  credit.purpose  credit.amount  savings  \\\n",
       "0                               3               2           1049        1   \n",
       "1                               3               4           2799        1   \n",
       "2                               2               4            841        2   \n",
       "3                               3               4           2122        1   \n",
       "4                               3               4           2171        1   \n",
       "\n",
       "   employment.duration  installment.rate  marital.status  ...  \\\n",
       "0                    1                 4               1  ...   \n",
       "1                    2                 2               3  ...   \n",
       "2                    3                 2               1  ...   \n",
       "3                    2                 3               3  ...   \n",
       "4                    2                 4               3  ...   \n",
       "\n",
       "   residence.duration  current.assets  age  other.credits  apartment.type  \\\n",
       "0                   4               2   21              2               1   \n",
       "1                   2               1   36              2               1   \n",
       "2                   4               1   23              2               1   \n",
       "3                   2               1   39              2               1   \n",
       "4                   4               2   38              1               2   \n",
       "\n",
       "   bank.credits  occupation  dependents  telephone  foreign.worker  \n",
       "0             1           3           1          1               1  \n",
       "1             2           3           2          1               1  \n",
       "2             1           2           1          1               1  \n",
       "3             2           2           2          1               2  \n",
       "4             2           2           1          1               2  \n",
       "\n",
       "[5 rows x 21 columns]"
      ]
     },
     "execution_count": 3,
     "metadata": {},
     "output_type": "execute_result"
    }
   ],
   "source": [
    "df = pd.read_csv('credit_dataset_final.csv')\n",
    "print(df.shape)\n",
    "df.head()"
   ]
  },
  {
   "cell_type": "code",
   "execution_count": 4,
   "metadata": {},
   "outputs": [
    {
     "data": {
      "text/plain": [
       "1    700\n",
       "0    300\n",
       "Name: credit.rating, dtype: int64"
      ]
     },
     "execution_count": 4,
     "metadata": {},
     "output_type": "execute_result"
    }
   ],
   "source": [
    "df['credit.rating'].value_counts()"
   ]
  },
  {
   "cell_type": "markdown",
   "metadata": {},
   "source": [
    "Variável target ou classe:<br />\n",
    "credit.rating<br />\n",
    "1 - concedeu crédito<br />\n",
    "0 - não concedeu crédito"
   ]
  },
  {
   "cell_type": "code",
   "execution_count": 5,
   "metadata": {},
   "outputs": [
    {
     "data": {
      "text/plain": [
       "Index(['account.balance', 'credit.duration.months',\n",
       "       'previous.credit.payment.status', 'credit.purpose', 'credit.amount',\n",
       "       'savings', 'employment.duration', 'installment.rate', 'marital.status',\n",
       "       'guarantor', 'residence.duration', 'current.assets', 'age',\n",
       "       'other.credits', 'apartment.type', 'bank.credits', 'occupation',\n",
       "       'dependents', 'telephone', 'foreign.worker'],\n",
       "      dtype='object')"
      ]
     },
     "execution_count": 5,
     "metadata": {},
     "output_type": "execute_result"
    }
   ],
   "source": [
    "df.columns[1:]"
   ]
  },
  {
   "cell_type": "code",
   "execution_count": 6,
   "metadata": {},
   "outputs": [
    {
     "data": {
      "text/plain": [
       "20"
      ]
     },
     "execution_count": 6,
     "metadata": {},
     "output_type": "execute_result"
    }
   ],
   "source": [
    "len(df.columns[1:])"
   ]
  },
  {
   "cell_type": "code",
   "execution_count": 7,
   "metadata": {},
   "outputs": [
    {
     "data": {
      "text/plain": [
       "1000"
      ]
     },
     "execution_count": 7,
     "metadata": {},
     "output_type": "execute_result"
    }
   ],
   "source": [
    "len(df)"
   ]
  },
  {
   "cell_type": "markdown",
   "metadata": {},
   "source": [
    "## Análise Exploratória"
   ]
  },
  {
   "cell_type": "code",
   "execution_count": 8,
   "metadata": {},
   "outputs": [
    {
     "data": {
      "text/plain": [
       "1    700\n",
       "0    300\n",
       "Name: credit.rating, dtype: int64"
      ]
     },
     "execution_count": 8,
     "metadata": {},
     "output_type": "execute_result"
    }
   ],
   "source": [
    "# variavél target ou classe - class\n",
    "df['credit.rating'].value_counts()"
   ]
  },
  {
   "cell_type": "code",
   "execution_count": 9,
   "metadata": {},
   "outputs": [
    {
     "data": {
      "text/html": [
       "<div>\n",
       "<style scoped>\n",
       "    .dataframe tbody tr th:only-of-type {\n",
       "        vertical-align: middle;\n",
       "    }\n",
       "\n",
       "    .dataframe tbody tr th {\n",
       "        vertical-align: top;\n",
       "    }\n",
       "\n",
       "    .dataframe thead th {\n",
       "        text-align: right;\n",
       "    }\n",
       "</style>\n",
       "<table border=\"1\" class=\"dataframe\">\n",
       "  <thead>\n",
       "    <tr style=\"text-align: right;\">\n",
       "      <th></th>\n",
       "      <th>count</th>\n",
       "      <th>mean</th>\n",
       "      <th>std</th>\n",
       "      <th>min</th>\n",
       "      <th>25%</th>\n",
       "      <th>50%</th>\n",
       "      <th>75%</th>\n",
       "      <th>max</th>\n",
       "    </tr>\n",
       "  </thead>\n",
       "  <tbody>\n",
       "    <tr>\n",
       "      <th>credit.rating</th>\n",
       "      <td>1000.0</td>\n",
       "      <td>0.700</td>\n",
       "      <td>0.458487</td>\n",
       "      <td>0.0</td>\n",
       "      <td>0.0</td>\n",
       "      <td>1.0</td>\n",
       "      <td>1.00</td>\n",
       "      <td>1.0</td>\n",
       "    </tr>\n",
       "    <tr>\n",
       "      <th>account.balance</th>\n",
       "      <td>1000.0</td>\n",
       "      <td>2.183</td>\n",
       "      <td>0.835589</td>\n",
       "      <td>1.0</td>\n",
       "      <td>1.0</td>\n",
       "      <td>2.0</td>\n",
       "      <td>3.00</td>\n",
       "      <td>3.0</td>\n",
       "    </tr>\n",
       "    <tr>\n",
       "      <th>credit.duration.months</th>\n",
       "      <td>1000.0</td>\n",
       "      <td>20.903</td>\n",
       "      <td>12.058814</td>\n",
       "      <td>4.0</td>\n",
       "      <td>12.0</td>\n",
       "      <td>18.0</td>\n",
       "      <td>24.00</td>\n",
       "      <td>72.0</td>\n",
       "    </tr>\n",
       "    <tr>\n",
       "      <th>previous.credit.payment.status</th>\n",
       "      <td>1000.0</td>\n",
       "      <td>2.292</td>\n",
       "      <td>0.620581</td>\n",
       "      <td>1.0</td>\n",
       "      <td>2.0</td>\n",
       "      <td>2.0</td>\n",
       "      <td>3.00</td>\n",
       "      <td>3.0</td>\n",
       "    </tr>\n",
       "    <tr>\n",
       "      <th>credit.purpose</th>\n",
       "      <td>1000.0</td>\n",
       "      <td>2.965</td>\n",
       "      <td>0.971967</td>\n",
       "      <td>1.0</td>\n",
       "      <td>2.0</td>\n",
       "      <td>3.0</td>\n",
       "      <td>4.00</td>\n",
       "      <td>4.0</td>\n",
       "    </tr>\n",
       "    <tr>\n",
       "      <th>credit.amount</th>\n",
       "      <td>1000.0</td>\n",
       "      <td>3271.248</td>\n",
       "      <td>2822.751760</td>\n",
       "      <td>250.0</td>\n",
       "      <td>1365.5</td>\n",
       "      <td>2319.5</td>\n",
       "      <td>3972.25</td>\n",
       "      <td>18424.0</td>\n",
       "    </tr>\n",
       "    <tr>\n",
       "      <th>savings</th>\n",
       "      <td>1000.0</td>\n",
       "      <td>1.874</td>\n",
       "      <td>1.196476</td>\n",
       "      <td>1.0</td>\n",
       "      <td>1.0</td>\n",
       "      <td>1.0</td>\n",
       "      <td>3.00</td>\n",
       "      <td>4.0</td>\n",
       "    </tr>\n",
       "    <tr>\n",
       "      <th>employment.duration</th>\n",
       "      <td>1000.0</td>\n",
       "      <td>2.446</td>\n",
       "      <td>1.105580</td>\n",
       "      <td>1.0</td>\n",
       "      <td>2.0</td>\n",
       "      <td>2.0</td>\n",
       "      <td>4.00</td>\n",
       "      <td>4.0</td>\n",
       "    </tr>\n",
       "    <tr>\n",
       "      <th>installment.rate</th>\n",
       "      <td>1000.0</td>\n",
       "      <td>2.973</td>\n",
       "      <td>1.118715</td>\n",
       "      <td>1.0</td>\n",
       "      <td>2.0</td>\n",
       "      <td>3.0</td>\n",
       "      <td>4.00</td>\n",
       "      <td>4.0</td>\n",
       "    </tr>\n",
       "    <tr>\n",
       "      <th>marital.status</th>\n",
       "      <td>1000.0</td>\n",
       "      <td>2.372</td>\n",
       "      <td>1.067125</td>\n",
       "      <td>1.0</td>\n",
       "      <td>1.0</td>\n",
       "      <td>3.0</td>\n",
       "      <td>3.00</td>\n",
       "      <td>4.0</td>\n",
       "    </tr>\n",
       "    <tr>\n",
       "      <th>guarantor</th>\n",
       "      <td>1000.0</td>\n",
       "      <td>1.093</td>\n",
       "      <td>0.290578</td>\n",
       "      <td>1.0</td>\n",
       "      <td>1.0</td>\n",
       "      <td>1.0</td>\n",
       "      <td>1.00</td>\n",
       "      <td>2.0</td>\n",
       "    </tr>\n",
       "    <tr>\n",
       "      <th>residence.duration</th>\n",
       "      <td>1000.0</td>\n",
       "      <td>2.845</td>\n",
       "      <td>1.103718</td>\n",
       "      <td>1.0</td>\n",
       "      <td>2.0</td>\n",
       "      <td>3.0</td>\n",
       "      <td>4.00</td>\n",
       "      <td>4.0</td>\n",
       "    </tr>\n",
       "    <tr>\n",
       "      <th>current.assets</th>\n",
       "      <td>1000.0</td>\n",
       "      <td>2.358</td>\n",
       "      <td>1.050209</td>\n",
       "      <td>1.0</td>\n",
       "      <td>1.0</td>\n",
       "      <td>2.0</td>\n",
       "      <td>3.00</td>\n",
       "      <td>4.0</td>\n",
       "    </tr>\n",
       "    <tr>\n",
       "      <th>age</th>\n",
       "      <td>1000.0</td>\n",
       "      <td>35.542</td>\n",
       "      <td>11.352670</td>\n",
       "      <td>19.0</td>\n",
       "      <td>27.0</td>\n",
       "      <td>33.0</td>\n",
       "      <td>42.00</td>\n",
       "      <td>75.0</td>\n",
       "    </tr>\n",
       "    <tr>\n",
       "      <th>other.credits</th>\n",
       "      <td>1000.0</td>\n",
       "      <td>1.814</td>\n",
       "      <td>0.389301</td>\n",
       "      <td>1.0</td>\n",
       "      <td>2.0</td>\n",
       "      <td>2.0</td>\n",
       "      <td>2.00</td>\n",
       "      <td>2.0</td>\n",
       "    </tr>\n",
       "    <tr>\n",
       "      <th>apartment.type</th>\n",
       "      <td>1000.0</td>\n",
       "      <td>1.928</td>\n",
       "      <td>0.530186</td>\n",
       "      <td>1.0</td>\n",
       "      <td>2.0</td>\n",
       "      <td>2.0</td>\n",
       "      <td>2.00</td>\n",
       "      <td>3.0</td>\n",
       "    </tr>\n",
       "    <tr>\n",
       "      <th>bank.credits</th>\n",
       "      <td>1000.0</td>\n",
       "      <td>1.367</td>\n",
       "      <td>0.482228</td>\n",
       "      <td>1.0</td>\n",
       "      <td>1.0</td>\n",
       "      <td>1.0</td>\n",
       "      <td>2.00</td>\n",
       "      <td>2.0</td>\n",
       "    </tr>\n",
       "    <tr>\n",
       "      <th>occupation</th>\n",
       "      <td>1000.0</td>\n",
       "      <td>2.904</td>\n",
       "      <td>0.653614</td>\n",
       "      <td>1.0</td>\n",
       "      <td>3.0</td>\n",
       "      <td>3.0</td>\n",
       "      <td>3.00</td>\n",
       "      <td>4.0</td>\n",
       "    </tr>\n",
       "    <tr>\n",
       "      <th>dependents</th>\n",
       "      <td>1000.0</td>\n",
       "      <td>1.155</td>\n",
       "      <td>0.362086</td>\n",
       "      <td>1.0</td>\n",
       "      <td>1.0</td>\n",
       "      <td>1.0</td>\n",
       "      <td>1.00</td>\n",
       "      <td>2.0</td>\n",
       "    </tr>\n",
       "    <tr>\n",
       "      <th>telephone</th>\n",
       "      <td>1000.0</td>\n",
       "      <td>1.404</td>\n",
       "      <td>0.490943</td>\n",
       "      <td>1.0</td>\n",
       "      <td>1.0</td>\n",
       "      <td>1.0</td>\n",
       "      <td>2.00</td>\n",
       "      <td>2.0</td>\n",
       "    </tr>\n",
       "    <tr>\n",
       "      <th>foreign.worker</th>\n",
       "      <td>1000.0</td>\n",
       "      <td>1.037</td>\n",
       "      <td>0.188856</td>\n",
       "      <td>1.0</td>\n",
       "      <td>1.0</td>\n",
       "      <td>1.0</td>\n",
       "      <td>1.00</td>\n",
       "      <td>2.0</td>\n",
       "    </tr>\n",
       "  </tbody>\n",
       "</table>\n",
       "</div>"
      ],
      "text/plain": [
       "                                 count      mean          std    min     25%  \\\n",
       "credit.rating                   1000.0     0.700     0.458487    0.0     0.0   \n",
       "account.balance                 1000.0     2.183     0.835589    1.0     1.0   \n",
       "credit.duration.months          1000.0    20.903    12.058814    4.0    12.0   \n",
       "previous.credit.payment.status  1000.0     2.292     0.620581    1.0     2.0   \n",
       "credit.purpose                  1000.0     2.965     0.971967    1.0     2.0   \n",
       "credit.amount                   1000.0  3271.248  2822.751760  250.0  1365.5   \n",
       "savings                         1000.0     1.874     1.196476    1.0     1.0   \n",
       "employment.duration             1000.0     2.446     1.105580    1.0     2.0   \n",
       "installment.rate                1000.0     2.973     1.118715    1.0     2.0   \n",
       "marital.status                  1000.0     2.372     1.067125    1.0     1.0   \n",
       "guarantor                       1000.0     1.093     0.290578    1.0     1.0   \n",
       "residence.duration              1000.0     2.845     1.103718    1.0     2.0   \n",
       "current.assets                  1000.0     2.358     1.050209    1.0     1.0   \n",
       "age                             1000.0    35.542    11.352670   19.0    27.0   \n",
       "other.credits                   1000.0     1.814     0.389301    1.0     2.0   \n",
       "apartment.type                  1000.0     1.928     0.530186    1.0     2.0   \n",
       "bank.credits                    1000.0     1.367     0.482228    1.0     1.0   \n",
       "occupation                      1000.0     2.904     0.653614    1.0     3.0   \n",
       "dependents                      1000.0     1.155     0.362086    1.0     1.0   \n",
       "telephone                       1000.0     1.404     0.490943    1.0     1.0   \n",
       "foreign.worker                  1000.0     1.037     0.188856    1.0     1.0   \n",
       "\n",
       "                                   50%      75%      max  \n",
       "credit.rating                      1.0     1.00      1.0  \n",
       "account.balance                    2.0     3.00      3.0  \n",
       "credit.duration.months            18.0    24.00     72.0  \n",
       "previous.credit.payment.status     2.0     3.00      3.0  \n",
       "credit.purpose                     3.0     4.00      4.0  \n",
       "credit.amount                   2319.5  3972.25  18424.0  \n",
       "savings                            1.0     3.00      4.0  \n",
       "employment.duration                2.0     4.00      4.0  \n",
       "installment.rate                   3.0     4.00      4.0  \n",
       "marital.status                     3.0     3.00      4.0  \n",
       "guarantor                          1.0     1.00      2.0  \n",
       "residence.duration                 3.0     4.00      4.0  \n",
       "current.assets                     2.0     3.00      4.0  \n",
       "age                               33.0    42.00     75.0  \n",
       "other.credits                      2.0     2.00      2.0  \n",
       "apartment.type                     2.0     2.00      3.0  \n",
       "bank.credits                       1.0     2.00      2.0  \n",
       "occupation                         3.0     3.00      4.0  \n",
       "dependents                         1.0     1.00      2.0  \n",
       "telephone                          1.0     2.00      2.0  \n",
       "foreign.worker                     1.0     1.00      2.0  "
      ]
     },
     "execution_count": 9,
     "metadata": {},
     "output_type": "execute_result"
    }
   ],
   "source": [
    "df.describe().T"
   ]
  },
  {
   "cell_type": "code",
   "execution_count": 10,
   "metadata": {},
   "outputs": [
    {
     "data": {
      "text/plain": [
       "<AxesSubplot:xlabel='credit.rating', ylabel='credit.amount'>"
      ]
     },
     "execution_count": 10,
     "metadata": {},
     "output_type": "execute_result"
    },
    {
     "data": {
      "image/png": "[encoded data removed]",
      "text/plain": [
       "<Figure size 432x288 with 1 Axes>"
      ]
     },
     "metadata": {
      "needs_background": "light"
     },
     "output_type": "display_data"
    }
   ],
   "source": [
    "import seaborn as sns\n",
    "sns.barplot(x='credit.rating',y='credit.amount', data=df)"
   ]
  },
  {
   "cell_type": "code",
   "execution_count": 11,
   "metadata": {},
   "outputs": [
    {
     "data": {
      "text/plain": [
       "<seaborn.axisgrid.FacetGrid at 0x7f45b8e5c1c0>"
      ]
     },
     "execution_count": 11,
     "metadata": {},
     "output_type": "execute_result"
    },
    {
     "data": {
      "image/png": "[encoded data removed]",
      "text/plain": [
       "<Figure size 432x432 with 1 Axes>"
      ]
     },
     "metadata": {
      "needs_background": "light"
     },
     "output_type": "display_data"
    }
   ],
   "source": [
    "sns.factorplot(x='credit.rating', y='age', hue='credit.rating', data=df,\n",
    "                   size=6, kind=\"bar\", palette=\"muted\")"
   ]
  },
  {
   "cell_type": "code",
   "execution_count": 12,
   "metadata": {},
   "outputs": [
    {
     "data": {
      "text/plain": [
       "35.542"
      ]
     },
     "execution_count": 12,
     "metadata": {},
     "output_type": "execute_result"
    }
   ],
   "source": [
    "df.age.mean()"
   ]
  },
  {
   "cell_type": "code",
   "execution_count": 13,
   "metadata": {},
   "outputs": [
    {
     "data": {
      "text/plain": [
       "<AxesSubplot:xlabel='age', ylabel='Density'>"
      ]
     },
     "execution_count": 13,
     "metadata": {},
     "output_type": "execute_result"
    },
    {
     "data": {
      "image/png": "[encoded data removed]",
      "text/plain": [
       "<Figure size 432x288 with 1 Axes>"
      ]
     },
     "metadata": {
      "needs_background": "light"
     },
     "output_type": "display_data"
    }
   ],
   "source": [
    "sns.distplot(df.age)"
   ]
  },
  {
   "cell_type": "code",
   "execution_count": 14,
   "metadata": {},
   "outputs": [
    {
     "data": {
      "text/plain": [
       "<AxesSubplot:xlabel='credit.amount', ylabel='Density'>"
      ]
     },
     "execution_count": 14,
     "metadata": {},
     "output_type": "execute_result"
    },
    {
     "data": {
      "image/png": "[encoded data removed]",
      "text/plain": [
       "<Figure size 432x288 with 1 Axes>"
      ]
     },
     "metadata": {
      "needs_background": "light"
     },
     "output_type": "display_data"
    }
   ],
   "source": [
    "sns.distplot(df['credit.amount']) # quantidade de crédito"
   ]
  },
  {
   "cell_type": "markdown",
   "metadata": {},
   "source": [
    "## Definindo X e Y"
   ]
  },
  {
   "cell_type": "code",
   "execution_count": 15,
   "metadata": {},
   "outputs": [
    {
     "data": {
      "text/html": [
       "<div>\n",
       "<style scoped>\n",
       "    .dataframe tbody tr th:only-of-type {\n",
       "        vertical-align: middle;\n",
       "    }\n",
       "\n",
       "    .dataframe tbody tr th {\n",
       "        vertical-align: top;\n",
       "    }\n",
       "\n",
       "    .dataframe thead th {\n",
       "        text-align: right;\n",
       "    }\n",
       "</style>\n",
       "<table border=\"1\" class=\"dataframe\">\n",
       "  <thead>\n",
       "    <tr style=\"text-align: right;\">\n",
       "      <th></th>\n",
       "      <th>credit.rating</th>\n",
       "      <th>account.balance</th>\n",
       "      <th>credit.duration.months</th>\n",
       "      <th>previous.credit.payment.status</th>\n",
       "      <th>credit.purpose</th>\n",
       "      <th>credit.amount</th>\n",
       "      <th>savings</th>\n",
       "      <th>employment.duration</th>\n",
       "      <th>installment.rate</th>\n",
       "      <th>marital.status</th>\n",
       "      <th>...</th>\n",
       "      <th>residence.duration</th>\n",
       "      <th>current.assets</th>\n",
       "      <th>age</th>\n",
       "      <th>other.credits</th>\n",
       "      <th>apartment.type</th>\n",
       "      <th>bank.credits</th>\n",
       "      <th>occupation</th>\n",
       "      <th>dependents</th>\n",
       "      <th>telephone</th>\n",
       "      <th>foreign.worker</th>\n",
       "    </tr>\n",
       "  </thead>\n",
       "  <tbody>\n",
       "    <tr>\n",
       "      <th>0</th>\n",
       "      <td>1</td>\n",
       "      <td>1</td>\n",
       "      <td>18</td>\n",
       "      <td>3</td>\n",
       "      <td>2</td>\n",
       "      <td>1049</td>\n",
       "      <td>1</td>\n",
       "      <td>1</td>\n",
       "      <td>4</td>\n",
       "      <td>1</td>\n",
       "      <td>...</td>\n",
       "      <td>4</td>\n",
       "      <td>2</td>\n",
       "      <td>21</td>\n",
       "      <td>2</td>\n",
       "      <td>1</td>\n",
       "      <td>1</td>\n",
       "      <td>3</td>\n",
       "      <td>1</td>\n",
       "      <td>1</td>\n",
       "      <td>1</td>\n",
       "    </tr>\n",
       "    <tr>\n",
       "      <th>1</th>\n",
       "      <td>1</td>\n",
       "      <td>1</td>\n",
       "      <td>9</td>\n",
       "      <td>3</td>\n",
       "      <td>4</td>\n",
       "      <td>2799</td>\n",
       "      <td>1</td>\n",
       "      <td>2</td>\n",
       "      <td>2</td>\n",
       "      <td>3</td>\n",
       "      <td>...</td>\n",
       "      <td>2</td>\n",
       "      <td>1</td>\n",
       "      <td>36</td>\n",
       "      <td>2</td>\n",
       "      <td>1</td>\n",
       "      <td>2</td>\n",
       "      <td>3</td>\n",
       "      <td>2</td>\n",
       "      <td>1</td>\n",
       "      <td>1</td>\n",
       "    </tr>\n",
       "    <tr>\n",
       "      <th>2</th>\n",
       "      <td>1</td>\n",
       "      <td>2</td>\n",
       "      <td>12</td>\n",
       "      <td>2</td>\n",
       "      <td>4</td>\n",
       "      <td>841</td>\n",
       "      <td>2</td>\n",
       "      <td>3</td>\n",
       "      <td>2</td>\n",
       "      <td>1</td>\n",
       "      <td>...</td>\n",
       "      <td>4</td>\n",
       "      <td>1</td>\n",
       "      <td>23</td>\n",
       "      <td>2</td>\n",
       "      <td>1</td>\n",
       "      <td>1</td>\n",
       "      <td>2</td>\n",
       "      <td>1</td>\n",
       "      <td>1</td>\n",
       "      <td>1</td>\n",
       "    </tr>\n",
       "    <tr>\n",
       "      <th>3</th>\n",
       "      <td>1</td>\n",
       "      <td>1</td>\n",
       "      <td>12</td>\n",
       "      <td>3</td>\n",
       "      <td>4</td>\n",
       "      <td>2122</td>\n",
       "      <td>1</td>\n",
       "      <td>2</td>\n",
       "      <td>3</td>\n",
       "      <td>3</td>\n",
       "      <td>...</td>\n",
       "      <td>2</td>\n",
       "      <td>1</td>\n",
       "      <td>39</td>\n",
       "      <td>2</td>\n",
       "      <td>1</td>\n",
       "      <td>2</td>\n",
       "      <td>2</td>\n",
       "      <td>2</td>\n",
       "      <td>1</td>\n",
       "      <td>2</td>\n",
       "    </tr>\n",
       "    <tr>\n",
       "      <th>4</th>\n",
       "      <td>1</td>\n",
       "      <td>1</td>\n",
       "      <td>12</td>\n",
       "      <td>3</td>\n",
       "      <td>4</td>\n",
       "      <td>2171</td>\n",
       "      <td>1</td>\n",
       "      <td>2</td>\n",
       "      <td>4</td>\n",
       "      <td>3</td>\n",
       "      <td>...</td>\n",
       "      <td>4</td>\n",
       "      <td>2</td>\n",
       "      <td>38</td>\n",
       "      <td>1</td>\n",
       "      <td>2</td>\n",
       "      <td>2</td>\n",
       "      <td>2</td>\n",
       "      <td>1</td>\n",
       "      <td>1</td>\n",
       "      <td>2</td>\n",
       "    </tr>\n",
       "  </tbody>\n",
       "</table>\n",
       "<p>5 rows × 21 columns</p>\n",
       "</div>"
      ],
      "text/plain": [
       "   credit.rating  account.balance  credit.duration.months  \\\n",
       "0              1                1                      18   \n",
       "1              1                1                       9   \n",
       "2              1                2                      12   \n",
       "3              1                1                      12   \n",
       "4              1                1                      12   \n",
       "\n",
       "   previous.credit.payment.status  credit.purpose  credit.amount  savings  \\\n",
       "0                               3               2           1049        1   \n",
       "1                               3               4           2799        1   \n",
       "2                               2               4            841        2   \n",
       "3                               3               4           2122        1   \n",
       "4                               3               4           2171        1   \n",
       "\n",
       "   employment.duration  installment.rate  marital.status  ...  \\\n",
       "0                    1                 4               1  ...   \n",
       "1                    2                 2               3  ...   \n",
       "2                    3                 2               1  ...   \n",
       "3                    2                 3               3  ...   \n",
       "4                    2                 4               3  ...   \n",
       "\n",
       "   residence.duration  current.assets  age  other.credits  apartment.type  \\\n",
       "0                   4               2   21              2               1   \n",
       "1                   2               1   36              2               1   \n",
       "2                   4               1   23              2               1   \n",
       "3                   2               1   39              2               1   \n",
       "4                   4               2   38              1               2   \n",
       "\n",
       "   bank.credits  occupation  dependents  telephone  foreign.worker  \n",
       "0             1           3           1          1               1  \n",
       "1             2           3           2          1               1  \n",
       "2             1           2           1          1               1  \n",
       "3             2           2           2          1               2  \n",
       "4             2           2           1          1               2  \n",
       "\n",
       "[5 rows x 21 columns]"
      ]
     },
     "execution_count": 15,
     "metadata": {},
     "output_type": "execute_result"
    }
   ],
   "source": [
    "df.head()"
   ]
  },
  {
   "cell_type": "code",
   "execution_count": 16,
   "metadata": {},
   "outputs": [
    {
     "data": {
      "text/plain": [
       "Index(['account.balance', 'credit.duration.months',\n",
       "       'previous.credit.payment.status', 'credit.purpose', 'credit.amount',\n",
       "       'savings', 'employment.duration', 'installment.rate', 'marital.status',\n",
       "       'guarantor', 'residence.duration', 'current.assets', 'age',\n",
       "       'other.credits', 'apartment.type', 'bank.credits', 'occupation',\n",
       "       'dependents', 'telephone', 'foreign.worker'],\n",
       "      dtype='object')"
      ]
     },
     "execution_count": 16,
     "metadata": {},
     "output_type": "execute_result"
    }
   ],
   "source": [
    "atributos = df.columns[1:]\n",
    "atributos"
   ]
  },
  {
   "cell_type": "code",
   "execution_count": 23,
   "metadata": {},
   "outputs": [],
   "source": [
    "atributos2 = ['account.balance', 'credit.duration.months',\n",
    "       'previous.credit.payment.status', 'credit.purpose', 'credit.amount',\n",
    "       'savings', 'employment.duration', 'installment.rate', 'marital.status',\n",
    "       'guarantor', 'residence.duration', 'current.assets', 'age',\n",
    "       'other.credits', 'apartment.type', 'bank.credits', 'occupation',\n",
    "       'dependents', 'telephone', 'foreign.worker']"
   ]
  },
  {
   "cell_type": "code",
   "execution_count": 24,
   "metadata": {},
   "outputs": [
    {
     "data": {
      "text/html": [
       "<div>\n",
       "<style scoped>\n",
       "    .dataframe tbody tr th:only-of-type {\n",
       "        vertical-align: middle;\n",
       "    }\n",
       "\n",
       "    .dataframe tbody tr th {\n",
       "        vertical-align: top;\n",
       "    }\n",
       "\n",
       "    .dataframe thead th {\n",
       "        text-align: right;\n",
       "    }\n",
       "</style>\n",
       "<table border=\"1\" class=\"dataframe\">\n",
       "  <thead>\n",
       "    <tr style=\"text-align: right;\">\n",
       "      <th></th>\n",
       "      <th>account.balance</th>\n",
       "      <th>credit.duration.months</th>\n",
       "      <th>previous.credit.payment.status</th>\n",
       "      <th>credit.purpose</th>\n",
       "      <th>credit.amount</th>\n",
       "      <th>savings</th>\n",
       "      <th>employment.duration</th>\n",
       "      <th>installment.rate</th>\n",
       "      <th>marital.status</th>\n",
       "      <th>guarantor</th>\n",
       "      <th>residence.duration</th>\n",
       "      <th>current.assets</th>\n",
       "      <th>age</th>\n",
       "      <th>other.credits</th>\n",
       "      <th>apartment.type</th>\n",
       "      <th>bank.credits</th>\n",
       "      <th>occupation</th>\n",
       "      <th>dependents</th>\n",
       "      <th>telephone</th>\n",
       "      <th>foreign.worker</th>\n",
       "    </tr>\n",
       "  </thead>\n",
       "  <tbody>\n",
       "    <tr>\n",
       "      <th>0</th>\n",
       "      <td>1</td>\n",
       "      <td>18</td>\n",
       "      <td>3</td>\n",
       "      <td>2</td>\n",
       "      <td>1049</td>\n",
       "      <td>1</td>\n",
       "      <td>1</td>\n",
       "      <td>4</td>\n",
       "      <td>1</td>\n",
       "      <td>1</td>\n",
       "      <td>4</td>\n",
       "      <td>2</td>\n",
       "      <td>21</td>\n",
       "      <td>2</td>\n",
       "      <td>1</td>\n",
       "      <td>1</td>\n",
       "      <td>3</td>\n",
       "      <td>1</td>\n",
       "      <td>1</td>\n",
       "      <td>1</td>\n",
       "    </tr>\n",
       "    <tr>\n",
       "      <th>1</th>\n",
       "      <td>1</td>\n",
       "      <td>9</td>\n",
       "      <td>3</td>\n",
       "      <td>4</td>\n",
       "      <td>2799</td>\n",
       "      <td>1</td>\n",
       "      <td>2</td>\n",
       "      <td>2</td>\n",
       "      <td>3</td>\n",
       "      <td>1</td>\n",
       "      <td>2</td>\n",
       "      <td>1</td>\n",
       "      <td>36</td>\n",
       "      <td>2</td>\n",
       "      <td>1</td>\n",
       "      <td>2</td>\n",
       "      <td>3</td>\n",
       "      <td>2</td>\n",
       "      <td>1</td>\n",
       "      <td>1</td>\n",
       "    </tr>\n",
       "    <tr>\n",
       "      <th>2</th>\n",
       "      <td>2</td>\n",
       "      <td>12</td>\n",
       "      <td>2</td>\n",
       "      <td>4</td>\n",
       "      <td>841</td>\n",
       "      <td>2</td>\n",
       "      <td>3</td>\n",
       "      <td>2</td>\n",
       "      <td>1</td>\n",
       "      <td>1</td>\n",
       "      <td>4</td>\n",
       "      <td>1</td>\n",
       "      <td>23</td>\n",
       "      <td>2</td>\n",
       "      <td>1</td>\n",
       "      <td>1</td>\n",
       "      <td>2</td>\n",
       "      <td>1</td>\n",
       "      <td>1</td>\n",
       "      <td>1</td>\n",
       "    </tr>\n",
       "    <tr>\n",
       "      <th>3</th>\n",
       "      <td>1</td>\n",
       "      <td>12</td>\n",
       "      <td>3</td>\n",
       "      <td>4</td>\n",
       "      <td>2122</td>\n",
       "      <td>1</td>\n",
       "      <td>2</td>\n",
       "      <td>3</td>\n",
       "      <td>3</td>\n",
       "      <td>1</td>\n",
       "      <td>2</td>\n",
       "      <td>1</td>\n",
       "      <td>39</td>\n",
       "      <td>2</td>\n",
       "      <td>1</td>\n",
       "      <td>2</td>\n",
       "      <td>2</td>\n",
       "      <td>2</td>\n",
       "      <td>1</td>\n",
       "      <td>2</td>\n",
       "    </tr>\n",
       "    <tr>\n",
       "      <th>4</th>\n",
       "      <td>1</td>\n",
       "      <td>12</td>\n",
       "      <td>3</td>\n",
       "      <td>4</td>\n",
       "      <td>2171</td>\n",
       "      <td>1</td>\n",
       "      <td>2</td>\n",
       "      <td>4</td>\n",
       "      <td>3</td>\n",
       "      <td>1</td>\n",
       "      <td>4</td>\n",
       "      <td>2</td>\n",
       "      <td>38</td>\n",
       "      <td>1</td>\n",
       "      <td>2</td>\n",
       "      <td>2</td>\n",
       "      <td>2</td>\n",
       "      <td>1</td>\n",
       "      <td>1</td>\n",
       "      <td>2</td>\n",
       "    </tr>\n",
       "  </tbody>\n",
       "</table>\n",
       "</div>"
      ],
      "text/plain": [
       "   account.balance  credit.duration.months  previous.credit.payment.status  \\\n",
       "0                1                      18                               3   \n",
       "1                1                       9                               3   \n",
       "2                2                      12                               2   \n",
       "3                1                      12                               3   \n",
       "4                1                      12                               3   \n",
       "\n",
       "   credit.purpose  credit.amount  savings  employment.duration  \\\n",
       "0               2           1049        1                    1   \n",
       "1               4           2799        1                    2   \n",
       "2               4            841        2                    3   \n",
       "3               4           2122        1                    2   \n",
       "4               4           2171        1                    2   \n",
       "\n",
       "   installment.rate  marital.status  guarantor  residence.duration  \\\n",
       "0                 4               1          1                   4   \n",
       "1                 2               3          1                   2   \n",
       "2                 2               1          1                   4   \n",
       "3                 3               3          1                   2   \n",
       "4                 4               3          1                   4   \n",
       "\n",
       "   current.assets  age  other.credits  apartment.type  bank.credits  \\\n",
       "0               2   21              2               1             1   \n",
       "1               1   36              2               1             2   \n",
       "2               1   23              2               1             1   \n",
       "3               1   39              2               1             2   \n",
       "4               2   38              1               2             2   \n",
       "\n",
       "   occupation  dependents  telephone  foreign.worker  \n",
       "0           3           1          1               1  \n",
       "1           3           2          1               1  \n",
       "2           2           1          1               1  \n",
       "3           2           2          1               2  \n",
       "4           2           1          1               2  "
      ]
     },
     "execution_count": 24,
     "metadata": {},
     "output_type": "execute_result"
    }
   ],
   "source": [
    "X = df[ atributos2 ]\n",
    "X.head()"
   ]
  },
  {
   "cell_type": "code",
   "execution_count": 25,
   "metadata": {},
   "outputs": [],
   "source": [
    "X = X.values.astype(float)\n",
    "y = df.iloc[:,0]"
   ]
  },
  {
   "cell_type": "code",
   "execution_count": 26,
   "metadata": {},
   "outputs": [],
   "source": [
    "import numpy as np\n",
    "np.set_printoptions(precision=4, suppress=True)"
   ]
  },
  {
   "cell_type": "code",
   "execution_count": 27,
   "metadata": {},
   "outputs": [
    {
     "data": {
      "text/plain": [
       "array([[   1.,   18.,    3.,    2., 1049.,    1.,    1.,    4.,    1.,\n",
       "           1.,    4.,    2.,   21.,    2.,    1.,    1.,    3.,    1.,\n",
       "           1.,    1.],\n",
       "       [   1.,    9.,    3.,    4., 2799.,    1.,    2.,    2.,    3.,\n",
       "           1.,    2.,    1.,   36.,    2.,    1.,    2.,    3.,    2.,\n",
       "           1.,    1.],\n",
       "       [   2.,   12.,    2.,    4.,  841.,    2.,    3.,    2.,    1.,\n",
       "           1.,    4.,    1.,   23.,    2.,    1.,    1.,    2.,    1.,\n",
       "           1.,    1.]])"
      ]
     },
     "execution_count": 27,
     "metadata": {},
     "output_type": "execute_result"
    }
   ],
   "source": [
    "X[:3]"
   ]
  },
  {
   "cell_type": "code",
   "execution_count": 28,
   "metadata": {},
   "outputs": [
    {
     "data": {
      "text/plain": [
       "0    1\n",
       "1    1\n",
       "2    1\n",
       "Name: credit.rating, dtype: int64"
      ]
     },
     "execution_count": 28,
     "metadata": {},
     "output_type": "execute_result"
    }
   ],
   "source": [
    "y[:3]"
   ]
  },
  {
   "cell_type": "markdown",
   "metadata": {},
   "source": [
    "## Preparando os dados para aplicar Regressão Logistica<br />"
   ]
  },
  {
   "cell_type": "code",
   "execution_count": 29,
   "metadata": {},
   "outputs": [
    {
     "data": {
      "text/plain": [
       "(1000, 20)"
      ]
     },
     "execution_count": 29,
     "metadata": {},
     "output_type": "execute_result"
    }
   ],
   "source": [
    "X.shape"
   ]
  },
  {
   "cell_type": "markdown",
   "metadata": {},
   "source": [
    "## Aplicando o Algoritmo"
   ]
  },
  {
   "cell_type": "code",
   "execution_count": 30,
   "metadata": {},
   "outputs": [
    {
     "data": {
      "text/plain": [
       "LogisticRegression()"
      ]
     },
     "execution_count": 30,
     "metadata": {},
     "output_type": "execute_result"
    }
   ],
   "source": [
    "# instantiate a logistic regression model, and fit with X and y\n",
    "model = LogisticRegression()\n",
    "model = model.fit(X, y)\n",
    "model"
   ]
  },
  {
   "cell_type": "markdown",
   "metadata": {},
   "source": [
    "## Avaliando A Acurácia do Modelo"
   ]
  },
  {
   "cell_type": "code",
   "execution_count": 32,
   "metadata": {},
   "outputs": [
    {
     "data": {
      "text/plain": [
       "77.3"
      ]
     },
     "execution_count": 32,
     "metadata": {},
     "output_type": "execute_result"
    }
   ],
   "source": [
    "# check the accuracy on the training set\n",
    "model.score(X, y) * 100"
   ]
  },
  {
   "cell_type": "markdown",
   "metadata": {},
   "source": [
    "### Examinando os Coeficientes"
   ]
  },
  {
   "cell_type": "code",
   "execution_count": 33,
   "metadata": {},
   "outputs": [
    {
     "data": {
      "text/plain": [
       "array(['credit.rating', 'account.balance', 'credit.duration.months',\n",
       "       'previous.credit.payment.status', 'credit.purpose',\n",
       "       'credit.amount', 'savings', 'employment.duration',\n",
       "       'installment.rate', 'marital.status', 'guarantor',\n",
       "       'residence.duration', 'current.assets', 'age', 'other.credits',\n",
       "       'apartment.type', 'bank.credits', 'occupation', 'dependents',\n",
       "       'telephone', 'foreign.worker'], dtype=object)"
      ]
     },
     "execution_count": 33,
     "metadata": {},
     "output_type": "execute_result"
    }
   ],
   "source": [
    "cols = df.columns.values\n",
    "cols"
   ]
  },
  {
   "cell_type": "code",
   "execution_count": 34,
   "metadata": {},
   "outputs": [
    {
     "data": {
      "text/plain": [
       "array(['account.balance', 'credit.duration.months',\n",
       "       'previous.credit.payment.status', 'credit.purpose',\n",
       "       'credit.amount', 'savings', 'employment.duration',\n",
       "       'installment.rate', 'marital.status', 'guarantor',\n",
       "       'residence.duration', 'current.assets', 'age', 'other.credits',\n",
       "       'apartment.type', 'bank.credits', 'occupation', 'dependents',\n",
       "       'telephone', 'foreign.worker'], dtype=object)"
      ]
     },
     "execution_count": 34,
     "metadata": {},
     "output_type": "execute_result"
    }
   ],
   "source": [
    "cols_atributos = cols[1:]\n",
    "cols_atributos"
   ]
  },
  {
   "cell_type": "code",
   "execution_count": 35,
   "metadata": {},
   "outputs": [
    {
     "data": {
      "text/plain": [
       "20"
      ]
     },
     "execution_count": 35,
     "metadata": {},
     "output_type": "execute_result"
    }
   ],
   "source": [
    "len(cols_atributos)"
   ]
  },
  {
   "cell_type": "code",
   "execution_count": 36,
   "metadata": {},
   "outputs": [
    {
     "data": {
      "text/plain": [
       "array([ 0.7701, -0.0266,  0.4366, -0.4398, -0.0001,  0.2906,  0.1889,\n",
       "       -0.299 ,  0.2042,  0.0305, -0.0703, -0.2537,  0.0076,  0.1504,\n",
       "        0.0885, -0.0051, -0.0185, -0.066 ,  0.1314,  0.0551])"
      ]
     },
     "execution_count": 36,
     "metadata": {},
     "output_type": "execute_result"
    }
   ],
   "source": [
    "model.coef_[0]"
   ]
  },
  {
   "cell_type": "code",
   "execution_count": 37,
   "metadata": {},
   "outputs": [
    {
     "data": {
      "text/plain": [
       "20"
      ]
     },
     "execution_count": 37,
     "metadata": {},
     "output_type": "execute_result"
    }
   ],
   "source": [
    "len(model.coef_[0])"
   ]
  },
  {
   "cell_type": "code",
   "execution_count": 38,
   "metadata": {},
   "outputs": [
    {
     "data": {
      "text/plain": [
       "[['account.balance', 0.7700642208377255],\n",
       " ['credit.duration.months', -0.026589819657996977],\n",
       " ['previous.credit.payment.status', 0.4365783196019469],\n",
       " ['credit.purpose', -0.43982099200525826],\n",
       " ['credit.amount', -0.00010015569222940846],\n",
       " ['savings', 0.29056241743991007],\n",
       " ['employment.duration', 0.18886498839262766],\n",
       " ['installment.rate', -0.29898680334688466],\n",
       " ['marital.status', 0.20421250047942482],\n",
       " ['guarantor', 0.030487804032281306],\n",
       " ['residence.duration', -0.07033723167280903],\n",
       " ['current.assets', -0.2537019292650646],\n",
       " ['age', 0.00764103290693132],\n",
       " ['other.credits', 0.15044460317154318],\n",
       " ['apartment.type', 0.08848098286006051],\n",
       " ['bank.credits', -0.005129218752886984],\n",
       " ['occupation', -0.018493741168788273],\n",
       " ['dependents', -0.06596520583980234],\n",
       " ['telephone', 0.13140941168789902],\n",
       " ['foreign.worker', 0.055056477641199315]]"
      ]
     },
     "execution_count": 38,
     "metadata": {},
     "output_type": "execute_result"
    }
   ],
   "source": [
    "# examine the coefficients\n",
    "elementos = [[x,y] for x, y in zip(cols_atributos, model.coef_[0])]\n",
    "elementos"
   ]
  },
  {
   "cell_type": "code",
   "execution_count": 39,
   "metadata": {},
   "outputs": [
    {
     "data": {
      "text/html": [
       "<div>\n",
       "<style scoped>\n",
       "    .dataframe tbody tr th:only-of-type {\n",
       "        vertical-align: middle;\n",
       "    }\n",
       "\n",
       "    .dataframe tbody tr th {\n",
       "        vertical-align: top;\n",
       "    }\n",
       "\n",
       "    .dataframe thead th {\n",
       "        text-align: right;\n",
       "    }\n",
       "</style>\n",
       "<table border=\"1\" class=\"dataframe\">\n",
       "  <thead>\n",
       "    <tr style=\"text-align: right;\">\n",
       "      <th></th>\n",
       "      <th>Atributo</th>\n",
       "      <th>Coeficiente</th>\n",
       "    </tr>\n",
       "  </thead>\n",
       "  <tbody>\n",
       "    <tr>\n",
       "      <th>0</th>\n",
       "      <td>account.balance</td>\n",
       "      <td>0.770064</td>\n",
       "    </tr>\n",
       "    <tr>\n",
       "      <th>1</th>\n",
       "      <td>credit.duration.months</td>\n",
       "      <td>-0.026590</td>\n",
       "    </tr>\n",
       "    <tr>\n",
       "      <th>2</th>\n",
       "      <td>previous.credit.payment.status</td>\n",
       "      <td>0.436578</td>\n",
       "    </tr>\n",
       "    <tr>\n",
       "      <th>3</th>\n",
       "      <td>credit.purpose</td>\n",
       "      <td>-0.439821</td>\n",
       "    </tr>\n",
       "    <tr>\n",
       "      <th>4</th>\n",
       "      <td>credit.amount</td>\n",
       "      <td>-0.000100</td>\n",
       "    </tr>\n",
       "    <tr>\n",
       "      <th>5</th>\n",
       "      <td>savings</td>\n",
       "      <td>0.290562</td>\n",
       "    </tr>\n",
       "    <tr>\n",
       "      <th>6</th>\n",
       "      <td>employment.duration</td>\n",
       "      <td>0.188865</td>\n",
       "    </tr>\n",
       "    <tr>\n",
       "      <th>7</th>\n",
       "      <td>installment.rate</td>\n",
       "      <td>-0.298987</td>\n",
       "    </tr>\n",
       "    <tr>\n",
       "      <th>8</th>\n",
       "      <td>marital.status</td>\n",
       "      <td>0.204213</td>\n",
       "    </tr>\n",
       "    <tr>\n",
       "      <th>9</th>\n",
       "      <td>guarantor</td>\n",
       "      <td>0.030488</td>\n",
       "    </tr>\n",
       "    <tr>\n",
       "      <th>10</th>\n",
       "      <td>residence.duration</td>\n",
       "      <td>-0.070337</td>\n",
       "    </tr>\n",
       "    <tr>\n",
       "      <th>11</th>\n",
       "      <td>current.assets</td>\n",
       "      <td>-0.253702</td>\n",
       "    </tr>\n",
       "    <tr>\n",
       "      <th>12</th>\n",
       "      <td>age</td>\n",
       "      <td>0.007641</td>\n",
       "    </tr>\n",
       "    <tr>\n",
       "      <th>13</th>\n",
       "      <td>other.credits</td>\n",
       "      <td>0.150445</td>\n",
       "    </tr>\n",
       "    <tr>\n",
       "      <th>14</th>\n",
       "      <td>apartment.type</td>\n",
       "      <td>0.088481</td>\n",
       "    </tr>\n",
       "    <tr>\n",
       "      <th>15</th>\n",
       "      <td>bank.credits</td>\n",
       "      <td>-0.005129</td>\n",
       "    </tr>\n",
       "    <tr>\n",
       "      <th>16</th>\n",
       "      <td>occupation</td>\n",
       "      <td>-0.018494</td>\n",
       "    </tr>\n",
       "    <tr>\n",
       "      <th>17</th>\n",
       "      <td>dependents</td>\n",
       "      <td>-0.065965</td>\n",
       "    </tr>\n",
       "    <tr>\n",
       "      <th>18</th>\n",
       "      <td>telephone</td>\n",
       "      <td>0.131409</td>\n",
       "    </tr>\n",
       "    <tr>\n",
       "      <th>19</th>\n",
       "      <td>foreign.worker</td>\n",
       "      <td>0.055056</td>\n",
       "    </tr>\n",
       "  </tbody>\n",
       "</table>\n",
       "</div>"
      ],
      "text/plain": [
       "                          Atributo  Coeficiente\n",
       "0                  account.balance     0.770064\n",
       "1           credit.duration.months    -0.026590\n",
       "2   previous.credit.payment.status     0.436578\n",
       "3                   credit.purpose    -0.439821\n",
       "4                    credit.amount    -0.000100\n",
       "5                          savings     0.290562\n",
       "6              employment.duration     0.188865\n",
       "7                 installment.rate    -0.298987\n",
       "8                   marital.status     0.204213\n",
       "9                        guarantor     0.030488\n",
       "10              residence.duration    -0.070337\n",
       "11                  current.assets    -0.253702\n",
       "12                             age     0.007641\n",
       "13                   other.credits     0.150445\n",
       "14                  apartment.type     0.088481\n",
       "15                    bank.credits    -0.005129\n",
       "16                      occupation    -0.018494\n",
       "17                      dependents    -0.065965\n",
       "18                       telephone     0.131409\n",
       "19                  foreign.worker     0.055056"
      ]
     },
     "execution_count": 39,
     "metadata": {},
     "output_type": "execute_result"
    }
   ],
   "source": [
    "# examine the coefficients\n",
    "pd.DataFrame(elementos, columns=['Atributo', 'Coeficiente'])"
   ]
  },
  {
   "cell_type": "markdown",
   "metadata": {},
   "source": [
    "## Avaliando o modelo usando split de dados"
   ]
  },
  {
   "cell_type": "code",
   "execution_count": 40,
   "metadata": {},
   "outputs": [
    {
     "name": "stdout",
     "output_type": "stream",
     "text": [
      "700 300\n"
     ]
    }
   ],
   "source": [
    "# evaluate the model by splitting into train and test sets\n",
    "X_train, X_test, y_train, y_test = train_test_split(X, y, test_size=0.3, random_state=0)\n",
    "print(len(X_train), len(X_test))"
   ]
  },
  {
   "cell_type": "code",
   "execution_count": 41,
   "metadata": {},
   "outputs": [
    {
     "data": {
      "text/plain": [
       "LogisticRegression()"
      ]
     },
     "execution_count": 41,
     "metadata": {},
     "output_type": "execute_result"
    }
   ],
   "source": [
    "model2 = LogisticRegression()\n",
    "model2.fit(X_train, y_train)\n",
    "model2"
   ]
  },
  {
   "cell_type": "code",
   "execution_count": 42,
   "metadata": {},
   "outputs": [
    {
     "name": "stdout",
     "output_type": "stream",
     "text": [
      "[1 0 1 1 0]\n"
     ]
    }
   ],
   "source": [
    "# predict class labels for the test set\n",
    "y_predicted = model2.predict(X_test)\n",
    "print (y_predicted[:5])"
   ]
  },
  {
   "cell_type": "code",
   "execution_count": 45,
   "metadata": {},
   "outputs": [
    {
     "name": "stdout",
     "output_type": "stream",
     "text": [
      "Acurácia:  72.66666666666667\n"
     ]
    }
   ],
   "source": [
    "# generate evaluation metrics\n",
    "print ('Acurácia: ', metrics.accuracy_score(y_test, y_predicted) * 100)"
   ]
  },
  {
   "cell_type": "code",
   "execution_count": 46,
   "metadata": {},
   "outputs": [
    {
     "name": "stdout",
     "output_type": "stream",
     "text": [
      "[[0.2809 0.7191]\n",
      " [0.5157 0.4843]\n",
      " [0.1101 0.8899]\n",
      " [0.0904 0.9096]\n",
      " [0.5062 0.4938]]\n"
     ]
    }
   ],
   "source": [
    "# generate class probabilities\n",
    "probs = model2.predict_proba(X_test)\n",
    "print (probs[:5])"
   ]
  },
  {
   "cell_type": "code",
   "execution_count": 47,
   "metadata": {},
   "outputs": [
    {
     "name": "stdout",
     "output_type": "stream",
     "text": [
      "Valores Previstos e suas Probalidades\n"
     ]
    },
    {
     "data": {
      "text/html": [
       "<div>\n",
       "<style scoped>\n",
       "    .dataframe tbody tr th:only-of-type {\n",
       "        vertical-align: middle;\n",
       "    }\n",
       "\n",
       "    .dataframe tbody tr th {\n",
       "        vertical-align: top;\n",
       "    }\n",
       "\n",
       "    .dataframe thead th {\n",
       "        text-align: right;\n",
       "    }\n",
       "</style>\n",
       "<table border=\"1\" class=\"dataframe\">\n",
       "  <thead>\n",
       "    <tr style=\"text-align: right;\">\n",
       "      <th></th>\n",
       "      <th>Classe</th>\n",
       "      <th>Probabilidade</th>\n",
       "    </tr>\n",
       "  </thead>\n",
       "  <tbody>\n",
       "    <tr>\n",
       "      <th>0</th>\n",
       "      <td>1</td>\n",
       "      <td>[0.2808937569054065, 0.7191062430945935]</td>\n",
       "    </tr>\n",
       "    <tr>\n",
       "      <th>1</th>\n",
       "      <td>0</td>\n",
       "      <td>[0.5157354294551246, 0.4842645705448753]</td>\n",
       "    </tr>\n",
       "    <tr>\n",
       "      <th>2</th>\n",
       "      <td>1</td>\n",
       "      <td>[0.1101313610891298, 0.8898686389108702]</td>\n",
       "    </tr>\n",
       "    <tr>\n",
       "      <th>3</th>\n",
       "      <td>1</td>\n",
       "      <td>[0.0903870549713447, 0.9096129450286553]</td>\n",
       "    </tr>\n",
       "    <tr>\n",
       "      <th>4</th>\n",
       "      <td>0</td>\n",
       "      <td>[0.5062240467606058, 0.49377595323939416]</td>\n",
       "    </tr>\n",
       "    <tr>\n",
       "      <th>5</th>\n",
       "      <td>0</td>\n",
       "      <td>[0.5852411899267853, 0.41475881007321475]</td>\n",
       "    </tr>\n",
       "    <tr>\n",
       "      <th>6</th>\n",
       "      <td>1</td>\n",
       "      <td>[0.06989587168074829, 0.9301041283192517]</td>\n",
       "    </tr>\n",
       "    <tr>\n",
       "      <th>7</th>\n",
       "      <td>1</td>\n",
       "      <td>[0.14437534958141474, 0.8556246504185853]</td>\n",
       "    </tr>\n",
       "    <tr>\n",
       "      <th>8</th>\n",
       "      <td>1</td>\n",
       "      <td>[0.10936856073510481, 0.8906314392648952]</td>\n",
       "    </tr>\n",
       "    <tr>\n",
       "      <th>9</th>\n",
       "      <td>1</td>\n",
       "      <td>[0.07877439677609521, 0.9212256032239048]</td>\n",
       "    </tr>\n",
       "  </tbody>\n",
       "</table>\n",
       "</div>"
      ],
      "text/plain": [
       "   Classe                              Probabilidade\n",
       "0       1   [0.2808937569054065, 0.7191062430945935]\n",
       "1       0   [0.5157354294551246, 0.4842645705448753]\n",
       "2       1   [0.1101313610891298, 0.8898686389108702]\n",
       "3       1   [0.0903870549713447, 0.9096129450286553]\n",
       "4       0  [0.5062240467606058, 0.49377595323939416]\n",
       "5       0  [0.5852411899267853, 0.41475881007321475]\n",
       "6       1  [0.06989587168074829, 0.9301041283192517]\n",
       "7       1  [0.14437534958141474, 0.8556246504185853]\n",
       "8       1  [0.10936856073510481, 0.8906314392648952]\n",
       "9       1  [0.07877439677609521, 0.9212256032239048]"
      ]
     },
     "execution_count": 47,
     "metadata": {},
     "output_type": "execute_result"
    }
   ],
   "source": [
    "print('Valores Previstos e suas Probalidades')\n",
    "elementos = [[x,y] for x, y in zip(y_predicted,probs)]\n",
    "elementos\n",
    "df2 = pd.DataFrame(elementos, columns=['Classe', 'Probabilidade'])\n",
    "df2.head(10)"
   ]
  },
  {
   "cell_type": "markdown",
   "metadata": {},
   "source": [
    "## Avaliando o modelo usando Cross-validation"
   ]
  },
  {
   "cell_type": "code",
   "execution_count": 48,
   "metadata": {},
   "outputs": [
    {
     "name": "stdout",
     "output_type": "stream",
     "text": [
      "[0.77 0.76 0.79 0.79 0.71 0.77 0.76 0.76 0.69 0.8 ]\n",
      "Accuracy: 0.760 (0.033)\n"
     ]
    }
   ],
   "source": [
    "from sklearn import model_selection\n",
    "num_folds = 10\n",
    "num_instances = len(X)\n",
    "seed = 7\n",
    "\n",
    "modelo = LogisticRegression()\n",
    "\n",
    "# Separando os dados em folds\n",
    "kfold = model_selection.KFold(num_folds, True, random_state = seed)\n",
    "resultado = model_selection.cross_val_score(modelo, X, y, cv = kfold, \n",
    "                                            scoring='accuracy')\n",
    "\n",
    "# Print do resultado\n",
    "print(resultado)\n",
    "print(\"Accuracy: %.3f (%.3f)\" % (resultado.mean(), resultado.std()))"
   ]
  },
  {
   "cell_type": "markdown",
   "metadata": {},
   "source": [
    "## Realizando Previsões"
   ]
  },
  {
   "cell_type": "code",
   "execution_count": 49,
   "metadata": {},
   "outputs": [
    {
     "data": {
      "text/html": [
       "<div>\n",
       "<style scoped>\n",
       "    .dataframe tbody tr th:only-of-type {\n",
       "        vertical-align: middle;\n",
       "    }\n",
       "\n",
       "    .dataframe tbody tr th {\n",
       "        vertical-align: top;\n",
       "    }\n",
       "\n",
       "    .dataframe thead th {\n",
       "        text-align: right;\n",
       "    }\n",
       "</style>\n",
       "<table border=\"1\" class=\"dataframe\">\n",
       "  <thead>\n",
       "    <tr style=\"text-align: right;\">\n",
       "      <th></th>\n",
       "      <th>credit.rating</th>\n",
       "      <th>account.balance</th>\n",
       "      <th>credit.duration.months</th>\n",
       "      <th>previous.credit.payment.status</th>\n",
       "      <th>credit.purpose</th>\n",
       "      <th>credit.amount</th>\n",
       "      <th>savings</th>\n",
       "      <th>employment.duration</th>\n",
       "      <th>installment.rate</th>\n",
       "      <th>marital.status</th>\n",
       "      <th>...</th>\n",
       "      <th>residence.duration</th>\n",
       "      <th>current.assets</th>\n",
       "      <th>age</th>\n",
       "      <th>other.credits</th>\n",
       "      <th>apartment.type</th>\n",
       "      <th>bank.credits</th>\n",
       "      <th>occupation</th>\n",
       "      <th>dependents</th>\n",
       "      <th>telephone</th>\n",
       "      <th>foreign.worker</th>\n",
       "    </tr>\n",
       "  </thead>\n",
       "  <tbody>\n",
       "    <tr>\n",
       "      <th>0</th>\n",
       "      <td>1</td>\n",
       "      <td>1</td>\n",
       "      <td>18</td>\n",
       "      <td>3</td>\n",
       "      <td>2</td>\n",
       "      <td>1049</td>\n",
       "      <td>1</td>\n",
       "      <td>1</td>\n",
       "      <td>4</td>\n",
       "      <td>1</td>\n",
       "      <td>...</td>\n",
       "      <td>4</td>\n",
       "      <td>2</td>\n",
       "      <td>21</td>\n",
       "      <td>2</td>\n",
       "      <td>1</td>\n",
       "      <td>1</td>\n",
       "      <td>3</td>\n",
       "      <td>1</td>\n",
       "      <td>1</td>\n",
       "      <td>1</td>\n",
       "    </tr>\n",
       "    <tr>\n",
       "      <th>1</th>\n",
       "      <td>1</td>\n",
       "      <td>1</td>\n",
       "      <td>9</td>\n",
       "      <td>3</td>\n",
       "      <td>4</td>\n",
       "      <td>2799</td>\n",
       "      <td>1</td>\n",
       "      <td>2</td>\n",
       "      <td>2</td>\n",
       "      <td>3</td>\n",
       "      <td>...</td>\n",
       "      <td>2</td>\n",
       "      <td>1</td>\n",
       "      <td>36</td>\n",
       "      <td>2</td>\n",
       "      <td>1</td>\n",
       "      <td>2</td>\n",
       "      <td>3</td>\n",
       "      <td>2</td>\n",
       "      <td>1</td>\n",
       "      <td>1</td>\n",
       "    </tr>\n",
       "    <tr>\n",
       "      <th>2</th>\n",
       "      <td>1</td>\n",
       "      <td>2</td>\n",
       "      <td>12</td>\n",
       "      <td>2</td>\n",
       "      <td>4</td>\n",
       "      <td>841</td>\n",
       "      <td>2</td>\n",
       "      <td>3</td>\n",
       "      <td>2</td>\n",
       "      <td>1</td>\n",
       "      <td>...</td>\n",
       "      <td>4</td>\n",
       "      <td>1</td>\n",
       "      <td>23</td>\n",
       "      <td>2</td>\n",
       "      <td>1</td>\n",
       "      <td>1</td>\n",
       "      <td>2</td>\n",
       "      <td>1</td>\n",
       "      <td>1</td>\n",
       "      <td>1</td>\n",
       "    </tr>\n",
       "    <tr>\n",
       "      <th>3</th>\n",
       "      <td>1</td>\n",
       "      <td>1</td>\n",
       "      <td>12</td>\n",
       "      <td>3</td>\n",
       "      <td>4</td>\n",
       "      <td>2122</td>\n",
       "      <td>1</td>\n",
       "      <td>2</td>\n",
       "      <td>3</td>\n",
       "      <td>3</td>\n",
       "      <td>...</td>\n",
       "      <td>2</td>\n",
       "      <td>1</td>\n",
       "      <td>39</td>\n",
       "      <td>2</td>\n",
       "      <td>1</td>\n",
       "      <td>2</td>\n",
       "      <td>2</td>\n",
       "      <td>2</td>\n",
       "      <td>1</td>\n",
       "      <td>2</td>\n",
       "    </tr>\n",
       "    <tr>\n",
       "      <th>4</th>\n",
       "      <td>1</td>\n",
       "      <td>1</td>\n",
       "      <td>12</td>\n",
       "      <td>3</td>\n",
       "      <td>4</td>\n",
       "      <td>2171</td>\n",
       "      <td>1</td>\n",
       "      <td>2</td>\n",
       "      <td>4</td>\n",
       "      <td>3</td>\n",
       "      <td>...</td>\n",
       "      <td>4</td>\n",
       "      <td>2</td>\n",
       "      <td>38</td>\n",
       "      <td>1</td>\n",
       "      <td>2</td>\n",
       "      <td>2</td>\n",
       "      <td>2</td>\n",
       "      <td>1</td>\n",
       "      <td>1</td>\n",
       "      <td>2</td>\n",
       "    </tr>\n",
       "  </tbody>\n",
       "</table>\n",
       "<p>5 rows × 21 columns</p>\n",
       "</div>"
      ],
      "text/plain": [
       "   credit.rating  account.balance  credit.duration.months  \\\n",
       "0              1                1                      18   \n",
       "1              1                1                       9   \n",
       "2              1                2                      12   \n",
       "3              1                1                      12   \n",
       "4              1                1                      12   \n",
       "\n",
       "   previous.credit.payment.status  credit.purpose  credit.amount  savings  \\\n",
       "0                               3               2           1049        1   \n",
       "1                               3               4           2799        1   \n",
       "2                               2               4            841        2   \n",
       "3                               3               4           2122        1   \n",
       "4                               3               4           2171        1   \n",
       "\n",
       "   employment.duration  installment.rate  marital.status  ...  \\\n",
       "0                    1                 4               1  ...   \n",
       "1                    2                 2               3  ...   \n",
       "2                    3                 2               1  ...   \n",
       "3                    2                 3               3  ...   \n",
       "4                    2                 4               3  ...   \n",
       "\n",
       "   residence.duration  current.assets  age  other.credits  apartment.type  \\\n",
       "0                   4               2   21              2               1   \n",
       "1                   2               1   36              2               1   \n",
       "2                   4               1   23              2               1   \n",
       "3                   2               1   39              2               1   \n",
       "4                   4               2   38              1               2   \n",
       "\n",
       "   bank.credits  occupation  dependents  telephone  foreign.worker  \n",
       "0             1           3           1          1               1  \n",
       "1             2           3           2          1               1  \n",
       "2             1           2           1          1               1  \n",
       "3             2           2           2          1               2  \n",
       "4             2           2           1          1               2  \n",
       "\n",
       "[5 rows x 21 columns]"
      ]
     },
     "execution_count": 49,
     "metadata": {},
     "output_type": "execute_result"
    }
   ],
   "source": [
    "df.head()"
   ]
  },
  {
   "cell_type": "code",
   "execution_count": 50,
   "metadata": {},
   "outputs": [
    {
     "data": {
      "text/plain": [
       "array([   1,    1,   18,    3,    2, 1049,    1,    1,    4,    1,    1,\n",
       "          4,    2,   21,    2,    1,    1,    3,    1,    1,    1])"
      ]
     },
     "execution_count": 50,
     "metadata": {},
     "output_type": "execute_result"
    }
   ],
   "source": [
    "df.loc[0,:].values"
   ]
  },
  {
   "cell_type": "code",
   "execution_count": 51,
   "metadata": {},
   "outputs": [
    {
     "data": {
      "text/plain": [
       "3    457\n",
       "1    274\n",
       "2    269\n",
       "Name: account.balance, dtype: int64"
      ]
     },
     "execution_count": 51,
     "metadata": {},
     "output_type": "execute_result"
    }
   ],
   "source": [
    "df['account.balance'].value_counts()"
   ]
  },
  {
   "cell_type": "code",
   "execution_count": 52,
   "metadata": {},
   "outputs": [
    {
     "data": {
      "text/plain": [
       "1    603\n",
       "4    183\n",
       "3    111\n",
       "2    103\n",
       "Name: savings, dtype: int64"
      ]
     },
     "execution_count": 52,
     "metadata": {},
     "output_type": "execute_result"
    }
   ],
   "source": [
    "df.savings.value_counts()"
   ]
  },
  {
   "cell_type": "code",
   "execution_count": 53,
   "metadata": {},
   "outputs": [
    {
     "data": {
      "text/plain": [
       "Index(['account.balance', 'credit.duration.months',\n",
       "       'previous.credit.payment.status', 'credit.purpose', 'credit.amount',\n",
       "       'savings', 'employment.duration', 'installment.rate', 'marital.status',\n",
       "       'guarantor', 'residence.duration', 'current.assets', 'age',\n",
       "       'other.credits', 'apartment.type', 'bank.credits', 'occupation',\n",
       "       'dependents', 'telephone', 'foreign.worker'],\n",
       "      dtype='object')"
      ]
     },
     "execution_count": 53,
     "metadata": {},
     "output_type": "execute_result"
    }
   ],
   "source": [
    "df.columns[1:]"
   ]
  },
  {
   "cell_type": "code",
   "execution_count": 55,
   "metadata": {},
   "outputs": [
    {
     "data": {
      "text/plain": [
       "array([   1,   18,    3,    2, 1049,    1,    1,    4,    1,    1,    4,\n",
       "          2,   21,    2,    1,    1,    3,    1,    1,    1])"
      ]
     },
     "execution_count": 55,
     "metadata": {},
     "output_type": "execute_result"
    }
   ],
   "source": [
    "Xprev1 = np.array(\n",
    "    [      1,   18,    3,    2, 1049,    1,    1,    4,    1,    1,\n",
    "          4,    2,   21,    2,    1,    1,    3,    1,    1,    1] )\n",
    "\n",
    "Xprev1"
   ]
  },
  {
   "cell_type": "code",
   "execution_count": 56,
   "metadata": {},
   "outputs": [
    {
     "data": {
      "text/plain": [
       "array([[   1,   18,    3,    2, 1049,    1,    1,    4,    1,    1,    4,\n",
       "           2,   21,    2,    1,    1,    3,    1,    1,    1]])"
      ]
     },
     "execution_count": 56,
     "metadata": {},
     "output_type": "execute_result"
    }
   ],
   "source": [
    "Xprev1 = Xprev1.reshape(1, -1)\n",
    "Xprev1"
   ]
  },
  {
   "cell_type": "code",
   "execution_count": 57,
   "metadata": {},
   "outputs": [
    {
     "data": {
      "text/plain": [
       "array([0])"
      ]
     },
     "execution_count": 57,
     "metadata": {},
     "output_type": "execute_result"
    }
   ],
   "source": [
    "model.predict(Xprev1)"
   ]
  },
  {
   "cell_type": "code",
   "execution_count": 58,
   "metadata": {},
   "outputs": [
    {
     "data": {
      "text/plain": [
       "array([[0.5155, 0.4845]])"
      ]
     },
     "execution_count": 58,
     "metadata": {},
     "output_type": "execute_result"
    }
   ],
   "source": [
    "model.predict_proba(Xprev1)"
   ]
  },
  {
   "cell_type": "code",
   "execution_count": null,
   "metadata": {},
   "outputs": [],
   "source": []
  },
  {
   "cell_type": "code",
   "execution_count": 59,
   "metadata": {},
   "outputs": [
    {
     "data": {
      "text/plain": [
       "array([   1,    3,   24,    3,    2, 3777,    3,    2,    4,    3,    1,\n",
       "          4,    1,   40,    2,    2,    1,    3,    1,    2,    1])"
      ]
     },
     "execution_count": 59,
     "metadata": {},
     "output_type": "execute_result"
    }
   ],
   "source": [
    "df.loc[100,:].values"
   ]
  },
  {
   "cell_type": "code",
   "execution_count": 60,
   "metadata": {},
   "outputs": [
    {
     "data": {
      "text/plain": [
       "array([   3,   24,    3,    2, 3777,    3,    2,    4,    3,    1,    4,\n",
       "          1,   40,    2,    2,    1,    3,    1,    2,    1])"
      ]
     },
     "execution_count": 60,
     "metadata": {},
     "output_type": "execute_result"
    }
   ],
   "source": [
    "Xprev2 = np.array([ 3,   24,    3,    2, 3777,    3,    2,    4,    3,    1,\n",
    "          4,    1,   40,    2,    2,    1,    3,    1,    2,    1])\n",
    "Xprev2"
   ]
  },
  {
   "cell_type": "code",
   "execution_count": 61,
   "metadata": {},
   "outputs": [
    {
     "data": {
      "text/plain": [
       "array([[   3,   24,    3,    2, 3777,    3,    2,    4,    3,    1,    4,\n",
       "           1,   40,    2,    2,    1,    3,    1,    2,    1]])"
      ]
     },
     "execution_count": 61,
     "metadata": {},
     "output_type": "execute_result"
    }
   ],
   "source": [
    "Xprev2 = Xprev2.reshape(1, -1)\n",
    "Xprev2"
   ]
  },
  {
   "cell_type": "code",
   "execution_count": 62,
   "metadata": {},
   "outputs": [
    {
     "data": {
      "text/plain": [
       "array([1])"
      ]
     },
     "execution_count": 62,
     "metadata": {},
     "output_type": "execute_result"
    }
   ],
   "source": [
    "model.predict(Xprev2)"
   ]
  },
  {
   "cell_type": "code",
   "execution_count": 63,
   "metadata": {},
   "outputs": [
    {
     "data": {
      "text/plain": [
       "array([[0.0551, 0.9449]])"
      ]
     },
     "execution_count": 63,
     "metadata": {},
     "output_type": "execute_result"
    }
   ],
   "source": [
    "model.predict_proba(Xprev2)"
   ]
  },
  {
   "cell_type": "code",
   "execution_count": 64,
   "metadata": {},
   "outputs": [
    {
     "data": {
      "text/plain": [
       "array([   1,    1,   10,    3,    4, 2241,    1,    1,    1,    3,    1,\n",
       "          3,    1,   48,    2,    1,    2,    2,    2,    1,    2])"
      ]
     },
     "execution_count": 64,
     "metadata": {},
     "output_type": "execute_result"
    }
   ],
   "source": [
    "df.loc[5,:].values"
   ]
  },
  {
   "cell_type": "code",
   "execution_count": 65,
   "metadata": {},
   "outputs": [
    {
     "data": {
      "text/plain": [
       "array([   1,   10,    3,    4, 2241,    1,    1,    1,    3,    1,    3,\n",
       "          1,   48,    2,    1,    2,    2,    2,    1,    2])"
      ]
     },
     "execution_count": 65,
     "metadata": {},
     "output_type": "execute_result"
    }
   ],
   "source": [
    "Xprev = np.array([1,   10,    3,    4, 2241,    1,    1,    1,    3,    1,\n",
    "          3,    1,   48,    2,    1,    2,    2,    2,    1,    2])\n",
    "Xprev"
   ]
  },
  {
   "cell_type": "code",
   "execution_count": 66,
   "metadata": {},
   "outputs": [
    {
     "data": {
      "text/plain": [
       "array([[   1,   10,    3,    4, 2241,    1,    1,    1,    3,    1,    3,\n",
       "           1,   48,    2,    1,    2,    2,    2,    1,    2]])"
      ]
     },
     "execution_count": 66,
     "metadata": {},
     "output_type": "execute_result"
    }
   ],
   "source": [
    "Xprev = Xprev.reshape(1, -1)\n",
    "Xprev"
   ]
  },
  {
   "cell_type": "code",
   "execution_count": 67,
   "metadata": {},
   "outputs": [
    {
     "data": {
      "text/plain": [
       "array([1])"
      ]
     },
     "execution_count": 67,
     "metadata": {},
     "output_type": "execute_result"
    }
   ],
   "source": [
    "# aplicando o modelo de Regressão Logística\n",
    "model.predict(Xprev)"
   ]
  },
  {
   "cell_type": "code",
   "execution_count": 68,
   "metadata": {},
   "outputs": [
    {
     "data": {
      "text/plain": [
       "array([[0.2709, 0.7291]])"
      ]
     },
     "execution_count": 68,
     "metadata": {},
     "output_type": "execute_result"
    }
   ],
   "source": [
    "model.predict_proba(Xprev)"
   ]
  },
  {
   "cell_type": "code",
   "execution_count": 69,
   "metadata": {},
   "outputs": [
    {
     "data": {
      "text/plain": [
       "array([   0,    2,   45,    3,    3, 4746,    1,    1,    4,    3,    1,\n",
       "          2,    2,   24,    1,    2,    2,    2,    1,    1,    1])"
      ]
     },
     "execution_count": 69,
     "metadata": {},
     "output_type": "execute_result"
    }
   ],
   "source": [
    "df.loc[950,:].values"
   ]
  },
  {
   "cell_type": "code",
   "execution_count": 78,
   "metadata": {},
   "outputs": [
    {
     "data": {
      "text/plain": [
       "array([   2,   14,    3,    3, 8746,    1,    1,    4,    3,    1,    2,\n",
       "          2,   24,    1,    2,    2,    2,    1,    1,    1])"
      ]
     },
     "execution_count": 78,
     "metadata": {},
     "output_type": "execute_result"
    }
   ],
   "source": [
    "Xprev3 = np.array([2,   14,    3,    3, 8746,    1,    1,    4,    3,    1,\n",
    "          2,    2,   24,    1,    2,    2,    2,    1,    1,    1])\n",
    "Xprev3"
   ]
  },
  {
   "cell_type": "code",
   "execution_count": 79,
   "metadata": {},
   "outputs": [
    {
     "data": {
      "text/plain": [
       "array([[   2,   14,    3,    3, 8746,    1,    1,    4,    3,    1,    2,\n",
       "           2,   24,    1,    2,    2,    2,    1,    1,    1]])"
      ]
     },
     "execution_count": 79,
     "metadata": {},
     "output_type": "execute_result"
    }
   ],
   "source": [
    "Xprev3 = Xprev3.reshape(1, -1)\n",
    "Xprev3"
   ]
  },
  {
   "cell_type": "code",
   "execution_count": 80,
   "metadata": {},
   "outputs": [
    {
     "data": {
      "text/plain": [
       "array([1])"
      ]
     },
     "execution_count": 80,
     "metadata": {},
     "output_type": "execute_result"
    }
   ],
   "source": [
    "# aplicando o modelo de Regressão Logística\n",
    "model.predict(Xprev3)"
   ]
  },
  {
   "cell_type": "code",
   "execution_count": 81,
   "metadata": {},
   "outputs": [
    {
     "data": {
      "text/plain": [
       "array([[0.4682, 0.5318]])"
      ]
     },
     "execution_count": 81,
     "metadata": {},
     "output_type": "execute_result"
    }
   ],
   "source": [
    "model.predict_proba(Xprev3)"
   ]
  },
  {
   "cell_type": "markdown",
   "metadata": {},
   "source": [
    "# Métricas para Algorítmos de Classificação"
   ]
  },
  {
   "cell_type": "markdown",
   "metadata": {},
   "source": [
    "### carregando o dataset"
   ]
  },
  {
   "cell_type": "code",
   "execution_count": 82,
   "metadata": {},
   "outputs": [],
   "source": [
    "from sklearn import model_selection\n",
    "from sklearn.linear_model import LogisticRegression\n",
    "import pandas as pd"
   ]
  },
  {
   "cell_type": "code",
   "execution_count": 83,
   "metadata": {},
   "outputs": [
    {
     "data": {
      "text/html": [
       "<div>\n",
       "<style scoped>\n",
       "    .dataframe tbody tr th:only-of-type {\n",
       "        vertical-align: middle;\n",
       "    }\n",
       "\n",
       "    .dataframe tbody tr th {\n",
       "        vertical-align: top;\n",
       "    }\n",
       "\n",
       "    .dataframe thead th {\n",
       "        text-align: right;\n",
       "    }\n",
       "</style>\n",
       "<table border=\"1\" class=\"dataframe\">\n",
       "  <thead>\n",
       "    <tr style=\"text-align: right;\">\n",
       "      <th></th>\n",
       "      <th>credit.rating</th>\n",
       "      <th>account.balance</th>\n",
       "      <th>credit.duration.months</th>\n",
       "      <th>previous.credit.payment.status</th>\n",
       "      <th>credit.purpose</th>\n",
       "      <th>credit.amount</th>\n",
       "      <th>savings</th>\n",
       "      <th>employment.duration</th>\n",
       "      <th>installment.rate</th>\n",
       "      <th>marital.status</th>\n",
       "      <th>...</th>\n",
       "      <th>residence.duration</th>\n",
       "      <th>current.assets</th>\n",
       "      <th>age</th>\n",
       "      <th>other.credits</th>\n",
       "      <th>apartment.type</th>\n",
       "      <th>bank.credits</th>\n",
       "      <th>occupation</th>\n",
       "      <th>dependents</th>\n",
       "      <th>telephone</th>\n",
       "      <th>foreign.worker</th>\n",
       "    </tr>\n",
       "  </thead>\n",
       "  <tbody>\n",
       "    <tr>\n",
       "      <th>0</th>\n",
       "      <td>1</td>\n",
       "      <td>1</td>\n",
       "      <td>18</td>\n",
       "      <td>3</td>\n",
       "      <td>2</td>\n",
       "      <td>1049</td>\n",
       "      <td>1</td>\n",
       "      <td>1</td>\n",
       "      <td>4</td>\n",
       "      <td>1</td>\n",
       "      <td>...</td>\n",
       "      <td>4</td>\n",
       "      <td>2</td>\n",
       "      <td>21</td>\n",
       "      <td>2</td>\n",
       "      <td>1</td>\n",
       "      <td>1</td>\n",
       "      <td>3</td>\n",
       "      <td>1</td>\n",
       "      <td>1</td>\n",
       "      <td>1</td>\n",
       "    </tr>\n",
       "    <tr>\n",
       "      <th>1</th>\n",
       "      <td>1</td>\n",
       "      <td>1</td>\n",
       "      <td>9</td>\n",
       "      <td>3</td>\n",
       "      <td>4</td>\n",
       "      <td>2799</td>\n",
       "      <td>1</td>\n",
       "      <td>2</td>\n",
       "      <td>2</td>\n",
       "      <td>3</td>\n",
       "      <td>...</td>\n",
       "      <td>2</td>\n",
       "      <td>1</td>\n",
       "      <td>36</td>\n",
       "      <td>2</td>\n",
       "      <td>1</td>\n",
       "      <td>2</td>\n",
       "      <td>3</td>\n",
       "      <td>2</td>\n",
       "      <td>1</td>\n",
       "      <td>1</td>\n",
       "    </tr>\n",
       "    <tr>\n",
       "      <th>2</th>\n",
       "      <td>1</td>\n",
       "      <td>2</td>\n",
       "      <td>12</td>\n",
       "      <td>2</td>\n",
       "      <td>4</td>\n",
       "      <td>841</td>\n",
       "      <td>2</td>\n",
       "      <td>3</td>\n",
       "      <td>2</td>\n",
       "      <td>1</td>\n",
       "      <td>...</td>\n",
       "      <td>4</td>\n",
       "      <td>1</td>\n",
       "      <td>23</td>\n",
       "      <td>2</td>\n",
       "      <td>1</td>\n",
       "      <td>1</td>\n",
       "      <td>2</td>\n",
       "      <td>1</td>\n",
       "      <td>1</td>\n",
       "      <td>1</td>\n",
       "    </tr>\n",
       "    <tr>\n",
       "      <th>3</th>\n",
       "      <td>1</td>\n",
       "      <td>1</td>\n",
       "      <td>12</td>\n",
       "      <td>3</td>\n",
       "      <td>4</td>\n",
       "      <td>2122</td>\n",
       "      <td>1</td>\n",
       "      <td>2</td>\n",
       "      <td>3</td>\n",
       "      <td>3</td>\n",
       "      <td>...</td>\n",
       "      <td>2</td>\n",
       "      <td>1</td>\n",
       "      <td>39</td>\n",
       "      <td>2</td>\n",
       "      <td>1</td>\n",
       "      <td>2</td>\n",
       "      <td>2</td>\n",
       "      <td>2</td>\n",
       "      <td>1</td>\n",
       "      <td>2</td>\n",
       "    </tr>\n",
       "    <tr>\n",
       "      <th>4</th>\n",
       "      <td>1</td>\n",
       "      <td>1</td>\n",
       "      <td>12</td>\n",
       "      <td>3</td>\n",
       "      <td>4</td>\n",
       "      <td>2171</td>\n",
       "      <td>1</td>\n",
       "      <td>2</td>\n",
       "      <td>4</td>\n",
       "      <td>3</td>\n",
       "      <td>...</td>\n",
       "      <td>4</td>\n",
       "      <td>2</td>\n",
       "      <td>38</td>\n",
       "      <td>1</td>\n",
       "      <td>2</td>\n",
       "      <td>2</td>\n",
       "      <td>2</td>\n",
       "      <td>1</td>\n",
       "      <td>1</td>\n",
       "      <td>2</td>\n",
       "    </tr>\n",
       "  </tbody>\n",
       "</table>\n",
       "<p>5 rows × 21 columns</p>\n",
       "</div>"
      ],
      "text/plain": [
       "   credit.rating  account.balance  credit.duration.months  \\\n",
       "0              1                1                      18   \n",
       "1              1                1                       9   \n",
       "2              1                2                      12   \n",
       "3              1                1                      12   \n",
       "4              1                1                      12   \n",
       "\n",
       "   previous.credit.payment.status  credit.purpose  credit.amount  savings  \\\n",
       "0                               3               2           1049        1   \n",
       "1                               3               4           2799        1   \n",
       "2                               2               4            841        2   \n",
       "3                               3               4           2122        1   \n",
       "4                               3               4           2171        1   \n",
       "\n",
       "   employment.duration  installment.rate  marital.status  ...  \\\n",
       "0                    1                 4               1  ...   \n",
       "1                    2                 2               3  ...   \n",
       "2                    3                 2               1  ...   \n",
       "3                    2                 3               3  ...   \n",
       "4                    2                 4               3  ...   \n",
       "\n",
       "   residence.duration  current.assets  age  other.credits  apartment.type  \\\n",
       "0                   4               2   21              2               1   \n",
       "1                   2               1   36              2               1   \n",
       "2                   4               1   23              2               1   \n",
       "3                   2               1   39              2               1   \n",
       "4                   4               2   38              1               2   \n",
       "\n",
       "   bank.credits  occupation  dependents  telephone  foreign.worker  \n",
       "0             1           3           1          1               1  \n",
       "1             2           3           2          1               1  \n",
       "2             1           2           1          1               1  \n",
       "3             2           2           2          1               2  \n",
       "4             2           2           1          1               2  \n",
       "\n",
       "[5 rows x 21 columns]"
      ]
     },
     "execution_count": 83,
     "metadata": {},
     "output_type": "execute_result"
    }
   ],
   "source": [
    "df = pd.read_csv('credit_dataset_final.csv')\n",
    "df.head()"
   ]
  },
  {
   "cell_type": "code",
   "execution_count": 84,
   "metadata": {},
   "outputs": [
    {
     "data": {
      "text/html": [
       "<div>\n",
       "<style scoped>\n",
       "    .dataframe tbody tr th:only-of-type {\n",
       "        vertical-align: middle;\n",
       "    }\n",
       "\n",
       "    .dataframe tbody tr th {\n",
       "        vertical-align: top;\n",
       "    }\n",
       "\n",
       "    .dataframe thead th {\n",
       "        text-align: right;\n",
       "    }\n",
       "</style>\n",
       "<table border=\"1\" class=\"dataframe\">\n",
       "  <thead>\n",
       "    <tr style=\"text-align: right;\">\n",
       "      <th></th>\n",
       "      <th>credit.rating</th>\n",
       "      <th>account.balance</th>\n",
       "      <th>credit.duration.months</th>\n",
       "      <th>previous.credit.payment.status</th>\n",
       "      <th>credit.purpose</th>\n",
       "      <th>credit.amount</th>\n",
       "      <th>savings</th>\n",
       "      <th>employment.duration</th>\n",
       "      <th>installment.rate</th>\n",
       "      <th>marital.status</th>\n",
       "      <th>...</th>\n",
       "      <th>residence.duration</th>\n",
       "      <th>current.assets</th>\n",
       "      <th>age</th>\n",
       "      <th>other.credits</th>\n",
       "      <th>apartment.type</th>\n",
       "      <th>bank.credits</th>\n",
       "      <th>occupation</th>\n",
       "      <th>dependents</th>\n",
       "      <th>telephone</th>\n",
       "      <th>foreign.worker</th>\n",
       "    </tr>\n",
       "  </thead>\n",
       "  <tbody>\n",
       "    <tr>\n",
       "      <th>0</th>\n",
       "      <td>1</td>\n",
       "      <td>1</td>\n",
       "      <td>18</td>\n",
       "      <td>3</td>\n",
       "      <td>2</td>\n",
       "      <td>1049</td>\n",
       "      <td>1</td>\n",
       "      <td>1</td>\n",
       "      <td>4</td>\n",
       "      <td>1</td>\n",
       "      <td>...</td>\n",
       "      <td>4</td>\n",
       "      <td>2</td>\n",
       "      <td>21</td>\n",
       "      <td>2</td>\n",
       "      <td>1</td>\n",
       "      <td>1</td>\n",
       "      <td>3</td>\n",
       "      <td>1</td>\n",
       "      <td>1</td>\n",
       "      <td>1</td>\n",
       "    </tr>\n",
       "    <tr>\n",
       "      <th>1</th>\n",
       "      <td>1</td>\n",
       "      <td>1</td>\n",
       "      <td>9</td>\n",
       "      <td>3</td>\n",
       "      <td>4</td>\n",
       "      <td>2799</td>\n",
       "      <td>1</td>\n",
       "      <td>2</td>\n",
       "      <td>2</td>\n",
       "      <td>3</td>\n",
       "      <td>...</td>\n",
       "      <td>2</td>\n",
       "      <td>1</td>\n",
       "      <td>36</td>\n",
       "      <td>2</td>\n",
       "      <td>1</td>\n",
       "      <td>2</td>\n",
       "      <td>3</td>\n",
       "      <td>2</td>\n",
       "      <td>1</td>\n",
       "      <td>1</td>\n",
       "    </tr>\n",
       "    <tr>\n",
       "      <th>2</th>\n",
       "      <td>1</td>\n",
       "      <td>2</td>\n",
       "      <td>12</td>\n",
       "      <td>2</td>\n",
       "      <td>4</td>\n",
       "      <td>841</td>\n",
       "      <td>2</td>\n",
       "      <td>3</td>\n",
       "      <td>2</td>\n",
       "      <td>1</td>\n",
       "      <td>...</td>\n",
       "      <td>4</td>\n",
       "      <td>1</td>\n",
       "      <td>23</td>\n",
       "      <td>2</td>\n",
       "      <td>1</td>\n",
       "      <td>1</td>\n",
       "      <td>2</td>\n",
       "      <td>1</td>\n",
       "      <td>1</td>\n",
       "      <td>1</td>\n",
       "    </tr>\n",
       "    <tr>\n",
       "      <th>3</th>\n",
       "      <td>1</td>\n",
       "      <td>1</td>\n",
       "      <td>12</td>\n",
       "      <td>3</td>\n",
       "      <td>4</td>\n",
       "      <td>2122</td>\n",
       "      <td>1</td>\n",
       "      <td>2</td>\n",
       "      <td>3</td>\n",
       "      <td>3</td>\n",
       "      <td>...</td>\n",
       "      <td>2</td>\n",
       "      <td>1</td>\n",
       "      <td>39</td>\n",
       "      <td>2</td>\n",
       "      <td>1</td>\n",
       "      <td>2</td>\n",
       "      <td>2</td>\n",
       "      <td>2</td>\n",
       "      <td>1</td>\n",
       "      <td>2</td>\n",
       "    </tr>\n",
       "    <tr>\n",
       "      <th>4</th>\n",
       "      <td>1</td>\n",
       "      <td>1</td>\n",
       "      <td>12</td>\n",
       "      <td>3</td>\n",
       "      <td>4</td>\n",
       "      <td>2171</td>\n",
       "      <td>1</td>\n",
       "      <td>2</td>\n",
       "      <td>4</td>\n",
       "      <td>3</td>\n",
       "      <td>...</td>\n",
       "      <td>4</td>\n",
       "      <td>2</td>\n",
       "      <td>38</td>\n",
       "      <td>1</td>\n",
       "      <td>2</td>\n",
       "      <td>2</td>\n",
       "      <td>2</td>\n",
       "      <td>1</td>\n",
       "      <td>1</td>\n",
       "      <td>2</td>\n",
       "    </tr>\n",
       "  </tbody>\n",
       "</table>\n",
       "<p>5 rows × 21 columns</p>\n",
       "</div>"
      ],
      "text/plain": [
       "   credit.rating  account.balance  credit.duration.months  \\\n",
       "0              1                1                      18   \n",
       "1              1                1                       9   \n",
       "2              1                2                      12   \n",
       "3              1                1                      12   \n",
       "4              1                1                      12   \n",
       "\n",
       "   previous.credit.payment.status  credit.purpose  credit.amount  savings  \\\n",
       "0                               3               2           1049        1   \n",
       "1                               3               4           2799        1   \n",
       "2                               2               4            841        2   \n",
       "3                               3               4           2122        1   \n",
       "4                               3               4           2171        1   \n",
       "\n",
       "   employment.duration  installment.rate  marital.status  ...  \\\n",
       "0                    1                 4               1  ...   \n",
       "1                    2                 2               3  ...   \n",
       "2                    3                 2               1  ...   \n",
       "3                    2                 3               3  ...   \n",
       "4                    2                 4               3  ...   \n",
       "\n",
       "   residence.duration  current.assets  age  other.credits  apartment.type  \\\n",
       "0                   4               2   21              2               1   \n",
       "1                   2               1   36              2               1   \n",
       "2                   4               1   23              2               1   \n",
       "3                   2               1   39              2               1   \n",
       "4                   4               2   38              1               2   \n",
       "\n",
       "   bank.credits  occupation  dependents  telephone  foreign.worker  \n",
       "0             1           3           1          1               1  \n",
       "1             2           3           2          1               1  \n",
       "2             1           2           1          1               1  \n",
       "3             2           2           2          1               2  \n",
       "4             2           2           1          1               2  \n",
       "\n",
       "[5 rows x 21 columns]"
      ]
     },
     "execution_count": 84,
     "metadata": {},
     "output_type": "execute_result"
    }
   ],
   "source": [
    "X = df.iloc[:,1:].values.astype(float)\n",
    "y = Y =  df.iloc[:,0]\n",
    "\n",
    "# Definindo os valores para o número de folds\n",
    "num_folds = 10\n",
    "num_instances = len(X)\n",
    "seed = 7\n",
    "\n",
    "# Separando os dados em folds\n",
    "kfold = model_selection.KFold(num_folds, True, random_state = seed)\n",
    "\n",
    "# Criando o modelo\n",
    "modelo = LogisticRegression()\n",
    "\n",
    "df.head()"
   ]
  },
  {
   "cell_type": "markdown",
   "metadata": {},
   "source": [
    "## Acurácia\n",
    "Número de previsões corretas. <br />\n",
    "É útil apenas quando existe o mesmo número de observações em cada classe."
   ]
  },
  {
   "cell_type": "code",
   "execution_count": 85,
   "metadata": {},
   "outputs": [
    {
     "name": "stdout",
     "output_type": "stream",
     "text": [
      "Acurácia: 0.760 (0.033)\n"
     ]
    }
   ],
   "source": [
    "resultado = model_selection.cross_val_score(modelo, X, y, cv = kfold, scoring = 'accuracy')\n",
    "\n",
    "# Print dos resultados\n",
    "print(\"Acurácia: %.3f (%.3f)\" % (resultado.mean(), resultado.std()))"
   ]
  },
  {
   "cell_type": "markdown",
   "metadata": {},
   "source": [
    "## Curva ROC \n",
    "A Curva ROC permite analisar a métrica AUC (Area Under the Curve).<br />\n",
    "Essa é uma métrica de performance para classificação binária, em que podemos definir as classes \n",
    "em positivas e negativas. <br />\n",
    "Problemas de classificação binária são um trade-off sentre Sensitivity e Specifity. <br />\n",
    "Sensitivity é a taxa de verdadeiros positivos (TP). Esse é o número de instâncias positivas da primeira classe \n",
    "que foram previstas corretamente. <br />\n",
    "Specifity é a taxa de verdadeiros negativos (TN). Esse é o número de instâncias da segunda classe que foram \n",
    "previstas corretamente.<br />\n",
    "Valores acima de 0.5 indicam uma boa taxa de previsão."
   ]
  },
  {
   "cell_type": "code",
   "execution_count": 86,
   "metadata": {},
   "outputs": [
    {
     "name": "stdout",
     "output_type": "stream",
     "text": [
      "AUC: 0.779 (0.041)\n"
     ]
    }
   ],
   "source": [
    "resultado = model_selection.cross_val_score(modelo, X, y, cv = kfold, scoring = 'roc_auc')\n",
    "\n",
    "# Print do resultado\n",
    "print(\"AUC: %.3f (%.3f)\" % (resultado.mean(), resultado.std()))"
   ]
  },
  {
   "cell_type": "code",
   "execution_count": 87,
   "metadata": {},
   "outputs": [
    {
     "data": {
      "image/png": "[encoded data removed]",
      "text/plain": [
       "<Figure size 720x432 with 1 Axes>"
      ]
     },
     "metadata": {},
     "output_type": "display_data"
    }
   ],
   "source": [
    "modelo = LogisticRegression()\n",
    "modelo.fit(X,y)\n",
    "# calculate the fpr and tpr for all thresholds of the classification\n",
    "probs = modelo.predict_proba(X)\n",
    "preds = probs[:,1]\n",
    "fpr, tpr, threshold = metrics.roc_curve(y, preds)\n",
    "roc_auc = metrics.auc(fpr, tpr)\n",
    "\n",
    "# method I: plt\n",
    "import matplotlib.pyplot as plt\n",
    "plt.style.use('ggplot')\n",
    "plt.figure(figsize=(10,6))\n",
    "plt.title('Curva ROC - Receiver Operating Characteristic')\n",
    "plt.plot(fpr, tpr, 'b', label = 'AUC = %0.2f' % roc_auc)\n",
    "plt.legend(loc = 'lower right')\n",
    "plt.plot([0, 1], [0, 1],'r--')\n",
    "plt.xlim([0, 1])\n",
    "plt.ylim([0, 1])\n",
    "plt.ylabel('True Positive Rate')\n",
    "plt.xlabel('False Positive Rate')\n",
    "plt.show()"
   ]
  },
  {
   "cell_type": "markdown",
   "metadata": {},
   "source": [
    "# Logarithmic Loss\n",
    "Avalia as previsões de probabilidade de um membro pertencer a uma determinada classe.<br />\n",
    "Valores menores indicam boa performance, com 0 representando um perfeito logloss.<br /> \n",
    "A função cross_val_score() inverte o valor."
   ]
  },
  {
   "cell_type": "code",
   "execution_count": 88,
   "metadata": {},
   "outputs": [
    {
     "name": "stdout",
     "output_type": "stream",
     "text": [
      "Logloss: -0.501 (0.033)\n"
     ]
    }
   ],
   "source": [
    "resultado = model_selection.cross_val_score(modelo, X, Y, cv = kfold, scoring = 'neg_log_loss')\n",
    "\n",
    "# Print do resultado\n",
    "print(\"Logloss: %.3f (%.3f)\" % (resultado.mean(), resultado.std()))"
   ]
  },
  {
   "cell_type": "markdown",
   "metadata": {},
   "source": [
    "## Confusion Matrix\n",
    "Permite verificar a acurácia de um modelo com duas ou mais classes"
   ]
  },
  {
   "cell_type": "code",
   "execution_count": 89,
   "metadata": {},
   "outputs": [
    {
     "name": "stdout",
     "output_type": "stream",
     "text": [
      "[[ 39  58]\n",
      " [ 14 189]]\n"
     ]
    }
   ],
   "source": [
    "from sklearn.metrics import confusion_matrix\n",
    "# Definindo o tamanho do conjunto de dados\n",
    "teste_size = 0.3\n",
    "seed = 7\n",
    "\n",
    "# Dividindo os dados em treino e teste\n",
    "X_treino, X_teste, Y_treino, Y_teste = model_selection.train_test_split(X, y, \n",
    "                                                                         test_size = teste_size, \n",
    "                                                                         random_state = seed)\n",
    "\n",
    "# Criando o modelo\n",
    "model = LogisticRegression()\n",
    "model.fit(X_treino, Y_treino)\n",
    "\n",
    "# Fazendo as previsões e construindo a Confusion Matrix\n",
    "previsoes = model.predict(X_teste)\n",
    "matrix = confusion_matrix(Y_teste, previsoes)\n",
    "\n",
    "\n",
    "#matrix = confusion_matrix(Y_teste, model.predict(X_teste))\n",
    "\n",
    "# Imprimindo a Confusion Matrix\n",
    "print(matrix)"
   ]
  },
  {
   "cell_type": "code",
   "execution_count": null,
   "metadata": {},
   "outputs": [],
   "source": [
    "#[[ 39  58]\n",
    "#[ 16 187]]"
   ]
  },
  {
   "cell_type": "code",
   "execution_count": 90,
   "metadata": {},
   "outputs": [
    {
     "name": "stdout",
     "output_type": "stream",
     "text": [
      "Matriz de Confusão\n"
     ]
    },
    {
     "data": {
      "image/png": "[encoded data removed]",
      "text/plain": [
       "<IPython.core.display.Image object>"
      ]
     },
     "execution_count": 90,
     "metadata": {},
     "output_type": "execute_result"
    }
   ],
   "source": [
    "from IPython.display import Image\n",
    "print(\"Matriz de Confusão\")\n",
    "Image(\"confusion_matrix.png\")"
   ]
  },
  {
   "cell_type": "markdown",
   "metadata": {},
   "source": [
    "## Relatório de Classificação"
   ]
  },
  {
   "cell_type": "markdown",
   "metadata": {},
   "source": [
    "Precision: Qual a proporção de instâncias classificadas como positivas, foram classificadas como corretas? <br />\n",
    "$\\text{Precision} = \\frac{TP}{TP+FP}$\n",
    "<br /><br />\n",
    "Recall: Qual a proporção de instâncias positivas, foram identificadas como corretas?<br />\n",
    "$\\text{Recall} = \\frac{TP}{TP+FN}$\n",
    "<br /><br />\n",
    "f1-score: f1-score combina as métricas de precision e recall<br /><br />\n",
    "$\\text{f1-score} = \\frac{2 * (precision * recall)}{(precision + recall)}$\n",
    "<br /><br />\n",
    "O f1-score pode ser interpretado com a média ponderada entre precision e recall,<br />\n",
    "onde o f1-score encontra seu melhor valor ao atingir 1, e seu pior valor ao atingir 0<br /><br />\n",
    "Support: Número de instâncias"
   ]
  },
  {
   "cell_type": "markdown",
   "metadata": {},
   "source": [
    "## Relatório de Classificação"
   ]
  },
  {
   "cell_type": "code",
   "execution_count": 91,
   "metadata": {},
   "outputs": [
    {
     "data": {
      "image/png": "[encoded data removed]",
      "text/plain": [
       "<IPython.core.display.Image object>"
      ]
     },
     "execution_count": 91,
     "metadata": {
      "image/png": {
       "height": 250,
       "width": 250
      }
     },
     "output_type": "execute_result"
    }
   ],
   "source": [
    "from sklearn import model_selection\n",
    "from sklearn.linear_model import LogisticRegression\n",
    "from sklearn.metrics import classification_report\n",
    "\n",
    "# Definindo o tamanho do conjunto de dados\n",
    "teste_size = 0.33\n",
    "seed = 7\n",
    "\n",
    "# Dividindo os dados em treino e teste\n",
    "X_treino, X_teste, Y_treino, Y_teste = model_selection.train_test_split(X, Y, \n",
    "                                                                         test_size = teste_size, \n",
    "                                                                         random_state = seed)\n",
    "\n",
    "# Criando o modelo\n",
    "modelo = LogisticRegression()\n",
    "modelo.fit(X_treino, Y_treino)\n",
    "\n",
    "# Fazendo as previsões e construindo o relatório\n",
    "previsoes = model.predict(X_teste)\n",
    "report = classification_report(Y_teste, previsoes)\n",
    "\n",
    "# Imprimindo o relatório\n",
    "Image(\"confusion_matrix.png\", width=250, height=250)"
   ]
  },
  {
   "cell_type": "markdown",
   "metadata": {},
   "source": [
    "$\\text{Precision} = \\frac{TP}{TP+FP}$  $ | \\text{Recall} = \\frac{TP}{TP+FN}$"
   ]
  },
  {
   "cell_type": "code",
   "execution_count": 92,
   "metadata": {},
   "outputs": [
    {
     "name": "stdout",
     "output_type": "stream",
     "text": [
      "              precision    recall  f1-score   support\n",
      "\n",
      "           0       0.73      0.43      0.54       105\n",
      "           1       0.78      0.92      0.84       225\n",
      "\n",
      "    accuracy                           0.77       330\n",
      "   macro avg       0.75      0.68      0.69       330\n",
      "weighted avg       0.76      0.77      0.75       330\n",
      "\n",
      "matriz de confusão:\n",
      " [[ 39  58]\n",
      " [ 14 189]]\n"
     ]
    }
   ],
   "source": [
    "print(report);print('matriz de confusão:\\n', matrix)"
   ]
  },
  {
   "cell_type": "markdown",
   "metadata": {},
   "source": [
    "Recall: Qual a proporção de instâncias positivas, foram identificadas como corretas?"
   ]
  },
  {
   "cell_type": "markdown",
   "metadata": {},
   "source": [
    "Precision: Qual a proporção de instâncias classificadas como positivas, foram classificadas como corretas?"
   ]
  },
  {
   "cell_type": "code",
   "execution_count": null,
   "metadata": {},
   "outputs": [],
   "source": []
  }
 ],
 "metadata": {
  "kernelspec": {
   "display_name": "Python 3",
   "language": "python",
   "name": "python3"
  },
  "language_info": {
   "codemirror_mode": {
    "name": "ipython",
    "version": 3
   },
   "file_extension": ".py",
   "mimetype": "text/x-python",
   "name": "python",
   "nbconvert_exporter": "python",
   "pygments_lexer": "ipython3",
   "version": "3.8.5"
  }
 },
 "nbformat": 4,
 "nbformat_minor": 2
}
