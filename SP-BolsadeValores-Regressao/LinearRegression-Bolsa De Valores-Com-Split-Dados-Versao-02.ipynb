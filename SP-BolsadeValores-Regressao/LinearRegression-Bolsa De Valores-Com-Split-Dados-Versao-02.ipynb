{
 "cells": [
  {
   "cell_type": "markdown",
   "metadata": {
    "collapsed": true
   },
   "source": [
    "# Regressão Linear - Bolsa De Valores Americana\n",
    "## Com Split de Dados - Versão 02\n",
    "#### fonte de dados: https://finance.yahoo.com/\n",
    "#### Ativos mais comercializados: https://finance.yahoo.com/screener/predefined/most_actives"
   ]
  },
  {
   "cell_type": "markdown",
   "metadata": {},
   "source": [
    "### Nome: .... , Matricula: ..."
   ]
  },
  {
   "cell_type": "code",
   "execution_count": 1,
   "metadata": {},
   "outputs": [],
   "source": [
    "import numpy, pandas as pd\n",
    "import matplotlib, matplotlib.pyplot as plt\n",
    "import sklearn.linear_model as lm\n",
    "import warnings\n",
    "warnings.filterwarnings('ignore')"
   ]
  },
  {
   "cell_type": "markdown",
   "metadata": {},
   "source": [
    "## Leitura de dados"
   ]
  },
  {
   "cell_type": "code",
   "execution_count": 2,
   "metadata": {},
   "outputs": [
    {
     "data": {
      "text/html": [
       "<div>\n",
       "<style scoped>\n",
       "    .dataframe tbody tr th:only-of-type {\n",
       "        vertical-align: middle;\n",
       "    }\n",
       "\n",
       "    .dataframe tbody tr th {\n",
       "        vertical-align: top;\n",
       "    }\n",
       "\n",
       "    .dataframe thead th {\n",
       "        text-align: right;\n",
       "    }\n",
       "</style>\n",
       "<table border=\"1\" class=\"dataframe\">\n",
       "  <thead>\n",
       "    <tr style=\"text-align: right;\">\n",
       "      <th></th>\n",
       "      <th>Open</th>\n",
       "      <th>High</th>\n",
       "      <th>Low</th>\n",
       "      <th>Close</th>\n",
       "      <th>Adj Close</th>\n",
       "      <th>Volume</th>\n",
       "    </tr>\n",
       "    <tr>\n",
       "      <th>Date</th>\n",
       "      <th></th>\n",
       "      <th></th>\n",
       "      <th></th>\n",
       "      <th></th>\n",
       "      <th></th>\n",
       "      <th></th>\n",
       "    </tr>\n",
       "  </thead>\n",
       "  <tbody>\n",
       "    <tr>\n",
       "      <th>2012-05-18</th>\n",
       "      <td>42.049999</td>\n",
       "      <td>45.000000</td>\n",
       "      <td>38.000000</td>\n",
       "      <td>38.230000</td>\n",
       "      <td>38.230000</td>\n",
       "      <td>573576400</td>\n",
       "    </tr>\n",
       "    <tr>\n",
       "      <th>2012-05-21</th>\n",
       "      <td>36.529999</td>\n",
       "      <td>36.660000</td>\n",
       "      <td>33.000000</td>\n",
       "      <td>34.029999</td>\n",
       "      <td>34.029999</td>\n",
       "      <td>168192700</td>\n",
       "    </tr>\n",
       "    <tr>\n",
       "      <th>2012-05-22</th>\n",
       "      <td>32.610001</td>\n",
       "      <td>33.590000</td>\n",
       "      <td>30.940001</td>\n",
       "      <td>31.000000</td>\n",
       "      <td>31.000000</td>\n",
       "      <td>101786600</td>\n",
       "    </tr>\n",
       "    <tr>\n",
       "      <th>2012-05-23</th>\n",
       "      <td>31.370001</td>\n",
       "      <td>32.500000</td>\n",
       "      <td>31.360001</td>\n",
       "      <td>32.000000</td>\n",
       "      <td>32.000000</td>\n",
       "      <td>73600000</td>\n",
       "    </tr>\n",
       "    <tr>\n",
       "      <th>2012-05-24</th>\n",
       "      <td>32.950001</td>\n",
       "      <td>33.209999</td>\n",
       "      <td>31.770000</td>\n",
       "      <td>33.029999</td>\n",
       "      <td>33.029999</td>\n",
       "      <td>50237200</td>\n",
       "    </tr>\n",
       "  </tbody>\n",
       "</table>\n",
       "</div>"
      ],
      "text/plain": [
       "                 Open       High        Low      Close  Adj Close     Volume\n",
       "Date                                                                        \n",
       "2012-05-18  42.049999  45.000000  38.000000  38.230000  38.230000  573576400\n",
       "2012-05-21  36.529999  36.660000  33.000000  34.029999  34.029999  168192700\n",
       "2012-05-22  32.610001  33.590000  30.940001  31.000000  31.000000  101786600\n",
       "2012-05-23  31.370001  32.500000  31.360001  32.000000  32.000000   73600000\n",
       "2012-05-24  32.950001  33.209999  31.770000  33.029999  33.029999   50237200"
      ]
     },
     "execution_count": 2,
     "metadata": {},
     "output_type": "execute_result"
    }
   ],
   "source": [
    "fb = pd.read_csv(\"fb2018.csv\").set_index(\"Date\")\n",
    "fb.head()"
   ]
  },
  {
   "cell_type": "code",
   "execution_count": 3,
   "metadata": {},
   "outputs": [
    {
     "data": {
      "text/html": [
       "<div>\n",
       "<style scoped>\n",
       "    .dataframe tbody tr th:only-of-type {\n",
       "        vertical-align: middle;\n",
       "    }\n",
       "\n",
       "    .dataframe tbody tr th {\n",
       "        vertical-align: top;\n",
       "    }\n",
       "\n",
       "    .dataframe thead th {\n",
       "        text-align: right;\n",
       "    }\n",
       "</style>\n",
       "<table border=\"1\" class=\"dataframe\">\n",
       "  <thead>\n",
       "    <tr style=\"text-align: right;\">\n",
       "      <th></th>\n",
       "      <th>Open</th>\n",
       "      <th>High</th>\n",
       "      <th>Low</th>\n",
       "      <th>Close</th>\n",
       "      <th>Adj Close</th>\n",
       "      <th>Volume</th>\n",
       "    </tr>\n",
       "    <tr>\n",
       "      <th>Date</th>\n",
       "      <th></th>\n",
       "      <th></th>\n",
       "      <th></th>\n",
       "      <th></th>\n",
       "      <th></th>\n",
       "      <th></th>\n",
       "    </tr>\n",
       "  </thead>\n",
       "  <tbody>\n",
       "    <tr>\n",
       "      <th>2018-04-02</th>\n",
       "      <td>157.809998</td>\n",
       "      <td>159.199997</td>\n",
       "      <td>154.110001</td>\n",
       "      <td>155.389999</td>\n",
       "      <td>155.389999</td>\n",
       "      <td>36796000</td>\n",
       "    </tr>\n",
       "    <tr>\n",
       "      <th>2018-04-03</th>\n",
       "      <td>156.550003</td>\n",
       "      <td>157.389999</td>\n",
       "      <td>150.809998</td>\n",
       "      <td>156.110001</td>\n",
       "      <td>156.110001</td>\n",
       "      <td>42034000</td>\n",
       "    </tr>\n",
       "    <tr>\n",
       "      <th>2018-04-04</th>\n",
       "      <td>152.029999</td>\n",
       "      <td>155.559998</td>\n",
       "      <td>150.509995</td>\n",
       "      <td>155.100006</td>\n",
       "      <td>155.100006</td>\n",
       "      <td>49885600</td>\n",
       "    </tr>\n",
       "    <tr>\n",
       "      <th>2018-04-05</th>\n",
       "      <td>161.559998</td>\n",
       "      <td>161.570007</td>\n",
       "      <td>156.649994</td>\n",
       "      <td>159.339996</td>\n",
       "      <td>159.339996</td>\n",
       "      <td>41449600</td>\n",
       "    </tr>\n",
       "    <tr>\n",
       "      <th>2018-04-06</th>\n",
       "      <td>157.729996</td>\n",
       "      <td>161.419998</td>\n",
       "      <td>156.809998</td>\n",
       "      <td>157.199997</td>\n",
       "      <td>157.199997</td>\n",
       "      <td>41323600</td>\n",
       "    </tr>\n",
       "  </tbody>\n",
       "</table>\n",
       "</div>"
      ],
      "text/plain": [
       "                  Open        High         Low       Close   Adj Close  \\\n",
       "Date                                                                     \n",
       "2018-04-02  157.809998  159.199997  154.110001  155.389999  155.389999   \n",
       "2018-04-03  156.550003  157.389999  150.809998  156.110001  156.110001   \n",
       "2018-04-04  152.029999  155.559998  150.509995  155.100006  155.100006   \n",
       "2018-04-05  161.559998  161.570007  156.649994  159.339996  159.339996   \n",
       "2018-04-06  157.729996  161.419998  156.809998  157.199997  157.199997   \n",
       "\n",
       "              Volume  \n",
       "Date                  \n",
       "2018-04-02  36796000  \n",
       "2018-04-03  42034000  \n",
       "2018-04-04  49885600  \n",
       "2018-04-05  41449600  \n",
       "2018-04-06  41323600  "
      ]
     },
     "execution_count": 3,
     "metadata": {},
     "output_type": "execute_result"
    }
   ],
   "source": [
    "fb.tail()"
   ]
  },
  {
   "cell_type": "code",
   "execution_count": 4,
   "metadata": {},
   "outputs": [
    {
     "name": "stdout",
     "output_type": "stream",
     "text": [
      "Numero de Registros ou Tuplas:  1480\n"
     ]
    }
   ],
   "source": [
    "print(\"Numero de Registros ou Tuplas: \", len(fb))"
   ]
  },
  {
   "cell_type": "code",
   "execution_count": 5,
   "metadata": {},
   "outputs": [
    {
     "data": {
      "text/plain": [
       "4.484848484848484"
      ]
     },
     "execution_count": 5,
     "metadata": {},
     "output_type": "execute_result"
    }
   ],
   "source": [
    "1480/330"
   ]
  },
  {
   "cell_type": "code",
   "execution_count": 6,
   "metadata": {},
   "outputs": [
    {
     "data": {
      "text/html": [
       "<div>\n",
       "<style scoped>\n",
       "    .dataframe tbody tr th:only-of-type {\n",
       "        vertical-align: middle;\n",
       "    }\n",
       "\n",
       "    .dataframe tbody tr th {\n",
       "        vertical-align: top;\n",
       "    }\n",
       "\n",
       "    .dataframe thead th {\n",
       "        text-align: right;\n",
       "    }\n",
       "</style>\n",
       "<table border=\"1\" class=\"dataframe\">\n",
       "  <thead>\n",
       "    <tr style=\"text-align: right;\">\n",
       "      <th></th>\n",
       "      <th>Open</th>\n",
       "      <th>High</th>\n",
       "      <th>Low</th>\n",
       "      <th>Close</th>\n",
       "      <th>Adj Close</th>\n",
       "      <th>Volume</th>\n",
       "    </tr>\n",
       "    <tr>\n",
       "      <th>Date</th>\n",
       "      <th></th>\n",
       "      <th></th>\n",
       "      <th></th>\n",
       "      <th></th>\n",
       "      <th></th>\n",
       "      <th></th>\n",
       "    </tr>\n",
       "  </thead>\n",
       "  <tbody>\n",
       "    <tr>\n",
       "      <th>2012-05-18</th>\n",
       "      <td>42.049999</td>\n",
       "      <td>45.000000</td>\n",
       "      <td>38.000000</td>\n",
       "      <td>38.230000</td>\n",
       "      <td>38.230000</td>\n",
       "      <td>573576400</td>\n",
       "    </tr>\n",
       "    <tr>\n",
       "      <th>2012-05-21</th>\n",
       "      <td>36.529999</td>\n",
       "      <td>36.660000</td>\n",
       "      <td>33.000000</td>\n",
       "      <td>34.029999</td>\n",
       "      <td>34.029999</td>\n",
       "      <td>168192700</td>\n",
       "    </tr>\n",
       "    <tr>\n",
       "      <th>2012-05-22</th>\n",
       "      <td>32.610001</td>\n",
       "      <td>33.590000</td>\n",
       "      <td>30.940001</td>\n",
       "      <td>31.000000</td>\n",
       "      <td>31.000000</td>\n",
       "      <td>101786600</td>\n",
       "    </tr>\n",
       "    <tr>\n",
       "      <th>2012-05-23</th>\n",
       "      <td>31.370001</td>\n",
       "      <td>32.500000</td>\n",
       "      <td>31.360001</td>\n",
       "      <td>32.000000</td>\n",
       "      <td>32.000000</td>\n",
       "      <td>73600000</td>\n",
       "    </tr>\n",
       "    <tr>\n",
       "      <th>2012-05-24</th>\n",
       "      <td>32.950001</td>\n",
       "      <td>33.209999</td>\n",
       "      <td>31.770000</td>\n",
       "      <td>33.029999</td>\n",
       "      <td>33.029999</td>\n",
       "      <td>50237200</td>\n",
       "    </tr>\n",
       "  </tbody>\n",
       "</table>\n",
       "</div>"
      ],
      "text/plain": [
       "                 Open       High        Low      Close  Adj Close     Volume\n",
       "Date                                                                        \n",
       "2012-05-18  42.049999  45.000000  38.000000  38.230000  38.230000  573576400\n",
       "2012-05-21  36.529999  36.660000  33.000000  34.029999  34.029999  168192700\n",
       "2012-05-22  32.610001  33.590000  30.940001  31.000000  31.000000  101786600\n",
       "2012-05-23  31.370001  32.500000  31.360001  32.000000  32.000000   73600000\n",
       "2012-05-24  32.950001  33.209999  31.770000  33.029999  33.029999   50237200"
      ]
     },
     "execution_count": 6,
     "metadata": {},
     "output_type": "execute_result"
    }
   ],
   "source": [
    "# converte o index para o tipo data\n",
    "fb.index = pd.to_datetime(fb.index)\n",
    "fb.head()"
   ]
  },
  {
   "cell_type": "code",
   "execution_count": 7,
   "metadata": {},
   "outputs": [
    {
     "name": "stdout",
     "output_type": "stream",
     "text": [
      "<class 'pandas.core.frame.DataFrame'>\n",
      "DatetimeIndex: 1480 entries, 2012-05-18 to 2018-04-06\n",
      "Data columns (total 6 columns):\n",
      "Open         1480 non-null float64\n",
      "High         1480 non-null float64\n",
      "Low          1480 non-null float64\n",
      "Close        1480 non-null float64\n",
      "Adj Close    1480 non-null float64\n",
      "Volume       1480 non-null int64\n",
      "dtypes: float64(5), int64(1)\n",
      "memory usage: 80.9 KB\n"
     ]
    }
   ],
   "source": [
    "fb.info()"
   ]
  },
  {
   "cell_type": "code",
   "execution_count": 8,
   "metadata": {},
   "outputs": [
    {
     "data": {
      "text/html": [
       "<div>\n",
       "<style scoped>\n",
       "    .dataframe tbody tr th:only-of-type {\n",
       "        vertical-align: middle;\n",
       "    }\n",
       "\n",
       "    .dataframe tbody tr th {\n",
       "        vertical-align: top;\n",
       "    }\n",
       "\n",
       "    .dataframe thead th {\n",
       "        text-align: right;\n",
       "    }\n",
       "</style>\n",
       "<table border=\"1\" class=\"dataframe\">\n",
       "  <thead>\n",
       "    <tr style=\"text-align: right;\">\n",
       "      <th></th>\n",
       "      <th>Open</th>\n",
       "      <th>High</th>\n",
       "      <th>Low</th>\n",
       "      <th>Close</th>\n",
       "      <th>Adj Close</th>\n",
       "      <th>Volume</th>\n",
       "    </tr>\n",
       "  </thead>\n",
       "  <tbody>\n",
       "    <tr>\n",
       "      <th>count</th>\n",
       "      <td>1480.000000</td>\n",
       "      <td>1480.000000</td>\n",
       "      <td>1480.000000</td>\n",
       "      <td>1480.000000</td>\n",
       "      <td>1480.000000</td>\n",
       "      <td>1.480000e+03</td>\n",
       "    </tr>\n",
       "    <tr>\n",
       "      <th>mean</th>\n",
       "      <td>89.862601</td>\n",
       "      <td>90.773331</td>\n",
       "      <td>88.865433</td>\n",
       "      <td>89.860723</td>\n",
       "      <td>89.860723</td>\n",
       "      <td>3.730959e+07</td>\n",
       "    </tr>\n",
       "    <tr>\n",
       "      <th>std</th>\n",
       "      <td>48.652394</td>\n",
       "      <td>48.932057</td>\n",
       "      <td>48.319743</td>\n",
       "      <td>48.678628</td>\n",
       "      <td>48.678628</td>\n",
       "      <td>3.234154e+07</td>\n",
       "    </tr>\n",
       "    <tr>\n",
       "      <th>min</th>\n",
       "      <td>18.080000</td>\n",
       "      <td>18.270000</td>\n",
       "      <td>17.549999</td>\n",
       "      <td>17.730000</td>\n",
       "      <td>17.730000</td>\n",
       "      <td>5.913100e+06</td>\n",
       "    </tr>\n",
       "    <tr>\n",
       "      <th>25%</th>\n",
       "      <td>49.670000</td>\n",
       "      <td>50.562499</td>\n",
       "      <td>48.709999</td>\n",
       "      <td>49.395002</td>\n",
       "      <td>49.395002</td>\n",
       "      <td>1.840070e+07</td>\n",
       "    </tr>\n",
       "    <tr>\n",
       "      <th>50%</th>\n",
       "      <td>81.299999</td>\n",
       "      <td>82.089996</td>\n",
       "      <td>80.650002</td>\n",
       "      <td>81.410000</td>\n",
       "      <td>81.410000</td>\n",
       "      <td>2.734440e+07</td>\n",
       "    </tr>\n",
       "    <tr>\n",
       "      <th>75%</th>\n",
       "      <td>124.132498</td>\n",
       "      <td>125.000000</td>\n",
       "      <td>123.632497</td>\n",
       "      <td>124.352499</td>\n",
       "      <td>124.352499</td>\n",
       "      <td>4.588272e+07</td>\n",
       "    </tr>\n",
       "    <tr>\n",
       "      <th>max</th>\n",
       "      <td>192.039993</td>\n",
       "      <td>195.320007</td>\n",
       "      <td>189.979996</td>\n",
       "      <td>193.089996</td>\n",
       "      <td>193.089996</td>\n",
       "      <td>5.735764e+08</td>\n",
       "    </tr>\n",
       "  </tbody>\n",
       "</table>\n",
       "</div>"
      ],
      "text/plain": [
       "              Open         High          Low        Close    Adj Close  \\\n",
       "count  1480.000000  1480.000000  1480.000000  1480.000000  1480.000000   \n",
       "mean     89.862601    90.773331    88.865433    89.860723    89.860723   \n",
       "std      48.652394    48.932057    48.319743    48.678628    48.678628   \n",
       "min      18.080000    18.270000    17.549999    17.730000    17.730000   \n",
       "25%      49.670000    50.562499    48.709999    49.395002    49.395002   \n",
       "50%      81.299999    82.089996    80.650002    81.410000    81.410000   \n",
       "75%     124.132498   125.000000   123.632497   124.352499   124.352499   \n",
       "max     192.039993   195.320007   189.979996   193.089996   193.089996   \n",
       "\n",
       "             Volume  \n",
       "count  1.480000e+03  \n",
       "mean   3.730959e+07  \n",
       "std    3.234154e+07  \n",
       "min    5.913100e+06  \n",
       "25%    1.840070e+07  \n",
       "50%    2.734440e+07  \n",
       "75%    4.588272e+07  \n",
       "max    5.735764e+08  "
      ]
     },
     "execution_count": 8,
     "metadata": {},
     "output_type": "execute_result"
    }
   ],
   "source": [
    "fb.describe()"
   ]
  },
  {
   "cell_type": "markdown",
   "metadata": {},
   "source": [
    "## Preparacao do modelo "
   ]
  },
  {
   "cell_type": "code",
   "execution_count": 10,
   "metadata": {},
   "outputs": [
    {
     "name": "stdout",
     "output_type": "stream",
     "text": [
      "Date\n",
      "2012-05-18    38.230000\n",
      "2012-05-21    34.029999\n",
      "2012-05-22    31.000000\n",
      "2012-05-23    32.000000\n",
      "2012-05-24    33.029999\n",
      "Name: Close, dtype: float64\n"
     ]
    }
   ],
   "source": [
    "olm = lm.LinearRegression()\n",
    "X = numpy.array([x.toordinal() for x in fb.index])[:, numpy.newaxis]\n",
    "y = fb['Close']\n",
    "print(y[:5])"
   ]
  },
  {
   "cell_type": "markdown",
   "metadata": {},
   "source": [
    "## Aplicacao do modelo de regressao"
   ]
  },
  {
   "cell_type": "code",
   "execution_count": 11,
   "metadata": {},
   "outputs": [
    {
     "data": {
      "text/plain": [
       "LinearRegression(copy_X=True, fit_intercept=True, n_jobs=1, normalize=False)"
      ]
     },
     "execution_count": 11,
     "metadata": {},
     "output_type": "execute_result"
    }
   ],
   "source": [
    "olm.fit(X, y)\n",
    "olm"
   ]
  },
  {
   "cell_type": "markdown",
   "metadata": {},
   "source": [
    "## Predição"
   ]
  },
  {
   "cell_type": "code",
   "execution_count": 12,
   "metadata": {},
   "outputs": [
    {
     "data": {
      "text/plain": [
       "[6.836301229246601, 7.067829500949301, 7.145005591512017]"
      ]
     },
     "execution_count": 12,
     "metadata": {},
     "output_type": "execute_result"
    }
   ],
   "source": [
    "yp = [olm.predict(x.toordinal())[0] for x in fb.index]\n",
    "yp[:3]"
   ]
  },
  {
   "cell_type": "markdown",
   "metadata": {},
   "source": [
    "## Métrica para avaliar o modelo\n",
    "R² - coeficiente de determinação. \n",
    "É uma métrica que mede os o quanto dos futuros examplos são previstos corretamente. <br />\n",
    "Varia entre 1 e -1. Quanto mais o R² se aproximar de 1 ou -1, melhor a previsão. <br />\n",
    "Um R² próximo de 0, não reflete o modelo."
   ]
  },
  {
   "cell_type": "code",
   "execution_count": 13,
   "metadata": {},
   "outputs": [
    {
     "name": "stdout",
     "output_type": "stream",
     "text": [
      "r2 =  0.9664639352112533\n"
     ]
    }
   ],
   "source": [
    "from sklearn.metrics import r2_score\n",
    "# aplicando a predicao - datas\n",
    "y_pred = [olm.predict(x.toordinal())[0] for x in fb.index]\n",
    "\n",
    "# Evaluate the model\n",
    "r2 = r2_score(y, y_pred)\n",
    "print('r2 = ', r2 )"
   ]
  },
  {
   "cell_type": "markdown",
   "metadata": {},
   "source": [
    "## a reta de regressao"
   ]
  },
  {
   "cell_type": "code",
   "execution_count": 14,
   "metadata": {},
   "outputs": [
    {
     "name": "stdout",
     "output_type": "stream",
     "text": [
      " y = 0.07717609056774757 * x + -56689.8840495514\n"
     ]
    }
   ],
   "source": [
    "a = olm.coef_[0]\n",
    "b = olm.intercept_\n",
    "print(' y = {0} * x + {1}'.format(a, b))"
   ]
  },
  {
   "cell_type": "markdown",
   "metadata": {},
   "source": [
    "## Plota os modelo (Dados Observados x Dados Previstos)"
   ]
  },
  {
   "cell_type": "code",
   "execution_count": 15,
   "metadata": {},
   "outputs": [
    {
     "name": "stdout",
     "output_type": "stream",
     "text": [
      "Reta de Regressão: y = 0.07717609056774757 * x + -56689.8840495514\n"
     ]
    },
    {
     "data": {
      "image/png": "[encoded data removed]",
      "text/plain": [
       "<matplotlib.figure.Figure at 0x10a340c88>"
      ]
     },
     "metadata": {},
     "output_type": "display_data"
    }
   ],
   "source": [
    "# Plot do modelo\n",
    "matplotlib.style.use(\"ggplot\")\n",
    "plt.figure(figsize=(15,10))\n",
    "\n",
    "# Plot o Y e o YPrevisto - datas\n",
    "plt.plot(fb.index, y)\n",
    "plt.plot(fb.index, y_pred)\n",
    "\n",
    "# adcionando textos\n",
    "plt.title(\"OLS Regression\")\n",
    "plt.xlabel(\"Ano\")\n",
    "plt.ylabel(\"Facebook (fechamento)\")\n",
    "plt.legend([\"Atual\", \"Previsto\"], loc=\"lower right\")\n",
    "plt.savefig(\"fabebook-linregr.pdf\")\n",
    "print('Reta de Regressão: y = {0} * x + {1}'.format(a, b))\n",
    "plt.show()"
   ]
  },
  {
   "cell_type": "markdown",
   "metadata": {
    "collapsed": true
   },
   "source": [
    "## previsao para os anos de 2019, 2020, ..."
   ]
  },
  {
   "cell_type": "code",
   "execution_count": 17,
   "metadata": {},
   "outputs": [
    {
     "name": "stdout",
     "output_type": "stream",
     "text": [
      "previsao para  2019-01-30  (fechamento) = us$  195.7633709390866\n"
     ]
    }
   ],
   "source": [
    "from datetime import datetime\n",
    "\n",
    "data = \"2019-01-30\"\n",
    "datetime_object = datetime.strptime(data, '%Y-%m-%d')\n",
    "yp2019 = olm.predict(datetime_object.toordinal())\n",
    "print (\"previsao para \", data, \" (fechamento) = us$ \", yp2019[0])"
   ]
  },
  {
   "cell_type": "code",
   "execution_count": 18,
   "metadata": {},
   "outputs": [
    {
     "name": "stdout",
     "output_type": "stream",
     "text": [
      "previsao para  2020-01-30  (fechamento) = us$  223.9326439963188\n"
     ]
    }
   ],
   "source": [
    "data = \"2020-01-30\"\n",
    "datetime_object = datetime.strptime(data, '%Y-%m-%d')\n",
    "yp2020 = olm.predict(datetime_object.toordinal())\n",
    "print (\"previsao para \", data, \" (fechamento) = us$ \", yp2020[0])"
   ]
  },
  {
   "cell_type": "code",
   "execution_count": 19,
   "metadata": {},
   "outputs": [
    {
     "name": "stdout",
     "output_type": "stream",
     "text": [
      "previsao para  2025-01-30  (fechamento) = us$  364.9333614635907\n"
     ]
    }
   ],
   "source": [
    "data = \"2025-01-30\"\n",
    "datetime_object = datetime.strptime(data, '%Y-%m-%d')\n",
    "yp2025 = olm.predict(datetime_object.toordinal())\n",
    "print (\"previsao para \", data, \" (fechamento) = us$ \", yp2025[0])"
   ]
  },
  {
   "cell_type": "code",
   "execution_count": 20,
   "metadata": {},
   "outputs": [
    {
     "name": "stdout",
     "output_type": "stream",
     "text": [
      "diferenca ano 2025 - 2019 - Lucro da ação do Facebook (%) -> 186%\n"
     ]
    }
   ],
   "source": [
    "lucro = yp2025[0] / yp2019[0] * 100\n",
    "print(\"diferenca ano 2025 - 2019 - Lucro da ação do Facebook (%) ->\", \"{:3.0f}%\".format(lucro)  )"
   ]
  },
  {
   "cell_type": "markdown",
   "metadata": {},
   "source": [
    "# Regressão Linear - Usando conjuntos de treino/teste "
   ]
  },
  {
   "cell_type": "markdown",
   "metadata": {},
   "source": [
    "## Split aleatório de treino e teste"
   ]
  },
  {
   "cell_type": "code",
   "execution_count": 21,
   "metadata": {},
   "outputs": [
    {
     "data": {
      "text/html": [
       "<img src=\"images/split-de-dados-machine-learning.png\"/>"
      ],
      "text/plain": [
       "<IPython.core.display.Image object>"
      ]
     },
     "execution_count": 21,
     "metadata": {},
     "output_type": "execute_result"
    }
   ],
   "source": [
    "from IPython.display import Image\n",
    "Image(url = 'images/split-de-dados-machine-learning.png')"
   ]
  },
  {
   "cell_type": "markdown",
   "metadata": {},
   "source": [
    "Este é o método mais utilizado para avaliar performance de um algoritmo de Machine Learning. Dividimos nossos dados originais em dados de treino e de teste. Treinamos o algoritmo nos dados de treino e fazemos as previsões nos dados de teste e avaliamos o resultado. A divisão dos dados vai depender do seu dataset, mas utiliza-se com frequência tamanhos entre 70/30 (treino/teste) e 65/35 (treino/teste).\n",
    "Este método é bem veloz e ideal para conjuntos de dados muito grandes. O ponto negativo é a possibilidade de alta variância."
   ]
  },
  {
   "cell_type": "code",
   "execution_count": 34,
   "metadata": {},
   "outputs": [
    {
     "name": "stdout",
     "output_type": "stream",
     "text": [
      "r2 =  0.9661838204844942\n"
     ]
    }
   ],
   "source": [
    "from sklearn import model_selection\n",
    "# Definindo o tamanho das amostras\n",
    "teste_size = 0.33\n",
    "\n",
    "# Garante que os resultados podem ser reproduzidos\n",
    "# Isso é importante para comparar a acurácia com outros algoritmos de Machine Learning.\n",
    "seed = 7\n",
    "\n",
    "Y = y\n",
    "# Criando os conjuntos de dados de treino e de teste\n",
    "X_treino, X_teste, Y_treino, Y_teste = model_selection.train_test_split(X, Y, \n",
    "                                                                         test_size = teste_size, \n",
    "                                                                         random_state = seed)\n",
    "# Criação do modelo\n",
    "modelo = lm.LinearRegression()\n",
    "modelo.fit(X_treino, Y_treino)\n",
    "olm = modelo\n",
    "\n",
    "# aplicando a predicao - datas\n",
    "from sklearn.metrics import r2_score\n",
    "y_pred = [olm.predict(x) for x in X_teste.ravel()]\n",
    "# Evaluate the model\n",
    "r2 = r2_score(Y_teste, y_pred)\n",
    "print('r2 = ', r2 )"
   ]
  },
  {
   "cell_type": "code",
   "execution_count": 35,
   "metadata": {},
   "outputs": [
    {
     "data": {
      "text/plain": [
       "array([736629, 736263, 735467])"
      ]
     },
     "execution_count": 35,
     "metadata": {},
     "output_type": "execute_result"
    }
   ],
   "source": [
    "X_teste[:3].ravel()"
   ]
  },
  {
   "cell_type": "markdown",
   "metadata": {},
   "source": [
    "## a reta de regressao"
   ]
  },
  {
   "cell_type": "code",
   "execution_count": 36,
   "metadata": {},
   "outputs": [
    {
     "name": "stdout",
     "output_type": "stream",
     "text": [
      " y = 0.0773116741106389 * x + -56789.45100298855\n"
     ]
    }
   ],
   "source": [
    "a = olm.coef_[0]\n",
    "b = olm.intercept_\n",
    "print(' y = {0} * x + {1}'.format(a, b))"
   ]
  },
  {
   "cell_type": "markdown",
   "metadata": {
    "collapsed": true
   },
   "source": [
    "## Plota o modelo"
   ]
  },
  {
   "cell_type": "code",
   "execution_count": 38,
   "metadata": {},
   "outputs": [
    {
     "name": "stdout",
     "output_type": "stream",
     "text": [
      "Reta de Regressão Linear: y = 0.0773116741106389 * x + -56789.45100298855\n"
     ]
    },
    {
     "data": {
      "image/png": "[encoded data removed]",
      "text/plain": [
       "<matplotlib.figure.Figure at 0x1a14274c50>"
      ]
     },
     "metadata": {},
     "output_type": "display_data"
    }
   ],
   "source": [
    "# Plot do modelo\n",
    "matplotlib.style.use(\"ggplot\")\n",
    "plt.figure(figsize=(15,10))\n",
    "\n",
    "y_pred = [olm.predict(x.toordinal())[0] for x in fb.index]\n",
    "\n",
    "# Plot o Y e o YPrevisto - datas\n",
    "plt.plot(fb.index, y)\n",
    "plt.plot(fb.index, y_pred)\n",
    "\n",
    "# adcionando textos\n",
    "plt.title(\"OLS Regression\")\n",
    "plt.xlabel(\"Ano\")\n",
    "plt.ylabel(\"Facebook (fechamento)\")\n",
    "plt.legend([\"Atual\", \"Previsto\"], loc=\"lower right\")\n",
    "plt.savefig(\"fabebook-linregr.pdf\")\n",
    "\n",
    "print('Reta de Regressão Linear: y = {0} * x + {1}'.format(a, b))\n",
    "\n",
    "plt.show()"
   ]
  },
  {
   "cell_type": "markdown",
   "metadata": {},
   "source": [
    "# Usando Validação Cruzada para Avaliar o modelo"
   ]
  },
  {
   "cell_type": "code",
   "execution_count": 40,
   "metadata": {},
   "outputs": [
    {
     "data": {
      "text/html": [
       "<img src=\"images/cross-validation.jpg\"/>"
      ],
      "text/plain": [
       "<IPython.core.display.Image object>"
      ]
     },
     "execution_count": 40,
     "metadata": {},
     "output_type": "execute_result"
    }
   ],
   "source": [
    "from IPython.display import Image\n",
    "Image(url = 'images/cross-validation.jpg')"
   ]
  },
  {
   "cell_type": "markdown",
   "metadata": {},
   "source": [
    "Cross Validation é uma técnica que pode ser utilizada para avaliar a performance de um modelo com menos variância que a técnica de dividir os dados em treino/teste. Com esta técnica dividimos os dados em partes normalmente chamadas de k-folds (por exemplo k = 5, k = 10). Cada parte é chamada fold. O algoritmo é treinado em k-1 folds. Cada fold é usado no treinamento de forma repetida e um fold por vez. Após executar o processo em k-1 folds, podemos sumarizar a performance em cada fold usando a média e o desvio padrão (Eu disse que Estatística era importante no processo de Big Data Analytics). O resultado é normalmente mais confiável e oferece maior acurácia ao modelo. A chave deste processo está em definir o correto valor de k, de modo que o número de folds represente adequadamente o número de repetições necessárias."
   ]
  },
  {
   "cell_type": "code",
   "execution_count": 41,
   "metadata": {},
   "outputs": [
    {
     "name": "stdout",
     "output_type": "stream",
     "text": [
      "Acurácia: 96.596% (0.294%)\n",
      "0.9659633164998385\n"
     ]
    }
   ],
   "source": [
    "# Definindo os valores para os folds\n",
    "num_folds = 10\n",
    "num_instances = len(X)\n",
    "seed = 7\n",
    "\n",
    "# Separando os dados em folds\n",
    "kfold = model_selection.KFold(num_folds, True, random_state = seed)\n",
    "\n",
    "Y = y\n",
    "# Criando o modelo\n",
    "modelo = lm.LinearRegression()\n",
    "modelo.fit(X,Y)\n",
    "resultado = model_selection.cross_val_score(modelo, X, Y, cv = kfold)\n",
    "\n",
    "# Usamos a média e o desvio padrão\n",
    "print(\"Acurácia: %.3f%% (%.3f%%)\" % (resultado.mean()*100.0, resultado.std() * 100.0))\n",
    "print(resultado.mean())"
   ]
  },
  {
   "cell_type": "code",
   "execution_count": 42,
   "metadata": {},
   "outputs": [],
   "source": [
    "# aplicando a predicao - datas\n",
    "olm = modelo\n",
    "yp = [olm.predict(x.toordinal())[0] for x in fb.index]"
   ]
  },
  {
   "cell_type": "markdown",
   "metadata": {},
   "source": [
    "## a reta de regressao"
   ]
  },
  {
   "cell_type": "code",
   "execution_count": 43,
   "metadata": {},
   "outputs": [
    {
     "name": "stdout",
     "output_type": "stream",
     "text": [
      "Modelo Cros-Validatinon\n",
      " y = 0.07717609056774757 * x + -56689.8840495514\n"
     ]
    }
   ],
   "source": [
    "a = olm.coef_[0]\n",
    "b = olm.intercept_\n",
    "print(\"Modelo Cros-Validatinon\")\n",
    "print(' y = {0} * x + {1}'.format(a, b))"
   ]
  },
  {
   "cell_type": "code",
   "execution_count": 44,
   "metadata": {},
   "outputs": [
    {
     "name": "stdout",
     "output_type": "stream",
     "text": [
      "Modelo de Split: \n",
      " y = 0.07118755997540646 * x + -52286.73808925971\n"
     ]
    }
   ],
   "source": [
    "print(\"Modelo de Split: \")\n",
    "print(\" y = 0.07118755997540646 * x + -52286.73808925971\")"
   ]
  },
  {
   "cell_type": "code",
   "execution_count": 45,
   "metadata": {},
   "outputs": [
    {
     "name": "stdout",
     "output_type": "stream",
     "text": [
      "Reta de Regressão: y = 0.07717609056774757 * x + -56689.8840495514\n"
     ]
    },
    {
     "data": {
      "image/png": "[encoded data removed]",
      "text/plain": [
       "<matplotlib.figure.Figure at 0x10a4f0630>"
      ]
     },
     "metadata": {},
     "output_type": "display_data"
    }
   ],
   "source": [
    "# Plot do modelo\n",
    "matplotlib.style.use(\"ggplot\")\n",
    "plt.figure(figsize=(15,10))\n",
    "\n",
    "# Plot o Y e o YPrevisto - datas\n",
    "plt.plot(fb.index, y)\n",
    "plt.plot(fb.index, yp)\n",
    "\n",
    "# adcionando textos\n",
    "plt.title(\"OLS Regression\")\n",
    "plt.xlabel(\"Ano\")\n",
    "plt.ylabel(\"Facebook (fechamento)\")\n",
    "plt.legend([\"Atual\", \"Previsto\"], loc=\"lower right\")\n",
    "plt.savefig(\"fabebook-linregr.pdf\")\n",
    "\n",
    "print('Reta de Regressão: y = {0} * x + {1}'.format(a, b))\n",
    "plt.show()"
   ]
  }
 ],
 "metadata": {
  "kernelspec": {
   "display_name": "Python 3",
   "language": "python",
   "name": "python3"
  },
  "language_info": {
   "codemirror_mode": {
    "name": "ipython",
    "version": 3
   },
   "file_extension": ".py",
   "mimetype": "text/x-python",
   "name": "python",
   "nbconvert_exporter": "python",
   "pygments_lexer": "ipython3",
   "version": "3.6.4"
  }
 },
 "nbformat": 4,
 "nbformat_minor": 2
}
