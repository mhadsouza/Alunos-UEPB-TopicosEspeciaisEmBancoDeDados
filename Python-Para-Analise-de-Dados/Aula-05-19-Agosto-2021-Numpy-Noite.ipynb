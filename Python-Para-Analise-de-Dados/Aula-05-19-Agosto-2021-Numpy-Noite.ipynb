{
 "cells": [
  {
   "cell_type": "markdown",
   "metadata": {},
   "source": [
    "# Numpy - Aula-05-19-Agosto-2021-Noite"
   ]
  },
  {
   "cell_type": "code",
   "execution_count": 1,
   "metadata": {},
   "outputs": [],
   "source": [
    "import numpy as np"
   ]
  },
  {
   "cell_type": "code",
   "execution_count": 2,
   "metadata": {},
   "outputs": [
    {
     "data": {
      "text/plain": [
       "'1.19.2'"
      ]
     },
     "execution_count": 2,
     "metadata": {},
     "output_type": "execute_result"
    }
   ],
   "source": [
    "np.__version__"
   ]
  },
  {
   "cell_type": "code",
   "execution_count": 3,
   "metadata": {},
   "outputs": [
    {
     "data": {
      "text/plain": [
       "array([2, 3, 4])"
      ]
     },
     "execution_count": 3,
     "metadata": {},
     "output_type": "execute_result"
    }
   ],
   "source": [
    "v1 = np.array( [2, 3, 4])\n",
    "v1"
   ]
  },
  {
   "cell_type": "code",
   "execution_count": 4,
   "metadata": {},
   "outputs": [
    {
     "data": {
      "text/plain": [
       "numpy.ndarray"
      ]
     },
     "execution_count": 4,
     "metadata": {},
     "output_type": "execute_result"
    }
   ],
   "source": [
    "type(v1)"
   ]
  },
  {
   "cell_type": "code",
   "execution_count": 6,
   "metadata": {},
   "outputs": [
    {
     "data": {
      "text/plain": [
       "[0, 1, 2, 3, 4, 5, 6, 7, 8, 9]"
      ]
     },
     "execution_count": 6,
     "metadata": {},
     "output_type": "execute_result"
    }
   ],
   "source": [
    "l = list(range(10))\n",
    "l"
   ]
  },
  {
   "cell_type": "code",
   "execution_count": 7,
   "metadata": {},
   "outputs": [
    {
     "data": {
      "text/plain": [
       "array([0, 1, 2, 3, 4, 5, 6, 7, 8, 9])"
      ]
     },
     "execution_count": 7,
     "metadata": {},
     "output_type": "execute_result"
    }
   ],
   "source": [
    "a = np.array(l)\n",
    "a"
   ]
  },
  {
   "cell_type": "code",
   "execution_count": 8,
   "metadata": {},
   "outputs": [
    {
     "data": {
      "text/plain": [
       "0"
      ]
     },
     "execution_count": 8,
     "metadata": {},
     "output_type": "execute_result"
    }
   ],
   "source": [
    "a[0]"
   ]
  },
  {
   "cell_type": "code",
   "execution_count": 10,
   "metadata": {},
   "outputs": [
    {
     "data": {
      "text/plain": [
       "array([3, 1, 2, 3, 4, 5, 6, 7, 8, 9])"
      ]
     },
     "execution_count": 10,
     "metadata": {},
     "output_type": "execute_result"
    }
   ],
   "source": [
    "a[0] = 3\n",
    "a"
   ]
  },
  {
   "cell_type": "code",
   "execution_count": 11,
   "metadata": {},
   "outputs": [
    {
     "ename": "ValueError",
     "evalue": "invalid literal for int() with base 10: 'a'",
     "output_type": "error",
     "traceback": [
      "\u001b[0;31m---------------------------------------------------------------------------\u001b[0m",
      "\u001b[0;31mValueError\u001b[0m                                Traceback (most recent call last)",
      "\u001b[0;32m<ipython-input-11-162bacf31dfa>\u001b[0m in \u001b[0;36m<module>\u001b[0;34m\u001b[0m\n\u001b[0;32m----> 1\u001b[0;31m \u001b[0ma\u001b[0m\u001b[0;34m[\u001b[0m\u001b[0;36m1\u001b[0m\u001b[0;34m]\u001b[0m \u001b[0;34m=\u001b[0m \u001b[0;34m'a'\u001b[0m\u001b[0;34m\u001b[0m\u001b[0;34m\u001b[0m\u001b[0m\n\u001b[0m",
      "\u001b[0;31mValueError\u001b[0m: invalid literal for int() with base 10: 'a'"
     ]
    }
   ],
   "source": [
    "a[1] = 'a'"
   ]
  },
  {
   "cell_type": "code",
   "execution_count": 12,
   "metadata": {},
   "outputs": [
    {
     "data": {
      "text/plain": [
       "array(['1', '4', 'a'], dtype='<U21')"
      ]
     },
     "execution_count": 12,
     "metadata": {},
     "output_type": "execute_result"
    }
   ],
   "source": [
    "l2 = [ 1, 4, 'a']\n",
    "a2 = np.array(l2)\n",
    "a2"
   ]
  },
  {
   "cell_type": "code",
   "execution_count": 13,
   "metadata": {},
   "outputs": [
    {
     "data": {
      "text/plain": [
       "(3,)"
      ]
     },
     "execution_count": 13,
     "metadata": {},
     "output_type": "execute_result"
    }
   ],
   "source": [
    "a2.shape"
   ]
  },
  {
   "cell_type": "markdown",
   "metadata": {},
   "source": [
    "# Funções Numpy"
   ]
  },
  {
   "cell_type": "code",
   "execution_count": 14,
   "metadata": {},
   "outputs": [
    {
     "data": {
      "text/plain": [
       "array([0. , 0.5, 1. , 1.5, 2. , 2.5, 3. , 3.5, 4. ])"
      ]
     },
     "execution_count": 14,
     "metadata": {},
     "output_type": "execute_result"
    }
   ],
   "source": [
    "v2 = np.arange(0., 4.5, .5) # inicio, fim (exclusive), passo ou incremento\n",
    "v2"
   ]
  },
  {
   "cell_type": "code",
   "execution_count": 15,
   "metadata": {},
   "outputs": [
    {
     "data": {
      "text/plain": [
       "numpy.ndarray"
      ]
     },
     "execution_count": 15,
     "metadata": {},
     "output_type": "execute_result"
    }
   ],
   "source": [
    "type(v2)"
   ]
  },
  {
   "cell_type": "code",
   "execution_count": 16,
   "metadata": {},
   "outputs": [
    {
     "data": {
      "text/plain": [
       "dtype('float64')"
      ]
     },
     "execution_count": 16,
     "metadata": {},
     "output_type": "execute_result"
    }
   ],
   "source": [
    "v2.dtype"
   ]
  },
  {
   "cell_type": "code",
   "execution_count": 17,
   "metadata": {},
   "outputs": [
    {
     "data": {
      "text/plain": [
       "array([0., 0., 0., 0., 0., 0., 0., 0., 0., 0.])"
      ]
     },
     "execution_count": 17,
     "metadata": {},
     "output_type": "execute_result"
    }
   ],
   "source": [
    "a = np.zeros(10)\n",
    "a"
   ]
  },
  {
   "cell_type": "code",
   "execution_count": 18,
   "metadata": {},
   "outputs": [
    {
     "data": {
      "text/plain": [
       "array([1., 1., 1., 1., 1., 1., 1., 1., 1., 1.])"
      ]
     },
     "execution_count": 18,
     "metadata": {},
     "output_type": "execute_result"
    }
   ],
   "source": [
    "np.ones(10)"
   ]
  },
  {
   "cell_type": "code",
   "execution_count": 19,
   "metadata": {},
   "outputs": [
    {
     "data": {
      "text/plain": [
       "array([[1., 0., 0.],\n",
       "       [0., 1., 0.],\n",
       "       [0., 0., 1.]])"
      ]
     },
     "execution_count": 19,
     "metadata": {},
     "output_type": "execute_result"
    }
   ],
   "source": [
    "np.eye(3)"
   ]
  },
  {
   "cell_type": "markdown",
   "metadata": {},
   "source": [
    "# Matrizes"
   ]
  },
  {
   "cell_type": "code",
   "execution_count": 20,
   "metadata": {},
   "outputs": [
    {
     "data": {
      "text/plain": [
       "array([[5, 6, 7],\n",
       "       [2, 1, 0]])"
      ]
     },
     "execution_count": 20,
     "metadata": {},
     "output_type": "execute_result"
    }
   ],
   "source": [
    "m = np.array( [  \n",
    "    [5, 6, 7],\n",
    "    [2, 1, 0] ]\n",
    ")\n",
    "m"
   ]
  },
  {
   "cell_type": "code",
   "execution_count": 21,
   "metadata": {},
   "outputs": [
    {
     "data": {
      "text/plain": [
       "array([5, 6, 7])"
      ]
     },
     "execution_count": 21,
     "metadata": {},
     "output_type": "execute_result"
    }
   ],
   "source": [
    "m[0]"
   ]
  },
  {
   "cell_type": "code",
   "execution_count": 22,
   "metadata": {},
   "outputs": [
    {
     "data": {
      "text/plain": [
       "7"
      ]
     },
     "execution_count": 22,
     "metadata": {},
     "output_type": "execute_result"
    }
   ],
   "source": [
    "m[0][2]"
   ]
  },
  {
   "cell_type": "code",
   "execution_count": 23,
   "metadata": {},
   "outputs": [
    {
     "data": {
      "text/plain": [
       "(2, 3)"
      ]
     },
     "execution_count": 23,
     "metadata": {},
     "output_type": "execute_result"
    }
   ],
   "source": [
    "m.shape"
   ]
  },
  {
   "cell_type": "code",
   "execution_count": 24,
   "metadata": {},
   "outputs": [
    {
     "data": {
      "text/plain": [
       "(2, 3)"
      ]
     },
     "execution_count": 24,
     "metadata": {},
     "output_type": "execute_result"
    }
   ],
   "source": [
    "lin = m.shape[0]\n",
    "col = m.shape[1]\n",
    "lin, col"
   ]
  },
  {
   "cell_type": "code",
   "execution_count": 25,
   "metadata": {},
   "outputs": [
    {
     "data": {
      "text/plain": [
       "6"
      ]
     },
     "execution_count": 25,
     "metadata": {},
     "output_type": "execute_result"
    }
   ],
   "source": [
    "m.size"
   ]
  },
  {
   "cell_type": "code",
   "execution_count": 26,
   "metadata": {},
   "outputs": [
    {
     "data": {
      "text/plain": [
       "dtype('int64')"
      ]
     },
     "execution_count": 26,
     "metadata": {},
     "output_type": "execute_result"
    }
   ],
   "source": [
    "m.dtype"
   ]
  },
  {
   "cell_type": "code",
   "execution_count": 27,
   "metadata": {},
   "outputs": [
    {
     "data": {
      "text/plain": [
       "array([6., 8., 4., 9.], dtype=float16)"
      ]
     },
     "execution_count": 27,
     "metadata": {},
     "output_type": "execute_result"
    }
   ],
   "source": [
    "z = np.array( [6, 8, 4, 9], dtype=np.float16)\n",
    "z"
   ]
  },
  {
   "cell_type": "markdown",
   "metadata": {},
   "source": [
    "# Metodo Random - Gera números aleatórios"
   ]
  },
  {
   "cell_type": "code",
   "execution_count": 28,
   "metadata": {},
   "outputs": [
    {
     "data": {
      "text/plain": [
       "array([3.73129413e-01, 9.31460973e-01, 9.93265344e-01, 2.47353501e-02,\n",
       "       6.52976471e-04, 7.16073827e-01, 1.45017895e-01, 3.64805727e-01,\n",
       "       2.68203934e-01, 3.46812588e-01])"
      ]
     },
     "execution_count": 28,
     "metadata": {},
     "output_type": "execute_result"
    }
   ],
   "source": [
    "a = np.random.rand(10)\n",
    "a"
   ]
  },
  {
   "cell_type": "code",
   "execution_count": 29,
   "metadata": {},
   "outputs": [
    {
     "data": {
      "image/png": "[encoded data removed]",
      "text/plain": [
       "<Figure size 432x288 with 1 Axes>"
      ]
     },
     "metadata": {
      "needs_background": "light"
     },
     "output_type": "display_data"
    }
   ],
   "source": [
    "import matplotlib.pyplot as plt\n",
    "\n",
    "plt.show( plt.hist(a) )"
   ]
  },
  {
   "cell_type": "code",
   "execution_count": 30,
   "metadata": {},
   "outputs": [
    {
     "data": {
      "image/png": "[encoded data removed]",
      "text/plain": [
       "<Figure size 432x288 with 1 Axes>"
      ]
     },
     "metadata": {
      "needs_background": "light"
     },
     "output_type": "display_data"
    }
   ],
   "source": [
    "a = np.random.rand(100)\n",
    "\n",
    "plt.show( plt.hist(a) )"
   ]
  },
  {
   "cell_type": "code",
   "execution_count": 31,
   "metadata": {},
   "outputs": [
    {
     "data": {
      "image/png": "[encoded data removed]",
      "text/plain": [
       "<Figure size 432x288 with 1 Axes>"
      ]
     },
     "metadata": {
      "needs_background": "light"
     },
     "output_type": "display_data"
    }
   ],
   "source": [
    "a = np.random.rand(1000)\n",
    "\n",
    "plt.show( plt.hist(a) )"
   ]
  },
  {
   "cell_type": "code",
   "execution_count": 32,
   "metadata": {},
   "outputs": [
    {
     "data": {
      "image/png": "[encoded data removed]",
      "text/plain": [
       "<Figure size 432x288 with 1 Axes>"
      ]
     },
     "metadata": {
      "needs_background": "light"
     },
     "output_type": "display_data"
    }
   ],
   "source": [
    "a = np.random.rand(10000)\n",
    "\n",
    "plt.show( plt.hist(a) )"
   ]
  },
  {
   "cell_type": "markdown",
   "metadata": {},
   "source": [
    "# Distribuição Normal"
   ]
  },
  {
   "cell_type": "code",
   "execution_count": 33,
   "metadata": {},
   "outputs": [
    {
     "data": {
      "text/plain": [
       "array([ 0.29691906,  0.80592634, -0.06684887,  0.38477016,  0.24300675,\n",
       "       -0.58357178,  2.07181752, -0.00223519, -1.58531396,  0.13251045])"
      ]
     },
     "execution_count": 33,
     "metadata": {},
     "output_type": "execute_result"
    }
   ],
   "source": [
    "n = np.random.randn(10)\n",
    "n"
   ]
  },
  {
   "cell_type": "code",
   "execution_count": 34,
   "metadata": {},
   "outputs": [
    {
     "data": {
      "image/png": "[encoded data removed]",
      "text/plain": [
       "<Figure size 432x288 with 1 Axes>"
      ]
     },
     "metadata": {
      "needs_background": "light"
     },
     "output_type": "display_data"
    }
   ],
   "source": [
    "plt.show( plt.hist(n) )"
   ]
  },
  {
   "cell_type": "code",
   "execution_count": 35,
   "metadata": {},
   "outputs": [
    {
     "data": {
      "image/png": "[encoded data removed]",
      "text/plain": [
       "<Figure size 432x288 with 1 Axes>"
      ]
     },
     "metadata": {
      "needs_background": "light"
     },
     "output_type": "display_data"
    }
   ],
   "source": [
    "n = np.random.randn(100)\n",
    "plt.show( plt.hist(n) )"
   ]
  },
  {
   "cell_type": "code",
   "execution_count": 36,
   "metadata": {},
   "outputs": [
    {
     "data": {
      "image/png": "[encoded data removed]",
      "text/plain": [
       "<Figure size 432x288 with 1 Axes>"
      ]
     },
     "metadata": {
      "needs_background": "light"
     },
     "output_type": "display_data"
    }
   ],
   "source": [
    "n = np.random.randn(1000)\n",
    "plt.show( plt.hist(n) )"
   ]
  },
  {
   "cell_type": "code",
   "execution_count": 37,
   "metadata": {},
   "outputs": [
    {
     "data": {
      "image/png": "[encoded data removed]",
      "text/plain": [
       "<Figure size 432x288 with 1 Axes>"
      ]
     },
     "metadata": {
      "needs_background": "light"
     },
     "output_type": "display_data"
    }
   ],
   "source": [
    "n = np.random.randn(10000)\n",
    "plt.show( plt.hist(n) )"
   ]
  },
  {
   "cell_type": "code",
   "execution_count": 38,
   "metadata": {},
   "outputs": [
    {
     "data": {
      "text/plain": [
       "-0.0003135645912374887"
      ]
     },
     "execution_count": 38,
     "metadata": {},
     "output_type": "execute_result"
    }
   ],
   "source": [
    "n.mean()"
   ]
  },
  {
   "cell_type": "code",
   "execution_count": 39,
   "metadata": {},
   "outputs": [
    {
     "data": {
      "text/plain": [
       "0.9863799092238337"
      ]
     },
     "execution_count": 39,
     "metadata": {},
     "output_type": "execute_result"
    }
   ],
   "source": [
    "n.std()"
   ]
  },
  {
   "cell_type": "markdown",
   "metadata": {},
   "source": [
    "# Leitura de arquivos"
   ]
  },
  {
   "cell_type": "code",
   "execution_count": 40,
   "metadata": {},
   "outputs": [
    {
     "data": {
      "text/plain": [
       "'https://raw.githubusercontent.com/vladimiralencar/Alunos-UEPB-TopicosEspeciaisEmBancoDeDados/master/Python-Para-Analise-de-Dados/iris.csv'"
      ]
     },
     "execution_count": 40,
     "metadata": {},
     "output_type": "execute_result"
    }
   ],
   "source": [
    "url = 'https://raw.githubusercontent.com/vladimiralencar/Alunos-UEPB-TopicosEspeciaisEmBancoDeDados/master/Python-Para-Analise-de-Dados/iris.csv' \n",
    "url"
   ]
  },
  {
   "cell_type": "code",
   "execution_count": 41,
   "metadata": {},
   "outputs": [
    {
     "data": {
      "text/plain": [
       "array([[5.1, 3.5, 1.4, 0.2],\n",
       "       [4.9, 3. , 1.4, 0.2],\n",
       "       [4.7, 3.2, 1.3, 0.2],\n",
       "       [4.6, 3.1, 1.5, 0.2],\n",
       "       [5. , 3.6, 1.4, 0.2],\n",
       "       [5.4, 3.9, 1.7, 0.4],\n",
       "       [4.6, 3.4, 1.4, 0.3],\n",
       "       [5. , 3.4, 1.5, 0.2],\n",
       "       [4.4, 2.9, 1.4, 0.2],\n",
       "       [4.9, 3.1, 1.5, 0.1],\n",
       "       [5.4, 3.7, 1.5, 0.2],\n",
       "       [4.8, 3.4, 1.6, 0.2],\n",
       "       [4.8, 3. , 1.4, 0.1],\n",
       "       [4.3, 3. , 1.1, 0.1],\n",
       "       [5.8, 4. , 1.2, 0.2],\n",
       "       [5.7, 4.4, 1.5, 0.4],\n",
       "       [5.4, 3.9, 1.3, 0.4],\n",
       "       [5.1, 3.5, 1.4, 0.3],\n",
       "       [5.7, 3.8, 1.7, 0.3],\n",
       "       [5.1, 3.8, 1.5, 0.3],\n",
       "       [5.4, 3.4, 1.7, 0.2],\n",
       "       [5.1, 3.7, 1.5, 0.4],\n",
       "       [4.6, 3.6, 1. , 0.2],\n",
       "       [5.1, 3.3, 1.7, 0.5],\n",
       "       [4.8, 3.4, 1.9, 0.2],\n",
       "       [5. , 3. , 1.6, 0.2],\n",
       "       [5. , 3.4, 1.6, 0.4],\n",
       "       [5.2, 3.5, 1.5, 0.2],\n",
       "       [5.2, 3.4, 1.4, 0.2],\n",
       "       [4.7, 3.2, 1.6, 0.2],\n",
       "       [4.8, 3.1, 1.6, 0.2],\n",
       "       [5.4, 3.4, 1.5, 0.4],\n",
       "       [5.2, 4.1, 1.5, 0.1],\n",
       "       [5.5, 4.2, 1.4, 0.2],\n",
       "       [4.9, 3.1, 1.5, 0.1],\n",
       "       [5. , 3.2, 1.2, 0.2],\n",
       "       [5.5, 3.5, 1.3, 0.2],\n",
       "       [4.9, 3.1, 1.5, 0.1],\n",
       "       [4.4, 3. , 1.3, 0.2],\n",
       "       [5.1, 3.4, 1.5, 0.2],\n",
       "       [5. , 3.5, 1.3, 0.3],\n",
       "       [4.5, 2.3, 1.3, 0.3],\n",
       "       [4.4, 3.2, 1.3, 0.2],\n",
       "       [5. , 3.5, 1.6, 0.6],\n",
       "       [5.1, 3.8, 1.9, 0.4],\n",
       "       [4.8, 3. , 1.4, 0.3],\n",
       "       [5.1, 3.8, 1.6, 0.2],\n",
       "       [4.6, 3.2, 1.4, 0.2],\n",
       "       [5.3, 3.7, 1.5, 0.2],\n",
       "       [5. , 3.3, 1.4, 0.2],\n",
       "       [7. , 3.2, 4.7, 1.4],\n",
       "       [6.4, 3.2, 4.5, 1.5],\n",
       "       [6.9, 3.1, 4.9, 1.5],\n",
       "       [5.5, 2.3, 4. , 1.3],\n",
       "       [6.5, 2.8, 4.6, 1.5],\n",
       "       [5.7, 2.8, 4.5, 1.3],\n",
       "       [6.3, 3.3, 4.7, 1.6],\n",
       "       [4.9, 2.4, 3.3, 1. ],\n",
       "       [6.6, 2.9, 4.6, 1.3],\n",
       "       [5.2, 2.7, 3.9, 1.4],\n",
       "       [5. , 2. , 3.5, 1. ],\n",
       "       [5.9, 3. , 4.2, 1.5],\n",
       "       [6. , 2.2, 4. , 1. ],\n",
       "       [6.1, 2.9, 4.7, 1.4],\n",
       "       [5.6, 2.9, 3.6, 1.3],\n",
       "       [6.7, 3.1, 4.4, 1.4],\n",
       "       [5.6, 3. , 4.5, 1.5],\n",
       "       [5.8, 2.7, 4.1, 1. ],\n",
       "       [6.2, 2.2, 4.5, 1.5],\n",
       "       [5.6, 2.5, 3.9, 1.1],\n",
       "       [5.9, 3.2, 4.8, 1.8],\n",
       "       [6.1, 2.8, 4. , 1.3],\n",
       "       [6.3, 2.5, 4.9, 1.5],\n",
       "       [6.1, 2.8, 4.7, 1.2],\n",
       "       [6.4, 2.9, 4.3, 1.3],\n",
       "       [6.6, 3. , 4.4, 1.4],\n",
       "       [6.8, 2.8, 4.8, 1.4],\n",
       "       [6.7, 3. , 5. , 1.7],\n",
       "       [6. , 2.9, 4.5, 1.5],\n",
       "       [5.7, 2.6, 3.5, 1. ],\n",
       "       [5.5, 2.4, 3.8, 1.1],\n",
       "       [5.5, 2.4, 3.7, 1. ],\n",
       "       [5.8, 2.7, 3.9, 1.2],\n",
       "       [6. , 2.7, 5.1, 1.6],\n",
       "       [5.4, 3. , 4.5, 1.5],\n",
       "       [6. , 3.4, 4.5, 1.6],\n",
       "       [6.7, 3.1, 4.7, 1.5],\n",
       "       [6.3, 2.3, 4.4, 1.3],\n",
       "       [5.6, 3. , 4.1, 1.3],\n",
       "       [5.5, 2.5, 4. , 1.3],\n",
       "       [5.5, 2.6, 4.4, 1.2],\n",
       "       [6.1, 3. , 4.6, 1.4],\n",
       "       [5.8, 2.6, 4. , 1.2],\n",
       "       [5. , 2.3, 3.3, 1. ],\n",
       "       [5.6, 2.7, 4.2, 1.3],\n",
       "       [5.7, 3. , 4.2, 1.2],\n",
       "       [5.7, 2.9, 4.2, 1.3],\n",
       "       [6.2, 2.9, 4.3, 1.3],\n",
       "       [5.1, 2.5, 3. , 1.1],\n",
       "       [5.7, 2.8, 4.1, 1.3],\n",
       "       [6.3, 3.3, 6. , 2.5],\n",
       "       [5.8, 2.7, 5.1, 1.9],\n",
       "       [7.1, 3. , 5.9, 2.1],\n",
       "       [6.3, 2.9, 5.6, 1.8],\n",
       "       [6.5, 3. , 5.8, 2.2],\n",
       "       [7.6, 3. , 6.6, 2.1],\n",
       "       [4.9, 2.5, 4.5, 1.7],\n",
       "       [7.3, 2.9, 6.3, 1.8],\n",
       "       [6.7, 2.5, 5.8, 1.8],\n",
       "       [7.2, 3.6, 6.1, 2.5],\n",
       "       [6.5, 3.2, 5.1, 2. ],\n",
       "       [6.4, 2.7, 5.3, 1.9],\n",
       "       [6.8, 3. , 5.5, 2.1],\n",
       "       [5.7, 2.5, 5. , 2. ],\n",
       "       [5.8, 2.8, 5.1, 2.4],\n",
       "       [6.4, 3.2, 5.3, 2.3],\n",
       "       [6.5, 3. , 5.5, 1.8],\n",
       "       [7.7, 3.8, 6.7, 2.2],\n",
       "       [7.7, 2.6, 6.9, 2.3],\n",
       "       [6. , 2.2, 5. , 1.5],\n",
       "       [6.9, 3.2, 5.7, 2.3],\n",
       "       [5.6, 2.8, 4.9, 2. ],\n",
       "       [7.7, 2.8, 6.7, 2. ],\n",
       "       [6.3, 2.7, 4.9, 1.8],\n",
       "       [6.7, 3.3, 5.7, 2.1],\n",
       "       [7.2, 3.2, 6. , 1.8],\n",
       "       [6.2, 2.8, 4.8, 1.8],\n",
       "       [6.1, 3. , 4.9, 1.8],\n",
       "       [6.4, 2.8, 5.6, 2.1],\n",
       "       [7.2, 3. , 5.8, 1.6],\n",
       "       [7.4, 2.8, 6.1, 1.9],\n",
       "       [7.9, 3.8, 6.4, 2. ],\n",
       "       [6.4, 2.8, 5.6, 2.2],\n",
       "       [6.3, 2.8, 5.1, 1.5],\n",
       "       [6.1, 2.6, 5.6, 1.4],\n",
       "       [7.7, 3. , 6.1, 2.3],\n",
       "       [6.3, 3.4, 5.6, 2.4],\n",
       "       [6.4, 3.1, 5.5, 1.8],\n",
       "       [6. , 3. , 4.8, 1.8],\n",
       "       [6.9, 3.1, 5.4, 2.1],\n",
       "       [6.7, 3.1, 5.6, 2.4],\n",
       "       [6.9, 3.1, 5.1, 2.3],\n",
       "       [5.8, 2.7, 5.1, 1.9],\n",
       "       [6.8, 3.2, 5.9, 2.3],\n",
       "       [6.7, 3.3, 5.7, 2.5],\n",
       "       [6.7, 3. , 5.2, 2.3],\n",
       "       [6.3, 2.5, 5. , 1.9],\n",
       "       [6.5, 3. , 5.2, 2. ],\n",
       "       [6.2, 3.4, 5.4, 2.3],\n",
       "       [5.9, 3. , 5.1, 1.8]])"
      ]
     },
     "execution_count": 41,
     "metadata": {},
     "output_type": "execute_result"
    }
   ],
   "source": [
    "m = np.loadtxt(url, delimiter = ',', usecols=(0,1,2,3), skiprows=1)\n",
    "m"
   ]
  },
  {
   "cell_type": "code",
   "execution_count": 42,
   "metadata": {},
   "outputs": [
    {
     "data": {
      "text/plain": [
       "(150, 4)"
      ]
     },
     "execution_count": 42,
     "metadata": {},
     "output_type": "execute_result"
    }
   ],
   "source": [
    "m.shape"
   ]
  },
  {
   "cell_type": "code",
   "execution_count": 43,
   "metadata": {},
   "outputs": [
    {
     "data": {
      "text/plain": [
       "dtype('float64')"
      ]
     },
     "execution_count": 43,
     "metadata": {},
     "output_type": "execute_result"
    }
   ],
   "source": [
    "m.dtype"
   ]
  },
  {
   "cell_type": "code",
   "execution_count": 44,
   "metadata": {},
   "outputs": [
    {
     "data": {
      "text/plain": [
       "array([5.1, 4.9, 4.7, 4.6, 5. , 5.4, 4.6, 5. , 4.4, 4.9])"
      ]
     },
     "execution_count": 44,
     "metadata": {},
     "output_type": "execute_result"
    }
   ],
   "source": [
    "a1, a2 = np.loadtxt(url, delimiter = ',', usecols=(0,1), skiprows=1,\n",
    "                   unpack=True)\n",
    "a1[:10]"
   ]
  },
  {
   "cell_type": "code",
   "execution_count": 45,
   "metadata": {},
   "outputs": [
    {
     "data": {
      "text/plain": [
       "array([3.5, 3. , 3.2, 3.1, 3.6, 3.9, 3.4, 3.4, 2.9, 3.1])"
      ]
     },
     "execution_count": 45,
     "metadata": {},
     "output_type": "execute_result"
    }
   ],
   "source": [
    "a2[:10]"
   ]
  },
  {
   "cell_type": "code",
   "execution_count": 46,
   "metadata": {},
   "outputs": [
    {
     "data": {
      "image/png": "[encoded data removed]",
      "text/plain": [
       "<Figure size 432x288 with 1 Axes>"
      ]
     },
     "metadata": {
      "needs_background": "light"
     },
     "output_type": "display_data"
    }
   ],
   "source": [
    "plt.show( plt.plot(a1, a2, 'o', markersize=8, alpha=0.75))"
   ]
  },
  {
   "cell_type": "markdown",
   "metadata": {},
   "source": [
    "# Estatística - Funções"
   ]
  },
  {
   "cell_type": "code",
   "execution_count": 47,
   "metadata": {},
   "outputs": [
    {
     "data": {
      "text/plain": [
       "array([5.1, 4.9, 4.7, 4.6, 5. , 5.4, 4.6, 5. , 4.4, 4.9, 5.4, 4.8, 4.8,\n",
       "       4.3, 5.8])"
      ]
     },
     "execution_count": 47,
     "metadata": {},
     "output_type": "execute_result"
    }
   ],
   "source": [
    "a1[:15]"
   ]
  },
  {
   "cell_type": "code",
   "execution_count": 48,
   "metadata": {},
   "outputs": [
    {
     "data": {
      "text/plain": [
       "(150,)"
      ]
     },
     "execution_count": 48,
     "metadata": {},
     "output_type": "execute_result"
    }
   ],
   "source": [
    "a1.shape"
   ]
  },
  {
   "cell_type": "code",
   "execution_count": 49,
   "metadata": {},
   "outputs": [
    {
     "data": {
      "text/plain": [
       "dtype('float64')"
      ]
     },
     "execution_count": 49,
     "metadata": {},
     "output_type": "execute_result"
    }
   ],
   "source": [
    "a.dtype"
   ]
  },
  {
   "cell_type": "code",
   "execution_count": 50,
   "metadata": {},
   "outputs": [
    {
     "data": {
      "text/plain": [
       "5.843333333333334"
      ]
     },
     "execution_count": 50,
     "metadata": {},
     "output_type": "execute_result"
    }
   ],
   "source": [
    "media = np.mean(a1)\n",
    "media"
   ]
  },
  {
   "cell_type": "code",
   "execution_count": 51,
   "metadata": {},
   "outputs": [
    {
     "data": {
      "text/plain": [
       "0.8253012917851409"
      ]
     },
     "execution_count": 51,
     "metadata": {},
     "output_type": "execute_result"
    }
   ],
   "source": [
    "std = np.std(a1)\n",
    "std"
   ]
  },
  {
   "cell_type": "code",
   "execution_count": 52,
   "metadata": {},
   "outputs": [
    {
     "data": {
      "text/plain": [
       "6.6"
      ]
     },
     "execution_count": 52,
     "metadata": {},
     "output_type": "execute_result"
    }
   ],
   "source": [
    "5.8+0.8"
   ]
  },
  {
   "cell_type": "code",
   "execution_count": 53,
   "metadata": {},
   "outputs": [
    {
     "data": {
      "text/plain": [
       "5.0"
      ]
     },
     "execution_count": 53,
     "metadata": {},
     "output_type": "execute_result"
    }
   ],
   "source": [
    "5.8-0.8"
   ]
  },
  {
   "cell_type": "code",
   "execution_count": 54,
   "metadata": {},
   "outputs": [
    {
     "data": {
      "image/png": "[encoded data removed]",
      "text/plain": [
       "<Figure size 432x288 with 1 Axes>"
      ]
     },
     "metadata": {
      "needs_background": "light"
     },
     "output_type": "display_data"
    }
   ],
   "source": [
    "plt.show( plt.hist(a1))"
   ]
  },
  {
   "cell_type": "code",
   "execution_count": 55,
   "metadata": {},
   "outputs": [
    {
     "data": {
      "text/plain": [
       "4.3"
      ]
     },
     "execution_count": 55,
     "metadata": {},
     "output_type": "execute_result"
    }
   ],
   "source": [
    "a1.min()"
   ]
  },
  {
   "cell_type": "code",
   "execution_count": 56,
   "metadata": {},
   "outputs": [
    {
     "data": {
      "text/plain": [
       "7.9"
      ]
     },
     "execution_count": 56,
     "metadata": {},
     "output_type": "execute_result"
    }
   ],
   "source": [
    "a1.max()"
   ]
  },
  {
   "cell_type": "code",
   "execution_count": 57,
   "metadata": {},
   "outputs": [
    {
     "data": {
      "text/plain": [
       "5.843333333333334"
      ]
     },
     "execution_count": 57,
     "metadata": {},
     "output_type": "execute_result"
    }
   ],
   "source": [
    "a1.mean()"
   ]
  },
  {
   "cell_type": "code",
   "execution_count": 58,
   "metadata": {},
   "outputs": [
    {
     "data": {
      "text/plain": [
       "0.8253012917851409"
      ]
     },
     "execution_count": 58,
     "metadata": {},
     "output_type": "execute_result"
    }
   ],
   "source": [
    "a1.std()"
   ]
  },
  {
   "cell_type": "code",
   "execution_count": 59,
   "metadata": {},
   "outputs": [
    {
     "data": {
      "text/plain": [
       "876.5"
      ]
     },
     "execution_count": 59,
     "metadata": {},
     "output_type": "execute_result"
    }
   ],
   "source": [
    "np.sum(a1)"
   ]
  },
  {
   "cell_type": "code",
   "execution_count": 63,
   "metadata": {},
   "outputs": [
    {
     "data": {
      "text/plain": [
       "(400, 2)"
      ]
     },
     "execution_count": 63,
     "metadata": {},
     "output_type": "execute_result"
    }
   ],
   "source": [
    "m = np.random.randn(400, 2)\n",
    "m.shape"
   ]
  },
  {
   "cell_type": "code",
   "execution_count": 64,
   "metadata": {},
   "outputs": [
    {
     "data": {
      "text/plain": [
       "array([[ 2.46025905, -0.32780142],\n",
       "       [ 0.27850056, -1.73759154],\n",
       "       [ 1.45564746, -0.33742549],\n",
       "       [ 2.39341947, -0.28571826]])"
      ]
     },
     "execution_count": 64,
     "metadata": {},
     "output_type": "execute_result"
    }
   ],
   "source": [
    "m[:4]"
   ]
  },
  {
   "cell_type": "markdown",
   "metadata": {},
   "source": [
    "# Colocar em Escala"
   ]
  },
  {
   "cell_type": "markdown",
   "metadata": {},
   "source": [
    "### Normalização - Média = 0, desvio padrao = 1"
   ]
  },
  {
   "cell_type": "code",
   "execution_count": 66,
   "metadata": {},
   "outputs": [
    {
     "data": {
      "text/plain": [
       "array([ 0.1840664 , -0.78698966, -0.55683584, -0.44909189,  0.599085  ,\n",
       "        0.17760763, -1.28630975, -1.5072259 , -0.10317787, -0.05074843])"
      ]
     },
     "execution_count": 66,
     "metadata": {},
     "output_type": "execute_result"
    }
   ],
   "source": [
    "a = np.random.randn(1000)\n",
    "a[:10]"
   ]
  },
  {
   "cell_type": "code",
   "execution_count": 67,
   "metadata": {},
   "outputs": [
    {
     "data": {
      "image/png": "[encoded data removed]",
      "text/plain": [
       "<Figure size 432x288 with 1 Axes>"
      ]
     },
     "metadata": {
      "needs_background": "light"
     },
     "output_type": "display_data"
    }
   ],
   "source": [
    "plt.show( plt.hist(a))"
   ]
  },
  {
   "cell_type": "code",
   "execution_count": 68,
   "metadata": {},
   "outputs": [
    {
     "data": {
      "text/plain": [
       "array([ 0.19575774, -0.78744364, -0.55441121, -0.44531967,  0.61596712,\n",
       "        0.18921819, -1.29300889, -1.5166881 , -0.09507919, -0.041994  ])"
      ]
     },
     "execution_count": 68,
     "metadata": {},
     "output_type": "execute_result"
    }
   ],
   "source": [
    "a_scaled = (a - a.mean()) / a.std()\n",
    "a_scaled[:10]"
   ]
  },
  {
   "cell_type": "code",
   "execution_count": 69,
   "metadata": {},
   "outputs": [
    {
     "data": {
      "image/png": "[encoded data removed]",
      "text/plain": [
       "<Figure size 432x288 with 1 Axes>"
      ]
     },
     "metadata": {
      "needs_background": "light"
     },
     "output_type": "display_data"
    }
   ],
   "source": [
    "plt.show( plt.hist(a_scaled))"
   ]
  },
  {
   "cell_type": "markdown",
   "metadata": {},
   "source": [
    "# Mudar o formato"
   ]
  },
  {
   "cell_type": "code",
   "execution_count": 71,
   "metadata": {},
   "outputs": [
    {
     "data": {
      "text/plain": [
       "array([[2, 6, 9],\n",
       "       [1, 5, 7]])"
      ]
     },
     "execution_count": 71,
     "metadata": {},
     "output_type": "execute_result"
    }
   ],
   "source": [
    "c = np.array([ [2, 6, 9], [1, 5, 7] ])\n",
    "c"
   ]
  },
  {
   "cell_type": "code",
   "execution_count": 72,
   "metadata": {},
   "outputs": [
    {
     "data": {
      "text/plain": [
       "(2, 3)"
      ]
     },
     "execution_count": 72,
     "metadata": {},
     "output_type": "execute_result"
    }
   ],
   "source": [
    "c.shape"
   ]
  },
  {
   "cell_type": "code",
   "execution_count": 73,
   "metadata": {},
   "outputs": [
    {
     "data": {
      "text/plain": [
       "array([[2, 6],\n",
       "       [9, 1],\n",
       "       [5, 7]])"
      ]
     },
     "execution_count": 73,
     "metadata": {},
     "output_type": "execute_result"
    }
   ],
   "source": [
    "d = c.reshape(3,2)\n",
    "d"
   ]
  },
  {
   "cell_type": "code",
   "execution_count": 74,
   "metadata": {},
   "outputs": [
    {
     "data": {
      "text/plain": [
       "(3, 2)"
      ]
     },
     "execution_count": 74,
     "metadata": {},
     "output_type": "execute_result"
    }
   ],
   "source": [
    "d.shape"
   ]
  },
  {
   "cell_type": "code",
   "execution_count": 76,
   "metadata": {},
   "outputs": [
    {
     "data": {
      "text/plain": [
       "2"
      ]
     },
     "execution_count": 76,
     "metadata": {},
     "output_type": "execute_result"
    }
   ],
   "source": [
    "d.ndim"
   ]
  },
  {
   "cell_type": "code",
   "execution_count": 77,
   "metadata": {},
   "outputs": [
    {
     "data": {
      "text/plain": [
       "(400, 2)"
      ]
     },
     "execution_count": 77,
     "metadata": {},
     "output_type": "execute_result"
    }
   ],
   "source": [
    "m.shape"
   ]
  },
  {
   "cell_type": "code",
   "execution_count": 78,
   "metadata": {},
   "outputs": [
    {
     "data": {
      "text/plain": [
       "array([[ 2.46025905, -0.32780142],\n",
       "       [ 0.27850056, -1.73759154],\n",
       "       [ 1.45564746, -0.33742549]])"
      ]
     },
     "execution_count": 78,
     "metadata": {},
     "output_type": "execute_result"
    }
   ],
   "source": [
    "m[:3]"
   ]
  },
  {
   "cell_type": "code",
   "execution_count": 79,
   "metadata": {},
   "outputs": [],
   "source": [
    "np.save('dados.npy', m)"
   ]
  },
  {
   "cell_type": "code",
   "execution_count": 81,
   "metadata": {},
   "outputs": [
    {
     "name": "stdout",
     "output_type": "stream",
     "text": [
      "20062245 -rw-rw-r-- 1 valencar valencar 6,4K ago 19 19:36 dados.npy\r\n"
     ]
    }
   ],
   "source": [
    "!ls -ilah dados.npy #dir"
   ]
  },
  {
   "cell_type": "code",
   "execution_count": null,
   "metadata": {},
   "outputs": [],
   "source": [
    "!cat #type"
   ]
  },
  {
   "cell_type": "code",
   "execution_count": 82,
   "metadata": {},
   "outputs": [
    {
     "name": "stdout",
     "output_type": "stream",
     "text": [
      "�NUMPY\u0001\u0000v\u0000{'descr': '<f8', 'fortran_order': False, 'shape': (400, 2), }                                                        \r\n",
      "û�K��\u0003@�;Qɲ�Կ*�\u0019\u0007���?����,���|0��TJ�?C�\u0015a�տy��\u001a�%\u0003@�wBA5Iҿ�P\u0015\u0001� �?\u0000<n\u0011�Q�?z֑45&�?�/��a��?��\u001e",
      "_!�񿨘�\b���?�O��\u001e",
      "}�?��\u001a1�\u0003�a\t.Gw��?�C#�T\u001f���N�׳.�?>�(+KQ�?�H[�n�ǿ��j�]�y��j\u0011R8y��>0���\u0007\u0001�Yf�%7��?Dj\u0011*9����\u0019\u0010-�?_��H5)�?*c%\u001c",
      "a{��� �{n��?I�<0\u001b��?CG�!ե�?+��wh~�?��\u001c",
      "��\u0015�?�\u0012Q\u000fԐ�?\u0017���\f",
      "��\u0005<��c��?\u0007u~�\u001a �}/J\u001a?�\u0001@�B�S���?\u0018K�\u001e",
      "���?+%c�T;��_�\u0001~���?v������?*��㊍�?FŃ\\\u001bB\u0002�\u001e",
      "��B�z�?T�.\u0017����\u0015u\r\n",
      ";y��c:\u000f��\u0013�?�\u001c",
      "S�Hf��)�`��?,\u0013洡T�?uI�d)l��׍��\u0000�\u001b>�i>յ��\u001bf#�p�?n�Q_��޿�߇�l��?Եl�#��?�������?\f",
      "��ݽh�?\u0011�a����ӒS�PR�M[��3\u0013�?�^!�\u0005\t�?\u0013�N$!\u0000�?\r\n",
      ">\u0011�o\u0005�?�ɍɾ��?�Zʊك�R\u0019.p���?\"�*�t�Ŀ\u0014O{\u001d",
      "o\u000fĿ@�2�6e�?V�e\u000b",
      ")M�\u0004��h��?�Gx��2�V/�C�E�?�\u0013TD�5��\u000e渣vn⿬���Ȇ�?U[�nFc�?\f",
      "�����˿7���\u0003C�?/�\u0016d���?�t\u001bd4�\u0006@�n\\\u0014�7̿C�!�\u0006\u0001�J?\u0011�ʗ俇�\u0011�Y��?�%�,���?W.c�\u0000*\u0006@����\u001c",
      "�v���\u0004r\u0004��������R�?����m&пp�&�X%���\u0010/�?��N\u0001�;�?�qچ\u0005�¿\u0002�9;�O�L.�\u0002~�?\u0000�\u0017I���_4�z���?U;�����?��\u0004���пZt6Q���?�B\u0016U�sֿI\u00174q�?���G�3�Tڿen�ͬz��)�\u0019�\u000b",
      "���\r",
      "�W\u0013km�?�e;��?߿��r�orԿ�Kp���;5�V|{ۿ��l�\u001c",
      "\\�?��\u0016��-ٿ�\b�\f",
      "\u0017��?i�g������\u0014g,�k��\u001e",
      "�К3鲿DP�����?jɫ��?\u0000�\u0019�]}LU���Vtc]��?��_��\u0001��M[�1�\u0016\u0005x\u0019c��?qD\u0007�3aտ�\f",
      "��.,�?�,]p�W�?ّ�j9��?�K��4�����\u0002L��?P\u000b",
      ",�=���ɛ\u0004��?\u000e\\o��\\�?[\u0010O�Ɋῄ߈\f",
      "D��?�/\u001f��$\u0003@�\u0013�!\u0013��?�\u0003�����?^+rIei�?H\u0013�����M\u0006W�bPӿ����n\t�?_ǆ��m�?��d\u0003\r\n",
      "n�?�4�\u00120\u0002�?����Y\u0011�?Z���ʕ�z\u001e",
      "n�c�\u0002�r�+M\u001e",
      "���6����!�o\u001f�}d��?��DIL8�?HHy����?\u000b",
      "rw�%|׿Y�~����?�t�\u001e",
      "�j�?�\u0011�!\u0011��?\u001fn�P�V��\u0004����9���3��nL�?.�\u0014Z9\u000b",
      "����\u0015�I��?�|�\u0001^�����=����\"����?��\u000b",
      "����\u0019�����?�pa5Ob���\u0015b�@�ٽ|\u0011\r",
      "�?%V�J��3���MO�?���dX���\u0005���#���\u000fv�?��z�)�_z��\r\n",
      "}�?����rg\f",
      "@����dtۿ�\u00059��s��tL�l\r",
      "ۿ�\u0011z�⿜S\u0011\r\n",
      "\u0011��?�\u0010�����?+�(\u001c",
      "���?M\f",
      "ʱ�\u0003@ɝ+�s�忷�Pc\u0018\u0019�G�׀F��?*\u0005��\u0010��?���\u001e",
      "��|�\u000b",
      "<<\u000b",
      "�?\u0014;F����݌�\u000f��ƿ\u000e�Jf�#\u0000@���{7��Ri�p�\u0001�?c\r",
      "\u00073`��]�ޓ�K�?���H����\u000b",
      "]�#Ř�?%�饰�翇}oU���?��\r",
      "\u0017e\u0002�?��������{uqO���\u0004\u0017^�\u001e",
      "2�?\u0006^F\u001e",
      "�R�?\u0003a铿Y�?\u001e",
      "˕�A��?춊�M��?�\u0010G��\r\n",
      "�?�T�0�3ɿ�$}�\u0011,�?\u0001c≐��?p}�\u0011W��YUs��8��('Nz�F⿏�|1���?���\u001b��?\u0002Ʊf���?�\u001d",
      "��k(��$#�=5ѿ\u000b",
      "\"{����?ˠ�{ ��?n-�%��?b\u0014��\u0013��?2��m��?\\���\u0004�|�/��v}T�?��Bp���?!h\u0000dD8�?��S�g\f",
      "п�7$�ʦ�O�\u000e����?�PF͇���Hֹͤ��?|��A4N�1\u000e5��\u0007���[��_\r\n",
      "ӿ�f�j�#�?z��*\u0019��?\u0016�=-���?�'�E����xH(\u0019�?<S��\r",
      "(�?\u0005P\u0016��q�w^��^��5�G�5�?��\u0001T/�\u0002���\u001a�\u000e\u000b",
      "�?N����п��\u0007�\u0017����\r",
      "+�\u0006(�q��P���?do�\u0001¶ٿ�\"��C<�?�O�\u0014�Oݿ%�MB�`�?��m+.��!U��$��?,|��\u001d",
      "��?Z<�,]���1o��ٽ�9����\u0018�?6�ߞ\u000f�տQ\u000e�4���?��\r",
      "�\u0012�^�l��ܿ�\u001aB�\u0019�;���|�\u001b�[�?h\t��\u001e",
      "ȿ�N�_�b�\u0011<J�S�?�sS�E*��lzb_g\u0011���s�D.\"�?\f",
      "Qk�y����V��9��C=O�[[�?\u0010�]G���?�.R��ѿ����D�忷������?R\u001b���\u0014\u0002@LPB��d�?�\r\n",
      "\u0002�����\u0018�ǖn񿨛�\\c��?�+���lп�\\���1�h�\u0001t\u000f�\u0003��冲\u0016#�?��/x�/ƿ��\u001d",
      "��\tҿ=\u0006��}}�?%GKￅ�?�0y[�\u0012���hdS�\u000e��tU�:��ٿ�\\�\u0014�(ֿGw3�Z��H�x��?��e|N|�?���U-�p?:�|[�?SSQ�\"��?q2�+���?�\u0005\u0000Փ��?�|�7d�\u0002�\u001c",
      "\bU:ħ�?\u000f\r",
      "͡�u�Mt.�?H}��4w޿޹�j���?&��fIӫ�:!���A�mv=9��￺TX\u0012N��?RG��i��?G��鏍�?\u001fF\f",
      "ş�� I$L2~���A��gͿ0�{\u0012�������1K���\r\n",
      "c�k\u000b",
      "�?.�5b�?���\u001fO��?�O�)����k%(���`�Vs�J�?d���6?\t@P3�V\u0019h�c�lϲ��?CX���￿.���&�?hX��\u0007��?i�}�S\u0012߿\u0011pRs���?��`��r�?��������b�1\u00150|ܿ�Q���`�?�\u0011~x*8�?�`��م�?\u0015�&$�x�?4�o#���]���\f",
      "V�?��6:)p�?��2[3��\b�\t�m\u0003ÿX�\u0016,Xſ�\u001aI��X�?�Z>dX=����9=F�����?�_�?�=�吤�?�\u0017��NK�?\u001aj��\u0006�п�̀4�u�$�M���ͿLEz��Tȿ�\u0018�\u0019NO�6\u0019�$X����\tc��\"�?8���ۉ�?\\�[p6x8����?8�t��ܿ�{o�j�?�~2\u0015����(��i�?�u\\�qVǿ��l������@B\u000fu��s�N��\u0010��B/!0}\u001c",
      "�?;��?�\u0006�?�\u0003K�\u0018�V��|9�ο�ّ��3���v�ç^ӿ���$���?a�o� \u0007�?!hw\u0017\"��?m�T�\u0005d��*�\u001f��k�?P���j��?�o���w�\b�]n{�Q?�\u0019U��s��5�\u0006�x�?�ȉԽ��?�\r",
      "�ac�̿?�/�!\u0016��2�І�\u0013�?��\u000e��-ҿ�'U\\\u001b(��v\u0010]�yuܿceN#��ȿ@�7*|��?�!�ٽ ˿�\u001c",
      "���_�?�\u0013x����?�DۮM��?�1\u0001\u001aQ��?��#�f\u0001�X\u001d",
      "�_���?��R�w\u000f�?�V�\u0017����.��\u0001��?\r\n",
      "\u000b",
      "\u0014r�_�?��BF���?6&W�|�˸6�X��?<�!_�#�?n�\t��r��ƿ��\u0017\r",
      "뿦G�\u0010\u0013n�\u001c",
      "�e\u0010%}�?\u000ed��o��?\u001b�S:�Ę?�]\u0016�b��?��b����4=W�\u0007m�?��^�=��?���\r\n",
      "��?��Å�ϰ?�q�gը�?pj4�VU���i\u0001��@����G�\u0003��?�=i�t���{�N0H����V�TK�?���M���?��\u0010T�\u0003�\u0016\u00018Yt\u001f�?LoѤ�,��u\u0005^\u001c",
      "\b}��!\u0000�\u0017�O�?\u0011VA˫��\u0017H��|+�?\u001d",
      "��\u00143(�(\u0003�H\u001f\u0014��/*��ϴ����Z�9D������[�?��@R\u001c",
      "3�?\t���?��dW-L:\u0014�\u001d",
      "��!���?{\u001a�����?+ Gۢ�࿖\u0000��~�\u0000�O\u0018�Ijdr?V�)���ѿ�\u0019\u00013\u000b",
      "+�?8-��p�ۿ\u0016�%���?`�d�\u000b",
      "\u0017�?�\u0002�\u000b",
      "�tĿvv6\f",
      "T�׿�j�R�]�?o�y\u0018\u0006�ԿX&�\u001974�?\u0001����J�?�$�����:�(\u001b�H��\u001d",
      ",�(�-�\r",
      "ˍ\u0005�'뿽w�\r",
      "}����\u0018W�{\u000f濕���/�����\b�\r\n",
      "�?�@ggZ\u001f�?Q���Ҍ���c\b\u001f�����\\�[c��\u000b",
      "\u001e",
      "0���?b\u0005h\u0012P𞿙������?��I�Ԣ\u0000��.s��S�\u0002I�G���?�>&/[��?��P�\u0019Eʿ��\u0014rF]뿰5�l�C῕�粏��?��\u0017Øf�?kw����ٿ\u0015�| �k�?�m\b-\u0015�ƿ\bU�ÿZ\u0000�&+͟G4���s�����0j\u001aN��濽\u0014�7a���]�\u0003'.�߿�:��C��?�+�\bZc�?/\u000e�\u0017Z�?w��:@��ܛ�\u0015���\u0015�\b��Ļ?b\u0019C����\u001d",
      "��$C��?�\u0007;\u0015X��?6\u001d",
      "�%]\u0016�?<Ɛ�Ӵ�?^�처��?ԖYI�G�?��k��\u001f�?�E\u001c",
      ".\r",
      "��f��B���?swu\u0004�E�?���Ѫ�\u001a\b���?��x0�t\u0001�#\u0018�U\r",
      "����#\u001d",
      "�6:v? ʻt+�?�Q��J=��r�(q���?z͞\u0014���?F����g�S\u000en�M޿\u000f��P9��?y�\u0019y���?c8KKRD�?�\u0002\u0006Rm�ӿ!��d`>��\u001fϫ��Bӿ�a\"\f",
      "�D�?!F@\"X~�?�\u0006dD�T��8�\u001be+��?6DX\u001e",
      "Q��?\u0005,���z�?��}{��\u0002@�h�n8��+_f֓o�?F�1@������b�(�?�f*ٙ׿AO�~Y��03$��.�?\u0019#��*����w�?bb����q�b�%�\r",
      "��?I�\u001f�E�ȿ%�f�v��?�]}�$n�?�N����?i-��#\u0014�?�o�dF���\u001c",
      "��g3�E5mU\u000b",
      "W�?�UM�B\u0005�?�'\t�\t߿|�GC�ӿ��p=�V��\u0003���\u0006��?�\u0015`߶0�?j���s\u001c",
      "��\u0005[2\u0006��4�\u0007]�6߿�ť�4M�\u0018i�;�oǿ��n\u0016\u0001��?��\u0000�BIӿ\u0017<���N�=\u0007{�\u001bҿ\u001a}\u001a2\u000e��?��3��F��=�����?��!UL��\f",
      "8�\u000f�O��v��T}�ؿ�\u0007|�޾�?;O:rF,�S���\u0004����\u0010�E�=ο�O�\u0002%i濳�㢵|�?���Jl\u001a�U��*�\u0000�?\u001c",
      "��\"b2ڿ��\u0000{¦��@k &Fm࿅\u001c",
      "��U\u0010��4囥��?�D�,����\\�I���\u0000@�Ӊ\u001e",
      "�9ٿ�a�~\u0017��?���\u0012�t��$o�/���ke5�\r\n",
      "������v\u001d",
      "��U\u0012k�]��<��F\u0010�鿞�\t)\u001d",
      "V�?\r",
      "yd�h��?>*r�Lc��\u0004�μ\u000b",
      "�Ͽ��f\u000eq��?={W�r0��4!�\u000e\u0004��M\u0002ww�\u0001��H�Z��i�?e\u0001����ۿ�\u0014`�\"E�?�m|����?�m;��i�?uL%T�O��8\u000b",
      "�\u0010�?�<e�����N\r",
      "L+�8ǿ0��\u00004M��\u0012sp\u0013&�?S \u0000Q��пVM��ۺ���E8a��?FO�ͱ��?�v�2w_k��|�^�q�?(�8� ��?K-�s�]�?��l\u0017�#��\u0007�),Ϳ�\b\u000b",
      "�UM�?�Z�I��տ��u�|\u0000�?9�r�j�ȿ��Qo;߿���\u001d",
      "\\Rҿ�r]�E*�?I�\r\n",
      "D\u0019{�?-ӨQ%Lʿ�Si�Gr�4�\u001c",
      "0��ӿ� �[�\u000eٿ�/v\u0012о�?�e��\u001d",
      "3տ�v\f",
      "\\�B�?W�<�����\u000e��\u0003i��?raG�_��?���ʩ�ѿ��ll;��?����f��?�@U%���?�\u001fyxHD�?&l!}�쿵o�-[��?5J�~\r",
      "\r",
      "�?~�������zm�e\u000fȿ�\u00186Qxd��h�>L\b^�?��!��\u0013�?sp�I�d�fȜE�\u0004�?�\u00181����(\\�Ӈ�Կ���WF\u0000@�\r",
      "\u0014?��pJi&���?\u0015�y\u0006g8\u0000@EI��j͇?�7u=�m��&�Y{�H̿5Bs�\u0019X�?�a�o;�ؿu�\u0011\u0015ZFҿ�\u0002\"��{\u0000@�����3�?\t�[\u0001���?|ߌ?���?M�\u001d",
      "s����1^�{\u000f���A-H�>��?r\u0003�,3\u0004�LdEos5�?�Zč\b?�?\u001b[���y�?��qg\u0010��Q�=y���ܢ��&ʿ��2S�Y�g�h7Ys�?%�p\f",
      "n\r\n",
      "�u@#Ql\u0010ٿ+z��;��?�h���\b�??�����\u0010\u0011��Y��?��R\u001c",
      "�\u0017ѿ����C�߿-��ؿ2ͿT2-u9��?\u0012��Y���?l8�.iO�?�e\u001d",
      "�u���\r\n",
      "�\u0014\u0015�V��\u0010�\u0000�.�Y�U�ῡʰ�nF�?�9^2���?�gͷ)��?�\u0001\r",
      "~���?���\u0001|���'���x�?�N��\u001c",
      "�ֿXg��U\u0003��eZ�\u001a�\u000f����j\u0018��п��B�F)�?\u0000:?\u00023�𿿓T�c�����\u0013�\r\n",
      "��?Z\u0010d6ۃ�?�֍b�\u0015п\u0011��b7�?�[Z�\u001bd��+�\u0011�⿎$�z�\u0013\t@��\u0002\u000b",
      ":��?��[�\u0003����\u0017��x��?#\u0005���r���@�G��󿽮A\t���?熱D�%ڿqJY״\u0002�?��`0!���\u0006jla��?����\u0017�ʿ'\u0011dh���?���Hv��\u001d",
      "���\u0003�\u0006F���ٿ�LޟS��?b\u0004\u000f:�$��hD$�tƿ\u001e",
      "NO\u0012D4��C\u0018��'��?\tL�X\u001a���\u0016s\u0015�\u001c",
      "\u0011�?��\u001f��;�?�\r",
      "j�y~��P�rL�¿���K�\u001e",
      "�?u*�\t\u0010z�?J,^qϬٿ�\u0014��k��?\u0006A��_ؿ\u0019,>0���# ��ʻ��\"�\\n��?\u0004\\�\u000b",
      "\u0013V��$�\u0002��0�?-\u000b",
      "���\u000f�?E��Y۔�?Z̷3�\u0015�?k���=\u000f���,{��?�8=�C���\bvd|\u0004\u0000��\u000b",
      "S�B\u0005\u001a�?��ys\u001aF�nJip��쿩���p>�}�\u0019����?�Ʈ����(>�h�Ͻ?@Y�\u0014.�ѿ\u000b",
      "���n\u0017��\u0011�6oJ��?��(�m��]��A��g\u0013��̽�?�(�b<��?\u0012mb���?7-j=Q��?\u0005\u0004�罡�?�!�\u0011f1���қ4��@EX\u0006è�?-����\u0000�"
     ]
    }
   ],
   "source": [
    "!cat dados.npy"
   ]
  },
  {
   "cell_type": "code",
   "execution_count": null,
   "metadata": {},
   "outputs": [],
   "source": [
    "np.save('dados.npy', m)"
   ]
  },
  {
   "cell_type": "code",
   "execution_count": 83,
   "metadata": {},
   "outputs": [
    {
     "data": {
      "text/plain": [
       "array([[ 2.46025905, -0.32780142],\n",
       "       [ 0.27850056, -1.73759154],\n",
       "       [ 1.45564746, -0.33742549]])"
      ]
     },
     "execution_count": 83,
     "metadata": {},
     "output_type": "execute_result"
    }
   ],
   "source": [
    "p = np.load('dados.npy')\n",
    "p[:3]"
   ]
  },
  {
   "cell_type": "code",
   "execution_count": null,
   "metadata": {},
   "outputs": [],
   "source": []
  }
 ],
 "metadata": {
  "kernelspec": {
   "display_name": "Python 3",
   "language": "python",
   "name": "python3"
  },
  "language_info": {
   "codemirror_mode": {
    "name": "ipython",
    "version": 3
   },
   "file_extension": ".py",
   "mimetype": "text/x-python",
   "name": "python",
   "nbconvert_exporter": "python",
   "pygments_lexer": "ipython3",
   "version": "3.8.5"
  }
 },
 "nbformat": 4,
 "nbformat_minor": 4
}
