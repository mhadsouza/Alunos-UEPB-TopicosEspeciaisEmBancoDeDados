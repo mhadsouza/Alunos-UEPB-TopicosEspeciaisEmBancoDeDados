{
 "cells": [
  {
   "cell_type": "markdown",
   "metadata": {},
   "source": [
    "# Análise de Mídias Sociais: Twitter"
   ]
  },
  {
   "cell_type": "markdown",
   "metadata": {},
   "source": [
    "Para autenticar no twitter, temos que criar uma conta e accessar: <br />\n",
    "http://twitter.com/apps/ <br />\n",
    "Gerar as chaves de autenticação, ex:<br />\n",
    "CONSUMER_KEY = 'Riew8e4LKVoEJ51HbeOm6wsYA' <br />\n",
    "CONSUMER_SECRET = '3pPE1z3kTJGQiY93yCqgLUTURJO2wOcoQCcMbyMbCj4Gm9Hc6N' <br />\n",
    "OAUTH_TOKEN = '2904474861-kdalTd2NVus3q0PdvAiD3gB2IlF9IFZzao01ol7' <br />\n",
    "OAUTH_TOKEN_SECRET = '2yHMlMAEUZflpw5swYaLA8EjFyPyPJWnJT84VJoAHDKCU' <br />"
   ]
  },
  {
   "cell_type": "markdown",
   "metadata": {},
   "source": [
    "## Modulo para autenticação no twitter"
   ]
  },
  {
   "cell_type": "code",
   "execution_count": 4,
   "metadata": {},
   "outputs": [
    {
     "name": "stdout",
     "output_type": "stream",
     "text": [
      "<twitter.api.Twitter object at 0x1092ff2e8>\n"
     ]
    }
   ],
   "source": [
    "import twitter\n",
    "\n",
    "def oauth_login():\n",
    "    # XXX: Go to http://twitter.com/apps/new to create an app and get values\n",
    "    # for these credentials that you'll need to provide in place of these\n",
    "    # empty string values that are defined as placeholders.\n",
    "    # See https://dev.twitter.com/docs/auth/oauth for more information \n",
    "    # on Twitter's OAuth implementation.\n",
    "    \n",
    "    CONSUMER_KEY = 'Riew8e4LKVoEJ51HbeOm6wsYA'\n",
    "    CONSUMER_SECRET = '3pPE1z3kTJGQiY93yCqgLUTURJO2wOcoQCcMbyMbCj4Gm9Hc6N'\n",
    "    OAUTH_TOKEN = '2904474861-kdalTd2NVus3q0PdvAiD3gB2IlF9IFZzao01ol7'\n",
    "    OAUTH_TOKEN_SECRET = '2yHMlMAEUZflpw5swYaLA8EjFyPyPJWnJT84VJoAHDKCU'\n",
    "    \n",
    "    auth = twitter.oauth.OAuth(OAUTH_TOKEN, OAUTH_TOKEN_SECRET,\n",
    "                               CONSUMER_KEY, CONSUMER_SECRET)\n",
    "    \n",
    "    twitter_api = twitter.Twitter(auth=auth)\n",
    "    return twitter_api\n",
    "\n",
    "# Sample usage\n",
    "twitter_api = oauth_login()    \n",
    "\n",
    "# Nothing to see by displaying twitter_api except that it's now a\n",
    "# defined variable\n",
    "\n",
    "print (twitter_api)"
   ]
  },
  {
   "cell_type": "markdown",
   "metadata": {},
   "source": [
    "## Módulo para buscar tweets, dado uma palavra"
   ]
  },
  {
   "cell_type": "code",
   "execution_count": 5,
   "metadata": {},
   "outputs": [],
   "source": [
    "def twitter_search(twitter_api, q, max_results=1000, **kw):  #max_results=200\n",
    "\n",
    "    # See https://dev.twitter.com/docs/api/1.1/get/search/tweets and \n",
    "    # https://dev.twitter.com/docs/using-search for details on advanced \n",
    "    # search criteria that may be useful for keyword arguments\n",
    "    \n",
    "    # See https://dev.twitter.com/docs/api/1.1/get/search/tweets    \n",
    "    search_results = twitter_api.search.tweets(q=q, count=1000, **kw)   # count=100\n",
    "    \n",
    "    statuses = search_results['statuses']\n",
    "    \n",
    "    # Iterate through batches of results by following the cursor until we\n",
    "    # reach the desired number of results, keeping in mind that OAuth users\n",
    "    # can \"only\" make 180 search queries per 15-minute interval. See\n",
    "    # https://dev.twitter.com/docs/rate-limiting/1.1/limits\n",
    "    # for details. A reasonable number of results is ~1000, although\n",
    "    # that number of results may not exist for all queries.\n",
    "    \n",
    "    # Enforce a reasonable limit\n",
    "    max_results = min(1000, max_results)\n",
    "    \n",
    "    for _ in range(10): # 10*100 = 1000\n",
    "        try:\n",
    "            next_results = search_results['search_metadata']['next_results']\n",
    "        except KeyError: # No more results when next_results doesn't exist\n",
    "            break\n",
    "            \n",
    "        # Create a dictionary from next_results, which has the following form:\n",
    "        # ?max_id=313519052523986943&q=NCAA&include_entities=1\n",
    "        kwargs = dict([ kv.split('=') \n",
    "                        for kv in next_results[1:].split(\"&\") ])\n",
    "        \n",
    "        search_results = twitter_api.search.tweets(**kwargs)\n",
    "        statuses += search_results['statuses']\n",
    "        \n",
    "        if len(statuses) > max_results: \n",
    "            break\n",
    "            \n",
    "    return statuses"
   ]
  },
  {
   "cell_type": "markdown",
   "metadata": {},
   "source": [
    "## Salvando/Recuperando no MongoDB"
   ]
  },
  {
   "cell_type": "code",
   "execution_count": 6,
   "metadata": {},
   "outputs": [],
   "source": [
    "import json\n",
    "import pymongo # pip install pymongo\n",
    "\n",
    "\n",
    "def save_to_mongo(data, mongo_db, mongo_db_coll, **mongo_conn_kw):\n",
    "    \n",
    "    # Connects to the MongoDB server running on \n",
    "    # localhost:27017 by default\n",
    "    \n",
    "    client = pymongo.MongoClient(**mongo_conn_kw)\n",
    "    \n",
    "    # Get a reference to a particular database\n",
    "    \n",
    "    db = client[mongo_db]\n",
    "    \n",
    "    # Reference a particular collection in the database\n",
    "    \n",
    "    coll = db[mongo_db_coll]\n",
    "    \n",
    "    # Perform a bulk insert and  return the IDs\n",
    "    \n",
    "    return coll.insert_many(data)\n",
    "\n",
    "def load_from_mongo(mongo_db, mongo_db_coll, return_cursor=False,\n",
    "                    criteria=None, projection=None, **mongo_conn_kw):\n",
    "    \n",
    "    # Optionally, use criteria and projection to limit the data that is \n",
    "    # returned as documented in \n",
    "    # http://docs.mongodb.org/manual/reference/method/db.collection.find/\n",
    "    \n",
    "    # Consider leveraging MongoDB's aggregations framework for more \n",
    "    # sophisticated queries.\n",
    "    \n",
    "    client = pymongo.MongoClient(**mongo_conn_kw)\n",
    "    db = client[mongo_db]\n",
    "    coll = db[mongo_db_coll]\n",
    "    \n",
    "    if criteria is None:\n",
    "        criteria = {}\n",
    "    \n",
    "    if projection is None:\n",
    "        cursor = coll.find(criteria)\n",
    "    else:\n",
    "        cursor = coll.find(criteria, projection)\n",
    "\n",
    "    # Returning a cursor is recommended for large amounts of data\n",
    "    \n",
    "    if return_cursor:\n",
    "        return cursor\n",
    "    else:\n",
    "        return [ item for item in cursor ]"
   ]
  },
  {
   "cell_type": "markdown",
   "metadata": {},
   "source": [
    "## Capturando tweets"
   ]
  },
  {
   "cell_type": "code",
   "execution_count": 7,
   "metadata": {
    "scrolled": true
   },
   "outputs": [
    {
     "name": "stdout",
     "output_type": "stream",
     "text": [
      "capturando  997  tweets...\n",
      "capturando  998  tweets...\n",
      "capturando  997  tweets...\n",
      "capturando  999  tweets...\n",
      "capturando  195  tweets...\n",
      "capturando  195  tweets...\n",
      "capturando  195  tweets...\n",
      "capturando  196  tweets...\n",
      "capturando  196  tweets...\n",
      "capturando  197  tweets...\n",
      "capturando  199  tweets...\n",
      "capturando  199  tweets...\n",
      "capturando  199  tweets...\n",
      "capturando  198  tweets...\n",
      "capturando  198  tweets...\n",
      "capturando  199  tweets...\n",
      "capturando  199  tweets...\n",
      "capturando  199  tweets...\n",
      "capturando  199  tweets...\n",
      "capturando  199  tweets...\n",
      "Numero de tweets capturados:  7153\n"
     ]
    }
   ],
   "source": [
    "q = 'tesla'\n",
    "\n",
    "twitter_api = oauth_login()\n",
    "results = []\n",
    "for i in range(20):\n",
    "    result = twitter_search(twitter_api, q, max_results=1000)\n",
    "    print ('capturando ', len(result),' tweets...')\n",
    "    #results.append(result)\n",
    "    results += result\n",
    "#print(type(result))\n",
    "#print(type(results))\n",
    "print(\"Numero de tweets capturados: \", len(results))\n",
    "\n",
    "#results = twitter_search(twitter_api, q, max_results=1000)\n",
    "#save_to_mongo(results, 'tweets', q)"
   ]
  },
  {
   "cell_type": "markdown",
   "metadata": {},
   "source": [
    "## imprimindo tweets"
   ]
  },
  {
   "cell_type": "code",
   "execution_count": 8,
   "metadata": {},
   "outputs": [
    {
     "name": "stdout",
     "output_type": "stream",
     "text": [
      "Thu Apr 05 18:28:48 +0000 2018  >>  RT @ylang__ylang__: Nikola Tesla predicted way back in the 1920s that this would happen and that it would transform the world into a huge b…\n",
      "Thu Apr 05 18:28:43 +0000 2018  >>  @hinazp I'll rent #Tesla 😂🤘 aaja meri gaadi me baith ja\n",
      "Thu Apr 05 18:28:40 +0000 2018  >>  RT @EverCharge: Does Tesla Actually Have a Production Problem? Maybe Not... https://t.co/gwJPJrpAxb https://t.co/jS2jDukfUe\n",
      "Thu Apr 05 18:28:38 +0000 2018  >>  RT @BrelandTLogan: This girl drives a Tesla, wants to pick me up and pay for my food and flirting like she want some pipe... I encourage al…\n",
      "Thu Apr 05 18:28:37 +0000 2018  >>  RT @historylvrsclub: Nikola Tesla in his lab https://t.co/PKycCnsTeL\n",
      "Thu Apr 05 18:28:36 +0000 2018  >>  I’m gonna go out on a limb here, but I think you just may be driving a Tesla. #lookatme https://t.co/jRVDVovPs8\n",
      "Thu Apr 05 18:28:35 +0000 2018  >>  Tesla hit hard by new Chinese tariffs https://t.co/NkT13NpqyH\n",
      "Thu Apr 05 18:28:32 +0000 2018  >>  RT @hammondfuturist: Tesla to build world’s largest virtual power plan in South Australia. #renewables #futurist https://t.co/M85iUrE66D\n",
      "Thu Apr 05 18:28:23 +0000 2018  >>  It’s a dream to drive a #Tesla @CIMConference #cimc2018 @Tesla  #imalsofromfremont #winning #carmodel https://t.co/Upr2maUAsX\n",
      "Thu Apr 05 18:28:23 +0000 2018  >>  RT @ErikVoorhees: Suggestion to Tesla to help with capital problems: Do an ICO (could raise $1-4 billion), wherein the token grants free or…\n",
      "Thu Apr 05 18:28:15 +0000 2018  >>  RT @DRUDGE_REPORT: TESLA On Autopilot Nearly Crashes In Same Location Where Another Driver Died... https://t.co/4CO9DeJxXB\n"
     ]
    }
   ],
   "source": [
    "i = 0\n",
    "for tweet in results:\n",
    "    print(tweet['created_at'], ' >> ', tweet['text']) #, \" >> \") #, tweet['place'])\n",
    "    i += 1\n",
    "    if i > 10:\n",
    "          break"
   ]
  },
  {
   "cell_type": "markdown",
   "metadata": {
    "collapsed": true
   },
   "source": [
    "## Nuvem de Palavras - tweet"
   ]
  },
  {
   "cell_type": "markdown",
   "metadata": {},
   "source": [
    "### Stopwords"
   ]
  },
  {
   "cell_type": "code",
   "execution_count": 9,
   "metadata": {},
   "outputs": [],
   "source": [
    "# instalando o módulo de stopwords\n",
    "#!pip install stop-words"
   ]
  },
  {
   "cell_type": "code",
   "execution_count": 10,
   "metadata": {},
   "outputs": [
    {
     "name": "stdout",
     "output_type": "stream",
     "text": [
      "['a', 'about', 'above', 'after', 'again', 'against', 'all', 'am', 'an', 'and']\n",
      "['tém', 'tínhamos', 'um', 'uma', 'você', 'vocês', 'vos', 'à', 'às', 'éramos']\n"
     ]
    }
   ],
   "source": [
    "from stop_words import get_stop_words\n",
    "stop_words_english = get_stop_words('en')\n",
    "#stop_words\n",
    "stop_words_portugues = get_stop_words('pt')\n",
    "#stop_words_portugues\n",
    "stop_words = stop_words_english + stop_words_portugues\n",
    "print(stop_words[:10])\n",
    "print(stop_words[-10:])"
   ]
  },
  {
   "cell_type": "code",
   "execution_count": 11,
   "metadata": {},
   "outputs": [
    {
     "name": "stdout",
     "output_type": "stream",
     "text": [
      "686734\n"
     ]
    },
    {
     "data": {
      "text/plain": [
       "<matplotlib.figure.Figure at 0x110ff05c0>"
      ]
     },
     "metadata": {},
     "output_type": "display_data"
    },
    {
     "data": {
      "text/plain": [
       "<matplotlib.figure.Figure at 0x11034ca90>"
      ]
     },
     "metadata": {},
     "output_type": "display_data"
    }
   ],
   "source": [
    "# nuvem de palavras\n",
    "from wordcloud import WordCloud, STOPWORDS\n",
    "import re\n",
    "\n",
    "stext = \"\"\n",
    "for tweet in results:\n",
    "    if 'text' in tweet:\n",
    "        stext = stext + tweet['text']\n",
    "stext = stext.lower()\n",
    "\n",
    "# retirando pontuações e outros caracteres não relevantes\n",
    "stext = \"\".join([i for i in stext if ord(i)<128])\n",
    "stext = stext.replace(\"http://\",\"\")\n",
    "stext = stext.replace(\"https://\",\"\")\n",
    "stext = stext.replace(\"https\",\"\")\n",
    "stext = stext.replace(\",\",\"\")\n",
    "stext = stext.replace(\".\",\"\")\n",
    "stext = stext.replace(\"?\",\"\")\n",
    "stext = stext.replace(\"!\",\"\")\n",
    "stext = stext.replace(\"#\",\"\")\n",
    "stext = stext.replace(\"@\",\"\")\n",
    "stext = stext.replace(\"'\",\"\")\n",
    "\n",
    "\n",
    "# retirando as stopwords dos tweets\n",
    "for word in stop_words:\n",
    "    my_regex = r\"\\b(?=\\w)\" + re.escape(word) + r\"\\b(?!\\w)\"\n",
    "    stext = re.sub(my_regex,\"\" ,stext)\n",
    "\n",
    "print(len(stext))\n",
    "\n",
    "\n",
    "# Generate a word cloud image\n",
    "wordcloud = WordCloud().generate(stext)\n",
    "\n",
    "# Display the generated image:\n",
    "# the matplotlib way:\n",
    "import matplotlib.pyplot as plt\n",
    "plt.figure(figsize=(20,10))\n",
    "plt.imshow(wordcloud, interpolation='bilinear')\n",
    "plt.axis(\"off\")\n",
    "\n",
    "# lower max_font_size\n",
    "wordcloud = WordCloud(max_font_size=40).generate(stext)\n",
    "plt.figure(figsize=(20,10))\n",
    "plt.imshow(wordcloud, interpolation=\"bilinear\")\n",
    "plt.axis(\"off\")\n",
    "plt.show()"
   ]
  },
  {
   "cell_type": "markdown",
   "metadata": {},
   "source": [
    "## Estatistica de contagem de palavras"
   ]
  },
  {
   "cell_type": "code",
   "execution_count": 12,
   "metadata": {},
   "outputs": [],
   "source": [
    "words = stext.split()"
   ]
  },
  {
   "cell_type": "code",
   "execution_count": 13,
   "metadata": {},
   "outputs": [
    {
     "name": "stdout",
     "output_type": "stream",
     "text": [
      "tesla\n",
      "model\n",
      "-\n",
      "autopilot\n",
      "3\n",
      "another\n",
      "nearly\n",
      "crashes\n",
      "driver\n",
      "location\n",
      "died\n",
      "elon\n",
      "drudge_report:\n",
      "musk\n",
      "need\n",
      "teslas\n",
      "can\n",
      "car\n",
      "&amp;\n",
      "just\n",
      "nikola\n",
      "elonmusk\n",
      "help\n",
      "show\n",
      "best\n",
      "billion\n",
      "new\n",
      "now\n",
      "electric\n",
      "cars\n",
      "|\n",
      "much\n",
      "will\n",
      "motor\n",
      "elonmusk:\n",
      "see\n",
      "know\n",
      "tco/4co9dejxxbrt\n",
      "performance\n",
      "dont\n"
     ]
    }
   ],
   "source": [
    "from collections import Counter\n",
    "\n",
    "c = Counter(words)\n",
    "#print (c.most_common()[:30])\n",
    "most_common = c.most_common()[:40]\n",
    "\n",
    "for i in most_common:\n",
    "    print (i[0])\n",
    "#for item in words:  #[words, screen_names, hashtags]:\n",
    "#    c = Counter(item)\n",
    "#    print (c.most_common()[:20]) # top 10\n",
    "#    print "
   ]
  },
  {
   "cell_type": "code",
   "execution_count": 14,
   "metadata": {},
   "outputs": [
    {
     "name": "stdout",
     "output_type": "stream",
     "text": [
      "Counter({'tesla': 4604, 'model': 934, '-': 893, 'autopilot': 744, '3': 730, 'another': 534, 'nearly': 466, 'crashes': 458, 'driver': 450, 'location': 446, 'died': 442, 'elon': 387, 'drudge_report:': 378, 'musk': 312, 'need': 311, 'teslas': 307, 'can': 295, 'car': 284, '&amp;': 272, 'just': 268, 'nikola': 265, 'elonmusk': 263, 'help': 254, 'show': 252, 'best': 238, 'billion': 237, 'new': 235, 'now': 235, 'electric': 232, 'cars': 227, '|': 223, 'much': 219, 'will': 215, 'motor': 205, 'elonmusk:': 201, 'see': 198, 'know': 196, 'tco/4co9dejxxbrt': 196, 'performance': 185, 'dont': 184, 'twitter': 181, 'brags': 181, '$8': 181, 'internet': 179, 'break': 179, 'via': 179, 'deposit-shames': 177, 'preorders': 177, 'production': 175, 'easter': 175, 'eggs': 175, 'whole': 172, 'x': 172, 'air': 169, 'back': 166, 'ok': 163, 'lets': 163, 'thanks': 163, 'every': 160, 'easy': 160, 'roadshow': 157, 'like': 156, 'la': 156, 'nfrisbie83:': 155, 'worldrecord': 155, 'bitcoin': 155, 'cram': 155, 'wallet': 155, '$tsla': 155, 'spotted': 153, 'race': 153, '(': 151, 'bankruptcy': 151, 'dual': 149, 'suspension': 149, 'track': 149, 'potentially': 149, 'york': 148, 'people': 146, 'center': 144, 'auto': 144, 'possible': 143, 'earth': 142, 'wait': 140, 'podcast': 140, 'collapse': 139, 'entirely': 139, 'economist': 139, 'license': 138, 'probably': 138, 'theres': 136, 'box': 136, 'tap': 136, 'logo': 136, 'screen': 136, 'alpina': 136, 'electrekco:': 132, 'b7': 132, 'version': 131, 'views': 130, 'los': 124, 'video': 124, 'autoblog': 124, '535': 124, ':': 120, 'get': 119, 'news': 119, 'teslarati:': 116, 'watch': 116, 'us': 116, 'y': 116, 'solar': 116, 'week': 112, 'since': 112, 's': 112, 'warns': 111, 'stunt': 110, 'las': 110, 'crash': 109, 'factory': 105, 'actually': 104, 'en': 104, 'free': 103, 'tesla:': 103, '24hort': 100, 'teases': 100, 'tesla-branded': 100, 'rt': 99, 'cimc2018': 99, 'weekend': 99, 'whats': 99, 'c_coolidge:': 96, 'raise': 92, 'took': 92, 'system': 92, 'good': 92, 'time': 90, 'drive': 88, 'van': 88, 'says': 88, 'david': 88, 'con': 87, 'vehicle': 87, 'tequila': 84, 'look': 84, 'first': 82, 'china': 81, 'build': 80, 'love': 80, 'shares': 80, 'also': 80, 'times': 80, 'beings': 80, 'light': 80, '2016': 80, '2': 80, 'paris-roubaix': 79, 'going': 79, 'youtube': 79, 'el': 79, 'shows': 76, 'otomatik': 76, 'pilot': 76, 'sistemi': 76, 'tekrar': 76, 'edison': 76, 'roof': 76, 'prestige': 76, 'bowie': 76, 'ico': 75, 'masters': 75, 'second': 75, 'fatal': 72, 'market': 72, 'homes': 72, 'win': 72, 'still': 72, 'seems': 72, 'erikvoorhees:': 71, 'suggestion': 71, 'capital': 71, 'problems:': 71, '$1-4': 71, 'billion)': 71, 'wherein': 71, 'token': 71, 'grants': 71, 'sporting': 71, 'event': 71, 'muddy': 71, 'valentine': 71, 'nicola': 70, 'stock': 69, 'motors': 68, 'gigafactory': 68, 'happen': 64, 'size': 64, 'make': 64, '20%': 64, 'golf': 64, 'comparatively': 64, 'affordable': 64, 'marrakesh': 64, 'playing': 64, 'bargain': 64, 'thank': 64, 'many': 64, 'dude': 64, 'hit': 63, 'got': 63, 'safety': 61, 'chinese': 60, 'columnist': 60, 'jamesstewartnyt': 60, 'heres': 60, 'comparison': 60, 'said': 60, 'kim': 60, 'kardashian': 60, 'according': 60, 'model3': 60, 'test': 60, 'openculture:': 60, 'wsj': 60, 'supercars': 60, 'luxurycars': 60, 'bu': 60, 'almost': 59, 'go': 58, 'problem': 57, 'driving': 56, 'australia': 56, 'cimconference': 56, 'yet': 56, 'surge': 56, 'gaining': 56, '$9': 56, 'cap': 56, 'lows': 56, 'smoother': 56, 'detailed': 56, 'navigation/maps': 56, 'action': 56, 'wsj:': 56, 'teslart': 56, 'toward': 56, 'naar': 56, 'top': 56, 'found': 56, 'finally': 56, 'foxbusiness:': 56, 'uber': 56, 'roadster': 55, 'jasongay:': 55, 'went': 54, 'already': 53, 'world': 52, 'ill': 52, 'wants': 52, 't': 52, 'appears': 52, 'veering': 52, 'divider': 52, 'site': 52, 'deadly': 52, 'accident': 52, 'data': 52, 'leaf': 52, 'tco/ujwrt': 52, 'musks': 52, 'inli': 52, 'irket': 52, 'muskn': 52, 'cretsiz': 52, 'sunduu': 52, 'srcsz&amp;elektrikli': 52, 'araba': 52, 'tasarmyla': 52, '1/4': 52, 'fiyatna': 52, 'made': 52, 'today': 51, 'fox': 51, 'energy': 51, 'custom': 51, 'le': 49, 'danger': 49, 'zone': 49, 'carry': 49, 'maybe': 48, 'lab': 48, 'tariffs': 48, 'einstein': 48, 'lmcl': 48, 'kazann': 48, 'olduu': 48, 'yerde': 48, 'edildi': 48, 'trying': 48, 'rise': 48, 'sales': 48, 'stay': 48, 'getting': 48, 'un': 48, 'keynote': 48, 'west': 48, 'tansuyegen:': 48, 'modeline': 48, 'al': 48, 've': 48, 'pace': 48, 'february': 48, 'orrt': 47, 'price': 47, 'tco/4co9dejxxbtesla': 47, 'su': 47, 'design': 47, 'sense:': 45, 'way': 44, 'huge': 44, 'historylvrsclub:': 44, 'doors': 44, 'accesrt': 44, 'eating': 44, 'helping': 44, 'road': 44, 'op': 44, 'mike': 44, 'passed': 44, 'surrounded': 44, '\"teslaquilla\"': 44, 'bottles': 44, 'tracks': 44, 'dried': 44, 'tears': 44, 'quand': 44, 'devient': 44, 'wrong': 44, 'hiring': 44, 'sava:': 44, 'tco/ccwxmam9br': 44, 'one': 43, 'basis_neuro:': 43, 'neural': 43, 'interface': 43, 'rolls-royce': 43, 'unicorngo': 43, 'tco/23ezfqexii': 43, 'je': 43, 'z': 42, 'w': 42, 'plan': 41, 'must': 41, '1': 41, 'inside': 41, 'money': 41, 'climb': 41, 'tco/gwjpjrpaxb': 40, 'want': 40, 'nytimesbusiness:': 40, 'buy': 40, 'canada': 40, 'breaking': 40, 'tegenslag': 40, 'aaronfowler19:': 40, 'electricity': 40, 'manifested': 40, 'company': 40, 'riccatropical': 40, 'animals': 40, 'stupid': 40, 'albert': 40, 'two': 40, 'benieuwd': 40, 'zijn': 40, 'visie': 40, 'toekomst': 40, 'mobiliteit': 40, 'stapte': 40, 'involved': 40, 'toca': 40, 'trip': 40, 'del': 40, 'picture': 40, 'id': 40, 'bonniemurphy:': 40, 'tco/yhsfs9odhh': 40, 'culture': 40, '(2017)': 40, '[youcar]': 40, 'bmw': 40, 'lithium': 40, 'wannartcom:': 40, 'bitmeyen': 40, 'starts': 40, 'tco/8h48p34gml': 40, 'qu': 39, 'bunch': 39, 'hidden': 39, 'tco/fv695oc4qr': 39, 'mikeyziel': 38, 'available': 38, 'great': 38, 'cant': 38, 'hint': 38, 'kanye': 37, 'showing': 37, 'april': 37, 'u': 37, 'power': 36, 'board': 36, 'around': 36, 'fun': 36, 'om': 36, 'day': 36, 'megyn': 36, 'megyntoday': 36, 'year': 36, 'sitting': 36, 'firsts': 36, 'tuned': 36, 'live': 36, 'trump': 36, 'battery': 36, 'read': 36, 'va': 36, 'kirillklip:': 36, 'apple': 36, 'cnbc:': 36, 'musk:': 35, 'coche': 35, 'ev': 35, 'tco/dtxvfw2dcmrt': 35, 'una': 35, 'profit': 34, 'een': 34, 'wat': 34, 'google': 34, 'california': 33, 'inc': 33, 'sideshow': 33, 'think': 32, 'may': 32, 'worlds': 32, 'virtual': 32, 'south': 32, 'suvs': 32, 'bro': 32, 'three': 32, 'kimbal:': 32, 'promote': 32, 'giveaway': 32, 'enter': 32, 'ceo': 32, 'blockchain': 32, 'big': 32, 'co': 32, 'key': 32, 'wireless': 32, 'demise': 32, 'q1': 32, 'put': 32, 'agree': 32, 'sen': 32, '3s': 32, 'ford': 32, 'liked': 32, 'ama': 32, 'progress': 32, 'die': 32, 'service': 32, 'david_hogg16:': 32, 'jamestaranto': 32, 'editor': 32, 'tco/oc4pfoiwrf': 32, 'takingmynameback': 32, 'conservative': 32, 'pro2a': 32, 'accelerates': 32, 'effort': 32, 'short': 32, 'revolution': 32, 'contrata': 32, 'responsable': 32, 'programas': 32, 'hell': 32, 'became': 32, '(2006)': 32, 'tco/w0hbxhexsz': 32, '(tsla)': 32, 'hesla': 32, 'confiesa': 31, 'autnticas': 31, 'razones': 31, 'mand': 31, 'marte': 31, 'including': 31, 'recorrer': 31, 'pas': 31, 'interesting': 31, 'debate': 31, 'food': 30, 'share': 30, 'tech': 30, 'take': 29, 'series': 29, 'goes': 29, '2018': 29, 'predicted': 28, '1920s': 28, 'transform': 28, 'hard': 28, 'renewables': 28, 'winning': 28, 'kids': 28, 'wanted': 28, 'looking': 28, 'falcon': 28, 'space': 28, 'adamdr': 28, 'predictions': 28, '21st': 28, 'century:': 28, 'smart': 28, 'phones': 28, 'coffee': 28, 'rule': 28, 'fuel': 28, 'greentechmedia:': 28, 'bears': 28, 'released': 28, 'yesterday': 28, 'crashed': 28, 'voitollinen': 28, 'general': 28, 'myi': 28, 'yli': 28, '3000000': 28, 'autoa': 28, 'ja': 28, 'markkina-arvo': 28, 'oli': 28, 'noin': 28, 'teslarati': 28, 'job': 28, 'barackobama': 28, 'michelleobama': 28, 'hillaryclinton': 28, 'billclinton': 28, 'chelseaclinton': 28, 'sensanders': 28, 'oprah': 28, 'owntv': 28, 'nissan': 28, 'area': 28, 'nevada': 28, 'b': 28, 'article': 28, 'saying': 28, 'giving': 28, 'teslann': 28, 'tco/vrhhuaqx1r': 28, '6': 28, 'analyst': 28, 'thought': 28, 'sus': 28, 'ha': 28, 'vdeo': 28, 'trouble': 28, 'martin': 28, 'jackposobiec:': 28, 'orwellian': 28, 'real': 28, 'well': 28, 'evs': 28, 'latest': 28, 'cash': 28, 'foroelectricos:': 28, 'testedildi': 28, 'gifted': 28, 'customer': 28, 'work': 27, 'im': 27, '4793': 27, 'vins': 27, 'side': 27, 'favor': 27, 'long': 27, 'discussion': 27, 'variety': 27, 'please': 26, 'reporting': 25, 'mi': 25, 'social': 25, 'massive': 25, 'online': 25, 'ylang__ylang__:': 24, 'girl': 24, 'drives': 24, 'pick': 24, 'pay': 24, 'flirting': 24, 'pipe': 24, 'gonna': 24, 'hammondfuturist:': 24, 'largest': 24, 'futurist': 24, 'dream': 24, 'store': 24, 'complete': 24, 'cherryhillnj': 24, 'shoot': 24, 'ground/aerial': 24, 'photos/video': 24, 'riding': 24, 'high': 24, 'tco/bobdplwpdnrt': 24, 'complex': 24, 'especially': 24, 'electric-car': 24, 'helped': 24, 'death': 24, 'trap': 24, 'fan': 24, 'give': 24, 'genius': 24, 'levels': 24, 'bit': 24, 'semana': 24, 'starman': 24, 'launched': 24, 'heavy': 24, 'care': 24, 'whistler': 24, 'hydrogen': 24, 'cell-powered': 24, 'hea': 24, 'ample': 24, 'fodder': 24, 'bulls': 24, 'results': 24, 'ttesla': 24, 'issue': 24, 'prior': 24, 'wh': 24, 'senwhitehouse:': 24, 'gas-powered': 24, 'feels': 24, 'time:': 24, 'clunky': 24, '50': 24, 'expansionmx:': 24, 'video:': 24, 'intenta': 24, 'elevar': 24, 'produccin': 24, 'tco/16yld919qj': 24, 'research': 24, 'pure': 24, 'tjeffersoncat1:': 24, 'hitting': 24, 'forecourts': 24, 'plug-': 24, 'bateras': 24, 'automation': 24, '5': 24, '18': 24, 'focus': 24, 'experience': 24, 'tour': 24, 'tcrt': 24, 'tco/7nlmtm6trt': 24, 'officially': 24, 'public': 24, 'nice': 24, 'full': 24, 'webtekno:': 24, 'numbers': 24, 'prove': 24, '200': 24, 'exposure': 24, 'markets': 24, 'elmundoes': 24, 'wired_jp': 24, 'lots': 24, 'days': 24, 'wild': 24, 'hahaha': 24, 'yall': 24, 'self-driving': 24, 'owner': 24, '2010': 24, '$40000': 24, 'former': 24, 'aston': 24, 'designer': 24, 'sorry': 24, 'dir': 24, 'supercharger': 24, 'near': 24, 'ya': 24, 'installationsemerge': 24, 'tco/csbpbavr29': 24, 'falls': 24, 'und': 24, 'vehicles': 24, 'mark': 24, 'doesnt': 24, 'fire': 24, 'canbeadick': 24, 'rileymancity45': 24, 'rcmercado': 24, 'shawncollins': 24, 'theassistatx': 24, 'thethrowinatx': 24, 'atomic_rubbish': 24, 'spacex': 24, 'holding': 24, 'x:': 24, 'tco/iyuj2g6x19rt': 24, 'didnt': 23, 'technology': 23, 'registers': 23, 'record': 23, 'ramping': 23, 'failing': 23, 'head': 22, 'yes': 22, 'si': 22, 'talk': 22, 'together': 22, 'et': 22, 'meet': 22, 'efforts': 21, 'charging': 21, 'drivers': 21, 'guest': 21, 'behavior': 21, 'bhinazp': 20, 'rent': 20, 'aaja': 20, 'meri': 20, 'gaadi': 20, 'baith': 20, 'jart': 20, 'evercharge:': 20, 'tco/js2jdukfuert': 20, 'brelandtlogan:': 20, 'encourage': 20, 'alrt': 20, 'tco/pkyccnstelim': 20, 'limb': 20, 'lookatme': 20, 'tco/jrvdvovps8tesla': 20, 'tco/nkt13npqyhrt': 20, 'tco/m85iure66dits': 20, 'imalsofromfremont': 20, 'carmodel': 20, 'tco/upr2mauasxrt': 20, 'tco/4co9dejxxbaerialphotos': 20, 'tco/uiqbbxzifhrt': 20, 'hisrt': 20, 'tipsybartender:': 20, 'tequilatequilateslamodified': 20, 'mahindra': 20, 'directly:': 20, 'thar': 20, 'style': 20, 'bolero': 20, 'cross': 20, 'rive': 20, 'tco/3onvpcfy2vrt': 20, 'reutersbiz:': 20, 'update:': 20, 'national': 20, 'transportation': 20, 'conducting': 20, 'field': 20, 'investigation': 20, 'mountain': 20, 'view': 20, 'califort': 20, 'acces': 20, 'vancouver': 20, 'renatoy39': 20, 'awesome': 20, 'vancouverbc': 20, 'tco/sctkariomxrt': 20, 'accesantster': 20, 'private': 20, 'servers': 20, 'oh': 20, 'yeah': 20, 'tco/kqbugmqcxcspacexs': 20, 'tco/mxsluvuuoqtesla': 20, 'daybreaking': 20, '$303': 20, 'breakout': 20, 'bullrun': 20, '$srne': 20, '$ebio': 20, '$blcm': 20, 'tco/xcfm3g0mcert': 20, 'tco/7nlmtm6tso': 20, 'checking': 20, 'practical': 20, 'thoughtso': 20, 'tco/dikzztrldxrt': 20, 'hisour': 20, 'tco/hq84jwy96jrt': 20, 'tco/qinr4fhpsmwezlopena': 20, 'gave': 20, 'wavemakersbook:': 20, 'hoe': 20, 'gaat': 20, 'met': 20, 'tco/hlgb5xxfx1': 20, 'leiderschap': 20, 'veerkracht': 20, 'humor': 20, 'meewerkendvothe': 20, 'tco/pj6jsadbaort': 20, 'tco/ujwtesla': 20, 'vulnerable': 20, 'angeles': 20, 'tco/u0yqi0irtk': 20, 'carnewsi': 20, 'selfie': 20, ':drt': 20, 'lightworkerrt': 20, 'tco/bobdplwpdntesla': 20, 'tco/iqqdhibqmq': 20, 'internetrt': 20, 'lisaabramowicz1:': 20, 'interest': 20, 'expense': 20, 'proportion': 20, 'gross': 20, 'steadily': 20, 'risen': 20, 'borrowed': 20, 'mnikola': 20, 'tco/6bndcywdegrt': 20, 'goveganworld:': 20, 'brynmr': 20, 'mahatma': 20, 'gandrt': 20, 'aslove': 20, 'norfolk': 20, 'reasons': 20, 'amusing': 20, 'rural': 20, 'signs': 20, 'included': 20, 'happens': 20, 'guidance': 20, 'save': 20, 'ba': 20, 'tco/2rhi4r253drt': 20, 'zerosum24:': 20, 'tco/eqtesla': 20, 'songelectrekco': 20, '+100': 20, 'teslaenergy': 20, 'division': 20, 'gigafactory2:': 20, 'electrekco': 20, 'thebuffalonewsrt': 20, 'eos_italy:': 20, 'news:': 20, 'rahul': 20, 'sonnad': 20, 'tesloop': 20, 'co-founder': 20, 'added': 20, 'eos': 20, 'inbrynmr': 20, 'mahatm': 20, 'tco/bznovjainyrt': 20, 'tco/pkyccnstelelonmusk': 20, 'hey': 20, 'retweets': 20, 'stockretweeted': 20, 'oomt': 20, '(oomtnl):': 20, 'tren': 20, 'tco/uak2gnt5nart': 20, 'oomtnl:': 20, 'trendwatcher': 20, 'vincent': 20, 'everts': 20, 'vincente': 20, 'hetdailymail': 20, 'mailonline': 20, 'tires': 20, 'quiet': 20, 'lawsuits': 20, 'recently': 20, 'tco/5mbwugeeecthis': 20, 'carpervert': 20, 'robin': 20, 'tiff_tvs': 20, 'batman': 20, 'bobbyllew': 20, 'tco/synxsybuiert': 20, 'guardadorapido:': 20, 'volvemos': 20, 'vacaciones': 20, 'otro': 20, 'concurso': 20, 'effect': 20, 'steam': 20, 'tienes': 20, 'hacer': 20, 'sigrt': 20, 'tco/4co9dejxxbteslann': 20, 'tco/qplqx0vsic': 20, 'otomobil': 20, 'tco/swbex9hj4xnorbertcala': 20, 'macnow': 20, 'poprawia': 20, 'auta': 20, 'tygodnia': 20, 'tydzie': 20, 'jak': 20, 'zobaczysz': 20, 'forach': 20, 'rnice': 20, 'mod': 20, 'tco/vcru2h4t5yhave': 20, 't-shirt': 20, 'tribute': 20, 'rocket': 20, 'tco/eikqezyd4mtake': 20, 'tco/cz3nm0toabrt': 20, 'horseshort:': 20, 'patriotanalyst': 20, 'audit': 20, 'bucks': 20, '$$': 20, 'flying': 20, 'awayis': 20, 'planning': 20, 'tco/m0iehussmpteslas': 20, 'tco/1vyrpelvyghigh': 20, 'prize': 20, 'package': 20, 'bc': 20, 'sfubeediebba': 20, 'team': 20, 'tco/w4wg5rms19rt': 20, 'lightworkertesla': 20, 'tco/jlustc8v8ort': 20, 'eurt': 20, 'tco/4co9dejxxbspacexs': 20, '/r/dailytechnewsshow': 20, 'tco/qiczk42knqtco/mh5zdvdmqkrt': 20, '24honikola': 20, 'tco/6szgltrwvzrt': 20, 'tco/4co9dejxxbnew': 20, 'tco/cnagquqtwtrt': 20, 'tco/cuurbf0y3p': 20, 'tco/9loxeht9hhrt': 20, 'visibrt': 20, 'blooweels:': 20, 'louer': 20, 'sur': 20, 'marseille': 20, 'tco/xg4kncvmny': 20, 'tco/554b5yn9awspeaking': 20, 'india': 20, 'say': 20, 'tradewar': 20, 'continues': 20, 'tco/bboug17ylftesla': 20, 'tco/wjt7ccgzye': 20, 'warnings': 20, 'hands': 20, 'tco/hc0wkjjxpjrt': 20, 'heavyrt': 20, 'accesvuonna': 20, 'miljardia': 20, 'dollaria': 20, 'tco/rmti9uxvqtmarsjoe14': 20, 'firmware': 20, 'updates': 20, 'ota': 20, 'hazard': 20, 'guess': 20, 'nav': 20, 'wellrt': 20, 'tco/azjz4yo68gmarinamaral2': 20, 'gorgeous': 20, 'colors': 20, 'perfect': 20, 'photos': 20, 'mysticl': 20, 'plenty': 20, 'material': 20, 'unadulterated': 20, 'garbageelon': 20, 'tco/tatwzpivivrt': 20, 'followoprahfansfirst': 20, 'tco/mo9r4dxtqfspacexs': 20, 'teslastunt': 20, 'tco/gtyvgvbcad': 20, 'tco/7qtgualxy9between': 20, 'moving': 20, 'fastelon': 20, 'tco/3ny87fjzfenew': 20, 'nv': 20, '(reno': 20, 'sparks:': 20, '2014': 20, 'transfer)': 20, 'reno-sparks': 20, 'city-data': 20, 'forum': 20, 'tco/rwfqvkqi8pyey_0': 20, 'esperando': 20, 'tengo': 20, '220': 20, 'inversoresrt': 20, 'stephanierieger:': 20, 'fascinating': 20, 'exploration': 20, 'technical': 20, 'economic': 20, 'limits': 20, 'robots': 20, 'revolrt': 20, 'tco/csdksfbq4f[': 20, 'wkdfm:': 20, 'nomara': 20, 'tco/nyfkmfisxc': 20, 'legal': 20, 'loud': 20, 'radio': 20, ']rt': 20, 'evnewsdaily:': 20, 'thu': 20, 'apr': 20, 'shock': 20, 'electrify': 20, 'tarifrt': 20, 'visibive': 20, 'typical': 20, 'city': 20, 'morning': 20, 'cat': 20, 'called': 20, 'bus': 20, 'tco/e5edjhzoyyrt': 20, 'teslapittsburgh:': 20, 'pittsburgh': 20, 'combination': 20, 'conditioning': 20, 'heater': 20, '\\\\_()_/': 20, 'limportant_fr:': 20, 'tco/bbst1hpf80tesla': 20, 'tco/kwxatnk0vlrt': 20, 'peerstreet:': 20, 'round': 20, 'tco/gsdqwnemlg': 20, 'tco/lmcvwjjvrt': 20, 'tco/csdksfbq4fmysticl': 20, 'idea': 20, 'nhtsa': 20, '40%': 20, 'comes': 20, 'aeb': 20, 'subtracts': 20, 'tco/13xzujib6odawsonlaw1': 20, 'markbspiegel': 20, 'youyouxue': 20, 'false': 20, 'odi': 20, 'tco/ydvpoxmfegnew': 20, 'tco/whjqcaxduz': 20, 'smellgists': 20, 'tco/ielsu3shtitesla': 20, '100d': 20, 'crammed': 20, 'electrons': 20, 'ready': 20, 'northern': 20, 'rated': 20, 'tco/zfxjwg9edhrt': 20, 'tco/9mp': 20, '34': 20, '494': 20, 'tco/duxg4zz8zm': 20, 'tco/hoebs3qp41i': 20, 'tco/gj8tyd4uh9': 20, 'secret': 20, 'behind': 20, '9': 20, 'code': 20, 'revealed': 20, '(without': 20, 'music)rt': 20, 'businessinsider:': 20, 'wall': 20, 'street': 20, 'tco/efilnz775b': 20, 'tco/o9dj1154ti$tsla': 20, 'unreal': 20, 'recovery': 20, 'moment': 20, 'ps': 20, 'jjbamo:': 20, 'enchufa': 20, 'fin': 20, 'tejas': 20, 'tejados': 20, 'solares': 20, 'tco/qaqgobuyzc': 20, 'tco/drdnlvxd6ume': 20, 'gustado': 20, '(tco/g7n77pj0wi': 20, 'battery)': 20, 'tco/bbst1hpf80recepkaymak': 20, 'adnankavustur': 20, 'tugrulkusu70': 20, 'birader': 20, 'ampiyonlar': 20, 'ligi': 20, 'gibi': 20, 'liste': 20, 'birine': 20, 'versen': 20, 'dierine': 20, 'ayp': 20, 'oluyor': 20, 'adamdrdoes': 20, 'tco/js2jdukfueplease': 20, 'tco/tsn6cdvrgbtesla': 20, 'pack': 20, 'activity': 20, 'final': 20, 'quarters': 20, 'keeps': 20, 'tco/gztbjl3irnrt': 20, 'tco/4co9dejxxbheres': 20, 'roofs': 20, 'tco/4989kvpu2p': 20, 'curbedrt': 20, '24hoplease': 20, 'tco/hfpklzoei8rt': 20, 'tco/qinr4fhpsmelonmusk': 20, 'moral': 20, 'officer': 20, 'speaking': 20, 'everyone': 20, 'ur': 20, 'nerdiest': 20, 'muskwatch': 20, 'don': 20, 'tco/nfxqrgcfzvrt': 20, 'fellow': 20, 'performs': 20, 're-creation': 20, '(almost': 20, 'crashes)': 20, 'tco/eutlz2jtlzrt': 20, 'tco/4co9dejxxbnikola': 20, 'tco/auasnolhnia': 20, 'listing': 20, 'tco/hz9f2biww3': 20, 'tco/hlehjqjap8new': 20, 'tco/xeanvu6k9k': 20, 'tco/oknrkaykwbrt': 20, 'alexwitzleben:': 20, 'fisker': 20, 'beingrt': 20, 'hobbyphoto12:': 20, 'wir': 20, 'stellen': 20, '\"': 20, 'best-selling': 20, 'kurman': 20, '300': 20, 'tco/1whmp7ikecrt': 20, 'business': 20, 'supply': 20, 'heading': 20, 'volkswagen': 20, 'away': 20, 'industry': 20, 'di': 20, 'project': 20, 'trt': 20, 'others': 20, 'batteries': 20, 'engineer': 20, 'drone': 20, 'wheels': 20, 'cleantech': 20, 'vs': 20, 'r': 20, 'lane': 20, 'growth': 20, 'spacexs': 20, 'von': 20, 'australias': 20, 'dass': 20, 'comment': 20, 'trade': 20, 'engag': 20, 'voirie': 20, 'dfectueuse': 20, 'tco/9yzgbfri4bproud': 19, 'colleagues': 19, 'edmunds': 19, 'editorial': 19, 'theyve': 19, 'done': 19, 'tco/gazleluecbyall': 19, 'honestly': 19, 'upset': 19, 'let': 19, 'bolt': 19, 'verge': 19, 'companies': 19, 'warnings)': 19, 'accide': 19, 'tco/cgg4utcvvx': 19, 'tco/s2uvr5dnidtesla': 19, 'tco/zyzysr5gltrt': 19, 'tco/4co9dejxxbjust': 19, 'enjoying': 19, 'schedule': 19, 'branded': 19, 'macbook': 19, 'tco/nuwdp11xzxtesla': 19, 'electrek': 19, 'tco/xyie2pwoemrt': 19, 'thisisinsider:': 19, 'tco/1vyrpelvygrt': 19, 'facebook': 18, 'norbertcala': 18, 'temacie': 18, 'mcu': 18, 'jakby': 18, 'kto': 18, 'nie': 18, 'wiedzia': 18, 'kilka': 18, 'tygodni': 18, 'temu': 18, 'pozbya': 18, 'tegry': 18, 'tco/enjptqqc5ctesla': 18, 'tco/g4erhpbu4hrt': 18, 'worlrt': 18, 'davidsonbetter:': 18, 'beurskoers': 18, 'daalt': 18, 'opnieuw': 18, 'dodelijk': 18, 'ongeluk': 18, 'productie': 18, 'opschalen': 18, 'voor': 18, 'lukt': 18, 'niet': 18, 'doe': 18, 'dan': 18, 'tesltesla': 18, 'himrt': 17, 'bankrupt': 17, '--': 17, 'stations': 17, 'continued': 17, 'trashfuturepod:': 17, 'datapocalypse:': 17, 'tales': 17, 'babestation': 17, 'raaleh': 17, 'rocknrolga': 17, 'milo_edwards': 17, 'alexhernwhichever': 17, 'topic': 17, 'tco/tfsdzljh9xresponse': 17, 'erratic': 17, 'algorithms': 17, 'issues': 17, 'tco/ckz0ie7szrtesla': 17, 'compared': 17, 'byd': 17, 'similar)': 17, 'change': 17, 'underway': 17, 'result': 17, 'tco/ywjtjpg4k3sluam': 17, 'koncesiji': 17, 'aerodroma': 17, 'aerodromu': 17, 'niu': 17, 'ako': 17, 'ovo': 17, 'tano': 17, 'smo': 17, 'drava': 17, 'verovali': 17, 'ilidart': 17, 'worlmacnow': 17, 'ne': 16, 'fact': 16, 'iin': 16, 'egg': 16, 'columbus': 16, 'future': 16, 'tco/micjfrcvsy': 16, 'manufacturing': 16, 'right': 16, 'installations': 16, 'theswitch': 16, 'glencore:': 16, 'came': 16, 'next': 16, 'crunch': 16, 'find': 16, 'states': 16, 'coming': 16, 'higher': 16, 'autoblogcomar:': 16, 'ruta': 16, '40': 16, 'lleg': 16, 'buenosaires': 16, 'sdmoores:': 16, 'churn': 16, '2gwh': 16, 'ion': 16, '(18650': 16, '2170)': 16, 'q2': 16, '16': 16, 'even': 16, 'cas': 16, 'really': 16, 'currently': 16, 'fremont': 16, 'truck': 16, 'mashable:': 16, 'competitor': 16, 'costs': 16, '$10000': 16, 'komt': 16, 'tomorrow': 16, '21': 16, '24': 16, 'es': 16, 'call': 16, 'german': 16, 'thats': 16, 'goals': 16, 'markings': 16, 'range': 16, 'footage': 16, 'months': 16, 'powerwall': 16, 'bei': 16, 'echtgeldtv:': 16, '42%': 16, 'unserer': 16, 'live-zuschauer': 16, 'glauben': 16, 'erst': 16, 'abstrzt': 16, 'dann': 16, 'enough': 16, 'claudecalmes:': 16, 'logistics': 16, 'battle': 16, 'lastmile': 16, 'amazon-tesla': 16, 'tco/rkzjficfi5rt': 16, 'worlteslacharts': 16, 'sub-reddit': 16, 'dash': 16, 'cam': 16, 'guy': 16, 'phone)': 16, 'tco/wadaid3a75and': 16, 'imagine2027': 16, 'tco/kvwmq4q9nkrt': 16, 'tco/ruhu5qwf13': 16, 'tco/gt38gt3fbxrt': 16, 'anthonydwreck:': 16, 'tco/mo9rrt': 16, 'ice': 15, 'modle': 15, 'nest': 15, 'tenable': 15, 'automobile': 15, 'drudge_report': 15, ':tesla': 15, 'tco/iwpcfznalhelon': 15, 'nuevo': 15, 'puede': 15, 'unas': 15, '400': 15, 'millas': 15, 'sola': 15, 'carga': 15, 'tco/4vd25amqbcrt': 15, 'tco/rj4xdrzifkelon': 14, 'mr': 14, 'investors': 14, 'alexhern:': 14, '-platformed': 14, 'microphone': 14, 'trashfuture': 14, 'tco/nycrt': 14, 'jonmlevine:': 14, '80': 14, 'qualcomm': 14, 'samsung': 14, 'joined': 14, 'develop': 14, 'open-source': 14, 'chrt:': 14, 'tco/ud6uzavmtaelon': 13, 'tco/s5nlemwjfk': 13, 'tco/imibfxc556nikola': 13, 'tco/h5gu8x665krt': 13, 'palo': 13, 'alto': 13, 'despite': 13, 'intense': 13, 'last-ditch': 13, 'engineering': 13, '4': 13, 'adoption': 13, 'among': 13, 'dependent': 13, 'accessibility': 13, 'tco/at18dglhmywhy': 13, 'thursday': 13, 'tco/gicb3zf71ert': 13, 'yelp:': 12, 'building': 12, 'blvd': 12, 'gortok': 12, 'launch': 12, 'bir': 12, 'selling': 12, 'coil': 12, 'nikolatesla': 12, 'trick': 12, '[gallery]': 12, 'end': 12, 'tesisatdonanim:': 12, 'gelecek': 12, 'kitchener': 12, 'jalopnik:': 12, 'tco/ulzxfcragx': 12, '$300': 12, 'using': 12, 'pek': 12, 'wouldnt': 12, 'fortunemagazine:': 12, 'life': 12, 'sonra': 12, 'tequila:': 12, 'continue': 12, '20': 12, '1000': 12, '2018:': 12, 'better': 12, 'review': 12, 'ein': 12, 'tco/xs8okfzkxrrt': 12, 'part': 12, 'cnet': 12, 'host': 12, '2018/2019': 12, 'pretty': 12, 'cool:': 12, 'm': 12, 'wired': 12, 'crazy': 12, 'mercado': 12, 'che': 12, 'state': 12, 'panels': 12, 'chance': 12, 'tweet': 12, 'hay': 12, 'presentation': 12, 'daccident': 12, 'il': 12, 'demande': 12, 'soit': 12, 'autocrash': 12, 'weeks': 12, 'ago': 12, 'physicsvideo_:': 12, '**': 12, 'confused': 12, 'cleantechregio:': 12, 'omgebouwd': 12, 'tot': 12, 'waterstof': 12, 'elektrische': 12, 'chain': 12, 'tell': 12, 'might': 12, 'bounces': 12, 'ms': 12, 'last': 12, 'v100': 12, 'taxes': 12, 'wont': 12, 'gets': 12, '101': 12, 'accidentes': 12, 'tesla)': 12, 'financial': 12, 'ive': 12, 'p': 12, 'knew': 12, 'unveils': 12, 'petrogustavo': 12, 'impressive': 12, 'tco/iyuj2g6x19tesla': 12, 'tco/rj4xdrzifkrt': 12, 'alibabas': 12, 'ronchasss:': 12, '*conferencia': 12, 'iteso*': 12, 'oye': 12, 'pedo': 12, 'tus': 12, 'fraudes': 12, 'corrupcin': 12, 'anaya:': 12, 'uff': 12, 'amo': 12, 'zuckerberg': 12, 'vehculos': 12, 'black': 12, 'sale': 12, 'cwroehl:': 12, 'eben': 12, 'oder': 12, 'experiments': 12, 'never': 12, 'teslacharts': 12, 'teslamodel3': 12, 'plus': 12, 'emerge': 12, 'war': 12, 'electriccars': 12, 'truth': 12, 'dokumentr': 12, 'mind': 12, 'tco/ry5mvlc5hbev': 12, 'accesmuhd_galadima': 11, 'merely': 11, 'tip': 11, 'berg': 11, 'use': 11, 'goodness': 11, 'green': 11, 'traded': 11, 'chevy': 11, '\"autopilot\"': 11, 'autonomous': 11, 'tco/eztcrr2jhv': 11, 'voiture': 11, 'tco/86tgrxyzlbser': 11, 'stop': 10, 'theteslabuilds:': 10, 'brand': 10, 'wizard': 10, 'estuary': 10, 'million': 10, 'lucky': 10, 'tco/tvrrqc77btspacexs': 10, 'tco/11birbd3q1pourquoi': 10, 'chapter11cases:': 10, 'whichever': 10, 'topics': 10, 'human': 9, 'far': 9, '08of10': 9, '720p': 9, 'hdtv': 9, 'x264': 9, 'aac': 9, 'workers': 9, 'wie': 9, 'science': 9, 'wihe': 9, 'tco/nsl5mssvlmtesla': 8, 'sahara': 8, 'rainbow': 8, 'experien': 8, 'grid': 8, 'trading': 8, 'edmunds_test:': 8, 'stereo': 8, 'spontaneously': 8, 'turning': 8, 'fulrt': 8, 'elonmusknewsorg:': 8, 'roadshow:': 8, 'quarter': 8, 'ben': 8, ':rt': 8, 'der': 8, 'usa': 8, 'eyeing': 8, 'dealership': 8, '\"tesla': 8, 'rivals': 8, 'testing': 8, 'resistance': 8, 'american': 8, 'costco': 8, 'install': 8, 'bramkoster': 8, 'luukros': 8, 'marketingfacts': 8, 'het': 8, 'bagguley': 8, 'mode': 8, 'review:': 8, 'akm': 8, 'cool': 8, 'kind': 8, 'tco/blpndptw2utesla': 8, 'increases': 8, 'output': 8, 'mass-market': 8, 'promises': 8, 'canadian': 8, 'marketing': 8, 'amazing': 8, 'police': 8, 'department': 8, 'switching': 8, 'pleased': 8, 'feel': 8, 'metrics': 8, 'important': 8, 'ramp': 8, 'begin': 8, '-tco/vk7kietzgl': 8, 'copper': 8, 'fundamentals': 8, 'improve': 8, 'stockshaman:': 8, 'sqm': 8, 'oversupply': 8, 'scare': 8, '2010:': 8, 'years\"': 8, 'duruma': 8, 'koydu': 8, 'retiminde': 8, 'yaanan': 8, 'skntlarn': 8, 'nne': 8, 'gemek': 8, 'alk': 8, 'accenture': 8, 'commodities': 8, '\"stronger': 8, 'longer\"': 8, 'target': 8, 'suv': 8, 'mat': 8, 'watson': 8, '100': 8, 'direct': 8, 'cheers': 8, 'prepares': 8, 'stiff': 8, 'products': 8, 'spread': 8, 'erikvoorhees': 8, 'pioneer': 8, 'changing': 8, 'hmbyrepower:': 8, 'destacado': 8, 'algo': 8, 'luz': 8, 'encuestas': 8, 'indican': 8, 'crecida': 8, 'inminente': 8, 'cuota': 8, 'causes': 8, '/': 8, 'working': 8, 'join': 8, 'miss': 8, 'vergert': 8, 'man': 8, 'believe': 8, 'question': 8, 'benzeyrt': 8, 'start': 8, 'poursuivi': 8, 'ce': 8, 'propritaire': 8, 'group': 8, 'missed': 8, 'delivery': 8, 'tries': 8, 'steer': 8, 'barrier': 8, 'killed': 8, 'amazon': 8, 'toyota': 8, 'rose': 8, '42204%': 8, 'priced': 8, '29905': 8, 'god': 8, 'flyover': 8, 'software': 8, 'naves': 8, 'ai': 8, 'nvidia': 8, 'baby': 8, 'driverlesscars': 8, 'sw': 8, 'youre': 8, 'catches': 8, 'station': 8, 'norway': 8, 'gunna': 8, 'spot': 8, 'post': 8, 'controls': 8, 'energia': 8, 'gratuita': 8, 'authorities': 8, 'lovecraft': 8, 'order': 8, 'putting': 8, 'cart': 8, 'horse': 8, 'trash': 8, 'vieirauae:': 8, 'nbcnews:': 8, 'tco/ny1hyjkytl': 8, 'keep': 8, 'little': 8, 'breakthrough': 8, 'ml/dl': 8, '$ibm': 8, 'power9': 8, 'ac922': 8, 'include': 8, '$nvda': 8, '$8k': 8, '$128k': 8, 'gpu': 8, 'ever': 8, 'socal': 8, 'expected': 8, 'tariffs;': 8, 'details': 8, 'slow': 8, 'tco/rj4xdrzifktesla': 8, 'mc2maven:': 8, 'nighttime)': 8, 'process': 8, 'installing': 8, 'tco/44qvcqvwi5rt': 8, 'set': 8, 'han': 8, 'tax': 8, 'verge:': 8, 'tco/l2gifipfu4': 8, 'gm': 8, 'p100d': 8, 'fraud': 8, 'b/c': 8, '2015': 8, 'roadshow\"': 8, 'bad': 8, 'tariff': 8, 'earthtechling': 8, 'charry_manager': 8, 'giordanobrunofi': 8, 'colombiahumana_': 8, 'bolivar_humano': 8, 'danielbejarano_': 8, 'einhorns': 8, 'true': 8, 'lost': 8, 'safety:': 8, 'michaeljordaan': 8, 'mit': 8, 'misses': 8, 'audi': 8, 'crisi': 8, 'della': 8, 'normalit': 8, 'move': 8, 'tco/gs68qogqww': 8, 'mall': 8, 'pesar': 8, 'detiene': 8, 'pruebas': 8, 'autnomos': 8, 'matte': 8, 'dims': 8, 'curb': 8, 'aggressive': 8, 'installation': 8, 'running': 8, 'ist': 8, 'propuestas': 8, 'disruptor': 8, 'looks': 8, 'bought': 8, 'property': 8, 'tco/3hart': 8, '05/26/2015:': 8, 'drive:': 8, 'c': 8, 'literally': 8, 'sc': 8, 'sonstwemrt': 8, 'country': 8, 'bi': 8, 'school': 8, 'scientists': 8, 'substituted': 8, 'mathematics': 8, 'wander': 8, 'dr': 8, 'todays': 8, 'lesechos': 8, 'sun': 8, 'visibility': 8, 'mundo': 8, 'extinguishing': 8, 'hybrid': 8, 'tco/uc4nkyroza': 8, 'fell': 8, 'drop': 8, 'th': 8, 'worse': 8, 'cnn': 8, 'tech:': 8, 'biggest': 8, 'plant:': 8, 'tco/kflqxq8ocxon': 8, 'reveals': 8, 'nyias': 8, 'garymarcus:': 8, 'parked': 8, 'plays': 8, 'role': 8, 'claims': 8, '[autopilort': 8, 'psoe': 8, 'insta': 8, 'mariscal': 8, 'iniciar': 8, 'trmites': 8, 'instale': 8, 'nueva': 8, 'factora': 8, 'cuenca': 8, 'least': 8, 'est': 8, 'semi': 8, 'ale': 8, 'puedo': 8, 'comprar': 8, 'espaa': 8, 'jp': 8, 'morgan': 8, 'tco/kflqxq8ocxrt': 8, 'auf': 8, 'niye': 8, 'kt': 8, 'olsun': 8, 'evinize': 8, 'giren': 8, 'hrsz': 8, 'yakalannca': 8, 'rahat': 8, 'ediyorsunuz': 8, 'yoksa': 8, 'huzursuz': 8, 'mu': 8, 'oluyorsunuz': 8, 'benzeycommon': 8, 'revenue': 8, 'accounting': 8, 'americas': 8, 'reno': 8, 'credit': 8, 'per': 8, '5000': 8, ')': 8, 'tsla': 8, 'crea_bea_5': 8, 'verywimp': 8, 'lorchen10petra': 8, 's6udmjefjoygu1c': 8, 'blakiecarmen': 8, 'brooksblynn': 8, 'slartzone': 8, 'electriccar': 8, 'telhas': 8, 'borderline': 8, 'sleeping': 8, 'byton': 8, 'adds': 8, 'tco/pxejvfzoah': 8, 'olarak': 8, 'aims': 8, 'disrupt': 8, 'reservation': 8, 'farage': 8, 'universidad': 8, 'story:': 8, 'km': 8, '51': 8, 'hulluutta': 8, '\"vuonna': 8, 'tco/dvrykhas3urt': 8, 'tco/v1vg2c9oobtesla': 7, 'readers': 7, 'story': 7, 'fully': 7, 'feature': 7, 'alternative': 7, 'tco/csdksfbq4fjimmybosse': 6, 'convince': 6, 'conversation': 6, 'court': 6, 'dinner': 6, 'tco/y8nyvx7k47rt': 6, 'case': 6, 'lose': 6, '$23': 6, 'dollars': 6, 'soars': 6, '303': 6, 'squeezing': 6, 'americans': 6, 'daily': 6, '$tslart': 6, 'matesla': 5, 'accestesla': 5, 'futuristic': 5, 'factories': 5, 'require': 5, 'tco/ccwjwymzvkrt': 5, 'ride': 5, '___oprah__:': 5, 'wsjmag': 5, 'spreading': 5, 'joy': 5, 'tco/eyfxhokepc': 5, 'tco/zmdx7zoef5': 5, 'ch': 5, 'impossible': 5, '2017': 5, 'mvg': 5, 'weten': 5, 'iedergeval': 5, 'wel': 5, 'ingehuurd': 5, 'heefttesla': 5, 'bregenz': 4, 'tco/2hh3lqxositesla': 4, 'tco/bbresahgzurt': 4, 'visibwannartcom': 4, 'dahi': 4, 'ise': 4, 'akaln': 4, 'tekirt': 4, 'stevewestly:': 4, 'iii': 4, 'tco/wq7ogju8n3rt': 4, 'bitcar_io:': 4, 'doubles': 4, 'warranty': 4, 'tco/4yt0tffkus': 4, 'motoringcomau': 4, 'stablecoin': 4, 'storeofvalue': 4, 'exoticcars': 4, 'bitcarrt': 4, 'renew_economy:': 4, 'operator': 4, 'faster': 4, 'smarter': 4, 'conventional': 4, 'turbines': 4, 'reducingtesla': 4, 'hocasna': 4, 'sormu:': 4, 'hocam': 4, 'snav': 4, 'klasik': 4, 'hoca:': 4, 'klasii': 4, 'tes': 4, 'sjfjfdjjf': 4, 'yarn': 4, 'fizik': 4, 'vizesi': 4, 'var': 4, 'sorryrt': 4, 'tco/pkyccnstelsmall/large': 4, 'lincolns': 4, 'rebirth': 4, 'tco/rhhk1j0wlw': 4, 'tco/s4ogwgjtwlla': 4, 'tco/k2mwahq0wprt': 4, 'followoprahfansrt': 4, 'tco/i2hljewbwscmic': 4, 'weekendrt': 4, 'tco/ujwtrue_pundit': 4, 'turn': 4, 'signal': 4, 'stoked': 4, 'blunt$tsla': 4, 'tco/vwv0m4bxtnwho': 4, 'cheese': 4, 'piz': 4, 'zaselon': 4, 'tco/otk4yov0cwnikola': 4, 'tco/jc1igp9e5kat': 4, 'suddenly': 4, 'busy': 4, 'tco/zfga2kongz': 4, 'tco/qzubftv4ysnew': 4, 'tco/jpqckyoxdt': 4, 'tco/fjovwdrzudbf': 4, 'interviewing': 4, 'cream': 4, 'forkrt': 4, '\"imdiki': 4, 'zaman': 4, 'onlara': 4, 'ait': 4, 'olabilir': 4, 'hep': 4, 'bunun': 4, 'altm': 4, 'bana': 4, 'ait\"': 4, 'askrieg': 4, 'worte': 4, 'chinas': 4, 'auto-strafzlle': 4, 'wrden': 4, 'bayern': 4, '(bmw)': 4, 'strker': 4, 'treffen': 4, 'als': 4, '(tesla)': 4, 'tco/jz672pshpirt': 4, 'wr_record:': 4, 'tco/ti36baeoxs': 4, 'tco/djyggvgaxwrt': 4, 'chemistryvids_:': 4, 'tco/smlz8va3ypmysticl': 4, 'person': 4, 'saying:': 4, '37': 4, 'safer': 4, 'provi': 4, 'tco/q40pjxjugart': 4, 'bas': 4, 'struggles': 4, 'less': 4, 'tco/i8j8kjnhm1': 4, 'detroitnewsrt': 4, 'tco/3hatesla': 4, '29948': 4, 'usd': 4, '+1254': 4, '(+419%)': 4, 'tco/xxkmjn4tks': 4, 'tco/9trjjtufiprt': 4, 'muvanen:': 4, 'fuck': 4, 'discredited': 4, 'moronsshop': 4, 'charge:': 4, 'asking': 4, 'wholesale': 4, 'craig': 4, 'jelinek': 4, 'tco/cpvyph5p48rt': 4, 'tco/3rt': 4, 'tco/3nikola': 4, 'hu': 4, 'tco/xtanlt1qvutesla': 4, 'confirming': 4, 'quart': 4, 'tco/fgvxvuqfyzxxjosejacexx': 4, 'davidelmagico36': 4, 'peugeotes': 4, 'uf': 4, 'buena': 4, 'pregunta': 4, 'sinceramente': 4, 'ninguno': 4, 'especial': 4, '=|': 4, 'dig': 4, 'tco/xbk7ppkg1srt': 4, 'sebacampanario:': 4, 'falto': 4, '\"y': 4, 'preceptores\"': 4, 'tco/hetjojffiort': 4, 'upproduction': 4, 'tco/brr6ildee6': 4, 'tco/ro3tbab0r6jeroenmirck': 4, 'erwinwijman': 4, 'geval': 4, 'zeker': 4, 'alles': 4, 'behalve': 4, 'geld': 4, '(omzet/winst)rt': 4, 'tco/qinr4fhpsmmark': 4, 'protect': 4, 'allowed': 4, 'witness': 4, 'sfo': 4, 'libor': 4, 'tco/foipe3lkvqa': 4, 'clever': 4, 'mine': 4, 'cryptocurrency': 4, 'tco/pbzmj8lrmart': 4, '$': 4, 'tco/qyk197abpcrt': 4, 'tco/7nlmtm6tspacexs': 4, 'tco/mkems10fqart': 4, 'orimpossible': 4, 'mp4': 4, 'tv': 4, 'torrents': 4, 'rss': 4, 'feed': 4, 'tco/qgxzzak1xj\"product': 4, 'tco/r4buqzdathrt': 4, 'tco/i2hljewbwsmontagewerk': 4, 'tilburg:': 4, 'wo': 4, 'seine': 4, '-autos': 4, 'fr': 4, 'europa': 4, 'produziert': 4, 'tco/8bp4pcheyc': 4, 'tco/uhmct1y1d6erwinwijman': 4, 'jeroenmirck': 4, 'maar': 4, 'goed': 4, 'groot': 4, 'idd': 4, 'relatief': 4, 'begrip': 4, 'kun': 4, 'tco/bavybrusdtrt': 4, 'tco/ujwadnankavustur': 4, 'kimse': 4, 'tanmaz': 4, 'asl': 4, 'adam': 4, 'odur': 4, 'zeki': 4, 'adamd': 4, 'doru': 4, 'atom': 4, 'bombasn': 4, 'tco/uuyxvsqitiedison:doru': 4, 'bulmutur': 4, ':alternatif': 4, 'zerine': 4, 'alma': 4, 'yapmtr': 4, 'buluunu': 4, 'sabo': 4, 'tco/23k14dwweo2': 4, 'tco/kz6apjk37jrt': 4, 'chargedev:': 4, 'competition': 4, '(back': 4, 'future)': 4, 'skateboardrt': 4, 'tco/r0atvrxom5rt': 4, 'npachor:': 4, 'vp': 4, 'ifc': 4, 'media': 4, 'concierge': 4, 'career': 4, 'services': 4, 'ces': 4, 'college': 4, 'wotobste': 4, 'niversiteli': 4, 'biri': 4, 'liseli': 4, 'genlere': 4, 'uzun': 4, 'sre': 4, 'verdi': 4, 'dedi': 4, 'ki': 4, '\"mesela': 4, 'aleyna': 4, 'tilkiyi': 4, 'hepiniz': 4, 'tco/v5zlkl0qj3this': 4, 'tco/bilkxaj3rprt': 4, 'heavytesla': 4, 'une': 4, 'madrid': 4, 'valencia': 4, 'supercargador': 4, 'tco/ux6c2iyumi': 4, 'autofaciltesla': 4, 'tco/rnfzewyjahrt': 4, 'benzeynikola': 4, 'roadshowrt': 4, 'tco/bobdplwpdndaviddobrik': 4, 'tankinggreat': 4, 'lead': 4, 'tco/ycia62spnert': 4, 'tco/jmapoomduhelon': 4, 'tco/hv2axgahbb': 4, 'tco/7evt2jacrgrt': 4, 'tco/6urt': 4, '\"mayrt': 4, 'chiponline:': 4, 'patron': 4, 'olmada': 4, 'tileinstallation': 4, 'fred': 4, 'lambert': 4, 'fredericlambert': 4, 'tco/aefkiwdutl': 4, 'tco/zs6txcvw8sivankatrump': 4, 'mass': 4, 'iron': 4, 'cages': 4, 'draw': 4, 'ionosphere': 4, 'tco/vldyt8k1js$tsla:': 4, 'thursday:': 4, 'tco/dztyod9etjthe': 4, 'circle': 4, 'hell:': 4, 'tco/hovu8kud78': 4, 'theeconomistthis': 4, 'encoura': 4, 'tco/5nwnjblfg7rt': 4, 'tco/6uhrt': 4, 'eduardobitran:': 4, 'donald': 4, 'hurts': 4, 'needs': 4, 'us-made': 4, 'tco/knrrt': 4, 'tco/ujwi': 4, 'tco/7bb0wmmuv9': 4, 'reviewtesla': 4, 'tco/ti36baeoxsich': 4, 'habe': 4, 'zu': 4, 'einer': 4, 'youtube-playlist': 4, 'hinzugefgt:': 4, 'tco/dypch9mmgv': 4, 'freie': 4, 'energie': 4, 'folgert': 4, 'bout': 4, 'lordtrt': 4, '10/26/14:': 4, 'mlive:': 4, 'allow': 4, 'tco/e1ujraekhirt': 4, 'locations': 4, 'prohibited': 4, 'serve': 4, 'showrooms': 4, 'tco/99pyyimdaprt': 4, 'sell': 4, 'united': 4, 'tco/b6thksittkand': 4, 'newmusicplayer': 4, 'zapzap': 4, 'tco/xrj07rxpmgfortiguard': 4, 'labs': 4, 'captured': 4, 'malware': 4, 'sample': 4, 'microsoftword': 4, 'documents': 4, 'weve': 4, 'discovered': 4, 'tco/gdgslyjhwzrt': 4, 'foodandwine:': 4, 'tco/ewsrynob1e': 4, 'tco/dxiqsztusart': 4, 'bcbazaar:': 4, 'strongly': 4, 'boxrt': 4, 'meechebucco:': 4, 'uniononly': 4, 'matthewjdowd': 4, 'mimeographed': 4, 'handouts': 4, 'teacher': 4, 'sspacexs': 4, 'tco/mju4ykca9dcome': 4, 'epic': 4, 'prizes': 4, 'tco/bm81mv9zv5nikola': 4, 'tco/g8ksfdvt7a': 4, 'tco/qznc97ycr2rt': 4, 'tco/ujwnikola': 4, 'tco/pvo2kgdvdxivankatrump': 4, 'basically': 4, 'ground': 4, 'tco/qktievluhvnikola': 4, 'tco/8jssu8fann': 4, 'startuprt': 4, 'tco/kflqxq8ocxmusk': 4, 'libertad': 4, 'emprender': 4, 'emprendedores': 4, 'talento': 4, 'tco/956hytadbvtesla': 4, 'injury': 4, 'rate': 4, 'average': 4, 'study': 4, 'finds': 4, 'marketwatch': 4, 'tco/wisgopboairt': 4, 'inorbiscorp:': 4, '[video]': 4, 'tco/qrib24k9inikola': 4, 'tco/6uoyfwyfbofirst': 4, 'impressions': 4, 'tco/jotxjdmhvcbetween': 4, 'tco/5rzeppnjswtesla': 4, 'tco/fcrp0dfz2d': 4, 'tco/oxac5mlqbzcitronresearch': 4, 'shorts': 4, '$50good': 4, 'jobrt': 4, 'gadfly:': 4, 'netflix': 4, 'spending': 4, 'seem': 4, 'generate': 4, 'profits': 4, 'debt': 4, 'willing': 4, 'jump': 4, 'ort': 4, 'balza': 4, '7%': 4, 'lelettrica': 4, 'piu': 4, 'venduta': 4, 'prodotti': 4, 'nellultima': 4, 'settimana': 4, '2020': 4, 'esemplari': 4, 'solepatron': 4, 'tco/5rfvknx2t9rt': 4, 'tco/q802/26/2017:': 4, 'ecowatch:': 4, 'tco/fj51pxyqacrt': 4, 'sfmotorsinc:': 4, 'elettrici': 4, 'statunitensi': 4, 'vengono': 4, 'dalla': 4, 'cina': 4, 'lex': 4, 'eberhard': 4, 'guida': 4, 'neonatrt': 4, '24hotesla': 4, 'tco/mtq3qxed1ydoes': 4, 'cc-1': 4, 'wrongdoing': 4, 'misconduct': 4, 'associated': 4, 'tco/p8uvpzjt6hrt': 4, '04/23/2013:': 4, 'denied': 4, 'dealer': 4, 'virginia': 4, 'tco/iws3hcmbazrt': 4, 'tco/9g7ztrekbusuperdeals': 4, 'bij': 4, 'keycar': 4, 'x1': 4, 'tco/jgzjl9wfwort': 4, 'tco/qinr4fhpsmrt': 4, 'tco/kflqxq8ocx420': 4, '40000$': 4, 'mtaradmir': 4, 'tco/a8htjapykrrt': 4, 'urban': 4, 'tco/83kcgedfns': 4, 'tco/znifwenjnert': 4, 'rockstoneres:': 4, 'belmont': 4, 'resources': 4, '(beav):': 4, 'cheapest': 4, 'play': 4, 'promised': 4, 'tco/de9058x8f7': 4, 'belmont_resrt': 4, 'buyers': 4, 'exempt': 4, '$15000': 4, 'license-plate': 4, 'fees': 4, 'shanghai': 4, 'tco/iezqrqt7fmrt': 4, 'digitaltrends:': 4, 'hate': 4, 'low-profile': 4, 'tco/yfxj9za5ikrt': 4, 'doubltime': 4, 'starflowico': 4, 'jointherevolution': 4, 'website': 4, 'url': 4, 'tco/smsjwy8pdaspacexs': 4, 'tco/0f5ajyf4li': 4, '04/09/2016:': 4, 'reports:': 4, 'deposits': 4, 'tco/tpoqycqxoert': 4, 'smithalumni:': 4, 'congratulations': 4, 'gerrie': 4, 'dozier': 4, 'mba': 4, 'featured': 4, 'winter': 4, 'edition': 4, 'minority': 4, 'magazine': 4, 'workthoughts': 4, 'fellas': 4, 'tco/n51aktlhbzrt': 4, 'htsfhickey:': 4, 'wasnt': 4, 'awhile': 4, '(newsletter': 4, 'time)': 4, 'warrants': 4, 'exception': 4, 'classic': 4, 'hours': 4, 'close': 4, 'beforeamlo': 4, 'forjado': 4, 'lucha': 4, 'queso': 4, 'oficinas': 4, 'tapaderano': 4, 'comparacin': 4, 'tco/w7tgiuk1zfmysticl': 4, 'someone': 4, 'calls': 4, 'atheist': 4, 'gullible': 4, 'narrative': 4, 'without': 4, 'tco/y3221hugpna': 4, 'noexaggeration': 4, 'rest': 4, 'cimc2018rt': 4, 'kirillklip': 4, 'metals': 4, 'royalty': 4, 'tnrgold': 4, 'corp': 4, '$tnrv': 4, 'greenenergy': 4, 'tco/tm8hrv4ygq': 4, 'freedomwoninc': 4, 'tco/7rmhhzwholrt': 4, 'model3vins:': 4, 'registered': 4, 'highest': 4, 'vin': 4, '25374': 4, 'tco/jnmc42cd7prt': 4, 'unlike': 4, 'gas': 4, 'dirty': 4, 'dirtier': 4, 'clean': 4, 'cleaner': 4, 'tco/1': 4, 'tco/cvqdglmrqhen': 4, 'entend': 4, '\"participer': 4, 'rv': 4, 'tco/airjgtmfnnwait': 4, 'dance': 4, 'russian': 4, 'goldmansachs': 4, 'waitbutwhy': 4, 'mj': 4, 'deadlinesrt': 4, 'salt_nole:': 4, 'thert': 4, 'matthew_mygrant:': 4, 'snipers': 4, 'tco/qnp6egr9piapple': 4, 'steve': 4, 'jobs': 4, 'microsoft': 4, 'bill': 4, 'gates': 4, 'jeff': 4, 'bezos': 4, 'zucke': 4, 'tco/jxelqeaxdrrt': 4, 'tco/1whmp7ikecgot': 4, 'youn': 4, '1s': 4, 'ridin': 4, 'tco/qinr4fhpsmpourquoi': 4, 'tco/svtnal8alo': 4, 'lesechosrt': 4, 'tco/2jfckwth17rt': 4, 'nio': 4, 'opens': 4, 'tco/7spuosab1grt': 4, 'phil_leanit:': 4, 'approach': 4, 'stark': 4, 'contrast': 4, 'reference': 4, 'toteslann': 4, 'tco/7ujhlmrkqh': 4, 'tco/c62cc0sn09teslann': 4, 'tco/2qqu931wpx': 4, 'tco/l4s2dmmtfttesla': 4, 'tco/mz4537wzbsteslann': 4, 'tco/7dkws5fpzz': 4, 'tco/cfchhjd3uutesla': 4, 'type': 4, 'blind': 4, 'voiceaid': 4, 'tco/yr92whlt6tdear': 4, 'ecuador': 4, 'rudra': 4, 'followed': 4, 'rasputin': 4, 'siberia': 4, 'storm': 4, 'ruin': 4, 'fave': 4, 'places': 4, 'lik': 4, 'tco/1xgxdcfpjtteslann': 4, 'tco/teg3hvlth9': 4, 'tco/lh82yfy5wcnew': 4, 'tco/s42bbv5cecditched': 4, 'upgrade': 4, 'tco/3kb2uswmbiteslann': 4, 'tco/zeewc9bgyu': 4, 'tco/n00sfmjz0yteslann': 4, 'tco/bgpzkxpzjq': 4, 'tco/btkc389jwprt': 4, 'tco/7nlmtm6ttesla': 4, 'profits**': 4, 'tco/3hk3x2efg3teslann': 4, 'tco/kpabwzyg1b': 4, 'tco/fqbnhqweacspacexs': 4, 'tco/nwtrj0ja1e': 4, 'utm_campaign=t': 4, 'tco/m7pkk4hv8jrt': 4, 'tnew': 4, 'tco/dsnu4na3fywhy': 4, 'tco/sts2stwpjoa': 4, 'major': 4, 'disconnect': 4, 'bonds': 4, 'signaling': 4, 'problems': 4, 'stock:': 4, 'watcher': 4, 'tco/q4vm0oe41iuna': 4, 'empresa': 4, 'vende': 4, 'industriales': 4, 'tal': 4, 'vez': 4, 'tco/fpghqiqvfwnikola': 4, 'tco/tfn7ri35vzstrongly': 4, 'tco/lwy9d8stmpnocars': 4, 'rely': 4, 'stale': 4, 'rather': 4, 'sensors': 4, 'fault': 4, 'tco/hywnuud0uyrt': 4, 'tco/9mptesla': 4, 'takes': 4, 'control': 4, '3production': 4, 'tco/8f5x6hc5spthem:': 4, 'write': 4, 'manifestblah': 4, 'blah': 4, 'crap': 4, 'didnot': 4, 'tco/k3pdfu0hvprt': 4, 'tco/jwvqqkvl3xrt': 4, 'vnuek:': 4, 'tco/kflqxq8ocxjimcramer': 4, 'shits': 4, 'jumps': 4, '$50': 4, 'kissing': 4, 'tco/idq8dg7m6zus': 4, 'watchdog': 4, 'blasts': 4, 'probe': 4, 'tco/le0pprxwcz': 4, 'tco/suwa9w5h3h$tsla': 4, '$googl': 4, '$goog:': 4, 'tco/dkkyppe34xtesla': 4, 'corner': 4, 'vegas': 4, 'sunset': 4, 'rd': 4, 'map': 4, 'tco/nmy5ryf4ufrt': 4, '_tm3k:': 4, 'dump': 4, 'played': 4, 'bouncert': 4, 'tco/3retweeted': 4, 'regio': 4, '(cleantechregio):': 4, 'tco/weoyss6tport': 4, 'auplease': 4, 'tco/tmt3arfw0drt': 4, 'trvisxx:': 4, '\"maytesla': 4, 'tco/qmllkmozydspacexs': 4, 'tco/jhono0mey0': 4, 'vergethe': 4, 'gamble': 4, 'desert': 4, 'washington': 4, 'tco/df2vbhea9eplease': 4, 'tco/lnewd9lpz5rt': 4, 'oreste': 4, 'tipo': 4, 'canaya': 4, 'sabede': 4, 'industrialesno': 4, 'busca': 4, 'poltica': 4, 'tco/l9phzvrk2grt': 4, 'miningassets:': 4, 'chasing': 4, '30': 4, 'megafactories': 4, ':/xnulex': 4, 'eltajalapiz': 4, 'cuentazo': 4, 'tuvo': 4, 'vision': 4, 'mediante': 4, 'torres': 4, 'inalambricaplease': 4, 'tco/rq774owfoart': 4, 'tco/ujw$tsla': 4, 'tco/kxvmto8nqirt': 4, 'engadget:': 4, 'puts': 4, 'steering': 4, 'wheel': 4, 'tco/etwvqwthrpa': 4, 'felturbzza': 4, 'az': 4, 'autgyrtst': 4, 'tco/mi0eakyxzu': 4, 'eosteslart': 4, 'inorbiscorp': 4, '\"[video]': 4, 'tco/ydprz5ykexlike': 4, 'like:': 4, 'tco/eepa32shvp': 4, 'tco/x5mkvfeptvelonmusk': 4, 'improvements': 4, 'infrastructure': 4, 'friendlier': 4, 'tco/wwrjft29f3no': 4, 'funcionar': 4, 'cuento': 4, 'chupacabrasmxico': 4, 'volver': 4, 'vestir': 4, 'manta': 4, 'ni': 4, 'escuchar': 4, 'misas': 4, 'latndesp': 4, 'tco/7opffhpj1aroadshow:': 4, 'tco/qcsqhjwpagtesla': 4, 'tco/juyjtm4ppa': 4, 'tco/7wmxnh7fpkrt': 4, 'hows': 4, 'strong': 4, 'tco/hfp46xgwvmrt': 4, 'nbcnewsbusinessteslann': 4, 'tco/9mpe454e15heyyouupfront': 4, 'tco/6mzr9ecbo0tesla': 4, 'tco/kxcwmky5yinew': 4, 'tco/nxa9zddbm3gostei': 4, 'tco/ohl8ibtgfca': 4, 'mini': 4, 'bobina': 4, 'caseirart': 4, 'tco/scni2maqnk': 4, 'tco/tpciqfvgrcrt': 4, 'tco/6uhgutted': 4, 'gutted': 4, 'dodge': 4, 'demonrt': 4, 'tco/6uiloveidevices': 4, 'babysgramma': 4, 'dineshdsouza': 4, 'telling': 4, 'boy': 4, 'tco/7n0sl4tu6ycall': 4, 'tco/vv9scxajnbrt': 4, 'eautopistas:': 4, 'afianza': 4, 'elctrico': 4, 'vendido': 4, 'eeuu': 4, 'sin': 4, 'embargo': 4, 'celebra': 4, 'tco/tyt3ktjpgx': 4, 'j_p_jacques:': 4, 'tco/mvzxqydpjxrt': 4, 'digisz:': 4, 'number': 4, 'plate': 4, 'hongkong': 4, 'tco/mkug2bp4bprt': 4, 'mekahlonbcla:': 4, 'tradewars:': 4, 'othertesla': 4, 'navigation': 4, 'maps': 4, 'tco/9kzwvetxktrt': 4, 'autojoshng:': 4, 'thinking': 4, 'carless': 4, 'tco/jtnvdvvztd': 4, 'chekinigeria': 4, 'jumiacarng': 4, 'jijinigeria': 4, 'olx_nigeria': 4, 'cars45teslas': 4, 'tco/uqy0di2hozrt': 4, 'mashpedia': 4, 'encyclopedia': 4, 'tco/7fm1l089tptesla': 4, 'tco/qxtzkkrimpfoxbusiness': 4, 'quit': 4, 'making': 4, 'thehell': 4, 'trillions': 4, 'thesetoxicbatteriescan': 4, 'consistently': 4, 'navigantrsrchs': 4, 'samabuelsamid': 4, 'expe': 4, 'tco/0ywskqhxeeen': 4, 'poursuivi:': 4, 'tco/ysntpvcqrsteslas': 4, 'rival': 4, 'tempting': 4, 'tag': 4, '-kl': 4, 'tco/6q3svhryunsolo': 4, 'honesto': 4, 'efrenta': 4, 'poderosos': 4, 'corruptos': 4, 'lmitesgrande': 4, 'amlo': 4, 'tco/ixywqw5hpmrt': 4, 'disengagchina': 4, 'teme': 4, 'autnomo': 4, '(ni': 4, 'tras': 4, 'tco/npjr3ogerdrt': 4, 'tco/dtxvfw2dcmsplarg': 4, 'tco/a63jrhrpgktco/7eptrardjx': 4, 'tco/vq2vmh8e0lbrilliant': 4, 'mactronicdublin': 4, 'blackvue': 4, '650': 4, 'channel': 4, 'single': 4, 'cable': 4, 'visible': 4, 'tco/hhhfoyqwg5rt': 4, 'tco/jwvqqkvl3xthere': 4, 'tco/otmazuymairt': 4, 'tco/9g7ztrekburt': 4, 'teslacarguy:': 4, 'spotify': 4, 'mirkitapa:': 4, '%50': 4, 'indirim': 4, 'ikili': 4, 'balang': 4, 'musk-tesla': 4, 'muhteem': 4, 'gelecein': 4, 'peinde': 4, 'hemen': 4, 'al:': 4, 'tco/fx1wjw4pmhnikola': 4, 'tco/432dh5u6n6': 4, 'tco/erdis7pfwjunexpected': 4, 'delightful': 4, 'side-effects': 4, 'model3:': 4, 'connections': 4, 'coworkers': 4, 'acquaintan': 4, 'tco/keb2dmjhyqms': 4, 'altos': 4, 'ejecutivos': 4, 'fugado': 4, 'tres': 4, 'tco/7imxwrzduyhappy': 4, 'lease': 4, 'clients': 4, 'happy': 4, 'bonus': 4, 'entries': 4, 'tco/tw1lifvqxn[video]': 4, 'tco/hvazrwtskqrt': 4, 'efntv:': 4, 'dagens': 4, 'brslunch': 4, 'fokuserar': 4, 'helt': 4, 'legenden': 4, 'visionr': 4, 'eller': 4, 'skrvlare': 4, 'carmfelt': 4, 'pratar': 4, 'ven': 4, 'hur': 4, 'svranart': 4, 'tco/sgawkeixvramazing': 4, '90d': 4, 'ratings': 4, 'refreshed:': 4, 'tco/bwbbqmwmxb': 4, 'youtubekanye': 4, 'tco/i2hljewbwsrt': 4, 'tco/qinr4fhpsmnot': 4, 'tco/qinr4fhpsmfacebook': 4, 'intel': 4, 'encore': 4, 'ont': 4, 'victimes': 4, 'violents': 4, 'plongeons': 4, 'bourse': 4, 'lun': 4, 'tco/vofxwvonrrrt': 4, 'spacevesaire:': 4, 'arianespace': 4, 'flight': 4, 'vs242': 4, 'hylas': 4, 'dsn-1/superbird-8': 4, 'nasa': 4, 'international': 4, 'astroncommon': 4, 'tco/7cvq9mbpnz': 4, 'tco/ho47cwwwqpmodel3owners': 4, 'assume': 4, 'losing': 4, 'point': 4, 'tco/gn1bbpxw2wlisola': 4, 'vive': 4, 'lenergia': 4, 'rinnovabile': 4, 'senza': 4, 'fili': 4, 'stresa': 4, 'progetto': 4, 'render': 4, 'autosuff': 4, 'tco/tkxpmilhvstesla': 4, 'tco/llicwiki3trt': 4, 'askanyewest': 4, 'kimkardashian': 4, 'evrevolution': 4, 'teslamodels': 4, 'versio': 4, 'tco/w63osiekuuuruna': 4, 'uratn': 4, 'senindir': 4, 'tco/clmkitmg0k$tsla': 4, '340/350': 4, 'tco/o4sufx6qpgmark': 4, 'access': 4, 'letter': 4, 'june': 4, '29': 4, 'tco/8x1rhsusovgeoff_campbell': 4, 'tco/cfjpm9jwesrt': 4, 'tco/3new': 4, 'post:': 4, '\"nikola': 4, 'tco/xa78nuavoirt': 4, 'autesla': 4, 'denver': 4, 'weekendyou': 4, 'shape': 4, 'freaking': 4, 'teslaking': 4, 'delayscan': 4, 'ship': 4, 'product': 4, 'tco/m85iure66drt': 4, 'georgementz:': 4, 'reverse': 4, 'amid': 4, 'uncertainty': 4, 'tco/8forpfct6j': 4, 'tco/8tgttpfct1tesla': 4, 'tco/uobjlpvq7art': 4, 'ing_shanty:': 4, 'sonjourpi': 4, 'pierrealee': 4, 'prthe': 4, 'investing': 4, 'tco/zsyv6wgbz4tesla': 4, 'tco/0vtxu47kgcnew': 4, 'factory:': 4, 'plant': 4, 'tco/setsicfqdqtesla': 4, '&lt;b&gt;elon': 4, 'musk&lt;/b&gt;': 4, 'warns:': 4, 'tco/25ag2z3v9neverything': 4, 'money:': 4, 'tco/zuzaemvmygnasgnak': 4, 'mutex7': 4, 'a_aguilar2rembr': 4, 'theglennjamin': 4, 'nickmercs': 4, 'danawhite': 4, 'eoghanchappell': 4, 'earthsleader': 4, 'joerogan': 4, 'tco/vvsxtjth1knew': 4, 'tco/5kuifkp2da': 4, 'tco/br239gy0pyrt': 4, 'tco/ujwgeoff_campbell': 4, 'tco/san6lxxabprt': 4, 'tco/7nlmtm6tcommon': 4, 'allure': 4, 'tco/wvkbqawyt9rt': 4, 'kanthanpillay:': 4, 'zippy99za': 4, 'meselfrt': 4, 'astesla': 4, 'tco/gzhduzq3cbexperte:': 4, '\"tesla-aktie\"': 4, 'innerhalb': 4, 'monaten': 4, 'tco/lomuwbaldu': 4, 'autobranche': 4, 'bankrott': 4, 'batteriert': 4, 'guenschl:': 4, 'wer': 4, 'kopftuch': 4, 'kruzifixe': 4, 'vergleicht': 4, 'hat': 4, 'gar': 4, 'nichts': 4, 'verstanden': 4, 'ungefhr': 4, 'kutsche': 4, 'tco/1ajgtaoer7rt': 4, 'tco/ccsohi984irt': 4, 'npnikk:': 4, 'tco/fzswz1vxd3preme': 4, 'sullacceleratore': 4, 'motors:': 4, 'situazione': 4, 'medio': 4, 'periodo': 4, 'resta': 4, 'tendenzialmente': 4, 'ribassis': 4, 'tco/nks00nssjrtesla': 4, 'tco/sp57xex3ehrt': 4, 'tco/3tesla': 4, '201812update': 4, 'tco/lvbh4i0vad': 4, 'tco/a2vs4pl6tlrt': 4, 'tco/rj4xdrzifkthe': 4, 'sy': 4, 'tco/lhh761uoxbthe': 4, 'petnikola': 4, 'tco/0ndonmiln1an': 4, 'update': 4, 'tco/jz73qi1f9f': 4, 'tco/9kz7zrpgiw': 4, '8723rt': 4, 'ziromr:': 4, 'gegen': 4, 'spannung': 4, 'trifft': 4, 'sprit': 4, 'tco/0g77wnvz46': 4, 'tco/gi7orcc39dtesla': 4, 'tco/hnbblks0sptesla': 4, 'facing': 4, 'potential': 4, '3-6': 4, 'tco/hok8vnhatothe': 4, 'kurararu': 4, 'tco/wljjdpq2rp': 4, 'tco/coysbxqo28with': 4, 'tco/e4hrr9n8bd': 4, 'tco/bbigltoqmatesla': 4, 'tco/fzswz1vxd3nikola': 4, 'tco/m0vuogj1lycaught': 4, 'stalled': 4, 'closed': 4, 'tak': 4, 'tco/yl1qknkhnyplease': 4, 'luxury': 4, 'hp': 4, 'supra:': 4, 'tale': 4, 'tco/c54uwlr32prare': 4, 'beast:': 4, 'tco/lc2nm1lnwrrt': 4, 'hiphopwired:': 4, 'kanyewestandkimkardashianrt': 4, '10/20/14:': 4, 'tco/qnfiddoi6t': 4, 'tco/y1soo0hnfurt': 4, '04/28/14:': 4, 'partners': 4, 'alibaba': 4, 'ehi': 4, 'tco/vedgimwc4vi': 4, 'guys': 4, 'listening': 4, 'voices': 4, 'heads': 4, 'meds': 4, 'tco/k5p1rfqcyert': 4, 'tco/9i8bg9oicznikola': 4, 'tco/fusyywih7grt': 4, 'joins': 4, 'buick': 4, 'vw': 4, '-commerce': 4, 'arena': 4, 'benzeysonjourpi': 4, 'tco/njtqapngitrt': 4, 'bitcoinsa': 4, 'tco/xfaigxwf9zrt': 4, 'ortesla': 4, 'tco/1cz33jgybgev_tesla': 4, 'dmc_ryan': 4, 'redhome': 4, 'tco/qihip854cb': 4, 'tco/vbiqowwsi6rt': 4, 'iseifoundation:': 4, 'feeding': 4, 'tco/svwasg4/5': 4, 'open': 4, 'till': 4, '1pm': 4, '5840': 4, 'centinela': 4, 'ave': 4, 'urbantacofactory': 4, 'soulwrap': 4, 'lafoodtrucks': 4, 'tco/4ldr5mj3n7\"nikola': 4, 'kyle': 4, 'hyatt': 4, 'tco/4b4apade3pes': 4, 'zwar': 4, '-golf': 4, 'kein': 4, 'aaaaber': 4, 'elsass': 4, 'wunderschn': 4, 'tco/ro1pkyrx9qla': 4, 'visin': 4, 'hace': 4, 'realidad': 4, '(parcialmente)': 4, '\"energa': 4, 'par': 4, 'tco/x26rs8ns5lno': 4, 'irrefutably': 4, 'afford': 4, 'tco/hg0diuduk8thetweetofgod': 4, 'sunpower': 4, 'nrgenergy': 4, 'deploy': 4, 'commercial': 4, 'tco/icnki8cy0gspacevesaire': 4, 'cos': 4, 'none': 4, 'teslaservicert': 4, '10/24/14:': 4, 'ultimate': 4, 'rolls': 4, 'tco/ji4btp5misrt': 4, 'benzeyweak': 4, 'weak': 4, 'bear': 4, 'tco/ptnifv2c0yedmunds_test': 4, 'haters': 4, 'wet': 4, 'dreamon': 4, 'teslaliving': 4, 'outlandish': 4, 'tco/iczuc8glapcommon': 4, 'tco/wguguvr44l': 4, 'tco/6o3buk8in8eos': 4, 'brings': 4, 'suggests': 4, 'connection': 4, 'cryptovest': 4, 'cryptosr_us': 4, 'tco/s10v916cx4kimbal': 4, 'biggreen': 4, 'segment': 4, 'informational': 4, 'tco/pzzxnjegpqhey': 4, 'wanna': 4, 'reserve': 4, 'crypto': 4, 'currency': 4, 'litecoin': 4, 'tco/va4g2revjdnikola': 4, 'tco/pap0z6jm7mrt': 4, 'theteslalife:': 4, 'setup': 4, 'showroom': 4, 'centevolkswagen': 4, 'tco/tff2iazhfsrt': 4, 'tco/abw6kwztbdepisode': 4, 'ca_dmv': 4, 'allows': 4, 'roads;': 4, 'owners': 4, 'recreate': 4, 'modelx': 4, 'tco/unhstgzanrrt': 4, '10/11/2016:': 4, 'australia:': 4, 'i3': 4, ':tsubasanyaan': 4, 'rode': 4, 'boston': 4, 'skinned': 4, 'mercy': 4, 'storyheyyouupfront': 4, 'tco/d4ijthgizlrt': 4, 'tco/mbvollbt4svideo': 4, 'tco/ijfx97d0ds': 4, 'jalopniknew': 4, 'tco/cij97x9idmnew': 4, 'tco/rz3a9zizh4': 4, 'tco/92snpx2i7hrt': 4, 'supercharger:': 4, 'tco/lmgt9fwwkurt': 4, '11/19/2016:': 4, 'versus': 4, 'r8': 4, 'tco/hanuyu6btvninos_brown': 4, 'prend': 4, 'vu': 4, 'ragert': 4, 'policy': 4, 'recall': 4, 'injuries': 4, 'absolutely': 4, 'thing': 4, 'werert': 4, '09/17/2015:': 4, 'cnet:': 4, 'home': 4, 'within': 4, 'tco/735faqtx21rt': 4, '09/18/2015:': 4, 'guardian:': 4, 'taste': 4, 'disruption': 4, 'green_with_rage:': 4, 'tco/a37dd1zmr2rt': 4, '09/19/2015': 4, '11:00': 4, 'gizmodo:': 4, 'tco/hgnilfxxnli': 4, 'iten': 4, 'getikten': 4, 'hakl': 4, 'olduumu': 4, 'grmenizden': 4, 'skldm': 4, 'hakettiimiz': 4, 'deeri': 4, 'zamannda': 4, 'gremedik': 4, 'aqnikola': 4, 'tco/e6rbm69qsyrt': 4, 'gostei': 4, 'tco/ppuphwct8o': 4, 'ferraris': 4, 'evs:': 4, 'tco/vjc6hx3y3fwin': 4, '6th': 4, 'tco/huz9yuwannrt': 4, 'tco/bobdplwpdncommon': 4, 'tco/kfwpojtaq4bclevinger': 4, 'young': 4, 'parties': 4, 'flunks': 4, 'stuff': 4, 'closetrt': 4, 'bitcoinsrt': 4, 'talex_castros': 4, 'dm': 4, 'carpatsheadcom': 4, 'neon': 4, 'chrome': 4, 'recoil': 4, 'crimsonland': 4, 'tco/otpqcnnwl1rt': 4, 'drobby:': 4, 'buffalo': 4, 'tco/xc4rt': 4, 'nybatteryenergy:': 4, 'bidding': 4, 'xcelenergy': 4, 'batterystorage': 4, 'larger': 4, 'btesla': 4, 'percent': 4, 'ahead': 4, 'report': 4, 'tco/dwll4kzzns': 4, 'tco/dbucoyfjj1rt': 4, 'tco/kflqxq8ocxtodays': 4, 'equation': 4, 'equatio': 4, 'tco/dv4s7lv152israelipm': 4, 'judy': 4, 'wood': 4, 'used': 4, 'destroy': 4, '9/11': 4, 'tco/zkdono7ikrawesome': 4, 'thefuture': 4, 'tco/pfpbzmppqqspacexs': 4, 'tco/a37dd1zmr2tesla': 4, 'tco/sxdupjtsuxi': 4, 'checked': 4, 'yelp': 4, 'tco/jdfaklyiqfsaidbyeinstein': 4, 'equati': 4, 'tco/l4nuobzeg1olivcim': 4, 'sonstwemvideo': 4, 'tco/jtplcjyews': 4, 'jalopnikrt': 4, 'mart': 4, 'travel': 4, 'deals': 4, 'shopping': 4, 'hotels': 4, 'chicago': 4, 'mau': 4, 'tco/rejdtljyv8tesla': 4, 'modo': 4, 'automtico': 4, 'ciclismo2005': 4, 'tco/xznet7gfrpeben': 4, 'od': 4, 'tco/y6bdzqvhfhlow': 4, 'confuse': 4, 'reminds': 4, 'remain': 4, 'aw': 4, 'tco/sknkvbtxnpnew': 4, 'automotive': 4, '4vto': 4, '_4vto_': 4, 'tco/dj7s8bj1g7kanye': 4, 'kanyewestandkimkardashiani': 4, 'forgot': 4, 'charge': 4, 'teslai': 4, 'saw': 4, 'webster': 4, 'wisconsin': 4, 'fuckolivcim': 4, 'fauxnikola': 4, 'tco/acfkf3jirmnikola': 4, 'tco/i6o848jsq5': 4, 'roadshowdesde': 4, 'momento': 4, 'cero': 4, 'atrapa': 4, 'lector': 4, 'valoracin': 4, '8/10': 4, 'gran': 4, 'resea': 4, 'libros': 4, 'tco/cljg3zdk1w': 4, 'policiaca': 4, 'scifinikola': 4, 'tco/ti9gjnm8if': 4, 'tco/y7mjkdzvsaelonmusk': 4, 'tco/stx1e9f1hq': 4, 'themoneyshowlondon': 4, 'debut': 4, '-based': 4, 'shooting': 4, 'brake': 4, 'tco/8trzeapixwrt': 4, 'emergency1:': 4, 'responders': 4, 'elecontext': 4, 'finances': 4, 'dire': 4, 'straits': 4, '51%': 4, 'monday': 4, 'adding': 4, 'tco/zsgx3lj98ctesla': 4, 'tco/1uwk8mvjfpspacecom': 4, 'planet4589': 4, 'survived': 4, 'stress': 4, 'medicines': 4, 'tco/drj0xgrxqvyle': 4, 'balkan': 4, 'turu': 4, 'kapsamnda': 4, 'gn': 4, 'belgrada': 4, 'gelip': 4, 'kalemeydan': 4, 'mzesi': 4, 'skadarlija': 4, 'yapp': 4, 'hop': 4, 'sonraki': 4, 'duraa': 4, 'tco/kf3hbjpr16tesla': 4, 'tragic': 4, 'flaw': 4, 'badly': 4, 'trusting': 4, 'tco/hclhvomwqnresponders': 4, 'tco/b7zcuxx8y9rt': 4, 'white': 4, 'amd': 4, 'serbian': 4, 'bombe': 4, 'tco/cuyxk96txweloimontras': 4, 'zero_emisiones': 4, 'ev_import': 4, 'zandenn': 4, 'teslam3spain': 4, 'clubteslaes': 4, 'foroelectricos': 4, 'pasa_electrico': 4, 'tco/yht0fwqrcfrt': 4, 'tco/xs8okfzkxrtesla': 4, 'deaths': 4, 'questions': 4, 'perils': 4, 'partly': 4, 'tco/jirie4pglm': 4, 'tco/7ckdikwlivnew': 4, 'tesla_model_3': 4, 'autoblog_podcast': 4, 'tco/j5x0dlcn0a': 4, 'tco/rdwwsfk2xxrt': 4, 'tco/jmapoomduhicymi:': 4, 'gpus': 4, '32': 4, 'gb': 4, 'configurations': 4, 'tco/3v7o9mhhp0bertrhein': 4, 'bild': 4, 'hast': 4, 'mtze': 4, 'tief': 4, 'gezogen': 4, 'damit': 4, 'deine': 4, 'dmliche': 4, 'visage': 4, 'nicht': 4, 'sieht': 4, 'ich': 4, 'wette': 4, 'du': 4, 'tco/mvhnw97uucif': 4, 'reaches': 4, 'volume': 4, 'margins': 4, 'cover': 4, 'sga': 4, 'int': 4, 'burn': 4, 'tco/vgcxi5yzrtrt': 4, 'tco/jwvqqkvl3xmanagers': 4, 'example': 4, 'poor': 4, 'management': 4, 'sa': 4, 'tco/av116zpdtoeven': 4, 'doj': 4, 'indicted': 4, 'bogucki': 4, 'walking': 4, 'investigated': 4, '2013': 4, 'tco/5yfyd84h2helon': 4, 'tco/pei1vyibk8new': 4, 'tco/pmsfneveus': 4, 'tco/ggrdhb5nzijsriggs44': 4, 'cescquintero': 4, 'ryanwalkinshaw': 4, '_damien_white_': 4, 'john': 4, 'tco/yg3bhkqbe7as': 4, 'pm': 4, 'bothers': 4, 'siliconhbo': 4, 'post-': 4, 'notes': 4, 'jira': 4, 'scrum': 4, 'tco/xhkblgnt5bspacexs': 4, 'tco/gm1eoko5ir': 4, 'tco/9g0kfgqfk3rt': 4, '02/05/2018:': 4, 'worljenskristianson': 4, 'gozer': 4, 'destroyerrt': 4, 'autoblogpodcast:': 4, 'office': 4, 'tco/zks1imzaylrt': 4, 'vocesdecuenca:': 4, 'tco/qtrdrt': 4, 'tco/abw6kxhuslrt': 4, 'podcast:': 4, 'office:': 4, 'tco/kpwtamwtgmthis': 4, 'happened': 4, 'recent': 4, 'tco/dh3juthtan': 4, 'youtubegot': 4, 'picking': 4, 'cincy': 4, '23rd': 4, 'waitisalmostover': 4, 'beyondexcited': 4, 'wontsleepwelltillthenrt': 4, '24hofisker': 4, 'tco/dua8jj3dzzrt': 4, 'euthe': 4, 'announced': 4, 'plans': 4, 'equip': 4, '50000': 4, 'tco/fuilypdwhyel82ye78': 4, 'josecuellob': 4, 'apoyan': 4, 'guerrilla': 4, 'derecha': 4, 'guerra': 4, 'negocio': 4, 'tco/71pujf7kbs': 4, 'tco/l24cbd7wzsrt': 4, 'aureliosuarez:': 4, 'enriquepenalosa': 4, '5)': 4, 'grandes': 4, 'fabricantes': 4, 'buses': 4, 'elctricos': 4, '(byd': 4, 'tesla-': 4, 'protegidos': 4, 'clinton-buffeti': 4, 'tco/cgqcr9sw6d': 4, 'ludicrous': 4, '-depth': 4, 'reviewsnew': 4, 'tco/xfxanpscme': 4, 'tco/89hjdhpexfteslas': 4, 'tco/fxzbnckgrkrealcryptolion': 4, 'yea': 4, 'spend': 4, 'lambo': 4, 'sure': 4, 'estate': 4, 'tco/cbtscpja8nstock': 4, 'week:': 4, 'joke': 4, 'negative': 4, 'factor': 4, 'across': 4, 'multi-factor': 4, 'tco/biesc4tbn9rt': 4, 'doublnikola': 4, 'tco/wuyekdgdport': 4, 'chapters': 4, 'critics': 4, 'rightly': 4, 'pointed': 4, 'chapter': 4, '14': 4, 'andonly': 4, 'late': 4, '80s': 4, 'remember': 4, 'try': 4, 'try02/05/2018:': 4, 'tco/xfra2vxjwanikoladeposit-shamestesla': 4, 'pre-orders': 4, 'tco/5lixrabefx': 4, 'tco/4ftg6lz5zzto': 4, 'pod': 4, 'sam': 4, 'opravdov': 4, 'drama': 4, 'dje': 4, 'jinde:': 4, 'tco/mjpv19zljzrt': 4, 'voltaico_es:': 4, 'cmo': 4, 'tco/yqzfkxgtb5rt': 4, 'tco/iyuj2g6x19slcuervo': 4, 'hola': 4, 'sal': 4, 'ayer': 4, 'envi': 4, 'nota': 4, 'habla': 4, 'sobre': 4, 'modificacin': 4, 'ley': 4, 'importacin': 4, 'tco/p4dshvlueqif': 4, 'acting': 4, 'broke': 4, 'rich': 4, 'stupidsplarg': 4, 'tco/bsrbij3tswisraelipm': 4, 'eric': 4, 'dollard': 4, 'rebuilt': 4, 'showed': 4, 'banker': 4, 'indust': 4, 'tco/8x0g4sapydnikola': 4, 'tco/brs4udmfnpelon': 4, 'tco/8xd2zsowre': 4, 'tco/hojcjbn1epnikola': 4, 'tco/steh3xkezlrt': 4, 'emobonline:': 4, 'steigert': 4, 'elektroauto-produktion': 4, 'neuen': 4, 'hchststand': 4, 'tco/d8mkc77msf': 4, 'tco/grqsoahxecand': 4, 'kinda': 4, 'rubbing': 4, 'facegerel': 4, 'bence': 4, 'tco/dlnlsgvikcvaluation': 4, 'matters': 4, 'earned': 4, 'avg': 4, '154%': 4, 'annualized': 4, 'period': 4, 'starting': 4, 'cape': 4, 'tco/yopgqffkj2rt': 4, 'tco/lf60mvvqt9': 4, 'tco/ifnnrxnvjtrt': 4, 'aspit:': 4, 'q1;': 4, 'mathemagic:': 4, '\"thanks': 4, 'recognition': 4, 'rules': 4, 'tteslas': 4, 'tco/gwazrb7islhome': 4, 'tco/ftvgyt22dotesla': 4, 'tco/trcq5stn2etesla': 4, 'tco/71cly295ki': 4, 'fredericlambertrt': 4, 'benzeyplease': 4, 'tco/pvkco6clo0rt': 4, 'sydwalker': 4, 'feb': 4, '12': 4, 'start-': 4, 'wreckage': 4, 'orheres': 4, 'kims': 4, 'complexpop': 4, 'tco/c9s2elmd8ort': 4, 'tco/rj4xdrzifksuper': 4, 'tco/16ylhaspxv': 4, 'tco/wpuowk6gyvvor': 4, '()': 4, 'tagen': 4, 'schreibt': 4, 'einem': 4, 'shareholder-update': 4, 'davon': 4, 'keine': 4, 'kapitalerhhung': 4, 'kommt': 4, 'brsen': 4, 'tco/izxrotrtq0borsa101': 4, 'benc': 4, 'tco/xhett0l1f4el': 4, 'tco/qtrdvnk7vzrt': 4, 'tco/gpaoqpazusrt': 4, 'journalist': 4, 'drove': 4, 'security': 4, 'guards': 4, 'grounds': 4, 'ars': 4, 'technica': 4, 'tco/llrlqdlcqdmy': 4, 'brother:': 4, 'trans': 4, 'nearby': 4, 'mom:': 4, 'herert': 4, 'exclusivegirlx:': 4, 'expect': 4, 'reply': 4, 'sign': 4, 'upits': 4, 'tco/kdrnokklbt': 4, 'card': 4, 'required': 4, 'htmark': 4, 'executed': 4, 'separation': 4, 'agreement': 4, 'dec': 4, 'crossed': 4, 'tco/ra57lm5lsfrt': 4, 'powermanium': 4, 'dying': 4, 'lifted': 4, '$15k': 4, 'plates': 4, 'fort': 4, 'tco/3theres': 4, 'growing': 4, 'evidence': 4, 'handles': 4, 'dividers': 4, 'tco/felf7zrerc': 4, 'enlarge': 4, 'art': 4, 'vpostrel:': 4, 'targets': 4, 'detroit': 4, 'hits': 4, 'carolina:': 4, 'trumps': 4, 'wonders': 4, 'spartanburg': 4, 'encouraging': 4, '\"ev100': 4, 'powerful': 4, 'tool': 4, 'gives': 4, 'climategroup': 4, 'tco/btpdpyls2jrt': 4, 'fiat': 4, 'chrysler': 4, 'jeep': 4, 'countrys': 4, 'joint': 4, 'venture': 4, 'guangzhou': 4, 'ti': 4, 'tco/mjmh0uhxfy': 4, 'brothers': 4, 'reaction': 4, 'tco/blpndptw2ufoxbusiness': 4, 'immune': 4, 'anything': 4, 'everythingrt': 4, 'aurt': 4, 'tco/qiwbdptexlrt': 4, 'benzeynew': 4, 'tco/st0qvge2e6': 4, 'tco/u78mjpebklrt': 4, 'dotcomlandlords:': 4, 'tco/qq4qwwkqxi': 4, 'selfdrivingcars': 4, 'cassini': 4, 'futureofworrt': 4, 'hauserfoto:': 4, 'artwork': 4, '\"dont': 4, 'panic': 4, 'space\"': 4, 'tco/bhnbejta9z': 4, 'fineartamerica': 4, 'tco/kg3fkkqkjdnikola': 4, 'tco/fwweujukp1rt': 4, 'accesnew': 4, 'autoblogpodcast': 4, '535:': 4, 'filed': 4, 'greenpodcastsnew': 4, 'sho': 4, 'tco/i83r0tujx7rt': 4, 'ormarinamaral2': 4, 'azguendare': 4, 'hope': 4, 'wonder': 4, 'tco/epvrnavdvbsdmoores': 4, 'mgmt': 4, 'stated': 4, '2000': 4, 'm3': 4, '10000/wk': 4, '2h': 4, '2019': 4, 'tco/hyru0vgmo1rt': 4, 'doubltesla': 4, 'slammed': 4, 'fatality': 4, '(blog)': 4, 'tco/zc1mcn5jxznew': 4, 'tco/uf6mpqiha2new': 4, 'tco/hxql8m8ttm': 4, 'tco/qeszbcxb5bnew': 4, 'tco/batkyev47b': 4, 'tco/pzlegbcmfunew': 4, 'tco/iyuwg6cmhf': 4, 'tco/xxnf32kjhjautoblog': 4, 'covers': 4, 'jaguar': 4, 'tco/ayhxzyzzrq': 4, 'tco/z1holbpzq9charged': 4, 'tanks': 4, 'productionnumbers': 4, 'tco/scwwpq2vlhif': 4, 'pop': 4, 'pill': 4, 'sickteslas': 4, 'lack': 4, 'boxes': 4, 'makes': 4, 'probes': 4, 'difficult': 4, 'tco/ik6tgvft7r': 4, 'tco/9pu3j8niq5check': 4, 'envatomarket': 4, 'graphicriver': 4, 'tco/r7jstcpytz': 4, 'designrt': 4, 'bitcoinsnew': 4, '(elon': 4, 'tequila)': 4, 'published': 4, 'tco/beze08thzfrt': 4, 'diariorenovable:': 4, 'son': 4, 'empresas': 4, 'dominan': 4, 'alemn': 4, 'hogar': 4, '(y': 4, 'tco/ppijsort': 4, 'dailycaller:': 4, 'tco/rjgfzbtunn': 4, 'tco/0xvpnkytrt': 4, 'benzeyi': 4, 'yearelonmusk': 4, 'buddy': 4, 'mclaren': 4, 'f1': 4, 'surely': 4, 'stashed': 4, 'garage': 4, 'somewhere': 4, 'mclarenrt': 4, 'twinpeaksblog:': 4, 'lodge': 4, 'photo': 4, 'suzanne': 4, 'twinpeaks': 4, 'tco/n3bs0grn6jon': 4, 'sleepnikola': 4, 'tco/qfoepokhjert': 4, 'tco/qddxu5cfwynikola': 4, 'tco/8tkfn9ldiwsa': 4, 'entrepreneur': 4, 'killercar': 4, 'powered': 4, 'tco/crkqck3d2h': 4, 'tco/hz9lzzsublnissan': 4, '-electric': 4, 'europes': 4, 'tco/yggdt1ag80very': 4, 'unscientific': 4, '382': 4, 'sea': 4, 'shipments': 4, 'march': 4, '(according': 4, 'tco/pi8hd1u2ypaccident': 4, 'tco/l9cd7psvjsheyyouupfront': 4, 'tco/wwthd6mg13rt': 4, 'benzeyjeffmori7': 4, 'insideevs': 4, 'admittedly': 4, 'small': 4, 'canada;': 4, 'tco/bbwfivdrstmysticl': 4, 'petty': 4, 'sinner': 4, 'knows': 4, 'jesusrt': 4, 'tco/kflqxq8ocxgsx-s1000tesla': 4, 'tco/pen96lgmuh': 4, 'tco/l0gpkkzawxrt': 4, 'drgitlin:': 4, 'elaine': 4, 'chao': 4, 'different': 4, 'blumenthal': 4, 'thinks': 4, 'wrt': 4, 'orelon': 4, 'tco/blpndptw2urt': 4, 'tco/cykad1jkk8rt': 4, 'tco/rj4xdrzifkunderstanding': 4, 'tco/sk3ccqqmg3': 4, 'youtubeplienert': 4, 'accurate': 4, 'headline:': 4, 'crunch\"': 4, 'fixed': 4, 'perhaps': 4, 'prefer': 4, 'tco/tdg34vvyh4rt': 4, 'tco/rj4xdrzifkihs': 4, 'woes': 4, 'relatively': 4, 'minor': 4, '$tslaq': 4, 'tesron': 4, 'tco/b7nhhyrpb9rt': 4, 'benzeytesla': 4, 'bet': 4, 'old': 4, 'reuters': 4, 'tco/nr7vinat7irt': 4, 'tco/2jfckwth17new': 4, 'tco/c5sdrzwj6v': 4, 'tco/fektsuptntnew': 4, 'tco/6mmjqvz7mn': 4, 'tco/zx6df5tna4new': 4, 'tco/yvrndmsgwk': 4, 'autotedaselectricas': 4, 'saflar': 4, 'sklatrn': 4, 'reis': 4, 'tco/vwnmlwcgkocmo': 4, 'tco/yqzfkxgtb5tesla': 4, 'tco/ojsjd2ryjcas': 4, 'valuation': 4, 'declined': 4, 'holder': 4, 'tb': 4, 'assets': 4, 'ltd': 4, 'increased': 4, 'position;': 4, 'pfiz': 4, 'tco/j19m94squprt': 4, 'margaret_krac:': 4, '130629130629': 4, 'tammyjlemleycroatian-based': 4, 'manufacturer': 4, 'rimac': 4, '$21': 4, 'hypercar': 4, 'tco/3cpobfgmtk': 4, 'tco/o2awokz0dtcarl': 4, 'turnley': 4, 'tco/cchlfrlo4urt': 4, 'tco/9g7ztrekbuedison': 4, 'yavaktr': 4, 'alternatif': 4, 'akmn': 4, 'babas': 4, 'tco/7fwfpb0gpvtesla': 4, 'promoted': 4, '35k': 4, 'colindavies': 4, 'tco/e6ix52zuyx': 4, 'lon:tslahahaha': 4, 'wtf': 4, '$tesla': 4, 'tco/jiiatkzesbbu': 4, 'modelin': 4, 'tco/bfmj4tjxcrrt': 4, 'tradition': 4, 'jim': 4, 'nantz': 4, 'ooey-gooert': 4, 'tco/rj4xdrzifkmalineepompinit': 4, 'deleted': 4, 'teslaservice90': 4, 'cent': 4, 'indians': 4, 'opt': 4, 'survey': 4, 'tco/sk2b7a1zpu': 4, 'tco/eekvxgpotvthe': 4, 'lemelsonmit': 4, 'inventeam': 4, 'appleton': 4, 'charter': 4, 'creating': 4, 'forms': 4, 'ca': 4, 'tco/wbxcw9hqxurt': 4, 'tco/3what': 4, 'payday': 4, 'means': 4, 'tco/t0ua2e3zpf': 4, 'youtubefoxbusiness': 4, 'hes': 4, 'cameras': 4, 'capability': 4, 'tco/wdlo95chihrt': 4, 'eumoodys': 4, 'downgrades': 4, 'rating': 4, 'delays': 4, 'tco/nzhwsnz1ry': 4, 'tco/mm9gng5t1wrt': 4, 'valaafshar:': 4, 'perfectly': 4, 'applied': 4, 'brain': 4, 'shall': 4, 'able': 4, 'communicate': 4, 'itesla': 4, 'comea': 4, 'produzir': 4, 'larga': 4, 'escala': 4, 'geram': 4, 'baratas': 4, 'convenc': 4, 'tco/6iub2eigcert': 4, 'tco/q8rt': 4, 'tco/azjz4yo68grt': 4, 'nedrakyn:': 4, 'tco/mhz8rtlzijkanye': 4, 'tco/usoqtwtdjtvolkswagen': 4, 'tco/edtvkudtzsrt': 4, '24hohaha': 4, 'drunk': 4, 'personal': 4, 'level': 4, 'ridiculous': 4, 'kicked': 4, 'storetradewars:': 4, 'tco/bo59yh7lafnow': 4, 'floor': 4, '2500/week': 4, '500': 4, 'tco/ioim0unbq5rt': 4, 'tco/dtxvfw2dcmteslanin': 4, 'askerleriyiz': 4, 'tco/lgf4tq7nepwashington': 4, 'competed': 4, 'seattle': 4, 'tco/jamwshz1sgalmaghlooth': 4, 'tco/axai8jgzhatesla': 4, 'crowned': 4, 'tco/2xaudybq2n': 4, 'tco/gg0yvp4n9qrecharge': 4, 'wrap-:': 4, 'obama': 4, 'rejects': 4, 'keystone': 4, 'xl': 4, 'tco/o5mahmuaxsfoxbusiness': 4, 'doubt': 4, 'knocking': 4, 'door': 4, 'nobody': 4, 'else': 4, 'merge': 4, 'outrt': 4, 'tco/sgawkeixvrrt': 4, 'tco/3fact': 4, 'blindrt': 4, 'wpmediainsights:': 4, 'ramp-': 4, 'fruit': 4, 'tco/uetzuzz8jqstartuphangar': 4, 'common': 4, 'tco/8zqxc1r4on': 4, 'tco/xrh6qnpfvkrt': 4, 'sce_joshuat:': 4, 'exciting': 4, 'popularity': 4, 'electricvehicles': 4, 'tort': 4, 'mamysticl': 4, 'darkness': 4, 'pray': 4, 'lightthe': 4, 'hurtling': 4, 'past': 4, 'now)': 4, 'tco/gjldaavbfj': 4, 'tco/dquvlvw6mdspacexs': 4, 'tco/zkdfxu03jqweclouddata': 4, 'h': 4, 'tco/5wi3duprbztesla': 4, 'seat': 4, 'replaced': 4, 'disgraceful': 4, 'betterchinese': 4, 'startup': 4, 'tco/1b8baxfz6i': 4, 'tco/608igz3jjvelonmusk': 4, 'heone': 4, 'customers': 4, 'mexico': 4, '(tier': 4, 'asked': 4, 'increase': 4, 'shipment': 4, 'tco/e883dbw1oxrt': 4, 'usatodaymoney:': 4, 'tco/yyjgdgyggprt': 4, '\"snrl': 4, 'zihinlere': 4, 'snrsz': 4, 'g': 4, 'vermek': 4, 'zordur\"': 4, '-tesla': 4, 'tco/7mbj3nrbak': 4, 'tco/7mbj3nrbakelon': 4, 'tco/6ff9hyjdifrt': 4, 'cnbci:': 4, 'tco/ikdqofddld': 4, 'tco/vwg2w70x3wrt': 4, 'kadnlar': 4, 'nce': 4, 'eitliklerini': 4, 'stnlklerini': 4, 'erkekleri': 4, 'fiziksel': 4, 'taklit': 4, 'etme': 4, 'yoluyla': 4, 'deil': 4, 'kadn': 4, 'zihnininrt': 4, 'tco/xs8okfzkxrelon': 4, 'tco/kof7c6wl73': 4, 'tco/wh8ikwiiwxelon': 4, 'tco/yyjgdgyggpelon': 4, 'tco/9xn9hscgb4': 4, 'tco/haiw0gwuxpuaw': 4, 'fbillmcmorris': 4, 'tco/rs9krmowvatesla': 4, 'tco/rj4xdrzifktimoster': 4, 'tslasupercharge': 4, 'elonuniversity': 4, 'boringcompany': 4, 'guardians': 4, 'kaylas1222': 4, 'eve': 4, 'tco/iufzz9mtbsmysticl': 4, 'pains': 4, 'hurt': 4, 'tco/3jflyljfu5fromsarahlex': 4, 'teslaplop': 4, ':(': 4, 'tco/mmv0ffzgqn': 4, 'phoebesaid:': 4, 'crank': 4, 'teslamotors': 4, 'goal': 4, 'ofrt': 4, 'tco/9g7ztrekburobocopnixon': 4, 'ewerickson': 4, 'grasp': 4, 'satire': 4, 'b)': 4, 'mowing': 4, 'random': 4, 'pedes': 4, 'tco/kn6kt57sh0common': 4, 'tosafety': 4, 'tco/iwg5cpiyr6rt': 4, 'marekadochnal:': 4, 'zerohedge': 4, 'founder': 4, 'charlatan': 4, 'freely': 4, 'insider': 4, 'activities': 4, 'misappropriation': 4, 'governrt': 4, 'acceskanye': 4, 'tco/v3mqfmlrgg': 4, 'musicuaw': 4, 'tco/jaqzz9bcejrt': 4, 'accesmarrying': 4, 'isnt': 4, 'necessity': 4, 'settling': 4, 'spoiling': 4, 'decent': 4, 'mac': 4, 'imac': 4, 'tco/cuauyug40w': 4, 'step': 4, '1:': 4, 'dipvolkswagen': 4, 'tco/xs8okfzkxrvideo': 4, 'tco/xzi5fhh3dheverything': 4, 'tco/7qy4migxzhtrucks': 4, 'cafe': 4, 'volt': 4, 'prius': 4, 'prime': 4, 'miles': 4, 'tco/zl0ticsb3tus-china': 4, 'spell': 4, 'tco/i26kspeauqwatching': 4, 'automated': 4, 'central': 4, 'think:': 4, 'doesn': 4, 'tco/scfze8bk90when': 4, 'headline': 4, 'writer': 4, 'watching': 4, 'archerfxx': 4, 'tco/jju8evipxbmekatronikci': 4, 'sylyorum': 4, 'orospu': 4, 'evladdr': 4, '(change': 4, 'mind)': 4, 'tco/or0odreus0tesla': 4, 'tco/kwsoub2tqprt': 4, 'ochocinco:': 4, 'cheap': 4, 'rethink': 4, 'purchasing': 4, 'something': 4, 'needdrive': 4, 'blog': 4, 'attacked': 4, 'scottish': 4, 'scotland': 4, 'aside': 4, 'forget': 4, 'thekirtichandra_k': 4, 'sacrificed': 4, 'mankind': 4, 'greedy': 4, 'zionist': 4, 'jew': 4, 'tco/tj1k59arpiteslas': 4, 'vertical': 4, 'integration': 4, '24/7': 4, 'tco/sppqcgpepkrt': 4, 'accesbetsy_atkins': 4, '6%': 4, 'explanation': 4, 'tco/2mwsudzkt0building': 4, 'uk': 4, 'tco/zhkryaoeszpropuesta': 4, 'asociacin': 4, 'republicana': 4, 'cambie': 4, 'nombre': 4, 'rey': 4, 'juan': 4, 'carlos': 4, 'teslasomniumspace': 4, 'wontrt': 4, 'tco/kflqxq8ocxtop': 4, 'us-china': 4, 'automakers': 4, 'tco/vri9pazcsc': 4, 'tco/wvvmxgf6sfzippy99za': 4, 'meselfspacexs': 4, 'tco/oi5ka9w1pxrt': 4, 'hiddenforcespod:': 4, 'investor': 4, 'answer': 4, 'path': 4, 'towards': 4, 'profitabilitytesla': 4, 'tco/kpwoyw9xpb': 4, 'tco/xxdsu5sjjgelon': 4, 'tco/zg5cfvsqvzrt': 4, 'tco/1whmp7ikeckanye': 4, 'tco/3flocrqgu9': 4, 'tco/o597efw2cukanye': 4, 'tco/2j4jwcamh4': 4, 'tco/vyzzzhlrmxcommon': 4, 'tco/pzmuse1g8r': 4, 'tco/okipmk9vgrla': 4, 'terrible': 4, 'llevado': 4, 'perder': 4, 'millones': 4, 'bolsa': 4, 'toma': 4, 'broma': 4, 'tco/kaxtsmc4jbcommon': 4, 'tco/keuxctgwne': 4, 'tco/pk8dkdhy0frt': 4, 'usa_emergency:': 4, 'download': 4, 'httpanother': 4, 'perspective': 4, 'superchargers': 4, 'edmonton': 4, 'beautiful': 4, ':)': 4, 'tco/heqyqcw2kgunacademy': 4, 'eccentric': 4, 'brilliant': 4, 'teslaservice': 4, 'teslasplarg': 4, 'tco/v2hif4xcgrtesla': 4, 'reportedly': 4, 'interested': 4, 'parcel': 4, 'land': 4, 'oakland': 4, 'tco/vjnhvpmrwn': 4, 'tco/tpenamkssxnvidia': 4, 'v100(sxm2)32winfast': 4, 'hs5800': 4, 'tco/jxomgc658d': 4, 'socialposttailosivetech': 4, 'phonert': 4, 'kristion_xavier:': 4, 'yo': 4, 'prefiero': 4, 'estar': 4, 'triste': 4, 'dubai': 4, 'llorando': 4, '180mph': 4, 'tco/jef5a6jdwnbarnacules': 4, 'mention': 4, 'teslas\"': 4, 'tco/9zqymhoqmsjohn__rosevear': 4, 'vapor': 4, 'ipace': 4, '30k': 4, '-pace': 4, 'tco/mmbpv0jvobkanye': 4, 'tco/3sr8k86cn8': 4, 'tco/cv09wsgon6rt': 4, 'justingerdes:': 4, ':/armenia': 4, 'negotiates': 4, 'storage': 4, 'tco/arktsqtwim': 4, 'tco/s9qdejjf1ta': 4, 'tco/kvujuqlsu3rt': 4, 'mriblett:': 4, 'years': 4, 'standing': 4, 'outside': 4, 'dc': 4, 'gallery': 4, 'parents': 4, 'ourlhasadv': 4, 'saluteuropa': 4, 'answermysticl': 4, 'religionaudible_books': 4, 'tco/uhg4ubpvcyen': 4, 'caradisiac': 4, 'tco/lbqtwywai4rt': 4, 'disengagtesla': 4, 'tiedotti:': 4, '\"tuotannon': 4, 'kasvumme': 4, 'kovempi': 4, 'kuin': 4, 'kelln': 4, 'muulla\"': 4, '(tuulilasi)': 4, 'tco/areswogaar': 4, 'spacethatneverwas:': 4, 'tco/j3xytvcvygguys': 4, 'speakeasy': 4, 'lived': 4, 'performed': 4, 'tco/69u8uzzf4m': 4, 'tco/owltrgykektesla': 4, 'tco/rr0a0vh062': 4, 'tco/ckzgk6vf3obitmeyen': 4, 'tco/kflqxq8ocxsportscenter': 4, 'lebron': 4, 'invented': 4, 'barbershops': 4, 'modern': 4, 'teslaczeska': 4, 'niekoniecznie': 4, 'zuycie': 4, 'energii': 4, 'wynoszce': 4, '68': 4, 'kwh/100': 4, 'zasig': 4, 'baterii': 4, '22': 4, 'kwh': 4, 'robi': 4, 'wr': 4, 'tco/kukkqybamxtamaki_sh': 4, '_muovoum_': 4, 'reset__1': 4, 'rutyaic': 4, 'nekokan0141': 4, 'i0225': 4, 'momonga0409': 4, 'gulbarna_h': 4, 'kuroneko_387': 4, 'mocchigame': 4, 'tco/7exrzsv6dnrt': 4, 'croweusnews:': 4, 'deduct': 4, 'prepaid': 4, 'lifson': 4, 'crowehorwathus': 4, 'weighs': 4, ':/carculture': 4, 'courtesy': 4, 'jalopnik-': 4, 'tco/wk38xejef5tesla_maple': 4, 'j': 4, 'itching': 4, 'godrudge_gina': 4, 'likely': 4, 'kn': 4, 'tco/rqixy214vurt': 4, 'nbcnewsbusinessrt': 4, 'gerberkawasaki:': 4, '$11': 4, 'bkrt': 4, 'tco/o6ut9zrizl130629130629': 4, 'tco/qttpb4f0l9accident': 4, 'tco/x4dcrv5mnh': 4, 'tco/nhrhjbue7irt': 4, 'llpos:': 4, 'couldnt': 4, 'neighbors': 4, 'tree': 4, 'looked': 4, 'tco/mgvpuiqefhhier': 4, 'nochmal': 4, 'wegen': 4, 'berwltigenden': 4, 'resonanz': 4, 'unsere': 4, 'paar': 4, 'fotos': 4, 'begeistert': 4, 'hier:': 4, 's&amp;s': 4, 'tco/suyxrd2escplaying': 4, 'sparks': 4, 'introduce': 4, 'ac': 4, 'current': 4, 'contribution': 4, 'mojophysics': 4, 'mojonation': 4, 'tco/wi1odqoedgrt': 4, 'upinder44189213': 4, 'tco/upy0a46z9eevannex_com': 4, 'depends': 4, 'dropping': 4, 'month': 4, 'response': 4, 'tco/1zo3ukwg54rt': 4, 'lilmsragerr:': 4, 'amsterdams': 4, 'taxis': 4, 'theyre': 4, 'living': 4, '3018common': 4, 'tco/u2gnva759h': 4, 'tco/ehoou6duq2napa': 4, 'valley': 4, 'tco/vc9xniev5cspotify': 4, 'doublmy': 4, 'nut': 4, 'shell': 4, 'disappointed': 4, 'tco/ilamy3agbmrt': 4, 'fremontfactory': 4, 'tco/lsbi6mnfdu': 4, 'tco/hxehil1kfzteslas': 4, 'tco/wqgn8v6dg1accident': 4, 'lesnums': 4, 'tco/4g3pf1b0c9': 4, 'tco/vkr511b2kdcalstart': 4, 'jerrybrowngov': 4, 'airresources': 4, 'cagobiz': 4, 'related': 4, 'tco/b8zfhjxp4ijosefienvo': 4, 'tco/miwe7gpsvawhy': 3, 'tco/ysc3bdd13x': 3, 'tco/d9wlmbqbar': 3, 'tco/itni2umkbrspacexs': 3, 'tco/mw06gop0uegetting': 3, 'come': 3, 'hear': 3, 'innovations': 3, 'kinds': 3, 'strawberries': 3, 'tomato': 3, 'tco/mzm9tunqx6is': 3, 'halt': 3, 'push': 3, 'perfects': 3, 'fair': 3, 'tco/sw1huftlhyelonmusk': 2, 'michaelianblack': 2, 'popemobile': 2, 'gun': 2, 'mibla': 2, 'communication': 2, 'delon': 2, 'est-elle': 2, '(trop)': 2, 'parfait': 2, 'bouc': 2, 'missaire': 2, 'crise': 2, 'actuelle': 2, 'marqu': 2, 'tco/hycnfh9homrt': 2, '24hogot': 2, 'gay': 2, 'jeans': 2, 'homejalopnik': 2, 'place': 2, 'lame': 2, 'excuse': 2, 'himaerialvideo': 2, 'teslateslas': 1, 'tco/cykad1jkk8ntsb': 1, 'unhappy': 1, 'releasing': 1, 'information': 1, 'tco/ftfx7ljtirspacexs': 1, 'tco/me4yuly7yi': 1, 'tco/cr9s8wfqzjdownload': 1, 'tco/owxqzitfjqcommon': 1, 'tco/wmzsjko90xrt': 1, 'hypebeast:': 1, 'kimkardashians': 1, 'whip': 1, 'tco/iwjy7ct0cqtesla': 1, 'teslamacnow': 1, 'tco/sw1huftlhyrt': 1, 'tco/miwe7gpsvart': 1, 'tco/4co9dejxxbrt:': 1, 'tco/csdksfbq4fev': 1, 'tco/v1vg2c9oobser': 1, 'tco/nsl5mssvlmpourquoi': 1, 'tco/nsl5mssvlmhe': 1, 'tco/nsl5mssvlmrt': 1, 'tco/ud6uzavmtatesla': 1, 'tco/rj4xdrzifkjosefienvo': 1, 'tco/rj4xdrzifkaerialvideo': 1, 'wirt': 1, '24hoaerialvideo': 1, 'tco/9yzgbfri4b': 1})\n"
     ]
    }
   ],
   "source": [
    "print (c)"
   ]
  },
  {
   "cell_type": "markdown",
   "metadata": {},
   "source": [
    "## colocando as palavras e suas frequencias do twitter num dataframe"
   ]
  },
  {
   "cell_type": "code",
   "execution_count": 15,
   "metadata": {},
   "outputs": [
    {
     "data": {
      "text/html": [
       "<div>\n",
       "<style scoped>\n",
       "    .dataframe tbody tr th:only-of-type {\n",
       "        vertical-align: middle;\n",
       "    }\n",
       "\n",
       "    .dataframe tbody tr th {\n",
       "        vertical-align: top;\n",
       "    }\n",
       "\n",
       "    .dataframe thead th {\n",
       "        text-align: right;\n",
       "    }\n",
       "</style>\n",
       "<table border=\"1\" class=\"dataframe\">\n",
       "  <thead>\n",
       "    <tr style=\"text-align: right;\">\n",
       "      <th></th>\n",
       "      <th>Word</th>\n",
       "      <th>Frequency</th>\n",
       "    </tr>\n",
       "  </thead>\n",
       "  <tbody>\n",
       "    <tr>\n",
       "      <th>0</th>\n",
       "      <td>tesla</td>\n",
       "      <td>4604</td>\n",
       "    </tr>\n",
       "    <tr>\n",
       "      <th>1</th>\n",
       "      <td>model</td>\n",
       "      <td>934</td>\n",
       "    </tr>\n",
       "    <tr>\n",
       "      <th>2</th>\n",
       "      <td>-</td>\n",
       "      <td>893</td>\n",
       "    </tr>\n",
       "    <tr>\n",
       "      <th>3</th>\n",
       "      <td>autopilot</td>\n",
       "      <td>744</td>\n",
       "    </tr>\n",
       "    <tr>\n",
       "      <th>4</th>\n",
       "      <td>3</td>\n",
       "      <td>730</td>\n",
       "    </tr>\n",
       "    <tr>\n",
       "      <th>5</th>\n",
       "      <td>another</td>\n",
       "      <td>534</td>\n",
       "    </tr>\n",
       "    <tr>\n",
       "      <th>6</th>\n",
       "      <td>nearly</td>\n",
       "      <td>466</td>\n",
       "    </tr>\n",
       "    <tr>\n",
       "      <th>7</th>\n",
       "      <td>crashes</td>\n",
       "      <td>458</td>\n",
       "    </tr>\n",
       "    <tr>\n",
       "      <th>8</th>\n",
       "      <td>driver</td>\n",
       "      <td>450</td>\n",
       "    </tr>\n",
       "    <tr>\n",
       "      <th>9</th>\n",
       "      <td>location</td>\n",
       "      <td>446</td>\n",
       "    </tr>\n",
       "    <tr>\n",
       "      <th>10</th>\n",
       "      <td>died</td>\n",
       "      <td>442</td>\n",
       "    </tr>\n",
       "    <tr>\n",
       "      <th>11</th>\n",
       "      <td>elon</td>\n",
       "      <td>387</td>\n",
       "    </tr>\n",
       "    <tr>\n",
       "      <th>12</th>\n",
       "      <td>drudge_report:</td>\n",
       "      <td>378</td>\n",
       "    </tr>\n",
       "    <tr>\n",
       "      <th>13</th>\n",
       "      <td>musk</td>\n",
       "      <td>312</td>\n",
       "    </tr>\n",
       "    <tr>\n",
       "      <th>14</th>\n",
       "      <td>need</td>\n",
       "      <td>311</td>\n",
       "    </tr>\n",
       "    <tr>\n",
       "      <th>15</th>\n",
       "      <td>teslas</td>\n",
       "      <td>307</td>\n",
       "    </tr>\n",
       "    <tr>\n",
       "      <th>16</th>\n",
       "      <td>can</td>\n",
       "      <td>295</td>\n",
       "    </tr>\n",
       "    <tr>\n",
       "      <th>17</th>\n",
       "      <td>car</td>\n",
       "      <td>284</td>\n",
       "    </tr>\n",
       "    <tr>\n",
       "      <th>18</th>\n",
       "      <td>&amp;amp;</td>\n",
       "      <td>272</td>\n",
       "    </tr>\n",
       "    <tr>\n",
       "      <th>19</th>\n",
       "      <td>just</td>\n",
       "      <td>268</td>\n",
       "    </tr>\n",
       "    <tr>\n",
       "      <th>20</th>\n",
       "      <td>nikola</td>\n",
       "      <td>265</td>\n",
       "    </tr>\n",
       "    <tr>\n",
       "      <th>21</th>\n",
       "      <td>elonmusk</td>\n",
       "      <td>263</td>\n",
       "    </tr>\n",
       "    <tr>\n",
       "      <th>22</th>\n",
       "      <td>help</td>\n",
       "      <td>254</td>\n",
       "    </tr>\n",
       "    <tr>\n",
       "      <th>23</th>\n",
       "      <td>show</td>\n",
       "      <td>252</td>\n",
       "    </tr>\n",
       "    <tr>\n",
       "      <th>24</th>\n",
       "      <td>best</td>\n",
       "      <td>238</td>\n",
       "    </tr>\n",
       "    <tr>\n",
       "      <th>25</th>\n",
       "      <td>billion</td>\n",
       "      <td>237</td>\n",
       "    </tr>\n",
       "    <tr>\n",
       "      <th>26</th>\n",
       "      <td>new</td>\n",
       "      <td>235</td>\n",
       "    </tr>\n",
       "    <tr>\n",
       "      <th>27</th>\n",
       "      <td>now</td>\n",
       "      <td>235</td>\n",
       "    </tr>\n",
       "    <tr>\n",
       "      <th>28</th>\n",
       "      <td>electric</td>\n",
       "      <td>232</td>\n",
       "    </tr>\n",
       "    <tr>\n",
       "      <th>29</th>\n",
       "      <td>cars</td>\n",
       "      <td>227</td>\n",
       "    </tr>\n",
       "    <tr>\n",
       "      <th>30</th>\n",
       "      <td>|</td>\n",
       "      <td>223</td>\n",
       "    </tr>\n",
       "    <tr>\n",
       "      <th>31</th>\n",
       "      <td>much</td>\n",
       "      <td>219</td>\n",
       "    </tr>\n",
       "    <tr>\n",
       "      <th>32</th>\n",
       "      <td>will</td>\n",
       "      <td>215</td>\n",
       "    </tr>\n",
       "    <tr>\n",
       "      <th>33</th>\n",
       "      <td>motor</td>\n",
       "      <td>205</td>\n",
       "    </tr>\n",
       "    <tr>\n",
       "      <th>34</th>\n",
       "      <td>elonmusk:</td>\n",
       "      <td>201</td>\n",
       "    </tr>\n",
       "    <tr>\n",
       "      <th>35</th>\n",
       "      <td>see</td>\n",
       "      <td>198</td>\n",
       "    </tr>\n",
       "    <tr>\n",
       "      <th>36</th>\n",
       "      <td>know</td>\n",
       "      <td>196</td>\n",
       "    </tr>\n",
       "    <tr>\n",
       "      <th>37</th>\n",
       "      <td>tco/4co9dejxxbrt</td>\n",
       "      <td>196</td>\n",
       "    </tr>\n",
       "    <tr>\n",
       "      <th>38</th>\n",
       "      <td>performance</td>\n",
       "      <td>185</td>\n",
       "    </tr>\n",
       "    <tr>\n",
       "      <th>39</th>\n",
       "      <td>dont</td>\n",
       "      <td>184</td>\n",
       "    </tr>\n",
       "  </tbody>\n",
       "</table>\n",
       "</div>"
      ],
      "text/plain": [
       "                Word  Frequency\n",
       "0              tesla       4604\n",
       "1              model        934\n",
       "2                  -        893\n",
       "3          autopilot        744\n",
       "4                  3        730\n",
       "5            another        534\n",
       "6             nearly        466\n",
       "7            crashes        458\n",
       "8             driver        450\n",
       "9           location        446\n",
       "10              died        442\n",
       "11              elon        387\n",
       "12    drudge_report:        378\n",
       "13              musk        312\n",
       "14              need        311\n",
       "15            teslas        307\n",
       "16               can        295\n",
       "17               car        284\n",
       "18             &amp;        272\n",
       "19              just        268\n",
       "20            nikola        265\n",
       "21          elonmusk        263\n",
       "22              help        254\n",
       "23              show        252\n",
       "24              best        238\n",
       "25           billion        237\n",
       "26               new        235\n",
       "27               now        235\n",
       "28          electric        232\n",
       "29              cars        227\n",
       "30                 |        223\n",
       "31              much        219\n",
       "32              will        215\n",
       "33             motor        205\n",
       "34         elonmusk:        201\n",
       "35               see        198\n",
       "36              know        196\n",
       "37  tco/4co9dejxxbrt        196\n",
       "38       performance        185\n",
       "39              dont        184"
      ]
     },
     "execution_count": 15,
     "metadata": {},
     "output_type": "execute_result"
    }
   ],
   "source": [
    "import pandas as pd\n",
    "df = pd.DataFrame(([word, freq] for word, freq in most_common), columns=['Word', 'Frequency'])\n",
    "df"
   ]
  },
  {
   "cell_type": "code",
   "execution_count": 16,
   "metadata": {},
   "outputs": [
    {
     "data": {
      "image/png": "[encoded data removed]",
      "text/plain": [
       "<matplotlib.figure.Figure at 0x11028a240>"
      ]
     },
     "metadata": {},
     "output_type": "display_data"
    }
   ],
   "source": [
    "import matplotlib.pyplot as plt\n",
    "import seaborn as sns\n",
    "%matplotlib inline\n",
    "\n",
    "fig = plt.figure(figsize=(15,10))\n",
    "fig.add_subplot(1,1,1)\n",
    "\n",
    "df2 = df[:25]\n",
    "\n",
    "ax = sns.barplot(y='Word', x = 'Frequency', data=df2, palette=\"Set3\" )\n",
    "#sns.despine()\n",
    "ax.set(xlabel='Tweets words frequency', ylabel='Word')\n",
    "#ax.set(xticks=range(1, 9), xticklabels=list([10,20,30,40,50,60,70,80,90]))\n",
    "\n",
    "#ax.set(xticklabels=list(range(0,90,10)))\n",
    "#plt.figure(figsize=(20,10))\n",
    "\n",
    "ax.axes.set_title(\"Tweets words frequency\",fontsize=40)\n",
    "ax.set_xlabel(\"Frequency\",fontsize=26)\n",
    "ax.set_ylabel(\"Word\",fontsize=20)\n",
    "ax.tick_params(labelsize=15)\n",
    "#sns.plt.show()\n",
    "plt.show()"
   ]
  },
  {
   "cell_type": "markdown",
   "metadata": {
    "collapsed": true
   },
   "source": [
    "## achar os países de onde foram gerados os tweets"
   ]
  },
  {
   "cell_type": "code",
   "execution_count": 17,
   "metadata": {},
   "outputs": [
    {
     "name": "stdout",
     "output_type": "stream",
     "text": [
      "6\n",
      "{'Mexico', 'The Netherlands', 'Ireland', 'Canada', 'France', 'United States'}\n"
     ]
    }
   ],
   "source": [
    "place = []\n",
    "for result in results:\n",
    "    if 'place'in result and result['place']:\n",
    "        place.append(result['place']['country'])\n",
    "place = set(place)\n",
    "print(len(place) )\n",
    "print(place)"
   ]
  },
  {
   "cell_type": "code",
   "execution_count": 18,
   "metadata": {},
   "outputs": [
    {
     "data": {
      "text/plain": [
       "489"
      ]
     },
     "execution_count": 18,
     "metadata": {},
     "output_type": "execute_result"
    }
   ],
   "source": [
    "# cidades\n",
    "place = []\n",
    "for result in results:\n",
    "    if 'user'  in result:\n",
    "        place.append(result['user']['location'])\n",
    "location = set(place)\n",
    "len(location)"
   ]
  },
  {
   "cell_type": "code",
   "execution_count": 19,
   "metadata": {},
   "outputs": [
    {
     "name": "stdout",
     "output_type": "stream",
     "text": [
      "{'', 'La Plata ', 'Agâh Beyoğlu ', 'Silicon Valley', 'Aan de kant van het zwembad mijmerend over innovatie in Nederland', 'Sweet Home Pennsyltucky', 'Nassau🇧🇸', '3rd Stone from the Sun', 'internet, Switzerland', 'Los Angeles, CA', 'Toronto, ON', 'Turlock, CA', 'Georgia, USA', 'London, United Kingdom', 'Paderborn/Germany', 'Pontiac, MI', 'Pune, India', 'Englewood, CO', '東京 千代田区', 'Maryland', 'Torrey Pines, San Diego', 'Mesa AZ', 'Montana', 'Charleston, WV, USA', 'Paris, France', 'Wuppertal - Germany', 'Illinois, USA', 'Grand Casablanca, Royaume du Maroc', 'Brussels', 'Ann Arbor, MI', 'Cartago, Costa Rica', 'Vancouver, Canada', 'Boynton Beach, FL', 'Samsun', 'Utah', 'Mount Airy, NC', 'Portland, OR', 'Vermont', 'Toronto, Canada', 'Burnaby, BC', '1 AU', 'Vancouver and London', 'The Earth', 'Austin, MN', 'Lubbock, TX', 'República de Catalunya', 'To many places 🤷🏾\\u200d♂️', 'Indianapolis, IN', 'Kansas City, MO', 'Colorado Springs, CO', 'UK', 'South East UK', 'Riyadh', 'here, there and everywhere', 'Napa, California', 'Paris / Bruxelles', 'San Francisco Bay Area', 'Pacific Palisades, CA 90272', 'Lafayette, Louisiana', 'New Jersey, USA', 'Barranquilla - Santa Marta ', 'Queens, NY', 'London and Los Angeles', 'Amsterdam', 'Şeddadi Devlet-i', 'Mega City One', 'MILWAUKEE/CHICAGO', 'The Big Apple', 'United Kingdom', 'Philadelphia, PA, USA', 'USA, China, UK.', 'so far away', 'The Golden Jungle', 'Manhattan, NY', 'Hills ', 'Berlin, Deutschland', 'Univers', 'Lagos, Nigeria', 'Planet Earth', 'Toronto, Ontario, Canada', 'Italia', 'Budapest, Hungary', 'Camboriú, Santa Catarina', 'Cambridge, UK', 'Vancouver', 'Texas, USA', 'Argentina', 'Palo Alto, CA', 'Worldwide', 'Dubai', 'iPhone: 55.681435,12.592148', 'Москва, Россия', 'turkiye', 'Nomansland', 'Kütahya, Türkiye', 'Houston, TX', 'Chicago,USA', 'Montgomery, AL', 'اﻹمارات العربية المتحدة', 'Kansas City', 'ATLANTA, GA  USA', 'Los Angeles, California', 'Dubai, United Arab Emirates', 'Panamá', 'Chico, CA', 'Weinstadt (Germany)', 'Mumbai/New York ', 'khartoum', 'Miramar, FL', 'Worthing, England', 'america', 'İzmir, Türkiye', 'Epe ', 'Colorado, USA', 'Ottawa, ON, Canada', 'Cuenca, Spain', 'DEVLET-İ EBED-İ MÜDDET', 'Hannover, Germany', 'Ahir Zaman', 'Longmont, CO', 'The Netherlands', 'Canada', 'BERKHAN❤️', 'South Quay, London', 'España', 'Portugal', 'Toulouse, France', 'Örnsköldsvik, Sverige', '#Worldwide ', 'юкрейн', 'Gauteng, South Africa', 'UNITED STATES ', 'Michigan', 'Budapest', 'Pacific Northwest, USA', 'dmv', 'Alicante', 'Belgium', 'Samsun, Türkiye', 'ρΙαηετ εαrτჩ(ძιოεηડιοη :C-Ιპ7)', 'Purcellville', 'Dragonstone', 'Ankara, Türkiye', 'Bogotá', 'Chicago, IL', 'South Africa', 'Lakewood, CO', 'CEO www.WallStreetGlobe.com', 'Grapevine, TX', 'Colorado', 'Bloemfontein', 'Miami, FL', 'Mumbai, India', 'Dünya/Plüton', 'San Francisco, CA', 'İstanbul, Türkiye', 'RO', 'Texas', 'Michighan, USA', 'TEXAS, Gov Greg Abbott Country', 'Oakland, California', 'Bharat', 'England, United Kingdom', '愛媛県', 'Mumbai ', 'Livingston, NJ', 'Florida', 'Copenhagen', 'Denpasar Selatan, Indonesia', 'Ottawa, Ontario', 'London, England, #cloud, #SaaS', 'Jackson, MI', 'Santiago de Compostela, España', 'Ottawa', 'Oakville, Ontario', 'Eldoret, Kenya', 'Tampere, Finland', 'Mexico', 'Universe ', 'the moon ', 'Peterborough, England', 'En modo Old Parr cuasipermanen', 'Alcobendas, Spain', 'Huntington Beach, California', 'Украина', 'Rockford IL', 'Odessa', 'Valencia ', 'strasbourg', 'Jersey City, NJ', 'Laval, Québec, Canada', 'Terneuzen', 'Maharashtra, India', 'Ростов-на-Дону', 'Pacific Grove, CA', 'Jakarta', 'USA', 'Tallahassee Florida', 'Irving, TX, USA', 'New York, USA', 'West Deptford, NJ', 'Washington, DC', 'Fremont, CA', 'Deutschland', 'New York', 'North Carolina via Sarajevo', 'Australia', 'Detroit, MI', 'Massachusetts', 'Maliye-i Mebusa', 'Imperial Courts, PJWattsCripj', 'Cartagena, España', 'Fort Collins, CO', 'Türkiye', 'Nederland', '日本 東京', 'London, UK', 'Bulgaria', 'Tampa, FL', 'Minneapolis, MN', 'Intraweb', 'London', 'everywhere', 'Calgary, Alberta', 'dublin', '仙台市', 'Peterborough, NH', 'π-}°•', 'twitter sendikası kurucu üyesi', 'Melbourne, Australia', 'Lagos State, Nigeria', 'soy bacanisimo dame back', 'Rust Belt', 'Santo Domingo , DR', 'Southend-on-Sea, East', 'Whistler, British Columbia', 'Mayfair London / Yorkshire ', 'Guadalajara, Mexico', 'Redmond, WA', 'Istanbul, Turkey', 'Montevideo - Uruguay', 'Nairobi, Kenya', 'New Hampshire, U.S.A.', 'Now in 7 Markets Across the US', 'Atlanta, Ga', 'california', 'Falls Church, VA', 'Dublin City, Ireland', 'CA', 'LARSON BARACKS, KT, FRANKONIA', 'My Ivory Tower of Elitism ', 'Szczecin, Poland', 'SF/Bay Area, CA', \"RT's Are FYI Purposes Only\", 'Medford, OR', '170cm独身長子47ちゃい♌Ｂ', 'Jersey City, NJ\\n', 'Peabody, MA', 'Johnston, RI', 'India', 'Hidden in Plain Sight', 'Getafe', 'New York, New York', 'Breckenridge, TX', 'Clarksburg Park Road St Johns', 'Washington D.C.', 'Zocca, Emilia Romagna', 'Oklahoma City, OK', 'Madrid, Comunidad de Madrid', 'Bursa/İstanbul', 'Ставрополь', 'Finland', 'Valladolid, España', 'Michigan, USA', 'Kentucky, Louisville Central', 'Fremont CA', 'İSTANBUL', 'Gallifrey', 'Puerto Rico, USA', 'Maryland, USA', 'Bengaluru South, India', 'Paris', '913 Ocean Ave, Asbury Park', 'Alberta, Canada', 'Waterloo, Ontario, Canada', 'Here, there, everywhere', 'US', 'NYC', 'Vancouver, BC', 'Callosa de Segura (Alicante)', 'Portland Ore', 'USA TODAY', 'Fr_SEO, 360°,game 3DS Adwords', 'East Reseda', 'Preston, England', 'Universal', 'Cleveland, OH', 'West Little River, FL', 'IDGAF', 'Annapolis, MD', 'Western Finland', 'San Antonio', 'Dallas, TX', 'Wrocław, Polska', 'Sydney Australia ', 'Indy', 'Burbank, CA', 'Dothan, AL', 'Karachi ', 'Florida, USA', 'California, USA', 'Brisbane, Australia', 'Ohio, USA', 'Kitchener, Ontario', 'kahramanmaraş', 'Hoddesdon', 'Your dreams', 'Pittsburgh, PA', 'München, Bayern, Germany', 'Comunidad Foral de Navarra', 'Uk', 'Prague', 'Raleigh & everywhere in US', 'Bethesda, MD', 'Yatağan, Türkiye', 'Georgia', 'Ile-de-France, France', 'Sevilla, España', 'noyb', 'Kenya', 'Vancouver BC', 'New Orleans, Spread Love', 'Boston, NYC, SF', 'colombia', 'Allentown, PA', 'Austin, TX', 'Barcelona', 'Waterloo, IA', 'Cambridgeshire, UK', 'Oceanside, California', 'In the car', 'Bloomfield NJ', 'Nederland, Hoogezand', 'Within This Planetoid ', 'Chicago', 'Kansas, USA', 'Philadelphia, PA', 'Milano ', 'Miskatonic University', 'Westlake Village, CA', 'Halifax', 'Blockchain', 'Phoenix, AZ Valleywide', 'Levelland, TX', 'The Continent', 'Johannesburg, South Africa', 'Boston,Ma', 'Bridgeport ', 'Wilmington, NC', 'Thessaloniki', 'Las Vegas, NV', 'Jakarta Capital Region, Indo', 'South Africa 🇿🇦', 'The World', 'A book by the name of e', 'Houston Texas', 'Earth', 'Western Canada', 'World Wide Web', 'Atlanta, GA', 'Bowels Of The Earth', 'Aragón, Spain', 'Detroit metro area', 'Puerto Rico', \"Jane's Universe\", 'The Natural State', 'Hyderabad, India', 'Southampton, England', 'New York, NY', 'Dimensión C-137', '東京都内', 'Melville, NY', 'Principales villes de France', 'venezuela', 'Santiago, Chile', 'A Coruña', 'Brussels Area, Belgium', 'Guelph Ontario Canada', 'Denver ,Co', 'Pfalz, Hessen, Frankreich', 'Salt Lake City, Utah', 'Pune, Maharashtra', 'Halifax 🛩 Cancun and repeat', 'Mouth Full of Lies?', 'Republic of Croatia', 'Cape Town, South Africa', 'DFW Texas', 'België _ Belgique _ Belgium', 'Vienna, Austria', 'Srbija', 'Iowa, USA', 'Medellín, Colombia', 'Long Hill New Jersey', 'Balıkesir', 'Mexico, Brazil, Spain', 'Vancouver - Tel: 604-638-3665', 'Sverige', 'Tijuana, Baja California', 'Wien', 'World Wide', 'Slovenija', 'University, FL', 'Seattle, WA', 'Perpa Ticaret Merkezi B Blok İstanbul, Türkiye Ofis:  0212 210 22 42', 'Edinburgh', 'Pakistan', 'Pennsylvania', 'Vernon, British Columbia', 'Birmingham, England', 'Atakum, Samsun', 'Davis, CA', 'צוויצרלנד', 'Washington, D.C.', 'philadelpha, pa', 'Parent Company: @Moguldom', 'Everywhere', 'Antalya-Ankara ', 'amarillo, tx', 'New York City', 'Hardisty', 'Interstate 80', 'Distrito Federal, México', '#Взаимныйфолловинг #following', 'Калифорния', 'Cali Valle del Cauca', 'Popayan - Cauca', 'Singapore', 'Approaching Mars', 'Perth, Western Australia', 'Tel 01457 858081', 'Long Beach, CA', 'New Delhi, India', 'argentina', 'Still fucking up my funds.....', 'Avon, OH', 'Modesto ', 'Valladolid. España', 'ここ！', 'Virginia, USA', 'Big City', 'Washington, USA', 'World', 'NY,NY-SF,CA-ALL POINTS BETWEEN', 'Your dads toaster', 'Ayr, Scotland', 'Dunedin, New Zealand', 'Satire, USA', 'Brooklyn, NY', 'Grand Forks, British Columbia', '🌎', 'Waterloo Region, ON', 'Springfield IL', 'Arizona, USA', 'Boston MA Metro', 'そば生産量日本一の町', 'Manchester, England', 'Buenos Aires, Argentina', 'Atlanta, Georgia', 'São Paulo - Brazil', 'Berlin', '221C Baker Street', 'DFW', 'Ridgefield, Connecticut', 'Sin To Win', 'Newport Beach, CA', 'Oak Park, IL', 'Brazil', 'Tiburon, CA', 'Karachi, Pakistan', 'North Chicago, IL', 'United States', 'London, England', 'Česká republika', 'My Horizon ', 'Tennessee, USA', 'Bar', 'नवी मुंबई, भारत', 'Nivelles, Belgique', 'France'}\n"
     ]
    }
   ],
   "source": [
    "print(location)"
   ]
  },
  {
   "cell_type": "markdown",
   "metadata": {
    "collapsed": true
   },
   "source": [
    "## contar a ocorrencia de cada cidade"
   ]
  },
  {
   "cell_type": "code",
   "execution_count": 20,
   "metadata": {},
   "outputs": [],
   "source": [
    "from collections import Counter\n",
    "\n",
    "c = Counter(location)\n",
    "#print(c)\n",
    "cidades = c.items()"
   ]
  },
  {
   "cell_type": "markdown",
   "metadata": {},
   "source": [
    "## colocando as cidades, frequencia num dataframe e salvando no excel"
   ]
  },
  {
   "cell_type": "code",
   "execution_count": 21,
   "metadata": {},
   "outputs": [
    {
     "data": {
      "text/html": [
       "<div>\n",
       "<style scoped>\n",
       "    .dataframe tbody tr th:only-of-type {\n",
       "        vertical-align: middle;\n",
       "    }\n",
       "\n",
       "    .dataframe tbody tr th {\n",
       "        vertical-align: top;\n",
       "    }\n",
       "\n",
       "    .dataframe thead th {\n",
       "        text-align: right;\n",
       "    }\n",
       "</style>\n",
       "<table border=\"1\" class=\"dataframe\">\n",
       "  <thead>\n",
       "    <tr style=\"text-align: right;\">\n",
       "      <th></th>\n",
       "      <th>city</th>\n",
       "      <th>frequency</th>\n",
       "    </tr>\n",
       "  </thead>\n",
       "  <tbody>\n",
       "    <tr>\n",
       "      <th>0</th>\n",
       "      <td></td>\n",
       "      <td>1</td>\n",
       "    </tr>\n",
       "    <tr>\n",
       "      <th>1</th>\n",
       "      <td>La Plata</td>\n",
       "      <td>1</td>\n",
       "    </tr>\n",
       "    <tr>\n",
       "      <th>2</th>\n",
       "      <td>Agâh Beyoğlu</td>\n",
       "      <td>1</td>\n",
       "    </tr>\n",
       "    <tr>\n",
       "      <th>3</th>\n",
       "      <td>Silicon Valley</td>\n",
       "      <td>1</td>\n",
       "    </tr>\n",
       "    <tr>\n",
       "      <th>4</th>\n",
       "      <td>Aan de kant van het zwembad mijmerend over inn...</td>\n",
       "      <td>1</td>\n",
       "    </tr>\n",
       "    <tr>\n",
       "      <th>5</th>\n",
       "      <td>Sweet Home Pennsyltucky</td>\n",
       "      <td>1</td>\n",
       "    </tr>\n",
       "    <tr>\n",
       "      <th>6</th>\n",
       "      <td>Nassau🇧🇸</td>\n",
       "      <td>1</td>\n",
       "    </tr>\n",
       "    <tr>\n",
       "      <th>7</th>\n",
       "      <td>3rd Stone from the Sun</td>\n",
       "      <td>1</td>\n",
       "    </tr>\n",
       "    <tr>\n",
       "      <th>8</th>\n",
       "      <td>internet, Switzerland</td>\n",
       "      <td>1</td>\n",
       "    </tr>\n",
       "    <tr>\n",
       "      <th>9</th>\n",
       "      <td>Los Angeles, CA</td>\n",
       "      <td>1</td>\n",
       "    </tr>\n",
       "    <tr>\n",
       "      <th>10</th>\n",
       "      <td>Toronto, ON</td>\n",
       "      <td>1</td>\n",
       "    </tr>\n",
       "    <tr>\n",
       "      <th>11</th>\n",
       "      <td>Turlock, CA</td>\n",
       "      <td>1</td>\n",
       "    </tr>\n",
       "    <tr>\n",
       "      <th>12</th>\n",
       "      <td>Georgia, USA</td>\n",
       "      <td>1</td>\n",
       "    </tr>\n",
       "    <tr>\n",
       "      <th>13</th>\n",
       "      <td>London, United Kingdom</td>\n",
       "      <td>1</td>\n",
       "    </tr>\n",
       "    <tr>\n",
       "      <th>14</th>\n",
       "      <td>Paderborn/Germany</td>\n",
       "      <td>1</td>\n",
       "    </tr>\n",
       "    <tr>\n",
       "      <th>15</th>\n",
       "      <td>Pontiac, MI</td>\n",
       "      <td>1</td>\n",
       "    </tr>\n",
       "    <tr>\n",
       "      <th>16</th>\n",
       "      <td>Pune, India</td>\n",
       "      <td>1</td>\n",
       "    </tr>\n",
       "    <tr>\n",
       "      <th>17</th>\n",
       "      <td>Englewood, CO</td>\n",
       "      <td>1</td>\n",
       "    </tr>\n",
       "    <tr>\n",
       "      <th>18</th>\n",
       "      <td>東京 千代田区</td>\n",
       "      <td>1</td>\n",
       "    </tr>\n",
       "    <tr>\n",
       "      <th>19</th>\n",
       "      <td>Maryland</td>\n",
       "      <td>1</td>\n",
       "    </tr>\n",
       "    <tr>\n",
       "      <th>20</th>\n",
       "      <td>Torrey Pines, San Diego</td>\n",
       "      <td>1</td>\n",
       "    </tr>\n",
       "    <tr>\n",
       "      <th>21</th>\n",
       "      <td>Mesa AZ</td>\n",
       "      <td>1</td>\n",
       "    </tr>\n",
       "    <tr>\n",
       "      <th>22</th>\n",
       "      <td>Montana</td>\n",
       "      <td>1</td>\n",
       "    </tr>\n",
       "    <tr>\n",
       "      <th>23</th>\n",
       "      <td>Charleston, WV, USA</td>\n",
       "      <td>1</td>\n",
       "    </tr>\n",
       "    <tr>\n",
       "      <th>24</th>\n",
       "      <td>Paris, France</td>\n",
       "      <td>1</td>\n",
       "    </tr>\n",
       "    <tr>\n",
       "      <th>25</th>\n",
       "      <td>Wuppertal - Germany</td>\n",
       "      <td>1</td>\n",
       "    </tr>\n",
       "    <tr>\n",
       "      <th>26</th>\n",
       "      <td>Illinois, USA</td>\n",
       "      <td>1</td>\n",
       "    </tr>\n",
       "    <tr>\n",
       "      <th>27</th>\n",
       "      <td>Grand Casablanca, Royaume du Maroc</td>\n",
       "      <td>1</td>\n",
       "    </tr>\n",
       "    <tr>\n",
       "      <th>28</th>\n",
       "      <td>Brussels</td>\n",
       "      <td>1</td>\n",
       "    </tr>\n",
       "    <tr>\n",
       "      <th>29</th>\n",
       "      <td>Ann Arbor, MI</td>\n",
       "      <td>1</td>\n",
       "    </tr>\n",
       "    <tr>\n",
       "      <th>...</th>\n",
       "      <td>...</td>\n",
       "      <td>...</td>\n",
       "    </tr>\n",
       "    <tr>\n",
       "      <th>459</th>\n",
       "      <td>🌎</td>\n",
       "      <td>1</td>\n",
       "    </tr>\n",
       "    <tr>\n",
       "      <th>460</th>\n",
       "      <td>Waterloo Region, ON</td>\n",
       "      <td>1</td>\n",
       "    </tr>\n",
       "    <tr>\n",
       "      <th>461</th>\n",
       "      <td>Springfield IL</td>\n",
       "      <td>1</td>\n",
       "    </tr>\n",
       "    <tr>\n",
       "      <th>462</th>\n",
       "      <td>Arizona, USA</td>\n",
       "      <td>1</td>\n",
       "    </tr>\n",
       "    <tr>\n",
       "      <th>463</th>\n",
       "      <td>Boston MA Metro</td>\n",
       "      <td>1</td>\n",
       "    </tr>\n",
       "    <tr>\n",
       "      <th>464</th>\n",
       "      <td>そば生産量日本一の町</td>\n",
       "      <td>1</td>\n",
       "    </tr>\n",
       "    <tr>\n",
       "      <th>465</th>\n",
       "      <td>Manchester, England</td>\n",
       "      <td>1</td>\n",
       "    </tr>\n",
       "    <tr>\n",
       "      <th>466</th>\n",
       "      <td>Buenos Aires, Argentina</td>\n",
       "      <td>1</td>\n",
       "    </tr>\n",
       "    <tr>\n",
       "      <th>467</th>\n",
       "      <td>Atlanta, Georgia</td>\n",
       "      <td>1</td>\n",
       "    </tr>\n",
       "    <tr>\n",
       "      <th>468</th>\n",
       "      <td>São Paulo - Brazil</td>\n",
       "      <td>1</td>\n",
       "    </tr>\n",
       "    <tr>\n",
       "      <th>469</th>\n",
       "      <td>Berlin</td>\n",
       "      <td>1</td>\n",
       "    </tr>\n",
       "    <tr>\n",
       "      <th>470</th>\n",
       "      <td>221C Baker Street</td>\n",
       "      <td>1</td>\n",
       "    </tr>\n",
       "    <tr>\n",
       "      <th>471</th>\n",
       "      <td>DFW</td>\n",
       "      <td>1</td>\n",
       "    </tr>\n",
       "    <tr>\n",
       "      <th>472</th>\n",
       "      <td>Ridgefield, Connecticut</td>\n",
       "      <td>1</td>\n",
       "    </tr>\n",
       "    <tr>\n",
       "      <th>473</th>\n",
       "      <td>Sin To Win</td>\n",
       "      <td>1</td>\n",
       "    </tr>\n",
       "    <tr>\n",
       "      <th>474</th>\n",
       "      <td>Newport Beach, CA</td>\n",
       "      <td>1</td>\n",
       "    </tr>\n",
       "    <tr>\n",
       "      <th>475</th>\n",
       "      <td>Oak Park, IL</td>\n",
       "      <td>1</td>\n",
       "    </tr>\n",
       "    <tr>\n",
       "      <th>476</th>\n",
       "      <td>Brazil</td>\n",
       "      <td>1</td>\n",
       "    </tr>\n",
       "    <tr>\n",
       "      <th>477</th>\n",
       "      <td>Tiburon, CA</td>\n",
       "      <td>1</td>\n",
       "    </tr>\n",
       "    <tr>\n",
       "      <th>478</th>\n",
       "      <td>Karachi, Pakistan</td>\n",
       "      <td>1</td>\n",
       "    </tr>\n",
       "    <tr>\n",
       "      <th>479</th>\n",
       "      <td>North Chicago, IL</td>\n",
       "      <td>1</td>\n",
       "    </tr>\n",
       "    <tr>\n",
       "      <th>480</th>\n",
       "      <td>United States</td>\n",
       "      <td>1</td>\n",
       "    </tr>\n",
       "    <tr>\n",
       "      <th>481</th>\n",
       "      <td>London, England</td>\n",
       "      <td>1</td>\n",
       "    </tr>\n",
       "    <tr>\n",
       "      <th>482</th>\n",
       "      <td>Česká republika</td>\n",
       "      <td>1</td>\n",
       "    </tr>\n",
       "    <tr>\n",
       "      <th>483</th>\n",
       "      <td>My Horizon</td>\n",
       "      <td>1</td>\n",
       "    </tr>\n",
       "    <tr>\n",
       "      <th>484</th>\n",
       "      <td>Tennessee, USA</td>\n",
       "      <td>1</td>\n",
       "    </tr>\n",
       "    <tr>\n",
       "      <th>485</th>\n",
       "      <td>Bar</td>\n",
       "      <td>1</td>\n",
       "    </tr>\n",
       "    <tr>\n",
       "      <th>486</th>\n",
       "      <td>नवी मुंबई, भारत</td>\n",
       "      <td>1</td>\n",
       "    </tr>\n",
       "    <tr>\n",
       "      <th>487</th>\n",
       "      <td>Nivelles, Belgique</td>\n",
       "      <td>1</td>\n",
       "    </tr>\n",
       "    <tr>\n",
       "      <th>488</th>\n",
       "      <td>France</td>\n",
       "      <td>1</td>\n",
       "    </tr>\n",
       "  </tbody>\n",
       "</table>\n",
       "<p>489 rows × 2 columns</p>\n",
       "</div>"
      ],
      "text/plain": [
       "                                                  city  frequency\n",
       "0                                                               1\n",
       "1                                            La Plata           1\n",
       "2                                        Agâh Beyoğlu           1\n",
       "3                                       Silicon Valley          1\n",
       "4    Aan de kant van het zwembad mijmerend over inn...          1\n",
       "5                              Sweet Home Pennsyltucky          1\n",
       "6                                             Nassau🇧🇸          1\n",
       "7                               3rd Stone from the Sun          1\n",
       "8                                internet, Switzerland          1\n",
       "9                                      Los Angeles, CA          1\n",
       "10                                         Toronto, ON          1\n",
       "11                                         Turlock, CA          1\n",
       "12                                        Georgia, USA          1\n",
       "13                              London, United Kingdom          1\n",
       "14                                   Paderborn/Germany          1\n",
       "15                                         Pontiac, MI          1\n",
       "16                                         Pune, India          1\n",
       "17                                       Englewood, CO          1\n",
       "18                                             東京 千代田区          1\n",
       "19                                            Maryland          1\n",
       "20                             Torrey Pines, San Diego          1\n",
       "21                                             Mesa AZ          1\n",
       "22                                             Montana          1\n",
       "23                                 Charleston, WV, USA          1\n",
       "24                                       Paris, France          1\n",
       "25                                 Wuppertal - Germany          1\n",
       "26                                       Illinois, USA          1\n",
       "27                  Grand Casablanca, Royaume du Maroc          1\n",
       "28                                            Brussels          1\n",
       "29                                       Ann Arbor, MI          1\n",
       "..                                                 ...        ...\n",
       "459                                                  🌎          1\n",
       "460                                Waterloo Region, ON          1\n",
       "461                                     Springfield IL          1\n",
       "462                                       Arizona, USA          1\n",
       "463                                    Boston MA Metro          1\n",
       "464                                         そば生産量日本一の町          1\n",
       "465                                Manchester, England          1\n",
       "466                            Buenos Aires, Argentina          1\n",
       "467                                   Atlanta, Georgia          1\n",
       "468                                 São Paulo - Brazil          1\n",
       "469                                             Berlin          1\n",
       "470                                  221C Baker Street          1\n",
       "471                                                DFW          1\n",
       "472                            Ridgefield, Connecticut          1\n",
       "473                                         Sin To Win          1\n",
       "474                                  Newport Beach, CA          1\n",
       "475                                       Oak Park, IL          1\n",
       "476                                             Brazil          1\n",
       "477                                        Tiburon, CA          1\n",
       "478                                  Karachi, Pakistan          1\n",
       "479                                  North Chicago, IL          1\n",
       "480                                      United States          1\n",
       "481                                    London, England          1\n",
       "482                                    Česká republika          1\n",
       "483                                        My Horizon           1\n",
       "484                                     Tennessee, USA          1\n",
       "485                                                Bar          1\n",
       "486                                    नवी मुंबई, भारत          1\n",
       "487                                 Nivelles, Belgique          1\n",
       "488                                             France          1\n",
       "\n",
       "[489 rows x 2 columns]"
      ]
     },
     "execution_count": 21,
     "metadata": {},
     "output_type": "execute_result"
    }
   ],
   "source": [
    "import pandas as pd\n",
    "df = pd.DataFrame(([cidade, freq] for cidade, freq in cidades), columns=['city', 'frequency'])\n",
    "\n",
    "# Create a Pandas Excel writer using XlsxWriter as the engine.\n",
    "writer = pd.ExcelWriter('cidades.xlsx', engine='xlsxwriter')\n",
    "\n",
    "# Convert the dataframe to an XlsxWriter Excel object.\n",
    "df.to_excel(writer, sheet_name='Sheet1')\n",
    "\n",
    "# Close the Pandas Excel writer and output the Excel file.\n",
    "writer.save()\n",
    "df"
   ]
  },
  {
   "cell_type": "code",
   "execution_count": 22,
   "metadata": {},
   "outputs": [
    {
     "data": {
      "image/png": "[encoded data removed]",
      "text/plain": [
       "<matplotlib.figure.Figure at 0x10e0e91d0>"
      ]
     },
     "metadata": {},
     "output_type": "display_data"
    }
   ],
   "source": [
    "import matplotlib.pyplot as plt\n",
    "import seaborn as sns\n",
    "%matplotlib inline\n",
    "\n",
    "fig = plt.figure(figsize=(15,10))\n",
    "fig.add_subplot(1,1,1)\n",
    "\n",
    "df2 = df[:25]\n",
    "\n",
    "ax = sns.barplot(y='city', x = 'frequency', data=df2, palette=\"Set3\" )\n",
    "ax.set(xlabel='Tweets cities frequency', ylabel='cities')\n",
    "ax.axes.set_title(\"Tweets cities frequency\",fontsize=40)\n",
    "ax.set_xlabel(\"frequency\",fontsize=26)\n",
    "ax.set_ylabel(\"cities\",fontsize=20)\n",
    "ax.tick_params(labelsize=15)\n",
    "#sns.plt.show()\n",
    "plt.show()"
   ]
  },
  {
   "cell_type": "markdown",
   "metadata": {
    "collapsed": true
   },
   "source": [
    "## Capturar tweets com coodenadas de lat, long para cidade"
   ]
  },
  {
   "cell_type": "code",
   "execution_count": 23,
   "metadata": {},
   "outputs": [],
   "source": [
    "def captura_tweets_com_coordenadas(tweets):\n",
    "    tweets_com_coordenadas = []\n",
    "    for tweet in tweets:\n",
    "        if tweet['place'] is not None:\n",
    "            tweets_com_coordenadas.append(tweet)\n",
    "    return (tweets_com_coordenadas)"
   ]
  },
  {
   "cell_type": "code",
   "execution_count": 24,
   "metadata": {},
   "outputs": [
    {
     "name": "stdout",
     "output_type": "stream",
     "text": [
      "154\n"
     ]
    }
   ],
   "source": [
    "tweets_com_coordenadas = captura_tweets_com_coordenadas(results)\n",
    "print(len(tweets_com_coordenadas))"
   ]
  },
  {
   "cell_type": "code",
   "execution_count": 26,
   "metadata": {},
   "outputs": [
    {
     "data": {
      "text/plain": [
       "{'coordinates': [[[-75.066178, 39.915333],\n",
       "   [-75.013523, 39.915333],\n",
       "   [-75.013523, 39.946809],\n",
       "   [-75.066178, 39.946809]]],\n",
       " 'type': 'Polygon'}"
      ]
     },
     "execution_count": 26,
     "metadata": {},
     "output_type": "execute_result"
    }
   ],
   "source": [
    "tweets_com_coordenadas[0]['place']['bounding_box']"
   ]
  },
  {
   "cell_type": "code",
   "execution_count": 27,
   "metadata": {},
   "outputs": [
    {
     "data": {
      "text/plain": [
       "[[[-75.066178, 39.915333],\n",
       "  [-75.013523, 39.915333],\n",
       "  [-75.013523, 39.946809],\n",
       "  [-75.066178, 39.946809]]]"
      ]
     },
     "execution_count": 27,
     "metadata": {},
     "output_type": "execute_result"
    }
   ],
   "source": [
    "tweets_com_coordenadas[0]['place']['bounding_box']['coordinates']"
   ]
  },
  {
   "cell_type": "code",
   "execution_count": 29,
   "metadata": {},
   "outputs": [
    {
     "data": {
      "text/plain": [
       "[-75.066178, 39.915333]"
      ]
     },
     "execution_count": 29,
     "metadata": {},
     "output_type": "execute_result"
    }
   ],
   "source": [
    "tweets_com_coordenadas[0]['place']['bounding_box']['coordinates'][0][0]"
   ]
  },
  {
   "cell_type": "code",
   "execution_count": 30,
   "metadata": {},
   "outputs": [],
   "source": [
    "def captura_coordenadas(tweets):\n",
    "    coordenadas = []\n",
    "    for tweet in tweets:\n",
    "        coord = tweet['place']['bounding_box']['coordinates'][0][0]\n",
    "        coordenadas.append(coord)\n",
    "    return coordenadas"
   ]
  },
  {
   "cell_type": "code",
   "execution_count": 31,
   "metadata": {},
   "outputs": [
    {
     "data": {
      "text/plain": [
       "[[-75.066178, 39.915333],\n",
       " [-123.29656, 49.313607],\n",
       " [-105.148074, 40.47168],\n",
       " [-79.487651, 37.886607],\n",
       " [-86.348441, 39.631677]]"
      ]
     },
     "execution_count": 31,
     "metadata": {},
     "output_type": "execute_result"
    }
   ],
   "source": [
    "tweets_coordenadasXY = captura_coordenadas(tweets_com_coordenadas)\n",
    "tweets_coordenadasXY[:5]"
   ]
  },
  {
   "cell_type": "code",
   "execution_count": 32,
   "metadata": {},
   "outputs": [],
   "source": [
    "latitudes_tweets =  [ y for x,y in tweets_coordenadasXY]\n",
    "longitudes_tweets =  [ x for x,y in tweets_coordenadasXY]"
   ]
  },
  {
   "cell_type": "code",
   "execution_count": 33,
   "metadata": {},
   "outputs": [
    {
     "data": {
      "text/plain": [
       "[39.915333, 49.313607, 40.47168, 37.886607, 39.631677]"
      ]
     },
     "execution_count": 33,
     "metadata": {},
     "output_type": "execute_result"
    }
   ],
   "source": [
    "latitudes_tweets[:5]"
   ]
  },
  {
   "cell_type": "code",
   "execution_count": 34,
   "metadata": {},
   "outputs": [
    {
     "data": {
      "text/plain": [
       "[-75.066178, -123.29656, -105.148074, -79.487651, -86.348441]"
      ]
     },
     "execution_count": 34,
     "metadata": {},
     "output_type": "execute_result"
    }
   ],
   "source": [
    "longitudes_tweets[:5]"
   ]
  },
  {
   "cell_type": "markdown",
   "metadata": {},
   "source": [
    "# Georeferenciar os tweets no mapa mundi"
   ]
  },
  {
   "cell_type": "code",
   "execution_count": 35,
   "metadata": {},
   "outputs": [
    {
     "data": {
      "text/html": [
       "<div style=\"width:100%;\"><div style=\"position:relative;width:100%;height:0;padding-bottom:60%;\"><iframe src=\"data:text/html;charset=utf-8;base64,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\" style=\"position:absolute;width:100%;height:100%;left:0;top:0;border:none !important;\" allowfullscreen webkitallowfullscreen mozallowfullscreen></iframe></div></div>"
      ],
      "text/plain": [
       "<folium.folium.Map at 0x1a1cf02160>"
      ]
     },
     "execution_count": 35,
     "metadata": {},
     "output_type": "execute_result"
    }
   ],
   "source": [
    "import folium\n",
    "mapit = folium.Map(location=[30, 0], zoom_start=2)\n",
    "for coord in tweets_coordenadasXY:\n",
    "    folium.CircleMarker( location=[ coord[1], coord[0] ], radius=2).add_to( mapit ) \n",
    "                    # color='#0080bb', fill_color='#0080bb'\n",
    "mapit"
   ]
  },
  {
   "cell_type": "code",
   "execution_count": null,
   "metadata": {},
   "outputs": [],
   "source": [
    "# !pip install reverse_geocoder\n",
    "import reverse_geocoder as rg\n",
    "\n",
    "coordinates = (51.5214588,-0.1729636),(9.936033, 76.259952)\n",
    "coordinates=(37.38605,-122.08385)\n",
    "results = rg.search(coordinates) # default mode = 2\n",
    "print (results)"
   ]
  },
  {
   "cell_type": "code",
   "execution_count": null,
   "metadata": {},
   "outputs": [],
   "source": [
    "import reverse_geocoder as rg\n",
    "\n",
    "#coordinates = (-23.967967, -47.508358)\n",
    "#cooordinates = (-8.157554, -35.019805 ), (-8.157554, -34.858893)\n",
    "cordinates = (-43.4161389,-22.8132778)\n",
    "cordinates = (-22.8132778, -43.4161389)\n",
    "results = rg.search(coordinates) # default mode = 2\n",
    "print (results)"
   ]
  },
  {
   "cell_type": "markdown",
   "metadata": {
    "collapsed": true
   },
   "source": [
    "# twitter trends - assuntos mais comentados do momento"
   ]
  },
  {
   "cell_type": "code",
   "execution_count": 36,
   "metadata": {},
   "outputs": [],
   "source": [
    "import json\n",
    "import twitter\n",
    "\n",
    "def twitter_trends(twitter_api, woe_id):\n",
    "    # Prefix ID with the underscore for query string parameterization.\n",
    "    # Without the underscore, the twitter package appends the ID value\n",
    "    # to the URL itself as a special-case keyword argument.\n",
    "    return twitter_api.trends.place(_id=woe_id)\n",
    "\n",
    "# Sample usage\n",
    "\n",
    "twitter_api = oauth_login()\n",
    "\n",
    "# See https://dev.twitter.com/docs/api/1.1/get/trends/place and\n",
    "# http://developer.yahoo.com/geo/geoplanet/ for details on\n",
    "# Yahoo! Where On Earth ID\n",
    "\n",
    "WORLD_WOE_ID = 1\n",
    "world_trends = twitter_trends(twitter_api, WORLD_WOE_ID)\n",
    "#print json.dumps(world_trends, indent=1)\n",
    "\n",
    "US_WOE_ID = 23424977\n",
    "us_trends = twitter_trends(twitter_api, US_WOE_ID)\n",
    "#print (json.dumps(us_trends, indent=1))\n",
    "#us_trends[0]\n",
    "\n",
    "#for trend in us_trends:\n",
    "#    print (trend['as_of']['name'])"
   ]
  },
  {
   "cell_type": "code",
   "execution_count": 37,
   "metadata": {},
   "outputs": [],
   "source": [
    "def find_trends(country_trends):\n",
    "    trends = country_trends[0]['trends']\n",
    "    for trend in trends:\n",
    "        print (trend['name'])"
   ]
  },
  {
   "cell_type": "code",
   "execution_count": 38,
   "metadata": {},
   "outputs": [
    {
     "name": "stdout",
     "output_type": "stream",
     "text": [
      "topicos mais comentados: Mundo\n",
      "#Euphoria\n",
      "#DebateCaribe\n",
      "#تشرب_مشروبات_غازيه_او_لا\n",
      "#PuigdemontPresident\n",
      "Kyrie Irving\n",
      "#NationalBurritoDay\n",
      "Arctic Monkeys\n",
      "Tiger\n",
      "Fiscalía\n",
      "Spyro\n",
      "Kurt Cobain\n",
      "La Justicia\n",
      "Ricky Vaughn\n",
      "Auflagen\n",
      "Michael Conforto\n",
      "Strasburg\n",
      "Bob McNair\n",
      "Timothy Cunningham\n",
      "#صحار_النصر\n",
      "#FelizJueves\n",
      "#Uthandonesthembu\n",
      "#avludayız\n",
      "#5Abr\n",
      "#SiDeMiDependiera\n",
      "#PortakalınDuruşu\n",
      "#انقذوا_اشجان_الحربي\n",
      "#ThursdayThoughts\n",
      "#บุพเพสันนิวาส\n",
      "#حفر_الباطن_الان\n",
      "#SonCephe\n",
      "#Consultazioni2018\n",
      "#VidalEnDDM\n",
      "#اذا_كنت_كويتي_اصلي\n",
      "#WeLoveYouSalmanKhan\n",
      "#7de7\n",
      "#SeViraAiOClipe\n",
      "#TtOlmakkİstermisinizz\n",
      "#HablamosDePGE\n",
      "#RBLOM\n",
      "#المعلمون_لايستحقون_الاجازه\n",
      "#HAPPYMINGYUDAY\n",
      "#BirOldukça\n",
      "#nosehaceesode\n",
      "#MarioBautistaEnBogotá\n",
      "#JERZDAY\n",
      "#AFCvCSKA\n",
      "#TeachAFilmToCook\n",
      "#IGoAllinWhen\n",
      "#LulaPresoHoje\n",
      "#TPMParanormal\n"
     ]
    }
   ],
   "source": [
    "WORLD_WOE_ID = 1\n",
    "world_trends = twitter_trends(twitter_api, WORLD_WOE_ID)\n",
    "print (\"topicos mais comentados: Mundo\")\n",
    "find_trends(world_trends)"
   ]
  },
  {
   "cell_type": "code",
   "execution_count": 39,
   "metadata": {},
   "outputs": [
    {
     "name": "stdout",
     "output_type": "stream",
     "text": [
      "topicos mais comentados: USA\n",
      "Kyrie\n",
      "#NationalBurritoDay\n",
      "#ThursdayThoughts\n",
      "#Euphoria\n",
      "Tiger\n",
      "Michael Conforto\n",
      "Ricky Vaughn\n",
      "Timothy Cunningham\n",
      "Bob McNair\n",
      "Strasburg\n",
      "Spyro\n",
      "#JERZDAY\n",
      "#IGoAllinWhen\n",
      "Trayce Thompson\n",
      "Fenway\n",
      "Arctic Monkeys\n",
      "The Paris Review\n",
      "Reyes\n",
      "Deckard Cain\n",
      "Mac Pro\n",
      "Kurt Cobain\n",
      "Missing CDC\n",
      "Conor McGregor\n",
      "Yoenis Cespedes\n",
      "Aly Raisman\n",
      "Lorena Bobbitt\n",
      "Robert Mercer\n",
      "Stephen Del Bagno\n",
      "Marsha Blackburn\n",
      "Dustin Hamilton\n",
      "Plawecki\n",
      "Puigdemont\n",
      "Marc Jacobs\n",
      "White Sulphur Springs\n",
      "#WeirdBandMerchandise\n",
      "#SaheedVassell\n",
      "#FutureLaw\n",
      "#FirstContactDay\n",
      "#DebateCaribe\n",
      "#OpeningDaySTL\n",
      "#Walk2WorkDay\n",
      "#HITMC\n",
      "#HealthHeroes\n",
      "#SLCBoston\n",
      "#EarlyEdChat\n",
      "#STEMsolve\n",
      "#HomeOpener\n",
      "#LeadingtheNation\n",
      "#tfnw18\n",
      "#GoldStarSpousesDay\n"
     ]
    }
   ],
   "source": [
    "US_WOE_ID = 23424977\n",
    "us_trends = twitter_trends(twitter_api, US_WOE_ID)\n",
    "print (\"topicos mais comentados: USA\")\n",
    "find_trends(us_trends)"
   ]
  },
  {
   "cell_type": "code",
   "execution_count": 40,
   "metadata": {
    "scrolled": true
   },
   "outputs": [
    {
     "name": "stdout",
     "output_type": "stream",
     "text": [
      "topicos mais comentados: Brasil\n",
      "#Euphoria\n",
      "#SeViraAiOClipe\n",
      "Arctic Monkeys\n",
      "#LulaPresoHoje\n",
      "#HelloOneDirection\n",
      "NUNCA DUVIDAMOS DE GLEIGNER\n",
      "Chris Pratt\n",
      "#QuintaDetremuraSDV\n",
      "Andrés\n",
      "Kurt Cobain\n",
      "Kyrie Irving\n",
      "Governo Temer\n",
      "Leila Pereira\n",
      "Big Little Lies\n",
      "Spyro\n",
      "Alerj\n",
      "CIEE\n",
      "Crefisa\n",
      "Alex Turner\n",
      "São João de Campina Grande\n",
      "Bruno Moraes\n",
      "Instituto Lula\n",
      "Belíssima\n",
      "Capitão Oliveira\n",
      "Gattuso\n",
      "Conor McGregor\n",
      "GO-070\n",
      "Europa League\n",
      "Thais Fersoza\n",
      "Enrique Iglesias\n",
      "Remedy\n",
      "05.04.18 - Atualização\n",
      "Martinho da Vila\n",
      "Desafio\n",
      "IMAX\n",
      "Interrupções a Rosa Weber\n",
      "General Severiano\n",
      "Kakay\n",
      "#fsradiobrasil\n",
      "#HAPPYMINGYUDAY\n",
      "#MTVBRBEATNOSDOIS\n",
      "#estudioi\n",
      "#DePlaca\n",
      "#ProudOfYugyeom\n",
      "#MlksDeXerém\n",
      "#FotografandoBrasilia\n",
      "#LuzDoSol\n",
      "#DiadoJornalista\n",
      "#BloomingDays\n",
      "#JornalHoje\n"
     ]
    }
   ],
   "source": [
    "BR_WOE_ID = 23424768\n",
    "br_trends = twitter_trends(twitter_api, BR_WOE_ID)\n",
    "print (\"topicos mais comentados: Brasil\")\n",
    "find_trends(br_trends)"
   ]
  }
 ],
 "metadata": {
  "kernelspec": {
   "display_name": "Python 3",
   "language": "python",
   "name": "python3"
  },
  "language_info": {
   "codemirror_mode": {
    "name": "ipython",
    "version": 3
   },
   "file_extension": ".py",
   "mimetype": "text/x-python",
   "name": "python",
   "nbconvert_exporter": "python",
   "pygments_lexer": "ipython3",
   "version": "3.6.4"
  }
 },
 "nbformat": 4,
 "nbformat_minor": 2
}
