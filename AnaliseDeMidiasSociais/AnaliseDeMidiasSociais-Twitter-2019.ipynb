{
 "cells": [
  {
   "cell_type": "markdown",
   "metadata": {},
   "source": [
    "# Análise de Mídias Sociais: Twitter"
   ]
  },
  {
   "cell_type": "markdown",
   "metadata": {},
   "source": [
    "Para autenticar no twitter, temos que criar uma conta e accessar: <br />\n",
    "http://twitter.com/apps/new <br />\n",
    "Gerar as chaves de autenticação, ex:<br />\n",
    "CONSUMER_KEY = 'DcPtlOYZ07jilc3PgYJLUPRjJ' <br />\n",
    "CONSUMER_SECRET = 'bREXzcIMNLKhRpOhQGFuEKTaJhRhHcjD3dKBe682Yt2MOiNv6b' <br />\n",
    "OAUTH_TOKEN = '2904474861-coE0I5LEq8btCC0A18IPjqOp1G24vBgwXKyPi5b' <br />\n",
    "OAUTH_TOKEN_SECRET = 'ppDRYIeSXOb6J6qajqXolniwVNgbAkIEYDS9VfIzOboQo'<br />"
   ]
  },
  {
   "cell_type": "markdown",
   "metadata": {},
   "source": [
    "## Modulo para autenticação no twitter"
   ]
  },
  {
   "cell_type": "code",
   "execution_count": 1,
   "metadata": {},
   "outputs": [],
   "source": [
    "#!pip install twitter\n",
    "#!pip install pymongo"
   ]
  },
  {
   "cell_type": "code",
   "execution_count": 2,
   "metadata": {},
   "outputs": [
    {
     "name": "stdout",
     "output_type": "stream",
     "text": [
      "<twitter.api.Twitter object at 0x11126a9d0>\n"
     ]
    }
   ],
   "source": [
    "import twitter\n",
    "\n",
    "def oauth_login():\n",
    "    # XXX: Go to http://twitter.com/apps/new to create an app and get values\n",
    "    # for these credentials that you'll need to provide in place of these\n",
    "    # empty string values that are defined as placeholders.\n",
    "    # See https://dev.twitter.com/docs/auth/oauth for more information \n",
    "    # on Twitter's OAuth implementation.\n",
    "    \n",
    "    CONSUMER_KEY = 'DcPtlOYZ07jilc3PgYJLUPRjJ'\n",
    "    CONSUMER_SECRET = 'bREXzcIMNLKhRpOhQGFuEKTaJhRhHcjD3dKBe682Yt2MOiNv6b'\n",
    "    OAUTH_TOKEN = '2904474861-coE0I5LEq8btCC0A18IPjqOp1G24vBgwXKyPi5b'\n",
    "    OAUTH_TOKEN_SECRET = 'ppDRYIeSXOb6J6qajqXolniwVNgbAkIEYDS9VfIzOboQo'\n",
    "    \n",
    "    auth = twitter.oauth.OAuth(OAUTH_TOKEN, OAUTH_TOKEN_SECRET,\n",
    "                               CONSUMER_KEY, CONSUMER_SECRET)\n",
    "    \n",
    "    twitter_api = twitter.Twitter(auth=auth)\n",
    "    return twitter_api\n",
    "\n",
    "# Sample usage\n",
    "twitter_api = oauth_login()    \n",
    "\n",
    "# Nothing to see by displaying twitter_api except that it's now a\n",
    "# defined variable\n",
    "\n",
    "print (twitter_api)"
   ]
  },
  {
   "cell_type": "markdown",
   "metadata": {},
   "source": [
    "## Módulo para buscar tweets, dado uma palavra"
   ]
  },
  {
   "cell_type": "code",
   "execution_count": 3,
   "metadata": {},
   "outputs": [],
   "source": [
    "def twitter_search(twitter_api, q, max_results=1000, **kw):  #max_results=200\n",
    "\n",
    "    # See https://dev.twitter.com/docs/api/1.1/get/search/tweets and \n",
    "    # https://dev.twitter.com/docs/using-search for details on advanced \n",
    "    # search criteria that may be useful for keyword arguments\n",
    "    \n",
    "    # See https://dev.twitter.com/docs/api/1.1/get/search/tweets    \n",
    "    search_results = twitter_api.search.tweets(q=q, count=1000, **kw)   # count=100\n",
    "    \n",
    "    statuses = search_results['statuses']\n",
    "    \n",
    "    # Iterate through batches of results by following the cursor until we\n",
    "    # reach the desired number of results, keeping in mind that OAuth users\n",
    "    # can \"only\" make 180 search queries per 15-minute interval. See\n",
    "    # https://dev.twitter.com/docs/rate-limiting/1.1/limits\n",
    "    # for details. A reasonable number of results is ~1000, although\n",
    "    # that number of results may not exist for all queries.\n",
    "    \n",
    "    # Enforce a reasonable limit\n",
    "    max_results = min(1000, max_results)\n",
    "    \n",
    "    for _ in range(10): # 10*100 = 1000\n",
    "        try:\n",
    "            next_results = search_results['search_metadata']['next_results']\n",
    "        except KeyError: # No more results when next_results doesn't exist\n",
    "            break\n",
    "            \n",
    "        # Create a dictionary from next_results, which has the following form:\n",
    "        # ?max_id=313519052523986943&q=NCAA&include_entities=1\n",
    "        kwargs = dict([ kv.split('=') \n",
    "                        for kv in next_results[1:].split(\"&\") ])\n",
    "        \n",
    "        search_results = twitter_api.search.tweets(**kwargs)\n",
    "        statuses += search_results['statuses']\n",
    "        \n",
    "        if len(statuses) > max_results: \n",
    "            break\n",
    "            \n",
    "    return statuses"
   ]
  },
  {
   "cell_type": "markdown",
   "metadata": {},
   "source": [
    "## Salvando/Recuperando no MongoDB"
   ]
  },
  {
   "cell_type": "code",
   "execution_count": 4,
   "metadata": {},
   "outputs": [],
   "source": [
    "import json\n",
    "import pymongo # pip install pymongo\n",
    "\n",
    "\n",
    "def save_to_mongo(data, mongo_db, mongo_db_coll, **mongo_conn_kw):\n",
    "    \n",
    "    # Connects to the MongoDB server running on \n",
    "    # localhost:27017 by default\n",
    "    \n",
    "    client = pymongo.MongoClient(**mongo_conn_kw)\n",
    "    \n",
    "    # Get a reference to a particular database\n",
    "    \n",
    "    db = client[mongo_db]\n",
    "    \n",
    "    # Reference a particular collection in the database\n",
    "    \n",
    "    coll = db[mongo_db_coll]\n",
    "    \n",
    "    # Perform a bulk insert and  return the IDs\n",
    "    \n",
    "    return coll.insert_many(data)\n",
    "\n",
    "def load_from_mongo(mongo_db, mongo_db_coll, return_cursor=False,\n",
    "                    criteria=None, projection=None, **mongo_conn_kw):\n",
    "    \n",
    "    # Optionally, use criteria and projection to limit the data that is \n",
    "    # returned as documented in \n",
    "    # http://docs.mongodb.org/manual/reference/method/db.collection.find/\n",
    "    \n",
    "    # Consider leveraging MongoDB's aggregations framework for more \n",
    "    # sophisticated queries.\n",
    "    \n",
    "    client = pymongo.MongoClient(**mongo_conn_kw)\n",
    "    db = client[mongo_db]\n",
    "    coll = db[mongo_db_coll]\n",
    "    \n",
    "    if criteria is None:\n",
    "        criteria = {}\n",
    "    \n",
    "    if projection is None:\n",
    "        cursor = coll.find(criteria)\n",
    "    else:\n",
    "        cursor = coll.find(criteria, projection)\n",
    "\n",
    "    # Returning a cursor is recommended for large amounts of data\n",
    "    \n",
    "    if return_cursor:\n",
    "        return cursor\n",
    "    else:\n",
    "        return [ item for item in cursor ]"
   ]
  },
  {
   "cell_type": "markdown",
   "metadata": {},
   "source": [
    "## Capturando tweets"
   ]
  },
  {
   "cell_type": "code",
   "execution_count": 5,
   "metadata": {},
   "outputs": [
    {
     "data": {
      "text/plain": [
       "list"
      ]
     },
     "execution_count": 5,
     "metadata": {},
     "output_type": "execute_result"
    }
   ],
   "source": [
    "q = 'brasil'\n",
    "q = 'Anitta'\n",
    "result = twitter_search(twitter_api, q, max_results=1000)\n",
    "type(result)"
   ]
  },
  {
   "cell_type": "code",
   "execution_count": 6,
   "metadata": {},
   "outputs": [
    {
     "data": {
      "text/plain": [
       "{'created_at': 'Tue Nov 05 12:08:20 +0000 2019',\n",
       " 'id': 1191688698083135488,\n",
       " 'id_str': '1191688698083135488',\n",
       " 'text': 'RT @thiago_p: A @Anitta zerou o Halloween vestida de Elvira https://t.co/7blhx1HoAJ',\n",
       " 'truncated': False,\n",
       " 'entities': {'hashtags': [],\n",
       "  'symbols': [],\n",
       "  'user_mentions': [{'screen_name': 'thiago_p',\n",
       "    'name': 'Thiago Pasqualotto',\n",
       "    'id': 16033602,\n",
       "    'id_str': '16033602',\n",
       "    'indices': [3, 12]},\n",
       "   {'screen_name': 'Anitta',\n",
       "    'name': 'Anitta',\n",
       "    'id': 141817380,\n",
       "    'id_str': '141817380',\n",
       "    'indices': [16, 23]}],\n",
       "  'urls': [],\n",
       "  'media': [{'id': 1189724896542281734,\n",
       "    'id_str': '1189724896542281734',\n",
       "    'indices': [60, 83],\n",
       "    'media_url': 'http://pbs.twimg.com/media/EILAfW7XUAYBSNN.jpg',\n",
       "    'media_url_https': 'https://pbs.twimg.com/media/EILAfW7XUAYBSNN.jpg',\n",
       "    'url': 'https://t.co/7blhx1HoAJ',\n",
       "    'display_url': 'pic.twitter.com/7blhx1HoAJ',\n",
       "    'expanded_url': 'https://twitter.com/thiago_p/status/1189724903186030593/photo/1',\n",
       "    'type': 'photo',\n",
       "    'sizes': {'thumb': {'w': 150, 'h': 150, 'resize': 'crop'},\n",
       "     'large': {'w': 1241, 'h': 1775, 'resize': 'fit'},\n",
       "     'medium': {'w': 839, 'h': 1200, 'resize': 'fit'},\n",
       "     'small': {'w': 475, 'h': 680, 'resize': 'fit'}},\n",
       "    'source_status_id': 1189724903186030593,\n",
       "    'source_status_id_str': '1189724903186030593',\n",
       "    'source_user_id': 16033602,\n",
       "    'source_user_id_str': '16033602'}]},\n",
       " 'extended_entities': {'media': [{'id': 1189724896542281734,\n",
       "    'id_str': '1189724896542281734',\n",
       "    'indices': [60, 83],\n",
       "    'media_url': 'http://pbs.twimg.com/media/EILAfW7XUAYBSNN.jpg',\n",
       "    'media_url_https': 'https://pbs.twimg.com/media/EILAfW7XUAYBSNN.jpg',\n",
       "    'url': 'https://t.co/7blhx1HoAJ',\n",
       "    'display_url': 'pic.twitter.com/7blhx1HoAJ',\n",
       "    'expanded_url': 'https://twitter.com/thiago_p/status/1189724903186030593/photo/1',\n",
       "    'type': 'photo',\n",
       "    'sizes': {'thumb': {'w': 150, 'h': 150, 'resize': 'crop'},\n",
       "     'large': {'w': 1241, 'h': 1775, 'resize': 'fit'},\n",
       "     'medium': {'w': 839, 'h': 1200, 'resize': 'fit'},\n",
       "     'small': {'w': 475, 'h': 680, 'resize': 'fit'}},\n",
       "    'source_status_id': 1189724903186030593,\n",
       "    'source_status_id_str': '1189724903186030593',\n",
       "    'source_user_id': 16033602,\n",
       "    'source_user_id_str': '16033602'},\n",
       "   {'id': 1189724896760385536,\n",
       "    'id_str': '1189724896760385536',\n",
       "    'indices': [60, 83],\n",
       "    'media_url': 'http://pbs.twimg.com/media/EILAfXvXUAA7S27.jpg',\n",
       "    'media_url_https': 'https://pbs.twimg.com/media/EILAfXvXUAA7S27.jpg',\n",
       "    'url': 'https://t.co/7blhx1HoAJ',\n",
       "    'display_url': 'pic.twitter.com/7blhx1HoAJ',\n",
       "    'expanded_url': 'https://twitter.com/thiago_p/status/1189724903186030593/photo/1',\n",
       "    'type': 'photo',\n",
       "    'sizes': {'thumb': {'w': 150, 'h': 150, 'resize': 'crop'},\n",
       "     'small': {'w': 445, 'h': 680, 'resize': 'fit'},\n",
       "     'large': {'w': 448, 'h': 684, 'resize': 'fit'},\n",
       "     'medium': {'w': 448, 'h': 684, 'resize': 'fit'}},\n",
       "    'source_status_id': 1189724903186030593,\n",
       "    'source_status_id_str': '1189724903186030593',\n",
       "    'source_user_id': 16033602,\n",
       "    'source_user_id_str': '16033602'}]},\n",
       " 'metadata': {'iso_language_code': 'es', 'result_type': 'recent'},\n",
       " 'source': '<a href=\"http://twitter.com/download/iphone\" rel=\"nofollow\">Twitter for iPhone</a>',\n",
       " 'in_reply_to_status_id': None,\n",
       " 'in_reply_to_status_id_str': None,\n",
       " 'in_reply_to_user_id': None,\n",
       " 'in_reply_to_user_id_str': None,\n",
       " 'in_reply_to_screen_name': None,\n",
       " 'user': {'id': 421019517,\n",
       "  'id_str': '421019517',\n",
       "  'name': 'Camila Barcelos',\n",
       "  'screen_name': 'camy_barcelos',\n",
       "  'location': 'Brasil',\n",
       "  'description': \"' be happy\",\n",
       "  'url': 'https://t.co/hoxqu4bCCk',\n",
       "  'entities': {'url': {'urls': [{'url': 'https://t.co/hoxqu4bCCk',\n",
       "      'expanded_url': 'https://www.facebook.com/camila.barcelos.9',\n",
       "      'display_url': 'facebook.com/camila.barcelo…',\n",
       "      'indices': [0, 23]}]},\n",
       "   'description': {'urls': []}},\n",
       "  'protected': False,\n",
       "  'followers_count': 64,\n",
       "  'friends_count': 102,\n",
       "  'listed_count': 3,\n",
       "  'created_at': 'Fri Nov 25 11:47:21 +0000 2011',\n",
       "  'favourites_count': 3118,\n",
       "  'utc_offset': None,\n",
       "  'time_zone': None,\n",
       "  'geo_enabled': False,\n",
       "  'verified': False,\n",
       "  'statuses_count': 937,\n",
       "  'lang': None,\n",
       "  'contributors_enabled': False,\n",
       "  'is_translator': False,\n",
       "  'is_translation_enabled': False,\n",
       "  'profile_background_color': '000000',\n",
       "  'profile_background_image_url': 'http://abs.twimg.com/images/themes/theme1/bg.png',\n",
       "  'profile_background_image_url_https': 'https://abs.twimg.com/images/themes/theme1/bg.png',\n",
       "  'profile_background_tile': False,\n",
       "  'profile_image_url': 'http://pbs.twimg.com/profile_images/1105958935503228928/OoQ3BLvT_normal.jpg',\n",
       "  'profile_image_url_https': 'https://pbs.twimg.com/profile_images/1105958935503228928/OoQ3BLvT_normal.jpg',\n",
       "  'profile_banner_url': 'https://pbs.twimg.com/profile_banners/421019517/1457698624',\n",
       "  'profile_link_color': 'F58EA8',\n",
       "  'profile_sidebar_border_color': '000000',\n",
       "  'profile_sidebar_fill_color': '000000',\n",
       "  'profile_text_color': '000000',\n",
       "  'profile_use_background_image': False,\n",
       "  'has_extended_profile': True,\n",
       "  'default_profile': False,\n",
       "  'default_profile_image': False,\n",
       "  'following': False,\n",
       "  'follow_request_sent': False,\n",
       "  'notifications': False,\n",
       "  'translator_type': 'none'},\n",
       " 'geo': None,\n",
       " 'coordinates': None,\n",
       " 'place': None,\n",
       " 'contributors': None,\n",
       " 'retweeted_status': {'created_at': 'Thu Oct 31 02:04:55 +0000 2019',\n",
       "  'id': 1189724903186030593,\n",
       "  'id_str': '1189724903186030593',\n",
       "  'text': 'A @Anitta zerou o Halloween vestida de Elvira https://t.co/7blhx1HoAJ',\n",
       "  'truncated': False,\n",
       "  'entities': {'hashtags': [],\n",
       "   'symbols': [],\n",
       "   'user_mentions': [{'screen_name': 'Anitta',\n",
       "     'name': 'Anitta',\n",
       "     'id': 141817380,\n",
       "     'id_str': '141817380',\n",
       "     'indices': [2, 9]}],\n",
       "   'urls': [],\n",
       "   'media': [{'id': 1189724896542281734,\n",
       "     'id_str': '1189724896542281734',\n",
       "     'indices': [46, 69],\n",
       "     'media_url': 'http://pbs.twimg.com/media/EILAfW7XUAYBSNN.jpg',\n",
       "     'media_url_https': 'https://pbs.twimg.com/media/EILAfW7XUAYBSNN.jpg',\n",
       "     'url': 'https://t.co/7blhx1HoAJ',\n",
       "     'display_url': 'pic.twitter.com/7blhx1HoAJ',\n",
       "     'expanded_url': 'https://twitter.com/thiago_p/status/1189724903186030593/photo/1',\n",
       "     'type': 'photo',\n",
       "     'sizes': {'thumb': {'w': 150, 'h': 150, 'resize': 'crop'},\n",
       "      'large': {'w': 1241, 'h': 1775, 'resize': 'fit'},\n",
       "      'medium': {'w': 839, 'h': 1200, 'resize': 'fit'},\n",
       "      'small': {'w': 475, 'h': 680, 'resize': 'fit'}}}]},\n",
       "  'extended_entities': {'media': [{'id': 1189724896542281734,\n",
       "     'id_str': '1189724896542281734',\n",
       "     'indices': [46, 69],\n",
       "     'media_url': 'http://pbs.twimg.com/media/EILAfW7XUAYBSNN.jpg',\n",
       "     'media_url_https': 'https://pbs.twimg.com/media/EILAfW7XUAYBSNN.jpg',\n",
       "     'url': 'https://t.co/7blhx1HoAJ',\n",
       "     'display_url': 'pic.twitter.com/7blhx1HoAJ',\n",
       "     'expanded_url': 'https://twitter.com/thiago_p/status/1189724903186030593/photo/1',\n",
       "     'type': 'photo',\n",
       "     'sizes': {'thumb': {'w': 150, 'h': 150, 'resize': 'crop'},\n",
       "      'large': {'w': 1241, 'h': 1775, 'resize': 'fit'},\n",
       "      'medium': {'w': 839, 'h': 1200, 'resize': 'fit'},\n",
       "      'small': {'w': 475, 'h': 680, 'resize': 'fit'}}},\n",
       "    {'id': 1189724896760385536,\n",
       "     'id_str': '1189724896760385536',\n",
       "     'indices': [46, 69],\n",
       "     'media_url': 'http://pbs.twimg.com/media/EILAfXvXUAA7S27.jpg',\n",
       "     'media_url_https': 'https://pbs.twimg.com/media/EILAfXvXUAA7S27.jpg',\n",
       "     'url': 'https://t.co/7blhx1HoAJ',\n",
       "     'display_url': 'pic.twitter.com/7blhx1HoAJ',\n",
       "     'expanded_url': 'https://twitter.com/thiago_p/status/1189724903186030593/photo/1',\n",
       "     'type': 'photo',\n",
       "     'sizes': {'thumb': {'w': 150, 'h': 150, 'resize': 'crop'},\n",
       "      'small': {'w': 445, 'h': 680, 'resize': 'fit'},\n",
       "      'large': {'w': 448, 'h': 684, 'resize': 'fit'},\n",
       "      'medium': {'w': 448, 'h': 684, 'resize': 'fit'}}}]},\n",
       "  'metadata': {'iso_language_code': 'es', 'result_type': 'recent'},\n",
       "  'source': '<a href=\"http://twitter.com/download/iphone\" rel=\"nofollow\">Twitter for iPhone</a>',\n",
       "  'in_reply_to_status_id': None,\n",
       "  'in_reply_to_status_id_str': None,\n",
       "  'in_reply_to_user_id': None,\n",
       "  'in_reply_to_user_id_str': None,\n",
       "  'in_reply_to_screen_name': None,\n",
       "  'user': {'id': 16033602,\n",
       "   'id_str': '16033602',\n",
       "   'name': 'Thiago Pasqualotto',\n",
       "   'screen_name': 'thiago_p',\n",
       "   'location': 'São Paulo, Brasil',\n",
       "   'description': '🎤 Apresentador 💻 Morri de Sunga Branca. ✍️ Roteirista. 🤙 Adepto de zoeira e ironias. 💌 contato profissional: thpasqualotto@gmail.com',\n",
       "   'url': 'https://t.co/8kF5WTdECy',\n",
       "   'entities': {'url': {'urls': [{'url': 'https://t.co/8kF5WTdECy',\n",
       "       'expanded_url': 'http://www.instagram.com/thiago_p/',\n",
       "       'display_url': 'instagram.com/thiago_p/',\n",
       "       'indices': [0, 23]}]},\n",
       "    'description': {'urls': []}},\n",
       "   'protected': False,\n",
       "   'followers_count': 793184,\n",
       "   'friends_count': 646,\n",
       "   'listed_count': 1025,\n",
       "   'created_at': 'Thu Aug 28 22:09:25 +0000 2008',\n",
       "   'favourites_count': 12089,\n",
       "   'utc_offset': None,\n",
       "   'time_zone': None,\n",
       "   'geo_enabled': True,\n",
       "   'verified': True,\n",
       "   'statuses_count': 116745,\n",
       "   'lang': None,\n",
       "   'contributors_enabled': False,\n",
       "   'is_translator': False,\n",
       "   'is_translation_enabled': False,\n",
       "   'profile_background_color': '0099B9',\n",
       "   'profile_background_image_url': 'http://abs.twimg.com/images/themes/theme4/bg.gif',\n",
       "   'profile_background_image_url_https': 'https://abs.twimg.com/images/themes/theme4/bg.gif',\n",
       "   'profile_background_tile': True,\n",
       "   'profile_image_url': 'http://pbs.twimg.com/profile_images/1186971223487602688/U-9TopLX_normal.jpg',\n",
       "   'profile_image_url_https': 'https://pbs.twimg.com/profile_images/1186971223487602688/U-9TopLX_normal.jpg',\n",
       "   'profile_banner_url': 'https://pbs.twimg.com/profile_banners/16033602/1571587981',\n",
       "   'profile_link_color': 'FAB81E',\n",
       "   'profile_sidebar_border_color': 'FFFFFF',\n",
       "   'profile_sidebar_fill_color': '95E8EC',\n",
       "   'profile_text_color': '3C3940',\n",
       "   'profile_use_background_image': True,\n",
       "   'has_extended_profile': True,\n",
       "   'default_profile': False,\n",
       "   'default_profile_image': False,\n",
       "   'following': False,\n",
       "   'follow_request_sent': False,\n",
       "   'notifications': False,\n",
       "   'translator_type': 'none'},\n",
       "  'geo': None,\n",
       "  'coordinates': None,\n",
       "  'place': None,\n",
       "  'contributors': None,\n",
       "  'is_quote_status': False,\n",
       "  'retweet_count': 404,\n",
       "  'favorite_count': 3640,\n",
       "  'favorited': False,\n",
       "  'retweeted': False,\n",
       "  'possibly_sensitive': False,\n",
       "  'lang': 'es'},\n",
       " 'is_quote_status': False,\n",
       " 'retweet_count': 404,\n",
       " 'favorite_count': 0,\n",
       " 'favorited': False,\n",
       " 'retweeted': False,\n",
       " 'possibly_sensitive': False,\n",
       " 'lang': 'es'}"
      ]
     },
     "execution_count": 6,
     "metadata": {},
     "output_type": "execute_result"
    }
   ],
   "source": [
    "result[0]"
   ]
  },
  {
   "cell_type": "code",
   "execution_count": 7,
   "metadata": {},
   "outputs": [
    {
     "data": {
      "text/plain": [
       "1090"
      ]
     },
     "execution_count": 7,
     "metadata": {},
     "output_type": "execute_result"
    }
   ],
   "source": [
    "len(result)"
   ]
  },
  {
   "cell_type": "code",
   "execution_count": 8,
   "metadata": {},
   "outputs": [
    {
     "name": "stdout",
     "output_type": "stream",
     "text": [
      "capturando  1091  tweets...\n",
      "Numero de tweets capturados:  1091\n"
     ]
    }
   ],
   "source": [
    "q = 'petrobras'\n",
    "q = 'sarampo'\n",
    "q = '#IveteSangaloNoTVZ'\n",
    "q = '#AbortoÉCrime'\n",
    "q = 'neymar'\n",
    "q = 'Anitta'\n",
    "\n",
    "twitter_api = oauth_login()\n",
    "results = []\n",
    "for i in range(1):\n",
    "    result = twitter_search(twitter_api, q, max_results=1000)\n",
    "    print ('capturando ', len(result),' tweets...')\n",
    "    results.extend(result) # junçao de 2 lstas\n",
    "    #results += result\n",
    "#print(type(result))\n",
    "#print(type(results))\n",
    "print(\"Numero de tweets capturados: \", len(results))\n",
    "\n",
    "#results = twitter_search(twitter_api, q, max_results=1000)\n",
    "#save_to_mongo(results, 'tweets', q)"
   ]
  },
  {
   "cell_type": "code",
   "execution_count": 9,
   "metadata": {},
   "outputs": [
    {
     "data": {
      "text/plain": [
       "{'created_at': 'Tue Nov 05 12:08:12 +0000 2019',\n",
       " 'id': 1191688664335683590,\n",
       " 'id_str': '1191688664335683590',\n",
       " 'text': 'Ele é pai mt responsável por sinal, pra aceitar gravar qualquer porcaria....\\nMitou se recusando a ir em programa na… https://t.co/0jK68vLl7U',\n",
       " 'truncated': True,\n",
       " 'entities': {'hashtags': [],\n",
       "  'symbols': [],\n",
       "  'user_mentions': [],\n",
       "  'urls': [{'url': 'https://t.co/0jK68vLl7U',\n",
       "    'expanded_url': 'https://twitter.com/i/web/status/1191688664335683590',\n",
       "    'display_url': 'twitter.com/i/web/status/1…',\n",
       "    'indices': [117, 140]}]},\n",
       " 'metadata': {'iso_language_code': 'pt', 'result_type': 'recent'},\n",
       " 'source': '<a href=\"http://www.facebook.com/twitter\" rel=\"nofollow\">Facebook</a>',\n",
       " 'in_reply_to_status_id': None,\n",
       " 'in_reply_to_status_id_str': None,\n",
       " 'in_reply_to_user_id': None,\n",
       " 'in_reply_to_user_id_str': None,\n",
       " 'in_reply_to_screen_name': None,\n",
       " 'user': {'id': 297156678,\n",
       "  'id_str': '297156678',\n",
       "  'name': 'Paula Magela Rocha',\n",
       "  'screen_name': 'Paula_Magela',\n",
       "  'location': 'Brasiiiil',\n",
       "  'description': '',\n",
       "  'url': None,\n",
       "  'entities': {'description': {'urls': []}},\n",
       "  'protected': False,\n",
       "  'followers_count': 47,\n",
       "  'friends_count': 101,\n",
       "  'listed_count': 0,\n",
       "  'created_at': 'Thu May 12 01:25:22 +0000 2011',\n",
       "  'favourites_count': 77,\n",
       "  'utc_offset': None,\n",
       "  'time_zone': None,\n",
       "  'geo_enabled': False,\n",
       "  'verified': False,\n",
       "  'statuses_count': 15416,\n",
       "  'lang': None,\n",
       "  'contributors_enabled': False,\n",
       "  'is_translator': False,\n",
       "  'is_translation_enabled': False,\n",
       "  'profile_background_color': '642D8B',\n",
       "  'profile_background_image_url': 'http://abs.twimg.com/images/themes/theme10/bg.gif',\n",
       "  'profile_background_image_url_https': 'https://abs.twimg.com/images/themes/theme10/bg.gif',\n",
       "  'profile_background_tile': True,\n",
       "  'profile_image_url': 'http://pbs.twimg.com/profile_images/1159870018563334144/yhy_2ina_normal.jpg',\n",
       "  'profile_image_url_https': 'https://pbs.twimg.com/profile_images/1159870018563334144/yhy_2ina_normal.jpg',\n",
       "  'profile_banner_url': 'https://pbs.twimg.com/profile_banners/297156678/1568147794',\n",
       "  'profile_link_color': 'FF0000',\n",
       "  'profile_sidebar_border_color': '65B0DA',\n",
       "  'profile_sidebar_fill_color': '7AC3EE',\n",
       "  'profile_text_color': '3D1957',\n",
       "  'profile_use_background_image': True,\n",
       "  'has_extended_profile': False,\n",
       "  'default_profile': False,\n",
       "  'default_profile_image': False,\n",
       "  'following': False,\n",
       "  'follow_request_sent': False,\n",
       "  'notifications': False,\n",
       "  'translator_type': 'none'},\n",
       " 'geo': None,\n",
       " 'coordinates': None,\n",
       " 'place': None,\n",
       " 'contributors': None,\n",
       " 'is_quote_status': False,\n",
       " 'retweet_count': 0,\n",
       " 'favorite_count': 0,\n",
       " 'favorited': False,\n",
       " 'retweeted': False,\n",
       " 'possibly_sensitive': False,\n",
       " 'lang': 'pt'}"
      ]
     },
     "execution_count": 9,
     "metadata": {},
     "output_type": "execute_result"
    }
   ],
   "source": [
    "results[2] "
   ]
  },
  {
   "cell_type": "code",
   "execution_count": 10,
   "metadata": {},
   "outputs": [
    {
     "data": {
      "text/plain": [
       "'Tue Nov 05 12:08:20 +0000 2019'"
      ]
     },
     "execution_count": 10,
     "metadata": {},
     "output_type": "execute_result"
    }
   ],
   "source": [
    "results[1]['created_at']"
   ]
  },
  {
   "cell_type": "code",
   "execution_count": 11,
   "metadata": {},
   "outputs": [
    {
     "data": {
      "text/plain": [
       "'es'"
      ]
     },
     "execution_count": 11,
     "metadata": {},
     "output_type": "execute_result"
    }
   ],
   "source": [
    "results[1]['metadata']['iso_language_code']"
   ]
  },
  {
   "cell_type": "code",
   "execution_count": 12,
   "metadata": {},
   "outputs": [
    {
     "data": {
      "text/plain": [
       "1091"
      ]
     },
     "execution_count": 12,
     "metadata": {},
     "output_type": "execute_result"
    }
   ],
   "source": [
    "len(results)"
   ]
  },
  {
   "cell_type": "markdown",
   "metadata": {},
   "source": [
    "## imprimindo tweets"
   ]
  },
  {
   "cell_type": "code",
   "execution_count": 13,
   "metadata": {},
   "outputs": [
    {
     "name": "stdout",
     "output_type": "stream",
     "text": [
      "@SolteiroPolis @Anitta @Ludmilla @pabllovittar é exatamente pra eles esse recado\n",
      "RT @thiago_p: A @Anitta zerou o Halloween vestida de Elvira https://t.co/7blhx1HoAJ\n",
      "Ele é pai mt responsável por sinal, pra aceitar gravar qualquer porcaria....\n",
      "Mitou se recusando a ir em programa na… https://t.co/0jK68vLl7U\n",
      "Os fãs da Anitta acham que ela criou a divulgação na gringa com Sim ou Não, kkk.\n",
      "\n",
      "João Gilberto e Roberto Carlos te… https://t.co/btHK8jeSVm\n",
      "@anitta https://t.co/ORvlpa6c37\n",
      "RT @AcessoAnittaR: \"Levante-se e brilhe\" — Anitta via Instagram. https://t.co/aHiligMbG5\n",
      "RT @anittaisfuego: Anitta repostou esse vídeo no ig só posso dizer que escolhi a artista certa pra amar,exemplo de determinação por que nad…\n",
      "@bixa_e @AnittaRexha @Anitta @Ludmilla @pabllovittar Acha a pq to falando de fankeiras sou viado k kk kkk \n",
      "Acorda,… https://t.co/0DCIshFHbt\n",
      "@sempacienciaoh @AnittaDailyC @Anitta @MariliaMReal Kkk to nelvosaaaaa\n",
      "saudades da anitta com a lorena eu me acabava de rir\n",
      "📊 | \"Some Que ele Vem atrás\" — de @Anitta &amp; @MariliaMReal — Supera los 6 millones de Visitas en Youtube.\n",
      "\n",
      "• Videocl… https://t.co/ZgHk9vtZFk\n"
     ]
    }
   ],
   "source": [
    "#result = results\n",
    "i = 0\n",
    "for tweet in results:\n",
    "    #print(tweet['place'], tweet['created_at'], ' >> ', tweet['text'] , \" >> \", )\n",
    "    print(tweet['text'])\n",
    "    i += 1\n",
    "    if i > 10:\n",
    "          break"
   ]
  },
  {
   "cell_type": "markdown",
   "metadata": {},
   "source": [
    "## Nuvem de Palavras - tweet"
   ]
  },
  {
   "cell_type": "markdown",
   "metadata": {},
   "source": [
    "### Stopwords"
   ]
  },
  {
   "cell_type": "code",
   "execution_count": 14,
   "metadata": {},
   "outputs": [],
   "source": [
    "# instalando o módulo de stopwords\n",
    "#!pip install stop-words\n",
    "results = result"
   ]
  },
  {
   "cell_type": "code",
   "execution_count": 15,
   "metadata": {},
   "outputs": [
    {
     "name": "stdout",
     "output_type": "stream",
     "text": [
      "['a', 'about', 'above', 'after', 'again', 'against', 'all', 'am', 'an', 'and']\n",
      "['tém', 'tínhamos', 'um', 'uma', 'você', 'vocês', 'vos', 'à', 'às', 'éramos']\n",
      "174\n",
      "203\n"
     ]
    }
   ],
   "source": [
    "from stop_words import get_stop_words\n",
    "stop_words_english = get_stop_words('en')\n",
    "#stop_words\n",
    "stop_words_portugues = get_stop_words('pt')\n",
    "#stop_words_portugues\n",
    "stop_words = stop_words_english + stop_words_portugues\n",
    "print(stop_words[:10])\n",
    "print(stop_words[-10:])\n",
    "print(len(stop_words_english))\n",
    "print(len(stop_words_portugues))"
   ]
  },
  {
   "cell_type": "code",
   "execution_count": 16,
   "metadata": {},
   "outputs": [],
   "source": [
    "#!pip install wordcloud"
   ]
  },
  {
   "cell_type": "code",
   "execution_count": 17,
   "metadata": {},
   "outputs": [
    {
     "name": "stdout",
     "output_type": "stream",
     "text": [
      "94388\n"
     ]
    },
    {
     "data": {
      "text/plain": [
       "<Figure size 2000x1000 with 1 Axes>"
      ]
     },
     "metadata": {},
     "output_type": "display_data"
    },
    {
     "data": {
      "text/plain": [
       "<Figure size 2000x1000 with 1 Axes>"
      ]
     },
     "metadata": {},
     "output_type": "display_data"
    }
   ],
   "source": [
    "# nuvem de palavras\n",
    "from wordcloud import WordCloud, STOPWORDS\n",
    "import re\n",
    "\n",
    "stext = \"\"\n",
    "for tweet in result:\n",
    "    if 'text' in tweet:\n",
    "        stext = stext + tweet['text']\n",
    "stext = stext.lower() # colocar para minúsculas\n",
    "\n",
    "# retirando pontuações e outros caracteres não relevantes\n",
    "stext = \"\".join([i for i in stext if ord(i)<128])\n",
    "stext = stext.replace(\"http://\",\"\")\n",
    "stext = stext.replace(\"https://\",\"\")\n",
    "stext = stext.replace(\"https\",\"\")\n",
    "stext = stext.replace(\",\",\"\")\n",
    "stext = stext.replace(\".\",\"\")\n",
    "stext = stext.replace(\"?\",\"\")\n",
    "stext = stext.replace(\"!\",\"\")\n",
    "stext = stext.replace(\"#\",\"\")\n",
    "stext = stext.replace(\"@\",\"\")\n",
    "stext = stext.replace(\"'\",\"\")\n",
    "stext = stext.replace(\"-\",\"\")\n",
    "stext = stext.replace(\"3\",\"\")\n",
    "stext = stext.replace(\"&amp;\",\"\")\n",
    "stext = stext.replace(\"|\",\"\")\n",
    "\n",
    "\n",
    "\n",
    "# retirando as stopwords dos tweets\n",
    "for word in stop_words:\n",
    "    my_regex = r\"\\b(?=\\w)\" + re.escape(word) + r\"\\b(?!\\w)\"\n",
    "    stext = re.sub(my_regex,\"\" ,stext)\n",
    "\n",
    "print(len(stext))\n",
    "\n",
    "\n",
    "# Generate a word cloud image\n",
    "wordcloud = WordCloud().generate(stext)\n",
    "\n",
    "# Display the generated image:\n",
    "# the matplotlib way:\n",
    "import matplotlib.pyplot as plt\n",
    "plt.figure(figsize=(20,10))\n",
    "plt.imshow(wordcloud, interpolation='bilinear')\n",
    "plt.axis(\"off\")\n",
    "\n",
    "# lower max_font_size\n",
    "wordcloud = WordCloud(max_font_size=40).generate(stext)\n",
    "plt.figure(figsize=(20,10))\n",
    "plt.imshow(wordcloud, interpolation=\"bilinear\")\n",
    "plt.axis(\"off\")\n",
    "plt.show()"
   ]
  },
  {
   "cell_type": "markdown",
   "metadata": {},
   "source": [
    "## Estatistica de contagem de palavras"
   ]
  },
  {
   "cell_type": "code",
   "execution_count": 18,
   "metadata": {},
   "outputs": [],
   "source": [
    "words = stext.split()"
   ]
  },
  {
   "cell_type": "code",
   "execution_count": 19,
   "metadata": {},
   "outputs": [
    {
     "name": "stdout",
     "output_type": "stream",
     "text": [
      "anitta\n",
      "la\n",
      "vem\n",
      "acessoanittar:\n",
      "msica\n",
      "parceria\n",
      "anitta:\n",
      "cantora\n",
      "roslia\n",
      "stories\n",
      "lourdiz\n",
      "nova\n",
      "pra\n",
      "atrs\n",
      "j\n",
      "mostram\n",
      "vocais\n",
      "cano\n",
      ":\n",
      "novos\n",
      "sonhada\n",
      "del\n",
      "mundo\n",
      "pabllo\n",
      "mariliamreal\n",
      "bem\n",
      "favela\n",
      "conquista\n",
      "melhor\n",
      "clarincom:\n",
      "anittadailyc:\n",
      "fez\n",
      "dormir\n",
      "s\n",
      "\"\n",
      "finalmente\n",
      "vou\n",
      "duart\n",
      "vnoliveiraa_:\n",
      "paranias:\n"
     ]
    }
   ],
   "source": [
    "from collections import Counter\n",
    "\n",
    "c = Counter(words)\n",
    "#print (c.most_common()[:30])\n",
    "most_common = c.most_common()[:40]\n",
    "\n",
    "for i in most_common:\n",
    "    print (i[0])\n",
    "#for item in words:  #[words, screen_names, hashtags]:\n",
    "#    c = Counter(item)\n",
    "#    print (c.most_common()[:20]) # top 10\n",
    "#    print "
   ]
  },
  {
   "cell_type": "code",
   "execution_count": 20,
   "metadata": {},
   "outputs": [
    {
     "name": "stdout",
     "output_type": "stream",
     "text": [
      "('hitzteria', 1)\n",
      "('made', 1)\n",
      "('louis_tomlinson', 1)\n",
      "('semesta', 1)\n",
      "('ragu', 1)\n",
      "('isyanasarasvati', 1)\n",
      "('anittalistenup', 1)\n",
      "('tco/qmwmqbpicjrt', 1)\n",
      "('di', 1)\n",
      "('makara', 1)\n",
      "('olacakm;', 1)\n",
      "('suresi', 1)\n",
      "('bakara', 2)\n",
      "('antta', 1)\n",
      "('yaplyormu', 1)\n"
     ]
    }
   ],
   "source": [
    "for i in range(15):\n",
    "    print (c.popitem())"
   ]
  },
  {
   "cell_type": "markdown",
   "metadata": {},
   "source": [
    "## colocando as palavras e suas frequencias do twitter num dataframe"
   ]
  },
  {
   "cell_type": "code",
   "execution_count": 21,
   "metadata": {},
   "outputs": [
    {
     "data": {
      "text/html": [
       "<div>\n",
       "<style scoped>\n",
       "    .dataframe tbody tr th:only-of-type {\n",
       "        vertical-align: middle;\n",
       "    }\n",
       "\n",
       "    .dataframe tbody tr th {\n",
       "        vertical-align: top;\n",
       "    }\n",
       "\n",
       "    .dataframe thead th {\n",
       "        text-align: right;\n",
       "    }\n",
       "</style>\n",
       "<table border=\"1\" class=\"dataframe\">\n",
       "  <thead>\n",
       "    <tr style=\"text-align: right;\">\n",
       "      <th></th>\n",
       "      <th>Word</th>\n",
       "      <th>Frequency</th>\n",
       "    </tr>\n",
       "  </thead>\n",
       "  <tbody>\n",
       "    <tr>\n",
       "      <td>0</td>\n",
       "      <td>anitta</td>\n",
       "      <td>803</td>\n",
       "    </tr>\n",
       "    <tr>\n",
       "      <td>1</td>\n",
       "      <td>la</td>\n",
       "      <td>122</td>\n",
       "    </tr>\n",
       "    <tr>\n",
       "      <td>2</td>\n",
       "      <td>vem</td>\n",
       "      <td>106</td>\n",
       "    </tr>\n",
       "    <tr>\n",
       "      <td>3</td>\n",
       "      <td>acessoanittar:</td>\n",
       "      <td>92</td>\n",
       "    </tr>\n",
       "    <tr>\n",
       "      <td>4</td>\n",
       "      <td>msica</td>\n",
       "      <td>89</td>\n",
       "    </tr>\n",
       "    <tr>\n",
       "      <td>5</td>\n",
       "      <td>parceria</td>\n",
       "      <td>84</td>\n",
       "    </tr>\n",
       "    <tr>\n",
       "      <td>6</td>\n",
       "      <td>anitta:</td>\n",
       "      <td>83</td>\n",
       "    </tr>\n",
       "    <tr>\n",
       "      <td>7</td>\n",
       "      <td>cantora</td>\n",
       "      <td>81</td>\n",
       "    </tr>\n",
       "    <tr>\n",
       "      <td>8</td>\n",
       "      <td>roslia</td>\n",
       "      <td>74</td>\n",
       "    </tr>\n",
       "    <tr>\n",
       "      <td>9</td>\n",
       "      <td>stories</td>\n",
       "      <td>72</td>\n",
       "    </tr>\n",
       "    <tr>\n",
       "      <td>10</td>\n",
       "      <td>lourdiz</td>\n",
       "      <td>71</td>\n",
       "    </tr>\n",
       "    <tr>\n",
       "      <td>11</td>\n",
       "      <td>nova</td>\n",
       "      <td>69</td>\n",
       "    </tr>\n",
       "    <tr>\n",
       "      <td>12</td>\n",
       "      <td>pra</td>\n",
       "      <td>64</td>\n",
       "    </tr>\n",
       "    <tr>\n",
       "      <td>13</td>\n",
       "      <td>atrs</td>\n",
       "      <td>63</td>\n",
       "    </tr>\n",
       "    <tr>\n",
       "      <td>14</td>\n",
       "      <td>j</td>\n",
       "      <td>57</td>\n",
       "    </tr>\n",
       "    <tr>\n",
       "      <td>15</td>\n",
       "      <td>mostram</td>\n",
       "      <td>57</td>\n",
       "    </tr>\n",
       "    <tr>\n",
       "      <td>16</td>\n",
       "      <td>vocais</td>\n",
       "      <td>57</td>\n",
       "    </tr>\n",
       "    <tr>\n",
       "      <td>17</td>\n",
       "      <td>cano</td>\n",
       "      <td>57</td>\n",
       "    </tr>\n",
       "    <tr>\n",
       "      <td>18</td>\n",
       "      <td>:</td>\n",
       "      <td>56</td>\n",
       "    </tr>\n",
       "    <tr>\n",
       "      <td>19</td>\n",
       "      <td>novos</td>\n",
       "      <td>56</td>\n",
       "    </tr>\n",
       "    <tr>\n",
       "      <td>20</td>\n",
       "      <td>sonhada</td>\n",
       "      <td>56</td>\n",
       "    </tr>\n",
       "    <tr>\n",
       "      <td>21</td>\n",
       "      <td>del</td>\n",
       "      <td>55</td>\n",
       "    </tr>\n",
       "    <tr>\n",
       "      <td>22</td>\n",
       "      <td>mundo</td>\n",
       "      <td>54</td>\n",
       "    </tr>\n",
       "    <tr>\n",
       "      <td>23</td>\n",
       "      <td>pabllo</td>\n",
       "      <td>51</td>\n",
       "    </tr>\n",
       "    <tr>\n",
       "      <td>24</td>\n",
       "      <td>mariliamreal</td>\n",
       "      <td>50</td>\n",
       "    </tr>\n",
       "  </tbody>\n",
       "</table>\n",
       "</div>"
      ],
      "text/plain": [
       "              Word  Frequency\n",
       "0           anitta        803\n",
       "1               la        122\n",
       "2              vem        106\n",
       "3   acessoanittar:         92\n",
       "4            msica         89\n",
       "5         parceria         84\n",
       "6          anitta:         83\n",
       "7          cantora         81\n",
       "8           roslia         74\n",
       "9          stories         72\n",
       "10         lourdiz         71\n",
       "11            nova         69\n",
       "12             pra         64\n",
       "13            atrs         63\n",
       "14               j         57\n",
       "15         mostram         57\n",
       "16          vocais         57\n",
       "17            cano         57\n",
       "18               :         56\n",
       "19           novos         56\n",
       "20         sonhada         56\n",
       "21             del         55\n",
       "22           mundo         54\n",
       "23          pabllo         51\n",
       "24    mariliamreal         50"
      ]
     },
     "execution_count": 21,
     "metadata": {},
     "output_type": "execute_result"
    }
   ],
   "source": [
    "import pandas as pd\n",
    "df = pd.DataFrame(([word, freq] for word, freq in most_common), columns=['Word', 'Frequency'])\n",
    "df[:25]"
   ]
  },
  {
   "cell_type": "code",
   "execution_count": 22,
   "metadata": {},
   "outputs": [
    {
     "data": {
      "image/png": "[encoded data removed]",
      "text/plain": [
       "<Figure size 1080x720 with 1 Axes>"
      ]
     },
     "metadata": {
      "needs_background": "light"
     },
     "output_type": "display_data"
    }
   ],
   "source": [
    "import matplotlib.pyplot as plt\n",
    "import seaborn as sns\n",
    "%matplotlib inline\n",
    "\n",
    "fig = plt.figure(figsize=(15,10))\n",
    "fig.add_subplot(1,1,1)\n",
    "\n",
    "df2 = df[:25]\n",
    "\n",
    "ax = sns.barplot(y='Word', x = 'Frequency', data=df2, palette=\"Set3\" )\n",
    "#sns.despine()\n",
    "ax.set(xlabel='Tweets words frequency', ylabel='Word')\n",
    "#ax.set(xticks=range(1, 9), xticklabels=list([10,20,30,40,50,60,70,80,90]))\n",
    "\n",
    "#ax.set(xticklabels=list(range(0,90,10)))\n",
    "#plt.figure(figsize=(20,10))\n",
    "\n",
    "ax.axes.set_title(\"Tweets words frequency\",fontsize=40)\n",
    "ax.set_xlabel(\"Frequency\",fontsize=26)\n",
    "ax.set_ylabel(\"Word\",fontsize=20)\n",
    "ax.tick_params(labelsize=15)\n",
    "#sns.plt.show()\n",
    "plt.show()"
   ]
  },
  {
   "cell_type": "markdown",
   "metadata": {},
   "source": [
    "## achar os países de onde foram gerados os tweets"
   ]
  },
  {
   "cell_type": "code",
   "execution_count": 23,
   "metadata": {},
   "outputs": [
    {
     "name": "stdout",
     "output_type": "stream",
     "text": [
      "2\n",
      "{'Brazil', 'Ireland'}\n"
     ]
    }
   ],
   "source": [
    "place = []\n",
    "for result in results:\n",
    "    if 'place'in result and result['place']:\n",
    "        place.append(result['place']['country'])\n",
    "place = set(place)\n",
    "print(len(place) )\n",
    "print(place)"
   ]
  },
  {
   "cell_type": "code",
   "execution_count": 24,
   "metadata": {},
   "outputs": [
    {
     "data": {
      "text/plain": [
       "347"
      ]
     },
     "execution_count": 24,
     "metadata": {},
     "output_type": "execute_result"
    }
   ],
   "source": [
    "# cidades\n",
    "place = []\n",
    "for result in results:\n",
    "    if 'user'  in result:\n",
    "        place.append(result['user']['location'])\n",
    "location = set(place)\n",
    "len(location)"
   ]
  },
  {
   "cell_type": "code",
   "execution_count": 25,
   "metadata": {},
   "outputs": [
    {
     "name": "stdout",
     "output_type": "stream",
     "text": [
      "\n",
      "Illuminate\n",
      "Marco de Canaveses, Portugal\n",
      "Vila Velha,Es\n",
      "Angra dos Reis, Brasil   \n",
      "São Caetano do Sul, Brasil\n",
      "Acari, Rio de Janeiro\n",
      "Somewhere. LOST \n",
      "Braga\n",
      "WORLDWIDE\n",
      "Setor Norte - Maracanã \n",
      "Duque de Caxias, Brasil\n",
      "Brazil - Rio De Janeiro\n",
      "Tocantinópolis, Brasil\n",
      "Casa Nova, Brasil\n"
     ]
    }
   ],
   "source": [
    "for i in range(15):\n",
    "    print(location.pop())"
   ]
  },
  {
   "cell_type": "markdown",
   "metadata": {},
   "source": [
    "## contar a ocorrencia de cada cidade"
   ]
  },
  {
   "cell_type": "code",
   "execution_count": 26,
   "metadata": {},
   "outputs": [],
   "source": [
    "from collections import Counter\n",
    "\n",
    "c = Counter(location)\n",
    "#print(c)\n",
    "cidades = c.items()"
   ]
  },
  {
   "cell_type": "markdown",
   "metadata": {},
   "source": [
    "## colocando as cidades, frequencia num dataframe e salvando no excel"
   ]
  },
  {
   "cell_type": "code",
   "execution_count": 27,
   "metadata": {},
   "outputs": [
    {
     "data": {
      "text/html": [
       "<div>\n",
       "<style scoped>\n",
       "    .dataframe tbody tr th:only-of-type {\n",
       "        vertical-align: middle;\n",
       "    }\n",
       "\n",
       "    .dataframe tbody tr th {\n",
       "        vertical-align: top;\n",
       "    }\n",
       "\n",
       "    .dataframe thead th {\n",
       "        text-align: right;\n",
       "    }\n",
       "</style>\n",
       "<table border=\"1\" class=\"dataframe\">\n",
       "  <thead>\n",
       "    <tr style=\"text-align: right;\">\n",
       "      <th></th>\n",
       "      <th>city</th>\n",
       "      <th>frequency</th>\n",
       "    </tr>\n",
       "  </thead>\n",
       "  <tbody>\n",
       "    <tr>\n",
       "      <td>0</td>\n",
       "      <td>São Miguel, São Paulo</td>\n",
       "      <td>1</td>\n",
       "    </tr>\n",
       "    <tr>\n",
       "      <td>1</td>\n",
       "      <td>Goiânia, Brasil</td>\n",
       "      <td>1</td>\n",
       "    </tr>\n",
       "    <tr>\n",
       "      <td>2</td>\n",
       "      <td>Amsterdam</td>\n",
       "      <td>1</td>\n",
       "    </tr>\n",
       "    <tr>\n",
       "      <td>3</td>\n",
       "      <td>Pé de Serra, Brasil</td>\n",
       "      <td>1</td>\n",
       "    </tr>\n",
       "    <tr>\n",
       "      <td>4</td>\n",
       "      <td>they/she • xxi • ♊</td>\n",
       "      <td>1</td>\n",
       "    </tr>\n",
       "    <tr>\n",
       "      <td>5</td>\n",
       "      <td>Distrito Federal, Brasil</td>\n",
       "      <td>1</td>\n",
       "    </tr>\n",
       "    <tr>\n",
       "      <td>6</td>\n",
       "      <td>Porto, Portugal</td>\n",
       "      <td>1</td>\n",
       "    </tr>\n",
       "    <tr>\n",
       "      <td>7</td>\n",
       "      <td>Porto Alegre, RS.</td>\n",
       "      <td>1</td>\n",
       "    </tr>\n",
       "    <tr>\n",
       "      <td>8</td>\n",
       "      <td>Portimão, Portugal</td>\n",
       "      <td>1</td>\n",
       "    </tr>\n",
       "    <tr>\n",
       "      <td>9</td>\n",
       "      <td>Niterói, Rio de Janeiro</td>\n",
       "      <td>1</td>\n",
       "    </tr>\n",
       "    <tr>\n",
       "      <td>10</td>\n",
       "      <td>Goiatuba, Brasil</td>\n",
       "      <td>1</td>\n",
       "    </tr>\n",
       "    <tr>\n",
       "      <td>11</td>\n",
       "      <td>Salvador, Bahia</td>\n",
       "      <td>1</td>\n",
       "    </tr>\n",
       "    <tr>\n",
       "      <td>12</td>\n",
       "      <td>Jaboatão dos Guararapes</td>\n",
       "      <td>1</td>\n",
       "    </tr>\n",
       "    <tr>\n",
       "      <td>13</td>\n",
       "      <td>Pernanbuco,Brasil</td>\n",
       "      <td>1</td>\n",
       "    </tr>\n",
       "    <tr>\n",
       "      <td>14</td>\n",
       "      <td>Downtown</td>\n",
       "      <td>1</td>\n",
       "    </tr>\n",
       "  </tbody>\n",
       "</table>\n",
       "</div>"
      ],
      "text/plain": [
       "                        city  frequency\n",
       "0      São Miguel, São Paulo          1\n",
       "1            Goiânia, Brasil          1\n",
       "2                  Amsterdam          1\n",
       "3        Pé de Serra, Brasil          1\n",
       "4        they/she • xxi • ♊           1\n",
       "5   Distrito Federal, Brasil          1\n",
       "6            Porto, Portugal          1\n",
       "7          Porto Alegre, RS.          1\n",
       "8        Portimão, Portugal           1\n",
       "9    Niterói, Rio de Janeiro          1\n",
       "10          Goiatuba, Brasil          1\n",
       "11           Salvador, Bahia          1\n",
       "12   Jaboatão dos Guararapes          1\n",
       "13         Pernanbuco,Brasil          1\n",
       "14                  Downtown          1"
      ]
     },
     "execution_count": 27,
     "metadata": {},
     "output_type": "execute_result"
    }
   ],
   "source": [
    "import pandas as pd\n",
    "df = pd.DataFrame(([cidade, freq] for cidade, freq in cidades), columns=['city', 'frequency'])\n",
    "\n",
    "# Create a Pandas Excel writer using XlsxWriter as the engine.\n",
    "writer = pd.ExcelWriter('cidades.xlsx', engine='xlsxwriter')\n",
    "\n",
    "# Convert the dataframe to an XlsxWriter Excel object.\n",
    "df.to_excel(writer, sheet_name='Sheet1')\n",
    "\n",
    "# Close the Pandas Excel writer and output the Excel file.\n",
    "writer.save()\n",
    "df[:15]"
   ]
  },
  {
   "cell_type": "code",
   "execution_count": 28,
   "metadata": {},
   "outputs": [
    {
     "data": {
      "image/png": "[encoded data removed]",
      "text/plain": [
       "<Figure size 1080x720 with 1 Axes>"
      ]
     },
     "metadata": {
      "needs_background": "light"
     },
     "output_type": "display_data"
    }
   ],
   "source": [
    "import matplotlib.pyplot as plt\n",
    "import seaborn as sns\n",
    "%matplotlib inline\n",
    "\n",
    "fig = plt.figure(figsize=(15,10))\n",
    "fig.add_subplot(1,1,1)\n",
    "\n",
    "df2 = df[:25]\n",
    "\n",
    "ax = sns.barplot(y='city', x = 'frequency', data=df2, palette=\"Set3\" )\n",
    "ax.set(xlabel='Tweets cities frequency', ylabel='cities')\n",
    "ax.axes.set_title(\"Tweets cities frequency\",fontsize=40)\n",
    "ax.set_xlabel(\"frequency\",fontsize=26)\n",
    "ax.set_ylabel(\"cities\",fontsize=20)\n",
    "ax.tick_params(labelsize=15)\n",
    "#sns.plt.show()\n",
    "plt.show()"
   ]
  },
  {
   "cell_type": "markdown",
   "metadata": {},
   "source": [
    "## Capturar tweets com coodenadas de lat, long para cidade"
   ]
  },
  {
   "cell_type": "code",
   "execution_count": 29,
   "metadata": {},
   "outputs": [],
   "source": [
    "def captura_tweets_com_coordenadas(tweets):\n",
    "    tweets_com_coordenadas = []\n",
    "    for tweet in tweets:\n",
    "        if tweet['place'] is not None:\n",
    "            tweets_com_coordenadas.append(tweet)\n",
    "    return (tweets_com_coordenadas)"
   ]
  },
  {
   "cell_type": "code",
   "execution_count": 30,
   "metadata": {},
   "outputs": [
    {
     "name": "stdout",
     "output_type": "stream",
     "text": [
      "14\n"
     ]
    }
   ],
   "source": [
    "tweets_com_coordenadas = captura_tweets_com_coordenadas(results)\n",
    "print(len(tweets_com_coordenadas))"
   ]
  },
  {
   "cell_type": "code",
   "execution_count": 31,
   "metadata": {},
   "outputs": [
    {
     "data": {
      "text/plain": [
       "1.2832263978001834"
      ]
     },
     "execution_count": 31,
     "metadata": {},
     "output_type": "execute_result"
    }
   ],
   "source": [
    "len(tweets_com_coordenadas)/len(results) * 100"
   ]
  },
  {
   "cell_type": "code",
   "execution_count": 32,
   "metadata": {},
   "outputs": [
    {
     "data": {
      "text/plain": [
       "{'type': 'Polygon',\n",
       " 'coordinates': [[[-45.089302, -22.153392],\n",
       "   [-44.981501, -22.153392],\n",
       "   [-44.981501, -22.076212],\n",
       "   [-45.089302, -22.076212]]]}"
      ]
     },
     "execution_count": 32,
     "metadata": {},
     "output_type": "execute_result"
    }
   ],
   "source": [
    "tweets_com_coordenadas[0]['place']['bounding_box']"
   ]
  },
  {
   "cell_type": "code",
   "execution_count": 33,
   "metadata": {},
   "outputs": [
    {
     "data": {
      "text/plain": [
       "[[[-45.089302, -22.153392],\n",
       "  [-44.981501, -22.153392],\n",
       "  [-44.981501, -22.076212],\n",
       "  [-45.089302, -22.076212]]]"
      ]
     },
     "execution_count": 33,
     "metadata": {},
     "output_type": "execute_result"
    }
   ],
   "source": [
    "tweets_com_coordenadas[0]['place']['bounding_box']['coordinates']"
   ]
  },
  {
   "cell_type": "code",
   "execution_count": 34,
   "metadata": {},
   "outputs": [
    {
     "data": {
      "text/plain": [
       "[-45.089302, -22.153392]"
      ]
     },
     "execution_count": 34,
     "metadata": {},
     "output_type": "execute_result"
    }
   ],
   "source": [
    "tweets_com_coordenadas[0]['place']['bounding_box']['coordinates'][0][0]"
   ]
  },
  {
   "cell_type": "code",
   "execution_count": 35,
   "metadata": {},
   "outputs": [],
   "source": [
    "def captura_coordenadas(tweets):\n",
    "    coordenadas = []\n",
    "    for tweet in tweets:\n",
    "        coord = tweet['place']['bounding_box']['coordinates'][0][0]\n",
    "        coordenadas.append(coord)\n",
    "    return coordenadas"
   ]
  },
  {
   "cell_type": "code",
   "execution_count": 36,
   "metadata": {},
   "outputs": [
    {
     "data": {
      "text/plain": [
       "[[-45.089302, -22.153392],\n",
       " [-46.826039, -24.008814],\n",
       " [-38.466552, -12.8738743],\n",
       " [-34.9738347, -7.243257],\n",
       " [-44.062789, -20.059816]]"
      ]
     },
     "execution_count": 36,
     "metadata": {},
     "output_type": "execute_result"
    }
   ],
   "source": [
    "tweets_coordenadasXY = captura_coordenadas(tweets_com_coordenadas)\n",
    "tweets_coordenadasXY[:5]"
   ]
  },
  {
   "cell_type": "code",
   "execution_count": 37,
   "metadata": {},
   "outputs": [
    {
     "data": {
      "text/plain": [
       "14"
      ]
     },
     "execution_count": 37,
     "metadata": {},
     "output_type": "execute_result"
    }
   ],
   "source": [
    "len(tweets_com_coordenadas)"
   ]
  },
  {
   "cell_type": "code",
   "execution_count": 38,
   "metadata": {},
   "outputs": [],
   "source": [
    "latitudes_tweets =  [ y for x,y in tweets_coordenadasXY]\n",
    "longitudes_tweets =  [ x for x,y in tweets_coordenadasXY]"
   ]
  },
  {
   "cell_type": "code",
   "execution_count": 39,
   "metadata": {},
   "outputs": [
    {
     "data": {
      "text/plain": [
       "12"
      ]
     },
     "execution_count": 39,
     "metadata": {},
     "output_type": "execute_result"
    }
   ],
   "source": [
    "coordenadas_distintas = set(latitudes_tweets)\n",
    "len(coordenadas_distintas)"
   ]
  },
  {
   "cell_type": "code",
   "execution_count": 40,
   "metadata": {},
   "outputs": [
    {
     "name": "stdout",
     "output_type": "stream",
     "text": [
      "[-22.153392, -24.008814, -12.8738743, -7.243257, -20.059816, 53.2987449, -23.08302, -16.0524045, -3.88818, -23.427318, -3.88818, -20.622963, -20.622963, -29.6379366]\n"
     ]
    }
   ],
   "source": [
    "print(list(latitudes_tweets[:15]))"
   ]
  },
  {
   "cell_type": "code",
   "execution_count": 41,
   "metadata": {},
   "outputs": [
    {
     "name": "stdout",
     "output_type": "stream",
     "text": [
      "[-45.089302, -46.826039, -38.466552, -34.9738347, -44.062789, -6.387438, -43.795449, -48.285982, -38.638212, -46.8233439, -38.638212, -43.800381, -43.800381, -53.3946701]\n"
     ]
    }
   ],
   "source": [
    "print(list(longitudes_tweets[:15]))"
   ]
  },
  {
   "cell_type": "code",
   "execution_count": 42,
   "metadata": {},
   "outputs": [
    {
     "data": {
      "text/html": [
       "<div>\n",
       "<style scoped>\n",
       "    .dataframe tbody tr th:only-of-type {\n",
       "        vertical-align: middle;\n",
       "    }\n",
       "\n",
       "    .dataframe tbody tr th {\n",
       "        vertical-align: top;\n",
       "    }\n",
       "\n",
       "    .dataframe thead th {\n",
       "        text-align: right;\n",
       "    }\n",
       "</style>\n",
       "<table border=\"1\" class=\"dataframe\">\n",
       "  <thead>\n",
       "    <tr style=\"text-align: right;\">\n",
       "      <th></th>\n",
       "      <th>latitude</th>\n",
       "      <th>longitude</th>\n",
       "    </tr>\n",
       "  </thead>\n",
       "  <tbody>\n",
       "    <tr>\n",
       "      <td>0</td>\n",
       "      <td>-22.153392</td>\n",
       "      <td>-45.089302</td>\n",
       "    </tr>\n",
       "    <tr>\n",
       "      <td>1</td>\n",
       "      <td>-24.008814</td>\n",
       "      <td>-46.826039</td>\n",
       "    </tr>\n",
       "    <tr>\n",
       "      <td>2</td>\n",
       "      <td>-12.873874</td>\n",
       "      <td>-38.466552</td>\n",
       "    </tr>\n",
       "    <tr>\n",
       "      <td>3</td>\n",
       "      <td>-7.243257</td>\n",
       "      <td>-34.973835</td>\n",
       "    </tr>\n",
       "    <tr>\n",
       "      <td>4</td>\n",
       "      <td>-20.059816</td>\n",
       "      <td>-44.062789</td>\n",
       "    </tr>\n",
       "  </tbody>\n",
       "</table>\n",
       "</div>"
      ],
      "text/plain": [
       "    latitude  longitude\n",
       "0 -22.153392 -45.089302\n",
       "1 -24.008814 -46.826039\n",
       "2 -12.873874 -38.466552\n",
       "3  -7.243257 -34.973835\n",
       "4 -20.059816 -44.062789"
      ]
     },
     "execution_count": 42,
     "metadata": {},
     "output_type": "execute_result"
    }
   ],
   "source": [
    "import pandas as pd\n",
    "df10 = pd.DataFrame({'latitude': latitudes_tweets, 'longitude':longitudes_tweets })\n",
    "df10.head()                   "
   ]
  },
  {
   "cell_type": "code",
   "execution_count": 43,
   "metadata": {},
   "outputs": [
    {
     "data": {
      "text/plain": [
       "14"
      ]
     },
     "execution_count": 43,
     "metadata": {},
     "output_type": "execute_result"
    }
   ],
   "source": [
    "len(df10)"
   ]
  },
  {
   "cell_type": "code",
   "execution_count": 44,
   "metadata": {},
   "outputs": [
    {
     "data": {
      "text/plain": [
       "12"
      ]
     },
     "execution_count": 44,
     "metadata": {},
     "output_type": "execute_result"
    }
   ],
   "source": [
    "df11 = df10.drop_duplicates()\n",
    "df11 = df11.reset_index(drop=True)\n",
    "len(df11)"
   ]
  },
  {
   "cell_type": "code",
   "execution_count": 45,
   "metadata": {},
   "outputs": [],
   "source": [
    "df11.to_csv('coordenadas-tweets-Novembro-2019.csv', index=False)"
   ]
  },
  {
   "cell_type": "code",
   "execution_count": 46,
   "metadata": {},
   "outputs": [
    {
     "data": {
      "text/html": [
       "<div>\n",
       "<style scoped>\n",
       "    .dataframe tbody tr th:only-of-type {\n",
       "        vertical-align: middle;\n",
       "    }\n",
       "\n",
       "    .dataframe tbody tr th {\n",
       "        vertical-align: top;\n",
       "    }\n",
       "\n",
       "    .dataframe thead th {\n",
       "        text-align: right;\n",
       "    }\n",
       "</style>\n",
       "<table border=\"1\" class=\"dataframe\">\n",
       "  <thead>\n",
       "    <tr style=\"text-align: right;\">\n",
       "      <th></th>\n",
       "      <th>latitude</th>\n",
       "      <th>longitude</th>\n",
       "    </tr>\n",
       "  </thead>\n",
       "  <tbody>\n",
       "    <tr>\n",
       "      <td>0</td>\n",
       "      <td>-22.153392</td>\n",
       "      <td>-45.089302</td>\n",
       "    </tr>\n",
       "    <tr>\n",
       "      <td>1</td>\n",
       "      <td>-24.008814</td>\n",
       "      <td>-46.826039</td>\n",
       "    </tr>\n",
       "    <tr>\n",
       "      <td>2</td>\n",
       "      <td>-12.873874</td>\n",
       "      <td>-38.466552</td>\n",
       "    </tr>\n",
       "    <tr>\n",
       "      <td>3</td>\n",
       "      <td>-7.243257</td>\n",
       "      <td>-34.973835</td>\n",
       "    </tr>\n",
       "    <tr>\n",
       "      <td>4</td>\n",
       "      <td>-20.059816</td>\n",
       "      <td>-44.062789</td>\n",
       "    </tr>\n",
       "  </tbody>\n",
       "</table>\n",
       "</div>"
      ],
      "text/plain": [
       "    latitude  longitude\n",
       "0 -22.153392 -45.089302\n",
       "1 -24.008814 -46.826039\n",
       "2 -12.873874 -38.466552\n",
       "3  -7.243257 -34.973835\n",
       "4 -20.059816 -44.062789"
      ]
     },
     "execution_count": 46,
     "metadata": {},
     "output_type": "execute_result"
    }
   ],
   "source": [
    "import pandas as pd\n",
    "df11 = pd.read_csv('coordenadas-tweets-Novembro-2019.csv')\n",
    "df11.head()"
   ]
  },
  {
   "cell_type": "code",
   "execution_count": 47,
   "metadata": {},
   "outputs": [
    {
     "name": "stdout",
     "output_type": "stream",
     "text": [
      "latitude: -22.153392 , longitude: -45.089302\n",
      "latitude: -24.008814 , longitude: -46.826039\n",
      "latitude: -12.8738743 , longitude: -38.466552\n",
      "latitude: -7.243257000000001 , longitude: -34.9738347\n",
      "latitude: -20.059816 , longitude: -44.062789\n",
      "latitude: 53.2987449 , longitude: -6.3874379999999995\n",
      "latitude: -23.08302 , longitude: -43.795449\n",
      "latitude: -16.0524045 , longitude: -48.285982000000004\n",
      "latitude: -3.88818 , longitude: -38.638212\n",
      "latitude: -23.427318 , longitude: -46.823343900000005\n",
      "latitude: -20.622963000000002 , longitude: -43.800381\n",
      "latitude: -29.637936600000003 , longitude: -53.3946701\n"
     ]
    }
   ],
   "source": [
    "for i in range(len(df11)):\n",
    "    #print(i)\n",
    "    row = df11.loc[i]\n",
    "    #print(row)\n",
    "    print('latitude:', row['latitude'], ', longitude:', row['longitude'] )"
   ]
  },
  {
   "cell_type": "code",
   "execution_count": 48,
   "metadata": {},
   "outputs": [
    {
     "name": "stdout",
     "output_type": "stream",
     "text": [
      "[-22.153392, -24.008814, -12.8738743, -7.243257, -20.059816, 53.2987449, -23.08302, -16.0524045, -3.88818, -23.427318]\n"
     ]
    }
   ],
   "source": [
    "print(list(latitudes_tweets[:10]))"
   ]
  },
  {
   "cell_type": "code",
   "execution_count": 49,
   "metadata": {},
   "outputs": [
    {
     "name": "stdout",
     "output_type": "stream",
     "text": [
      "[-45.089302, -46.826039, -38.466552, -34.9738347, -44.062789, -6.387438, -43.795449, -48.285982, -38.638212, -46.8233439]\n"
     ]
    }
   ],
   "source": [
    "print(list(longitudes_tweets[:10]))"
   ]
  },
  {
   "cell_type": "markdown",
   "metadata": {},
   "source": [
    "## ler coordenadas de um arquivo"
   ]
  },
  {
   "cell_type": "code",
   "execution_count": 50,
   "metadata": {},
   "outputs": [
    {
     "data": {
      "text/html": [
       "<div>\n",
       "<style scoped>\n",
       "    .dataframe tbody tr th:only-of-type {\n",
       "        vertical-align: middle;\n",
       "    }\n",
       "\n",
       "    .dataframe tbody tr th {\n",
       "        vertical-align: top;\n",
       "    }\n",
       "\n",
       "    .dataframe thead th {\n",
       "        text-align: right;\n",
       "    }\n",
       "</style>\n",
       "<table border=\"1\" class=\"dataframe\">\n",
       "  <thead>\n",
       "    <tr style=\"text-align: right;\">\n",
       "      <th></th>\n",
       "      <th>latitude</th>\n",
       "      <th>longitude</th>\n",
       "    </tr>\n",
       "  </thead>\n",
       "  <tbody>\n",
       "    <tr>\n",
       "      <td>0</td>\n",
       "      <td>-22.153392</td>\n",
       "      <td>-45.089302</td>\n",
       "    </tr>\n",
       "    <tr>\n",
       "      <td>1</td>\n",
       "      <td>-24.008814</td>\n",
       "      <td>-46.826039</td>\n",
       "    </tr>\n",
       "    <tr>\n",
       "      <td>2</td>\n",
       "      <td>-12.873874</td>\n",
       "      <td>-38.466552</td>\n",
       "    </tr>\n",
       "    <tr>\n",
       "      <td>3</td>\n",
       "      <td>-7.243257</td>\n",
       "      <td>-34.973835</td>\n",
       "    </tr>\n",
       "    <tr>\n",
       "      <td>4</td>\n",
       "      <td>-20.059816</td>\n",
       "      <td>-44.062789</td>\n",
       "    </tr>\n",
       "  </tbody>\n",
       "</table>\n",
       "</div>"
      ],
      "text/plain": [
       "    latitude  longitude\n",
       "0 -22.153392 -45.089302\n",
       "1 -24.008814 -46.826039\n",
       "2 -12.873874 -38.466552\n",
       "3  -7.243257 -34.973835\n",
       "4 -20.059816 -44.062789"
      ]
     },
     "execution_count": 50,
     "metadata": {},
     "output_type": "execute_result"
    }
   ],
   "source": [
    "df10 = pd.read_csv('coordenadas-tweets-Novembro-2019.csv')\n",
    "df10.head()"
   ]
  },
  {
   "cell_type": "code",
   "execution_count": 51,
   "metadata": {},
   "outputs": [
    {
     "data": {
      "text/html": [
       "<div>\n",
       "<style scoped>\n",
       "    .dataframe tbody tr th:only-of-type {\n",
       "        vertical-align: middle;\n",
       "    }\n",
       "\n",
       "    .dataframe tbody tr th {\n",
       "        vertical-align: top;\n",
       "    }\n",
       "\n",
       "    .dataframe thead th {\n",
       "        text-align: right;\n",
       "    }\n",
       "</style>\n",
       "<table border=\"1\" class=\"dataframe\">\n",
       "  <thead>\n",
       "    <tr style=\"text-align: right;\">\n",
       "      <th></th>\n",
       "      <th>latitude</th>\n",
       "      <th>longitude</th>\n",
       "    </tr>\n",
       "  </thead>\n",
       "  <tbody>\n",
       "    <tr>\n",
       "      <td>0</td>\n",
       "      <td>-22.153392</td>\n",
       "      <td>-45.089302</td>\n",
       "    </tr>\n",
       "    <tr>\n",
       "      <td>1</td>\n",
       "      <td>-24.008814</td>\n",
       "      <td>-46.826039</td>\n",
       "    </tr>\n",
       "    <tr>\n",
       "      <td>2</td>\n",
       "      <td>-12.873874</td>\n",
       "      <td>-38.466552</td>\n",
       "    </tr>\n",
       "    <tr>\n",
       "      <td>3</td>\n",
       "      <td>-7.243257</td>\n",
       "      <td>-34.973835</td>\n",
       "    </tr>\n",
       "    <tr>\n",
       "      <td>4</td>\n",
       "      <td>-20.059816</td>\n",
       "      <td>-44.062789</td>\n",
       "    </tr>\n",
       "  </tbody>\n",
       "</table>\n",
       "</div>"
      ],
      "text/plain": [
       "    latitude  longitude\n",
       "0 -22.153392 -45.089302\n",
       "1 -24.008814 -46.826039\n",
       "2 -12.873874 -38.466552\n",
       "3  -7.243257 -34.973835\n",
       "4 -20.059816 -44.062789"
      ]
     },
     "execution_count": 51,
     "metadata": {},
     "output_type": "execute_result"
    }
   ],
   "source": [
    "df12 = df10.copy()\n",
    "df12.head()\n",
    "df12 = df12.dropna()\n",
    "len(df12)\n",
    "df12.head()"
   ]
  },
  {
   "cell_type": "markdown",
   "metadata": {},
   "source": [
    "## remover tuplas duplicadas"
   ]
  },
  {
   "cell_type": "code",
   "execution_count": 52,
   "metadata": {},
   "outputs": [
    {
     "data": {
      "text/plain": [
       "12"
      ]
     },
     "execution_count": 52,
     "metadata": {},
     "output_type": "execute_result"
    }
   ],
   "source": [
    "df13 = df12.drop_duplicates()\n",
    "df13 = df13.reset_index(drop=True)\n",
    "len(df13)"
   ]
  },
  {
   "cell_type": "markdown",
   "metadata": {},
   "source": [
    "# Georeferenciar os tweets no mapa mundi"
   ]
  },
  {
   "cell_type": "code",
   "execution_count": 53,
   "metadata": {},
   "outputs": [],
   "source": [
    "#!pip install folium"
   ]
  },
  {
   "cell_type": "code",
   "execution_count": 54,
   "metadata": {},
   "outputs": [
    {
     "data": {
      "text/html": [
       "<div style=\"width:100%;\"><div style=\"position:relative;width:100%;height:0;padding-bottom:60%;\"><iframe src=\"data:text/html;charset=utf-8;base64,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\" style=\"position:absolute;width:100%;height:100%;left:0;top:0;border:none !important;\" allowfullscreen webkitallowfullscreen mozallowfullscreen></iframe></div></div>"
      ],
      "text/plain": [
       "<folium.folium.Map at 0x1a25be1710>"
      ]
     },
     "execution_count": 54,
     "metadata": {},
     "output_type": "execute_result"
    }
   ],
   "source": [
    "import folium\n",
    "from folium.utilities import write_png\n",
    "\n",
    "mapit = folium.Map(location=[30, 0], zoom_start=2)\n",
    "for coord in tweets_coordenadasXY:\n",
    "    folium.CircleMarker( location=[ coord[1], coord[0] ], radius=2).add_to( mapit ) \n",
    "                    # color='#0080bb', fill_color='#0080bb'\n",
    "\n",
    "#png_str = write_png(mapit. .data())\n",
    "#of = open('folium_map.png', 'w')\n",
    "#of.write(png_str)\n",
    "#of.close()\n",
    "\n",
    "folium.Map.save(mapit, \"index.html\")\n",
    "#import os\n",
    "#cmd = 'cutycapt --url=file:///index.html --out=folium_map.png'\n",
    "#os.system(cmd)\n",
    "\n",
    "mapit"
   ]
  },
  {
   "cell_type": "markdown",
   "metadata": {},
   "source": [
    "# twitter trends - assuntos mais comentados do momento"
   ]
  },
  {
   "cell_type": "code",
   "execution_count": 55,
   "metadata": {},
   "outputs": [],
   "source": [
    "import json\n",
    "import twitter\n",
    "\n",
    "# Acessar os tends da localidade\n",
    "#http://woeid.rosselliot.co.nz/\n",
    "\n",
    "\n",
    "def twitter_trends(twitter_api, woe_id):\n",
    "    # Prefix ID with the underscore for query string parameterization.\n",
    "    # Without the underscore, the twitter package appends the ID value\n",
    "    # to the URL itself as a special-case keyword argument.\n",
    "    return twitter_api.trends.place(_id=woe_id)\n",
    "\n",
    "# Sample usage\n",
    "\n",
    "twitter_api = oauth_login()\n",
    "\n",
    "# See https://dev.twitter.com/docs/api/1.1/get/trends/place and\n",
    "# http://developer.yahoo.com/geo/geoplanet/ for details on\n",
    "# Yahoo! Where On Earth ID\n",
    "\n",
    "WORLD_WOE_ID = 1\n",
    "world_trends = twitter_trends(twitter_api, WORLD_WOE_ID)\n",
    "#print json.dumps(world_trends, indent=1)\n",
    "\n",
    "US_WOE_ID = 23424977\n",
    "us_trends = twitter_trends(twitter_api, US_WOE_ID)\n",
    "#print (json.dumps(us_trends, indent=1))\n",
    "#us_trends[0]\n",
    "\n",
    "#for trend in us_trends:\n",
    "#    print (trend['as_of']['name'])"
   ]
  },
  {
   "cell_type": "code",
   "execution_count": 56,
   "metadata": {},
   "outputs": [],
   "source": [
    "def find_trends(country_trends):\n",
    "    trends = country_trends[0]['trends']\n",
    "    for trend in trends:\n",
    "        print (trend['name'])"
   ]
  },
  {
   "cell_type": "code",
   "execution_count": 57,
   "metadata": {},
   "outputs": [
    {
     "name": "stdout",
     "output_type": "stream",
     "text": [
      "topicos mais comentados: Mundo 2019-11-05 09:09:27.692213\n",
      "#MXTikiTaka1stWin\n",
      "#侍野球\n",
      "懸賞金\n",
      "#うたコン\n",
      "#WayV_LoveTalk\n",
      "#侍ジャパン\n",
      "2020 Ocak\n",
      "世界のKOBAYASHI\n",
      "Jacob Rees-Mogg\n",
      "自信診断\n",
      "SMIC\n",
      "5th of November\n",
      "Saracens\n",
      "本丸博\n",
      "刀ミュ新作\n",
      "伊達ミュ\n",
      "#FelizMartes\n",
      "#TuesdayThoughts\n",
      "#جواز_العصمه_بيد_المراه\n",
      "#いい男の日\n",
      "#절대로_포기는_안해\n",
      "#AUSvsPAK\n",
      "#spm2019\n",
      "#付き合い始めてからの行動\n",
      "#BonfireNight\n",
      "#MayWardOnMMKSoon\n",
      "#BülentEcevit\n",
      "#VforVendetta\n",
      "#愛夢路澪\n",
      "#ファミマのふわラテ飲みたい\n",
      "#안녕_고영수\n",
      "#كلمه_للعزوبيه\n",
      "#ヤマトイオリ\n",
      "#LawyersVsDelhiPolice\n",
      "#트친들이_나를_부르는_호칭\n",
      "#saveX1\n",
      "#WeSupportSidShukla\n",
      "#潜在能力テスト\n",
      "#SenzoMeyiwa\n",
      "#ElectionDay\n",
      "#FLOWERSHOWER\n",
      "#جوايز_درزن_رنج_بالعثيم_مول٤\n",
      "#القصيم\n",
      "#PanipatTrailer\n",
      "#SomosTodosAllan\n",
      "#ChernobylSky\n",
      "#HartzIV\n",
      "#SeriesConPizza\n",
      "#神様に貰えなかった\n",
      "#15thDaraDailyxTEMPT\n"
     ]
    }
   ],
   "source": [
    "from datetime import datetime\n",
    "WORLD_WOE_ID = 1\n",
    "world_trends = twitter_trends(twitter_api, WORLD_WOE_ID)\n",
    "print (\"topicos mais comentados: Mundo\", datetime.now())\n",
    "find_trends(world_trends)"
   ]
  },
  {
   "cell_type": "code",
   "execution_count": 58,
   "metadata": {},
   "outputs": [
    {
     "name": "stdout",
     "output_type": "stream",
     "text": [
      "topicos mais comentados: USA 2019-11-05 09:09:28.109606\n",
      "#ElectionDay\n",
      "#TuesdayThoughts\n",
      "#MXTikiTaka1stWin\n",
      "#WayV_LoveTalk\n",
      "#VforVendetta\n",
      "GO VOTE\n",
      "Eric Paschall\n",
      "Maryland Popeyes\n",
      "Seek His\n",
      "Bhatia\n",
      "I-79\n",
      "Lionheart\n",
      "THE END OF THE F\n",
      "Alexandra Grant\n",
      "450 oklahoma\n",
      "#NationalDonutDay\n",
      "#WhatNotToWearAtWalmart\n",
      "#VMworld\n",
      "#Forgotten50sHorror\n",
      "#bfc530\n",
      "#RandPaul\n",
      "#AUSvPAK\n",
      "#5thnovember\n",
      "#FelizMartes\n",
      "#TVSongsAndMovies\n",
      "#HyunA\n",
      "#pubpdasia\n",
      "#VirginiaVotes\n",
      "#WebSummit\n",
      "#DAWN_Money\n",
      "#WakeUp11\n",
      "#sheraseason4\n",
      "#iamup\n",
      "#WakeUpCLT\n",
      "#bonfirenight\n",
      "#haze\n",
      "#EveryYearITryTo\n",
      "#TISL\n",
      "#BoostCuse\n",
      "#TEOTFW2\n",
      "#MorningRushATL\n",
      "#Panipat\n",
      "#GoodreadsChoice\n",
      "#PORvsGSW\n",
      "#tmobiledown\n",
      "#DailyDiscipline\n",
      "#CCF2019\n"
     ]
    }
   ],
   "source": [
    "US_WOE_ID = 23424977\n",
    "us_trends = twitter_trends(twitter_api, US_WOE_ID)\n",
    "print (\"topicos mais comentados: USA\", datetime.now())\n",
    "find_trends(us_trends)"
   ]
  },
  {
   "cell_type": "code",
   "execution_count": 59,
   "metadata": {},
   "outputs": [
    {
     "name": "stdout",
     "output_type": "stream",
     "text": [
      "topicos mais comentados: Brasil 2019-11-05 09:09:28.581870\n",
      "#SomosTodosAllan\n",
      "#MXTikiTaka1stWin\n",
      "#TercaDetremuraSDV\n",
      "Keanu Reeves\n",
      "#WayV_LoveTalk\n",
      "#BDMG\n",
      "FlaTV\n",
      "O Grupo Globo\n",
      "Nem 7\n",
      "Palmeiras de 96\n",
      "Bodão\n",
      "Bem Amigos\n",
      "O Mano\n",
      "5th of November\n",
      "rodrigo e glória\n",
      "São 7h\n",
      "Eric Paschall\n",
      "Alameda\n",
      "Até Harry Potter\n",
      "Eletrobras\n",
      "SUPER FOFOS\n",
      "The Show\n",
      "Phoenix Suns\n",
      "Se o Tiago Nunes\n",
      "cinema brasileiro\n",
      "Cruzeiro 2003\n",
      "Cléber Machado\n",
      "blazers\n",
      "rede condor\n",
      "Corinthians\n",
      "Sarutobi\n",
      "Bruno Henrique\n",
      "#FLOWERSHOWER\n",
      "#JornalDaManha\n",
      "#DAWN_MONEY\n",
      "#BDRJ\n",
      "#terçou\n",
      "#EuAssinoBolsonaro\n",
      "#98esportes\n",
      "#FicaTiagoNunes\n",
      "#TheEndOfTheFxxxingWorld\n",
      "#ComidaNaVeia\n",
      "#bddf\n",
      "#teotfw\n",
      "#ProvaDoFazendeiro\n",
      "#ninguemamacomoagente\n",
      "#MonbebeWontBackDown\n",
      "#ARMYSelcaDay\n",
      "#ImpeachmantBolsonaroUrgente\n",
      "#Dark\n"
     ]
    }
   ],
   "source": [
    "BR_WOE_ID = 23424768\n",
    "br_trends = twitter_trends(twitter_api, BR_WOE_ID)\n",
    "print (\"topicos mais comentados: Brasil\", datetime.now())\n",
    "find_trends(br_trends)"
   ]
  },
  {
   "cell_type": "code",
   "execution_count": 60,
   "metadata": {},
   "outputs": [
    {
     "name": "stdout",
     "output_type": "stream",
     "text": [
      "topicos mais comentados: UK\n",
      "#BonfireNight\n",
      "Jacob Rees-Mogg\n",
      "#TuesdayThoughts\n",
      "Saracens\n",
      "Sarries\n",
      "#LonConf19\n",
      "#ThisMorning\n",
      "Gove\n",
      "Keanu Reeves\n",
      "#MXTikiTaka1stWin\n",
      "Festival of Brexit\n",
      "Emma Watson\n",
      "Gaffe\n",
      "Nigel Wray\n",
      "Sonny Bill Williams\n",
      "Tom Gilzean\n",
      "Scorsese\n",
      "Champions Cup\n",
      "BBC News - None\n",
      "#StillHereForWonho\n",
      "#WMBLive2019\n",
      "#WebSummit2019\n",
      "#B2BConf\n",
      "#popmaster\n",
      "#LeadersHealth19\n",
      "#ContentClubUK\n",
      "#RussiaReport\n",
      "#CommsAcad\n",
      "#traumaResponsivescotland\n",
      "#WayV_LoveTalk\n",
      "#npenergy19\n",
      "#StateOfHunger\n",
      "#AUSvPAK\n",
      "#Shoesday\n",
      "#IVMDay19\n",
      "#NHCSUMMIT19\n",
      "#November5th\n",
      "#TVSongsAndMovies\n",
      "#TongueOutTuesday\n",
      "#JeffGoldblum\n",
      "#PAKvsAUS\n",
      "#JeremyVine\n",
      "#SaveOurColleges\n",
      "#trusteesweek2019\n",
      "#ASPiH2019\n",
      "#haze\n",
      "#ESCymru19\n",
      "#CyclingScotlandConf\n",
      "#SelfPartnered\n",
      "#iamaurora\n"
     ]
    }
   ],
   "source": [
    "TM_WOE_ID = 32566\n",
    "tm_trends = twitter_trends(twitter_api, TM_WOE_ID)\n",
    "print (\"topicos mais comentados: UK\")\n",
    "find_trends(tm_trends)"
   ]
  },
  {
   "cell_type": "code",
   "execution_count": 61,
   "metadata": {},
   "outputs": [
    {
     "name": "stdout",
     "output_type": "stream",
     "text": [
      "topicos mais comentados: São Paulo\n",
      "#BDSP\n",
      "#NFLnaESPN\n",
      "Enem\n",
      "#RoçaAFazenda\n",
      "Carille\n",
      "Amém\n",
      "Corinthians\n",
      "Flamengo\n",
      "#SomosTodosAllan\n",
      "#MXTikiTaka1stWin\n",
      "Keanu Reeves\n",
      "FlaTV\n",
      "O Grupo Globo\n",
      "Palmeiras de 96\n",
      "O Mano\n",
      "Bem Amigos\n",
      "5th of November\n",
      "São 7h\n",
      "Eric Paschall\n",
      "Alameda\n",
      "Eletrobras\n",
      "SUPER FOFOS\n",
      "The Show\n",
      "Phoenix Suns\n",
      "cinema brasileiro\n",
      "Cruzeiro 2003\n",
      "Cléber Machado\n",
      "blazers\n",
      "rede condor\n",
      "eminem\n",
      "Sarutobi\n",
      "#TercaDetremuraSDV\n",
      "#WayV_LoveTalk\n",
      "#BDMG\n",
      "#FLOWERSHOWER\n",
      "#JornalDaManha\n",
      "#DAWN_MONEY\n",
      "#BDRJ\n",
      "#terçou\n",
      "#EuAssinoBolsonaro\n",
      "#98esportes\n",
      "#TheEndOfTheFxxxingWorld\n",
      "#FicaTiagoNunes\n",
      "#ComidaNaVeia\n",
      "#bddf\n",
      "#teotfw\n",
      "#NinguemAmaComoAGente\n",
      "#MonbebeWontBackDown\n",
      "#ARMYSelcaDay\n",
      "#ImpeachmantBolsonaroUrgente\n"
     ]
    }
   ],
   "source": [
    "TM_WOE_ID = 455827\n",
    "tm_trends = twitter_trends(twitter_api, TM_WOE_ID)\n",
    "print (\"topicos mais comentados: São Paulo\")\n",
    "find_trends(tm_trends)"
   ]
  },
  {
   "cell_type": "markdown",
   "metadata": {},
   "source": [
    "# Análise de Sentimentos - Tweets"
   ]
  },
  {
   "cell_type": "code",
   "execution_count": 62,
   "metadata": {},
   "outputs": [],
   "source": [
    "#!pip install textblob"
   ]
  },
  {
   "cell_type": "code",
   "execution_count": 63,
   "metadata": {},
   "outputs": [],
   "source": [
    "#!pip install googletrans"
   ]
  },
  {
   "cell_type": "code",
   "execution_count": 64,
   "metadata": {},
   "outputs": [
    {
     "data": {
      "text/plain": [
       "'Hello all well'"
      ]
     },
     "execution_count": 64,
     "metadata": {},
     "output_type": "execute_result"
    }
   ],
   "source": [
    "from googletrans import Translator\n",
    "translator = Translator()\n",
    "translator.translate('oi, tudo bem', src='pt').text"
   ]
  },
  {
   "cell_type": "markdown",
   "metadata": {},
   "source": [
    "### Testando as polaridades"
   ]
  },
  {
   "cell_type": "code",
   "execution_count": 66,
   "metadata": {},
   "outputs": [
    {
     "data": {
      "text/plain": [
       "Sentiment(polarity=-0.6999999999999998, subjectivity=0.6666666666666666)"
      ]
     },
     "execution_count": 66,
     "metadata": {},
     "output_type": "execute_result"
    }
   ],
   "source": [
    "from textblob import TextBlob as tb\n",
    "txt = 'bad girl in NY'\n",
    "analysis = tb(txt)\n",
    "analysis.sentiment.polarity\n",
    "analysis.sentiment"
   ]
  },
  {
   "cell_type": "code",
   "execution_count": 67,
   "metadata": {},
   "outputs": [
    {
     "data": {
      "text/plain": [
       "0.0"
      ]
     },
     "execution_count": 67,
     "metadata": {},
     "output_type": "execute_result"
    }
   ],
   "source": [
    "txt = 'neutral'\n",
    "analysis = tb(txt)\n",
    "analysis.sentiment.polarity"
   ]
  },
  {
   "cell_type": "code",
   "execution_count": 68,
   "metadata": {},
   "outputs": [
    {
     "data": {
      "text/plain": [
       "0.7"
      ]
     },
     "execution_count": 68,
     "metadata": {},
     "output_type": "execute_result"
    }
   ],
   "source": [
    "txt = 'good'\n",
    "analysis = tb(txt)\n",
    "analysis.sentiment.polarity"
   ]
  },
  {
   "cell_type": "code",
   "execution_count": 69,
   "metadata": {},
   "outputs": [
    {
     "data": {
      "text/plain": [
       "-1.0"
      ]
     },
     "execution_count": 69,
     "metadata": {},
     "output_type": "execute_result"
    }
   ],
   "source": [
    "txt = 'péssimo'\n",
    "tb_txt = tb(txt)\n",
    "tb_txt.sentiment.polarity\n",
    "txt = tb_txt.translate(to='en')\n",
    "txt.sentiment.polarity"
   ]
  },
  {
   "cell_type": "markdown",
   "metadata": {},
   "source": [
    "# polaridade de tweets em ingles e portugues"
   ]
  },
  {
   "cell_type": "code",
   "execution_count": 70,
   "metadata": {},
   "outputs": [],
   "source": [
    "from textblob import TextBlob as tb #NLP module\n",
    "import numpy as np #for some calculation. You may want to use your favorite module for this, such as statistics\n",
    "\n",
    "# polaridade de tweets em ingles e portugues\n",
    "def polarity_tweets_pais(query):\n",
    "    from googletrans import Translator\n",
    "    \n",
    "    translator = Translator() # google tradutor\n",
    "\n",
    "    twitter_api = oauth_login()\n",
    "    numero_iteracoes = 1\n",
    "    results = []\n",
    "    for i in range(numero_iteracoes):\n",
    "        max_results = 500 # 1000\n",
    "        result = twitter_search(twitter_api, query, max_results=max_results)\n",
    "        print ('capturando ', len(result),' tweets...')\n",
    "        #results.append(result)\n",
    "        results += result\n",
    "\n",
    "    analysis = None\n",
    "    pos_polarity = 0\n",
    "    neutral_polarity = 0\n",
    "    neg_polarity = 0\n",
    "    sum_polarity = 0\n",
    "    print(\"calculando polaridades...\")\n",
    "\n",
    "    for tweet in results:\n",
    "        text_tweet = tweet['text']\n",
    "        \n",
    "        # retirando caracteres malucos\n",
    "        text_tweet = \"\".join([i for i in text_tweet if ord(i)<128])\n",
    "        \n",
    "        frase = tb(text_tweet)       \n",
    "        language = tweet['lang'] #frase.detect_language()\n",
    "        if language == 'br' or language == 'pt' :\n",
    "            text_en = translator.translate(text_tweet, src='pt').text  \n",
    "            analysis = tb(text_en)\n",
    "        elif language == 'en':   \n",
    "            analysis = frase\n",
    "        else:\n",
    "            analysis = \"\"\n",
    "            \n",
    "        if analysis != \"\": \n",
    "            if (analysis.sentiment.polarity > 0):\n",
    "                pos_polarity += 1\n",
    "            elif (analysis.sentiment.polarity <= 0):\n",
    "                neg_polarity += 1\n",
    "            sum_polarity += analysis.sentiment.polarity\n",
    "\n",
    "    return sum_polarity, pos_polarity, neg_polarity, neutral_polarity"
   ]
  },
  {
   "cell_type": "code",
   "execution_count": 71,
   "metadata": {},
   "outputs": [
    {
     "data": {
      "text/plain": [
       "\"\\nmean_polarity, pos_polarity, neg_polarity, neutral_polarity = polarity_tweets_pais(q)\\ntotal = pos_polarity + neg_polarity + neutral_polarity \\nprint('SENTIMENT AVERAGE: ' , mean_polarity/total)\\nprint('Positive: ', pos_polarity, (pos_polarity/total) * 100)\\nprint('Negative: ', neg_polarity, (neg_polarity/total) * 100)\\nprint('neutral: ', neutral_polarity, (neutral_polarity/total) * 100\\n\""
      ]
     },
     "execution_count": 71,
     "metadata": {},
     "output_type": "execute_result"
    }
   ],
   "source": [
    "q = 'tesla'\n",
    "\n",
    "\"\"\"\n",
    "mean_polarity, pos_polarity, neg_polarity, neutral_polarity = polarity_tweets_pais(q)\n",
    "total = pos_polarity + neg_polarity + neutral_polarity \n",
    "print('SENTIMENT AVERAGE: ' , mean_polarity/total)\n",
    "print('Positive: ', pos_polarity, (pos_polarity/total) * 100)\n",
    "print('Negative: ', neg_polarity, (neg_polarity/total) * 100)\n",
    "print('neutral: ', neutral_polarity, (neutral_polarity/total) * 100\n",
    "\"\"\""
   ]
  },
  {
   "cell_type": "code",
   "execution_count": 72,
   "metadata": {},
   "outputs": [
    {
     "name": "stdout",
     "output_type": "stream",
     "text": [
      "capturando  600  tweets...\n",
      "calculando polaridades...\n",
      "Query:  tesla\n",
      "SENTIMENT AVERAGE:  0.09477431207336992\n",
      "Positive:  168 37.086092715231786\n",
      "Negative:  285 62.913907284768214\n",
      "neutral:  0 0.0\n",
      "----------------------------------------------\n",
      "capturando  600  tweets...\n",
      "calculando polaridades...\n",
      "Query:  facebook\n",
      "SENTIMENT AVERAGE:  0.07536494249748019\n",
      "Positive:  74 37.185929648241206\n",
      "Negative:  125 62.8140703517588\n",
      "neutral:  0 0.0\n",
      "----------------------------------------------\n",
      "capturando  600  tweets...\n",
      "calculando polaridades...\n",
      "Query:  apple\n",
      "SENTIMENT AVERAGE:  0.13806867183742186\n",
      "Positive:  148 53.81818181818182\n",
      "Negative:  127 46.18181818181818\n",
      "neutral:  0 0.0\n",
      "----------------------------------------------\n",
      "capturando  599  tweets...\n",
      "calculando polaridades...\n",
      "Query:  xiaomi\n",
      "SENTIMENT AVERAGE:  0.11590632686027418\n",
      "Positive:  98 39.67611336032389\n",
      "Negative:  149 60.32388663967612\n",
      "neutral:  0 0.0\n",
      "----------------------------------------------\n"
     ]
    },
    {
     "data": {
      "text/html": [
       "<div>\n",
       "<style scoped>\n",
       "    .dataframe tbody tr th:only-of-type {\n",
       "        vertical-align: middle;\n",
       "    }\n",
       "\n",
       "    .dataframe tbody tr th {\n",
       "        vertical-align: top;\n",
       "    }\n",
       "\n",
       "    .dataframe thead th {\n",
       "        text-align: right;\n",
       "    }\n",
       "</style>\n",
       "<table border=\"1\" class=\"dataframe\">\n",
       "  <thead>\n",
       "    <tr style=\"text-align: right;\">\n",
       "      <th></th>\n",
       "      <th>name</th>\n",
       "      <th>pos</th>\n",
       "      <th>negative</th>\n",
       "      <th>sentiment_avg</th>\n",
       "    </tr>\n",
       "  </thead>\n",
       "  <tbody>\n",
       "    <tr>\n",
       "      <td>0</td>\n",
       "      <td>tesla</td>\n",
       "      <td>168</td>\n",
       "      <td>285</td>\n",
       "      <td>0.094774</td>\n",
       "    </tr>\n",
       "    <tr>\n",
       "      <td>1</td>\n",
       "      <td>facebook</td>\n",
       "      <td>74</td>\n",
       "      <td>125</td>\n",
       "      <td>0.075365</td>\n",
       "    </tr>\n",
       "    <tr>\n",
       "      <td>2</td>\n",
       "      <td>apple</td>\n",
       "      <td>148</td>\n",
       "      <td>127</td>\n",
       "      <td>0.138069</td>\n",
       "    </tr>\n",
       "    <tr>\n",
       "      <td>3</td>\n",
       "      <td>xiaomi</td>\n",
       "      <td>98</td>\n",
       "      <td>149</td>\n",
       "      <td>0.115906</td>\n",
       "    </tr>\n",
       "  </tbody>\n",
       "</table>\n",
       "</div>"
      ],
      "text/plain": [
       "       name  pos negative  sentiment_avg\n",
       "0     tesla  168      285       0.094774\n",
       "1  facebook   74      125       0.075365\n",
       "2     apple  148      127       0.138069\n",
       "3    xiaomi   98      149       0.115906"
      ]
     },
     "execution_count": 72,
     "metadata": {},
     "output_type": "execute_result"
    }
   ],
   "source": [
    "import pandas as pd\n",
    "df = pd.DataFrame(columns=['name', 'pos', 'negative', 'sentiment_avg'])\n",
    "queries = [ 'tesla', 'facebook', 'apple', 'xiaomi']\n",
    "\n",
    "for q in queries:\n",
    "    mean_polarity, pos_polarity, neg_polarity, neutral_polarity = polarity_tweets_pais(q)\n",
    "    total = pos_polarity + neg_polarity + neutral_polarity \n",
    "    print('Query: ', q)\n",
    "    print('SENTIMENT AVERAGE: ' , mean_polarity/total)\n",
    "    print('Positive: ', pos_polarity, (pos_polarity/total) * 100)\n",
    "    print('Negative: ', neg_polarity, (neg_polarity/total) * 100)\n",
    "    print('neutral: ', neutral_polarity, (neutral_polarity/total) * 100)\n",
    "    print('----------------------------------------------')\n",
    "    \n",
    "    i = len(df)\n",
    "    df.loc[i] = [q, pos_polarity, neg_polarity, mean_polarity/total]\n",
    "df"
   ]
  },
  {
   "cell_type": "code",
   "execution_count": 73,
   "metadata": {},
   "outputs": [
    {
     "data": {
      "text/html": [
       "<div>\n",
       "<style scoped>\n",
       "    .dataframe tbody tr th:only-of-type {\n",
       "        vertical-align: middle;\n",
       "    }\n",
       "\n",
       "    .dataframe tbody tr th {\n",
       "        vertical-align: top;\n",
       "    }\n",
       "\n",
       "    .dataframe thead th {\n",
       "        text-align: right;\n",
       "    }\n",
       "</style>\n",
       "<table border=\"1\" class=\"dataframe\">\n",
       "  <thead>\n",
       "    <tr style=\"text-align: right;\">\n",
       "      <th></th>\n",
       "      <th>name</th>\n",
       "      <th>%pos</th>\n",
       "      <th>%neg</th>\n",
       "      <th>sentiment_avg</th>\n",
       "    </tr>\n",
       "  </thead>\n",
       "  <tbody>\n",
       "    <tr>\n",
       "      <td>0</td>\n",
       "      <td>tesla</td>\n",
       "      <td>40</td>\n",
       "      <td>60</td>\n",
       "      <td>0.094774</td>\n",
       "    </tr>\n",
       "    <tr>\n",
       "      <td>1</td>\n",
       "      <td>facebook</td>\n",
       "      <td>40</td>\n",
       "      <td>60</td>\n",
       "      <td>0.075365</td>\n",
       "    </tr>\n",
       "    <tr>\n",
       "      <td>2</td>\n",
       "      <td>apple</td>\n",
       "      <td>50</td>\n",
       "      <td>50</td>\n",
       "      <td>0.138069</td>\n",
       "    </tr>\n",
       "    <tr>\n",
       "      <td>3</td>\n",
       "      <td>xiaomi</td>\n",
       "      <td>40</td>\n",
       "      <td>60</td>\n",
       "      <td>0.115906</td>\n",
       "    </tr>\n",
       "  </tbody>\n",
       "</table>\n",
       "</div>"
      ],
      "text/plain": [
       "       name  %pos  %neg  sentiment_avg\n",
       "0     tesla    40    60       0.094774\n",
       "1  facebook    40    60       0.075365\n",
       "2     apple    50    50       0.138069\n",
       "3    xiaomi    40    60       0.115906"
      ]
     },
     "execution_count": 73,
     "metadata": {},
     "output_type": "execute_result"
    }
   ],
   "source": [
    "df[\"%pos\"] = df.pos / (df.pos + df.negative)\n",
    "df[\"%neg\"] = df.negative / (df.pos + df.negative)\n",
    "df[\"%pos\"] = df[\"%pos\"].apply(lambda x: int(round(x,1) * 100))\n",
    "df[\"%neg\"] = df[\"%neg\"].apply(lambda x: int(round(x,1) * 100))\n",
    "df.loc[:, ['name', \"%pos\", \"%neg\", 'sentiment_avg' ]]"
   ]
  },
  {
   "cell_type": "markdown",
   "metadata": {},
   "source": [
    "### gravando os dados do dataframe num arquivo .csv"
   ]
  },
  {
   "cell_type": "code",
   "execution_count": 74,
   "metadata": {},
   "outputs": [],
   "source": [
    "from datetime import datetime\n",
    "data_agora = str(datetime.now())\n",
    "df.to_csv(\"sentimentos-\"+ data_agora +\".csv\")"
   ]
  },
  {
   "cell_type": "code",
   "execution_count": 75,
   "metadata": {},
   "outputs": [
    {
     "data": {
      "text/html": [
       "<div>\n",
       "<style scoped>\n",
       "    .dataframe tbody tr th:only-of-type {\n",
       "        vertical-align: middle;\n",
       "    }\n",
       "\n",
       "    .dataframe tbody tr th {\n",
       "        vertical-align: top;\n",
       "    }\n",
       "\n",
       "    .dataframe thead th {\n",
       "        text-align: right;\n",
       "    }\n",
       "</style>\n",
       "<table border=\"1\" class=\"dataframe\">\n",
       "  <thead>\n",
       "    <tr style=\"text-align: right;\">\n",
       "      <th></th>\n",
       "      <th>name</th>\n",
       "      <th>%pos</th>\n",
       "      <th>%neg</th>\n",
       "    </tr>\n",
       "  </thead>\n",
       "  <tbody>\n",
       "    <tr>\n",
       "      <td>0</td>\n",
       "      <td>tesla</td>\n",
       "      <td>40</td>\n",
       "      <td>60</td>\n",
       "    </tr>\n",
       "    <tr>\n",
       "      <td>1</td>\n",
       "      <td>facebook</td>\n",
       "      <td>40</td>\n",
       "      <td>60</td>\n",
       "    </tr>\n",
       "    <tr>\n",
       "      <td>2</td>\n",
       "      <td>apple</td>\n",
       "      <td>50</td>\n",
       "      <td>50</td>\n",
       "    </tr>\n",
       "    <tr>\n",
       "      <td>3</td>\n",
       "      <td>xiaomi</td>\n",
       "      <td>40</td>\n",
       "      <td>60</td>\n",
       "    </tr>\n",
       "  </tbody>\n",
       "</table>\n",
       "</div>"
      ],
      "text/plain": [
       "       name  %pos  %neg\n",
       "0     tesla    40    60\n",
       "1  facebook    40    60\n",
       "2     apple    50    50\n",
       "3    xiaomi    40    60"
      ]
     },
     "execution_count": 75,
     "metadata": {},
     "output_type": "execute_result"
    }
   ],
   "source": [
    "df.loc[:, ['name', \"%pos\", \"%neg\" ]]"
   ]
  },
  {
   "cell_type": "code",
   "execution_count": null,
   "metadata": {},
   "outputs": [],
   "source": []
  }
 ],
 "metadata": {
  "kernelspec": {
   "display_name": "Python 3",
   "language": "python",
   "name": "python3"
  },
  "language_info": {
   "codemirror_mode": {
    "name": "ipython",
    "version": 3
   },
   "file_extension": ".py",
   "mimetype": "text/x-python",
   "name": "python",
   "nbconvert_exporter": "python",
   "pygments_lexer": "ipython3",
   "version": "3.7.4"
  }
 },
 "nbformat": 4,
 "nbformat_minor": 2
}
