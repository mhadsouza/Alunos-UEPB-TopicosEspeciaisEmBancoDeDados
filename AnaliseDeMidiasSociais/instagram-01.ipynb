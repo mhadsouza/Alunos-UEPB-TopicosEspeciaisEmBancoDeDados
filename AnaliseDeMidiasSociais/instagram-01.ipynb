{
 "cells": [
  {
   "cell_type": "markdown",
   "metadata": {},
   "source": [
    "# Análise de Mídias Sociais - Instagram"
   ]
  },
  {
   "cell_type": "markdown",
   "metadata": {},
   "source": [
    "## Para acessar o Instagram, Obter o tokem na página:\n",
    "https://www.instagram.com/developer/"
   ]
  },
  {
   "cell_type": "code",
   "execution_count": 1,
   "metadata": {},
   "outputs": [],
   "source": [
    "ClientID = \"4485475a50924bba870709280b2859ae\"\n",
    "ClientSecret = \"29605cacb9e348ea92afcaeb3a12febe\""
   ]
  },
  {
   "cell_type": "markdown",
   "metadata": {},
   "source": [
    "Obter: o ClientID e o ClientSecret\n",
    "Depois executar no browser: (colocar sua url, ex: https://www.valencar.com/)\n",
    "https://www.instagram.com/oauth/authorize/?client_id=4485475a50924bba870709280b2859ae&redirect_uri=https://www.valencar.com/&response_type=code     "
   ]
  },
  {
   "cell_type": "markdown",
   "metadata": {},
   "source": [
    "Ele vai retornar o CODIGO DE ACESSO: <BR />\n",
    "https://www.valencar.com/?code=1b28b512b75e4f48824ae1ff0eda3989 <BR />\n",
    "code = \"18f92408781243a4bdd3c93073326f5d\""
   ]
  },
  {
   "cell_type": "markdown",
   "metadata": {},
   "source": [
    "Inserir na linha abaixo o code (código de acesso) e executar:"
   ]
  },
  {
   "cell_type": "code",
   "execution_count": 4,
   "metadata": {},
   "outputs": [
    {
     "name": "stdout",
     "output_type": "stream",
     "text": [
      "{\"access_token\": \"50947788.4485475.a9f9444f17894b8e928284ab8f72319c\", \"user\": {\"id\": \"50947788\", \"username\": \"valencar\", \"profile_picture\": \"https://scontent.cdninstagram.com/vp/c0d19674a71f22e9fd0860e0be9a4a59/5B5512DA/t51.2885-19/s150x150/21147186_336900780098502_541761952037208064_a.jpg\", \"full_name\": \"Vladimir Costa de Alencar\", \"bio\": \"Professor, PhD. Data Scientist. Big Data. Epidemiology. Python, R, Machine Learning. Business Analytics. Social Media Analysis. #datascience #bigdata\", \"website\": \"http://www.valencar.com/\", \"is_business\": true}}"
     ]
    }
   ],
   "source": [
    "!curl -F 'client_id=4485475a50924bba870709280b2859ae' \\\n",
    "-F 'client_secret=29605cacb9e348ea92afcaeb3a12febe' \\\n",
    "-F 'grant_type=authorization_code' \\\n",
    "-F 'redirect_uri=https://www.valencar.com/' \\\n",
    "-F 'code=18f92408781243a4bdd3c93073326f5d' \\\n",
    "https://api.instagram.com/oauth/access_token"
   ]
  },
  {
   "cell_type": "markdown",
   "metadata": {},
   "source": [
    "## Usar o access_token"
   ]
  },
  {
   "cell_type": "code",
   "execution_count": 5,
   "metadata": {},
   "outputs": [],
   "source": [
    "access_token = \"50947788.4485475.a9f9444f17894b8e928284ab8f72319c\""
   ]
  },
  {
   "cell_type": "markdown",
   "metadata": {},
   "source": [
    "## utilizando o requests com url para capturar informações do Instagram"
   ]
  },
  {
   "cell_type": "markdown",
   "metadata": {},
   "source": [
    "### Informações sobre o próprio usuário"
   ]
  },
  {
   "cell_type": "code",
   "execution_count": 6,
   "metadata": {},
   "outputs": [
    {
     "data": {
      "text/plain": [
       "{'data': {'bio': 'Professor, PhD. Data Scientist. Big Data. Epidemiology. Python, R, Machine Learning. Business Analytics. Social Media Analysis. #datascience #bigdata',\n",
       "  'counts': {'followed_by': 483, 'follows': 636, 'media': 105},\n",
       "  'full_name': 'Vladimir Costa de Alencar',\n",
       "  'id': '50947788',\n",
       "  'is_business': True,\n",
       "  'profile_picture': 'https://scontent.cdninstagram.com/vp/c0d19674a71f22e9fd0860e0be9a4a59/5B5512DA/t51.2885-19/s150x150/21147186_336900780098502_541761952037208064_a.jpg',\n",
       "  'username': 'valencar',\n",
       "  'website': 'http://www.valencar.com/'},\n",
       " 'meta': {'code': 200}}"
      ]
     },
     "execution_count": 6,
     "metadata": {},
     "output_type": "execute_result"
    }
   ],
   "source": [
    "import requests\n",
    "\n",
    "url = \"https://api.instagram.com/v1/users/self/?access_token=\" + access_token\n",
    "resp = requests.get(url=url)\n",
    "info = resp.json()\n",
    "info"
   ]
  },
  {
   "cell_type": "code",
   "execution_count": 7,
   "metadata": {},
   "outputs": [
    {
     "name": "stdout",
     "output_type": "stream",
     "text": [
      "Professor, PhD. Data Scientist. Big Data. Epidemiology. Python, R, Machine Learning. Business Analytics. Social Media Analysis. #datascience #bigdata\n",
      "{'media': 105, 'follows': 636, 'followed_by': 483}\n"
     ]
    }
   ],
   "source": [
    "print(info['data']['bio'])\n",
    "print(info['data']['counts'])"
   ]
  },
  {
   "cell_type": "markdown",
   "metadata": {},
   "source": [
    "### Informações sobre as mídias mais recentes do próprio usuário (fotos)"
   ]
  },
  {
   "cell_type": "code",
   "execution_count": 8,
   "metadata": {},
   "outputs": [
    {
     "data": {
      "text/plain": [
       "{'data': [{'attribution': None,\n",
       "   'caption': None,\n",
       "   'comments': {'count': 0},\n",
       "   'created_time': '1506112217',\n",
       "   'filter': 'Normal',\n",
       "   'id': '1609708407535083874_50947788',\n",
       "   'images': {'low_resolution': {'height': 241,\n",
       "     'url': 'https://scontent.cdninstagram.com/vp/dd0e6a7033f57321602af36814c0e414/5B5FC73E/t51.2885-15/s320x320/e15/21827769_885550611785033_3363623437661634560_n.jpg',\n",
       "     'width': 320},\n",
       "    'standard_resolution': {'height': 482,\n",
       "     'url': 'https://scontent.cdninstagram.com/vp/4d835775da881e13dfaf7caae7be0060/5B52941C/t51.2885-15/e15/21827769_885550611785033_3363623437661634560_n.jpg',\n",
       "     'width': 640},\n",
       "    'thumbnail': {'height': 150,\n",
       "     'url': 'https://scontent.cdninstagram.com/vp/c94ce1e3543ef8516d273b0208366a83/5B6211E8/t51.2885-15/s150x150/e15/c79.0.482.482/21827769_885550611785033_3363623437661634560_n.jpg',\n",
       "     'width': 150}},\n",
       "   'likes': {'count': 40},\n",
       "   'link': 'https://www.instagram.com/p/BZW1USfFqFi/',\n",
       "   'location': None,\n",
       "   'tags': [],\n",
       "   'type': 'image',\n",
       "   'user': {'full_name': 'Vladimir Costa de Alencar',\n",
       "    'id': '50947788',\n",
       "    'profile_picture': 'https://scontent.cdninstagram.com/vp/c0d19674a71f22e9fd0860e0be9a4a59/5B5512DA/t51.2885-19/s150x150/21147186_336900780098502_541761952037208064_a.jpg',\n",
       "    'username': 'valencar'},\n",
       "   'user_has_liked': False,\n",
       "   'users_in_photo': []},\n",
       "  {'attribution': None,\n",
       "   'caption': {'created_time': '1505762841',\n",
       "    'from': {'full_name': 'Vladimir Costa de Alencar',\n",
       "     'id': '50947788',\n",
       "     'profile_picture': 'https://scontent.cdninstagram.com/vp/c0d19674a71f22e9fd0860e0be9a4a59/5B5512DA/t51.2885-19/s150x150/21147186_336900780098502_541761952037208064_a.jpg',\n",
       "     'username': 'valencar'},\n",
       "    'id': '17899565245027539',\n",
       "    'text': 'Origens Maternas...'},\n",
       "   'comments': {'count': 1},\n",
       "   'created_time': '1505762841',\n",
       "   'filter': 'Normal',\n",
       "   'id': '1606777634074958008_50947788',\n",
       "   'images': {'low_resolution': {'height': 320,\n",
       "     'url': 'https://scontent.cdninstagram.com/vp/0996b5312e8d9410eed5afadfa34f657/5B708129/t51.2885-15/s320x320/e35/21820177_173408243224994_1660416279116251136_n.jpg',\n",
       "     'width': 320},\n",
       "    'standard_resolution': {'height': 640,\n",
       "     'url': 'https://scontent.cdninstagram.com/vp/d97d2199bdfb4737378c809da5f73c03/5B69366A/t51.2885-15/s640x640/sh0.08/e35/21820177_173408243224994_1660416279116251136_n.jpg',\n",
       "     'width': 640},\n",
       "    'thumbnail': {'height': 150,\n",
       "     'url': 'https://scontent.cdninstagram.com/vp/495ac3930bb725ade08d53ffb8fe4dde/5B53A66E/t51.2885-15/s150x150/e35/21820177_173408243224994_1660416279116251136_n.jpg',\n",
       "     'width': 150}},\n",
       "   'likes': {'count': 26},\n",
       "   'link': 'https://www.instagram.com/p/BZMa77AFJi4/',\n",
       "   'location': {'id': 217946449,\n",
       "    'latitude': -7.0708333333333,\n",
       "    'longitude': -35.757777777778,\n",
       "    'name': 'Alagoa Nova'},\n",
       "   'tags': [],\n",
       "   'type': 'image',\n",
       "   'user': {'full_name': 'Vladimir Costa de Alencar',\n",
       "    'id': '50947788',\n",
       "    'profile_picture': 'https://scontent.cdninstagram.com/vp/c0d19674a71f22e9fd0860e0be9a4a59/5B5512DA/t51.2885-19/s150x150/21147186_336900780098502_541761952037208064_a.jpg',\n",
       "    'username': 'valencar'},\n",
       "   'user_has_liked': False,\n",
       "   'users_in_photo': []},\n",
       "  {'attribution': None,\n",
       "   'caption': {'created_time': '1505058605',\n",
       "    'from': {'full_name': 'Vladimir Costa de Alencar',\n",
       "     'id': '50947788',\n",
       "     'profile_picture': 'https://scontent.cdninstagram.com/vp/c0d19674a71f22e9fd0860e0be9a4a59/5B5512DA/t51.2885-19/s150x150/21147186_336900780098502_541761952037208064_a.jpg',\n",
       "     'username': 'valencar'},\n",
       "    'id': '17870253022171016',\n",
       "    'text': 'LANA: https://www.valencar.com/projects'},\n",
       "   'comments': {'count': 0},\n",
       "   'created_time': '1505058605',\n",
       "   'filter': 'Normal',\n",
       "   'id': '1600870074004522570_50947788',\n",
       "   'images': {'low_resolution': {'height': 180,\n",
       "     'url': 'https://scontent.cdninstagram.com/vp/7aca8f8719c16fe298c5b6c56b8ab391/5B5F42E1/t51.2885-15/s320x320/e35/21569193_1966702906939433_8869624554532634624_n.jpg',\n",
       "     'width': 320},\n",
       "    'standard_resolution': {'height': 360,\n",
       "     'url': 'https://scontent.cdninstagram.com/vp/1308eb0e4d103b40f5bf9211fd46a0e7/5B5056AC/t51.2885-15/s640x640/sh0.08/e35/21569193_1966702906939433_8869624554532634624_n.jpg',\n",
       "     'width': 640},\n",
       "    'thumbnail': {'height': 150,\n",
       "     'url': 'https://scontent.cdninstagram.com/vp/befc154b15fbee3e78cbc89baefc5a46/5B581D08/t51.2885-15/s150x150/e35/c157.0.405.405/21569193_1966702906939433_8869624554532634624_n.jpg',\n",
       "     'width': 150}},\n",
       "   'likes': {'count': 156},\n",
       "   'link': 'https://www.instagram.com/p/BY3btm8l8ZK/',\n",
       "   'location': {'id': 103424327,\n",
       "    'latitude': -7.2306,\n",
       "    'longitude': -35.8811,\n",
       "    'name': 'Campina Grande'},\n",
       "   'tags': [],\n",
       "   'type': 'image',\n",
       "   'user': {'full_name': 'Vladimir Costa de Alencar',\n",
       "    'id': '50947788',\n",
       "    'profile_picture': 'https://scontent.cdninstagram.com/vp/c0d19674a71f22e9fd0860e0be9a4a59/5B5512DA/t51.2885-19/s150x150/21147186_336900780098502_541761952037208064_a.jpg',\n",
       "    'username': 'valencar'},\n",
       "   'user_has_liked': False,\n",
       "   'users_in_photo': []},\n",
       "  {'attribution': None,\n",
       "   'caption': None,\n",
       "   'comments': {'count': 2},\n",
       "   'created_time': '1504870185',\n",
       "   'filter': 'Normal',\n",
       "   'id': '1599289486596302070_50947788',\n",
       "   'images': {'low_resolution': {'height': 320,\n",
       "     'url': 'https://scontent.cdninstagram.com/vp/2cc054d2d5d68111e07694249e8b1316/5B6E9149/t51.2885-15/s320x320/e35/21435622_124651601602116_8471303180058099712_n.jpg',\n",
       "     'width': 320},\n",
       "    'standard_resolution': {'height': 640,\n",
       "     'url': 'https://scontent.cdninstagram.com/vp/5d5b6fbe6a05a567a3c0620d83bf9f49/5B6B476B/t51.2885-15/e35/21435622_124651601602116_8471303180058099712_n.jpg',\n",
       "     'width': 640},\n",
       "    'thumbnail': {'height': 150,\n",
       "     'url': 'https://scontent.cdninstagram.com/vp/cabc4f67838b0d42fce91dbfee0aa7e5/5B6F780E/t51.2885-15/s150x150/e35/21435622_124651601602116_8471303180058099712_n.jpg',\n",
       "     'width': 150}},\n",
       "   'likes': {'count': 24},\n",
       "   'link': 'https://www.instagram.com/p/BYx0VCNluT2/',\n",
       "   'location': None,\n",
       "   'tags': [],\n",
       "   'type': 'image',\n",
       "   'user': {'full_name': 'Vladimir Costa de Alencar',\n",
       "    'id': '50947788',\n",
       "    'profile_picture': 'https://scontent.cdninstagram.com/vp/c0d19674a71f22e9fd0860e0be9a4a59/5B5512DA/t51.2885-19/s150x150/21147186_336900780098502_541761952037208064_a.jpg',\n",
       "    'username': 'valencar'},\n",
       "   'user_has_liked': False,\n",
       "   'users_in_photo': []},\n",
       "  {'attribution': None,\n",
       "   'caption': {'created_time': '1504539339',\n",
       "    'from': {'full_name': 'Vladimir Costa de Alencar',\n",
       "     'id': '50947788',\n",
       "     'profile_picture': 'https://scontent.cdninstagram.com/vp/c0d19674a71f22e9fd0860e0be9a4a59/5B5512DA/t51.2885-19/s150x150/21147186_336900780098502_541761952037208064_a.jpg',\n",
       "     'username': 'valencar'},\n",
       "    'id': '17881848541086337',\n",
       "    'text': 'Silicon Valley Labs'},\n",
       "   'comments': {'count': 0},\n",
       "   'created_time': '1504539339',\n",
       "   'filter': 'Normal',\n",
       "   'id': '1596514152943471406_50947788',\n",
       "   'images': {'low_resolution': {'height': 320,\n",
       "     'url': 'https://scontent.cdninstagram.com/vp/3acf0df839a68f0a094752cf926850b3/5B65D24E/t51.2885-15/e35/21372205_294571050950091_7456896445216456704_n.jpg',\n",
       "     'width': 320},\n",
       "    'standard_resolution': {'height': 320,\n",
       "     'url': 'https://scontent.cdninstagram.com/vp/3acf0df839a68f0a094752cf926850b3/5B65D24E/t51.2885-15/e35/21372205_294571050950091_7456896445216456704_n.jpg',\n",
       "     'width': 320},\n",
       "    'thumbnail': {'height': 150,\n",
       "     'url': 'https://scontent.cdninstagram.com/vp/4a01f23d6d2bf174de8a1b2a742a3ea6/5B72E92B/t51.2885-15/s150x150/e35/21372205_294571050950091_7456896445216456704_n.jpg',\n",
       "     'width': 150}},\n",
       "   'likes': {'count': 16},\n",
       "   'link': 'https://www.instagram.com/p/BYn9SnVFEsu/',\n",
       "   'location': {'id': 240069720,\n",
       "    'latitude': 37.2106,\n",
       "    'longitude': -121.808,\n",
       "    'name': 'IBM Research - Almaden'},\n",
       "   'tags': [],\n",
       "   'type': 'image',\n",
       "   'user': {'full_name': 'Vladimir Costa de Alencar',\n",
       "    'id': '50947788',\n",
       "    'profile_picture': 'https://scontent.cdninstagram.com/vp/c0d19674a71f22e9fd0860e0be9a4a59/5B5512DA/t51.2885-19/s150x150/21147186_336900780098502_541761952037208064_a.jpg',\n",
       "    'username': 'valencar'},\n",
       "   'user_has_liked': False,\n",
       "   'users_in_photo': []},\n",
       "  {'attribution': None,\n",
       "   'caption': None,\n",
       "   'comments': {'count': 0},\n",
       "   'created_time': '1504539289',\n",
       "   'filter': 'Normal',\n",
       "   'id': '1596513730166082553_50947788',\n",
       "   'images': {'low_resolution': {'height': 320,\n",
       "     'url': 'https://scontent.cdninstagram.com/vp/c2f6916c367cd341b13f8cc196f74597/5B5086B9/t51.2885-15/s320x320/e35/21371863_1908370802746080_2932899227883274240_n.jpg',\n",
       "     'width': 320},\n",
       "    'standard_resolution': {'height': 480,\n",
       "     'url': 'https://scontent.cdninstagram.com/vp/c730bb167d4bcc14074dad0e9bfc0b0a/5B5B2CDE/t51.2885-15/e35/21371863_1908370802746080_2932899227883274240_n.jpg',\n",
       "     'width': 480},\n",
       "    'thumbnail': {'height': 150,\n",
       "     'url': 'https://scontent.cdninstagram.com/vp/650b0cecc5c5be279d49df98c2df8749/5B53F989/t51.2885-15/s150x150/e35/21371863_1908370802746080_2932899227883274240_n.jpg',\n",
       "     'width': 150}},\n",
       "   'likes': {'count': 0},\n",
       "   'link': 'https://www.instagram.com/p/BYn9MdllUv5/',\n",
       "   'location': {'id': 213070948,\n",
       "    'latitude': 37.3041,\n",
       "    'longitude': -121.873,\n",
       "    'name': 'San Jose, California'},\n",
       "   'tags': [],\n",
       "   'type': 'image',\n",
       "   'user': {'full_name': 'Vladimir Costa de Alencar',\n",
       "    'id': '50947788',\n",
       "    'profile_picture': 'https://scontent.cdninstagram.com/vp/c0d19674a71f22e9fd0860e0be9a4a59/5B5512DA/t51.2885-19/s150x150/21147186_336900780098502_541761952037208064_a.jpg',\n",
       "    'username': 'valencar'},\n",
       "   'user_has_liked': False,\n",
       "   'users_in_photo': []},\n",
       "  {'attribution': None,\n",
       "   'caption': None,\n",
       "   'comments': {'count': 1},\n",
       "   'created_time': '1504539246',\n",
       "   'filter': 'Normal',\n",
       "   'id': '1596513374195596661_50947788',\n",
       "   'images': {'low_resolution': {'height': 320,\n",
       "     'url': 'https://scontent.cdninstagram.com/vp/5cd49d908815419061bd9775c96d7efc/5B535DFA/t51.2885-15/s320x320/e35/21372885_1785797064767056_8881531436532760576_n.jpg',\n",
       "     'width': 320},\n",
       "    'standard_resolution': {'height': 640,\n",
       "     'url': 'https://scontent.cdninstagram.com/vp/b01cb2e7b0412c41e812391b1d01e1c9/5B70EDB7/t51.2885-15/s640x640/sh0.08/e35/21372885_1785797064767056_8881531436532760576_n.jpg',\n",
       "     'width': 640},\n",
       "    'thumbnail': {'height': 150,\n",
       "     'url': 'https://scontent.cdninstagram.com/vp/05a5b37fbeb672a511c87288867e7854/5B7437CA/t51.2885-15/s150x150/e35/21372885_1785797064767056_8881531436532760576_n.jpg',\n",
       "     'width': 150}},\n",
       "   'likes': {'count': 19},\n",
       "   'link': 'https://www.instagram.com/p/BYn9HSEFr11/',\n",
       "   'location': {'id': 213070948,\n",
       "    'latitude': 37.3041,\n",
       "    'longitude': -121.873,\n",
       "    'name': 'San Jose, California'},\n",
       "   'tags': [],\n",
       "   'type': 'image',\n",
       "   'user': {'full_name': 'Vladimir Costa de Alencar',\n",
       "    'id': '50947788',\n",
       "    'profile_picture': 'https://scontent.cdninstagram.com/vp/c0d19674a71f22e9fd0860e0be9a4a59/5B5512DA/t51.2885-19/s150x150/21147186_336900780098502_541761952037208064_a.jpg',\n",
       "    'username': 'valencar'},\n",
       "   'user_has_liked': False,\n",
       "   'users_in_photo': []},\n",
       "  {'attribution': None,\n",
       "   'caption': {'created_time': '1504286170',\n",
       "    'from': {'full_name': 'Vladimir Costa de Alencar',\n",
       "     'id': '50947788',\n",
       "     'profile_picture': 'https://scontent.cdninstagram.com/vp/c0d19674a71f22e9fd0860e0be9a4a59/5B5512DA/t51.2885-19/s150x150/21147186_336900780098502_541761952037208064_a.jpg',\n",
       "     'username': 'valencar'},\n",
       "    'id': '17869318717172318',\n",
       "    'text': 'Disponível em https://editoracrv.com.br/produtos/detalhes/32519-detalhes'},\n",
       "   'comments': {'count': 2},\n",
       "   'created_time': '1504286170',\n",
       "   'filter': 'Normal',\n",
       "   'id': '1594390414844471985_50947788',\n",
       "   'images': {'low_resolution': {'height': 320,\n",
       "     'url': 'https://scontent.cdninstagram.com/vp/65ea9d998101f3494285a7e3c2c41723/5B67ACDE/t51.2885-15/s320x320/e35/21149178_1959047894372709_1257944308376403968_n.jpg',\n",
       "     'width': 320},\n",
       "    'standard_resolution': {'height': 640,\n",
       "     'url': 'https://scontent.cdninstagram.com/vp/5b3af3623524db31bf4030fd4baa9ed5/5B751193/t51.2885-15/s640x640/sh0.08/e35/21149178_1959047894372709_1257944308376403968_n.jpg',\n",
       "     'width': 640},\n",
       "    'thumbnail': {'height': 150,\n",
       "     'url': 'https://scontent.cdninstagram.com/vp/883175e04340cdf3fd5d6f194c7d1730/5B653AEE/t51.2885-15/s150x150/e35/21149178_1959047894372709_1257944308376403968_n.jpg',\n",
       "     'width': 150}},\n",
       "   'likes': {'count': 11},\n",
       "   'link': 'https://www.instagram.com/p/BYgaaKGF6qx/',\n",
       "   'location': {'id': 103424327,\n",
       "    'latitude': -7.2306,\n",
       "    'longitude': -35.8811,\n",
       "    'name': 'Campina Grande'},\n",
       "   'tags': [],\n",
       "   'type': 'image',\n",
       "   'user': {'full_name': 'Vladimir Costa de Alencar',\n",
       "    'id': '50947788',\n",
       "    'profile_picture': 'https://scontent.cdninstagram.com/vp/c0d19674a71f22e9fd0860e0be9a4a59/5B5512DA/t51.2885-19/s150x150/21147186_336900780098502_541761952037208064_a.jpg',\n",
       "    'username': 'valencar'},\n",
       "   'user_has_liked': False,\n",
       "   'users_in_photo': []},\n",
       "  {'attribution': None,\n",
       "   'caption': None,\n",
       "   'comments': {'count': 1},\n",
       "   'created_time': '1503689059',\n",
       "   'filter': 'Normal',\n",
       "   'id': '1589381486913976744_50947788',\n",
       "   'images': {'low_resolution': {'height': 200,\n",
       "     'url': 'https://scontent.cdninstagram.com/vp/0e2a4510648b51da062645f3482c7eb4/5B5AF52B/t51.2885-15/s320x320/e35/21147647_114064192627143_835771503038431232_n.jpg',\n",
       "     'width': 320},\n",
       "    'standard_resolution': {'height': 400,\n",
       "     'url': 'https://scontent.cdninstagram.com/vp/ee1ff456f7f9e8223b8867ae206d79cf/5B513CF7/t51.2885-15/s640x640/sh0.08/e35/21147647_114064192627143_835771503038431232_n.jpg',\n",
       "     'width': 640},\n",
       "    'thumbnail': {'height': 150,\n",
       "     'url': 'https://scontent.cdninstagram.com/vp/ab812321fab7c9bc500bb364b5d966b0/5B6959C2/t51.2885-15/s150x150/e35/c120.0.402.402/21147647_114064192627143_835771503038431232_n.jpg',\n",
       "     'width': 150}},\n",
       "   'likes': {'count': 14},\n",
       "   'link': 'https://www.instagram.com/p/BYOngqcFvmo/',\n",
       "   'location': {'id': 103424327,\n",
       "    'latitude': -7.2306,\n",
       "    'longitude': -35.8811,\n",
       "    'name': 'Campina Grande'},\n",
       "   'tags': [],\n",
       "   'type': 'image',\n",
       "   'user': {'full_name': 'Vladimir Costa de Alencar',\n",
       "    'id': '50947788',\n",
       "    'profile_picture': 'https://scontent.cdninstagram.com/vp/c0d19674a71f22e9fd0860e0be9a4a59/5B5512DA/t51.2885-19/s150x150/21147186_336900780098502_541761952037208064_a.jpg',\n",
       "    'username': 'valencar'},\n",
       "   'user_has_liked': False,\n",
       "   'users_in_photo': []},\n",
       "  {'attribution': None,\n",
       "   'caption': None,\n",
       "   'comments': {'count': 0},\n",
       "   'created_time': '1503689024',\n",
       "   'filter': 'Normal',\n",
       "   'id': '1589381193203552260_50947788',\n",
       "   'images': {'low_resolution': {'height': 179,\n",
       "     'url': 'https://scontent.cdninstagram.com/vp/40998a602039007598956da7e7429e8c/5B66A66D/t51.2885-15/s320x320/e35/21041529_555892131468503_3901510513154064384_n.jpg',\n",
       "     'width': 320},\n",
       "    'standard_resolution': {'height': 358,\n",
       "     'url': 'https://scontent.cdninstagram.com/vp/66d5abdd991ad879738064fd060d378d/5B51EA2E/t51.2885-15/s640x640/sh0.08/e35/21041529_555892131468503_3901510513154064384_n.jpg',\n",
       "     'width': 640},\n",
       "    'thumbnail': {'height': 150,\n",
       "     'url': 'https://scontent.cdninstagram.com/vp/a45021794e65f2ecbb26bab6e83fa00b/5B5B5914/t51.2885-15/s150x150/e35/c158.0.402.402/21041529_555892131468503_3901510513154064384_n.jpg',\n",
       "     'width': 150}},\n",
       "   'likes': {'count': 12},\n",
       "   'link': 'https://www.instagram.com/p/BYOncY5lZAE/',\n",
       "   'location': {'id': 103424327,\n",
       "    'latitude': -7.2306,\n",
       "    'longitude': -35.8811,\n",
       "    'name': 'Campina Grande'},\n",
       "   'tags': [],\n",
       "   'type': 'image',\n",
       "   'user': {'full_name': 'Vladimir Costa de Alencar',\n",
       "    'id': '50947788',\n",
       "    'profile_picture': 'https://scontent.cdninstagram.com/vp/c0d19674a71f22e9fd0860e0be9a4a59/5B5512DA/t51.2885-19/s150x150/21147186_336900780098502_541761952037208064_a.jpg',\n",
       "    'username': 'valencar'},\n",
       "   'user_has_liked': False,\n",
       "   'users_in_photo': []},\n",
       "  {'attribution': None,\n",
       "   'caption': None,\n",
       "   'comments': {'count': 3},\n",
       "   'created_time': '1503667588',\n",
       "   'filter': 'Ludwig',\n",
       "   'id': '1589201371235924968_50947788',\n",
       "   'images': {'low_resolution': {'height': 400,\n",
       "     'url': 'https://scontent.cdninstagram.com/vp/a9774803a8226181ded7ebe114e5f2f0/5B624A3F/t51.2885-15/e35/p320x320/20987354_498694557132560_5143573965205143552_n.jpg',\n",
       "     'width': 320},\n",
       "    'standard_resolution': {'height': 800,\n",
       "     'url': 'https://scontent.cdninstagram.com/vp/276237673890fddde0dbff3d35da8da4/5B674268/t51.2885-15/sh0.08/e35/p640x640/20987354_498694557132560_5143573965205143552_n.jpg',\n",
       "     'width': 640},\n",
       "    'thumbnail': {'height': 150,\n",
       "     'url': 'https://scontent.cdninstagram.com/vp/89bbf5d32bcb2da6332f7f7535b0eca8/5B67CF9A/t51.2885-15/s150x150/e35/c0.130.1042.1042/20987354_498694557132560_5143573965205143552_n.jpg',\n",
       "     'width': 150}},\n",
       "   'likes': {'count': 54},\n",
       "   'link': 'https://www.instagram.com/p/BYN-jopFLvo/',\n",
       "   'location': None,\n",
       "   'tags': [],\n",
       "   'type': 'image',\n",
       "   'user': {'full_name': 'Vladimir Costa de Alencar',\n",
       "    'id': '50947788',\n",
       "    'profile_picture': 'https://scontent.cdninstagram.com/vp/c0d19674a71f22e9fd0860e0be9a4a59/5B5512DA/t51.2885-19/s150x150/21147186_336900780098502_541761952037208064_a.jpg',\n",
       "    'username': 'valencar'},\n",
       "   'user_has_liked': False,\n",
       "   'users_in_photo': []},\n",
       "  {'attribution': None,\n",
       "   'caption': None,\n",
       "   'comments': {'count': 0},\n",
       "   'created_time': '1503586906',\n",
       "   'filter': 'Normal',\n",
       "   'id': '1588524567378700274_50947788',\n",
       "   'images': {'low_resolution': {'height': 320,\n",
       "     'url': 'https://scontent.cdninstagram.com/vp/9b9c74ad66ea6fb178592fd9c0479b98/5B52FA4B/t51.2885-15/s320x320/e35/21107610_266932500459765_4711020876747767808_n.jpg',\n",
       "     'width': 320},\n",
       "    'standard_resolution': {'height': 480,\n",
       "     'url': 'https://scontent.cdninstagram.com/vp/0f9fc98e39a2e50dcf407c936acda54b/5B6EF869/t51.2885-15/e35/21107610_266932500459765_4711020876747767808_n.jpg',\n",
       "     'width': 480},\n",
       "    'thumbnail': {'height': 150,\n",
       "     'url': 'https://scontent.cdninstagram.com/vp/c021a56cebf3ec6c9a99b0d77add5cef/5B61E10C/t51.2885-15/s150x150/e35/21107610_266932500459765_4711020876747767808_n.jpg',\n",
       "     'width': 150}},\n",
       "   'likes': {'count': 22},\n",
       "   'link': 'https://www.instagram.com/p/BYLkq17lqfy/',\n",
       "   'location': {'id': 44961364,\n",
       "    'latitude': 37.7793,\n",
       "    'longitude': -122.419,\n",
       "    'name': 'San Francisco, California'},\n",
       "   'tags': [],\n",
       "   'type': 'image',\n",
       "   'user': {'full_name': 'Vladimir Costa de Alencar',\n",
       "    'id': '50947788',\n",
       "    'profile_picture': 'https://scontent.cdninstagram.com/vp/c0d19674a71f22e9fd0860e0be9a4a59/5B5512DA/t51.2885-19/s150x150/21147186_336900780098502_541761952037208064_a.jpg',\n",
       "    'username': 'valencar'},\n",
       "   'user_has_liked': False,\n",
       "   'users_in_photo': []},\n",
       "  {'attribution': None,\n",
       "   'caption': None,\n",
       "   'comments': {'count': 0},\n",
       "   'created_time': '1503586889',\n",
       "   'filter': 'Normal',\n",
       "   'id': '1588524418824847988_50947788',\n",
       "   'images': {'low_resolution': {'height': 320,\n",
       "     'url': 'https://scontent.cdninstagram.com/vp/018177cc8774e2d671ffe0f7adcc684c/5B701553/t51.2885-15/s320x320/e35/21040980_166867220536623_9145511503913287680_n.jpg',\n",
       "     'width': 320},\n",
       "    'standard_resolution': {'height': 640,\n",
       "     'url': 'https://scontent.cdninstagram.com/vp/babdb4fc47eb16c8f97fe397910875d9/5B6DBF10/t51.2885-15/s640x640/sh0.08/e35/21040980_166867220536623_9145511503913287680_n.jpg',\n",
       "     'width': 640},\n",
       "    'thumbnail': {'height': 150,\n",
       "     'url': 'https://scontent.cdninstagram.com/vp/9544f2922789f7f79b1f6d2414329934/5B733314/t51.2885-15/s150x150/e35/21040980_166867220536623_9145511503913287680_n.jpg',\n",
       "     'width': 150}},\n",
       "   'likes': {'count': 17},\n",
       "   'link': 'https://www.instagram.com/p/BYLkorlFsJ0/',\n",
       "   'location': {'id': 44961364,\n",
       "    'latitude': 37.7793,\n",
       "    'longitude': -122.419,\n",
       "    'name': 'San Francisco, California'},\n",
       "   'tags': [],\n",
       "   'type': 'image',\n",
       "   'user': {'full_name': 'Vladimir Costa de Alencar',\n",
       "    'id': '50947788',\n",
       "    'profile_picture': 'https://scontent.cdninstagram.com/vp/c0d19674a71f22e9fd0860e0be9a4a59/5B5512DA/t51.2885-19/s150x150/21147186_336900780098502_541761952037208064_a.jpg',\n",
       "    'username': 'valencar'},\n",
       "   'user_has_liked': False,\n",
       "   'users_in_photo': []},\n",
       "  {'attribution': None,\n",
       "   'caption': None,\n",
       "   'comments': {'count': 0},\n",
       "   'created_time': '1503586867',\n",
       "   'filter': 'Normal',\n",
       "   'id': '1588524241607048286_50947788',\n",
       "   'images': {'low_resolution': {'height': 320,\n",
       "     'url': 'https://scontent.cdninstagram.com/vp/886bbeaad3c09c37b6015caa6687f8fe/5B749452/t51.2885-15/s320x320/e35/21042446_154289818485113_5034937264283582464_n.jpg',\n",
       "     'width': 320},\n",
       "    'standard_resolution': {'height': 640,\n",
       "     'url': 'https://scontent.cdninstagram.com/vp/76b2b3ba26e85561b9a8d98568f9f7cb/5B51F311/t51.2885-15/s640x640/sh0.08/e35/21042446_154289818485113_5034937264283582464_n.jpg',\n",
       "     'width': 640},\n",
       "    'thumbnail': {'height': 150,\n",
       "     'url': 'https://scontent.cdninstagram.com/vp/3b5c017abb94a81ef82d0d7e52e8a8dc/5B4ED015/t51.2885-15/s150x150/e35/21042446_154289818485113_5034937264283582464_n.jpg',\n",
       "     'width': 150}},\n",
       "   'likes': {'count': 10},\n",
       "   'link': 'https://www.instagram.com/p/BYLkmGiFbxe/',\n",
       "   'location': {'id': 44961364,\n",
       "    'latitude': 37.7793,\n",
       "    'longitude': -122.419,\n",
       "    'name': 'San Francisco, California'},\n",
       "   'tags': [],\n",
       "   'type': 'image',\n",
       "   'user': {'full_name': 'Vladimir Costa de Alencar',\n",
       "    'id': '50947788',\n",
       "    'profile_picture': 'https://scontent.cdninstagram.com/vp/c0d19674a71f22e9fd0860e0be9a4a59/5B5512DA/t51.2885-19/s150x150/21147186_336900780098502_541761952037208064_a.jpg',\n",
       "    'username': 'valencar'},\n",
       "   'user_has_liked': False,\n",
       "   'users_in_photo': []},\n",
       "  {'attribution': None,\n",
       "   'caption': None,\n",
       "   'comments': {'count': 2},\n",
       "   'created_time': '1503570344',\n",
       "   'filter': 'Normal',\n",
       "   'id': '1588385634892233771_50947788',\n",
       "   'images': {'low_resolution': {'height': 320,\n",
       "     'url': 'https://scontent.cdninstagram.com/vp/a3960be5695c25b6920578f5b9608778/5B5DBEDE/t51.2885-15/e35/20969288_267799150383995_63815865329516544_n.jpg',\n",
       "     'width': 320},\n",
       "    'standard_resolution': {'height': 320,\n",
       "     'url': 'https://scontent.cdninstagram.com/vp/a3960be5695c25b6920578f5b9608778/5B5DBEDE/t51.2885-15/e35/20969288_267799150383995_63815865329516544_n.jpg',\n",
       "     'width': 320},\n",
       "    'thumbnail': {'height': 150,\n",
       "     'url': 'https://scontent.cdninstagram.com/vp/ea21518024b4f30c1e21299aa0ca4cc3/5B72B180/t51.2885-15/s150x150/e35/20969288_267799150383995_63815865329516544_n.jpg',\n",
       "     'width': 150}},\n",
       "   'likes': {'count': 28},\n",
       "   'link': 'https://www.instagram.com/p/BYLFFG-Fbwr/',\n",
       "   'location': {'id': 44961364,\n",
       "    'latitude': 37.7793,\n",
       "    'longitude': -122.419,\n",
       "    'name': 'San Francisco, California'},\n",
       "   'tags': [],\n",
       "   'type': 'image',\n",
       "   'user': {'full_name': 'Vladimir Costa de Alencar',\n",
       "    'id': '50947788',\n",
       "    'profile_picture': 'https://scontent.cdninstagram.com/vp/c0d19674a71f22e9fd0860e0be9a4a59/5B5512DA/t51.2885-19/s150x150/21147186_336900780098502_541761952037208064_a.jpg',\n",
       "    'username': 'valencar'},\n",
       "   'user_has_liked': False,\n",
       "   'users_in_photo': []},\n",
       "  {'attribution': None,\n",
       "   'caption': None,\n",
       "   'comments': {'count': 3},\n",
       "   'created_time': '1503347355',\n",
       "   'filter': 'Normal',\n",
       "   'id': '1586515064269482063_50947788',\n",
       "   'images': {'low_resolution': {'height': 400,\n",
       "     'url': 'https://scontent.cdninstagram.com/vp/5cbce6d618fe637fc81c56d10559cd56/5B62FE07/t51.2885-15/e15/p320x320/20905799_123931511580661_69196905300623360_n.jpg',\n",
       "     'width': 320},\n",
       "    'standard_resolution': {'height': 800,\n",
       "     'url': 'https://scontent.cdninstagram.com/vp/adc2461986a2cff513c53e7f1d8027d0/5B6243ED/t51.2885-15/sh0.08/e35/p640x640/20905799_123931511580661_69196905300623360_n.jpg',\n",
       "     'width': 640},\n",
       "    'thumbnail': {'height': 150,\n",
       "     'url': 'https://scontent.cdninstagram.com/vp/4456c558026b52eb16cd2e289b022752/5B67F5CF/t51.2885-15/s150x150/e15/c0.135.1080.1080/20905799_123931511580661_69196905300623360_n.jpg',\n",
       "     'width': 150}},\n",
       "   'likes': {'count': 18},\n",
       "   'link': 'https://www.instagram.com/p/BYEbwuUlqhP/',\n",
       "   'location': None,\n",
       "   'tags': [],\n",
       "   'type': 'image',\n",
       "   'user': {'full_name': 'Vladimir Costa de Alencar',\n",
       "    'id': '50947788',\n",
       "    'profile_picture': 'https://scontent.cdninstagram.com/vp/c0d19674a71f22e9fd0860e0be9a4a59/5B5512DA/t51.2885-19/s150x150/21147186_336900780098502_541761952037208064_a.jpg',\n",
       "    'username': 'valencar'},\n",
       "   'user_has_liked': False,\n",
       "   'users_in_photo': []},\n",
       "  {'attribution': None,\n",
       "   'caption': None,\n",
       "   'comments': {'count': 2},\n",
       "   'created_time': '1503347329',\n",
       "   'filter': 'Normal',\n",
       "   'id': '1586514849873327224_50947788',\n",
       "   'images': {'low_resolution': {'height': 240,\n",
       "     'url': 'https://scontent.cdninstagram.com/vp/1a072fdd45ad384ee46c57fbed78db51/5B6B6C81/t51.2885-15/s320x320/e15/20986966_1938479839698812_4332970708528267264_n.jpg',\n",
       "     'width': 320},\n",
       "    'standard_resolution': {'height': 480,\n",
       "     'url': 'https://scontent.cdninstagram.com/vp/7bf8d91f91db11ea77d6d8e20a8bbe39/5B650FA0/t51.2885-15/s640x640/sh0.08/e35/20986966_1938479839698812_4332970708528267264_n.jpg',\n",
       "     'width': 640},\n",
       "    'thumbnail': {'height': 150,\n",
       "     'url': 'https://scontent.cdninstagram.com/vp/5cba29c435da682876b88121aa00ea5f/5B5DCA22/t51.2885-15/s150x150/e15/c135.0.810.810/20986966_1938479839698812_4332970708528267264_n.jpg',\n",
       "     'width': 150}},\n",
       "   'likes': {'count': 14},\n",
       "   'link': 'https://www.instagram.com/p/BYEbtmplPR4/',\n",
       "   'location': None,\n",
       "   'tags': [],\n",
       "   'type': 'image',\n",
       "   'user': {'full_name': 'Vladimir Costa de Alencar',\n",
       "    'id': '50947788',\n",
       "    'profile_picture': 'https://scontent.cdninstagram.com/vp/c0d19674a71f22e9fd0860e0be9a4a59/5B5512DA/t51.2885-19/s150x150/21147186_336900780098502_541761952037208064_a.jpg',\n",
       "    'username': 'valencar'},\n",
       "   'user_has_liked': False,\n",
       "   'users_in_photo': []},\n",
       "  {'attribution': None,\n",
       "   'caption': None,\n",
       "   'comments': {'count': 0},\n",
       "   'created_time': '1503347283',\n",
       "   'filter': 'Normal',\n",
       "   'id': '1586514461682242047_50947788',\n",
       "   'images': {'low_resolution': {'height': 400,\n",
       "     'url': 'https://scontent.cdninstagram.com/vp/fa39f8bb17e7b9a25b33c54db2bb7ce5/5B564A90/t51.2885-15/e15/p320x320/20968513_1279556448839658_1029976828808265728_n.jpg',\n",
       "     'width': 320},\n",
       "    'standard_resolution': {'height': 800,\n",
       "     'url': 'https://scontent.cdninstagram.com/vp/13aafeb188954de6aec75a189e77238d/5B6C84D5/t51.2885-15/sh0.08/e35/p640x640/20968513_1279556448839658_1029976828808265728_n.jpg',\n",
       "     'width': 640},\n",
       "    'thumbnail': {'height': 150,\n",
       "     'url': 'https://scontent.cdninstagram.com/vp/c03f193cb594cbd3b47b3d2847a77e3c/5B62D789/t51.2885-15/s150x150/e15/c0.135.1080.1080/20968513_1279556448839658_1029976828808265728_n.jpg',\n",
       "     'width': 150}},\n",
       "   'likes': {'count': 11},\n",
       "   'link': 'https://www.instagram.com/p/BYEbn9HlxH_/',\n",
       "   'location': None,\n",
       "   'tags': [],\n",
       "   'type': 'image',\n",
       "   'user': {'full_name': 'Vladimir Costa de Alencar',\n",
       "    'id': '50947788',\n",
       "    'profile_picture': 'https://scontent.cdninstagram.com/vp/c0d19674a71f22e9fd0860e0be9a4a59/5B5512DA/t51.2885-19/s150x150/21147186_336900780098502_541761952037208064_a.jpg',\n",
       "    'username': 'valencar'},\n",
       "   'user_has_liked': False,\n",
       "   'users_in_photo': []},\n",
       "  {'attribution': None,\n",
       "   'caption': {'created_time': '1503133190',\n",
       "    'from': {'full_name': 'Vladimir Costa de Alencar',\n",
       "     'id': '50947788',\n",
       "     'profile_picture': 'https://scontent.cdninstagram.com/vp/c0d19674a71f22e9fd0860e0be9a4a59/5B5512DA/t51.2885-19/s150x150/21147186_336900780098502_541761952037208064_a.jpg',\n",
       "     'username': 'valencar'},\n",
       "    'id': '17894642860034327',\n",
       "    'text': 'Com Daniel Marques'},\n",
       "   'comments': {'count': 0},\n",
       "   'created_time': '1503133190',\n",
       "   'filter': 'Normal',\n",
       "   'id': '1584718516040551923_50947788',\n",
       "   'images': {'low_resolution': {'height': 320,\n",
       "     'url': 'https://scontent.cdninstagram.com/vp/fefa2f58811a5606edf6c1c0b93fa001/5B6A0E03/t51.2885-15/s320x320/e35/20838966_416171722117389_7350765350905970688_n.jpg',\n",
       "     'width': 320},\n",
       "    'standard_resolution': {'height': 640,\n",
       "     'url': 'https://scontent.cdninstagram.com/vp/f761c827e261caebca077dd3588602e4/5B64BF40/t51.2885-15/s640x640/sh0.08/e35/20838966_416171722117389_7350765350905970688_n.jpg',\n",
       "     'width': 640},\n",
       "    'thumbnail': {'height': 150,\n",
       "     'url': 'https://scontent.cdninstagram.com/vp/bce553867d5444143afe0feb647abb3b/5B579344/t51.2885-15/s150x150/e35/20838966_416171722117389_7350765350905970688_n.jpg',\n",
       "     'width': 150}},\n",
       "   'likes': {'count': 9},\n",
       "   'link': 'https://www.instagram.com/p/BX-DRgZlM3z/',\n",
       "   'location': None,\n",
       "   'tags': [],\n",
       "   'type': 'image',\n",
       "   'user': {'full_name': 'Vladimir Costa de Alencar',\n",
       "    'id': '50947788',\n",
       "    'profile_picture': 'https://scontent.cdninstagram.com/vp/c0d19674a71f22e9fd0860e0be9a4a59/5B5512DA/t51.2885-19/s150x150/21147186_336900780098502_541761952037208064_a.jpg',\n",
       "    'username': 'valencar'},\n",
       "   'user_has_liked': False,\n",
       "   'users_in_photo': []},\n",
       "  {'attribution': None,\n",
       "   'caption': {'created_time': '1503133151',\n",
       "    'from': {'full_name': 'Vladimir Costa de Alencar',\n",
       "     'id': '50947788',\n",
       "     'profile_picture': 'https://scontent.cdninstagram.com/vp/c0d19674a71f22e9fd0860e0be9a4a59/5B5512DA/t51.2885-19/s150x150/21147186_336900780098502_541761952037208064_a.jpg',\n",
       "     'username': 'valencar'},\n",
       "    'id': '17893862560014427',\n",
       "    'text': 'Com Helder Almeida'},\n",
       "   'comments': {'count': 1},\n",
       "   'created_time': '1503133151',\n",
       "   'filter': 'Normal',\n",
       "   'id': '1584718190092965481_50947788',\n",
       "   'images': {'low_resolution': {'height': 320,\n",
       "     'url': 'https://scontent.cdninstagram.com/vp/bea7e2907707c7dbd4f01d5225d87606/5B6185F1/t51.2885-15/s320x320/e35/20837282_464231570626864_3947480935397588992_n.jpg',\n",
       "     'width': 320},\n",
       "    'standard_resolution': {'height': 640,\n",
       "     'url': 'https://scontent.cdninstagram.com/vp/536f70901058398f5ec84ff4d6dc6d86/5B5978B2/t51.2885-15/s640x640/sh0.08/e35/20837282_464231570626864_3947480935397588992_n.jpg',\n",
       "     'width': 640},\n",
       "    'thumbnail': {'height': 150,\n",
       "     'url': 'https://scontent.cdninstagram.com/vp/becc0f1ac0553d2135b22ec13fd7b7ba/5B6F50B6/t51.2885-15/s150x150/e35/20837282_464231570626864_3947480935397588992_n.jpg',\n",
       "     'width': 150}},\n",
       "   'likes': {'count': 9},\n",
       "   'link': 'https://www.instagram.com/p/BX-DMw1l1Zp/',\n",
       "   'location': None,\n",
       "   'tags': [],\n",
       "   'type': 'image',\n",
       "   'user': {'full_name': 'Vladimir Costa de Alencar',\n",
       "    'id': '50947788',\n",
       "    'profile_picture': 'https://scontent.cdninstagram.com/vp/c0d19674a71f22e9fd0860e0be9a4a59/5B5512DA/t51.2885-19/s150x150/21147186_336900780098502_541761952037208064_a.jpg',\n",
       "    'username': 'valencar'},\n",
       "   'user_has_liked': False,\n",
       "   'users_in_photo': []}],\n",
       " 'meta': {'code': 200},\n",
       " 'pagination': {}}"
      ]
     },
     "execution_count": 8,
     "metadata": {},
     "output_type": "execute_result"
    }
   ],
   "source": [
    "import requests\n",
    "\n",
    "url = \"https://api.instagram.com/v1/users/self/media/recent/?access_token=\" + access_token\n",
    "resp = requests.get(url=url)\n",
    "info = resp.json()\n",
    "info"
   ]
  },
  {
   "cell_type": "code",
   "execution_count": 9,
   "metadata": {},
   "outputs": [
    {
     "data": {
      "text/plain": [
       "dict_keys(['pagination', 'data', 'meta'])"
      ]
     },
     "execution_count": 9,
     "metadata": {},
     "output_type": "execute_result"
    }
   ],
   "source": [
    "info.keys()"
   ]
  },
  {
   "cell_type": "code",
   "execution_count": 10,
   "metadata": {},
   "outputs": [
    {
     "data": {
      "text/plain": [
       "{'attribution': None,\n",
       " 'caption': None,\n",
       " 'comments': {'count': 0},\n",
       " 'created_time': '1506112217',\n",
       " 'filter': 'Normal',\n",
       " 'id': '1609708407535083874_50947788',\n",
       " 'images': {'low_resolution': {'height': 241,\n",
       "   'url': 'https://scontent.cdninstagram.com/vp/dd0e6a7033f57321602af36814c0e414/5B5FC73E/t51.2885-15/s320x320/e15/21827769_885550611785033_3363623437661634560_n.jpg',\n",
       "   'width': 320},\n",
       "  'standard_resolution': {'height': 482,\n",
       "   'url': 'https://scontent.cdninstagram.com/vp/4d835775da881e13dfaf7caae7be0060/5B52941C/t51.2885-15/e15/21827769_885550611785033_3363623437661634560_n.jpg',\n",
       "   'width': 640},\n",
       "  'thumbnail': {'height': 150,\n",
       "   'url': 'https://scontent.cdninstagram.com/vp/c94ce1e3543ef8516d273b0208366a83/5B6211E8/t51.2885-15/s150x150/e15/c79.0.482.482/21827769_885550611785033_3363623437661634560_n.jpg',\n",
       "   'width': 150}},\n",
       " 'likes': {'count': 40},\n",
       " 'link': 'https://www.instagram.com/p/BZW1USfFqFi/',\n",
       " 'location': None,\n",
       " 'tags': [],\n",
       " 'type': 'image',\n",
       " 'user': {'full_name': 'Vladimir Costa de Alencar',\n",
       "  'id': '50947788',\n",
       "  'profile_picture': 'https://scontent.cdninstagram.com/vp/c0d19674a71f22e9fd0860e0be9a4a59/5B5512DA/t51.2885-19/s150x150/21147186_336900780098502_541761952037208064_a.jpg',\n",
       "  'username': 'valencar'},\n",
       " 'user_has_liked': False,\n",
       " 'users_in_photo': []}"
      ]
     },
     "execution_count": 10,
     "metadata": {},
     "output_type": "execute_result"
    }
   ],
   "source": [
    "# informação sobre o post (foto) mais recente\n",
    "post1 = info['data'][0]\n",
    "post1"
   ]
  },
  {
   "cell_type": "code",
   "execution_count": 11,
   "metadata": {},
   "outputs": [
    {
     "name": "stdout",
     "output_type": "stream",
     "text": [
      "{'count': 40}\n",
      "https://www.instagram.com/p/BZW1USfFqFi/\n",
      "2017-09-22 17:30:17\n"
     ]
    }
   ],
   "source": [
    "from datetime import datetime\n",
    "print(post1['likes'])\n",
    "print(post1['link'])\n",
    "dateInstagram = post1['created_time']\n",
    "date = datetime.fromtimestamp(int(dateInstagram))\n",
    "print(date)"
   ]
  },
  {
   "cell_type": "code",
   "execution_count": 12,
   "metadata": {},
   "outputs": [
    {
     "name": "stdout",
     "output_type": "stream",
     "text": [
      "Número total de likes (posts mais recentes):  510\n"
     ]
    }
   ],
   "source": [
    "### contar o número total de likes (mais recentes posts) - 20 mais recentes\n",
    "likes = 0\n",
    "num_post = 0\n",
    "for post in range(len(info['data'])):\n",
    "    post = info['data'][num_post]\n",
    "    #print (post)\n",
    "    likes = likes + int(post['likes']['count'])\n",
    "    num_post += 1\n",
    "print(\"Número total de likes (posts mais recentes): \", likes)"
   ]
  },
  {
   "cell_type": "code",
   "execution_count": 13,
   "metadata": {},
   "outputs": [
    {
     "data": {
      "text/plain": [
       "{'attribution': None,\n",
       " 'caption': {'created_time': '1505762841',\n",
       "  'from': {'full_name': 'Vladimir Costa de Alencar',\n",
       "   'id': '50947788',\n",
       "   'profile_picture': 'https://scontent.cdninstagram.com/vp/c0d19674a71f22e9fd0860e0be9a4a59/5B5512DA/t51.2885-19/s150x150/21147186_336900780098502_541761952037208064_a.jpg',\n",
       "   'username': 'valencar'},\n",
       "  'id': '17899565245027539',\n",
       "  'text': 'Origens Maternas...'},\n",
       " 'comments': {'count': 1},\n",
       " 'created_time': '1505762841',\n",
       " 'filter': 'Normal',\n",
       " 'id': '1606777634074958008_50947788',\n",
       " 'images': {'low_resolution': {'height': 320,\n",
       "   'url': 'https://scontent.cdninstagram.com/vp/0996b5312e8d9410eed5afadfa34f657/5B708129/t51.2885-15/s320x320/e35/21820177_173408243224994_1660416279116251136_n.jpg',\n",
       "   'width': 320},\n",
       "  'standard_resolution': {'height': 640,\n",
       "   'url': 'https://scontent.cdninstagram.com/vp/d97d2199bdfb4737378c809da5f73c03/5B69366A/t51.2885-15/s640x640/sh0.08/e35/21820177_173408243224994_1660416279116251136_n.jpg',\n",
       "   'width': 640},\n",
       "  'thumbnail': {'height': 150,\n",
       "   'url': 'https://scontent.cdninstagram.com/vp/495ac3930bb725ade08d53ffb8fe4dde/5B53A66E/t51.2885-15/s150x150/e35/21820177_173408243224994_1660416279116251136_n.jpg',\n",
       "   'width': 150}},\n",
       " 'likes': {'count': 26},\n",
       " 'link': 'https://www.instagram.com/p/BZMa77AFJi4/',\n",
       " 'location': {'id': 217946449,\n",
       "  'latitude': -7.0708333333333,\n",
       "  'longitude': -35.757777777778,\n",
       "  'name': 'Alagoa Nova'},\n",
       " 'tags': [],\n",
       " 'type': 'image',\n",
       " 'user': {'full_name': 'Vladimir Costa de Alencar',\n",
       "  'id': '50947788',\n",
       "  'profile_picture': 'https://scontent.cdninstagram.com/vp/c0d19674a71f22e9fd0860e0be9a4a59/5B5512DA/t51.2885-19/s150x150/21147186_336900780098502_541761952037208064_a.jpg',\n",
       "  'username': 'valencar'},\n",
       " 'user_has_liked': False,\n",
       " 'users_in_photo': []}"
      ]
     },
     "execution_count": 13,
     "metadata": {},
     "output_type": "execute_result"
    }
   ],
   "source": [
    "info['data'][1]"
   ]
  },
  {
   "cell_type": "code",
   "execution_count": 14,
   "metadata": {},
   "outputs": [
    {
     "data": {
      "text/plain": [
       "20"
      ]
     },
     "execution_count": 14,
     "metadata": {},
     "output_type": "execute_result"
    }
   ],
   "source": [
    "len(info['data'])"
   ]
  },
  {
   "cell_type": "markdown",
   "metadata": {},
   "source": [
    "## Capturando comentários mais recentes em posts seus\n",
    "\n",
    "### capturando o mediaID, primeiro..."
   ]
  },
  {
   "cell_type": "code",
   "execution_count": 15,
   "metadata": {},
   "outputs": [
    {
     "data": {
      "text/plain": [
       "{'attribution': None,\n",
       " 'caption': None,\n",
       " 'comments': {'count': 3},\n",
       " 'created_time': '1503347355',\n",
       " 'filter': 'Normal',\n",
       " 'id': '1586515064269482063_50947788',\n",
       " 'images': {'low_resolution': {'height': 400,\n",
       "   'url': 'https://scontent.cdninstagram.com/vp/5cbce6d618fe637fc81c56d10559cd56/5B62FE07/t51.2885-15/e15/p320x320/20905799_123931511580661_69196905300623360_n.jpg',\n",
       "   'width': 320},\n",
       "  'standard_resolution': {'height': 800,\n",
       "   'url': 'https://scontent.cdninstagram.com/vp/adc2461986a2cff513c53e7f1d8027d0/5B6243ED/t51.2885-15/sh0.08/e35/p640x640/20905799_123931511580661_69196905300623360_n.jpg',\n",
       "   'width': 640},\n",
       "  'thumbnail': {'height': 150,\n",
       "   'url': 'https://scontent.cdninstagram.com/vp/4456c558026b52eb16cd2e289b022752/5B67F5CF/t51.2885-15/s150x150/e15/c0.135.1080.1080/20905799_123931511580661_69196905300623360_n.jpg',\n",
       "   'width': 150}},\n",
       " 'likes': {'count': 18},\n",
       " 'link': 'https://www.instagram.com/p/BYEbwuUlqhP/',\n",
       " 'location': None,\n",
       " 'tags': [],\n",
       " 'type': 'image',\n",
       " 'user': {'full_name': 'Vladimir Costa de Alencar',\n",
       "  'id': '50947788',\n",
       "  'profile_picture': 'https://scontent.cdninstagram.com/vp/c0d19674a71f22e9fd0860e0be9a4a59/5B5512DA/t51.2885-19/s150x150/21147186_336900780098502_541761952037208064_a.jpg',\n",
       "  'username': 'valencar'},\n",
       " 'user_has_liked': False,\n",
       " 'users_in_photo': []}"
      ]
     },
     "execution_count": 15,
     "metadata": {},
     "output_type": "execute_result"
    }
   ],
   "source": [
    "post16 = info['data'][15]\n",
    "post16"
   ]
  },
  {
   "cell_type": "code",
   "execution_count": 16,
   "metadata": {},
   "outputs": [
    {
     "data": {
      "text/plain": [
       "'1586515064269482063_50947788'"
      ]
     },
     "execution_count": 16,
     "metadata": {},
     "output_type": "execute_result"
    }
   ],
   "source": [
    "mediaID = post16['id']\n",
    "mediaID"
   ]
  },
  {
   "cell_type": "code",
   "execution_count": 17,
   "metadata": {},
   "outputs": [
    {
     "data": {
      "text/plain": [
       "'https://api.instagram.com/v1/media/1586515064269482063_50947788/comments?access_token=50947788.4485475.a9f9444f17894b8e928284ab8f72319c'"
      ]
     },
     "execution_count": 17,
     "metadata": {},
     "output_type": "execute_result"
    }
   ],
   "source": [
    "url = \"https://api.instagram.com/v1/media/\" + mediaID + \"/comments?access_token=\" + access_token\n",
    "url"
   ]
  },
  {
   "cell_type": "code",
   "execution_count": 18,
   "metadata": {},
   "outputs": [
    {
     "data": {
      "text/plain": [
       "{'data': [{'created_time': '1523115010',\n",
       "   'from': {'username': 'valencar'},\n",
       "   'id': '17937236059060833',\n",
       "   'text': 'teste'}],\n",
       " 'meta': {'code': 200}}"
      ]
     },
     "execution_count": 18,
     "metadata": {},
     "output_type": "execute_result"
    }
   ],
   "source": [
    "import requests\n",
    "\n",
    "url = url \n",
    "resp = requests.get(url=url)\n",
    "resp.json()\n",
    "infomedia = resp.json()\n",
    "infomedia"
   ]
  },
  {
   "cell_type": "code",
   "execution_count": 19,
   "metadata": {},
   "outputs": [
    {
     "name": "stdout",
     "output_type": "stream",
     "text": [
      "comentário:  teste\n",
      "Pessoa que comentou:  valencar\n",
      "data:  2018-04-07 12:30:10\n"
     ]
    }
   ],
   "source": [
    "from datetime import datetime\n",
    "comentario = infomedia['data'][0]\n",
    "print(\"comentário: \",comentario['text'])\n",
    "print(\"Pessoa que comentou: \", comentario['from']['username'])\n",
    "dateInstagram = comentario['created_time']\n",
    "date = datetime.fromtimestamp(int(dateInstagram))\n",
    "print(\"data: \",date)"
   ]
  },
  {
   "cell_type": "markdown",
   "metadata": {},
   "source": [
    "## Outros Métodos: https://www.instagram.com/developer/endpoints/"
   ]
  },
  {
   "cell_type": "markdown",
   "metadata": {},
   "source": [
    "## Procura uma localicação, data uma área (latitude, longitude)\n",
    "## Obs. esse método só vale com uma autorização do Instagram"
   ]
  },
  {
   "cell_type": "code",
   "execution_count": null,
   "metadata": {},
   "outputs": [],
   "source": [
    "lat = 48.858844\n",
    "long = 2.294351\n",
    "url = \"https://api.instagram.com/v1/locations/search?lat=\"+ str(lat) + \"&lng=\" + str(long) + \"&access_token=\" \\\n",
    "        + access_token\n",
    "url"
   ]
  },
  {
   "cell_type": "code",
   "execution_count": null,
   "metadata": {},
   "outputs": [],
   "source": [
    "import requests\n",
    "\n",
    "url = url\n",
    "resp = requests.get(url=url)\n",
    "infogeo = resp.json()\n",
    "infogeo"
   ]
  },
  {
   "cell_type": "markdown",
   "metadata": {},
   "source": [
    "## Procura um post recente, dada uma área (latitude, longitude)\n",
    "## Obs. esse método só vale com uma autorização do Instagram"
   ]
  },
  {
   "cell_type": "code",
   "execution_count": null,
   "metadata": {},
   "outputs": [],
   "source": [
    "lat = 48.858844\n",
    "long = 2.294351\n",
    "url = \"https://api.instagram.com/v1/media/search?lat=\"+ str(lat) + \"&lng=\" + str(long) + \"&access_token=\" + access_token\n",
    "url"
   ]
  },
  {
   "cell_type": "code",
   "execution_count": null,
   "metadata": {},
   "outputs": [],
   "source": [
    "import requests\n",
    "\n",
    "url = url\n",
    "resp = requests.get(url=url)\n",
    "info = resp.json()\n",
    "info"
   ]
  }
 ],
 "metadata": {
  "kernelspec": {
   "display_name": "Python 3",
   "language": "python",
   "name": "python3"
  },
  "language_info": {
   "codemirror_mode": {
    "name": "ipython",
    "version": 3
   },
   "file_extension": ".py",
   "mimetype": "text/x-python",
   "name": "python",
   "nbconvert_exporter": "python",
   "pygments_lexer": "ipython3",
   "version": "3.6.4"
  }
 },
 "nbformat": 4,
 "nbformat_minor": 2
}
