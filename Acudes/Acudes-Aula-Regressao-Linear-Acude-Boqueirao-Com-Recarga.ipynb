{
 "cells": [
  {
   "cell_type": "markdown",
   "metadata": {
    "collapsed": true
   },
   "source": [
    "# Regressao Linear - Açudes da Paraíba\n",
    "## Boqueirão - Com Recarga do Rio São Francisco (Abril/2017)\n",
    "#### http://www.aesa.pb.gov.br/aesa-website/monitoramento/volume-acude/?id_acude=531"
   ]
  },
  {
   "cell_type": "markdown",
   "metadata": {},
   "source": [
    "### Acude de Boqueirão com Recarga do Rio São Francisco - 09/04/2017 ate 08/04/2018"
   ]
  },
  {
   "cell_type": "code",
   "execution_count": 1,
   "metadata": {},
   "outputs": [],
   "source": [
    "import pandas as pd"
   ]
  },
  {
   "cell_type": "code",
   "execution_count": 2,
   "metadata": {},
   "outputs": [
    {
     "data": {
      "text/html": [
       "<div>\n",
       "<style scoped>\n",
       "    .dataframe tbody tr th:only-of-type {\n",
       "        vertical-align: middle;\n",
       "    }\n",
       "\n",
       "    .dataframe tbody tr th {\n",
       "        vertical-align: top;\n",
       "    }\n",
       "\n",
       "    .dataframe thead th {\n",
       "        text-align: right;\n",
       "    }\n",
       "</style>\n",
       "<table border=\"1\" class=\"dataframe\">\n",
       "  <thead>\n",
       "    <tr style=\"text-align: right;\">\n",
       "      <th></th>\n",
       "      <th>Açude</th>\n",
       "      <th>Data do registro</th>\n",
       "      <th>Volume (%)</th>\n",
       "      <th>Volume (m³)</th>\n",
       "      <th>Aporte (m²)</th>\n",
       "    </tr>\n",
       "  </thead>\n",
       "  <tbody>\n",
       "    <tr>\n",
       "      <th>0</th>\n",
       "      <td>Epitácio Pessoa</td>\n",
       "      <td>09/04/2017</td>\n",
       "      <td>3.03</td>\n",
       "      <td>12475341.58</td>\n",
       "      <td>-58974.26</td>\n",
       "    </tr>\n",
       "    <tr>\n",
       "      <th>1</th>\n",
       "      <td>Epitácio Pessoa</td>\n",
       "      <td>10/04/2017</td>\n",
       "      <td>3.02</td>\n",
       "      <td>12445854.45</td>\n",
       "      <td>-29487.13</td>\n",
       "    </tr>\n",
       "    <tr>\n",
       "      <th>2</th>\n",
       "      <td>Epitácio Pessoa</td>\n",
       "      <td>11/04/2017</td>\n",
       "      <td>3.01</td>\n",
       "      <td>12386880.19</td>\n",
       "      <td>-58974.26</td>\n",
       "    </tr>\n",
       "    <tr>\n",
       "      <th>3</th>\n",
       "      <td>Epitácio Pessoa</td>\n",
       "      <td>12/04/2017</td>\n",
       "      <td>2.99</td>\n",
       "      <td>12298418.80</td>\n",
       "      <td>-88461.39</td>\n",
       "    </tr>\n",
       "    <tr>\n",
       "      <th>4</th>\n",
       "      <td>Epitácio Pessoa</td>\n",
       "      <td>13/04/2017</td>\n",
       "      <td>2.97</td>\n",
       "      <td>12239444.54</td>\n",
       "      <td>-58974.26</td>\n",
       "    </tr>\n",
       "  </tbody>\n",
       "</table>\n",
       "</div>"
      ],
      "text/plain": [
       "             Açude Data do registro  Volume (%)  Volume (m³)  Aporte (m²)\n",
       "0  Epitácio Pessoa       09/04/2017        3.03  12475341.58    -58974.26\n",
       "1  Epitácio Pessoa       10/04/2017        3.02  12445854.45    -29487.13\n",
       "2  Epitácio Pessoa       11/04/2017        3.01  12386880.19    -58974.26\n",
       "3  Epitácio Pessoa       12/04/2017        2.99  12298418.80    -88461.39\n",
       "4  Epitácio Pessoa       13/04/2017        2.97  12239444.54    -58974.26"
      ]
     },
     "execution_count": 2,
     "metadata": {},
     "output_type": "execute_result"
    }
   ],
   "source": [
    "# leitura do dataset\n",
    "#\n",
    "# Acude de Boqueirão com Recarga do Rio São Francisco - 09/04/2017 ate 08/04/2018\n",
    "df = pd.read_excel(open(\"boqueirao20172018.xlsx\",'rb'))\n",
    "df.head()"
   ]
  },
  {
   "cell_type": "code",
   "execution_count": 3,
   "metadata": {},
   "outputs": [
    {
     "data": {
      "text/html": [
       "<div>\n",
       "<style scoped>\n",
       "    .dataframe tbody tr th:only-of-type {\n",
       "        vertical-align: middle;\n",
       "    }\n",
       "\n",
       "    .dataframe tbody tr th {\n",
       "        vertical-align: top;\n",
       "    }\n",
       "\n",
       "    .dataframe thead th {\n",
       "        text-align: right;\n",
       "    }\n",
       "</style>\n",
       "<table border=\"1\" class=\"dataframe\">\n",
       "  <thead>\n",
       "    <tr style=\"text-align: right;\">\n",
       "      <th></th>\n",
       "      <th>Açude</th>\n",
       "      <th>Data do registro</th>\n",
       "      <th>Volume (%)</th>\n",
       "      <th>Volume (m³)</th>\n",
       "      <th>Aporte (m²)</th>\n",
       "    </tr>\n",
       "  </thead>\n",
       "  <tbody>\n",
       "    <tr>\n",
       "      <th>0</th>\n",
       "      <td>Epitácio Pessoa</td>\n",
       "      <td>09/04/2017</td>\n",
       "      <td>3.03</td>\n",
       "      <td>12475341.58</td>\n",
       "      <td>-58974.26</td>\n",
       "    </tr>\n",
       "    <tr>\n",
       "      <th>1</th>\n",
       "      <td>Epitácio Pessoa</td>\n",
       "      <td>10/04/2017</td>\n",
       "      <td>3.02</td>\n",
       "      <td>12445854.45</td>\n",
       "      <td>-29487.13</td>\n",
       "    </tr>\n",
       "    <tr>\n",
       "      <th>2</th>\n",
       "      <td>Epitácio Pessoa</td>\n",
       "      <td>11/04/2017</td>\n",
       "      <td>3.01</td>\n",
       "      <td>12386880.19</td>\n",
       "      <td>-58974.26</td>\n",
       "    </tr>\n",
       "    <tr>\n",
       "      <th>3</th>\n",
       "      <td>Epitácio Pessoa</td>\n",
       "      <td>12/04/2017</td>\n",
       "      <td>2.99</td>\n",
       "      <td>12298418.80</td>\n",
       "      <td>-88461.39</td>\n",
       "    </tr>\n",
       "    <tr>\n",
       "      <th>4</th>\n",
       "      <td>Epitácio Pessoa</td>\n",
       "      <td>13/04/2017</td>\n",
       "      <td>2.97</td>\n",
       "      <td>12239444.54</td>\n",
       "      <td>-58974.26</td>\n",
       "    </tr>\n",
       "  </tbody>\n",
       "</table>\n",
       "</div>"
      ],
      "text/plain": [
       "             Açude Data do registro  Volume (%)  Volume (m³)  Aporte (m²)\n",
       "0  Epitácio Pessoa       09/04/2017        3.03  12475341.58    -58974.26\n",
       "1  Epitácio Pessoa       10/04/2017        3.02  12445854.45    -29487.13\n",
       "2  Epitácio Pessoa       11/04/2017        3.01  12386880.19    -58974.26\n",
       "3  Epitácio Pessoa       12/04/2017        2.99  12298418.80    -88461.39\n",
       "4  Epitácio Pessoa       13/04/2017        2.97  12239444.54    -58974.26"
      ]
     },
     "execution_count": 3,
     "metadata": {},
     "output_type": "execute_result"
    }
   ],
   "source": [
    "#del df[\"Açude\"]\n",
    "df.head()"
   ]
  },
  {
   "cell_type": "code",
   "execution_count": 4,
   "metadata": {},
   "outputs": [
    {
     "data": {
      "text/html": [
       "<div>\n",
       "<style scoped>\n",
       "    .dataframe tbody tr th:only-of-type {\n",
       "        vertical-align: middle;\n",
       "    }\n",
       "\n",
       "    .dataframe tbody tr th {\n",
       "        vertical-align: top;\n",
       "    }\n",
       "\n",
       "    .dataframe thead th {\n",
       "        text-align: right;\n",
       "    }\n",
       "</style>\n",
       "<table border=\"1\" class=\"dataframe\">\n",
       "  <thead>\n",
       "    <tr style=\"text-align: right;\">\n",
       "      <th></th>\n",
       "      <th>Açude</th>\n",
       "      <th>Data do registro</th>\n",
       "      <th>Volume (%)</th>\n",
       "      <th>Volume (m³)</th>\n",
       "      <th>Aporte (m²)</th>\n",
       "    </tr>\n",
       "  </thead>\n",
       "  <tbody>\n",
       "    <tr>\n",
       "      <th>359</th>\n",
       "      <td>Epitácio Pessoa</td>\n",
       "      <td>04/04/2018</td>\n",
       "      <td>17.33</td>\n",
       "      <td>71332888.00</td>\n",
       "      <td>210499.20</td>\n",
       "    </tr>\n",
       "    <tr>\n",
       "      <th>360</th>\n",
       "      <td>Epitácio Pessoa</td>\n",
       "      <td>05/04/2018</td>\n",
       "      <td>17.33</td>\n",
       "      <td>71332888.00</td>\n",
       "      <td>0.00</td>\n",
       "    </tr>\n",
       "    <tr>\n",
       "      <th>361</th>\n",
       "      <td>Epitácio Pessoa</td>\n",
       "      <td>06/04/2018</td>\n",
       "      <td>17.30</td>\n",
       "      <td>71227638.40</td>\n",
       "      <td>-105249.60</td>\n",
       "    </tr>\n",
       "    <tr>\n",
       "      <th>362</th>\n",
       "      <td>Epitácio Pessoa</td>\n",
       "      <td>07/04/2018</td>\n",
       "      <td>17.99</td>\n",
       "      <td>74069377.60</td>\n",
       "      <td>2841739.20</td>\n",
       "    </tr>\n",
       "    <tr>\n",
       "      <th>363</th>\n",
       "      <td>Epitácio Pessoa</td>\n",
       "      <td>08/04/2018</td>\n",
       "      <td>21.14</td>\n",
       "      <td>87044871.44</td>\n",
       "      <td>12975493.84</td>\n",
       "    </tr>\n",
       "  </tbody>\n",
       "</table>\n",
       "</div>"
      ],
      "text/plain": [
       "               Açude Data do registro  Volume (%)  Volume (m³)  Aporte (m²)\n",
       "359  Epitácio Pessoa       04/04/2018       17.33  71332888.00    210499.20\n",
       "360  Epitácio Pessoa       05/04/2018       17.33  71332888.00         0.00\n",
       "361  Epitácio Pessoa       06/04/2018       17.30  71227638.40   -105249.60\n",
       "362  Epitácio Pessoa       07/04/2018       17.99  74069377.60   2841739.20\n",
       "363  Epitácio Pessoa       08/04/2018       21.14  87044871.44  12975493.84"
      ]
     },
     "execution_count": 4,
     "metadata": {},
     "output_type": "execute_result"
    }
   ],
   "source": [
    "df.tail()"
   ]
  },
  {
   "cell_type": "code",
   "execution_count": 5,
   "metadata": {},
   "outputs": [
    {
     "data": {
      "text/plain": [
       "364"
      ]
     },
     "execution_count": 5,
     "metadata": {},
     "output_type": "execute_result"
    }
   ],
   "source": [
    "len(df)"
   ]
  },
  {
   "cell_type": "code",
   "execution_count": 6,
   "metadata": {},
   "outputs": [
    {
     "data": {
      "text/html": [
       "<div>\n",
       "<style scoped>\n",
       "    .dataframe tbody tr th:only-of-type {\n",
       "        vertical-align: middle;\n",
       "    }\n",
       "\n",
       "    .dataframe tbody tr th {\n",
       "        vertical-align: top;\n",
       "    }\n",
       "\n",
       "    .dataframe thead th {\n",
       "        text-align: right;\n",
       "    }\n",
       "</style>\n",
       "<table border=\"1\" class=\"dataframe\">\n",
       "  <thead>\n",
       "    <tr style=\"text-align: right;\">\n",
       "      <th></th>\n",
       "      <th>Açude</th>\n",
       "      <th>Data do registro</th>\n",
       "      <th>Volume (%)</th>\n",
       "      <th>Volume (m³)</th>\n",
       "      <th>Aporte (m²)</th>\n",
       "    </tr>\n",
       "  </thead>\n",
       "  <tbody>\n",
       "    <tr>\n",
       "      <th>0</th>\n",
       "      <td>Epitácio Pessoa</td>\n",
       "      <td>2017-04-09</td>\n",
       "      <td>3.03</td>\n",
       "      <td>12475341.58</td>\n",
       "      <td>-58974.26</td>\n",
       "    </tr>\n",
       "    <tr>\n",
       "      <th>1</th>\n",
       "      <td>Epitácio Pessoa</td>\n",
       "      <td>2017-04-10</td>\n",
       "      <td>3.02</td>\n",
       "      <td>12445854.45</td>\n",
       "      <td>-29487.13</td>\n",
       "    </tr>\n",
       "    <tr>\n",
       "      <th>2</th>\n",
       "      <td>Epitácio Pessoa</td>\n",
       "      <td>2017-04-11</td>\n",
       "      <td>3.01</td>\n",
       "      <td>12386880.19</td>\n",
       "      <td>-58974.26</td>\n",
       "    </tr>\n",
       "    <tr>\n",
       "      <th>3</th>\n",
       "      <td>Epitácio Pessoa</td>\n",
       "      <td>2017-04-12</td>\n",
       "      <td>2.99</td>\n",
       "      <td>12298418.80</td>\n",
       "      <td>-88461.39</td>\n",
       "    </tr>\n",
       "    <tr>\n",
       "      <th>4</th>\n",
       "      <td>Epitácio Pessoa</td>\n",
       "      <td>2017-04-13</td>\n",
       "      <td>2.97</td>\n",
       "      <td>12239444.54</td>\n",
       "      <td>-58974.26</td>\n",
       "    </tr>\n",
       "  </tbody>\n",
       "</table>\n",
       "</div>"
      ],
      "text/plain": [
       "             Açude Data do registro  Volume (%)  Volume (m³)  Aporte (m²)\n",
       "0  Epitácio Pessoa       2017-04-09        3.03  12475341.58    -58974.26\n",
       "1  Epitácio Pessoa       2017-04-10        3.02  12445854.45    -29487.13\n",
       "2  Epitácio Pessoa       2017-04-11        3.01  12386880.19    -58974.26\n",
       "3  Epitácio Pessoa       2017-04-12        2.99  12298418.80    -88461.39\n",
       "4  Epitácio Pessoa       2017-04-13        2.97  12239444.54    -58974.26"
      ]
     },
     "execution_count": 6,
     "metadata": {},
     "output_type": "execute_result"
    }
   ],
   "source": [
    "# converter atributo para data\n",
    "df['Data do registro'] =  pd.to_datetime( df['Data do registro'], format=\"%d/%m/%Y\") \n",
    "df.head()"
   ]
  },
  {
   "cell_type": "code",
   "execution_count": 7,
   "metadata": {},
   "outputs": [
    {
     "data": {
      "text/html": [
       "<div>\n",
       "<style scoped>\n",
       "    .dataframe tbody tr th:only-of-type {\n",
       "        vertical-align: middle;\n",
       "    }\n",
       "\n",
       "    .dataframe tbody tr th {\n",
       "        vertical-align: top;\n",
       "    }\n",
       "\n",
       "    .dataframe thead th {\n",
       "        text-align: right;\n",
       "    }\n",
       "</style>\n",
       "<table border=\"1\" class=\"dataframe\">\n",
       "  <thead>\n",
       "    <tr style=\"text-align: right;\">\n",
       "      <th></th>\n",
       "      <th>Açude</th>\n",
       "      <th>Volume (%)</th>\n",
       "      <th>Volume (m³)</th>\n",
       "      <th>Aporte (m²)</th>\n",
       "    </tr>\n",
       "    <tr>\n",
       "      <th>Data do registro</th>\n",
       "      <th></th>\n",
       "      <th></th>\n",
       "      <th></th>\n",
       "      <th></th>\n",
       "    </tr>\n",
       "  </thead>\n",
       "  <tbody>\n",
       "    <tr>\n",
       "      <th>2017-04-09</th>\n",
       "      <td>Epitácio Pessoa</td>\n",
       "      <td>3.03</td>\n",
       "      <td>12475341.58</td>\n",
       "      <td>-58974.26</td>\n",
       "    </tr>\n",
       "    <tr>\n",
       "      <th>2017-04-10</th>\n",
       "      <td>Epitácio Pessoa</td>\n",
       "      <td>3.02</td>\n",
       "      <td>12445854.45</td>\n",
       "      <td>-29487.13</td>\n",
       "    </tr>\n",
       "    <tr>\n",
       "      <th>2017-04-11</th>\n",
       "      <td>Epitácio Pessoa</td>\n",
       "      <td>3.01</td>\n",
       "      <td>12386880.19</td>\n",
       "      <td>-58974.26</td>\n",
       "    </tr>\n",
       "    <tr>\n",
       "      <th>2017-04-12</th>\n",
       "      <td>Epitácio Pessoa</td>\n",
       "      <td>2.99</td>\n",
       "      <td>12298418.80</td>\n",
       "      <td>-88461.39</td>\n",
       "    </tr>\n",
       "    <tr>\n",
       "      <th>2017-04-13</th>\n",
       "      <td>Epitácio Pessoa</td>\n",
       "      <td>2.97</td>\n",
       "      <td>12239444.54</td>\n",
       "      <td>-58974.26</td>\n",
       "    </tr>\n",
       "  </tbody>\n",
       "</table>\n",
       "</div>"
      ],
      "text/plain": [
       "                            Açude  Volume (%)  Volume (m³)  Aporte (m²)\n",
       "Data do registro                                                       \n",
       "2017-04-09        Epitácio Pessoa        3.03  12475341.58    -58974.26\n",
       "2017-04-10        Epitácio Pessoa        3.02  12445854.45    -29487.13\n",
       "2017-04-11        Epitácio Pessoa        3.01  12386880.19    -58974.26\n",
       "2017-04-12        Epitácio Pessoa        2.99  12298418.80    -88461.39\n",
       "2017-04-13        Epitácio Pessoa        2.97  12239444.54    -58974.26"
      ]
     },
     "execution_count": 7,
     "metadata": {},
     "output_type": "execute_result"
    }
   ],
   "source": [
    "# colocar a data como indice para fazer uma série temporal\n",
    "df2 = df.set_index(pd.DatetimeIndex(df['Data do registro']))\n",
    "del df2['Data do registro']\n",
    "df2.head()"
   ]
  },
  {
   "cell_type": "code",
   "execution_count": 8,
   "metadata": {},
   "outputs": [
    {
     "data": {
      "text/html": [
       "<div>\n",
       "<style scoped>\n",
       "    .dataframe tbody tr th:only-of-type {\n",
       "        vertical-align: middle;\n",
       "    }\n",
       "\n",
       "    .dataframe tbody tr th {\n",
       "        vertical-align: top;\n",
       "    }\n",
       "\n",
       "    .dataframe thead th {\n",
       "        text-align: right;\n",
       "    }\n",
       "</style>\n",
       "<table border=\"1\" class=\"dataframe\">\n",
       "  <thead>\n",
       "    <tr style=\"text-align: right;\">\n",
       "      <th></th>\n",
       "      <th>Volume (%)</th>\n",
       "      <th>Volume (m³)</th>\n",
       "      <th>Aporte (m²)</th>\n",
       "    </tr>\n",
       "  </thead>\n",
       "  <tbody>\n",
       "    <tr>\n",
       "      <th>count</th>\n",
       "      <td>364.000000</td>\n",
       "      <td>3.640000e+02</td>\n",
       "      <td>3.640000e+02</td>\n",
       "    </tr>\n",
       "    <tr>\n",
       "      <th>mean</th>\n",
       "      <td>8.799835</td>\n",
       "      <td>3.622817e+07</td>\n",
       "      <td>2.035427e+05</td>\n",
       "    </tr>\n",
       "    <tr>\n",
       "      <th>std</th>\n",
       "      <td>3.294314</td>\n",
       "      <td>1.356201e+07</td>\n",
       "      <td>8.057076e+05</td>\n",
       "    </tr>\n",
       "    <tr>\n",
       "      <th>min</th>\n",
       "      <td>2.910000</td>\n",
       "      <td>1.197406e+07</td>\n",
       "      <td>-2.104992e+05</td>\n",
       "    </tr>\n",
       "    <tr>\n",
       "      <th>25%</th>\n",
       "      <td>7.170000</td>\n",
       "      <td>2.953658e+07</td>\n",
       "      <td>0.000000e+00</td>\n",
       "    </tr>\n",
       "    <tr>\n",
       "      <th>50%</th>\n",
       "      <td>8.735000</td>\n",
       "      <td>3.597573e+07</td>\n",
       "      <td>7.518016e+04</td>\n",
       "    </tr>\n",
       "    <tr>\n",
       "      <th>75%</th>\n",
       "      <td>9.660000</td>\n",
       "      <td>3.976991e+07</td>\n",
       "      <td>1.957695e+05</td>\n",
       "    </tr>\n",
       "    <tr>\n",
       "      <th>max</th>\n",
       "      <td>21.140000</td>\n",
       "      <td>8.704487e+07</td>\n",
       "      <td>1.297549e+07</td>\n",
       "    </tr>\n",
       "  </tbody>\n",
       "</table>\n",
       "</div>"
      ],
      "text/plain": [
       "       Volume (%)   Volume (m³)   Aporte (m²)\n",
       "count  364.000000  3.640000e+02  3.640000e+02\n",
       "mean     8.799835  3.622817e+07  2.035427e+05\n",
       "std      3.294314  1.356201e+07  8.057076e+05\n",
       "min      2.910000  1.197406e+07 -2.104992e+05\n",
       "25%      7.170000  2.953658e+07  0.000000e+00\n",
       "50%      8.735000  3.597573e+07  7.518016e+04\n",
       "75%      9.660000  3.976991e+07  1.957695e+05\n",
       "max     21.140000  8.704487e+07  1.297549e+07"
      ]
     },
     "execution_count": 8,
     "metadata": {},
     "output_type": "execute_result"
    }
   ],
   "source": [
    "#del df2[\"Data do registro\"]\n",
    "df2.describe()"
   ]
  },
  {
   "cell_type": "code",
   "execution_count": 9,
   "metadata": {},
   "outputs": [
    {
     "name": "stdout",
     "output_type": "stream",
     "text": [
      "<class 'pandas.core.frame.DataFrame'>\n",
      "DatetimeIndex: 364 entries, 2017-04-09 to 2018-04-08\n",
      "Data columns (total 4 columns):\n",
      "Açude          364 non-null object\n",
      "Volume (%)     364 non-null float64\n",
      "Volume (m³)    364 non-null float64\n",
      "Aporte (m²)    364 non-null float64\n",
      "dtypes: float64(3), object(1)\n",
      "memory usage: 14.2+ KB\n"
     ]
    }
   ],
   "source": [
    "df2.info()"
   ]
  },
  {
   "cell_type": "code",
   "execution_count": 10,
   "metadata": {},
   "outputs": [
    {
     "data": {
      "text/html": [
       "<div>\n",
       "<style scoped>\n",
       "    .dataframe tbody tr th:only-of-type {\n",
       "        vertical-align: middle;\n",
       "    }\n",
       "\n",
       "    .dataframe tbody tr th {\n",
       "        vertical-align: top;\n",
       "    }\n",
       "\n",
       "    .dataframe thead th {\n",
       "        text-align: right;\n",
       "    }\n",
       "</style>\n",
       "<table border=\"1\" class=\"dataframe\">\n",
       "  <thead>\n",
       "    <tr style=\"text-align: right;\">\n",
       "      <th></th>\n",
       "      <th>Açude</th>\n",
       "      <th>Volume (%)</th>\n",
       "      <th>Volume (m³)</th>\n",
       "      <th>Aporte (m²)</th>\n",
       "    </tr>\n",
       "    <tr>\n",
       "      <th>Data do registro</th>\n",
       "      <th></th>\n",
       "      <th></th>\n",
       "      <th></th>\n",
       "      <th></th>\n",
       "    </tr>\n",
       "  </thead>\n",
       "  <tbody>\n",
       "    <tr>\n",
       "      <th>2017-04-09</th>\n",
       "      <td>Epitácio Pessoa</td>\n",
       "      <td>3.03</td>\n",
       "      <td>12475341.58</td>\n",
       "      <td>-58974.26</td>\n",
       "    </tr>\n",
       "    <tr>\n",
       "      <th>2017-04-10</th>\n",
       "      <td>Epitácio Pessoa</td>\n",
       "      <td>3.02</td>\n",
       "      <td>12445854.45</td>\n",
       "      <td>-29487.13</td>\n",
       "    </tr>\n",
       "    <tr>\n",
       "      <th>2017-04-11</th>\n",
       "      <td>Epitácio Pessoa</td>\n",
       "      <td>3.01</td>\n",
       "      <td>12386880.19</td>\n",
       "      <td>-58974.26</td>\n",
       "    </tr>\n",
       "    <tr>\n",
       "      <th>2017-04-12</th>\n",
       "      <td>Epitácio Pessoa</td>\n",
       "      <td>2.99</td>\n",
       "      <td>12298418.80</td>\n",
       "      <td>-88461.39</td>\n",
       "    </tr>\n",
       "    <tr>\n",
       "      <th>2017-04-13</th>\n",
       "      <td>Epitácio Pessoa</td>\n",
       "      <td>2.97</td>\n",
       "      <td>12239444.54</td>\n",
       "      <td>-58974.26</td>\n",
       "    </tr>\n",
       "  </tbody>\n",
       "</table>\n",
       "</div>"
      ],
      "text/plain": [
       "                            Açude  Volume (%)  Volume (m³)  Aporte (m²)\n",
       "Data do registro                                                       \n",
       "2017-04-09        Epitácio Pessoa        3.03  12475341.58    -58974.26\n",
       "2017-04-10        Epitácio Pessoa        3.02  12445854.45    -29487.13\n",
       "2017-04-11        Epitácio Pessoa        3.01  12386880.19    -58974.26\n",
       "2017-04-12        Epitácio Pessoa        2.99  12298418.80    -88461.39\n",
       "2017-04-13        Epitácio Pessoa        2.97  12239444.54    -58974.26"
      ]
     },
     "execution_count": 10,
     "metadata": {},
     "output_type": "execute_result"
    }
   ],
   "source": [
    "#del df2[\"Açude\"]\n",
    "#del df2[\"Data do registro\"]\n",
    "df2.head()"
   ]
  },
  {
   "cell_type": "markdown",
   "metadata": {},
   "source": [
    "## Plota dados do açude de Boqueirão - 09/04/2017 ate 08/04/2018"
   ]
  },
  {
   "cell_type": "code",
   "execution_count": 25,
   "metadata": {
    "scrolled": true
   },
   "outputs": [
    {
     "data": {
      "image/png": "[encoded data removed]",
      "text/plain": [
       "<matplotlib.figure.Figure at 0x108b86ac8>"
      ]
     },
     "metadata": {},
     "output_type": "display_data"
    }
   ],
   "source": [
    "import matplotlib, matplotlib.pyplot as plt\n",
    "%matplotlib inline\n",
    "plt.figure(figsize=(16,5))\n",
    "matplotlib.style.use(\"ggplot\")\n",
    "\n",
    "plt.plot(df2[\"Volume (%)\"], color='blue', linewidth=1)\n",
    "# adcionando textos\n",
    "plt.title(\"Açude de Boqueirão - Recarga (09/04/2017 ate 08/04/2018)\")\n",
    "plt.xlabel(\"Ano\")\n",
    "plt.ylabel(\"Volume (%)\")\n",
    "plt.legend([\"Observado\"], loc=\"lower right\")\n",
    "plt.show()"
   ]
  },
  {
   "cell_type": "code",
   "execution_count": 26,
   "metadata": {},
   "outputs": [
    {
     "data": {
      "text/html": [
       "<div>\n",
       "<style scoped>\n",
       "    .dataframe tbody tr th:only-of-type {\n",
       "        vertical-align: middle;\n",
       "    }\n",
       "\n",
       "    .dataframe tbody tr th {\n",
       "        vertical-align: top;\n",
       "    }\n",
       "\n",
       "    .dataframe thead th {\n",
       "        text-align: right;\n",
       "    }\n",
       "</style>\n",
       "<table border=\"1\" class=\"dataframe\">\n",
       "  <thead>\n",
       "    <tr style=\"text-align: right;\">\n",
       "      <th></th>\n",
       "      <th>Açude</th>\n",
       "      <th>Volume (%)</th>\n",
       "      <th>Volume (m³)</th>\n",
       "      <th>Aporte (m²)</th>\n",
       "      <th>dia</th>\n",
       "    </tr>\n",
       "    <tr>\n",
       "      <th>Data do registro</th>\n",
       "      <th></th>\n",
       "      <th></th>\n",
       "      <th></th>\n",
       "      <th></th>\n",
       "      <th></th>\n",
       "    </tr>\n",
       "  </thead>\n",
       "  <tbody>\n",
       "    <tr>\n",
       "      <th>2017-04-09</th>\n",
       "      <td>Epitácio Pessoa</td>\n",
       "      <td>3.03</td>\n",
       "      <td>12475341.58</td>\n",
       "      <td>-58974.26</td>\n",
       "      <td>1</td>\n",
       "    </tr>\n",
       "    <tr>\n",
       "      <th>2017-04-10</th>\n",
       "      <td>Epitácio Pessoa</td>\n",
       "      <td>3.02</td>\n",
       "      <td>12445854.45</td>\n",
       "      <td>-29487.13</td>\n",
       "      <td>2</td>\n",
       "    </tr>\n",
       "    <tr>\n",
       "      <th>2017-04-11</th>\n",
       "      <td>Epitácio Pessoa</td>\n",
       "      <td>3.01</td>\n",
       "      <td>12386880.19</td>\n",
       "      <td>-58974.26</td>\n",
       "      <td>3</td>\n",
       "    </tr>\n",
       "    <tr>\n",
       "      <th>2017-04-12</th>\n",
       "      <td>Epitácio Pessoa</td>\n",
       "      <td>2.99</td>\n",
       "      <td>12298418.80</td>\n",
       "      <td>-88461.39</td>\n",
       "      <td>4</td>\n",
       "    </tr>\n",
       "    <tr>\n",
       "      <th>2017-04-13</th>\n",
       "      <td>Epitácio Pessoa</td>\n",
       "      <td>2.97</td>\n",
       "      <td>12239444.54</td>\n",
       "      <td>-58974.26</td>\n",
       "      <td>5</td>\n",
       "    </tr>\n",
       "  </tbody>\n",
       "</table>\n",
       "</div>"
      ],
      "text/plain": [
       "                            Açude  Volume (%)  Volume (m³)  Aporte (m²)  dia\n",
       "Data do registro                                                            \n",
       "2017-04-09        Epitácio Pessoa        3.03  12475341.58    -58974.26    1\n",
       "2017-04-10        Epitácio Pessoa        3.02  12445854.45    -29487.13    2\n",
       "2017-04-11        Epitácio Pessoa        3.01  12386880.19    -58974.26    3\n",
       "2017-04-12        Epitácio Pessoa        2.99  12298418.80    -88461.39    4\n",
       "2017-04-13        Epitácio Pessoa        2.97  12239444.54    -58974.26    5"
      ]
     },
     "execution_count": 26,
     "metadata": {},
     "output_type": "execute_result"
    }
   ],
   "source": [
    "# criar uma coluna com os dias\n",
    "df3 = df2\n",
    "numero_de_dias_observados = len(df3)\n",
    "df3[\"dia\"] = range(1,numero_de_dias_observados+1)\n",
    "df3.head()"
   ]
  },
  {
   "cell_type": "code",
   "execution_count": 27,
   "metadata": {},
   "outputs": [
    {
     "name": "stdout",
     "output_type": "stream",
     "text": [
      "numero_de_dias_observados =  364\n"
     ]
    }
   ],
   "source": [
    "print(\"numero_de_dias_observados = \",len(df3)) # numero de tuplas ou linhas ou medições"
   ]
  },
  {
   "cell_type": "code",
   "execution_count": 28,
   "metadata": {},
   "outputs": [
    {
     "data": {
      "text/html": [
       "<div>\n",
       "<style scoped>\n",
       "    .dataframe tbody tr th:only-of-type {\n",
       "        vertical-align: middle;\n",
       "    }\n",
       "\n",
       "    .dataframe tbody tr th {\n",
       "        vertical-align: top;\n",
       "    }\n",
       "\n",
       "    .dataframe thead th {\n",
       "        text-align: right;\n",
       "    }\n",
       "</style>\n",
       "<table border=\"1\" class=\"dataframe\">\n",
       "  <thead>\n",
       "    <tr style=\"text-align: right;\">\n",
       "      <th></th>\n",
       "      <th>Açude</th>\n",
       "      <th>Volume (%)</th>\n",
       "      <th>Volume (m³)</th>\n",
       "      <th>Aporte (m²)</th>\n",
       "      <th>dia</th>\n",
       "    </tr>\n",
       "    <tr>\n",
       "      <th>Data do registro</th>\n",
       "      <th></th>\n",
       "      <th></th>\n",
       "      <th></th>\n",
       "      <th></th>\n",
       "      <th></th>\n",
       "    </tr>\n",
       "  </thead>\n",
       "  <tbody>\n",
       "    <tr>\n",
       "      <th>2018-04-04</th>\n",
       "      <td>Epitácio Pessoa</td>\n",
       "      <td>17.33</td>\n",
       "      <td>71332888.00</td>\n",
       "      <td>210499.20</td>\n",
       "      <td>360</td>\n",
       "    </tr>\n",
       "    <tr>\n",
       "      <th>2018-04-05</th>\n",
       "      <td>Epitácio Pessoa</td>\n",
       "      <td>17.33</td>\n",
       "      <td>71332888.00</td>\n",
       "      <td>0.00</td>\n",
       "      <td>361</td>\n",
       "    </tr>\n",
       "    <tr>\n",
       "      <th>2018-04-06</th>\n",
       "      <td>Epitácio Pessoa</td>\n",
       "      <td>17.30</td>\n",
       "      <td>71227638.40</td>\n",
       "      <td>-105249.60</td>\n",
       "      <td>362</td>\n",
       "    </tr>\n",
       "    <tr>\n",
       "      <th>2018-04-07</th>\n",
       "      <td>Epitácio Pessoa</td>\n",
       "      <td>17.99</td>\n",
       "      <td>74069377.60</td>\n",
       "      <td>2841739.20</td>\n",
       "      <td>363</td>\n",
       "    </tr>\n",
       "    <tr>\n",
       "      <th>2018-04-08</th>\n",
       "      <td>Epitácio Pessoa</td>\n",
       "      <td>21.14</td>\n",
       "      <td>87044871.44</td>\n",
       "      <td>12975493.84</td>\n",
       "      <td>364</td>\n",
       "    </tr>\n",
       "  </tbody>\n",
       "</table>\n",
       "</div>"
      ],
      "text/plain": [
       "                            Açude  Volume (%)  Volume (m³)  Aporte (m²)  dia\n",
       "Data do registro                                                            \n",
       "2018-04-04        Epitácio Pessoa       17.33  71332888.00    210499.20  360\n",
       "2018-04-05        Epitácio Pessoa       17.33  71332888.00         0.00  361\n",
       "2018-04-06        Epitácio Pessoa       17.30  71227638.40   -105249.60  362\n",
       "2018-04-07        Epitácio Pessoa       17.99  74069377.60   2841739.20  363\n",
       "2018-04-08        Epitácio Pessoa       21.14  87044871.44  12975493.84  364"
      ]
     },
     "execution_count": 28,
     "metadata": {},
     "output_type": "execute_result"
    }
   ],
   "source": [
    "df3.tail()"
   ]
  },
  {
   "cell_type": "markdown",
   "metadata": {},
   "source": [
    "## Preparar os dados para aplicar o modelo de regressao"
   ]
  },
  {
   "cell_type": "code",
   "execution_count": 32,
   "metadata": {},
   "outputs": [
    {
     "name": "stdout",
     "output_type": "stream",
     "text": [
      "[[1]\n",
      " [2]\n",
      " [3]]\n",
      "Data do registro\n",
      "2017-04-09    3.03\n",
      "2017-04-10    3.02\n",
      "2017-04-11    3.01\n",
      "Name: Volume (%), dtype: float64\n"
     ]
    }
   ],
   "source": [
    "import numpy, pandas as pd\n",
    "import matplotlib, matplotlib.pyplot as plt\n",
    "import sklearn.linear_model as lm\n",
    "import warnings\n",
    "warnings.filterwarnings('ignore')\n",
    "#X = numpy.array([x.toordinal() for x in df3.index])[:, numpy.newaxis]\n",
    "X = df3['dia'].values.reshape(-1, 1)\n",
    "y = df3['Volume (%)']\n",
    "\n",
    "print(X[:3])\n",
    "print(y[:3])"
   ]
  },
  {
   "cell_type": "markdown",
   "metadata": {},
   "source": [
    "## Aplicar o modelo de Regressao"
   ]
  },
  {
   "cell_type": "code",
   "execution_count": 33,
   "metadata": {},
   "outputs": [
    {
     "data": {
      "text/plain": [
       "LinearRegression(copy_X=True, fit_intercept=True, n_jobs=1, normalize=False)"
      ]
     },
     "execution_count": 33,
     "metadata": {},
     "output_type": "execute_result"
    }
   ],
   "source": [
    "# Aplicar o modelo de Regressao\n",
    "olm = lm.LinearRegression()\n",
    "olm.fit(X, y)\n",
    "olm"
   ]
  },
  {
   "cell_type": "markdown",
   "metadata": {},
   "source": [
    "## Métrica para avaliar o modelo\n",
    "R² - coeficiente de determinação. <br />\n",
    "É uma métrica que mede os o quanto dos futuros examplos são previstos corretamente. <br />\n",
    "Varia entre 1 e -1. Quanto mais o R² se aproximar de 1 ou -1, melhor a previsão. <br />\n",
    "Um R² próximo de 0, não reflete o modelo"
   ]
  },
  {
   "cell_type": "code",
   "execution_count": 35,
   "metadata": {},
   "outputs": [
    {
     "name": "stdout",
     "output_type": "stream",
     "text": [
      "r2 =  0.8186067663027004\n"
     ]
    }
   ],
   "source": [
    "from sklearn.metrics import r2_score\n",
    "\n",
    "y_pred = olm.predict(df3['dia'].values.reshape(-1, 1))\n",
    "# Evaluate the model\n",
    "r2 = r2_score(y, y_pred)\n",
    "print('r2 = ', r2 )"
   ]
  },
  {
   "cell_type": "markdown",
   "metadata": {},
   "source": [
    "## Plota os Dados Observados e Previstos"
   ]
  },
  {
   "cell_type": "markdown",
   "metadata": {
    "collapsed": true
   },
   "source": [
    "### preparando a saida para plotar"
   ]
  },
  {
   "cell_type": "code",
   "execution_count": 39,
   "metadata": {},
   "outputs": [
    {
     "name": "stdout",
     "output_type": "stream",
     "text": [
      " y = 0.028326711893337055 * x + 3.6302102443011517\n"
     ]
    }
   ],
   "source": [
    "# a reta de regressao\n",
    "a = olm.coef_[0]\n",
    "b = olm.intercept_\n",
    "print(' y = {0} * x + {1}'.format(a, b))"
   ]
  },
  {
   "cell_type": "code",
   "execution_count": 44,
   "metadata": {},
   "outputs": [
    {
     "name": "stdout",
     "output_type": "stream",
     "text": [
      "reta de regressão\n",
      " y = 0.028326711893337055 * x + 3.6302102443011517\n"
     ]
    },
    {
     "data": {
      "image/png": "[encoded data removed]",
      "text/plain": [
       "<matplotlib.figure.Figure at 0x10f9537b8>"
      ]
     },
     "metadata": {},
     "output_type": "display_data"
    }
   ],
   "source": [
    "matplotlib.style.use(\"ggplot\")\n",
    "plt.figure(figsize=(15,8))\n",
    "\n",
    "# Plot both data sets\n",
    "plt.plot(X, y, color='blue',\n",
    "         linewidth=1)\n",
    "plt.plot(X, olm.predict(X), color='green',\n",
    "         linewidth=1)\n",
    "\n",
    "# Add decorations\n",
    "plt.title(\"Açude de Boqueirão - 2017 (Depois da Recarga do São Francisco)\")\n",
    "plt.xlabel(\"Dia\")\n",
    "plt.ylabel(\"Volume (%)\")\n",
    "plt.legend([\"Atual\", \"Previsto\",], loc=\"lower right\")\n",
    "print('reta de regressão')\n",
    "print(' y = {0} * x + {1}'.format(a, b))\n",
    "plt.show()"
   ]
  },
  {
   "cell_type": "code",
   "execution_count": 45,
   "metadata": {},
   "outputs": [
    {
     "data": {
      "text/plain": [
       "[3.6585369561944887, 3.6868636680878257, 3.7151903799811627]"
      ]
     },
     "execution_count": 45,
     "metadata": {},
     "output_type": "execute_result"
    }
   ],
   "source": [
    "list(olm.predict(X))[:3]"
   ]
  },
  {
   "cell_type": "code",
   "execution_count": 46,
   "metadata": {},
   "outputs": [],
   "source": [
    "import numpy as np"
   ]
  },
  {
   "cell_type": "code",
   "execution_count": 47,
   "metadata": {},
   "outputs": [
    {
     "data": {
      "text/plain": [
       "364"
      ]
     },
     "execution_count": 47,
     "metadata": {},
     "output_type": "execute_result"
    }
   ],
   "source": [
    "numero_de_dias_observados"
   ]
  },
  {
   "cell_type": "code",
   "execution_count": 48,
   "metadata": {},
   "outputs": [
    {
     "data": {
      "text/plain": [
       "array(454)"
      ]
     },
     "execution_count": 48,
     "metadata": {},
     "output_type": "execute_result"
    }
   ],
   "source": [
    "dados3meses = np.array(numero_de_dias_observados + 90)\n",
    "dados3meses"
   ]
  },
  {
   "cell_type": "code",
   "execution_count": 49,
   "metadata": {},
   "outputs": [
    {
     "data": {
      "text/plain": [
       "16.490537443876175"
      ]
     },
     "execution_count": 49,
     "metadata": {},
     "output_type": "execute_result"
    }
   ],
   "source": [
    "olm.predict(dados3meses)[0]"
   ]
  },
  {
   "cell_type": "code",
   "execution_count": 50,
   "metadata": {},
   "outputs": [
    {
     "name": "stdout",
     "output_type": "stream",
     "text": [
      "Volume Boqueirão depois de um ano =  24.28 %\n"
     ]
    }
   ],
   "source": [
    "# predicao para 1 ano\n",
    "dados = np.array(numero_de_dias_observados + 365)\n",
    "pred = olm.predict(dados)[0] \n",
    "print (\"Volume Boqueirão depois de um ano = %6.2f %%\" % (pred))"
   ]
  },
  {
   "cell_type": "code",
   "execution_count": 51,
   "metadata": {},
   "outputs": [
    {
     "name": "stdout",
     "output_type": "stream",
     "text": [
      "Volume Boqueirão depois de dois anos =  44.93 %\n"
     ]
    }
   ],
   "source": [
    "# predicao para 2 anos\n",
    "dados = np.array((numero_de_dias_observados+365)*2).reshape(1, -1)\n",
    "pred = olm.predict(dados)[0]  \n",
    "\n",
    "print (\"Volume Boqueirão depois de dois anos = %6.2f %%\" % (pred))"
   ]
  },
  {
   "cell_type": "code",
   "execution_count": 52,
   "metadata": {},
   "outputs": [
    {
     "name": "stdout",
     "output_type": "stream",
     "text": [
      "Volume Boqueirão depois de 1 ano(s) -> 24.28%\n",
      "Volume Boqueirão depois de 2 ano(s) -> 44.93%\n",
      "Volume Boqueirão depois de 3 ano(s) -> 65.58%\n",
      "Volume Boqueirão depois de 4 ano(s) -> 86.23%\n",
      "Volume Boqueirão depois de 5 ano(s) -> 106.88%\n"
     ]
    }
   ],
   "source": [
    "# predicao até verter água-sangrar\n",
    "ano = 1\n",
    "while (True):\n",
    "    anopred = np.array([(numero_de_dias_observados + 365)*ano]).reshape(1, -1)\n",
    "    #print(anopred/365, anopred, ano)\n",
    "    pred = olm.predict(anopred)[0]  \n",
    "    if pred >= 100:\n",
    "        break\n",
    "    print (\"Volume Boqueirão depois de %d ano(s) -> %-5.2f%%\" % (ano,pred))\n",
    "    ano = ano +  1\n",
    "print (\"Volume Boqueirão depois de %d ano(s) -> %-5.2f%%\" % (ano,pred))"
   ]
  },
  {
   "cell_type": "markdown",
   "metadata": {},
   "source": [
    "### Com os dados de recarga do São Francisco e dados de chuva, representados pelo Volume diário, <br /> O Açude de Boqueirão encherá entre 4-5 anos (2022-2023)"
   ]
  }
 ],
 "metadata": {
  "anaconda-cloud": {},
  "kernelspec": {
   "display_name": "Python 3",
   "language": "python",
   "name": "python3"
  },
  "language_info": {
   "codemirror_mode": {
    "name": "ipython",
    "version": 3
   },
   "file_extension": ".py",
   "mimetype": "text/x-python",
   "name": "python",
   "nbconvert_exporter": "python",
   "pygments_lexer": "ipython3",
   "version": "3.6.4"
  }
 },
 "nbformat": 4,
 "nbformat_minor": 1
}
