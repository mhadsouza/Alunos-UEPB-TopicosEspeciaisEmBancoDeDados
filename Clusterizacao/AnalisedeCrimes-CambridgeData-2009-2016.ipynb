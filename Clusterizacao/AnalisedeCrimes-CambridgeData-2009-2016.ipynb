{
 "cells": [
  {
   "cell_type": "code",
   "execution_count": 1,
   "metadata": {},
   "outputs": [],
   "source": [
    "import pandas as pd"
   ]
  },
  {
   "cell_type": "code",
   "execution_count": 58,
   "metadata": {},
   "outputs": [],
   "source": [
    "#!pip install geopandas\n",
    "#!pip install geopy"
   ]
  },
  {
   "cell_type": "code",
   "execution_count": 2,
   "metadata": {},
   "outputs": [
    {
     "name": "stdout",
     "output_type": "stream",
     "text": [
      " AnalisedeCrimes-CambridgeData-2009-2016.ipynb\r\n",
      "'Cambridge Crime Data 2009-2016.csv'\r\n",
      " clusterizacao.jpg\r\n",
      " Clusterizacao-RedesSociais.ipynb\r\n",
      " KMeans-Clusterizacao-Filmes.ipynb\r\n",
      " mosn.csv\r\n",
      " README.md\r\n",
      " tmdb_5000_movies.csv\r\n"
     ]
    }
   ],
   "source": [
    "!ls"
   ]
  },
  {
   "cell_type": "code",
   "execution_count": 59,
   "metadata": {},
   "outputs": [
    {
     "data": {
      "text/html": [
       "<div>\n",
       "<style scoped>\n",
       "    .dataframe tbody tr th:only-of-type {\n",
       "        vertical-align: middle;\n",
       "    }\n",
       "\n",
       "    .dataframe tbody tr th {\n",
       "        vertical-align: top;\n",
       "    }\n",
       "\n",
       "    .dataframe thead th {\n",
       "        text-align: right;\n",
       "    }\n",
       "</style>\n",
       "<table border=\"1\" class=\"dataframe\">\n",
       "  <thead>\n",
       "    <tr style=\"text-align: right;\">\n",
       "      <th></th>\n",
       "      <th>File Number</th>\n",
       "      <th>Date of Report</th>\n",
       "      <th>Crime Date Time</th>\n",
       "      <th>Crime</th>\n",
       "      <th>Reporting Area</th>\n",
       "      <th>Neighborhood</th>\n",
       "      <th>Location</th>\n",
       "    </tr>\n",
       "  </thead>\n",
       "  <tbody>\n",
       "    <tr>\n",
       "      <th>0</th>\n",
       "      <td>2009-00002</td>\n",
       "      <td>01/01/2009 12:39:00 AM</td>\n",
       "      <td>1/1/09 0:39</td>\n",
       "      <td>Simple Assault</td>\n",
       "      <td>504.0</td>\n",
       "      <td>Cambridgeport</td>\n",
       "      <td>400 Massachusetts Avenue, Cambridge, MA</td>\n",
       "    </tr>\n",
       "    <tr>\n",
       "      <th>1</th>\n",
       "      <td>2009-00003</td>\n",
       "      <td>01/01/2009 01:34:00 AM</td>\n",
       "      <td>1/1/09 1:34</td>\n",
       "      <td>Simple Assault</td>\n",
       "      <td>610.0</td>\n",
       "      <td>Mid-Cambridge</td>\n",
       "      <td>200 HAMPSHIRE STREET, Cambridge, MA</td>\n",
       "    </tr>\n",
       "    <tr>\n",
       "      <th>2</th>\n",
       "      <td>2009-00004</td>\n",
       "      <td>01/01/2009 01:43:00 AM</td>\n",
       "      <td>01/01/2009 02:20 - 02:35</td>\n",
       "      <td>Aggravated Assault</td>\n",
       "      <td>708.0</td>\n",
       "      <td>Riverside</td>\n",
       "      <td>DUNSTER STREET &amp; MOUNT AUBURN STREET, Cambridg...</td>\n",
       "    </tr>\n",
       "    <tr>\n",
       "      <th>3</th>\n",
       "      <td>2009-00005</td>\n",
       "      <td>01/01/2009 02:27:00 AM</td>\n",
       "      <td>01/01/2009 02:20 - 02:45</td>\n",
       "      <td>Simple Assault</td>\n",
       "      <td>105.0</td>\n",
       "      <td>East Cambridge</td>\n",
       "      <td>100 SCIARAPPA STREET, Cambridge, MA</td>\n",
       "    </tr>\n",
       "    <tr>\n",
       "      <th>4</th>\n",
       "      <td>2009-00006</td>\n",
       "      <td>01/01/2009 02:34:00 AM</td>\n",
       "      <td>01/01/2009 02:15 - 02:35</td>\n",
       "      <td>Disorderly</td>\n",
       "      <td>708.0</td>\n",
       "      <td>Riverside</td>\n",
       "      <td>1200 Massachusetts Avenue, Cambridge, MA</td>\n",
       "    </tr>\n",
       "  </tbody>\n",
       "</table>\n",
       "</div>"
      ],
      "text/plain": [
       "  File Number          Date of Report           Crime Date Time  \\\n",
       "0  2009-00002  01/01/2009 12:39:00 AM               1/1/09 0:39   \n",
       "1  2009-00003  01/01/2009 01:34:00 AM               1/1/09 1:34   \n",
       "2  2009-00004  01/01/2009 01:43:00 AM  01/01/2009 02:20 - 02:35   \n",
       "3  2009-00005  01/01/2009 02:27:00 AM  01/01/2009 02:20 - 02:45   \n",
       "4  2009-00006  01/01/2009 02:34:00 AM  01/01/2009 02:15 - 02:35   \n",
       "\n",
       "                Crime  Reporting Area    Neighborhood  \\\n",
       "0      Simple Assault           504.0   Cambridgeport   \n",
       "1      Simple Assault           610.0   Mid-Cambridge   \n",
       "2  Aggravated Assault           708.0       Riverside   \n",
       "3      Simple Assault           105.0  East Cambridge   \n",
       "4          Disorderly           708.0       Riverside   \n",
       "\n",
       "                                            Location  \n",
       "0            400 Massachusetts Avenue, Cambridge, MA  \n",
       "1                200 HAMPSHIRE STREET, Cambridge, MA  \n",
       "2  DUNSTER STREET & MOUNT AUBURN STREET, Cambridg...  \n",
       "3                100 SCIARAPPA STREET, Cambridge, MA  \n",
       "4           1200 Massachusetts Avenue, Cambridge, MA  "
      ]
     },
     "execution_count": 59,
     "metadata": {},
     "output_type": "execute_result"
    }
   ],
   "source": [
    "f = 'Cambridge Crime Data 2009-2016.csv'\n",
    "df = pd.read_csv(f)\n",
    "df.head()"
   ]
  },
  {
   "cell_type": "code",
   "execution_count": 62,
   "metadata": {},
   "outputs": [
    {
     "ename": "NameError",
     "evalue": "name 'Nominatim' is not defined",
     "output_type": "error",
     "traceback": [
      "\u001b[0;31m---------------------------------------------------------------------------\u001b[0m",
      "\u001b[0;31mNameError\u001b[0m                                 Traceback (most recent call last)",
      "\u001b[0;32m<ipython-input-62-2acf9c35f7d6>\u001b[0m in \u001b[0;36m<module>\u001b[0;34m\u001b[0m\n\u001b[0;32m----> 1\u001b[0;31m \u001b[0mlocator\u001b[0m \u001b[0;34m=\u001b[0m \u001b[0mNominatim\u001b[0m\u001b[0;34m(\u001b[0m\u001b[0muser_agent\u001b[0m\u001b[0;34m=\u001b[0m\u001b[0;34m'myGeocoder'\u001b[0m\u001b[0;34m)\u001b[0m\u001b[0;34m\u001b[0m\u001b[0;34m\u001b[0m\u001b[0m\n\u001b[0m\u001b[1;32m      2\u001b[0m \u001b[0mlocation\u001b[0m \u001b[0;34m=\u001b[0m \u001b[0mlocator\u001b[0m\u001b[0;34m.\u001b[0m\u001b[0mgeocode\u001b[0m\u001b[0;34m(\u001b[0m\u001b[0;34m'Champ de Mars, Paris, France'\u001b[0m\u001b[0;34m)\u001b[0m\u001b[0;34m\u001b[0m\u001b[0;34m\u001b[0m\u001b[0m\n",
      "\u001b[0;31mNameError\u001b[0m: name 'Nominatim' is not defined"
     ]
    }
   ],
   "source": [
    "locator = Nominatim(user_agent='myGeocoder')\n",
    "location = locator.geocode('Champ de Mars, Paris, France')"
   ]
  },
  {
   "cell_type": "code",
   "execution_count": null,
   "metadata": {},
   "outputs": [],
   "source": [
    "print(“Latitude = {}, Longitude = {}”.format(location.latitude, location.longitude))"
   ]
  },
  {
   "cell_type": "code",
   "execution_count": 4,
   "metadata": {},
   "outputs": [
    {
     "data": {
      "text/plain": [
       "Larceny from MV           4837\n",
       "Hit and Run               4662\n",
       "Domestic Dispute          3909\n",
       "Mal. Dest. Property       3671\n",
       "Simple Assault            3295\n",
       "Larceny from Building     2857\n",
       "Shoplifting               2789\n",
       "Larceny of Bicycle        2750\n",
       "Housebreak                2676\n",
       "Forgery                   2584\n",
       "Warrant Arrest            2575\n",
       "Larceny from Person       2276\n",
       "Larceny from Residence    1743\n",
       "Aggravated Assault        1726\n",
       "Threats                   1637\n",
       "Auto Theft                1102\n",
       "Missing Person             950\n",
       "Flim Flam                  939\n",
       "Harassment                 816\n",
       "Street Robbery             759\n",
       "Drugs                      673\n",
       "Admin Error                660\n",
       "Accident                   627\n",
       "Commercial Break           584\n",
       "Phone Calls                450\n",
       "OUI                        387\n",
       "Suspicious Package         381\n",
       "Violation of R.O.          377\n",
       "Trespassing                359\n",
       "Disorderly                 306\n",
       "Larceny (Misc)             269\n",
       "Taxi Violation             259\n",
       "Larceny of Plate           256\n",
       "Drinking in Public         215\n",
       "Indecent Exposure          208\n",
       "Commercial Robbery         188\n",
       "Rec. Stol. Property        169\n",
       "Larceny of Services        168\n",
       "Counterfeiting             143\n",
       "Embezzlement               115\n",
       "Violation of H.O.          114\n",
       "Weapon Violations           89\n",
       "Arson                       76\n",
       "Annoying & Accosting        74\n",
       "Liquor Possession/Sale      50\n",
       "Sex Offender Violation      49\n",
       "Noise Complaint             47\n",
       "Peeping & Spying            44\n",
       "Kidnapping                  32\n",
       "Extortion/Blackmail         32\n",
       "Stalking                    21\n",
       "Prostitution                18\n",
       "Homicide                    18\n",
       "Gambling                     3\n",
       "Name: Crime, dtype: int64"
      ]
     },
     "execution_count": 4,
     "metadata": {},
     "output_type": "execute_result"
    }
   ],
   "source": [
    "df.Crime.value_counts()"
   ]
  },
  {
   "cell_type": "code",
   "execution_count": 5,
   "metadata": {},
   "outputs": [
    {
     "data": {
      "text/plain": [
       "Cambridgeport       7830\n",
       "East Cambridge      7691\n",
       "Area 4              6025\n",
       "North Cambridge     5602\n",
       "West Cambridge      5544\n",
       "Mid-Cambridge       5496\n",
       "Riverside           5254\n",
       "Inman/Harrington    4195\n",
       "Peabody             3522\n",
       "Agassiz             1520\n",
       "Highlands           1203\n",
       "MIT                 1092\n",
       "Strawberry Hill     1038\n",
       "Name: Neighborhood, dtype: int64"
      ]
     },
     "execution_count": 5,
     "metadata": {},
     "output_type": "execute_result"
    }
   ],
   "source": [
    "df.Neighborhood.value_counts()"
   ]
  },
  {
   "cell_type": "code",
   "execution_count": 6,
   "metadata": {},
   "outputs": [
    {
     "data": {
      "text/html": [
       "<div>\n",
       "<style scoped>\n",
       "    .dataframe tbody tr th:only-of-type {\n",
       "        vertical-align: middle;\n",
       "    }\n",
       "\n",
       "    .dataframe tbody tr th {\n",
       "        vertical-align: top;\n",
       "    }\n",
       "\n",
       "    .dataframe thead th {\n",
       "        text-align: right;\n",
       "    }\n",
       "</style>\n",
       "<table border=\"1\" class=\"dataframe\">\n",
       "  <thead>\n",
       "    <tr style=\"text-align: right;\">\n",
       "      <th></th>\n",
       "      <th>File Number</th>\n",
       "      <th>Date of Report</th>\n",
       "      <th>Crime Date Time</th>\n",
       "      <th>Crime</th>\n",
       "      <th>Reporting Area</th>\n",
       "      <th>Neighborhood</th>\n",
       "      <th>Location</th>\n",
       "      <th>bairro</th>\n",
       "      <th>tipo_crime</th>\n",
       "      <th>localizacao</th>\n",
       "    </tr>\n",
       "  </thead>\n",
       "  <tbody>\n",
       "    <tr>\n",
       "      <th>0</th>\n",
       "      <td>2009-00002</td>\n",
       "      <td>01/01/2009 12:39:00 AM</td>\n",
       "      <td>1/1/09 0:39</td>\n",
       "      <td>Simple Assault</td>\n",
       "      <td>504.0</td>\n",
       "      <td>Cambridgeport</td>\n",
       "      <td>400 Massachusetts Avenue, Cambridge, MA</td>\n",
       "      <td>2</td>\n",
       "      <td>43</td>\n",
       "      <td>2903</td>\n",
       "    </tr>\n",
       "    <tr>\n",
       "      <th>1</th>\n",
       "      <td>2009-00003</td>\n",
       "      <td>01/01/2009 01:34:00 AM</td>\n",
       "      <td>1/1/09 1:34</td>\n",
       "      <td>Simple Assault</td>\n",
       "      <td>610.0</td>\n",
       "      <td>Mid-Cambridge</td>\n",
       "      <td>200 HAMPSHIRE STREET, Cambridge, MA</td>\n",
       "      <td>7</td>\n",
       "      <td>43</td>\n",
       "      <td>2538</td>\n",
       "    </tr>\n",
       "    <tr>\n",
       "      <th>2</th>\n",
       "      <td>2009-00004</td>\n",
       "      <td>01/01/2009 01:43:00 AM</td>\n",
       "      <td>01/01/2009 02:20 - 02:35</td>\n",
       "      <td>Aggravated Assault</td>\n",
       "      <td>708.0</td>\n",
       "      <td>Riverside</td>\n",
       "      <td>DUNSTER STREET &amp; MOUNT AUBURN STREET, Cambridg...</td>\n",
       "      <td>10</td>\n",
       "      <td>2</td>\n",
       "      <td>4212</td>\n",
       "    </tr>\n",
       "    <tr>\n",
       "      <th>3</th>\n",
       "      <td>2009-00005</td>\n",
       "      <td>01/01/2009 02:27:00 AM</td>\n",
       "      <td>01/01/2009 02:20 - 02:45</td>\n",
       "      <td>Simple Assault</td>\n",
       "      <td>105.0</td>\n",
       "      <td>East Cambridge</td>\n",
       "      <td>100 SCIARAPPA STREET, Cambridge, MA</td>\n",
       "      <td>3</td>\n",
       "      <td>43</td>\n",
       "      <td>2213</td>\n",
       "    </tr>\n",
       "    <tr>\n",
       "      <th>4</th>\n",
       "      <td>2009-00006</td>\n",
       "      <td>01/01/2009 02:34:00 AM</td>\n",
       "      <td>01/01/2009 02:15 - 02:35</td>\n",
       "      <td>Disorderly</td>\n",
       "      <td>708.0</td>\n",
       "      <td>Riverside</td>\n",
       "      <td>1200 Massachusetts Avenue, Cambridge, MA</td>\n",
       "      <td>10</td>\n",
       "      <td>9</td>\n",
       "      <td>2368</td>\n",
       "    </tr>\n",
       "  </tbody>\n",
       "</table>\n",
       "</div>"
      ],
      "text/plain": [
       "  File Number          Date of Report           Crime Date Time  \\\n",
       "0  2009-00002  01/01/2009 12:39:00 AM               1/1/09 0:39   \n",
       "1  2009-00003  01/01/2009 01:34:00 AM               1/1/09 1:34   \n",
       "2  2009-00004  01/01/2009 01:43:00 AM  01/01/2009 02:20 - 02:35   \n",
       "3  2009-00005  01/01/2009 02:27:00 AM  01/01/2009 02:20 - 02:45   \n",
       "4  2009-00006  01/01/2009 02:34:00 AM  01/01/2009 02:15 - 02:35   \n",
       "\n",
       "                Crime  Reporting Area    Neighborhood  \\\n",
       "0      Simple Assault           504.0   Cambridgeport   \n",
       "1      Simple Assault           610.0   Mid-Cambridge   \n",
       "2  Aggravated Assault           708.0       Riverside   \n",
       "3      Simple Assault           105.0  East Cambridge   \n",
       "4          Disorderly           708.0       Riverside   \n",
       "\n",
       "                                            Location  bairro  tipo_crime  \\\n",
       "0            400 Massachusetts Avenue, Cambridge, MA       2          43   \n",
       "1                200 HAMPSHIRE STREET, Cambridge, MA       7          43   \n",
       "2  DUNSTER STREET & MOUNT AUBURN STREET, Cambridg...      10           2   \n",
       "3                100 SCIARAPPA STREET, Cambridge, MA       3          43   \n",
       "4           1200 Massachusetts Avenue, Cambridge, MA      10           9   \n",
       "\n",
       "   localizacao  \n",
       "0         2903  \n",
       "1         2538  \n",
       "2         4212  \n",
       "3         2213  \n",
       "4         2368  "
      ]
     },
     "execution_count": 6,
     "metadata": {},
     "output_type": "execute_result"
    }
   ],
   "source": [
    "df['bairro']  = pd.Categorical(df.Neighborhood).codes\n",
    "df['tipo_crime'] = pd.Categorical(df.Crime).codes\n",
    "df['localizacao'] = pd.Categorical(df.Location).codes\n",
    "df.head()"
   ]
  },
  {
   "cell_type": "code",
   "execution_count": 7,
   "metadata": {},
   "outputs": [
    {
     "name": "stderr",
     "output_type": "stream",
     "text": [
      "/home/valencar/anaconda3/lib/python3.8/site-packages/seaborn/_decorators.py:36: FutureWarning: Pass the following variables as keyword args: x, y. From version 0.12, the only valid positional argument will be `data`, and passing other arguments without an explicit keyword will result in an error or misinterpretation.\n",
      "  warnings.warn(\n"
     ]
    },
    {
     "data": {
      "text/plain": [
       "<AxesSubplot:xlabel='bairro', ylabel='tipo_crime'>"
      ]
     },
     "execution_count": 7,
     "metadata": {},
     "output_type": "execute_result"
    },
    {
     "data": {
      "image/png": "[encoded data removed]",
      "text/plain": [
       "<Figure size 432x288 with 1 Axes>"
      ]
     },
     "metadata": {
      "needs_background": "light"
     },
     "output_type": "display_data"
    }
   ],
   "source": [
    "import seaborn as sns\n",
    "sns.scatterplot(  df.bairro, df.tipo_crime)"
   ]
  },
  {
   "cell_type": "code",
   "execution_count": 8,
   "metadata": {},
   "outputs": [
    {
     "name": "stderr",
     "output_type": "stream",
     "text": [
      "/home/valencar/anaconda3/lib/python3.8/site-packages/seaborn/_decorators.py:36: FutureWarning: Pass the following variables as keyword args: x, y. From version 0.12, the only valid positional argument will be `data`, and passing other arguments without an explicit keyword will result in an error or misinterpretation.\n",
      "  warnings.warn(\n"
     ]
    },
    {
     "data": {
      "text/plain": [
       "<AxesSubplot:xlabel='localizacao', ylabel='tipo_crime'>"
      ]
     },
     "execution_count": 8,
     "metadata": {},
     "output_type": "execute_result"
    },
    {
     "data": {
      "image/png": "[encoded data removed]",
      "text/plain": [
       "<Figure size 432x288 with 1 Axes>"
      ]
     },
     "metadata": {
      "needs_background": "light"
     },
     "output_type": "display_data"
    }
   ],
   "source": [
    "import seaborn as sns\n",
    "sns.scatterplot( df.localizacao,  df.tipo_crime)"
   ]
  },
  {
   "cell_type": "code",
   "execution_count": 9,
   "metadata": {},
   "outputs": [
    {
     "data": {
      "text/html": [
       "<div>\n",
       "<style scoped>\n",
       "    .dataframe tbody tr th:only-of-type {\n",
       "        vertical-align: middle;\n",
       "    }\n",
       "\n",
       "    .dataframe tbody tr th {\n",
       "        vertical-align: top;\n",
       "    }\n",
       "\n",
       "    .dataframe thead th {\n",
       "        text-align: right;\n",
       "    }\n",
       "</style>\n",
       "<table border=\"1\" class=\"dataframe\">\n",
       "  <thead>\n",
       "    <tr style=\"text-align: right;\">\n",
       "      <th></th>\n",
       "      <th>File Number</th>\n",
       "      <th>Date of Report</th>\n",
       "      <th>Crime Date Time</th>\n",
       "      <th>Crime</th>\n",
       "      <th>Reporting Area</th>\n",
       "      <th>Neighborhood</th>\n",
       "      <th>Location</th>\n",
       "      <th>bairro</th>\n",
       "      <th>tipo_crime</th>\n",
       "      <th>localizacao</th>\n",
       "    </tr>\n",
       "  </thead>\n",
       "  <tbody>\n",
       "    <tr>\n",
       "      <th>0</th>\n",
       "      <td>2009-00002</td>\n",
       "      <td>01/01/2009 12:39:00 AM</td>\n",
       "      <td>1/1/09 0:39</td>\n",
       "      <td>Simple Assault</td>\n",
       "      <td>504.0</td>\n",
       "      <td>Cambridgeport</td>\n",
       "      <td>400 Massachusetts Avenue, Cambridge, MA</td>\n",
       "      <td>2</td>\n",
       "      <td>43</td>\n",
       "      <td>2903</td>\n",
       "    </tr>\n",
       "    <tr>\n",
       "      <th>1</th>\n",
       "      <td>2009-00003</td>\n",
       "      <td>01/01/2009 01:34:00 AM</td>\n",
       "      <td>1/1/09 1:34</td>\n",
       "      <td>Simple Assault</td>\n",
       "      <td>610.0</td>\n",
       "      <td>Mid-Cambridge</td>\n",
       "      <td>200 HAMPSHIRE STREET, Cambridge, MA</td>\n",
       "      <td>7</td>\n",
       "      <td>43</td>\n",
       "      <td>2538</td>\n",
       "    </tr>\n",
       "    <tr>\n",
       "      <th>2</th>\n",
       "      <td>2009-00004</td>\n",
       "      <td>01/01/2009 01:43:00 AM</td>\n",
       "      <td>01/01/2009 02:20 - 02:35</td>\n",
       "      <td>Aggravated Assault</td>\n",
       "      <td>708.0</td>\n",
       "      <td>Riverside</td>\n",
       "      <td>DUNSTER STREET &amp; MOUNT AUBURN STREET, Cambridg...</td>\n",
       "      <td>10</td>\n",
       "      <td>2</td>\n",
       "      <td>4212</td>\n",
       "    </tr>\n",
       "    <tr>\n",
       "      <th>3</th>\n",
       "      <td>2009-00005</td>\n",
       "      <td>01/01/2009 02:27:00 AM</td>\n",
       "      <td>01/01/2009 02:20 - 02:45</td>\n",
       "      <td>Simple Assault</td>\n",
       "      <td>105.0</td>\n",
       "      <td>East Cambridge</td>\n",
       "      <td>100 SCIARAPPA STREET, Cambridge, MA</td>\n",
       "      <td>3</td>\n",
       "      <td>43</td>\n",
       "      <td>2213</td>\n",
       "    </tr>\n",
       "    <tr>\n",
       "      <th>4</th>\n",
       "      <td>2009-00006</td>\n",
       "      <td>01/01/2009 02:34:00 AM</td>\n",
       "      <td>01/01/2009 02:15 - 02:35</td>\n",
       "      <td>Disorderly</td>\n",
       "      <td>708.0</td>\n",
       "      <td>Riverside</td>\n",
       "      <td>1200 Massachusetts Avenue, Cambridge, MA</td>\n",
       "      <td>10</td>\n",
       "      <td>9</td>\n",
       "      <td>2368</td>\n",
       "    </tr>\n",
       "  </tbody>\n",
       "</table>\n",
       "</div>"
      ],
      "text/plain": [
       "  File Number          Date of Report           Crime Date Time  \\\n",
       "0  2009-00002  01/01/2009 12:39:00 AM               1/1/09 0:39   \n",
       "1  2009-00003  01/01/2009 01:34:00 AM               1/1/09 1:34   \n",
       "2  2009-00004  01/01/2009 01:43:00 AM  01/01/2009 02:20 - 02:35   \n",
       "3  2009-00005  01/01/2009 02:27:00 AM  01/01/2009 02:20 - 02:45   \n",
       "4  2009-00006  01/01/2009 02:34:00 AM  01/01/2009 02:15 - 02:35   \n",
       "\n",
       "                Crime  Reporting Area    Neighborhood  \\\n",
       "0      Simple Assault           504.0   Cambridgeport   \n",
       "1      Simple Assault           610.0   Mid-Cambridge   \n",
       "2  Aggravated Assault           708.0       Riverside   \n",
       "3      Simple Assault           105.0  East Cambridge   \n",
       "4          Disorderly           708.0       Riverside   \n",
       "\n",
       "                                            Location  bairro  tipo_crime  \\\n",
       "0            400 Massachusetts Avenue, Cambridge, MA       2          43   \n",
       "1                200 HAMPSHIRE STREET, Cambridge, MA       7          43   \n",
       "2  DUNSTER STREET & MOUNT AUBURN STREET, Cambridg...      10           2   \n",
       "3                100 SCIARAPPA STREET, Cambridge, MA       3          43   \n",
       "4           1200 Massachusetts Avenue, Cambridge, MA      10           9   \n",
       "\n",
       "   localizacao  \n",
       "0         2903  \n",
       "1         2538  \n",
       "2         4212  \n",
       "3         2213  \n",
       "4         2368  "
      ]
     },
     "execution_count": 9,
     "metadata": {},
     "output_type": "execute_result"
    }
   ],
   "source": [
    "df.head()"
   ]
  },
  {
   "cell_type": "code",
   "execution_count": 10,
   "metadata": {},
   "outputs": [
    {
     "data": {
      "text/plain": [
       "array([ 504.,  610.,  708.,  105.,  507., 1108.,  411., 1201.,  510.,\n",
       "        501.,  102.,  604.,  804.,  408.,  705., 1002., 1203.,  602.,\n",
       "        402.,  505.,  301.,  304.,  910., 1109.,  305.,  607.,  902.,\n",
       "        904.,  911.,  905.,  701.,  409.,  201., 1101., 1005., 1012.,\n",
       "        605.,  205., 1004.,  302.,  508.,  403., 1106.,  502.,  106.,\n",
       "       1010.,  405.,  406., 1105.,  903.,  613.,  803., 1110.,  702.,\n",
       "        103.,  707.,  801.,  609.,  909., 1107., 1104.,  509.,  606.,\n",
       "        703.,  603., 1011.,  202.,  107., 1017., 1007., 1001.,  108.,\n",
       "       1204.,  104., 1301.,  204., 1103.,  601.,  704., 1302.,  503.,\n",
       "        506.,  805.,  401.,  901., 1111., 1102., 1303.,  101., 1202.,\n",
       "       1008.,  203.,  706.,  912.,  303.,  908.,  404., 1113.,  611.,\n",
       "       1006., 1014.,  906.,  612., 1112.,  802.,  407.,  608., 1003.,\n",
       "       1013., 1009.,  907., 1015.,  410., 1016.,  913., 1304.,   nan,\n",
       "        109.])"
      ]
     },
     "execution_count": 10,
     "metadata": {},
     "output_type": "execute_result"
    }
   ],
   "source": [
    "df['Reporting Area'].unique()"
   ]
  },
  {
   "cell_type": "code",
   "execution_count": 11,
   "metadata": {},
   "outputs": [
    {
     "data": {
      "text/plain": [
       "100 CAMBRIDGESIDE PLACE, Cambridge, MA                 1352\n",
       "100 CAMBRIDGESIDE PL, Cambridge, MA                     735\n",
       "200 Alewife Brook Pky, Cambridge, MA                    542\n",
       "600 MASSACHUSETTS Avenue, Cambridge, MA                 427\n",
       "600 Massachusetts Avenue, Cambridge, MA                 396\n",
       "                                                       ... \n",
       "0 BIRCH ST, Cambridge, MA                                 1\n",
       "Massachusetts Ave & PLEASANT ST, Cambridge, MA            1\n",
       "MASSACHUSETTS Avenue & Putnam AVENUE, Cambridge, MA       1\n",
       "Newtowne COURT & Newtowne COURT, Cambridge, MA            1\n",
       "MAIN STREET & KENDALL SQUARE, Cambridge, MA               1\n",
       "Name: Location, Length: 6226, dtype: int64"
      ]
     },
     "execution_count": 11,
     "metadata": {},
     "output_type": "execute_result"
    }
   ],
   "source": [
    "df.Location.value_counts()"
   ]
  },
  {
   "cell_type": "code",
   "execution_count": 12,
   "metadata": {},
   "outputs": [
    {
     "name": "stdout",
     "output_type": "stream",
     "text": [
      "<class 'pandas.core.frame.DataFrame'>\n",
      "RangeIndex: 56014 entries, 0 to 56013\n",
      "Data columns (total 10 columns):\n",
      " #   Column           Non-Null Count  Dtype  \n",
      "---  ------           --------------  -----  \n",
      " 0   File Number      56014 non-null  object \n",
      " 1   Date of Report   56014 non-null  object \n",
      " 2   Crime Date Time  56014 non-null  object \n",
      " 3   Crime            56014 non-null  object \n",
      " 4   Reporting Area   56012 non-null  float64\n",
      " 5   Neighborhood     56012 non-null  object \n",
      " 6   Location         55931 non-null  object \n",
      " 7   bairro           56014 non-null  int8   \n",
      " 8   tipo_crime       56014 non-null  int8   \n",
      " 9   localizacao      56014 non-null  int16  \n",
      "dtypes: float64(1), int16(1), int8(2), object(6)\n",
      "memory usage: 3.2+ MB\n"
     ]
    }
   ],
   "source": [
    "df.info()"
   ]
  },
  {
   "cell_type": "code",
   "execution_count": 13,
   "metadata": {},
   "outputs": [
    {
     "data": {
      "text/plain": [
       "56014"
      ]
     },
     "execution_count": 13,
     "metadata": {},
     "output_type": "execute_result"
    }
   ],
   "source": [
    "len(df)"
   ]
  },
  {
   "cell_type": "code",
   "execution_count": 14,
   "metadata": {},
   "outputs": [
    {
     "data": {
      "text/plain": [
       "48553"
      ]
     },
     "execution_count": 14,
     "metadata": {},
     "output_type": "execute_result"
    }
   ],
   "source": [
    "df.Crime.value_counts()[:20].sum()"
   ]
  },
  {
   "cell_type": "code",
   "execution_count": 15,
   "metadata": {},
   "outputs": [
    {
     "data": {
      "text/plain": [
       "43987"
      ]
     },
     "execution_count": 15,
     "metadata": {},
     "output_type": "execute_result"
    }
   ],
   "source": [
    "df.Crime.value_counts()[:15].sum()"
   ]
  },
  {
   "cell_type": "code",
   "execution_count": 16,
   "metadata": {},
   "outputs": [
    {
     "data": {
      "text/plain": [
       "Larceny from MV           4837\n",
       "Hit and Run               4662\n",
       "Domestic Dispute          3909\n",
       "Mal. Dest. Property       3671\n",
       "Simple Assault            3295\n",
       "Larceny from Building     2857\n",
       "Shoplifting               2789\n",
       "Larceny of Bicycle        2750\n",
       "Housebreak                2676\n",
       "Forgery                   2584\n",
       "Warrant Arrest            2575\n",
       "Larceny from Person       2276\n",
       "Larceny from Residence    1743\n",
       "Aggravated Assault        1726\n",
       "Threats                   1637\n",
       "Name: Crime, dtype: int64"
      ]
     },
     "execution_count": 16,
     "metadata": {},
     "output_type": "execute_result"
    }
   ],
   "source": [
    "df.Crime.value_counts()[:15]"
   ]
  },
  {
   "cell_type": "code",
   "execution_count": 17,
   "metadata": {},
   "outputs": [
    {
     "data": {
      "text/plain": [
       "['Larceny from MV',\n",
       " 'Hit and Run',\n",
       " 'Domestic Dispute',\n",
       " 'Mal. Dest. Property',\n",
       " 'Simple Assault',\n",
       " 'Larceny from Building',\n",
       " 'Shoplifting',\n",
       " 'Larceny of Bicycle',\n",
       " 'Housebreak',\n",
       " 'Forgery',\n",
       " 'Warrant Arrest',\n",
       " 'Larceny from Person',\n",
       " 'Larceny from Residence',\n",
       " 'Aggravated Assault',\n",
       " 'Threats']"
      ]
     },
     "execution_count": 17,
     "metadata": {},
     "output_type": "execute_result"
    }
   ],
   "source": [
    "crimes = list(df.Crime.value_counts()[:15].index)\n",
    "crimes"
   ]
  },
  {
   "cell_type": "code",
   "execution_count": 18,
   "metadata": {},
   "outputs": [
    {
     "data": {
      "text/plain": [
       "43987"
      ]
     },
     "execution_count": 18,
     "metadata": {},
     "output_type": "execute_result"
    }
   ],
   "source": [
    "df2 = df[df.Crime.str.contains('|'.join(crimes))]\n",
    "len(df2)"
   ]
  },
  {
   "cell_type": "code",
   "execution_count": 19,
   "metadata": {},
   "outputs": [
    {
     "data": {
      "text/html": [
       "<div>\n",
       "<style scoped>\n",
       "    .dataframe tbody tr th:only-of-type {\n",
       "        vertical-align: middle;\n",
       "    }\n",
       "\n",
       "    .dataframe tbody tr th {\n",
       "        vertical-align: top;\n",
       "    }\n",
       "\n",
       "    .dataframe thead th {\n",
       "        text-align: right;\n",
       "    }\n",
       "</style>\n",
       "<table border=\"1\" class=\"dataframe\">\n",
       "  <thead>\n",
       "    <tr style=\"text-align: right;\">\n",
       "      <th></th>\n",
       "      <th>File Number</th>\n",
       "      <th>Date of Report</th>\n",
       "      <th>Crime Date Time</th>\n",
       "      <th>Crime</th>\n",
       "      <th>Reporting Area</th>\n",
       "      <th>Neighborhood</th>\n",
       "      <th>Location</th>\n",
       "      <th>bairro</th>\n",
       "      <th>tipo_crime</th>\n",
       "      <th>localizacao</th>\n",
       "    </tr>\n",
       "  </thead>\n",
       "  <tbody>\n",
       "    <tr>\n",
       "      <th>0</th>\n",
       "      <td>2009-00002</td>\n",
       "      <td>01/01/2009 12:39:00 AM</td>\n",
       "      <td>1/1/09 0:39</td>\n",
       "      <td>Simple Assault</td>\n",
       "      <td>504.0</td>\n",
       "      <td>Cambridgeport</td>\n",
       "      <td>400 Massachusetts Avenue, Cambridge, MA</td>\n",
       "      <td>2</td>\n",
       "      <td>43</td>\n",
       "      <td>2903</td>\n",
       "    </tr>\n",
       "    <tr>\n",
       "      <th>1</th>\n",
       "      <td>2009-00003</td>\n",
       "      <td>01/01/2009 01:34:00 AM</td>\n",
       "      <td>1/1/09 1:34</td>\n",
       "      <td>Simple Assault</td>\n",
       "      <td>610.0</td>\n",
       "      <td>Mid-Cambridge</td>\n",
       "      <td>200 HAMPSHIRE STREET, Cambridge, MA</td>\n",
       "      <td>7</td>\n",
       "      <td>43</td>\n",
       "      <td>2538</td>\n",
       "    </tr>\n",
       "    <tr>\n",
       "      <th>2</th>\n",
       "      <td>2009-00004</td>\n",
       "      <td>01/01/2009 01:43:00 AM</td>\n",
       "      <td>01/01/2009 02:20 - 02:35</td>\n",
       "      <td>Aggravated Assault</td>\n",
       "      <td>708.0</td>\n",
       "      <td>Riverside</td>\n",
       "      <td>DUNSTER STREET &amp; MOUNT AUBURN STREET, Cambridg...</td>\n",
       "      <td>10</td>\n",
       "      <td>2</td>\n",
       "      <td>4212</td>\n",
       "    </tr>\n",
       "    <tr>\n",
       "      <th>3</th>\n",
       "      <td>2009-00005</td>\n",
       "      <td>01/01/2009 02:27:00 AM</td>\n",
       "      <td>01/01/2009 02:20 - 02:45</td>\n",
       "      <td>Simple Assault</td>\n",
       "      <td>105.0</td>\n",
       "      <td>East Cambridge</td>\n",
       "      <td>100 SCIARAPPA STREET, Cambridge, MA</td>\n",
       "      <td>3</td>\n",
       "      <td>43</td>\n",
       "      <td>2213</td>\n",
       "    </tr>\n",
       "    <tr>\n",
       "      <th>6</th>\n",
       "      <td>2009-00008</td>\n",
       "      <td>01/01/2009 02:37:00 AM</td>\n",
       "      <td>1/1/09 2:37</td>\n",
       "      <td>Mal. Dest. Property</td>\n",
       "      <td>1108.0</td>\n",
       "      <td>North Cambridge</td>\n",
       "      <td>100 MONTGOMERY STREET, Cambridge, MA</td>\n",
       "      <td>8</td>\n",
       "      <td>33</td>\n",
       "      <td>2080</td>\n",
       "    </tr>\n",
       "  </tbody>\n",
       "</table>\n",
       "</div>"
      ],
      "text/plain": [
       "  File Number          Date of Report           Crime Date Time  \\\n",
       "0  2009-00002  01/01/2009 12:39:00 AM               1/1/09 0:39   \n",
       "1  2009-00003  01/01/2009 01:34:00 AM               1/1/09 1:34   \n",
       "2  2009-00004  01/01/2009 01:43:00 AM  01/01/2009 02:20 - 02:35   \n",
       "3  2009-00005  01/01/2009 02:27:00 AM  01/01/2009 02:20 - 02:45   \n",
       "6  2009-00008  01/01/2009 02:37:00 AM               1/1/09 2:37   \n",
       "\n",
       "                 Crime  Reporting Area     Neighborhood  \\\n",
       "0       Simple Assault           504.0    Cambridgeport   \n",
       "1       Simple Assault           610.0    Mid-Cambridge   \n",
       "2   Aggravated Assault           708.0        Riverside   \n",
       "3       Simple Assault           105.0   East Cambridge   \n",
       "6  Mal. Dest. Property          1108.0  North Cambridge   \n",
       "\n",
       "                                            Location  bairro  tipo_crime  \\\n",
       "0            400 Massachusetts Avenue, Cambridge, MA       2          43   \n",
       "1                200 HAMPSHIRE STREET, Cambridge, MA       7          43   \n",
       "2  DUNSTER STREET & MOUNT AUBURN STREET, Cambridg...      10           2   \n",
       "3                100 SCIARAPPA STREET, Cambridge, MA       3          43   \n",
       "6               100 MONTGOMERY STREET, Cambridge, MA       8          33   \n",
       "\n",
       "   localizacao  \n",
       "0         2903  \n",
       "1         2538  \n",
       "2         4212  \n",
       "3         2213  \n",
       "6         2080  "
      ]
     },
     "execution_count": 19,
     "metadata": {},
     "output_type": "execute_result"
    }
   ],
   "source": [
    "df2.head()"
   ]
  },
  {
   "cell_type": "code",
   "execution_count": 20,
   "metadata": {},
   "outputs": [
    {
     "name": "stderr",
     "output_type": "stream",
     "text": [
      "/home/valencar/anaconda3/lib/python3.8/site-packages/seaborn/_decorators.py:36: FutureWarning: Pass the following variables as keyword args: x, y. From version 0.12, the only valid positional argument will be `data`, and passing other arguments without an explicit keyword will result in an error or misinterpretation.\n",
      "  warnings.warn(\n"
     ]
    },
    {
     "data": {
      "text/plain": [
       "<AxesSubplot:xlabel='tipo_crime', ylabel='localizacao'>"
      ]
     },
     "execution_count": 20,
     "metadata": {},
     "output_type": "execute_result"
    },
    {
     "data": {
      "image/png": "[encoded data removed]",
      "text/plain": [
       "<Figure size 432x288 with 1 Axes>"
      ]
     },
     "metadata": {
      "needs_background": "light"
     },
     "output_type": "display_data"
    }
   ],
   "source": [
    "import seaborn as sns\n",
    "sns.scatterplot(  df2.tipo_crime, df2.localizacao)"
   ]
  },
  {
   "cell_type": "code",
   "execution_count": 21,
   "metadata": {},
   "outputs": [
    {
     "data": {
      "text/plain": [
       "array([ 504.,  610.,  708.,  105., 1108.,  411., 1201.,  510.,  102.,\n",
       "        604.,  804.,  408.,  705., 1002.,  602.,  402.,  505.,  301.,\n",
       "        304.,  910., 1109.,  305.,  607.,  902.,  904.,  911.,  905.,\n",
       "        701.,  501.,  409.,  201., 1101., 1012.,  605.,  205., 1004.,\n",
       "        302.,  508.,  403., 1106.,  502.,  106., 1010.,  405.,  507.,\n",
       "        903.,  613.,  803., 1110.,  702.,  103., 1105.,  707.,  801.,\n",
       "        609.,  909., 1107., 1104.,  509.,  606.,  703.,  603., 1011.,\n",
       "        202.,  107., 1017., 1007., 1001.,  108., 1204.,  104., 1301.,\n",
       "        204., 1103.,  601.,  704., 1302.,  503.,  805.,  506.,  401.,\n",
       "       1111., 1102., 1303.,  101., 1202., 1005.,  406.,  203.,  706.,\n",
       "        912.,  303.,  908.,  404., 1113.,  611., 1006., 1014.,  906.,\n",
       "        612., 1112.,  802.,  901.,  407., 1008.,  608., 1003., 1013.,\n",
       "       1009.,  907., 1015.,  410., 1203., 1016., 1304.,  913.,   nan,\n",
       "        109.])"
      ]
     },
     "execution_count": 21,
     "metadata": {},
     "output_type": "execute_result"
    }
   ],
   "source": [
    "df2['Reporting Area'].unique()"
   ]
  },
  {
   "cell_type": "code",
   "execution_count": 22,
   "metadata": {},
   "outputs": [
    {
     "data": {
      "text/plain": [
       "array([                 504,                  610,                  708,\n",
       "                        105,                 1108,                  411,\n",
       "                       1201,                  510,                  102,\n",
       "                        604,                  804,                  408,\n",
       "                        705,                 1002,                  602,\n",
       "                        402,                  505,                  301,\n",
       "                        304,                  910,                 1109,\n",
       "                        305,                  607,                  902,\n",
       "                        904,                  911,                  905,\n",
       "                        701,                  501,                  409,\n",
       "                        201,                 1101,                 1012,\n",
       "                        605,                  205,                 1004,\n",
       "                        302,                  508,                  403,\n",
       "                       1106,                  502,                  106,\n",
       "                       1010,                  405,                  507,\n",
       "                        903,                  613,                  803,\n",
       "                       1110,                  702,                  103,\n",
       "                       1105,                  707,                  801,\n",
       "                        609,                  909,                 1107,\n",
       "                       1104,                  509,                  606,\n",
       "                        703,                  603,                 1011,\n",
       "                        202,                  107,                 1017,\n",
       "                       1007,                 1001,                  108,\n",
       "                       1204,                  104,                 1301,\n",
       "                        204,                 1103,                  601,\n",
       "                        704,                 1302,                  503,\n",
       "                        805,                  506,                  401,\n",
       "                       1111,                 1102,                 1303,\n",
       "                        101,                 1202,                 1005,\n",
       "                        406,                  203,                  706,\n",
       "                        912,                  303,                  908,\n",
       "                        404,                 1113,                  611,\n",
       "                       1006,                 1014,                  906,\n",
       "                        612,                 1112,                  802,\n",
       "                        901,                  407,                 1008,\n",
       "                        608,                 1003,                 1013,\n",
       "                       1009,                  907,                 1015,\n",
       "                        410,                 1203,                 1016,\n",
       "                       1304,                  913, -9223372036854775808,\n",
       "                        109])"
      ]
     },
     "execution_count": 22,
     "metadata": {},
     "output_type": "execute_result"
    }
   ],
   "source": [
    "s = df2['Reporting Area'].unique()\n",
    "s2 = s.astype(int)\n",
    "s2"
   ]
  },
  {
   "cell_type": "code",
   "execution_count": 23,
   "metadata": {},
   "outputs": [
    {
     "data": {
      "text/plain": [
       "118"
      ]
     },
     "execution_count": 23,
     "metadata": {},
     "output_type": "execute_result"
    }
   ],
   "source": [
    "len(s2)"
   ]
  },
  {
   "cell_type": "code",
   "execution_count": 24,
   "metadata": {},
   "outputs": [
    {
     "data": {
      "text/html": [
       "<div>\n",
       "<style scoped>\n",
       "    .dataframe tbody tr th:only-of-type {\n",
       "        vertical-align: middle;\n",
       "    }\n",
       "\n",
       "    .dataframe tbody tr th {\n",
       "        vertical-align: top;\n",
       "    }\n",
       "\n",
       "    .dataframe thead th {\n",
       "        text-align: right;\n",
       "    }\n",
       "</style>\n",
       "<table border=\"1\" class=\"dataframe\">\n",
       "  <thead>\n",
       "    <tr style=\"text-align: right;\">\n",
       "      <th></th>\n",
       "      <th>File Number</th>\n",
       "      <th>Date of Report</th>\n",
       "      <th>Crime Date Time</th>\n",
       "      <th>Crime</th>\n",
       "      <th>Reporting Area</th>\n",
       "      <th>Neighborhood</th>\n",
       "      <th>Location</th>\n",
       "      <th>bairro</th>\n",
       "      <th>tipo_crime</th>\n",
       "      <th>localizacao</th>\n",
       "      <th>area</th>\n",
       "    </tr>\n",
       "  </thead>\n",
       "  <tbody>\n",
       "    <tr>\n",
       "      <th>0</th>\n",
       "      <td>2009-00002</td>\n",
       "      <td>01/01/2009 12:39:00 AM</td>\n",
       "      <td>1/1/09 0:39</td>\n",
       "      <td>Simple Assault</td>\n",
       "      <td>504.0</td>\n",
       "      <td>Cambridgeport</td>\n",
       "      <td>400 Massachusetts Avenue, Cambridge, MA</td>\n",
       "      <td>2</td>\n",
       "      <td>43</td>\n",
       "      <td>2903</td>\n",
       "      <td>504</td>\n",
       "    </tr>\n",
       "    <tr>\n",
       "      <th>1</th>\n",
       "      <td>2009-00003</td>\n",
       "      <td>01/01/2009 01:34:00 AM</td>\n",
       "      <td>1/1/09 1:34</td>\n",
       "      <td>Simple Assault</td>\n",
       "      <td>610.0</td>\n",
       "      <td>Mid-Cambridge</td>\n",
       "      <td>200 HAMPSHIRE STREET, Cambridge, MA</td>\n",
       "      <td>7</td>\n",
       "      <td>43</td>\n",
       "      <td>2538</td>\n",
       "      <td>610</td>\n",
       "    </tr>\n",
       "    <tr>\n",
       "      <th>2</th>\n",
       "      <td>2009-00004</td>\n",
       "      <td>01/01/2009 01:43:00 AM</td>\n",
       "      <td>01/01/2009 02:20 - 02:35</td>\n",
       "      <td>Aggravated Assault</td>\n",
       "      <td>708.0</td>\n",
       "      <td>Riverside</td>\n",
       "      <td>DUNSTER STREET &amp; MOUNT AUBURN STREET, Cambridg...</td>\n",
       "      <td>10</td>\n",
       "      <td>2</td>\n",
       "      <td>4212</td>\n",
       "      <td>708</td>\n",
       "    </tr>\n",
       "    <tr>\n",
       "      <th>3</th>\n",
       "      <td>2009-00005</td>\n",
       "      <td>01/01/2009 02:27:00 AM</td>\n",
       "      <td>01/01/2009 02:20 - 02:45</td>\n",
       "      <td>Simple Assault</td>\n",
       "      <td>105.0</td>\n",
       "      <td>East Cambridge</td>\n",
       "      <td>100 SCIARAPPA STREET, Cambridge, MA</td>\n",
       "      <td>3</td>\n",
       "      <td>43</td>\n",
       "      <td>2213</td>\n",
       "      <td>105</td>\n",
       "    </tr>\n",
       "    <tr>\n",
       "      <th>4</th>\n",
       "      <td>2009-00006</td>\n",
       "      <td>01/01/2009 02:34:00 AM</td>\n",
       "      <td>01/01/2009 02:15 - 02:35</td>\n",
       "      <td>Disorderly</td>\n",
       "      <td>708.0</td>\n",
       "      <td>Riverside</td>\n",
       "      <td>1200 Massachusetts Avenue, Cambridge, MA</td>\n",
       "      <td>10</td>\n",
       "      <td>9</td>\n",
       "      <td>2368</td>\n",
       "      <td>708</td>\n",
       "    </tr>\n",
       "  </tbody>\n",
       "</table>\n",
       "</div>"
      ],
      "text/plain": [
       "  File Number          Date of Report           Crime Date Time  \\\n",
       "0  2009-00002  01/01/2009 12:39:00 AM               1/1/09 0:39   \n",
       "1  2009-00003  01/01/2009 01:34:00 AM               1/1/09 1:34   \n",
       "2  2009-00004  01/01/2009 01:43:00 AM  01/01/2009 02:20 - 02:35   \n",
       "3  2009-00005  01/01/2009 02:27:00 AM  01/01/2009 02:20 - 02:45   \n",
       "4  2009-00006  01/01/2009 02:34:00 AM  01/01/2009 02:15 - 02:35   \n",
       "\n",
       "                Crime  Reporting Area    Neighborhood  \\\n",
       "0      Simple Assault           504.0   Cambridgeport   \n",
       "1      Simple Assault           610.0   Mid-Cambridge   \n",
       "2  Aggravated Assault           708.0       Riverside   \n",
       "3      Simple Assault           105.0  East Cambridge   \n",
       "4          Disorderly           708.0       Riverside   \n",
       "\n",
       "                                            Location  bairro  tipo_crime  \\\n",
       "0            400 Massachusetts Avenue, Cambridge, MA       2          43   \n",
       "1                200 HAMPSHIRE STREET, Cambridge, MA       7          43   \n",
       "2  DUNSTER STREET & MOUNT AUBURN STREET, Cambridg...      10           2   \n",
       "3                100 SCIARAPPA STREET, Cambridge, MA       3          43   \n",
       "4           1200 Massachusetts Avenue, Cambridge, MA      10           9   \n",
       "\n",
       "   localizacao  area  \n",
       "0         2903   504  \n",
       "1         2538   610  \n",
       "2         4212   708  \n",
       "3         2213   105  \n",
       "4         2368   708  "
      ]
     },
     "execution_count": 24,
     "metadata": {},
     "output_type": "execute_result"
    }
   ],
   "source": [
    "df2 = df.fillna(0)\n",
    "df2['area'] = df2['Reporting Area'].astype(int)\n",
    "df2.head()"
   ]
  },
  {
   "cell_type": "code",
   "execution_count": 25,
   "metadata": {},
   "outputs": [
    {
     "data": {
      "text/plain": [
       "1002    2712\n",
       "102     2555\n",
       "501     2168\n",
       "105     1614\n",
       "411     1489\n",
       "708     1443\n",
       "305     1395\n",
       "304     1203\n",
       "107     1073\n",
       "1101    1051\n",
       "Name: area, dtype: int64"
      ]
     },
     "execution_count": 25,
     "metadata": {},
     "output_type": "execute_result"
    }
   ],
   "source": [
    "df2.area.value_counts()[:10]"
   ]
  },
  {
   "cell_type": "code",
   "execution_count": 26,
   "metadata": {},
   "outputs": [
    {
     "name": "stderr",
     "output_type": "stream",
     "text": [
      "/home/valencar/anaconda3/lib/python3.8/site-packages/seaborn/_decorators.py:36: FutureWarning: Pass the following variables as keyword args: x, y. From version 0.12, the only valid positional argument will be `data`, and passing other arguments without an explicit keyword will result in an error or misinterpretation.\n",
      "  warnings.warn(\n"
     ]
    },
    {
     "data": {
      "text/plain": [
       "<AxesSubplot:xlabel='area', ylabel='tipo_crime'>"
      ]
     },
     "execution_count": 26,
     "metadata": {},
     "output_type": "execute_result"
    },
    {
     "data": {
      "image/png": "[encoded data removed]",
      "text/plain": [
       "<Figure size 432x288 with 1 Axes>"
      ]
     },
     "metadata": {
      "needs_background": "light"
     },
     "output_type": "display_data"
    }
   ],
   "source": [
    "sns.scatterplot(  df2.area,  df2.tipo_crime)"
   ]
  },
  {
   "cell_type": "code",
   "execution_count": 27,
   "metadata": {},
   "outputs": [
    {
     "name": "stdout",
     "output_type": "stream",
     "text": [
      "<class 'pandas.core.frame.DataFrame'>\n",
      "RangeIndex: 56014 entries, 0 to 56013\n",
      "Data columns (total 11 columns):\n",
      " #   Column           Non-Null Count  Dtype  \n",
      "---  ------           --------------  -----  \n",
      " 0   File Number      56014 non-null  object \n",
      " 1   Date of Report   56014 non-null  object \n",
      " 2   Crime Date Time  56014 non-null  object \n",
      " 3   Crime            56014 non-null  object \n",
      " 4   Reporting Area   56014 non-null  float64\n",
      " 5   Neighborhood     56014 non-null  object \n",
      " 6   Location         56014 non-null  object \n",
      " 7   bairro           56014 non-null  int8   \n",
      " 8   tipo_crime       56014 non-null  int8   \n",
      " 9   localizacao      56014 non-null  int16  \n",
      " 10  area             56014 non-null  int64  \n",
      "dtypes: float64(1), int16(1), int64(1), int8(2), object(6)\n",
      "memory usage: 3.6+ MB\n"
     ]
    }
   ],
   "source": [
    "df2.info()"
   ]
  },
  {
   "cell_type": "code",
   "execution_count": 28,
   "metadata": {},
   "outputs": [
    {
     "data": {
      "text/html": [
       "<div>\n",
       "<style scoped>\n",
       "    .dataframe tbody tr th:only-of-type {\n",
       "        vertical-align: middle;\n",
       "    }\n",
       "\n",
       "    .dataframe tbody tr th {\n",
       "        vertical-align: top;\n",
       "    }\n",
       "\n",
       "    .dataframe thead th {\n",
       "        text-align: right;\n",
       "    }\n",
       "</style>\n",
       "<table border=\"1\" class=\"dataframe\">\n",
       "  <thead>\n",
       "    <tr style=\"text-align: right;\">\n",
       "      <th></th>\n",
       "      <th>File Number</th>\n",
       "      <th>Date of Report</th>\n",
       "      <th>Crime Date Time</th>\n",
       "      <th>Crime</th>\n",
       "      <th>Reporting Area</th>\n",
       "      <th>Neighborhood</th>\n",
       "      <th>Location</th>\n",
       "      <th>bairro</th>\n",
       "      <th>tipo_crime</th>\n",
       "      <th>localizacao</th>\n",
       "      <th>area</th>\n",
       "    </tr>\n",
       "  </thead>\n",
       "  <tbody>\n",
       "    <tr>\n",
       "      <th>0</th>\n",
       "      <td>2009-00002</td>\n",
       "      <td>01/01/2009 12:39:00 AM</td>\n",
       "      <td>1/1/09 0:39</td>\n",
       "      <td>Simple Assault</td>\n",
       "      <td>504.0</td>\n",
       "      <td>Cambridgeport</td>\n",
       "      <td>400 Massachusetts Avenue, Cambridge, MA</td>\n",
       "      <td>2</td>\n",
       "      <td>43</td>\n",
       "      <td>2903</td>\n",
       "      <td>504</td>\n",
       "    </tr>\n",
       "    <tr>\n",
       "      <th>1</th>\n",
       "      <td>2009-00003</td>\n",
       "      <td>01/01/2009 01:34:00 AM</td>\n",
       "      <td>1/1/09 1:34</td>\n",
       "      <td>Simple Assault</td>\n",
       "      <td>610.0</td>\n",
       "      <td>Mid-Cambridge</td>\n",
       "      <td>200 HAMPSHIRE STREET, Cambridge, MA</td>\n",
       "      <td>7</td>\n",
       "      <td>43</td>\n",
       "      <td>2538</td>\n",
       "      <td>610</td>\n",
       "    </tr>\n",
       "    <tr>\n",
       "      <th>2</th>\n",
       "      <td>2009-00004</td>\n",
       "      <td>01/01/2009 01:43:00 AM</td>\n",
       "      <td>01/01/2009 02:20 - 02:35</td>\n",
       "      <td>Aggravated Assault</td>\n",
       "      <td>708.0</td>\n",
       "      <td>Riverside</td>\n",
       "      <td>DUNSTER STREET &amp; MOUNT AUBURN STREET, Cambridg...</td>\n",
       "      <td>10</td>\n",
       "      <td>2</td>\n",
       "      <td>4212</td>\n",
       "      <td>708</td>\n",
       "    </tr>\n",
       "    <tr>\n",
       "      <th>3</th>\n",
       "      <td>2009-00005</td>\n",
       "      <td>01/01/2009 02:27:00 AM</td>\n",
       "      <td>01/01/2009 02:20 - 02:45</td>\n",
       "      <td>Simple Assault</td>\n",
       "      <td>105.0</td>\n",
       "      <td>East Cambridge</td>\n",
       "      <td>100 SCIARAPPA STREET, Cambridge, MA</td>\n",
       "      <td>3</td>\n",
       "      <td>43</td>\n",
       "      <td>2213</td>\n",
       "      <td>105</td>\n",
       "    </tr>\n",
       "    <tr>\n",
       "      <th>4</th>\n",
       "      <td>2009-00006</td>\n",
       "      <td>01/01/2009 02:34:00 AM</td>\n",
       "      <td>01/01/2009 02:15 - 02:35</td>\n",
       "      <td>Disorderly</td>\n",
       "      <td>708.0</td>\n",
       "      <td>Riverside</td>\n",
       "      <td>1200 Massachusetts Avenue, Cambridge, MA</td>\n",
       "      <td>10</td>\n",
       "      <td>9</td>\n",
       "      <td>2368</td>\n",
       "      <td>708</td>\n",
       "    </tr>\n",
       "  </tbody>\n",
       "</table>\n",
       "</div>"
      ],
      "text/plain": [
       "  File Number          Date of Report           Crime Date Time  \\\n",
       "0  2009-00002  01/01/2009 12:39:00 AM               1/1/09 0:39   \n",
       "1  2009-00003  01/01/2009 01:34:00 AM               1/1/09 1:34   \n",
       "2  2009-00004  01/01/2009 01:43:00 AM  01/01/2009 02:20 - 02:35   \n",
       "3  2009-00005  01/01/2009 02:27:00 AM  01/01/2009 02:20 - 02:45   \n",
       "4  2009-00006  01/01/2009 02:34:00 AM  01/01/2009 02:15 - 02:35   \n",
       "\n",
       "                Crime  Reporting Area    Neighborhood  \\\n",
       "0      Simple Assault           504.0   Cambridgeport   \n",
       "1      Simple Assault           610.0   Mid-Cambridge   \n",
       "2  Aggravated Assault           708.0       Riverside   \n",
       "3      Simple Assault           105.0  East Cambridge   \n",
       "4          Disorderly           708.0       Riverside   \n",
       "\n",
       "                                            Location  bairro  tipo_crime  \\\n",
       "0            400 Massachusetts Avenue, Cambridge, MA       2          43   \n",
       "1                200 HAMPSHIRE STREET, Cambridge, MA       7          43   \n",
       "2  DUNSTER STREET & MOUNT AUBURN STREET, Cambridg...      10           2   \n",
       "3                100 SCIARAPPA STREET, Cambridge, MA       3          43   \n",
       "4           1200 Massachusetts Avenue, Cambridge, MA      10           9   \n",
       "\n",
       "   localizacao  area  \n",
       "0         2903   504  \n",
       "1         2538   610  \n",
       "2         4212   708  \n",
       "3         2213   105  \n",
       "4         2368   708  "
      ]
     },
     "execution_count": 28,
     "metadata": {},
     "output_type": "execute_result"
    }
   ],
   "source": [
    "df2.head()"
   ]
  },
  {
   "cell_type": "code",
   "execution_count": 29,
   "metadata": {},
   "outputs": [
    {
     "data": {
      "text/html": [
       "<div>\n",
       "<style scoped>\n",
       "    .dataframe tbody tr th:only-of-type {\n",
       "        vertical-align: middle;\n",
       "    }\n",
       "\n",
       "    .dataframe tbody tr th {\n",
       "        vertical-align: top;\n",
       "    }\n",
       "\n",
       "    .dataframe thead th {\n",
       "        text-align: right;\n",
       "    }\n",
       "</style>\n",
       "<table border=\"1\" class=\"dataframe\">\n",
       "  <thead>\n",
       "    <tr style=\"text-align: right;\">\n",
       "      <th></th>\n",
       "      <th>File Number</th>\n",
       "      <th>Date of Report</th>\n",
       "      <th>Crime Date Time</th>\n",
       "      <th>Crime</th>\n",
       "      <th>Reporting Area</th>\n",
       "      <th>Neighborhood</th>\n",
       "      <th>Location</th>\n",
       "      <th>bairro</th>\n",
       "      <th>tipo_crime</th>\n",
       "      <th>localizacao</th>\n",
       "      <th>area</th>\n",
       "      <th>data_crime</th>\n",
       "    </tr>\n",
       "  </thead>\n",
       "  <tbody>\n",
       "    <tr>\n",
       "      <th>0</th>\n",
       "      <td>2009-00002</td>\n",
       "      <td>01/01/2009 12:39:00 AM</td>\n",
       "      <td>1/1/09 0:39</td>\n",
       "      <td>Simple Assault</td>\n",
       "      <td>504.0</td>\n",
       "      <td>Cambridgeport</td>\n",
       "      <td>400 Massachusetts Avenue, Cambridge, MA</td>\n",
       "      <td>2</td>\n",
       "      <td>43</td>\n",
       "      <td>2903</td>\n",
       "      <td>504</td>\n",
       "      <td>2009-01-01 00:39:00</td>\n",
       "    </tr>\n",
       "    <tr>\n",
       "      <th>1</th>\n",
       "      <td>2009-00003</td>\n",
       "      <td>01/01/2009 01:34:00 AM</td>\n",
       "      <td>1/1/09 1:34</td>\n",
       "      <td>Simple Assault</td>\n",
       "      <td>610.0</td>\n",
       "      <td>Mid-Cambridge</td>\n",
       "      <td>200 HAMPSHIRE STREET, Cambridge, MA</td>\n",
       "      <td>7</td>\n",
       "      <td>43</td>\n",
       "      <td>2538</td>\n",
       "      <td>610</td>\n",
       "      <td>2009-01-01 01:34:00</td>\n",
       "    </tr>\n",
       "    <tr>\n",
       "      <th>2</th>\n",
       "      <td>2009-00004</td>\n",
       "      <td>01/01/2009 01:43:00 AM</td>\n",
       "      <td>01/01/2009 02:20 - 02:35</td>\n",
       "      <td>Aggravated Assault</td>\n",
       "      <td>708.0</td>\n",
       "      <td>Riverside</td>\n",
       "      <td>DUNSTER STREET &amp; MOUNT AUBURN STREET, Cambridg...</td>\n",
       "      <td>10</td>\n",
       "      <td>2</td>\n",
       "      <td>4212</td>\n",
       "      <td>708</td>\n",
       "      <td>NaT</td>\n",
       "    </tr>\n",
       "    <tr>\n",
       "      <th>3</th>\n",
       "      <td>2009-00005</td>\n",
       "      <td>01/01/2009 02:27:00 AM</td>\n",
       "      <td>01/01/2009 02:20 - 02:45</td>\n",
       "      <td>Simple Assault</td>\n",
       "      <td>105.0</td>\n",
       "      <td>East Cambridge</td>\n",
       "      <td>100 SCIARAPPA STREET, Cambridge, MA</td>\n",
       "      <td>3</td>\n",
       "      <td>43</td>\n",
       "      <td>2213</td>\n",
       "      <td>105</td>\n",
       "      <td>NaT</td>\n",
       "    </tr>\n",
       "    <tr>\n",
       "      <th>4</th>\n",
       "      <td>2009-00006</td>\n",
       "      <td>01/01/2009 02:34:00 AM</td>\n",
       "      <td>01/01/2009 02:15 - 02:35</td>\n",
       "      <td>Disorderly</td>\n",
       "      <td>708.0</td>\n",
       "      <td>Riverside</td>\n",
       "      <td>1200 Massachusetts Avenue, Cambridge, MA</td>\n",
       "      <td>10</td>\n",
       "      <td>9</td>\n",
       "      <td>2368</td>\n",
       "      <td>708</td>\n",
       "      <td>NaT</td>\n",
       "    </tr>\n",
       "  </tbody>\n",
       "</table>\n",
       "</div>"
      ],
      "text/plain": [
       "  File Number          Date of Report           Crime Date Time  \\\n",
       "0  2009-00002  01/01/2009 12:39:00 AM               1/1/09 0:39   \n",
       "1  2009-00003  01/01/2009 01:34:00 AM               1/1/09 1:34   \n",
       "2  2009-00004  01/01/2009 01:43:00 AM  01/01/2009 02:20 - 02:35   \n",
       "3  2009-00005  01/01/2009 02:27:00 AM  01/01/2009 02:20 - 02:45   \n",
       "4  2009-00006  01/01/2009 02:34:00 AM  01/01/2009 02:15 - 02:35   \n",
       "\n",
       "                Crime  Reporting Area    Neighborhood  \\\n",
       "0      Simple Assault           504.0   Cambridgeport   \n",
       "1      Simple Assault           610.0   Mid-Cambridge   \n",
       "2  Aggravated Assault           708.0       Riverside   \n",
       "3      Simple Assault           105.0  East Cambridge   \n",
       "4          Disorderly           708.0       Riverside   \n",
       "\n",
       "                                            Location  bairro  tipo_crime  \\\n",
       "0            400 Massachusetts Avenue, Cambridge, MA       2          43   \n",
       "1                200 HAMPSHIRE STREET, Cambridge, MA       7          43   \n",
       "2  DUNSTER STREET & MOUNT AUBURN STREET, Cambridg...      10           2   \n",
       "3                100 SCIARAPPA STREET, Cambridge, MA       3          43   \n",
       "4           1200 Massachusetts Avenue, Cambridge, MA      10           9   \n",
       "\n",
       "   localizacao  area          data_crime  \n",
       "0         2903   504 2009-01-01 00:39:00  \n",
       "1         2538   610 2009-01-01 01:34:00  \n",
       "2         4212   708                 NaT  \n",
       "3         2213   105                 NaT  \n",
       "4         2368   708                 NaT  "
      ]
     },
     "execution_count": 29,
     "metadata": {},
     "output_type": "execute_result"
    }
   ],
   "source": [
    "df2['data_crime'] = pd.to_datetime(df2['Crime Date Time'], infer_datetime_format=True, errors='coerce')\n",
    "#  format='%d/%m/%Y H:M') #, errors='coerce')\n",
    "#del df2['datad']\n",
    "df2.head()"
   ]
  },
  {
   "cell_type": "code",
   "execution_count": 30,
   "metadata": {},
   "outputs": [
    {
     "data": {
      "text/html": [
       "<div>\n",
       "<style scoped>\n",
       "    .dataframe tbody tr th:only-of-type {\n",
       "        vertical-align: middle;\n",
       "    }\n",
       "\n",
       "    .dataframe tbody tr th {\n",
       "        vertical-align: top;\n",
       "    }\n",
       "\n",
       "    .dataframe thead th {\n",
       "        text-align: right;\n",
       "    }\n",
       "</style>\n",
       "<table border=\"1\" class=\"dataframe\">\n",
       "  <thead>\n",
       "    <tr style=\"text-align: right;\">\n",
       "      <th></th>\n",
       "      <th>File Number</th>\n",
       "      <th>Date of Report</th>\n",
       "      <th>Crime Date Time</th>\n",
       "      <th>Crime</th>\n",
       "      <th>Reporting Area</th>\n",
       "      <th>Neighborhood</th>\n",
       "      <th>Location</th>\n",
       "      <th>bairro</th>\n",
       "      <th>tipo_crime</th>\n",
       "      <th>localizacao</th>\n",
       "      <th>area</th>\n",
       "      <th>data_crime</th>\n",
       "    </tr>\n",
       "  </thead>\n",
       "  <tbody>\n",
       "    <tr>\n",
       "      <th>0</th>\n",
       "      <td>2009-00002</td>\n",
       "      <td>01/01/2009 12:39:00 AM</td>\n",
       "      <td>1/1/09 0:39</td>\n",
       "      <td>Simple Assault</td>\n",
       "      <td>504.0</td>\n",
       "      <td>Cambridgeport</td>\n",
       "      <td>400 Massachusetts Avenue, Cambridge, MA</td>\n",
       "      <td>2</td>\n",
       "      <td>43</td>\n",
       "      <td>2903</td>\n",
       "      <td>504</td>\n",
       "      <td>2009-01-01 00:39:00</td>\n",
       "    </tr>\n",
       "    <tr>\n",
       "      <th>1</th>\n",
       "      <td>2009-00003</td>\n",
       "      <td>01/01/2009 01:34:00 AM</td>\n",
       "      <td>1/1/09 1:34</td>\n",
       "      <td>Simple Assault</td>\n",
       "      <td>610.0</td>\n",
       "      <td>Mid-Cambridge</td>\n",
       "      <td>200 HAMPSHIRE STREET, Cambridge, MA</td>\n",
       "      <td>7</td>\n",
       "      <td>43</td>\n",
       "      <td>2538</td>\n",
       "      <td>610</td>\n",
       "      <td>2009-01-01 01:34:00</td>\n",
       "    </tr>\n",
       "    <tr>\n",
       "      <th>2</th>\n",
       "      <td>2009-00004</td>\n",
       "      <td>01/01/2009 01:43:00 AM</td>\n",
       "      <td>01/01/2009 02:20 - 02:35</td>\n",
       "      <td>Aggravated Assault</td>\n",
       "      <td>708.0</td>\n",
       "      <td>Riverside</td>\n",
       "      <td>DUNSTER STREET &amp; MOUNT AUBURN STREET, Cambridg...</td>\n",
       "      <td>10</td>\n",
       "      <td>2</td>\n",
       "      <td>4212</td>\n",
       "      <td>708</td>\n",
       "      <td>NaT</td>\n",
       "    </tr>\n",
       "    <tr>\n",
       "      <th>3</th>\n",
       "      <td>2009-00005</td>\n",
       "      <td>01/01/2009 02:27:00 AM</td>\n",
       "      <td>01/01/2009 02:20 - 02:45</td>\n",
       "      <td>Simple Assault</td>\n",
       "      <td>105.0</td>\n",
       "      <td>East Cambridge</td>\n",
       "      <td>100 SCIARAPPA STREET, Cambridge, MA</td>\n",
       "      <td>3</td>\n",
       "      <td>43</td>\n",
       "      <td>2213</td>\n",
       "      <td>105</td>\n",
       "      <td>NaT</td>\n",
       "    </tr>\n",
       "    <tr>\n",
       "      <th>4</th>\n",
       "      <td>2009-00006</td>\n",
       "      <td>01/01/2009 02:34:00 AM</td>\n",
       "      <td>01/01/2009 02:15 - 02:35</td>\n",
       "      <td>Disorderly</td>\n",
       "      <td>708.0</td>\n",
       "      <td>Riverside</td>\n",
       "      <td>1200 Massachusetts Avenue, Cambridge, MA</td>\n",
       "      <td>10</td>\n",
       "      <td>9</td>\n",
       "      <td>2368</td>\n",
       "      <td>708</td>\n",
       "      <td>NaT</td>\n",
       "    </tr>\n",
       "  </tbody>\n",
       "</table>\n",
       "</div>"
      ],
      "text/plain": [
       "  File Number          Date of Report           Crime Date Time  \\\n",
       "0  2009-00002  01/01/2009 12:39:00 AM               1/1/09 0:39   \n",
       "1  2009-00003  01/01/2009 01:34:00 AM               1/1/09 1:34   \n",
       "2  2009-00004  01/01/2009 01:43:00 AM  01/01/2009 02:20 - 02:35   \n",
       "3  2009-00005  01/01/2009 02:27:00 AM  01/01/2009 02:20 - 02:45   \n",
       "4  2009-00006  01/01/2009 02:34:00 AM  01/01/2009 02:15 - 02:35   \n",
       "\n",
       "                Crime  Reporting Area    Neighborhood  \\\n",
       "0      Simple Assault           504.0   Cambridgeport   \n",
       "1      Simple Assault           610.0   Mid-Cambridge   \n",
       "2  Aggravated Assault           708.0       Riverside   \n",
       "3      Simple Assault           105.0  East Cambridge   \n",
       "4          Disorderly           708.0       Riverside   \n",
       "\n",
       "                                            Location  bairro  tipo_crime  \\\n",
       "0            400 Massachusetts Avenue, Cambridge, MA       2          43   \n",
       "1                200 HAMPSHIRE STREET, Cambridge, MA       7          43   \n",
       "2  DUNSTER STREET & MOUNT AUBURN STREET, Cambridg...      10           2   \n",
       "3                100 SCIARAPPA STREET, Cambridge, MA       3          43   \n",
       "4           1200 Massachusetts Avenue, Cambridge, MA      10           9   \n",
       "\n",
       "   localizacao  area          data_crime  \n",
       "0         2903   504 2009-01-01 00:39:00  \n",
       "1         2538   610 2009-01-01 01:34:00  \n",
       "2         4212   708                 NaT  \n",
       "3         2213   105                 NaT  \n",
       "4         2368   708                 NaT  "
      ]
     },
     "execution_count": 30,
     "metadata": {},
     "output_type": "execute_result"
    }
   ],
   "source": [
    "#del df2['datad']\n",
    "df2.head()"
   ]
  },
  {
   "cell_type": "code",
   "execution_count": 31,
   "metadata": {},
   "outputs": [
    {
     "data": {
      "text/html": [
       "<div>\n",
       "<style scoped>\n",
       "    .dataframe tbody tr th:only-of-type {\n",
       "        vertical-align: middle;\n",
       "    }\n",
       "\n",
       "    .dataframe tbody tr th {\n",
       "        vertical-align: top;\n",
       "    }\n",
       "\n",
       "    .dataframe thead th {\n",
       "        text-align: right;\n",
       "    }\n",
       "</style>\n",
       "<table border=\"1\" class=\"dataframe\">\n",
       "  <thead>\n",
       "    <tr style=\"text-align: right;\">\n",
       "      <th></th>\n",
       "      <th>File Number</th>\n",
       "      <th>Date of Report</th>\n",
       "      <th>Crime Date Time</th>\n",
       "      <th>Crime</th>\n",
       "      <th>Reporting Area</th>\n",
       "      <th>Neighborhood</th>\n",
       "      <th>Location</th>\n",
       "      <th>bairro</th>\n",
       "      <th>tipo_crime</th>\n",
       "      <th>localizacao</th>\n",
       "      <th>area</th>\n",
       "      <th>data_crime</th>\n",
       "    </tr>\n",
       "  </thead>\n",
       "  <tbody>\n",
       "    <tr>\n",
       "      <th>0</th>\n",
       "      <td>2009-00002</td>\n",
       "      <td>01/01/2009 12:39:00 AM</td>\n",
       "      <td>1/1/09 0:39</td>\n",
       "      <td>Simple Assault</td>\n",
       "      <td>504.0</td>\n",
       "      <td>Cambridgeport</td>\n",
       "      <td>400 Massachusetts Avenue, Cambridge, MA</td>\n",
       "      <td>2</td>\n",
       "      <td>43</td>\n",
       "      <td>2903</td>\n",
       "      <td>504</td>\n",
       "      <td>NaT</td>\n",
       "    </tr>\n",
       "    <tr>\n",
       "      <th>1</th>\n",
       "      <td>2009-00003</td>\n",
       "      <td>01/01/2009 01:34:00 AM</td>\n",
       "      <td>1/1/09 1:34</td>\n",
       "      <td>Simple Assault</td>\n",
       "      <td>610.0</td>\n",
       "      <td>Mid-Cambridge</td>\n",
       "      <td>200 HAMPSHIRE STREET, Cambridge, MA</td>\n",
       "      <td>7</td>\n",
       "      <td>43</td>\n",
       "      <td>2538</td>\n",
       "      <td>610</td>\n",
       "      <td>NaT</td>\n",
       "    </tr>\n",
       "    <tr>\n",
       "      <th>2</th>\n",
       "      <td>2009-00004</td>\n",
       "      <td>01/01/2009 01:43:00 AM</td>\n",
       "      <td>01/01/2009 02:20 - 02:35</td>\n",
       "      <td>Aggravated Assault</td>\n",
       "      <td>708.0</td>\n",
       "      <td>Riverside</td>\n",
       "      <td>DUNSTER STREET &amp; MOUNT AUBURN STREET, Cambridg...</td>\n",
       "      <td>10</td>\n",
       "      <td>2</td>\n",
       "      <td>4212</td>\n",
       "      <td>708</td>\n",
       "      <td>2009-01-01 02:20:00</td>\n",
       "    </tr>\n",
       "    <tr>\n",
       "      <th>3</th>\n",
       "      <td>2009-00005</td>\n",
       "      <td>01/01/2009 02:27:00 AM</td>\n",
       "      <td>01/01/2009 02:20 - 02:45</td>\n",
       "      <td>Simple Assault</td>\n",
       "      <td>105.0</td>\n",
       "      <td>East Cambridge</td>\n",
       "      <td>100 SCIARAPPA STREET, Cambridge, MA</td>\n",
       "      <td>3</td>\n",
       "      <td>43</td>\n",
       "      <td>2213</td>\n",
       "      <td>105</td>\n",
       "      <td>2009-01-01 02:20:00</td>\n",
       "    </tr>\n",
       "    <tr>\n",
       "      <th>4</th>\n",
       "      <td>2009-00006</td>\n",
       "      <td>01/01/2009 02:34:00 AM</td>\n",
       "      <td>01/01/2009 02:15 - 02:35</td>\n",
       "      <td>Disorderly</td>\n",
       "      <td>708.0</td>\n",
       "      <td>Riverside</td>\n",
       "      <td>1200 Massachusetts Avenue, Cambridge, MA</td>\n",
       "      <td>10</td>\n",
       "      <td>9</td>\n",
       "      <td>2368</td>\n",
       "      <td>708</td>\n",
       "      <td>2009-01-01 02:15:00</td>\n",
       "    </tr>\n",
       "  </tbody>\n",
       "</table>\n",
       "</div>"
      ],
      "text/plain": [
       "  File Number          Date of Report           Crime Date Time  \\\n",
       "0  2009-00002  01/01/2009 12:39:00 AM               1/1/09 0:39   \n",
       "1  2009-00003  01/01/2009 01:34:00 AM               1/1/09 1:34   \n",
       "2  2009-00004  01/01/2009 01:43:00 AM  01/01/2009 02:20 - 02:35   \n",
       "3  2009-00005  01/01/2009 02:27:00 AM  01/01/2009 02:20 - 02:45   \n",
       "4  2009-00006  01/01/2009 02:34:00 AM  01/01/2009 02:15 - 02:35   \n",
       "\n",
       "                Crime  Reporting Area    Neighborhood  \\\n",
       "0      Simple Assault           504.0   Cambridgeport   \n",
       "1      Simple Assault           610.0   Mid-Cambridge   \n",
       "2  Aggravated Assault           708.0       Riverside   \n",
       "3      Simple Assault           105.0  East Cambridge   \n",
       "4          Disorderly           708.0       Riverside   \n",
       "\n",
       "                                            Location  bairro  tipo_crime  \\\n",
       "0            400 Massachusetts Avenue, Cambridge, MA       2          43   \n",
       "1                200 HAMPSHIRE STREET, Cambridge, MA       7          43   \n",
       "2  DUNSTER STREET & MOUNT AUBURN STREET, Cambridg...      10           2   \n",
       "3                100 SCIARAPPA STREET, Cambridge, MA       3          43   \n",
       "4           1200 Massachusetts Avenue, Cambridge, MA      10           9   \n",
       "\n",
       "   localizacao  area          data_crime  \n",
       "0         2903   504                 NaT  \n",
       "1         2538   610                 NaT  \n",
       "2         4212   708 2009-01-01 02:20:00  \n",
       "3         2213   105 2009-01-01 02:20:00  \n",
       "4         2368   708 2009-01-01 02:15:00  "
      ]
     },
     "execution_count": 31,
     "metadata": {},
     "output_type": "execute_result"
    }
   ],
   "source": [
    "from datetime import datetime\n",
    "import re\n",
    "\n",
    "def extrair_data(row):\n",
    "    \n",
    "    x = row['Crime Date Time']\n",
    "    \n",
    "    data = re.search(\"([0-9]{2}\\/[0-9]{2}\\/[0-9]{4})\", x) #.group(0)\n",
    "    hora = re.search(\"([0-9]{2}\\:[0-9]{2})\", x) #.group(0)\n",
    "    \n",
    "    data_crime = data\n",
    "    \n",
    "    if data is not None:\n",
    "        data = data.group(0)\n",
    "        data_crime = data\n",
    "        if hora is not None:\n",
    "            hora = hora.group(0)\n",
    "        else:\n",
    "            hora = '00:00'\n",
    "        data_crime = data + ' ' + hora\n",
    "        data_crime = datetime.strptime(data_crime, '%m/%d/%Y %H:%M')\n",
    "    return data_crime\n",
    "    \n",
    "df2['data_crime'] = df2.apply( extrair_data, axis=1 )  \n",
    "df2.head()                                                                        "
   ]
  },
  {
   "cell_type": "code",
   "execution_count": 32,
   "metadata": {},
   "outputs": [
    {
     "data": {
      "text/plain": [
       "(13462, 56014)"
      ]
     },
     "execution_count": 32,
     "metadata": {},
     "output_type": "execute_result"
    }
   ],
   "source": [
    "df2.data_crime.isna().sum(), len(df2)"
   ]
  },
  {
   "cell_type": "code",
   "execution_count": 33,
   "metadata": {},
   "outputs": [
    {
     "name": "stdout",
     "output_type": "stream",
     "text": [
      "42552\n"
     ]
    },
    {
     "data": {
      "text/html": [
       "<div>\n",
       "<style scoped>\n",
       "    .dataframe tbody tr th:only-of-type {\n",
       "        vertical-align: middle;\n",
       "    }\n",
       "\n",
       "    .dataframe tbody tr th {\n",
       "        vertical-align: top;\n",
       "    }\n",
       "\n",
       "    .dataframe thead th {\n",
       "        text-align: right;\n",
       "    }\n",
       "</style>\n",
       "<table border=\"1\" class=\"dataframe\">\n",
       "  <thead>\n",
       "    <tr style=\"text-align: right;\">\n",
       "      <th></th>\n",
       "      <th>File Number</th>\n",
       "      <th>Date of Report</th>\n",
       "      <th>Crime Date Time</th>\n",
       "      <th>Crime</th>\n",
       "      <th>Reporting Area</th>\n",
       "      <th>Neighborhood</th>\n",
       "      <th>Location</th>\n",
       "      <th>bairro</th>\n",
       "      <th>tipo_crime</th>\n",
       "      <th>localizacao</th>\n",
       "      <th>area</th>\n",
       "      <th>data_crime</th>\n",
       "    </tr>\n",
       "  </thead>\n",
       "  <tbody>\n",
       "    <tr>\n",
       "      <th>2</th>\n",
       "      <td>2009-00004</td>\n",
       "      <td>01/01/2009 01:43:00 AM</td>\n",
       "      <td>01/01/2009 02:20 - 02:35</td>\n",
       "      <td>Aggravated Assault</td>\n",
       "      <td>708.0</td>\n",
       "      <td>Riverside</td>\n",
       "      <td>DUNSTER STREET &amp; MOUNT AUBURN STREET, Cambridg...</td>\n",
       "      <td>10</td>\n",
       "      <td>2</td>\n",
       "      <td>4212</td>\n",
       "      <td>708</td>\n",
       "      <td>2009-01-01 02:20:00</td>\n",
       "    </tr>\n",
       "    <tr>\n",
       "      <th>3</th>\n",
       "      <td>2009-00005</td>\n",
       "      <td>01/01/2009 02:27:00 AM</td>\n",
       "      <td>01/01/2009 02:20 - 02:45</td>\n",
       "      <td>Simple Assault</td>\n",
       "      <td>105.0</td>\n",
       "      <td>East Cambridge</td>\n",
       "      <td>100 SCIARAPPA STREET, Cambridge, MA</td>\n",
       "      <td>3</td>\n",
       "      <td>43</td>\n",
       "      <td>2213</td>\n",
       "      <td>105</td>\n",
       "      <td>2009-01-01 02:20:00</td>\n",
       "    </tr>\n",
       "    <tr>\n",
       "      <th>4</th>\n",
       "      <td>2009-00006</td>\n",
       "      <td>01/01/2009 02:34:00 AM</td>\n",
       "      <td>01/01/2009 02:15 - 02:35</td>\n",
       "      <td>Disorderly</td>\n",
       "      <td>708.0</td>\n",
       "      <td>Riverside</td>\n",
       "      <td>1200 Massachusetts Avenue, Cambridge, MA</td>\n",
       "      <td>10</td>\n",
       "      <td>9</td>\n",
       "      <td>2368</td>\n",
       "      <td>708</td>\n",
       "      <td>2009-01-01 02:15:00</td>\n",
       "    </tr>\n",
       "    <tr>\n",
       "      <th>7</th>\n",
       "      <td>2009-00009</td>\n",
       "      <td>01/01/2009 10:42:00 AM</td>\n",
       "      <td>01/01/2009 10:30 - 10:42</td>\n",
       "      <td>Simple Assault</td>\n",
       "      <td>411.0</td>\n",
       "      <td>Area 4</td>\n",
       "      <td>600 Massachusetts Avenue, Cambridge, MA</td>\n",
       "      <td>1</td>\n",
       "      <td>43</td>\n",
       "      <td>3012</td>\n",
       "      <td>411</td>\n",
       "      <td>2009-01-01 10:30:00</td>\n",
       "    </tr>\n",
       "    <tr>\n",
       "      <th>8</th>\n",
       "      <td>2009-00010</td>\n",
       "      <td>01/01/2009 10:47:00 AM</td>\n",
       "      <td>01/01/2009 10:35 - 10:47</td>\n",
       "      <td>Shoplifting</td>\n",
       "      <td>1201.0</td>\n",
       "      <td>Highlands</td>\n",
       "      <td>200 ALEWIFE BROOK PKY, Cambridge, MA</td>\n",
       "      <td>4</td>\n",
       "      <td>42</td>\n",
       "      <td>2425</td>\n",
       "      <td>1201</td>\n",
       "      <td>2009-01-01 10:35:00</td>\n",
       "    </tr>\n",
       "  </tbody>\n",
       "</table>\n",
       "</div>"
      ],
      "text/plain": [
       "  File Number          Date of Report           Crime Date Time  \\\n",
       "2  2009-00004  01/01/2009 01:43:00 AM  01/01/2009 02:20 - 02:35   \n",
       "3  2009-00005  01/01/2009 02:27:00 AM  01/01/2009 02:20 - 02:45   \n",
       "4  2009-00006  01/01/2009 02:34:00 AM  01/01/2009 02:15 - 02:35   \n",
       "7  2009-00009  01/01/2009 10:42:00 AM  01/01/2009 10:30 - 10:42   \n",
       "8  2009-00010  01/01/2009 10:47:00 AM  01/01/2009 10:35 - 10:47   \n",
       "\n",
       "                Crime  Reporting Area    Neighborhood  \\\n",
       "2  Aggravated Assault           708.0       Riverside   \n",
       "3      Simple Assault           105.0  East Cambridge   \n",
       "4          Disorderly           708.0       Riverside   \n",
       "7      Simple Assault           411.0          Area 4   \n",
       "8         Shoplifting          1201.0       Highlands   \n",
       "\n",
       "                                            Location  bairro  tipo_crime  \\\n",
       "2  DUNSTER STREET & MOUNT AUBURN STREET, Cambridg...      10           2   \n",
       "3                100 SCIARAPPA STREET, Cambridge, MA       3          43   \n",
       "4           1200 Massachusetts Avenue, Cambridge, MA      10           9   \n",
       "7            600 Massachusetts Avenue, Cambridge, MA       1          43   \n",
       "8               200 ALEWIFE BROOK PKY, Cambridge, MA       4          42   \n",
       "\n",
       "   localizacao  area          data_crime  \n",
       "2         4212   708 2009-01-01 02:20:00  \n",
       "3         2213   105 2009-01-01 02:20:00  \n",
       "4         2368   708 2009-01-01 02:15:00  \n",
       "7         3012   411 2009-01-01 10:30:00  \n",
       "8         2425  1201 2009-01-01 10:35:00  "
      ]
     },
     "execution_count": 33,
     "metadata": {},
     "output_type": "execute_result"
    }
   ],
   "source": [
    "df3 = df2[ ~ df2.data_crime.isna()  ]\n",
    "\n",
    "print(len(df3))\n",
    "df3.head()"
   ]
  },
  {
   "cell_type": "code",
   "execution_count": 34,
   "metadata": {},
   "outputs": [
    {
     "data": {
      "text/plain": [
       "0"
      ]
     },
     "execution_count": 34,
     "metadata": {},
     "output_type": "execute_result"
    }
   ],
   "source": [
    "df3.data_crime.isna().sum()"
   ]
  },
  {
   "cell_type": "code",
   "execution_count": 35,
   "metadata": {},
   "outputs": [
    {
     "data": {
      "text/plain": [
       "42552"
      ]
     },
     "execution_count": 35,
     "metadata": {},
     "output_type": "execute_result"
    }
   ],
   "source": [
    "len(df3)"
   ]
  },
  {
   "cell_type": "code",
   "execution_count": 36,
   "metadata": {},
   "outputs": [
    {
     "name": "stdout",
     "output_type": "stream",
     "text": [
      "CPU times: user 1min 42s, sys: 610 ms, total: 1min 43s\n",
      "Wall time: 1min 45s\n"
     ]
    },
    {
     "data": {
      "text/plain": [
       "<AxesSubplot:xlabel='data_crime', ylabel='tipo_crime'>"
      ]
     },
     "execution_count": 36,
     "metadata": {},
     "output_type": "execute_result"
    },
    {
     "data": {
      "image/png": "[encoded data removed]",
      "text/plain": [
       "<Figure size 864x576 with 1 Axes>"
      ]
     },
     "metadata": {},
     "output_type": "display_data"
    }
   ],
   "source": [
    "%%time\n",
    "sns.set(rc={'figure.figsize':(12,8)})\n",
    "sns.lineplot(x = 'data_crime', y = 'tipo_crime', data = df3)"
   ]
  },
  {
   "cell_type": "code",
   "execution_count": 37,
   "metadata": {},
   "outputs": [
    {
     "name": "stderr",
     "output_type": "stream",
     "text": [
      "<ipython-input-37-fcea96f9a202>:1: FutureWarning: Treating datetime data as categorical rather than numeric in `.describe` is deprecated and will be removed in a future version of pandas. Specify `datetime_is_numeric=True` to silence this warning and adopt the future behavior now.\n",
      "  df3.data_crime.describe()\n"
     ]
    },
    {
     "data": {
      "text/plain": [
       "count                   42552\n",
       "unique                  39191\n",
       "top       2014-10-30 03:06:00\n",
       "freq                       16\n",
       "first     1980-01-01 00:00:00\n",
       "last      2016-09-30 21:43:00\n",
       "Name: data_crime, dtype: object"
      ]
     },
     "execution_count": 37,
     "metadata": {},
     "output_type": "execute_result"
    }
   ],
   "source": [
    "df3.data_crime.describe()"
   ]
  },
  {
   "cell_type": "code",
   "execution_count": 38,
   "metadata": {},
   "outputs": [
    {
     "data": {
      "text/plain": [
       "54"
      ]
     },
     "execution_count": 38,
     "metadata": {},
     "output_type": "execute_result"
    }
   ],
   "source": [
    "len(df3.tipo_crime.unique())"
   ]
  },
  {
   "cell_type": "code",
   "execution_count": 39,
   "metadata": {},
   "outputs": [
    {
     "data": {
      "text/plain": [
       "Larceny from MV           4603\n",
       "Hit and Run               3748\n",
       "Mal. Dest. Property       3131\n",
       "Larceny of Bicycle        2590\n",
       "Larceny from Building     2538\n",
       "Housebreak                2404\n",
       "Domestic Dispute          2091\n",
       "Forgery                   1999\n",
       "Simple Assault            1972\n",
       "Larceny from Person       1853\n",
       "Shoplifting               1776\n",
       "Larceny from Residence    1575\n",
       "Warrant Arrest            1166\n",
       "Threats                   1070\n",
       "Aggravated Assault        1032\n",
       "Auto Theft                1016\n",
       "Flim Flam                  792\n",
       "Missing Person             696\n",
       "Admin Error                660\n",
       "Harassment                 627\n",
       "Accident                   577\n",
       "Commercial Break           493\n",
       "Street Robbery             444\n",
       "Suspicious Package         381\n",
       "Phone Calls                367\n",
       "Taxi Violation             259\n",
       "Drugs                      255\n",
       "Violation of R.O.          237\n",
       "Larceny (Misc)             228\n",
       "Larceny of Plate           221\n",
       "Trespassing                219\n",
       "OUI                        194\n",
       "Disorderly                 144\n",
       "Indecent Exposure          139\n",
       "Commercial Robbery         122\n",
       "Drinking in Public         121\n",
       "Counterfeiting             111\n",
       "Embezzlement               107\n",
       "Larceny of Services        101\n",
       "Rec. Stol. Property         79\n",
       "Violation of H.O.           77\n",
       "Annoying & Accosting        49\n",
       "Noise Complaint             47\n",
       "Arson                       40\n",
       "Weapon Violations           40\n",
       "Peeping & Spying            30\n",
       "Liquor Possession/Sale      27\n",
       "Sex Offender Violation      26\n",
       "Kidnapping                  23\n",
       "Extortion/Blackmail         17\n",
       "Homicide                    16\n",
       "Stalking                    14\n",
       "Prostitution                 7\n",
       "Gambling                     1\n",
       "Name: Crime, dtype: int64"
      ]
     },
     "execution_count": 39,
     "metadata": {},
     "output_type": "execute_result"
    }
   ],
   "source": [
    "df3.Crime.value_counts()"
   ]
  },
  {
   "cell_type": "code",
   "execution_count": 40,
   "metadata": {},
   "outputs": [
    {
     "data": {
      "text/plain": [
       "3748"
      ]
     },
     "execution_count": 40,
     "metadata": {},
     "output_type": "execute_result"
    }
   ],
   "source": [
    "dfc = df3[ df3.Crime == 'Hit and Run']\n",
    "len(dfc)"
   ]
  },
  {
   "cell_type": "code",
   "execution_count": 41,
   "metadata": {},
   "outputs": [
    {
     "name": "stderr",
     "output_type": "stream",
     "text": [
      "/home/valencar/anaconda3/lib/python3.8/site-packages/seaborn/distributions.py:2551: FutureWarning: `distplot` is a deprecated function and will be removed in a future version. Please adapt your code to use either `displot` (a figure-level function with similar flexibility) or `histplot` (an axes-level function for histograms).\n",
      "  warnings.warn(msg, FutureWarning)\n"
     ]
    },
    {
     "data": {
      "text/plain": [
       "<AxesSubplot:xlabel='data_crime', ylabel='Density'>"
      ]
     },
     "execution_count": 41,
     "metadata": {},
     "output_type": "execute_result"
    },
    {
     "data": {
      "image/png": "[encoded data removed]",
      "text/plain": [
       "<Figure size 864x576 with 1 Axes>"
      ]
     },
     "metadata": {},
     "output_type": "display_data"
    }
   ],
   "source": [
    "sns.set(rc={'figure.figsize':(12,8)})\n",
    "sns.distplot(dfc.data_crime)"
   ]
  },
  {
   "cell_type": "code",
   "execution_count": 42,
   "metadata": {},
   "outputs": [
    {
     "data": {
      "text/plain": [
       "<AxesSubplot:xlabel='data_crime'>"
      ]
     },
     "execution_count": 42,
     "metadata": {},
     "output_type": "execute_result"
    },
    {
     "data": {
      "image/png": "[encoded data removed]",
      "text/plain": [
       "<Figure size 864x576 with 1 Axes>"
      ]
     },
     "metadata": {},
     "output_type": "display_data"
    }
   ],
   "source": [
    "df4 = df3.copy()\n",
    "df4.set_index('data_crime', inplace=True)\n",
    "df4.resample('Y').size().plot.bar()"
   ]
  },
  {
   "cell_type": "code",
   "execution_count": 43,
   "metadata": {},
   "outputs": [
    {
     "data": {
      "text/plain": [
       "(42552, 42552, 36876)"
      ]
     },
     "execution_count": 43,
     "metadata": {},
     "output_type": "execute_result"
    }
   ],
   "source": [
    "# Janela de 2010 para 2016\n",
    "data_atual = '2010-01-01'\n",
    "data_crime_atual = datetime.strptime(data_atual, '%Y-%m-%d')\n",
    "\n",
    "df5 =  df3.copy()\n",
    "df6 = df5[ df5.data_crime >= data_crime_atual ]\n",
    "len(df4), len(df5), len(df6)"
   ]
  },
  {
   "cell_type": "code",
   "execution_count": 44,
   "metadata": {},
   "outputs": [
    {
     "data": {
      "text/plain": [
       "<AxesSubplot:xlabel='data_crime'>"
      ]
     },
     "execution_count": 44,
     "metadata": {},
     "output_type": "execute_result"
    },
    {
     "data": {
      "image/png": "[encoded data removed]",
      "text/plain": [
       "<Figure size 864x576 with 1 Axes>"
      ]
     },
     "metadata": {},
     "output_type": "display_data"
    }
   ],
   "source": [
    "df7 = df6.copy()\n",
    "df7.set_index('data_crime', inplace=True)\n",
    "df7.resample('Y').size().plot.bar()"
   ]
  },
  {
   "cell_type": "code",
   "execution_count": 45,
   "metadata": {},
   "outputs": [
    {
     "name": "stderr",
     "output_type": "stream",
     "text": [
      "<ipython-input-45-3a87f66ee9f0>:1: FutureWarning: Treating datetime data as categorical rather than numeric in `.describe` is deprecated and will be removed in a future version of pandas. Specify `datetime_is_numeric=True` to silence this warning and adopt the future behavior now.\n",
      "  df6.data_crime.describe()\n"
     ]
    },
    {
     "data": {
      "text/plain": [
       "count                   36876\n",
       "unique                  34098\n",
       "top       2014-10-30 03:06:00\n",
       "freq                       16\n",
       "first     2010-01-01 00:00:00\n",
       "last      2016-09-30 21:43:00\n",
       "Name: data_crime, dtype: object"
      ]
     },
     "execution_count": 45,
     "metadata": {},
     "output_type": "execute_result"
    }
   ],
   "source": [
    "df6.data_crime.describe()"
   ]
  },
  {
   "cell_type": "code",
   "execution_count": 46,
   "metadata": {},
   "outputs": [
    {
     "data": {
      "text/plain": [
       "6647"
      ]
     },
     "execution_count": 46,
     "metadata": {},
     "output_type": "execute_result"
    }
   ],
   "source": [
    "data_atual = '2015-09-30'\n",
    "data_crime_atual = datetime.strptime(data_atual, '%Y-%m-%d')\n",
    "\n",
    "df8 =  df6.copy()\n",
    "df8 = df8[ df8.data_crime >= data_crime_atual ]\n",
    "len(df8)"
   ]
  },
  {
   "cell_type": "code",
   "execution_count": 47,
   "metadata": {},
   "outputs": [
    {
     "data": {
      "text/plain": [
       "<AxesSubplot:xlabel='data_crime'>"
      ]
     },
     "execution_count": 47,
     "metadata": {},
     "output_type": "execute_result"
    },
    {
     "data": {
      "image/png": "[encoded data removed]",
      "text/plain": [
       "<Figure size 864x576 with 1 Axes>"
      ]
     },
     "metadata": {},
     "output_type": "display_data"
    }
   ],
   "source": [
    "df9 = df8.copy()\n",
    "df9.set_index('data_crime', inplace=True)\n",
    "df9.resample('M').size().plot.bar()"
   ]
  },
  {
   "cell_type": "code",
   "execution_count": 48,
   "metadata": {},
   "outputs": [],
   "source": [
    "#df9 = df8.copy()\n",
    "#df9.set_index('data_crime', inplace=True)\n",
    "#df9.resample('D').size().plot.bar()"
   ]
  },
  {
   "cell_type": "code",
   "execution_count": 49,
   "metadata": {},
   "outputs": [],
   "source": [
    "#df9 = df8.copy()\n",
    "#df9.set_index('data_crime', inplace=True)\n",
    "#df9.resample('H').size().plot.bar()"
   ]
  },
  {
   "cell_type": "code",
   "execution_count": null,
   "metadata": {},
   "outputs": [],
   "source": []
  },
  {
   "cell_type": "code",
   "execution_count": 50,
   "metadata": {},
   "outputs": [
    {
     "data": {
      "text/plain": [
       "3748"
      ]
     },
     "execution_count": 50,
     "metadata": {},
     "output_type": "execute_result"
    }
   ],
   "source": [
    "# Comportamento do roubo por hora \n",
    "\n",
    "dfc = df3[ df3.Crime == 'Hit and Run']\n",
    "len(dfc)"
   ]
  },
  {
   "cell_type": "code",
   "execution_count": 51,
   "metadata": {},
   "outputs": [
    {
     "data": {
      "text/html": [
       "<div>\n",
       "<style scoped>\n",
       "    .dataframe tbody tr th:only-of-type {\n",
       "        vertical-align: middle;\n",
       "    }\n",
       "\n",
       "    .dataframe tbody tr th {\n",
       "        vertical-align: top;\n",
       "    }\n",
       "\n",
       "    .dataframe thead th {\n",
       "        text-align: right;\n",
       "    }\n",
       "</style>\n",
       "<table border=\"1\" class=\"dataframe\">\n",
       "  <thead>\n",
       "    <tr style=\"text-align: right;\">\n",
       "      <th></th>\n",
       "      <th>File Number</th>\n",
       "      <th>Date of Report</th>\n",
       "      <th>Crime Date Time</th>\n",
       "      <th>Crime</th>\n",
       "      <th>Reporting Area</th>\n",
       "      <th>Neighborhood</th>\n",
       "      <th>Location</th>\n",
       "      <th>bairro</th>\n",
       "      <th>tipo_crime</th>\n",
       "      <th>localizacao</th>\n",
       "      <th>area</th>\n",
       "      <th>data_crime</th>\n",
       "      <th>hora</th>\n",
       "    </tr>\n",
       "  </thead>\n",
       "  <tbody>\n",
       "    <tr>\n",
       "      <th>9</th>\n",
       "      <td>2009-00011</td>\n",
       "      <td>01/01/2009 12:37:00 PM</td>\n",
       "      <td>12/31/2008 10:00 - 01/01/2009 10:00</td>\n",
       "      <td>Hit and Run</td>\n",
       "      <td>510.0</td>\n",
       "      <td>Cambridgeport</td>\n",
       "      <td>FAIRMONT Avenue &amp; Fairmont STREET, Cambridge, MA</td>\n",
       "      <td>2</td>\n",
       "      <td>19</td>\n",
       "      <td>4339</td>\n",
       "      <td>510</td>\n",
       "      <td>2008-12-31 10:00:00</td>\n",
       "      <td>10</td>\n",
       "    </tr>\n",
       "    <tr>\n",
       "      <th>12</th>\n",
       "      <td>2009-00014</td>\n",
       "      <td>01/01/2009 02:35:00 PM</td>\n",
       "      <td>12/31/2008 22:00 - 01/01/2009 02:00</td>\n",
       "      <td>Hit and Run</td>\n",
       "      <td>604.0</td>\n",
       "      <td>Mid-Cambridge</td>\n",
       "      <td>400 BROADWAY, Cambridge, MA</td>\n",
       "      <td>7</td>\n",
       "      <td>19</td>\n",
       "      <td>2859</td>\n",
       "      <td>604</td>\n",
       "      <td>2008-12-31 22:00:00</td>\n",
       "      <td>22</td>\n",
       "    </tr>\n",
       "    <tr>\n",
       "      <th>17</th>\n",
       "      <td>2009-00021</td>\n",
       "      <td>01/02/2009 05:33:00 AM</td>\n",
       "      <td>01/02/2009 05:30 - 05:32</td>\n",
       "      <td>Hit and Run</td>\n",
       "      <td>705.0</td>\n",
       "      <td>Riverside</td>\n",
       "      <td>Green STREET &amp; Pleasant STREET, Cambridge, MA</td>\n",
       "      <td>10</td>\n",
       "      <td>19</td>\n",
       "      <td>4652</td>\n",
       "      <td>705</td>\n",
       "      <td>2009-01-02 05:30:00</td>\n",
       "      <td>5</td>\n",
       "    </tr>\n",
       "    <tr>\n",
       "      <th>18</th>\n",
       "      <td>2009-00022</td>\n",
       "      <td>01/02/2009 08:03:00 AM</td>\n",
       "      <td>12/27/2008 00:01 - 12/28/2008 13:46</td>\n",
       "      <td>Hit and Run</td>\n",
       "      <td>1002.0</td>\n",
       "      <td>West Cambridge</td>\n",
       "      <td>100 MOUNT AUBURN STREET, Cambridge, MA</td>\n",
       "      <td>12</td>\n",
       "      <td>19</td>\n",
       "      <td>2087</td>\n",
       "      <td>1002</td>\n",
       "      <td>2008-12-27 00:01:00</td>\n",
       "      <td>0</td>\n",
       "    </tr>\n",
       "    <tr>\n",
       "      <th>21</th>\n",
       "      <td>2009-00027</td>\n",
       "      <td>01/02/2009 12:44:00 PM</td>\n",
       "      <td>12/30/2008 12:00 - 01/02/2009 12:30</td>\n",
       "      <td>Hit and Run</td>\n",
       "      <td>402.0</td>\n",
       "      <td>Area 4</td>\n",
       "      <td>Bristol STREET &amp; MARKET STREET, Cambridge, MA</td>\n",
       "      <td>1</td>\n",
       "      <td>19</td>\n",
       "      <td>3697</td>\n",
       "      <td>402</td>\n",
       "      <td>2008-12-30 12:00:00</td>\n",
       "      <td>12</td>\n",
       "    </tr>\n",
       "  </tbody>\n",
       "</table>\n",
       "</div>"
      ],
      "text/plain": [
       "   File Number          Date of Report                      Crime Date Time  \\\n",
       "9   2009-00011  01/01/2009 12:37:00 PM  12/31/2008 10:00 - 01/01/2009 10:00   \n",
       "12  2009-00014  01/01/2009 02:35:00 PM  12/31/2008 22:00 - 01/01/2009 02:00   \n",
       "17  2009-00021  01/02/2009 05:33:00 AM             01/02/2009 05:30 - 05:32   \n",
       "18  2009-00022  01/02/2009 08:03:00 AM  12/27/2008 00:01 - 12/28/2008 13:46   \n",
       "21  2009-00027  01/02/2009 12:44:00 PM  12/30/2008 12:00 - 01/02/2009 12:30   \n",
       "\n",
       "          Crime  Reporting Area    Neighborhood  \\\n",
       "9   Hit and Run           510.0   Cambridgeport   \n",
       "12  Hit and Run           604.0   Mid-Cambridge   \n",
       "17  Hit and Run           705.0       Riverside   \n",
       "18  Hit and Run          1002.0  West Cambridge   \n",
       "21  Hit and Run           402.0          Area 4   \n",
       "\n",
       "                                            Location  bairro  tipo_crime  \\\n",
       "9   FAIRMONT Avenue & Fairmont STREET, Cambridge, MA       2          19   \n",
       "12                       400 BROADWAY, Cambridge, MA       7          19   \n",
       "17     Green STREET & Pleasant STREET, Cambridge, MA      10          19   \n",
       "18            100 MOUNT AUBURN STREET, Cambridge, MA      12          19   \n",
       "21     Bristol STREET & MARKET STREET, Cambridge, MA       1          19   \n",
       "\n",
       "    localizacao  area          data_crime  hora  \n",
       "9          4339   510 2008-12-31 10:00:00    10  \n",
       "12         2859   604 2008-12-31 22:00:00    22  \n",
       "17         4652   705 2009-01-02 05:30:00     5  \n",
       "18         2087  1002 2008-12-27 00:01:00     0  \n",
       "21         3697   402 2008-12-30 12:00:00    12  "
      ]
     },
     "execution_count": 51,
     "metadata": {},
     "output_type": "execute_result"
    }
   ],
   "source": [
    "df = dfc.copy()\n",
    "df['hora'] = dfc.data_crime.apply(lambda x : x.hour)\n",
    "df.head()"
   ]
  },
  {
   "cell_type": "code",
   "execution_count": 52,
   "metadata": {},
   "outputs": [
    {
     "data": {
      "text/html": [
       "<div>\n",
       "<style scoped>\n",
       "    .dataframe tbody tr th:only-of-type {\n",
       "        vertical-align: middle;\n",
       "    }\n",
       "\n",
       "    .dataframe tbody tr th {\n",
       "        vertical-align: top;\n",
       "    }\n",
       "\n",
       "    .dataframe thead th {\n",
       "        text-align: right;\n",
       "    }\n",
       "</style>\n",
       "<table border=\"1\" class=\"dataframe\">\n",
       "  <thead>\n",
       "    <tr style=\"text-align: right;\">\n",
       "      <th></th>\n",
       "      <th>hora</th>\n",
       "      <th>Hit and Run</th>\n",
       "    </tr>\n",
       "  </thead>\n",
       "  <tbody>\n",
       "    <tr>\n",
       "      <th>0</th>\n",
       "      <td>12</td>\n",
       "      <td>254</td>\n",
       "    </tr>\n",
       "    <tr>\n",
       "      <th>1</th>\n",
       "      <td>18</td>\n",
       "      <td>243</td>\n",
       "    </tr>\n",
       "    <tr>\n",
       "      <th>2</th>\n",
       "      <td>8</td>\n",
       "      <td>241</td>\n",
       "    </tr>\n",
       "    <tr>\n",
       "      <th>3</th>\n",
       "      <td>19</td>\n",
       "      <td>229</td>\n",
       "    </tr>\n",
       "    <tr>\n",
       "      <th>4</th>\n",
       "      <td>16</td>\n",
       "      <td>222</td>\n",
       "    </tr>\n",
       "  </tbody>\n",
       "</table>\n",
       "</div>"
      ],
      "text/plain": [
       "   hora  Hit and Run\n",
       "0    12          254\n",
       "1    18          243\n",
       "2     8          241\n",
       "3    19          229\n",
       "4    16          222"
      ]
     },
     "execution_count": 52,
     "metadata": {},
     "output_type": "execute_result"
    }
   ],
   "source": [
    "hora_roubo = df.hora.value_counts().to_frame().reset_index()\n",
    "#hora_roubo.index = 'horario'\n",
    "\n",
    "hora_roubo.columns = [ 'hora', 'Hit and Run']\n",
    "hora_roubo.head()"
   ]
  },
  {
   "cell_type": "code",
   "execution_count": 53,
   "metadata": {},
   "outputs": [
    {
     "data": {
      "text/html": [
       "<div>\n",
       "<style scoped>\n",
       "    .dataframe tbody tr th:only-of-type {\n",
       "        vertical-align: middle;\n",
       "    }\n",
       "\n",
       "    .dataframe tbody tr th {\n",
       "        vertical-align: top;\n",
       "    }\n",
       "\n",
       "    .dataframe thead th {\n",
       "        text-align: right;\n",
       "    }\n",
       "</style>\n",
       "<table border=\"1\" class=\"dataframe\">\n",
       "  <thead>\n",
       "    <tr style=\"text-align: right;\">\n",
       "      <th></th>\n",
       "      <th>hora</th>\n",
       "      <th>Hit and Run</th>\n",
       "    </tr>\n",
       "  </thead>\n",
       "  <tbody>\n",
       "    <tr>\n",
       "      <th>0</th>\n",
       "      <td>23</td>\n",
       "      <td>125</td>\n",
       "    </tr>\n",
       "    <tr>\n",
       "      <th>1</th>\n",
       "      <td>22</td>\n",
       "      <td>128</td>\n",
       "    </tr>\n",
       "    <tr>\n",
       "      <th>2</th>\n",
       "      <td>21</td>\n",
       "      <td>162</td>\n",
       "    </tr>\n",
       "    <tr>\n",
       "      <th>3</th>\n",
       "      <td>20</td>\n",
       "      <td>209</td>\n",
       "    </tr>\n",
       "    <tr>\n",
       "      <th>4</th>\n",
       "      <td>19</td>\n",
       "      <td>229</td>\n",
       "    </tr>\n",
       "    <tr>\n",
       "      <th>5</th>\n",
       "      <td>18</td>\n",
       "      <td>243</td>\n",
       "    </tr>\n",
       "    <tr>\n",
       "      <th>6</th>\n",
       "      <td>17</td>\n",
       "      <td>209</td>\n",
       "    </tr>\n",
       "    <tr>\n",
       "      <th>7</th>\n",
       "      <td>16</td>\n",
       "      <td>222</td>\n",
       "    </tr>\n",
       "    <tr>\n",
       "      <th>8</th>\n",
       "      <td>15</td>\n",
       "      <td>218</td>\n",
       "    </tr>\n",
       "    <tr>\n",
       "      <th>9</th>\n",
       "      <td>14</td>\n",
       "      <td>204</td>\n",
       "    </tr>\n",
       "    <tr>\n",
       "      <th>10</th>\n",
       "      <td>13</td>\n",
       "      <td>208</td>\n",
       "    </tr>\n",
       "    <tr>\n",
       "      <th>11</th>\n",
       "      <td>12</td>\n",
       "      <td>254</td>\n",
       "    </tr>\n",
       "    <tr>\n",
       "      <th>12</th>\n",
       "      <td>11</td>\n",
       "      <td>176</td>\n",
       "    </tr>\n",
       "    <tr>\n",
       "      <th>13</th>\n",
       "      <td>10</td>\n",
       "      <td>198</td>\n",
       "    </tr>\n",
       "    <tr>\n",
       "      <th>14</th>\n",
       "      <td>9</td>\n",
       "      <td>217</td>\n",
       "    </tr>\n",
       "    <tr>\n",
       "      <th>15</th>\n",
       "      <td>8</td>\n",
       "      <td>241</td>\n",
       "    </tr>\n",
       "    <tr>\n",
       "      <th>16</th>\n",
       "      <td>7</td>\n",
       "      <td>165</td>\n",
       "    </tr>\n",
       "    <tr>\n",
       "      <th>17</th>\n",
       "      <td>6</td>\n",
       "      <td>56</td>\n",
       "    </tr>\n",
       "    <tr>\n",
       "      <th>18</th>\n",
       "      <td>5</td>\n",
       "      <td>22</td>\n",
       "    </tr>\n",
       "    <tr>\n",
       "      <th>19</th>\n",
       "      <td>4</td>\n",
       "      <td>22</td>\n",
       "    </tr>\n",
       "    <tr>\n",
       "      <th>20</th>\n",
       "      <td>3</td>\n",
       "      <td>13</td>\n",
       "    </tr>\n",
       "    <tr>\n",
       "      <th>21</th>\n",
       "      <td>2</td>\n",
       "      <td>46</td>\n",
       "    </tr>\n",
       "    <tr>\n",
       "      <th>22</th>\n",
       "      <td>1</td>\n",
       "      <td>52</td>\n",
       "    </tr>\n",
       "    <tr>\n",
       "      <th>23</th>\n",
       "      <td>0</td>\n",
       "      <td>129</td>\n",
       "    </tr>\n",
       "  </tbody>\n",
       "</table>\n",
       "</div>"
      ],
      "text/plain": [
       "    hora  Hit and Run\n",
       "0     23          125\n",
       "1     22          128\n",
       "2     21          162\n",
       "3     20          209\n",
       "4     19          229\n",
       "5     18          243\n",
       "6     17          209\n",
       "7     16          222\n",
       "8     15          218\n",
       "9     14          204\n",
       "10    13          208\n",
       "11    12          254\n",
       "12    11          176\n",
       "13    10          198\n",
       "14     9          217\n",
       "15     8          241\n",
       "16     7          165\n",
       "17     6           56\n",
       "18     5           22\n",
       "19     4           22\n",
       "20     3           13\n",
       "21     2           46\n",
       "22     1           52\n",
       "23     0          129"
      ]
     },
     "execution_count": 53,
     "metadata": {},
     "output_type": "execute_result"
    }
   ],
   "source": [
    "df_roubo = hora_roubo.sort_values(by='hora', ascending=False).reset_index(drop=True)\n",
    "df_roubo"
   ]
  },
  {
   "cell_type": "code",
   "execution_count": 54,
   "metadata": {},
   "outputs": [
    {
     "data": {
      "text/plain": [
       "<AxesSubplot:xlabel='Hit and Run', ylabel='hora'>"
      ]
     },
     "execution_count": 54,
     "metadata": {},
     "output_type": "execute_result"
    },
    {
     "data": {
      "image/png": "[encoded data removed]",
      "text/plain": [
       "<Figure size 864x576 with 1 Axes>"
      ]
     },
     "metadata": {},
     "output_type": "display_data"
    }
   ],
   "source": [
    "sns.lineplot(x = 'Hit and Run', y='hora', data=df_roubo)"
   ]
  },
  {
   "cell_type": "code",
   "execution_count": 55,
   "metadata": {},
   "outputs": [
    {
     "data": {
      "text/plain": [
       "<AxesSubplot:xlabel='hora', ylabel='Hit and Run'>"
      ]
     },
     "execution_count": 55,
     "metadata": {},
     "output_type": "execute_result"
    },
    {
     "data": {
      "image/png": "[encoded data removed]",
      "text/plain": [
       "<Figure size 864x576 with 1 Axes>"
      ]
     },
     "metadata": {},
     "output_type": "display_data"
    }
   ],
   "source": [
    "sns.lineplot(y = 'Hit and Run', x='hora', data=df_roubo)"
   ]
  },
  {
   "cell_type": "code",
   "execution_count": 56,
   "metadata": {},
   "outputs": [
    {
     "data": {
      "text/plain": [
       "<AxesSubplot:>"
      ]
     },
     "execution_count": 56,
     "metadata": {},
     "output_type": "execute_result"
    },
    {
     "data": {
      "image/png": "[encoded data removed]",
      "text/plain": [
       "<Figure size 864x576 with 1 Axes>"
      ]
     },
     "metadata": {},
     "output_type": "display_data"
    }
   ],
   "source": [
    "df_roubo.plot() #kind = 'barh')"
   ]
  },
  {
   "cell_type": "code",
   "execution_count": null,
   "metadata": {},
   "outputs": [],
   "source": []
  }
 ],
 "metadata": {
  "kernelspec": {
   "display_name": "Python 3",
   "language": "python",
   "name": "python3"
  },
  "language_info": {
   "codemirror_mode": {
    "name": "ipython",
    "version": 3
   },
   "file_extension": ".py",
   "mimetype": "text/x-python",
   "name": "python",
   "nbconvert_exporter": "python",
   "pygments_lexer": "ipython3",
   "version": "3.8.5"
  }
 },
 "nbformat": 4,
 "nbformat_minor": 5
}
