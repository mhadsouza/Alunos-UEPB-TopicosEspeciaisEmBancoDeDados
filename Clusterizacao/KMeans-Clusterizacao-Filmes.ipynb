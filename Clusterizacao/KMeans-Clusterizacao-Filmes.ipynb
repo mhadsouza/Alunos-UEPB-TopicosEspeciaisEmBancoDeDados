{
 "cells": [
  {
   "cell_type": "markdown",
   "metadata": {},
   "source": [
    "# Kmeans - Aprendizagem Não-Supervisionada"
   ]
  },
  {
   "cell_type": "code",
   "execution_count": 1,
   "metadata": {},
   "outputs": [],
   "source": [
    "import pandas as pd\n",
    "import matplotlib.pyplot as plt\n",
    "import matplotlib\n",
    "import seaborn as sns"
   ]
  },
  {
   "cell_type": "markdown",
   "metadata": {},
   "source": [
    "## Filmes - Segmentação\n",
    "Disponível em: https://www.kaggle.com/tmdb"
   ]
  },
  {
   "cell_type": "code",
   "execution_count": 11,
   "metadata": {},
   "outputs": [
    {
     "data": {
      "text/html": [
       "<div>\n",
       "<style scoped>\n",
       "    .dataframe tbody tr th:only-of-type {\n",
       "        vertical-align: middle;\n",
       "    }\n",
       "\n",
       "    .dataframe tbody tr th {\n",
       "        vertical-align: top;\n",
       "    }\n",
       "\n",
       "    .dataframe thead th {\n",
       "        text-align: right;\n",
       "    }\n",
       "</style>\n",
       "<table border=\"1\" class=\"dataframe\">\n",
       "  <thead>\n",
       "    <tr style=\"text-align: right;\">\n",
       "      <th></th>\n",
       "      <th>budget</th>\n",
       "      <th>genres</th>\n",
       "      <th>homepage</th>\n",
       "      <th>id</th>\n",
       "      <th>keywords</th>\n",
       "      <th>original_language</th>\n",
       "      <th>original_title</th>\n",
       "      <th>overview</th>\n",
       "      <th>popularity</th>\n",
       "      <th>production_companies</th>\n",
       "      <th>...</th>\n",
       "      <th>revenue</th>\n",
       "      <th>runtime</th>\n",
       "      <th>spoken_languages</th>\n",
       "      <th>status</th>\n",
       "      <th>tagline</th>\n",
       "      <th>title</th>\n",
       "      <th>vote_average</th>\n",
       "      <th>vote_count</th>\n",
       "      <th>Custo</th>\n",
       "      <th>Receita</th>\n",
       "    </tr>\n",
       "  </thead>\n",
       "  <tbody>\n",
       "    <tr>\n",
       "      <th>0</th>\n",
       "      <td>237000000</td>\n",
       "      <td>[{\"id\": 28, \"name\": \"Action\"}, {\"id\": 12, \"nam...</td>\n",
       "      <td>http://www.avatarmovie.com/</td>\n",
       "      <td>19995</td>\n",
       "      <td>[{\"id\": 1463, \"name\": \"culture clash\"}, {\"id\":...</td>\n",
       "      <td>en</td>\n",
       "      <td>Avatar</td>\n",
       "      <td>In the 22nd century, a paraplegic Marine is di...</td>\n",
       "      <td>150.437577</td>\n",
       "      <td>[{\"name\": \"Ingenious Film Partners\", \"id\": 289...</td>\n",
       "      <td>...</td>\n",
       "      <td>2787965087</td>\n",
       "      <td>162.0</td>\n",
       "      <td>[{\"iso_639_1\": \"en\", \"name\": \"English\"}, {\"iso...</td>\n",
       "      <td>Released</td>\n",
       "      <td>Enter the World of Pandora.</td>\n",
       "      <td>Avatar</td>\n",
       "      <td>7.2</td>\n",
       "      <td>11800</td>\n",
       "      <td>237,000,000</td>\n",
       "      <td>2,787,965,087</td>\n",
       "    </tr>\n",
       "    <tr>\n",
       "      <th>1</th>\n",
       "      <td>300000000</td>\n",
       "      <td>[{\"id\": 12, \"name\": \"Adventure\"}, {\"id\": 14, \"...</td>\n",
       "      <td>http://disney.go.com/disneypictures/pirates/</td>\n",
       "      <td>285</td>\n",
       "      <td>[{\"id\": 270, \"name\": \"ocean\"}, {\"id\": 726, \"na...</td>\n",
       "      <td>en</td>\n",
       "      <td>Pirates of the Caribbean: At World's End</td>\n",
       "      <td>Captain Barbossa, long believed to be dead, ha...</td>\n",
       "      <td>139.082615</td>\n",
       "      <td>[{\"name\": \"Walt Disney Pictures\", \"id\": 2}, {\"...</td>\n",
       "      <td>...</td>\n",
       "      <td>961000000</td>\n",
       "      <td>169.0</td>\n",
       "      <td>[{\"iso_639_1\": \"en\", \"name\": \"English\"}]</td>\n",
       "      <td>Released</td>\n",
       "      <td>At the end of the world, the adventure begins.</td>\n",
       "      <td>Pirates of the Caribbean: At World's End</td>\n",
       "      <td>6.9</td>\n",
       "      <td>4500</td>\n",
       "      <td>300,000,000</td>\n",
       "      <td>961,000,000</td>\n",
       "    </tr>\n",
       "    <tr>\n",
       "      <th>2</th>\n",
       "      <td>245000000</td>\n",
       "      <td>[{\"id\": 28, \"name\": \"Action\"}, {\"id\": 12, \"nam...</td>\n",
       "      <td>http://www.sonypictures.com/movies/spectre/</td>\n",
       "      <td>206647</td>\n",
       "      <td>[{\"id\": 470, \"name\": \"spy\"}, {\"id\": 818, \"name...</td>\n",
       "      <td>en</td>\n",
       "      <td>Spectre</td>\n",
       "      <td>A cryptic message from Bond’s past sends him o...</td>\n",
       "      <td>107.376788</td>\n",
       "      <td>[{\"name\": \"Columbia Pictures\", \"id\": 5}, {\"nam...</td>\n",
       "      <td>...</td>\n",
       "      <td>880674609</td>\n",
       "      <td>148.0</td>\n",
       "      <td>[{\"iso_639_1\": \"fr\", \"name\": \"Fran\\u00e7ais\"},...</td>\n",
       "      <td>Released</td>\n",
       "      <td>A Plan No One Escapes</td>\n",
       "      <td>Spectre</td>\n",
       "      <td>6.3</td>\n",
       "      <td>4466</td>\n",
       "      <td>245,000,000</td>\n",
       "      <td>880,674,609</td>\n",
       "    </tr>\n",
       "    <tr>\n",
       "      <th>3</th>\n",
       "      <td>250000000</td>\n",
       "      <td>[{\"id\": 28, \"name\": \"Action\"}, {\"id\": 80, \"nam...</td>\n",
       "      <td>http://www.thedarkknightrises.com/</td>\n",
       "      <td>49026</td>\n",
       "      <td>[{\"id\": 849, \"name\": \"dc comics\"}, {\"id\": 853,...</td>\n",
       "      <td>en</td>\n",
       "      <td>The Dark Knight Rises</td>\n",
       "      <td>Following the death of District Attorney Harve...</td>\n",
       "      <td>112.312950</td>\n",
       "      <td>[{\"name\": \"Legendary Pictures\", \"id\": 923}, {\"...</td>\n",
       "      <td>...</td>\n",
       "      <td>1084939099</td>\n",
       "      <td>165.0</td>\n",
       "      <td>[{\"iso_639_1\": \"en\", \"name\": \"English\"}]</td>\n",
       "      <td>Released</td>\n",
       "      <td>The Legend Ends</td>\n",
       "      <td>The Dark Knight Rises</td>\n",
       "      <td>7.6</td>\n",
       "      <td>9106</td>\n",
       "      <td>250,000,000</td>\n",
       "      <td>1,084,939,099</td>\n",
       "    </tr>\n",
       "    <tr>\n",
       "      <th>4</th>\n",
       "      <td>260000000</td>\n",
       "      <td>[{\"id\": 28, \"name\": \"Action\"}, {\"id\": 12, \"nam...</td>\n",
       "      <td>http://movies.disney.com/john-carter</td>\n",
       "      <td>49529</td>\n",
       "      <td>[{\"id\": 818, \"name\": \"based on novel\"}, {\"id\":...</td>\n",
       "      <td>en</td>\n",
       "      <td>John Carter</td>\n",
       "      <td>John Carter is a war-weary, former military ca...</td>\n",
       "      <td>43.926995</td>\n",
       "      <td>[{\"name\": \"Walt Disney Pictures\", \"id\": 2}]</td>\n",
       "      <td>...</td>\n",
       "      <td>284139100</td>\n",
       "      <td>132.0</td>\n",
       "      <td>[{\"iso_639_1\": \"en\", \"name\": \"English\"}]</td>\n",
       "      <td>Released</td>\n",
       "      <td>Lost in our world, found in another.</td>\n",
       "      <td>John Carter</td>\n",
       "      <td>6.1</td>\n",
       "      <td>2124</td>\n",
       "      <td>260,000,000</td>\n",
       "      <td>284,139,100</td>\n",
       "    </tr>\n",
       "  </tbody>\n",
       "</table>\n",
       "<p>5 rows × 22 columns</p>\n",
       "</div>"
      ],
      "text/plain": [
       "      budget                                             genres  \\\n",
       "0  237000000  [{\"id\": 28, \"name\": \"Action\"}, {\"id\": 12, \"nam...   \n",
       "1  300000000  [{\"id\": 12, \"name\": \"Adventure\"}, {\"id\": 14, \"...   \n",
       "2  245000000  [{\"id\": 28, \"name\": \"Action\"}, {\"id\": 12, \"nam...   \n",
       "3  250000000  [{\"id\": 28, \"name\": \"Action\"}, {\"id\": 80, \"nam...   \n",
       "4  260000000  [{\"id\": 28, \"name\": \"Action\"}, {\"id\": 12, \"nam...   \n",
       "\n",
       "                                       homepage      id  \\\n",
       "0                   http://www.avatarmovie.com/   19995   \n",
       "1  http://disney.go.com/disneypictures/pirates/     285   \n",
       "2   http://www.sonypictures.com/movies/spectre/  206647   \n",
       "3            http://www.thedarkknightrises.com/   49026   \n",
       "4          http://movies.disney.com/john-carter   49529   \n",
       "\n",
       "                                            keywords original_language  \\\n",
       "0  [{\"id\": 1463, \"name\": \"culture clash\"}, {\"id\":...                en   \n",
       "1  [{\"id\": 270, \"name\": \"ocean\"}, {\"id\": 726, \"na...                en   \n",
       "2  [{\"id\": 470, \"name\": \"spy\"}, {\"id\": 818, \"name...                en   \n",
       "3  [{\"id\": 849, \"name\": \"dc comics\"}, {\"id\": 853,...                en   \n",
       "4  [{\"id\": 818, \"name\": \"based on novel\"}, {\"id\":...                en   \n",
       "\n",
       "                             original_title  \\\n",
       "0                                    Avatar   \n",
       "1  Pirates of the Caribbean: At World's End   \n",
       "2                                   Spectre   \n",
       "3                     The Dark Knight Rises   \n",
       "4                               John Carter   \n",
       "\n",
       "                                            overview  popularity  \\\n",
       "0  In the 22nd century, a paraplegic Marine is di...  150.437577   \n",
       "1  Captain Barbossa, long believed to be dead, ha...  139.082615   \n",
       "2  A cryptic message from Bond’s past sends him o...  107.376788   \n",
       "3  Following the death of District Attorney Harve...  112.312950   \n",
       "4  John Carter is a war-weary, former military ca...   43.926995   \n",
       "\n",
       "                                production_companies  ...     revenue runtime  \\\n",
       "0  [{\"name\": \"Ingenious Film Partners\", \"id\": 289...  ...  2787965087   162.0   \n",
       "1  [{\"name\": \"Walt Disney Pictures\", \"id\": 2}, {\"...  ...   961000000   169.0   \n",
       "2  [{\"name\": \"Columbia Pictures\", \"id\": 5}, {\"nam...  ...   880674609   148.0   \n",
       "3  [{\"name\": \"Legendary Pictures\", \"id\": 923}, {\"...  ...  1084939099   165.0   \n",
       "4        [{\"name\": \"Walt Disney Pictures\", \"id\": 2}]  ...   284139100   132.0   \n",
       "\n",
       "                                    spoken_languages    status  \\\n",
       "0  [{\"iso_639_1\": \"en\", \"name\": \"English\"}, {\"iso...  Released   \n",
       "1           [{\"iso_639_1\": \"en\", \"name\": \"English\"}]  Released   \n",
       "2  [{\"iso_639_1\": \"fr\", \"name\": \"Fran\\u00e7ais\"},...  Released   \n",
       "3           [{\"iso_639_1\": \"en\", \"name\": \"English\"}]  Released   \n",
       "4           [{\"iso_639_1\": \"en\", \"name\": \"English\"}]  Released   \n",
       "\n",
       "                                          tagline  \\\n",
       "0                     Enter the World of Pandora.   \n",
       "1  At the end of the world, the adventure begins.   \n",
       "2                           A Plan No One Escapes   \n",
       "3                                 The Legend Ends   \n",
       "4            Lost in our world, found in another.   \n",
       "\n",
       "                                      title vote_average vote_count  \\\n",
       "0                                    Avatar          7.2      11800   \n",
       "1  Pirates of the Caribbean: At World's End          6.9       4500   \n",
       "2                                   Spectre          6.3       4466   \n",
       "3                     The Dark Knight Rises          7.6       9106   \n",
       "4                               John Carter          6.1       2124   \n",
       "\n",
       "         Custo        Receita  \n",
       "0  237,000,000  2,787,965,087  \n",
       "1  300,000,000    961,000,000  \n",
       "2  245,000,000    880,674,609  \n",
       "3  250,000,000  1,084,939,099  \n",
       "4  260,000,000    284,139,100  \n",
       "\n",
       "[5 rows x 22 columns]"
      ]
     },
     "execution_count": 11,
     "metadata": {},
     "output_type": "execute_result"
    }
   ],
   "source": [
    "df = pd.read_csv(\"tmdb_5000_movies.csv\")\n",
    "\n",
    "#df.rename(columns={'budget': 'Custo', 'revenue': 'Receita'}, inplace=True)\n",
    "\n",
    "df['Custo'] = df.budget\n",
    "df['Receita'] = df.revenue\n",
    "\n",
    "df.Custo = df.Custo.apply(\"{:,}\".format)\n",
    "df.Receita = df.Receita.apply(\"{:,}\".format)\n",
    "\n",
    "df.head()"
   ]
  },
  {
   "cell_type": "code",
   "execution_count": 7,
   "metadata": {},
   "outputs": [
    {
     "name": "stdout",
     "output_type": "stream",
     "text": [
      "Número de filmes:  4803\n"
     ]
    }
   ],
   "source": [
    "print(\"Número de filmes: \",len(df))"
   ]
  },
  {
   "cell_type": "code",
   "execution_count": 8,
   "metadata": {},
   "outputs": [
    {
     "data": {
      "text/plain": [
       "20"
      ]
     },
     "execution_count": 8,
     "metadata": {},
     "output_type": "execute_result"
    }
   ],
   "source": [
    "len(df.columns)"
   ]
  },
  {
   "cell_type": "code",
   "execution_count": 9,
   "metadata": {},
   "outputs": [
    {
     "data": {
      "text/plain": [
       "Index(['Custo', 'genres', 'homepage', 'id', 'keywords', 'original_language',\n",
       "       'original_title', 'overview', 'popularity', 'production_companies',\n",
       "       'production_countries', 'release_date', 'Receita', 'runtime',\n",
       "       'spoken_languages', 'status', 'tagline', 'title', 'vote_average',\n",
       "       'vote_count'],\n",
       "      dtype='object')"
      ]
     },
     "execution_count": 9,
     "metadata": {},
     "output_type": "execute_result"
    }
   ],
   "source": [
    "df.columns"
   ]
  },
  {
   "cell_type": "markdown",
   "metadata": {},
   "source": [
    "### Cenário 1 - Filmes"
   ]
  },
  {
   "cell_type": "code",
   "execution_count": 12,
   "metadata": {},
   "outputs": [
    {
     "data": {
      "image/png": "[encoded data removed]",
      "text/plain": [
       "<Figure size 432x288 with 1 Axes>"
      ]
     },
     "metadata": {
      "needs_background": "light"
     },
     "output_type": "display_data"
    }
   ],
   "source": [
    "# budget - custo do filme\n",
    "# revenue - receita do filme\n",
    "df[\"lucro\"] = (df.loc[:, \"revenue\"] - df.loc[:, \"budget\"])/1000000\n",
    "plt.scatter( df.loc[:, \"popularity\"],  df.loc[:, \"lucro\"], \n",
    "             c=\"b\")\n",
    "plt.title(\"Filmes por Lucro/Popularidade\")\n",
    "plt.xlabel(\"Lucro (em Milhões)\")\n",
    "plt.ylabel(\"Popularidade\")\n",
    "plt.show()"
   ]
  },
  {
   "cell_type": "code",
   "execution_count": 13,
   "metadata": {},
   "outputs": [
    {
     "data": {
      "text/html": [
       "<div>\n",
       "<style scoped>\n",
       "    .dataframe tbody tr th:only-of-type {\n",
       "        vertical-align: middle;\n",
       "    }\n",
       "\n",
       "    .dataframe tbody tr th {\n",
       "        vertical-align: top;\n",
       "    }\n",
       "\n",
       "    .dataframe thead th {\n",
       "        text-align: right;\n",
       "    }\n",
       "</style>\n",
       "<table border=\"1\" class=\"dataframe\">\n",
       "  <thead>\n",
       "    <tr style=\"text-align: right;\">\n",
       "      <th></th>\n",
       "      <th>popularity</th>\n",
       "      <th>lucro</th>\n",
       "    </tr>\n",
       "  </thead>\n",
       "  <tbody>\n",
       "    <tr>\n",
       "      <th>0</th>\n",
       "      <td>150.437577</td>\n",
       "      <td>2550.965087</td>\n",
       "    </tr>\n",
       "    <tr>\n",
       "      <th>1</th>\n",
       "      <td>139.082615</td>\n",
       "      <td>661.000000</td>\n",
       "    </tr>\n",
       "    <tr>\n",
       "      <th>2</th>\n",
       "      <td>107.376788</td>\n",
       "      <td>635.674609</td>\n",
       "    </tr>\n",
       "    <tr>\n",
       "      <th>3</th>\n",
       "      <td>112.312950</td>\n",
       "      <td>834.939099</td>\n",
       "    </tr>\n",
       "    <tr>\n",
       "      <th>4</th>\n",
       "      <td>43.926995</td>\n",
       "      <td>24.139100</td>\n",
       "    </tr>\n",
       "  </tbody>\n",
       "</table>\n",
       "</div>"
      ],
      "text/plain": [
       "   popularity        lucro\n",
       "0  150.437577  2550.965087\n",
       "1  139.082615   661.000000\n",
       "2  107.376788   635.674609\n",
       "3  112.312950   834.939099\n",
       "4   43.926995    24.139100"
      ]
     },
     "execution_count": 13,
     "metadata": {},
     "output_type": "execute_result"
    }
   ],
   "source": [
    "# Clusterização\n",
    "from sklearn.cluster import KMeans\n",
    "X = df.loc[:, [\"popularity\", \"lucro\"]]\n",
    "X.head()"
   ]
  },
  {
   "cell_type": "code",
   "execution_count": 14,
   "metadata": {},
   "outputs": [
    {
     "data": {
      "text/html": [
       "<div>\n",
       "<style scoped>\n",
       "    .dataframe tbody tr th:only-of-type {\n",
       "        vertical-align: middle;\n",
       "    }\n",
       "\n",
       "    .dataframe tbody tr th {\n",
       "        vertical-align: top;\n",
       "    }\n",
       "\n",
       "    .dataframe thead th {\n",
       "        text-align: right;\n",
       "    }\n",
       "</style>\n",
       "<table border=\"1\" class=\"dataframe\">\n",
       "  <thead>\n",
       "    <tr style=\"text-align: right;\">\n",
       "      <th></th>\n",
       "      <th>popularity</th>\n",
       "      <th>lucro</th>\n",
       "      <th>cluster</th>\n",
       "    </tr>\n",
       "  </thead>\n",
       "  <tbody>\n",
       "    <tr>\n",
       "      <th>0</th>\n",
       "      <td>150.437577</td>\n",
       "      <td>2550.965087</td>\n",
       "      <td>2</td>\n",
       "    </tr>\n",
       "    <tr>\n",
       "      <th>1</th>\n",
       "      <td>139.082615</td>\n",
       "      <td>661.000000</td>\n",
       "      <td>2</td>\n",
       "    </tr>\n",
       "    <tr>\n",
       "      <th>2</th>\n",
       "      <td>107.376788</td>\n",
       "      <td>635.674609</td>\n",
       "      <td>2</td>\n",
       "    </tr>\n",
       "    <tr>\n",
       "      <th>3</th>\n",
       "      <td>112.312950</td>\n",
       "      <td>834.939099</td>\n",
       "      <td>2</td>\n",
       "    </tr>\n",
       "    <tr>\n",
       "      <th>4</th>\n",
       "      <td>43.926995</td>\n",
       "      <td>24.139100</td>\n",
       "      <td>0</td>\n",
       "    </tr>\n",
       "  </tbody>\n",
       "</table>\n",
       "</div>"
      ],
      "text/plain": [
       "   popularity        lucro  cluster\n",
       "0  150.437577  2550.965087        2\n",
       "1  139.082615   661.000000        2\n",
       "2  107.376788   635.674609        2\n",
       "3  112.312950   834.939099        2\n",
       "4   43.926995    24.139100        0"
      ]
     },
     "execution_count": 14,
     "metadata": {},
     "output_type": "execute_result"
    }
   ],
   "source": [
    "y_pred = KMeans(n_clusters=3).fit_predict(X) \n",
    "df[\"cluster\"] = y_pred\n",
    "df.loc[ :, [\"popularity\", \"lucro\", 'cluster']].head()"
   ]
  },
  {
   "cell_type": "code",
   "execution_count": 15,
   "metadata": {
    "scrolled": true
   },
   "outputs": [
    {
     "data": {
      "image/png": "[encoded data removed]",
      "text/plain": [
       "<Figure size 432x288 with 2 Axes>"
      ]
     },
     "metadata": {},
     "output_type": "display_data"
    }
   ],
   "source": [
    "matplotlib.style.use(\"ggplot\")\n",
    "\n",
    "fig = plt.figure()\n",
    "ax = fig.add_subplot(111)\n",
    "\n",
    "scatter = ax.scatter( df.loc[:, \"popularity\"], df.loc[:, \"lucro\"], c=df[\"cluster\"], s=100)\n",
    "plt.title(\"Filmes por Lucro/Popularidade\")\n",
    "plt.xlabel(\"Lucro (em Milhões)\")\n",
    "plt.ylabel(\"Popularidade\")\n",
    "plt.colorbar(scatter)\n",
    "ax.set_aspect('auto')\n",
    "#plt.colorbar(label=y_pred)\n",
    "#plt.legend()\n",
    "\n",
    "plt.show()"
   ]
  },
  {
   "cell_type": "code",
   "execution_count": 16,
   "metadata": {},
   "outputs": [],
   "source": [
    "def plot_cluster(df, centroids, xdata_name, ydata_name, title, xlabel, ylabel):\n",
    "\n",
    "    # Set style of scatterplot\n",
    "    sns.set_context(\"notebook\", font_scale=1.1)\n",
    "    sns.set_style(\"ticks\")\n",
    "    \n",
    "    # Create scatterplot of dataframe\n",
    "    sns.lmplot(xdata_name, # Horizontal axis\n",
    "               ydata_name, # Vertical axis\n",
    "               data=df, # Data source\n",
    "               fit_reg=False, # Don't fix a regression line\n",
    "               hue=\"cluster\")\n",
    "    \n",
    "    plt.scatter(centroids[:, 0], centroids[:, 1],\n",
    "            marker='x', \n",
    "            linewidths=3,\n",
    "            color='k',)\n",
    "\n",
    "    \n",
    "    # Set title\n",
    "    plt.title(title)\n",
    "    # Set x-axis label\n",
    "    plt.xlabel(xlabel)\n",
    "    # Set y-axis label\n",
    "    plt.ylabel(ylabel)\n",
    "    plt.show()"
   ]
  },
  {
   "cell_type": "code",
   "execution_count": 17,
   "metadata": {},
   "outputs": [
    {
     "data": {
      "image/png": "[encoded data removed]",
      "text/plain": [
       "<Figure size 410.435x360 with 1 Axes>"
      ]
     },
     "metadata": {},
     "output_type": "display_data"
    }
   ],
   "source": [
    "n_clusters = 3\n",
    "kmeans = KMeans(n_clusters).fit(X)\n",
    "ypred = KMeans(n_clusters).fit_predict(X)\n",
    "df[\"cluster\"] = y_pred\n",
    "# Plot the centroids as a white X\n",
    "centroids = kmeans.cluster_centers_\n",
    "plot_cluster(df, centroids, \"popularity\", \"lucro\", title = \"Filmes por Lucro/Popularidade\", \n",
    "             xlabel =  \"Lucro (em Milhões)\", ylabel = \"Popularidade\" )"
   ]
  },
  {
   "cell_type": "code",
   "execution_count": 19,
   "metadata": {},
   "outputs": [
    {
     "data": {
      "text/html": [
       "<div>\n",
       "<style scoped>\n",
       "    .dataframe tbody tr th:only-of-type {\n",
       "        vertical-align: middle;\n",
       "    }\n",
       "\n",
       "    .dataframe tbody tr th {\n",
       "        vertical-align: top;\n",
       "    }\n",
       "\n",
       "    .dataframe thead th {\n",
       "        text-align: right;\n",
       "    }\n",
       "</style>\n",
       "<table border=\"1\" class=\"dataframe\">\n",
       "  <thead>\n",
       "    <tr style=\"text-align: right;\">\n",
       "      <th></th>\n",
       "      <th>homepage</th>\n",
       "      <th>popularity</th>\n",
       "      <th>lucro</th>\n",
       "      <th>cluster</th>\n",
       "    </tr>\n",
       "  </thead>\n",
       "  <tbody>\n",
       "    <tr>\n",
       "      <th>0</th>\n",
       "      <td>http://www.avatarmovie.com/</td>\n",
       "      <td>150</td>\n",
       "      <td>2,551</td>\n",
       "      <td>2</td>\n",
       "    </tr>\n",
       "    <tr>\n",
       "      <th>1</th>\n",
       "      <td>http://disney.go.com/disneypictures/pirates/</td>\n",
       "      <td>139</td>\n",
       "      <td>661</td>\n",
       "      <td>2</td>\n",
       "    </tr>\n",
       "    <tr>\n",
       "      <th>2</th>\n",
       "      <td>http://www.sonypictures.com/movies/spectre/</td>\n",
       "      <td>107</td>\n",
       "      <td>636</td>\n",
       "      <td>2</td>\n",
       "    </tr>\n",
       "    <tr>\n",
       "      <th>3</th>\n",
       "      <td>http://www.thedarkknightrises.com/</td>\n",
       "      <td>112</td>\n",
       "      <td>835</td>\n",
       "      <td>2</td>\n",
       "    </tr>\n",
       "    <tr>\n",
       "      <th>4</th>\n",
       "      <td>http://movies.disney.com/john-carter</td>\n",
       "      <td>44</td>\n",
       "      <td>24</td>\n",
       "      <td>0</td>\n",
       "    </tr>\n",
       "  </tbody>\n",
       "</table>\n",
       "</div>"
      ],
      "text/plain": [
       "                                       homepage  popularity  lucro  cluster\n",
       "0                   http://www.avatarmovie.com/         150  2,551        2\n",
       "1  http://disney.go.com/disneypictures/pirates/         139    661        2\n",
       "2   http://www.sonypictures.com/movies/spectre/         107    636        2\n",
       "3            http://www.thedarkknightrises.com/         112    835        2\n",
       "4          http://movies.disney.com/john-carter          44     24        0"
      ]
     },
     "execution_count": 19,
     "metadata": {},
     "output_type": "execute_result"
    }
   ],
   "source": [
    "pd.options.display.float_format = '{:,.0f}'.format\n",
    "df.loc[:,[\"homepage\",\"popularity\",\"lucro\", \"cluster\"]].head()"
   ]
  },
  {
   "cell_type": "code",
   "execution_count": 20,
   "metadata": {},
   "outputs": [
    {
     "data": {
      "image/png": "[encoded data removed]",
      "text/plain": [
       "<Figure size 410.435x360 with 1 Axes>"
      ]
     },
     "metadata": {},
     "output_type": "display_data"
    }
   ],
   "source": [
    "n_clusters = 4\n",
    "kmeans = KMeans(n_clusters).fit(X)\n",
    "y_pred = KMeans(n_clusters=4).fit_predict(X)\n",
    "#ypred = KMeans(n_clusters=4).fit_predict(X)\n",
    "\n",
    "#y_pred = KMeans(n_clusters=2, random_state=100).fit_predict(X)\n",
    "\n",
    "df[\"cluster\"] = y_pred\n",
    "\n",
    "#y_pred = KMeans(n_clusters=3).fit_predict(X)\n",
    "#df[\"cluster\"] = y_pred\n",
    "\n",
    "\n",
    "# Plot the centroids as a white X\n",
    "centroids = kmeans.cluster_centers_\n",
    "plot_cluster(df, centroids, \"popularity\", \"lucro\", title = \"Filmes por Lucro/Popularidade\", \n",
    "             xlabel =  \"Lucro (em Milhões)\", ylabel = \"Popularidade\" )"
   ]
  },
  {
   "cell_type": "code",
   "execution_count": 21,
   "metadata": {},
   "outputs": [
    {
     "data": {
      "image/png": "[encoded data removed]",
      "text/plain": [
       "<Figure size 410.435x360 with 1 Axes>"
      ]
     },
     "metadata": {},
     "output_type": "display_data"
    }
   ],
   "source": [
    "n_clusters = 5\n",
    "kmeans = KMeans(n_clusters).fit(X)\n",
    "y_pred = KMeans(n_clusters).fit_predict(X)\n",
    "df[\"cluster\"] = y_pred\n",
    "# Plot the centroids as a white X\n",
    "centroids = kmeans.cluster_centers_\n",
    "plot_cluster(df, centroids, \"popularity\", \"lucro\", title = \"Filmes por Lucro/Popularidade\", \n",
    "             xlabel =  \"Lucro (em Milhões)\", ylabel = \"Popularidade\" )"
   ]
  },
  {
   "cell_type": "code",
   "execution_count": 22,
   "metadata": {},
   "outputs": [
    {
     "data": {
      "text/plain": [
       "array([3, 4, 4, 4, 1], dtype=int32)"
      ]
     },
     "execution_count": 22,
     "metadata": {},
     "output_type": "execute_result"
    }
   ],
   "source": [
    "y_pred[:5]"
   ]
  },
  {
   "cell_type": "code",
   "execution_count": 23,
   "metadata": {},
   "outputs": [
    {
     "data": {
      "text/html": [
       "<div>\n",
       "<style scoped>\n",
       "    .dataframe tbody tr th:only-of-type {\n",
       "        vertical-align: middle;\n",
       "    }\n",
       "\n",
       "    .dataframe tbody tr th {\n",
       "        vertical-align: top;\n",
       "    }\n",
       "\n",
       "    .dataframe thead th {\n",
       "        text-align: right;\n",
       "    }\n",
       "</style>\n",
       "<table border=\"1\" class=\"dataframe\">\n",
       "  <thead>\n",
       "    <tr style=\"text-align: right;\">\n",
       "      <th></th>\n",
       "      <th>homepage</th>\n",
       "      <th>popularity</th>\n",
       "      <th>lucro</th>\n",
       "      <th>cluster</th>\n",
       "    </tr>\n",
       "  </thead>\n",
       "  <tbody>\n",
       "    <tr>\n",
       "      <th>0</th>\n",
       "      <td>http://www.avatarmovie.com/</td>\n",
       "      <td>150</td>\n",
       "      <td>2,551</td>\n",
       "      <td>3</td>\n",
       "    </tr>\n",
       "    <tr>\n",
       "      <th>1</th>\n",
       "      <td>http://disney.go.com/disneypictures/pirates/</td>\n",
       "      <td>139</td>\n",
       "      <td>661</td>\n",
       "      <td>4</td>\n",
       "    </tr>\n",
       "    <tr>\n",
       "      <th>2</th>\n",
       "      <td>http://www.sonypictures.com/movies/spectre/</td>\n",
       "      <td>107</td>\n",
       "      <td>636</td>\n",
       "      <td>4</td>\n",
       "    </tr>\n",
       "    <tr>\n",
       "      <th>3</th>\n",
       "      <td>http://www.thedarkknightrises.com/</td>\n",
       "      <td>112</td>\n",
       "      <td>835</td>\n",
       "      <td>4</td>\n",
       "    </tr>\n",
       "    <tr>\n",
       "      <th>4</th>\n",
       "      <td>http://movies.disney.com/john-carter</td>\n",
       "      <td>44</td>\n",
       "      <td>24</td>\n",
       "      <td>1</td>\n",
       "    </tr>\n",
       "  </tbody>\n",
       "</table>\n",
       "</div>"
      ],
      "text/plain": [
       "                                       homepage  popularity  lucro  cluster\n",
       "0                   http://www.avatarmovie.com/         150  2,551        3\n",
       "1  http://disney.go.com/disneypictures/pirates/         139    661        4\n",
       "2   http://www.sonypictures.com/movies/spectre/         107    636        4\n",
       "3            http://www.thedarkknightrises.com/         112    835        4\n",
       "4          http://movies.disney.com/john-carter          44     24        1"
      ]
     },
     "execution_count": 23,
     "metadata": {},
     "output_type": "execute_result"
    }
   ],
   "source": [
    "df.loc[:,[\"homepage\",\"popularity\",\"lucro\", \"cluster\"]].head()"
   ]
  },
  {
   "cell_type": "code",
   "execution_count": 25,
   "metadata": {},
   "outputs": [
    {
     "data": {
      "text/html": [
       "<div>\n",
       "<style scoped>\n",
       "    .dataframe tbody tr th:only-of-type {\n",
       "        vertical-align: middle;\n",
       "    }\n",
       "\n",
       "    .dataframe tbody tr th {\n",
       "        vertical-align: top;\n",
       "    }\n",
       "\n",
       "    .dataframe thead th {\n",
       "        text-align: right;\n",
       "    }\n",
       "</style>\n",
       "<table border=\"1\" class=\"dataframe\">\n",
       "  <thead>\n",
       "    <tr style=\"text-align: right;\">\n",
       "      <th></th>\n",
       "      <th>homepage</th>\n",
       "      <th>popularity</th>\n",
       "      <th>lucro</th>\n",
       "      <th>cluster</th>\n",
       "    </tr>\n",
       "  </thead>\n",
       "  <tbody>\n",
       "    <tr>\n",
       "      <th>0</th>\n",
       "      <td>http://www.avatarmovie.com/</td>\n",
       "      <td>150</td>\n",
       "      <td>2,551</td>\n",
       "      <td>3</td>\n",
       "    </tr>\n",
       "    <tr>\n",
       "      <th>25</th>\n",
       "      <td>http://www.titanicmovie.com</td>\n",
       "      <td>100</td>\n",
       "      <td>1,645</td>\n",
       "      <td>3</td>\n",
       "    </tr>\n",
       "    <tr>\n",
       "      <th>28</th>\n",
       "      <td>http://www.jurassicworld.com/</td>\n",
       "      <td>419</td>\n",
       "      <td>1,364</td>\n",
       "      <td>3</td>\n",
       "    </tr>\n",
       "    <tr>\n",
       "      <th>44</th>\n",
       "      <td>http://www.furious7.com/</td>\n",
       "      <td>102</td>\n",
       "      <td>1,316</td>\n",
       "      <td>3</td>\n",
       "    </tr>\n",
       "    <tr>\n",
       "      <th>16</th>\n",
       "      <td>http://marvel.com/avengers_movie/</td>\n",
       "      <td>144</td>\n",
       "      <td>1,300</td>\n",
       "      <td>3</td>\n",
       "    </tr>\n",
       "    <tr>\n",
       "      <th>7</th>\n",
       "      <td>http://marvel.com/movies/movie/193/avengers_ag...</td>\n",
       "      <td>134</td>\n",
       "      <td>1,125</td>\n",
       "      <td>3</td>\n",
       "    </tr>\n",
       "    <tr>\n",
       "      <th>124</th>\n",
       "      <td>http://movies.disney.com/frozen</td>\n",
       "      <td>165</td>\n",
       "      <td>1,124</td>\n",
       "      <td>3</td>\n",
       "    </tr>\n",
       "    <tr>\n",
       "      <th>546</th>\n",
       "      <td>http://www.minionsmovie.com/</td>\n",
       "      <td>876</td>\n",
       "      <td>1,083</td>\n",
       "      <td>3</td>\n",
       "    </tr>\n",
       "    <tr>\n",
       "      <th>329</th>\n",
       "      <td>http://www.lordoftherings.net</td>\n",
       "      <td>124</td>\n",
       "      <td>1,025</td>\n",
       "      <td>4</td>\n",
       "    </tr>\n",
       "    <tr>\n",
       "      <th>31</th>\n",
       "      <td>http://marvel.com/ironman3</td>\n",
       "      <td>78</td>\n",
       "      <td>1,015</td>\n",
       "      <td>4</td>\n",
       "    </tr>\n",
       "  </tbody>\n",
       "</table>\n",
       "</div>"
      ],
      "text/plain": [
       "                                              homepage  popularity  lucro  \\\n",
       "0                          http://www.avatarmovie.com/         150  2,551   \n",
       "25                         http://www.titanicmovie.com         100  1,645   \n",
       "28                       http://www.jurassicworld.com/         419  1,364   \n",
       "44                            http://www.furious7.com/         102  1,316   \n",
       "16                   http://marvel.com/avengers_movie/         144  1,300   \n",
       "7    http://marvel.com/movies/movie/193/avengers_ag...         134  1,125   \n",
       "124                    http://movies.disney.com/frozen         165  1,124   \n",
       "546                       http://www.minionsmovie.com/         876  1,083   \n",
       "329                      http://www.lordoftherings.net         124  1,025   \n",
       "31                          http://marvel.com/ironman3          78  1,015   \n",
       "\n",
       "     cluster  \n",
       "0          3  \n",
       "25         3  \n",
       "28         3  \n",
       "44         3  \n",
       "16         3  \n",
       "7          3  \n",
       "124        3  \n",
       "546        3  \n",
       "329        4  \n",
       "31         4  "
      ]
     },
     "execution_count": 25,
     "metadata": {},
     "output_type": "execute_result"
    }
   ],
   "source": [
    "# James Cameron lucra US$ 350 milhões com 'Avatar ... \n",
    "# Arrecadou US$ 97 milhões com \"Titanic\"\n",
    "df.loc[:,[\"homepage\",\"popularity\",\"lucro\", \"cluster\"]].sort_values(by=\"lucro\", ascending=False).head(10)"
   ]
  },
  {
   "cell_type": "markdown",
   "metadata": {},
   "source": [
    "### Predição de novos dados"
   ]
  },
  {
   "cell_type": "code",
   "execution_count": 26,
   "metadata": {},
   "outputs": [
    {
     "data": {
      "text/html": [
       "<div>\n",
       "<style scoped>\n",
       "    .dataframe tbody tr th:only-of-type {\n",
       "        vertical-align: middle;\n",
       "    }\n",
       "\n",
       "    .dataframe tbody tr th {\n",
       "        vertical-align: top;\n",
       "    }\n",
       "\n",
       "    .dataframe thead th {\n",
       "        text-align: right;\n",
       "    }\n",
       "</style>\n",
       "<table border=\"1\" class=\"dataframe\">\n",
       "  <thead>\n",
       "    <tr style=\"text-align: right;\">\n",
       "      <th></th>\n",
       "      <th>homepage</th>\n",
       "      <th>popularity</th>\n",
       "      <th>lucro</th>\n",
       "      <th>cluster</th>\n",
       "    </tr>\n",
       "  </thead>\n",
       "  <tbody>\n",
       "    <tr>\n",
       "      <th>0</th>\n",
       "      <td>http://www.avatarmovie.com/</td>\n",
       "      <td>150</td>\n",
       "      <td>2,551</td>\n",
       "      <td>3</td>\n",
       "    </tr>\n",
       "    <tr>\n",
       "      <th>1</th>\n",
       "      <td>http://disney.go.com/disneypictures/pirates/</td>\n",
       "      <td>139</td>\n",
       "      <td>661</td>\n",
       "      <td>1</td>\n",
       "    </tr>\n",
       "    <tr>\n",
       "      <th>2</th>\n",
       "      <td>http://www.sonypictures.com/movies/spectre/</td>\n",
       "      <td>107</td>\n",
       "      <td>636</td>\n",
       "      <td>1</td>\n",
       "    </tr>\n",
       "    <tr>\n",
       "      <th>3</th>\n",
       "      <td>http://www.thedarkknightrises.com/</td>\n",
       "      <td>112</td>\n",
       "      <td>835</td>\n",
       "      <td>1</td>\n",
       "    </tr>\n",
       "    <tr>\n",
       "      <th>4</th>\n",
       "      <td>http://movies.disney.com/john-carter</td>\n",
       "      <td>44</td>\n",
       "      <td>24</td>\n",
       "      <td>0</td>\n",
       "    </tr>\n",
       "  </tbody>\n",
       "</table>\n",
       "</div>"
      ],
      "text/plain": [
       "                                       homepage  popularity  lucro  cluster\n",
       "0                   http://www.avatarmovie.com/         150  2,551        3\n",
       "1  http://disney.go.com/disneypictures/pirates/         139    661        1\n",
       "2   http://www.sonypictures.com/movies/spectre/         107    636        1\n",
       "3            http://www.thedarkknightrises.com/         112    835        1\n",
       "4          http://movies.disney.com/john-carter          44     24        0"
      ]
     },
     "execution_count": 26,
     "metadata": {},
     "output_type": "execute_result"
    }
   ],
   "source": [
    "y_pred = KMeans(n_clusters, random_state=0).fit(X)\n",
    "df[\"cluster\"] = y_pred.labels_\n",
    "df.loc[:,[\"homepage\",\"popularity\",\"lucro\", \"cluster\"]].head()"
   ]
  },
  {
   "cell_type": "code",
   "execution_count": 27,
   "metadata": {},
   "outputs": [
    {
     "data": {
      "text/html": [
       "<div>\n",
       "<style scoped>\n",
       "    .dataframe tbody tr th:only-of-type {\n",
       "        vertical-align: middle;\n",
       "    }\n",
       "\n",
       "    .dataframe tbody tr th {\n",
       "        vertical-align: top;\n",
       "    }\n",
       "\n",
       "    .dataframe thead th {\n",
       "        text-align: right;\n",
       "    }\n",
       "</style>\n",
       "<table border=\"1\" class=\"dataframe\">\n",
       "  <thead>\n",
       "    <tr style=\"text-align: right;\">\n",
       "      <th></th>\n",
       "      <th>homepage</th>\n",
       "      <th>popularity</th>\n",
       "      <th>lucro</th>\n",
       "      <th>cluster</th>\n",
       "    </tr>\n",
       "  </thead>\n",
       "  <tbody>\n",
       "    <tr>\n",
       "      <th>0</th>\n",
       "      <td>http://www.avatarmovie.com/</td>\n",
       "      <td>150</td>\n",
       "      <td>2,551</td>\n",
       "      <td>3</td>\n",
       "    </tr>\n",
       "    <tr>\n",
       "      <th>1</th>\n",
       "      <td>http://disney.go.com/disneypictures/pirates/</td>\n",
       "      <td>139</td>\n",
       "      <td>661</td>\n",
       "      <td>1</td>\n",
       "    </tr>\n",
       "    <tr>\n",
       "      <th>2</th>\n",
       "      <td>http://www.sonypictures.com/movies/spectre/</td>\n",
       "      <td>107</td>\n",
       "      <td>636</td>\n",
       "      <td>1</td>\n",
       "    </tr>\n",
       "    <tr>\n",
       "      <th>3</th>\n",
       "      <td>http://www.thedarkknightrises.com/</td>\n",
       "      <td>112</td>\n",
       "      <td>835</td>\n",
       "      <td>1</td>\n",
       "    </tr>\n",
       "    <tr>\n",
       "      <th>4</th>\n",
       "      <td>http://movies.disney.com/john-carter</td>\n",
       "      <td>44</td>\n",
       "      <td>24</td>\n",
       "      <td>0</td>\n",
       "    </tr>\n",
       "  </tbody>\n",
       "</table>\n",
       "</div>"
      ],
      "text/plain": [
       "                                       homepage  popularity  lucro  cluster\n",
       "0                   http://www.avatarmovie.com/         150  2,551        3\n",
       "1  http://disney.go.com/disneypictures/pirates/         139    661        1\n",
       "2   http://www.sonypictures.com/movies/spectre/         107    636        1\n",
       "3            http://www.thedarkknightrises.com/         112    835        1\n",
       "4          http://movies.disney.com/john-carter          44     24        0"
      ]
     },
     "execution_count": 27,
     "metadata": {},
     "output_type": "execute_result"
    }
   ],
   "source": [
    "y_pred = KMeans(n_clusters, random_state=0).fit_predict(X)\n",
    "df.loc[:,[\"homepage\",\"popularity\",\"lucro\", \"cluster\"]].head()"
   ]
  },
  {
   "cell_type": "code",
   "execution_count": 28,
   "metadata": {},
   "outputs": [
    {
     "data": {
      "text/plain": [
       "array([3, 1, 0], dtype=int32)"
      ]
     },
     "execution_count": 28,
     "metadata": {},
     "output_type": "execute_result"
    }
   ],
   "source": [
    "kmeans = KMeans(n_clusters=5, random_state=0).fit(X)\n",
    "\n",
    "popularity = 150.437577\n",
    "lucro = 2550.965087\n",
    "kmeans.predict([[popularity, lucro], [130, 500], [43,24]])"
   ]
  },
  {
   "cell_type": "code",
   "execution_count": 30,
   "metadata": {},
   "outputs": [],
   "source": [
    "def plot_new_data_cluster(df, x_new, y_new, centroids, xdata_name, ydata_name, title, xlabel, ylabel):\n",
    "\n",
    "    # Set style of scatterplot\n",
    "    sns.set_context(\"notebook\", font_scale=1.1)\n",
    "    sns.set_style(\"ticks\")\n",
    "    \n",
    "    # Create scatterplot of dataframe\n",
    "    sns.lmplot(xdata_name, # Horizontal axis\n",
    "               ydata_name, # Vertical axis\n",
    "               data=df, # Data source\n",
    "               fit_reg=False, # Don't fix a regression line\n",
    "               hue=\"cluster\")\n",
    "    \n",
    "    plt.scatter(centroids[:, 0], centroids[:, 1],\n",
    "            marker='x', \n",
    "            linewidths=3,\n",
    "            color='k',)\n",
    "\n",
    "    \n",
    "    plt.scatter(x_new, y_new, c='red', marker='x', s=100)\n",
    "    \n",
    "    # Set title\n",
    "    plt.title(title)\n",
    "    # Set x-axis label\n",
    "    plt.xlabel(xlabel)\n",
    "    # Set y-axis label\n",
    "    plt.ylabel(ylabel)\n",
    "    plt.show()"
   ]
  },
  {
   "cell_type": "code",
   "execution_count": 31,
   "metadata": {},
   "outputs": [
    {
     "data": {
      "image/png": "[encoded data removed]",
      "text/plain": [
       "<Figure size 410.435x360 with 1 Axes>"
      ]
     },
     "metadata": {},
     "output_type": "display_data"
    }
   ],
   "source": [
    "n_clusters = 5\n",
    "kmeans = KMeans(n_clusters).fit(X)\n",
    "y_pred = KMeans(n_clusters).fit_predict(X)\n",
    "df[\"cluster\"] = y_pred\n",
    "\n",
    "centroids = kmeans.cluster_centers_\n",
    "\n",
    "# os novos dados\n",
    "popularity = 150.437577\n",
    "lucro = 2550.965087\n",
    "dados_x = [[popularity, lucro], [130, 500], [43,24]]\n",
    "x_new = [x[0] for x in dados_x]\n",
    "y_new = [y[1] for y in dados_x]\n",
    "\n",
    "\n",
    "plot_new_data_cluster(df, x_new, y_new, centroids, \"popularity\", \"lucro\", title = \"Filmes por Lucro/Popularidade\", \n",
    "             xlabel =  \"Lucro (em Milhões)\", ylabel = \"Popularidade\" )"
   ]
  },
  {
   "cell_type": "code",
   "execution_count": 32,
   "metadata": {},
   "outputs": [
    {
     "data": {
      "text/plain": [
       "array([[  36.1848236 ,  109.13415221],\n",
       "       [ 110.70365888,  672.66544345],\n",
       "       [  12.31165159,    1.96210224],\n",
       "       [  60.62386961,  311.71669891],\n",
       "       [ 261.36609725, 1438.4611275 ]])"
      ]
     },
     "execution_count": 32,
     "metadata": {},
     "output_type": "execute_result"
    }
   ],
   "source": [
    "# centróides\n",
    "kmeans.cluster_centers_"
   ]
  },
  {
   "cell_type": "code",
   "execution_count": 33,
   "metadata": {},
   "outputs": [
    {
     "data": {
      "text/plain": [
       "array([4, 1, 1, ..., 2, 2, 2], dtype=int32)"
      ]
     },
     "execution_count": 33,
     "metadata": {},
     "output_type": "execute_result"
    }
   ],
   "source": [
    "kmeans.labels_"
   ]
  },
  {
   "cell_type": "code",
   "execution_count": 34,
   "metadata": {},
   "outputs": [
    {
     "data": {
      "text/plain": [
       "4803"
      ]
     },
     "execution_count": 34,
     "metadata": {},
     "output_type": "execute_result"
    }
   ],
   "source": [
    "len(kmeans.labels_)"
   ]
  },
  {
   "cell_type": "code",
   "execution_count": 35,
   "metadata": {},
   "outputs": [
    {
     "data": {
      "text/html": [
       "<div>\n",
       "<style scoped>\n",
       "    .dataframe tbody tr th:only-of-type {\n",
       "        vertical-align: middle;\n",
       "    }\n",
       "\n",
       "    .dataframe tbody tr th {\n",
       "        vertical-align: top;\n",
       "    }\n",
       "\n",
       "    .dataframe thead th {\n",
       "        text-align: right;\n",
       "    }\n",
       "</style>\n",
       "<table border=\"1\" class=\"dataframe\">\n",
       "  <thead>\n",
       "    <tr style=\"text-align: right;\">\n",
       "      <th></th>\n",
       "      <th>budget</th>\n",
       "      <th>genres</th>\n",
       "      <th>homepage</th>\n",
       "      <th>id</th>\n",
       "      <th>keywords</th>\n",
       "      <th>original_language</th>\n",
       "      <th>original_title</th>\n",
       "      <th>overview</th>\n",
       "      <th>popularity</th>\n",
       "      <th>production_companies</th>\n",
       "      <th>...</th>\n",
       "      <th>spoken_languages</th>\n",
       "      <th>status</th>\n",
       "      <th>tagline</th>\n",
       "      <th>title</th>\n",
       "      <th>vote_average</th>\n",
       "      <th>vote_count</th>\n",
       "      <th>Custo</th>\n",
       "      <th>Receita</th>\n",
       "      <th>lucro</th>\n",
       "      <th>cluster</th>\n",
       "    </tr>\n",
       "  </thead>\n",
       "  <tbody>\n",
       "    <tr>\n",
       "      <th>0</th>\n",
       "      <td>237000000</td>\n",
       "      <td>[{\"id\": 28, \"name\": \"Action\"}, {\"id\": 12, \"nam...</td>\n",
       "      <td>http://www.avatarmovie.com/</td>\n",
       "      <td>19995</td>\n",
       "      <td>[{\"id\": 1463, \"name\": \"culture clash\"}, {\"id\":...</td>\n",
       "      <td>en</td>\n",
       "      <td>Avatar</td>\n",
       "      <td>In the 22nd century, a paraplegic Marine is di...</td>\n",
       "      <td>150</td>\n",
       "      <td>[{\"name\": \"Ingenious Film Partners\", \"id\": 289...</td>\n",
       "      <td>...</td>\n",
       "      <td>[{\"iso_639_1\": \"en\", \"name\": \"English\"}, {\"iso...</td>\n",
       "      <td>Released</td>\n",
       "      <td>Enter the World of Pandora.</td>\n",
       "      <td>Avatar</td>\n",
       "      <td>7</td>\n",
       "      <td>11800</td>\n",
       "      <td>237,000,000</td>\n",
       "      <td>2,787,965,087</td>\n",
       "      <td>2,551</td>\n",
       "      <td>2</td>\n",
       "    </tr>\n",
       "    <tr>\n",
       "      <th>1</th>\n",
       "      <td>300000000</td>\n",
       "      <td>[{\"id\": 12, \"name\": \"Adventure\"}, {\"id\": 14, \"...</td>\n",
       "      <td>http://disney.go.com/disneypictures/pirates/</td>\n",
       "      <td>285</td>\n",
       "      <td>[{\"id\": 270, \"name\": \"ocean\"}, {\"id\": 726, \"na...</td>\n",
       "      <td>en</td>\n",
       "      <td>Pirates of the Caribbean: At World's End</td>\n",
       "      <td>Captain Barbossa, long believed to be dead, ha...</td>\n",
       "      <td>139</td>\n",
       "      <td>[{\"name\": \"Walt Disney Pictures\", \"id\": 2}, {\"...</td>\n",
       "      <td>...</td>\n",
       "      <td>[{\"iso_639_1\": \"en\", \"name\": \"English\"}]</td>\n",
       "      <td>Released</td>\n",
       "      <td>At the end of the world, the adventure begins.</td>\n",
       "      <td>Pirates of the Caribbean: At World's End</td>\n",
       "      <td>7</td>\n",
       "      <td>4500</td>\n",
       "      <td>300,000,000</td>\n",
       "      <td>961,000,000</td>\n",
       "      <td>661</td>\n",
       "      <td>3</td>\n",
       "    </tr>\n",
       "    <tr>\n",
       "      <th>2</th>\n",
       "      <td>245000000</td>\n",
       "      <td>[{\"id\": 28, \"name\": \"Action\"}, {\"id\": 12, \"nam...</td>\n",
       "      <td>http://www.sonypictures.com/movies/spectre/</td>\n",
       "      <td>206647</td>\n",
       "      <td>[{\"id\": 470, \"name\": \"spy\"}, {\"id\": 818, \"name...</td>\n",
       "      <td>en</td>\n",
       "      <td>Spectre</td>\n",
       "      <td>A cryptic message from Bond’s past sends him o...</td>\n",
       "      <td>107</td>\n",
       "      <td>[{\"name\": \"Columbia Pictures\", \"id\": 5}, {\"nam...</td>\n",
       "      <td>...</td>\n",
       "      <td>[{\"iso_639_1\": \"fr\", \"name\": \"Fran\\u00e7ais\"},...</td>\n",
       "      <td>Released</td>\n",
       "      <td>A Plan No One Escapes</td>\n",
       "      <td>Spectre</td>\n",
       "      <td>6</td>\n",
       "      <td>4466</td>\n",
       "      <td>245,000,000</td>\n",
       "      <td>880,674,609</td>\n",
       "      <td>636</td>\n",
       "      <td>3</td>\n",
       "    </tr>\n",
       "    <tr>\n",
       "      <th>3</th>\n",
       "      <td>250000000</td>\n",
       "      <td>[{\"id\": 28, \"name\": \"Action\"}, {\"id\": 80, \"nam...</td>\n",
       "      <td>http://www.thedarkknightrises.com/</td>\n",
       "      <td>49026</td>\n",
       "      <td>[{\"id\": 849, \"name\": \"dc comics\"}, {\"id\": 853,...</td>\n",
       "      <td>en</td>\n",
       "      <td>The Dark Knight Rises</td>\n",
       "      <td>Following the death of District Attorney Harve...</td>\n",
       "      <td>112</td>\n",
       "      <td>[{\"name\": \"Legendary Pictures\", \"id\": 923}, {\"...</td>\n",
       "      <td>...</td>\n",
       "      <td>[{\"iso_639_1\": \"en\", \"name\": \"English\"}]</td>\n",
       "      <td>Released</td>\n",
       "      <td>The Legend Ends</td>\n",
       "      <td>The Dark Knight Rises</td>\n",
       "      <td>8</td>\n",
       "      <td>9106</td>\n",
       "      <td>250,000,000</td>\n",
       "      <td>1,084,939,099</td>\n",
       "      <td>835</td>\n",
       "      <td>3</td>\n",
       "    </tr>\n",
       "    <tr>\n",
       "      <th>4</th>\n",
       "      <td>260000000</td>\n",
       "      <td>[{\"id\": 28, \"name\": \"Action\"}, {\"id\": 12, \"nam...</td>\n",
       "      <td>http://movies.disney.com/john-carter</td>\n",
       "      <td>49529</td>\n",
       "      <td>[{\"id\": 818, \"name\": \"based on novel\"}, {\"id\":...</td>\n",
       "      <td>en</td>\n",
       "      <td>John Carter</td>\n",
       "      <td>John Carter is a war-weary, former military ca...</td>\n",
       "      <td>44</td>\n",
       "      <td>[{\"name\": \"Walt Disney Pictures\", \"id\": 2}]</td>\n",
       "      <td>...</td>\n",
       "      <td>[{\"iso_639_1\": \"en\", \"name\": \"English\"}]</td>\n",
       "      <td>Released</td>\n",
       "      <td>Lost in our world, found in another.</td>\n",
       "      <td>John Carter</td>\n",
       "      <td>6</td>\n",
       "      <td>2124</td>\n",
       "      <td>260,000,000</td>\n",
       "      <td>284,139,100</td>\n",
       "      <td>24</td>\n",
       "      <td>1</td>\n",
       "    </tr>\n",
       "  </tbody>\n",
       "</table>\n",
       "<p>5 rows × 24 columns</p>\n",
       "</div>"
      ],
      "text/plain": [
       "      budget                                             genres  \\\n",
       "0  237000000  [{\"id\": 28, \"name\": \"Action\"}, {\"id\": 12, \"nam...   \n",
       "1  300000000  [{\"id\": 12, \"name\": \"Adventure\"}, {\"id\": 14, \"...   \n",
       "2  245000000  [{\"id\": 28, \"name\": \"Action\"}, {\"id\": 12, \"nam...   \n",
       "3  250000000  [{\"id\": 28, \"name\": \"Action\"}, {\"id\": 80, \"nam...   \n",
       "4  260000000  [{\"id\": 28, \"name\": \"Action\"}, {\"id\": 12, \"nam...   \n",
       "\n",
       "                                       homepage      id  \\\n",
       "0                   http://www.avatarmovie.com/   19995   \n",
       "1  http://disney.go.com/disneypictures/pirates/     285   \n",
       "2   http://www.sonypictures.com/movies/spectre/  206647   \n",
       "3            http://www.thedarkknightrises.com/   49026   \n",
       "4          http://movies.disney.com/john-carter   49529   \n",
       "\n",
       "                                            keywords original_language  \\\n",
       "0  [{\"id\": 1463, \"name\": \"culture clash\"}, {\"id\":...                en   \n",
       "1  [{\"id\": 270, \"name\": \"ocean\"}, {\"id\": 726, \"na...                en   \n",
       "2  [{\"id\": 470, \"name\": \"spy\"}, {\"id\": 818, \"name...                en   \n",
       "3  [{\"id\": 849, \"name\": \"dc comics\"}, {\"id\": 853,...                en   \n",
       "4  [{\"id\": 818, \"name\": \"based on novel\"}, {\"id\":...                en   \n",
       "\n",
       "                             original_title  \\\n",
       "0                                    Avatar   \n",
       "1  Pirates of the Caribbean: At World's End   \n",
       "2                                   Spectre   \n",
       "3                     The Dark Knight Rises   \n",
       "4                               John Carter   \n",
       "\n",
       "                                            overview  popularity  \\\n",
       "0  In the 22nd century, a paraplegic Marine is di...         150   \n",
       "1  Captain Barbossa, long believed to be dead, ha...         139   \n",
       "2  A cryptic message from Bond’s past sends him o...         107   \n",
       "3  Following the death of District Attorney Harve...         112   \n",
       "4  John Carter is a war-weary, former military ca...          44   \n",
       "\n",
       "                                production_companies  ...  \\\n",
       "0  [{\"name\": \"Ingenious Film Partners\", \"id\": 289...  ...   \n",
       "1  [{\"name\": \"Walt Disney Pictures\", \"id\": 2}, {\"...  ...   \n",
       "2  [{\"name\": \"Columbia Pictures\", \"id\": 5}, {\"nam...  ...   \n",
       "3  [{\"name\": \"Legendary Pictures\", \"id\": 923}, {\"...  ...   \n",
       "4        [{\"name\": \"Walt Disney Pictures\", \"id\": 2}]  ...   \n",
       "\n",
       "                                    spoken_languages    status  \\\n",
       "0  [{\"iso_639_1\": \"en\", \"name\": \"English\"}, {\"iso...  Released   \n",
       "1           [{\"iso_639_1\": \"en\", \"name\": \"English\"}]  Released   \n",
       "2  [{\"iso_639_1\": \"fr\", \"name\": \"Fran\\u00e7ais\"},...  Released   \n",
       "3           [{\"iso_639_1\": \"en\", \"name\": \"English\"}]  Released   \n",
       "4           [{\"iso_639_1\": \"en\", \"name\": \"English\"}]  Released   \n",
       "\n",
       "                                          tagline  \\\n",
       "0                     Enter the World of Pandora.   \n",
       "1  At the end of the world, the adventure begins.   \n",
       "2                           A Plan No One Escapes   \n",
       "3                                 The Legend Ends   \n",
       "4            Lost in our world, found in another.   \n",
       "\n",
       "                                      title vote_average vote_count  \\\n",
       "0                                    Avatar            7      11800   \n",
       "1  Pirates of the Caribbean: At World's End            7       4500   \n",
       "2                                   Spectre            6       4466   \n",
       "3                     The Dark Knight Rises            8       9106   \n",
       "4                               John Carter            6       2124   \n",
       "\n",
       "         Custo        Receita  lucro  cluster  \n",
       "0  237,000,000  2,787,965,087  2,551        2  \n",
       "1  300,000,000    961,000,000    661        3  \n",
       "2  245,000,000    880,674,609    636        3  \n",
       "3  250,000,000  1,084,939,099    835        3  \n",
       "4  260,000,000    284,139,100     24        1  \n",
       "\n",
       "[5 rows x 24 columns]"
      ]
     },
     "execution_count": 35,
     "metadata": {},
     "output_type": "execute_result"
    }
   ],
   "source": [
    "df.head()"
   ]
  },
  {
   "cell_type": "code",
   "execution_count": 36,
   "metadata": {},
   "outputs": [
    {
     "data": {
      "text/html": [
       "<div>\n",
       "<style scoped>\n",
       "    .dataframe tbody tr th:only-of-type {\n",
       "        vertical-align: middle;\n",
       "    }\n",
       "\n",
       "    .dataframe tbody tr th {\n",
       "        vertical-align: top;\n",
       "    }\n",
       "\n",
       "    .dataframe thead th {\n",
       "        text-align: right;\n",
       "    }\n",
       "</style>\n",
       "<table border=\"1\" class=\"dataframe\">\n",
       "  <thead>\n",
       "    <tr style=\"text-align: right;\">\n",
       "      <th></th>\n",
       "      <th>budget</th>\n",
       "      <th>genres</th>\n",
       "      <th>homepage</th>\n",
       "      <th>id</th>\n",
       "      <th>keywords</th>\n",
       "      <th>original_language</th>\n",
       "      <th>original_title</th>\n",
       "      <th>overview</th>\n",
       "      <th>popularity</th>\n",
       "      <th>production_companies</th>\n",
       "      <th>...</th>\n",
       "      <th>spoken_languages</th>\n",
       "      <th>status</th>\n",
       "      <th>tagline</th>\n",
       "      <th>title</th>\n",
       "      <th>vote_average</th>\n",
       "      <th>vote_count</th>\n",
       "      <th>Custo</th>\n",
       "      <th>Receita</th>\n",
       "      <th>lucro</th>\n",
       "      <th>cluster</th>\n",
       "    </tr>\n",
       "  </thead>\n",
       "  <tbody>\n",
       "    <tr>\n",
       "      <th>10</th>\n",
       "      <td>270000000</td>\n",
       "      <td>[{\"id\": 12, \"name\": \"Adventure\"}, {\"id\": 14, \"...</td>\n",
       "      <td>http://www.superman.com</td>\n",
       "      <td>1452</td>\n",
       "      <td>[{\"id\": 83, \"name\": \"saving the world\"}, {\"id\"...</td>\n",
       "      <td>en</td>\n",
       "      <td>Superman Returns</td>\n",
       "      <td>Superman returns to discover his 5-year absenc...</td>\n",
       "      <td>58</td>\n",
       "      <td>[{\"name\": \"DC Comics\", \"id\": 429}, {\"name\": \"L...</td>\n",
       "      <td>...</td>\n",
       "      <td>[{\"iso_639_1\": \"en\", \"name\": \"English\"}, {\"iso...</td>\n",
       "      <td>Released</td>\n",
       "      <td>NaN</td>\n",
       "      <td>Superman Returns</td>\n",
       "      <td>5</td>\n",
       "      <td>1400</td>\n",
       "      <td>270,000,000</td>\n",
       "      <td>391,081,192</td>\n",
       "      <td>121</td>\n",
       "      <td>4</td>\n",
       "    </tr>\n",
       "    <tr>\n",
       "      <th>15</th>\n",
       "      <td>225000000</td>\n",
       "      <td>[{\"id\": 12, \"name\": \"Adventure\"}, {\"id\": 10751...</td>\n",
       "      <td>NaN</td>\n",
       "      <td>2454</td>\n",
       "      <td>[{\"id\": 818, \"name\": \"based on novel\"}, {\"id\":...</td>\n",
       "      <td>en</td>\n",
       "      <td>The Chronicles of Narnia: Prince Caspian</td>\n",
       "      <td>One year after their incredible adventures in ...</td>\n",
       "      <td>54</td>\n",
       "      <td>[{\"name\": \"Walt Disney\", \"id\": 5888}, {\"name\":...</td>\n",
       "      <td>...</td>\n",
       "      <td>[{\"iso_639_1\": \"en\", \"name\": \"English\"}]</td>\n",
       "      <td>Released</td>\n",
       "      <td>Hope has a new face.</td>\n",
       "      <td>The Chronicles of Narnia: Prince Caspian</td>\n",
       "      <td>6</td>\n",
       "      <td>1630</td>\n",
       "      <td>225,000,000</td>\n",
       "      <td>419,651,413</td>\n",
       "      <td>195</td>\n",
       "      <td>4</td>\n",
       "    </tr>\n",
       "    <tr>\n",
       "      <th>21</th>\n",
       "      <td>200000000</td>\n",
       "      <td>[{\"id\": 28, \"name\": \"Action\"}, {\"id\": 12, \"nam...</td>\n",
       "      <td>http://www.robinhoodthemovie.com/</td>\n",
       "      <td>20662</td>\n",
       "      <td>[{\"id\": 4147, \"name\": \"robin hood\"}, {\"id\": 43...</td>\n",
       "      <td>en</td>\n",
       "      <td>Robin Hood</td>\n",
       "      <td>When soldier Robin happens upon the dying Robe...</td>\n",
       "      <td>38</td>\n",
       "      <td>[{\"name\": \"Imagine Entertainment\", \"id\": 23}, ...</td>\n",
       "      <td>...</td>\n",
       "      <td>[{\"iso_639_1\": \"en\", \"name\": \"English\"}, {\"iso...</td>\n",
       "      <td>Released</td>\n",
       "      <td>Rise and rise again, until lambs become lions.</td>\n",
       "      <td>Robin Hood</td>\n",
       "      <td>6</td>\n",
       "      <td>1398</td>\n",
       "      <td>200,000,000</td>\n",
       "      <td>310,669,540</td>\n",
       "      <td>111</td>\n",
       "      <td>4</td>\n",
       "    </tr>\n",
       "    <tr>\n",
       "      <th>23</th>\n",
       "      <td>180000000</td>\n",
       "      <td>[{\"id\": 12, \"name\": \"Adventure\"}, {\"id\": 14, \"...</td>\n",
       "      <td>http://www.goldencompassmovie.com/index_german...</td>\n",
       "      <td>2268</td>\n",
       "      <td>[{\"id\": 392, \"name\": \"england\"}, {\"id\": 1461, ...</td>\n",
       "      <td>en</td>\n",
       "      <td>The Golden Compass</td>\n",
       "      <td>After overhearing a shocking secret, precociou...</td>\n",
       "      <td>43</td>\n",
       "      <td>[{\"name\": \"New Line Cinema\", \"id\": 12}, {\"name...</td>\n",
       "      <td>...</td>\n",
       "      <td>[{\"iso_639_1\": \"is\", \"name\": \"\\u00cdslenska\"},...</td>\n",
       "      <td>Released</td>\n",
       "      <td>There are worlds beyond our own - the compass ...</td>\n",
       "      <td>The Golden Compass</td>\n",
       "      <td>6</td>\n",
       "      <td>1303</td>\n",
       "      <td>180,000,000</td>\n",
       "      <td>372,234,864</td>\n",
       "      <td>192</td>\n",
       "      <td>4</td>\n",
       "    </tr>\n",
       "    <tr>\n",
       "      <th>27</th>\n",
       "      <td>209000000</td>\n",
       "      <td>[{\"id\": 53, \"name\": \"Thriller\"}, {\"id\": 28, \"n...</td>\n",
       "      <td>NaN</td>\n",
       "      <td>44833</td>\n",
       "      <td>[{\"id\": 1721, \"name\": \"fight\"}, {\"id\": 4410, \"...</td>\n",
       "      <td>en</td>\n",
       "      <td>Battleship</td>\n",
       "      <td>When mankind beams a radio signal into space, ...</td>\n",
       "      <td>65</td>\n",
       "      <td>[{\"name\": \"Universal Pictures\", \"id\": 33}, {\"n...</td>\n",
       "      <td>...</td>\n",
       "      <td>[{\"iso_639_1\": \"en\", \"name\": \"English\"}, {\"iso...</td>\n",
       "      <td>Released</td>\n",
       "      <td>The Battle for Earth Begins at Sea</td>\n",
       "      <td>Battleship</td>\n",
       "      <td>6</td>\n",
       "      <td>2114</td>\n",
       "      <td>209,000,000</td>\n",
       "      <td>303,025,485</td>\n",
       "      <td>94</td>\n",
       "      <td>4</td>\n",
       "    </tr>\n",
       "    <tr>\n",
       "      <th>43</th>\n",
       "      <td>200000000</td>\n",
       "      <td>[{\"id\": 28, \"name\": \"Action\"}, {\"id\": 878, \"na...</td>\n",
       "      <td>https://www.warnerbros.com/terminator-salvation</td>\n",
       "      <td>534</td>\n",
       "      <td>[{\"id\": 83, \"name\": \"saving the world\"}, {\"id\"...</td>\n",
       "      <td>en</td>\n",
       "      <td>Terminator Salvation</td>\n",
       "      <td>All grown up in post-apocalyptic 2018, John Co...</td>\n",
       "      <td>72</td>\n",
       "      <td>[{\"name\": \"Columbia Pictures\", \"id\": 5}, {\"nam...</td>\n",
       "      <td>...</td>\n",
       "      <td>[{\"iso_639_1\": \"en\", \"name\": \"English\"}, {\"iso...</td>\n",
       "      <td>Released</td>\n",
       "      <td>The End Begins.</td>\n",
       "      <td>Terminator Salvation</td>\n",
       "      <td>6</td>\n",
       "      <td>2463</td>\n",
       "      <td>200,000,000</td>\n",
       "      <td>371,353,001</td>\n",
       "      <td>171</td>\n",
       "      <td>4</td>\n",
       "    </tr>\n",
       "    <tr>\n",
       "      <th>50</th>\n",
       "      <td>150000000</td>\n",
       "      <td>[{\"id\": 12, \"name\": \"Adventure\"}, {\"id\": 14, \"...</td>\n",
       "      <td>http://disney.go.com/disneypictures/princeofpe...</td>\n",
       "      <td>9543</td>\n",
       "      <td>[{\"id\": 1241, \"name\": \"persia\"}, {\"id\": 1965, ...</td>\n",
       "      <td>en</td>\n",
       "      <td>Prince of Persia: The Sands of Time</td>\n",
       "      <td>A rogue prince reluctantly joins forces with a...</td>\n",
       "      <td>62</td>\n",
       "      <td>[{\"name\": \"Walt Disney Pictures\", \"id\": 2}, {\"...</td>\n",
       "      <td>...</td>\n",
       "      <td>[{\"iso_639_1\": \"en\", \"name\": \"English\"}]</td>\n",
       "      <td>Released</td>\n",
       "      <td>Defy the Future</td>\n",
       "      <td>Prince of Persia: The Sands of Time</td>\n",
       "      <td>6</td>\n",
       "      <td>2317</td>\n",
       "      <td>150,000,000</td>\n",
       "      <td>335,154,643</td>\n",
       "      <td>185</td>\n",
       "      <td>4</td>\n",
       "    </tr>\n",
       "  </tbody>\n",
       "</table>\n",
       "<p>7 rows × 24 columns</p>\n",
       "</div>"
      ],
      "text/plain": [
       "       budget                                             genres  \\\n",
       "10  270000000  [{\"id\": 12, \"name\": \"Adventure\"}, {\"id\": 14, \"...   \n",
       "15  225000000  [{\"id\": 12, \"name\": \"Adventure\"}, {\"id\": 10751...   \n",
       "21  200000000  [{\"id\": 28, \"name\": \"Action\"}, {\"id\": 12, \"nam...   \n",
       "23  180000000  [{\"id\": 12, \"name\": \"Adventure\"}, {\"id\": 14, \"...   \n",
       "27  209000000  [{\"id\": 53, \"name\": \"Thriller\"}, {\"id\": 28, \"n...   \n",
       "43  200000000  [{\"id\": 28, \"name\": \"Action\"}, {\"id\": 878, \"na...   \n",
       "50  150000000  [{\"id\": 12, \"name\": \"Adventure\"}, {\"id\": 14, \"...   \n",
       "\n",
       "                                             homepage     id  \\\n",
       "10                            http://www.superman.com   1452   \n",
       "15                                                NaN   2454   \n",
       "21                  http://www.robinhoodthemovie.com/  20662   \n",
       "23  http://www.goldencompassmovie.com/index_german...   2268   \n",
       "27                                                NaN  44833   \n",
       "43    https://www.warnerbros.com/terminator-salvation    534   \n",
       "50  http://disney.go.com/disneypictures/princeofpe...   9543   \n",
       "\n",
       "                                             keywords original_language  \\\n",
       "10  [{\"id\": 83, \"name\": \"saving the world\"}, {\"id\"...                en   \n",
       "15  [{\"id\": 818, \"name\": \"based on novel\"}, {\"id\":...                en   \n",
       "21  [{\"id\": 4147, \"name\": \"robin hood\"}, {\"id\": 43...                en   \n",
       "23  [{\"id\": 392, \"name\": \"england\"}, {\"id\": 1461, ...                en   \n",
       "27  [{\"id\": 1721, \"name\": \"fight\"}, {\"id\": 4410, \"...                en   \n",
       "43  [{\"id\": 83, \"name\": \"saving the world\"}, {\"id\"...                en   \n",
       "50  [{\"id\": 1241, \"name\": \"persia\"}, {\"id\": 1965, ...                en   \n",
       "\n",
       "                              original_title  \\\n",
       "10                          Superman Returns   \n",
       "15  The Chronicles of Narnia: Prince Caspian   \n",
       "21                                Robin Hood   \n",
       "23                        The Golden Compass   \n",
       "27                                Battleship   \n",
       "43                      Terminator Salvation   \n",
       "50       Prince of Persia: The Sands of Time   \n",
       "\n",
       "                                             overview  popularity  \\\n",
       "10  Superman returns to discover his 5-year absenc...          58   \n",
       "15  One year after their incredible adventures in ...          54   \n",
       "21  When soldier Robin happens upon the dying Robe...          38   \n",
       "23  After overhearing a shocking secret, precociou...          43   \n",
       "27  When mankind beams a radio signal into space, ...          65   \n",
       "43  All grown up in post-apocalyptic 2018, John Co...          72   \n",
       "50  A rogue prince reluctantly joins forces with a...          62   \n",
       "\n",
       "                                 production_companies  ...  \\\n",
       "10  [{\"name\": \"DC Comics\", \"id\": 429}, {\"name\": \"L...  ...   \n",
       "15  [{\"name\": \"Walt Disney\", \"id\": 5888}, {\"name\":...  ...   \n",
       "21  [{\"name\": \"Imagine Entertainment\", \"id\": 23}, ...  ...   \n",
       "23  [{\"name\": \"New Line Cinema\", \"id\": 12}, {\"name...  ...   \n",
       "27  [{\"name\": \"Universal Pictures\", \"id\": 33}, {\"n...  ...   \n",
       "43  [{\"name\": \"Columbia Pictures\", \"id\": 5}, {\"nam...  ...   \n",
       "50  [{\"name\": \"Walt Disney Pictures\", \"id\": 2}, {\"...  ...   \n",
       "\n",
       "                                     spoken_languages    status  \\\n",
       "10  [{\"iso_639_1\": \"en\", \"name\": \"English\"}, {\"iso...  Released   \n",
       "15           [{\"iso_639_1\": \"en\", \"name\": \"English\"}]  Released   \n",
       "21  [{\"iso_639_1\": \"en\", \"name\": \"English\"}, {\"iso...  Released   \n",
       "23  [{\"iso_639_1\": \"is\", \"name\": \"\\u00cdslenska\"},...  Released   \n",
       "27  [{\"iso_639_1\": \"en\", \"name\": \"English\"}, {\"iso...  Released   \n",
       "43  [{\"iso_639_1\": \"en\", \"name\": \"English\"}, {\"iso...  Released   \n",
       "50           [{\"iso_639_1\": \"en\", \"name\": \"English\"}]  Released   \n",
       "\n",
       "                                              tagline  \\\n",
       "10                                                NaN   \n",
       "15                               Hope has a new face.   \n",
       "21     Rise and rise again, until lambs become lions.   \n",
       "23  There are worlds beyond our own - the compass ...   \n",
       "27                 The Battle for Earth Begins at Sea   \n",
       "43                                    The End Begins.   \n",
       "50                                    Defy the Future   \n",
       "\n",
       "                                       title vote_average vote_count  \\\n",
       "10                          Superman Returns            5       1400   \n",
       "15  The Chronicles of Narnia: Prince Caspian            6       1630   \n",
       "21                                Robin Hood            6       1398   \n",
       "23                        The Golden Compass            6       1303   \n",
       "27                                Battleship            6       2114   \n",
       "43                      Terminator Salvation            6       2463   \n",
       "50       Prince of Persia: The Sands of Time            6       2317   \n",
       "\n",
       "          Custo      Receita  lucro  cluster  \n",
       "10  270,000,000  391,081,192    121        4  \n",
       "15  225,000,000  419,651,413    195        4  \n",
       "21  200,000,000  310,669,540    111        4  \n",
       "23  180,000,000  372,234,864    192        4  \n",
       "27  209,000,000  303,025,485     94        4  \n",
       "43  200,000,000  371,353,001    171        4  \n",
       "50  150,000,000  335,154,643    185        4  \n",
       "\n",
       "[7 rows x 24 columns]"
      ]
     },
     "execution_count": 36,
     "metadata": {},
     "output_type": "execute_result"
    }
   ],
   "source": [
    "df[df[\"cluster\"]==4].head(7)"
   ]
  },
  {
   "cell_type": "markdown",
   "metadata": {},
   "source": [
    "### Cenário 2 - Filmes"
   ]
  },
  {
   "cell_type": "code",
   "execution_count": 37,
   "metadata": {},
   "outputs": [
    {
     "data": {
      "image/png": "[encoded data removed]",
      "text/plain": [
       "<Figure size 410.435x360 with 1 Axes>"
      ]
     },
     "metadata": {},
     "output_type": "display_data"
    }
   ],
   "source": [
    "Xx = df.loc[:, [\"vote_average\", \"lucro\"]]\n",
    "n_clusters = 3\n",
    "kmeans = KMeans(n_clusters).fit(Xx)\n",
    "y_pred = kmeans.labels_\n",
    "df[\"cluster\"] = y_pred\n",
    "# Plot the centroids as a white X\n",
    "centroids = kmeans.cluster_centers_\n",
    "plot_cluster(df, centroids,   \"vote_average\", \"lucro\", title = \"Filmes por Lucro/Rating\", \n",
    "             xlabel =  \"Lucro (em Milhões)\", ylabel = \"Rating\" )"
   ]
  },
  {
   "cell_type": "code",
   "execution_count": 38,
   "metadata": {},
   "outputs": [
    {
     "data": {
      "image/png": "[encoded data removed]",
      "text/plain": [
       "<Figure size 410.435x360 with 1 Axes>"
      ]
     },
     "metadata": {},
     "output_type": "display_data"
    }
   ],
   "source": [
    "Xx = df.loc[:, [\"vote_average\", \"lucro\"]]\n",
    "n_clusters = 4\n",
    "kmeans = KMeans(n_clusters).fit(Xx)\n",
    "y_pred = kmeans.labels_\n",
    "df[\"cluster\"] = y_pred\n",
    "# Plot the centroids as a white X\n",
    "centroids = kmeans.cluster_centers_\n",
    "plot_cluster(df, centroids,   \"vote_average\", \"lucro\", title = \"Filmes por Lucro/Rating\", \n",
    "             xlabel =  \"Lucro (em Milhões)\", ylabel = \"Rating\" )"
   ]
  },
  {
   "cell_type": "code",
   "execution_count": 39,
   "metadata": {},
   "outputs": [
    {
     "data": {
      "image/png": "[encoded data removed]",
      "text/plain": [
       "<Figure size 410.435x360 with 1 Axes>"
      ]
     },
     "metadata": {},
     "output_type": "display_data"
    }
   ],
   "source": [
    "Xx = df.loc[:, [\"vote_average\", \"lucro\"]]\n",
    "n_clusters = 5\n",
    "kmeans = KMeans(n_clusters).fit(Xx)\n",
    "y_pred = kmeans.labels_\n",
    "df[\"cluster\"] = y_pred\n",
    "# Plot the centroids as a white X\n",
    "centroids = kmeans.cluster_centers_\n",
    "plot_cluster(df, centroids,   \"vote_average\", \"lucro\", title = \"Filmes por Lucro/Rating\", \n",
    "             xlabel =  \"Lucro (em Milhões)\", ylabel = \"Rating\" )"
   ]
  },
  {
   "cell_type": "code",
   "execution_count": 40,
   "metadata": {},
   "outputs": [
    {
     "data": {
      "image/png": "[encoded data removed]",
      "text/plain": [
       "<Figure size 410.435x360 with 1 Axes>"
      ]
     },
     "metadata": {},
     "output_type": "display_data"
    }
   ],
   "source": [
    "Xx = df.loc[:, [\"vote_average\", \"lucro\"]]\n",
    "n_clusters = 7\n",
    "kmeans = KMeans(n_clusters).fit(Xx)\n",
    "y_pred = kmeans.labels_\n",
    "df[\"cluster\"] = y_pred\n",
    "# Plot the centroids as a white X\n",
    "centroids = kmeans.cluster_centers_\n",
    "plot_cluster(df, centroids,   \"vote_average\", \"lucro\", title = \"Filmes por Lucro/Rating\", \n",
    "             xlabel =  \"Lucro (em Milhões)\", ylabel = \"Rating\" )"
   ]
  },
  {
   "cell_type": "markdown",
   "metadata": {},
   "source": [
    "# Determinando o melhor número de Clusters (Elbow Method)"
   ]
  },
  {
   "cell_type": "code",
   "execution_count": 41,
   "metadata": {},
   "outputs": [
    {
     "name": "stdout",
     "output_type": "stream",
     "text": [
      "[-88782462.06841081, -32518151.50464892, -17535827.664999638, -11550721.739188256, -7895347.629768206, -5671260.770663521, -4356435.008318575, -3187275.5677962257, -2573872.4617787264]\n"
     ]
    }
   ],
   "source": [
    "Ks = range(1, 10)\n",
    "km = [KMeans(n_clusters=i) for i in Ks]\n",
    "score = [km[i].fit(Xx).score(Xx) for i in range(len(km))]\n",
    "print(score)"
   ]
  },
  {
   "cell_type": "code",
   "execution_count": 42,
   "metadata": {},
   "outputs": [
    {
     "data": {
      "text/plain": [
       "[1, 2, 3, 4, 5, 6, 7, 8]"
      ]
     },
     "execution_count": 42,
     "metadata": {},
     "output_type": "execute_result"
    }
   ],
   "source": [
    "list(range(1,9))"
   ]
  },
  {
   "cell_type": "code",
   "execution_count": 43,
   "metadata": {},
   "outputs": [
    {
     "data": {
      "text/plain": [
       "[-88782462.06841081,\n",
       " -32518151.50464892,\n",
       " -17535827.664999638,\n",
       " -11550721.739188256,\n",
       " -7895347.629768206,\n",
       " -5671260.770663521,\n",
       " -4356435.008318575,\n",
       " -3187275.5677962257,\n",
       " -2573872.4617787264]"
      ]
     },
     "execution_count": 43,
     "metadata": {},
     "output_type": "execute_result"
    }
   ],
   "source": [
    "score"
   ]
  },
  {
   "cell_type": "code",
   "execution_count": 44,
   "metadata": {},
   "outputs": [
    {
     "data": {
      "image/png": "[encoded data removed]",
      "text/plain": [
       "<Figure size 432x288 with 1 Axes>"
      ]
     },
     "metadata": {},
     "output_type": "display_data"
    }
   ],
   "source": [
    "plt.style.use('ggplot')\n",
    "plt.scatter( list(range(len(score))), score, c=\"b\")\n",
    "plt.title(\"Curva de Elbow\")\n",
    "plt.xlabel(\"Clusters\")\n",
    "plt.ylabel(\"Distorção\")\n",
    "plt.show()"
   ]
  },
  {
   "cell_type": "code",
   "execution_count": null,
   "metadata": {},
   "outputs": [],
   "source": []
  }
 ],
 "metadata": {
  "kernelspec": {
   "display_name": "tf366",
   "language": "python",
   "name": "tf366"
  },
  "language_info": {
   "codemirror_mode": {
    "name": "ipython",
    "version": 3
   },
   "file_extension": ".py",
   "mimetype": "text/x-python",
   "name": "python",
   "nbconvert_exporter": "python",
   "pygments_lexer": "ipython3",
   "version": "3.6.6"
  }
 },
 "nbformat": 4,
 "nbformat_minor": 2
}
