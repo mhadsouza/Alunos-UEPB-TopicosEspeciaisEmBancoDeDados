{
 "cells": [
  {
   "cell_type": "markdown",
   "metadata": {},
   "source": [
    "# Clusterização - Classificação Não Supervisionada"
   ]
  },
  {
   "cell_type": "code",
   "execution_count": 1,
   "metadata": {
    "collapsed": true
   },
   "outputs": [],
   "source": [
    "import pandas as pd, numpy as np\n",
    "import sklearn.cluster, sklearn.preprocessing\n",
    "import matplotlib, matplotlib.pyplot as plt\n",
    "import warnings\n",
    "warnings.filterwarnings('ignore')"
   ]
  },
  {
   "cell_type": "code",
   "execution_count": 2,
   "metadata": {},
   "outputs": [
    {
     "data": {
      "text/html": [
       "<div>\n",
       "<style>\n",
       "    .dataframe thead tr:only-child th {\n",
       "        text-align: right;\n",
       "    }\n",
       "\n",
       "    .dataframe thead th {\n",
       "        text-align: left;\n",
       "    }\n",
       "\n",
       "    .dataframe tbody tr th {\n",
       "        vertical-align: top;\n",
       "    }\n",
       "</style>\n",
       "<table border=\"1\" class=\"dataframe\">\n",
       "  <thead>\n",
       "    <tr style=\"text-align: right;\">\n",
       "      <th></th>\n",
       "      <th>Name</th>\n",
       "      <th>Description</th>\n",
       "      <th>Date</th>\n",
       "      <th>Registered Users</th>\n",
       "      <th>Registration</th>\n",
       "      <th>Alexa Rank</th>\n",
       "    </tr>\n",
       "  </thead>\n",
       "  <tbody>\n",
       "    <tr>\n",
       "      <th>0</th>\n",
       "      <td>43 Things</td>\n",
       "      <td>Goal setting and achievement</td>\n",
       "      <td>1 January 2005</td>\n",
       "      <td>3000000.0</td>\n",
       "      <td>Closed</td>\n",
       "      <td>12914.0</td>\n",
       "    </tr>\n",
       "    <tr>\n",
       "      <th>1</th>\n",
       "      <td>Academia.edu</td>\n",
       "      <td>Social networking site for academics/researchers</td>\n",
       "      <td>September 2008</td>\n",
       "      <td>18000000.0</td>\n",
       "      <td>Open</td>\n",
       "      <td>824.0</td>\n",
       "    </tr>\n",
       "    <tr>\n",
       "      <th>2</th>\n",
       "      <td>About.me</td>\n",
       "      <td>Social networking site</td>\n",
       "      <td>October 2009</td>\n",
       "      <td>5000000.0</td>\n",
       "      <td>Open</td>\n",
       "      <td>1447.0</td>\n",
       "    </tr>\n",
       "    <tr>\n",
       "      <th>3</th>\n",
       "      <td>Advogato</td>\n",
       "      <td>Free and open source software developers</td>\n",
       "      <td>1999</td>\n",
       "      <td>13575.0</td>\n",
       "      <td>Open</td>\n",
       "      <td>292620.0</td>\n",
       "    </tr>\n",
       "    <tr>\n",
       "      <th>4</th>\n",
       "      <td>aNobii</td>\n",
       "      <td>Books</td>\n",
       "      <td>2006</td>\n",
       "      <td>NaN</td>\n",
       "      <td>Open</td>\n",
       "      <td>26939.0</td>\n",
       "    </tr>\n",
       "  </tbody>\n",
       "</table>\n",
       "</div>"
      ],
      "text/plain": [
       "           Name                                       Description  \\\n",
       "0     43 Things                      Goal setting and achievement   \n",
       "1  Academia.edu  Social networking site for academics/researchers   \n",
       "2      About.me                            Social networking site   \n",
       "3      Advogato          Free and open source software developers   \n",
       "4        aNobii                                             Books   \n",
       "\n",
       "             Date  Registered Users Registration  Alexa Rank  \n",
       "0  1 January 2005         3000000.0       Closed     12914.0  \n",
       "1  September 2008        18000000.0         Open       824.0  \n",
       "2    October 2009         5000000.0         Open      1447.0  \n",
       "3            1999           13575.0         Open    292620.0  \n",
       "4            2006               NaN         Open     26939.0  "
      ]
     },
     "execution_count": 2,
     "metadata": {},
     "output_type": "execute_result"
    }
   ],
   "source": [
    "# Lendo o dataset mosn - Most Online Social Network\n",
    "df = pd.read_csv('mosn.csv', thousands=',',\n",
    "                   names=('Name', 'Description', 'Date', 'Registered Users',\n",
    "                          'Registration', 'Alexa Rank'))\n",
    "columns = ['Registered Users', 'Alexa Rank']\n",
    "df.head()"
   ]
  },
  {
   "cell_type": "markdown",
   "metadata": {},
   "source": [
    "# Pré-processamento"
   ]
  },
  {
   "cell_type": "code",
   "execution_count": 3,
   "metadata": {},
   "outputs": [
    {
     "data": {
      "text/html": [
       "<div>\n",
       "<style>\n",
       "    .dataframe thead tr:only-child th {\n",
       "        text-align: right;\n",
       "    }\n",
       "\n",
       "    .dataframe thead th {\n",
       "        text-align: left;\n",
       "    }\n",
       "\n",
       "    .dataframe tbody tr th {\n",
       "        vertical-align: top;\n",
       "    }\n",
       "</style>\n",
       "<table border=\"1\" class=\"dataframe\">\n",
       "  <thead>\n",
       "    <tr style=\"text-align: right;\">\n",
       "      <th></th>\n",
       "      <th>Name</th>\n",
       "      <th>Description</th>\n",
       "      <th>Date</th>\n",
       "      <th>Registered Users</th>\n",
       "      <th>Registration</th>\n",
       "      <th>Alexa Rank</th>\n",
       "    </tr>\n",
       "  </thead>\n",
       "  <tbody>\n",
       "    <tr>\n",
       "      <th>0</th>\n",
       "      <td>43 Things</td>\n",
       "      <td>Goal setting and achievement</td>\n",
       "      <td>1 January 2005</td>\n",
       "      <td>3000000.0</td>\n",
       "      <td>Closed</td>\n",
       "      <td>12914.0</td>\n",
       "    </tr>\n",
       "    <tr>\n",
       "      <th>1</th>\n",
       "      <td>Academia.edu</td>\n",
       "      <td>Social networking site for academics/researchers</td>\n",
       "      <td>September 2008</td>\n",
       "      <td>18000000.0</td>\n",
       "      <td>Open</td>\n",
       "      <td>824.0</td>\n",
       "    </tr>\n",
       "    <tr>\n",
       "      <th>2</th>\n",
       "      <td>About.me</td>\n",
       "      <td>Social networking site</td>\n",
       "      <td>October 2009</td>\n",
       "      <td>5000000.0</td>\n",
       "      <td>Open</td>\n",
       "      <td>1447.0</td>\n",
       "    </tr>\n",
       "    <tr>\n",
       "      <th>3</th>\n",
       "      <td>Advogato</td>\n",
       "      <td>Free and open source software developers</td>\n",
       "      <td>1999</td>\n",
       "      <td>13575.0</td>\n",
       "      <td>Open</td>\n",
       "      <td>292620.0</td>\n",
       "    </tr>\n",
       "    <tr>\n",
       "      <th>6</th>\n",
       "      <td>aSmallWorld</td>\n",
       "      <td>European jet set and social elite world-wide</td>\n",
       "      <td>March 2004</td>\n",
       "      <td>550000.0</td>\n",
       "      <td>Invite-only</td>\n",
       "      <td>580060.0</td>\n",
       "    </tr>\n",
       "  </tbody>\n",
       "</table>\n",
       "</div>"
      ],
      "text/plain": [
       "           Name                                       Description  \\\n",
       "0     43 Things                      Goal setting and achievement   \n",
       "1  Academia.edu  Social networking site for academics/researchers   \n",
       "2      About.me                            Social networking site   \n",
       "3      Advogato          Free and open source software developers   \n",
       "6   aSmallWorld      European jet set and social elite world-wide   \n",
       "\n",
       "             Date  Registered Users Registration  Alexa Rank  \n",
       "0  1 January 2005         3000000.0       Closed     12914.0  \n",
       "1  September 2008        18000000.0         Open       824.0  \n",
       "2    October 2009         5000000.0         Open      1447.0  \n",
       "3            1999           13575.0         Open    292620.0  \n",
       "6      March 2004          550000.0  Invite-only    580060.0  "
      ]
     },
     "execution_count": 3,
     "metadata": {},
     "output_type": "execute_result"
    }
   ],
   "source": [
    "# Elimina linhas com dados \"missing\" (faltosos-Nulos) e zeros\n",
    "df2 = df[np.log(df[columns]).notnull().all(axis=1)].copy()\n",
    "df2.head()"
   ]
  },
  {
   "cell_type": "markdown",
   "metadata": {},
   "source": [
    "# Clusterização"
   ]
  },
  {
   "cell_type": "code",
   "execution_count": 4,
   "metadata": {},
   "outputs": [
    {
     "data": {
      "text/plain": [
       "KMeans(algorithm='auto', copy_x=True, init='k-means++', max_iter=300,\n",
       "    n_clusters=8, n_init=10, n_jobs=1, precompute_distances='auto',\n",
       "    random_state=None, tol=0.0001, verbose=0)"
      ]
     },
     "execution_count": 4,
     "metadata": {},
     "output_type": "execute_result"
    }
   ],
   "source": [
    "# aplicar o algoritmo de clusterização\n",
    "kmeans = sklearn.cluster.KMeans()\n",
    "kmeans.fit(np.log(df2[columns]))\n",
    "df2[\"Clusters\"] = kmeans.labels_\n",
    "kmeans"
   ]
  },
  {
   "cell_type": "code",
   "execution_count": 5,
   "metadata": {},
   "outputs": [
    {
     "data": {
      "text/plain": [
       "Name                                                Advogato\n",
       "Description         Free and open source software developers\n",
       "Date                                                    1999\n",
       "Registered Users                                       13575\n",
       "Registration                                            Open\n",
       "Alexa Rank                                            292620\n",
       "Clusters                                                   5\n",
       "Name: 3, dtype: object"
      ]
     },
     "execution_count": 5,
     "metadata": {},
     "output_type": "execute_result"
    }
   ],
   "source": [
    "# acessando a tupla que contém o Facebook\n",
    "fb = df2.set_index('Name').ix['Facebook']['Clusters']\n",
    "df2.iloc[fb,:]"
   ]
  },
  {
   "cell_type": "code",
   "execution_count": 6,
   "metadata": {},
   "outputs": [
    {
     "data": {
      "text/html": [
       "<div>\n",
       "<style>\n",
       "    .dataframe thead tr:only-child th {\n",
       "        text-align: right;\n",
       "    }\n",
       "\n",
       "    .dataframe thead th {\n",
       "        text-align: left;\n",
       "    }\n",
       "\n",
       "    .dataframe tbody tr th {\n",
       "        vertical-align: top;\n",
       "    }\n",
       "</style>\n",
       "<table border=\"1\" class=\"dataframe\">\n",
       "  <thead>\n",
       "    <tr style=\"text-align: right;\">\n",
       "      <th></th>\n",
       "      <th>Name</th>\n",
       "      <th>Description</th>\n",
       "      <th>Date</th>\n",
       "      <th>Registered Users</th>\n",
       "      <th>Registration</th>\n",
       "      <th>Alexa Rank</th>\n",
       "      <th>Clusters</th>\n",
       "    </tr>\n",
       "  </thead>\n",
       "  <tbody>\n",
       "    <tr>\n",
       "      <th>0</th>\n",
       "      <td>43 Things</td>\n",
       "      <td>Goal setting and achievement</td>\n",
       "      <td>1 January 2005</td>\n",
       "      <td>3000000.0</td>\n",
       "      <td>Closed</td>\n",
       "      <td>12914.0</td>\n",
       "      <td>6</td>\n",
       "    </tr>\n",
       "    <tr>\n",
       "      <th>1</th>\n",
       "      <td>Academia.edu</td>\n",
       "      <td>Social networking site for academics/researchers</td>\n",
       "      <td>September 2008</td>\n",
       "      <td>18000000.0</td>\n",
       "      <td>Open</td>\n",
       "      <td>824.0</td>\n",
       "      <td>2</td>\n",
       "    </tr>\n",
       "    <tr>\n",
       "      <th>2</th>\n",
       "      <td>About.me</td>\n",
       "      <td>Social networking site</td>\n",
       "      <td>October 2009</td>\n",
       "      <td>5000000.0</td>\n",
       "      <td>Open</td>\n",
       "      <td>1447.0</td>\n",
       "      <td>0</td>\n",
       "    </tr>\n",
       "    <tr>\n",
       "      <th>3</th>\n",
       "      <td>Advogato</td>\n",
       "      <td>Free and open source software developers</td>\n",
       "      <td>1999</td>\n",
       "      <td>13575.0</td>\n",
       "      <td>Open</td>\n",
       "      <td>292620.0</td>\n",
       "      <td>5</td>\n",
       "    </tr>\n",
       "    <tr>\n",
       "      <th>6</th>\n",
       "      <td>aSmallWorld</td>\n",
       "      <td>European jet set and social elite world-wide</td>\n",
       "      <td>March 2004</td>\n",
       "      <td>550000.0</td>\n",
       "      <td>Invite-only</td>\n",
       "      <td>580060.0</td>\n",
       "      <td>4</td>\n",
       "    </tr>\n",
       "  </tbody>\n",
       "</table>\n",
       "</div>"
      ],
      "text/plain": [
       "           Name                                       Description  \\\n",
       "0     43 Things                      Goal setting and achievement   \n",
       "1  Academia.edu  Social networking site for academics/researchers   \n",
       "2      About.me                            Social networking site   \n",
       "3      Advogato          Free and open source software developers   \n",
       "6   aSmallWorld      European jet set and social elite world-wide   \n",
       "\n",
       "             Date  Registered Users Registration  Alexa Rank  Clusters  \n",
       "0  1 January 2005         3000000.0       Closed     12914.0         6  \n",
       "1  September 2008        18000000.0         Open       824.0         2  \n",
       "2    October 2009         5000000.0         Open      1447.0         0  \n",
       "3            1999           13575.0         Open    292620.0         5  \n",
       "6      March 2004          550000.0  Invite-only    580060.0         4  "
      ]
     },
     "execution_count": 6,
     "metadata": {},
     "output_type": "execute_result"
    }
   ],
   "source": [
    "df2.head()"
   ]
  },
  {
   "cell_type": "code",
   "execution_count": null,
   "metadata": {},
   "outputs": [],
   "source": [
    "# Plotar usando o pacote ggplot2\n",
    "matplotlib.style.use(\"ggplot\")\n",
    "#%matplotlib inline\n",
    "#fig, ax = plt.subplots(figsize=(12, 10))\n",
    "\n",
    "#ax.subplots(figsize=(12, 10))\n",
    "\n",
    "# Display the results\n",
    "\n",
    "#fig, ax = plt.subplots()\n",
    "#ax = fig.add_subplot(1,1,1)\n",
    "#ax.df2.plot.scatter(columns[0], columns[1], c=\"Clusters\", \n",
    "#                       cmap=plt.cm.Accent, s=100)\n",
    "\n",
    "\n",
    "plt.title(\"Sites de Redes Sociais\")\n",
    "plt.xscale(\"log\")\n",
    "plt.yscale(\"log\")\n",
    "#plt.xlim(10**3, 10**10)\n",
    "#plt.ylim(0, 10**7)\n",
    "\n",
    "#grid = range(10**3, 10**10)\n",
    "#contours = np.linspace(0, 1, 10)\n",
    "#plt.contour(grid,levels = contours, colors = ((1,0,0),) )\n",
    "\n",
    "plt.scatter(df2['Registered Users'], df2['Alexa Rank'], c=\"Clusters\", \n",
    "                        s=100)\n",
    "\n",
    "#plt.\n",
    "#plt.subplots(figsize=(12, 10))\n",
    "#plt.figure(figsize=(18,12))\n",
    "\n",
    "\n",
    "# Annotate the most prominent sites\n",
    "#def add_abbr(site):\n",
    "#    if site['Clusters'] == fb:\n",
    "#        _ = ax.annotate(site[\"Name\"], site[columns], xytext=(1, 5), \n",
    "#                        textcoords=\"offset points\", size=8,\n",
    "#                        color=\"darkslategrey\")\n",
    "#df2.apply(add_abbr, axis=1)\n",
    "\n",
    "\n",
    "\n",
    "plt.savefig(\"RedesSociais.png\")\n",
    "plt.show()"
   ]
  },
  {
   "cell_type": "code",
   "execution_count": 23,
   "metadata": {},
   "outputs": [
    {
     "data": {
      "image/png": "[encoded data removed]",
      "text/plain": [
       "<matplotlib.figure.Figure at 0x11ba9f4e0>"
      ]
     },
     "metadata": {},
     "output_type": "display_data"
    }
   ],
   "source": [
    "import numpy as np\n",
    "import matplotlib.pyplot as plt\n",
    "\n",
    "from mpl_toolkits.mplot3d import Axes3D\n",
    "colors=['#12efff','#eee111','#eee00f','#e00fff','#123456','#abc222','#000000','#123fff','#1eff1f','#2edf4f','#2eaf9f',\n",
    "        '#22222f',\n",
    "        '#eeeff1','#eee112','#00ef00','#aa0000','#0000aa','#000999','#32efff','#23ef68','#2e3f56','#7eef1f','#eeef11']\n",
    "\n",
    "C=1\n",
    "\n",
    "x = df2['Registered Users'] \n",
    "y = df2['Alexa Rank']\n",
    "Cluster = df2[\"Clusters\"]    # Labels of cluster 0 to 3\n",
    "\n",
    "\n",
    "\n",
    "fig = plt.figure()\n",
    "ax = fig.add_subplot(111)\n",
    "scatter = ax.scatter(x,y,c=Cluster,s=100)\n",
    "\n",
    "ax.set_xlabel('Número de Usuários Registrados')\n",
    "ax.set_ylabel('Alexa Rank')\n",
    "plt.colorbar(scatter)\n",
    "plt.title(\"Sites de Redes Sociais\")\n",
    "plt.xscale(\"log\")\n",
    "plt.yscale(\"log\")\n",
    "ax.set_aspect('auto')\n",
    "#plt.figure(figsize=(18,12))\n",
    "#plt.subplots(figsize=(12, 10))\n",
    "\n",
    "#fig.show()\n",
    "plt.show()"
   ]
  },
  {
   "cell_type": "code",
   "execution_count": 46,
   "metadata": {},
   "outputs": [
    {
     "data": {
      "image/png": "[encoded data removed]",
      "text/plain": [
       "<matplotlib.figure.Figure at 0x11bacf208>"
      ]
     },
     "metadata": {},
     "output_type": "display_data"
    }
   ],
   "source": [
    "# Select a good-locking style\n",
    "matplotlib.style.use(\"ggplot\")\n",
    "\n",
    "# Display the results\n",
    "ax = df2.plot.scatter(columns[0], columns[1], c=\"Clusters\", \n",
    "                       cmap=plt.cm.Accent, s=100)\n",
    "plt.title(\"Massive online social networking sites\")\n",
    "plt.xscale(\"log\")\n",
    "plt.yscale(\"log\")\n",
    "\n",
    "# Annotate the most prominent sites\n",
    "def add_abbr(site):\n",
    "    if site['Clusters'] == fb:\n",
    "        _ = ax.annotate(site[\"Name\"], site[columns], xytext=(1, 5), \n",
    "                        textcoords=\"offset points\", size=8,\n",
    "                        color=\"darkslategrey\")\n",
    "df2.apply(add_abbr, axis=1)\n",
    "#ax.set_aspect('auto')\n",
    "#ax.set_aspect(.5)\n",
    "plt.show()"
   ]
  },
  {
   "cell_type": "code",
   "execution_count": null,
   "metadata": {
    "collapsed": true
   },
   "outputs": [],
   "source": []
  }
 ],
 "metadata": {
  "kernelspec": {
   "display_name": "Python 3",
   "language": "python",
   "name": "python3"
  },
  "language_info": {
   "codemirror_mode": {
    "name": "ipython",
    "version": 3
   },
   "file_extension": ".py",
   "mimetype": "text/x-python",
   "name": "python",
   "nbconvert_exporter": "python",
   "pygments_lexer": "ipython3",
   "version": "3.6.1"
  }
 },
 "nbformat": 4,
 "nbformat_minor": 2
}
