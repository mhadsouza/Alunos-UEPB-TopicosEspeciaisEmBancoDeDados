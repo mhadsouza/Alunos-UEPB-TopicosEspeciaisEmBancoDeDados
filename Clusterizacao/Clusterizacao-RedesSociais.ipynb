{
 "cells": [
  {
   "cell_type": "markdown",
   "metadata": {},
   "source": [
    "# Clusterização - Classificação Não Supervisionada"
   ]
  },
  {
   "cell_type": "code",
   "execution_count": 1,
   "metadata": {},
   "outputs": [],
   "source": [
    "import pandas as pd, numpy as np\n",
    "import sklearn.cluster, sklearn.preprocessing\n",
    "import matplotlib, matplotlib.pyplot as plt\n",
    "import warnings\n",
    "warnings.filterwarnings('ignore')\n",
    "pd.options.display.float_format = '{:,.0f}'.format"
   ]
  },
  {
   "cell_type": "code",
   "execution_count": 2,
   "metadata": {},
   "outputs": [
    {
     "data": {
      "text/html": [
       "<div>\n",
       "<style scoped>\n",
       "    .dataframe tbody tr th:only-of-type {\n",
       "        vertical-align: middle;\n",
       "    }\n",
       "\n",
       "    .dataframe tbody tr th {\n",
       "        vertical-align: top;\n",
       "    }\n",
       "\n",
       "    .dataframe thead th {\n",
       "        text-align: right;\n",
       "    }\n",
       "</style>\n",
       "<table border=\"1\" class=\"dataframe\">\n",
       "  <thead>\n",
       "    <tr style=\"text-align: right;\">\n",
       "      <th></th>\n",
       "      <th>Name</th>\n",
       "      <th>Description</th>\n",
       "      <th>Date</th>\n",
       "      <th>Registered Users</th>\n",
       "      <th>Registration</th>\n",
       "      <th>Alexa Rank</th>\n",
       "    </tr>\n",
       "  </thead>\n",
       "  <tbody>\n",
       "    <tr>\n",
       "      <th>0</th>\n",
       "      <td>43 Things</td>\n",
       "      <td>Goal setting and achievement</td>\n",
       "      <td>1 January 2005</td>\n",
       "      <td>3,000,000</td>\n",
       "      <td>Closed</td>\n",
       "      <td>12,914</td>\n",
       "    </tr>\n",
       "    <tr>\n",
       "      <th>1</th>\n",
       "      <td>Academia.edu</td>\n",
       "      <td>Social networking site for academics/researchers</td>\n",
       "      <td>September 2008</td>\n",
       "      <td>18,000,000</td>\n",
       "      <td>Open</td>\n",
       "      <td>824</td>\n",
       "    </tr>\n",
       "    <tr>\n",
       "      <th>2</th>\n",
       "      <td>About.me</td>\n",
       "      <td>Social networking site</td>\n",
       "      <td>October 2009</td>\n",
       "      <td>5,000,000</td>\n",
       "      <td>Open</td>\n",
       "      <td>1,447</td>\n",
       "    </tr>\n",
       "    <tr>\n",
       "      <th>3</th>\n",
       "      <td>Advogato</td>\n",
       "      <td>Free and open source software developers</td>\n",
       "      <td>1999</td>\n",
       "      <td>13,575</td>\n",
       "      <td>Open</td>\n",
       "      <td>292,620</td>\n",
       "    </tr>\n",
       "    <tr>\n",
       "      <th>4</th>\n",
       "      <td>aNobii</td>\n",
       "      <td>Books</td>\n",
       "      <td>2006</td>\n",
       "      <td>nan</td>\n",
       "      <td>Open</td>\n",
       "      <td>26,939</td>\n",
       "    </tr>\n",
       "  </tbody>\n",
       "</table>\n",
       "</div>"
      ],
      "text/plain": [
       "           Name                                       Description  \\\n",
       "0     43 Things                      Goal setting and achievement   \n",
       "1  Academia.edu  Social networking site for academics/researchers   \n",
       "2      About.me                            Social networking site   \n",
       "3      Advogato          Free and open source software developers   \n",
       "4        aNobii                                             Books   \n",
       "\n",
       "             Date  Registered Users Registration  Alexa Rank  \n",
       "0  1 January 2005         3,000,000       Closed      12,914  \n",
       "1  September 2008        18,000,000         Open         824  \n",
       "2    October 2009         5,000,000         Open       1,447  \n",
       "3            1999            13,575         Open     292,620  \n",
       "4            2006               nan         Open      26,939  "
      ]
     },
     "execution_count": 2,
     "metadata": {},
     "output_type": "execute_result"
    }
   ],
   "source": [
    "# Lendo o dataset mosn - Most Online Social Network\n",
    "df = pd.read_csv('mosn.csv', thousands=',',\n",
    "                   names=('Name', 'Description', 'Date', 'Registered Users',\n",
    "                          'Registration', 'Alexa Rank'))\n",
    "columns = ['Registered Users', 'Alexa Rank']\n",
    "df.head()"
   ]
  },
  {
   "cell_type": "code",
   "execution_count": 3,
   "metadata": {},
   "outputs": [
    {
     "data": {
      "text/plain": [
       "209"
      ]
     },
     "execution_count": 3,
     "metadata": {},
     "output_type": "execute_result"
    }
   ],
   "source": [
    "len(df)"
   ]
  },
  {
   "cell_type": "code",
   "execution_count": 4,
   "metadata": {},
   "outputs": [
    {
     "data": {
      "text/html": [
       "<div>\n",
       "<style scoped>\n",
       "    .dataframe tbody tr th:only-of-type {\n",
       "        vertical-align: middle;\n",
       "    }\n",
       "\n",
       "    .dataframe tbody tr th {\n",
       "        vertical-align: top;\n",
       "    }\n",
       "\n",
       "    .dataframe thead th {\n",
       "        text-align: right;\n",
       "    }\n",
       "</style>\n",
       "<table border=\"1\" class=\"dataframe\">\n",
       "  <thead>\n",
       "    <tr style=\"text-align: right;\">\n",
       "      <th></th>\n",
       "      <th>Name</th>\n",
       "      <th>Description</th>\n",
       "      <th>Date</th>\n",
       "      <th>Registered Users</th>\n",
       "      <th>Registration</th>\n",
       "      <th>Alexa Rank</th>\n",
       "    </tr>\n",
       "  </thead>\n",
       "  <tbody>\n",
       "    <tr>\n",
       "      <th>204</th>\n",
       "      <td>Yammer</td>\n",
       "      <td>Social networking for office colleagues</td>\n",
       "      <td>2008</td>\n",
       "      <td>nan</td>\n",
       "      <td>Must have company email</td>\n",
       "      <td>3,622</td>\n",
       "    </tr>\n",
       "    <tr>\n",
       "      <th>205</th>\n",
       "      <td>Yelp, Inc.</td>\n",
       "      <td>Local business review and talk</td>\n",
       "      <td>NaN</td>\n",
       "      <td>nan</td>\n",
       "      <td>Open</td>\n",
       "      <td>186</td>\n",
       "    </tr>\n",
       "    <tr>\n",
       "      <th>206</th>\n",
       "      <td>Yookos</td>\n",
       "      <td>General: photos, videos, blogs, games.</td>\n",
       "      <td>NaN</td>\n",
       "      <td>nan</td>\n",
       "      <td>Open</td>\n",
       "      <td>53,498</td>\n",
       "    </tr>\n",
       "    <tr>\n",
       "      <th>207</th>\n",
       "      <td>Zoo.gr</td>\n",
       "      <td>Greek web meeting point</td>\n",
       "      <td>2004</td>\n",
       "      <td>890,000</td>\n",
       "      <td>Open</td>\n",
       "      <td>34,577</td>\n",
       "    </tr>\n",
       "    <tr>\n",
       "      <th>208</th>\n",
       "      <td>Zooppa</td>\n",
       "      <td>Online community for creative talent (host of ...</td>\n",
       "      <td>NaN</td>\n",
       "      <td>60,000</td>\n",
       "      <td>Open to people 14 and older</td>\n",
       "      <td>36,373</td>\n",
       "    </tr>\n",
       "  </tbody>\n",
       "</table>\n",
       "</div>"
      ],
      "text/plain": [
       "           Name                                        Description  Date  \\\n",
       "204      Yammer            Social networking for office colleagues  2008   \n",
       "205  Yelp, Inc.                     Local business review and talk   NaN   \n",
       "206      Yookos             General: photos, videos, blogs, games.   NaN   \n",
       "207      Zoo.gr                            Greek web meeting point  2004   \n",
       "208      Zooppa  Online community for creative talent (host of ...   NaN   \n",
       "\n",
       "     Registered Users                 Registration  Alexa Rank  \n",
       "204               nan      Must have company email       3,622  \n",
       "205               nan                         Open         186  \n",
       "206               nan                         Open      53,498  \n",
       "207           890,000                         Open      34,577  \n",
       "208            60,000  Open to people 14 and older      36,373  "
      ]
     },
     "execution_count": 4,
     "metadata": {},
     "output_type": "execute_result"
    }
   ],
   "source": [
    "df.tail()"
   ]
  },
  {
   "cell_type": "markdown",
   "metadata": {},
   "source": [
    "# Análise Descritiva"
   ]
  },
  {
   "cell_type": "code",
   "execution_count": 5,
   "metadata": {},
   "outputs": [
    {
     "name": "stdout",
     "output_type": "stream",
     "text": [
      "count             138\n",
      "mean       53,670,308\n",
      "std       190,459,963\n",
      "min             1,300\n",
      "25%           422,500\n",
      "50%         3,000,000\n",
      "75%        23,142,747\n",
      "max     1,600,000,000\n",
      "Name: Registered Users, dtype: float64\n"
     ]
    },
    {
     "data": {
      "image/png": "[encoded data removed]",
      "text/plain": [
       "<Figure size 432x288 with 1 Axes>"
      ]
     },
     "metadata": {
      "needs_background": "light"
     },
     "output_type": "display_data"
    }
   ],
   "source": [
    "import seaborn as sns\n",
    "import numpy as np\n",
    "df2 = df.copy()\n",
    "df2 = df2.dropna(subset=['Registered Users'])\n",
    "sns.distplot(df2['Registered Users'])\n",
    "print(df2['Registered Users'].describe())"
   ]
  },
  {
   "cell_type": "code",
   "execution_count": 6,
   "metadata": {},
   "outputs": [
    {
     "data": {
      "text/plain": [
       "<matplotlib.axes._subplots.AxesSubplot at 0x7ffd4b5d0b50>"
      ]
     },
     "execution_count": 6,
     "metadata": {},
     "output_type": "execute_result"
    },
    {
     "data": {
      "image/png": "[encoded data removed]",
      "text/plain": [
       "<Figure size 432x288 with 1 Axes>"
      ]
     },
     "metadata": {
      "needs_background": "light"
     },
     "output_type": "display_data"
    }
   ],
   "source": [
    "sns.distplot(np.log(df2['Registered Users']))"
   ]
  },
  {
   "cell_type": "code",
   "execution_count": 7,
   "metadata": {},
   "outputs": [
    {
     "name": "stdout",
     "output_type": "stream",
     "text": [
      "count         135\n",
      "mean       80,198\n",
      "std       190,750\n",
      "min             2\n",
      "25%         1,330\n",
      "50%         8,011\n",
      "75%        42,676\n",
      "max     1,115,305\n",
      "Name: Alexa Rank, dtype: float64\n"
     ]
    },
    {
     "data": {
      "image/png": "[encoded data removed]",
      "text/plain": [
       "<Figure size 432x288 with 1 Axes>"
      ]
     },
     "metadata": {
      "needs_background": "light"
     },
     "output_type": "display_data"
    }
   ],
   "source": [
    "df2 = df2.dropna(subset=['Alexa Rank'])\n",
    "sns.distplot(df2['Alexa Rank'])\n",
    "print(df2['Alexa Rank'].describe())"
   ]
  },
  {
   "cell_type": "markdown",
   "metadata": {},
   "source": [
    "# Algumas redes socias..."
   ]
  },
  {
   "cell_type": "code",
   "execution_count": 8,
   "metadata": {},
   "outputs": [
    {
     "data": {
      "text/html": [
       "<div>\n",
       "<style scoped>\n",
       "    .dataframe tbody tr th:only-of-type {\n",
       "        vertical-align: middle;\n",
       "    }\n",
       "\n",
       "    .dataframe tbody tr th {\n",
       "        vertical-align: top;\n",
       "    }\n",
       "\n",
       "    .dataframe thead th {\n",
       "        text-align: right;\n",
       "    }\n",
       "</style>\n",
       "<table border=\"1\" class=\"dataframe\">\n",
       "  <thead>\n",
       "    <tr style=\"text-align: right;\">\n",
       "      <th></th>\n",
       "      <th>Name</th>\n",
       "      <th>Description</th>\n",
       "      <th>Date</th>\n",
       "      <th>Registered Users</th>\n",
       "      <th>Registration</th>\n",
       "      <th>Alexa Rank</th>\n",
       "    </tr>\n",
       "  </thead>\n",
       "  <tbody>\n",
       "    <tr>\n",
       "      <th>77</th>\n",
       "      <td>Google+</td>\n",
       "      <td>General</td>\n",
       "      <td>28 June 2011</td>\n",
       "      <td>1,600,000,000</td>\n",
       "      <td>Open to people 13 and older</td>\n",
       "      <td>nan</td>\n",
       "    </tr>\n",
       "  </tbody>\n",
       "</table>\n",
       "</div>"
      ],
      "text/plain": [
       "       Name Description          Date  Registered Users  \\\n",
       "77  Google+     General  28 June 2011     1,600,000,000   \n",
       "\n",
       "                    Registration  Alexa Rank  \n",
       "77  Open to people 13 and older          nan  "
      ]
     },
     "execution_count": 8,
     "metadata": {},
     "output_type": "execute_result"
    }
   ],
   "source": [
    "# procurar Redes Sociais Específicas\n",
    "\n",
    "df[df['Registered Users'] == df['Registered Users'].max() ]"
   ]
  },
  {
   "cell_type": "code",
   "execution_count": 9,
   "metadata": {},
   "outputs": [
    {
     "data": {
      "text/html": [
       "<div>\n",
       "<style scoped>\n",
       "    .dataframe tbody tr th:only-of-type {\n",
       "        vertical-align: middle;\n",
       "    }\n",
       "\n",
       "    .dataframe tbody tr th {\n",
       "        vertical-align: top;\n",
       "    }\n",
       "\n",
       "    .dataframe thead th {\n",
       "        text-align: right;\n",
       "    }\n",
       "</style>\n",
       "<table border=\"1\" class=\"dataframe\">\n",
       "  <thead>\n",
       "    <tr style=\"text-align: right;\">\n",
       "      <th></th>\n",
       "      <th>Name</th>\n",
       "      <th>Description</th>\n",
       "      <th>Date</th>\n",
       "      <th>Registered Users</th>\n",
       "      <th>Registration</th>\n",
       "      <th>Alexa Rank</th>\n",
       "    </tr>\n",
       "  </thead>\n",
       "  <tbody>\n",
       "    <tr>\n",
       "      <th>49</th>\n",
       "      <td>Facebook</td>\n",
       "      <td>General: photos, videos, blogs, apps.</td>\n",
       "      <td>February 2004</td>\n",
       "      <td>1,280,000,000</td>\n",
       "      <td>Open to people 13 and older</td>\n",
       "      <td>2</td>\n",
       "    </tr>\n",
       "  </tbody>\n",
       "</table>\n",
       "</div>"
      ],
      "text/plain": [
       "        Name                            Description           Date  \\\n",
       "49  Facebook  General: photos, videos, blogs, apps.  February 2004   \n",
       "\n",
       "    Registered Users                 Registration  Alexa Rank  \n",
       "49     1,280,000,000  Open to people 13 and older           2  "
      ]
     },
     "execution_count": 9,
     "metadata": {},
     "output_type": "execute_result"
    }
   ],
   "source": [
    "df[df.Name == \"Facebook\"]"
   ]
  },
  {
   "cell_type": "code",
   "execution_count": 10,
   "metadata": {},
   "outputs": [
    {
     "data": {
      "text/html": [
       "<div>\n",
       "<style scoped>\n",
       "    .dataframe tbody tr th:only-of-type {\n",
       "        vertical-align: middle;\n",
       "    }\n",
       "\n",
       "    .dataframe tbody tr th {\n",
       "        vertical-align: top;\n",
       "    }\n",
       "\n",
       "    .dataframe thead th {\n",
       "        text-align: right;\n",
       "    }\n",
       "</style>\n",
       "<table border=\"1\" class=\"dataframe\">\n",
       "  <thead>\n",
       "    <tr style=\"text-align: right;\">\n",
       "      <th></th>\n",
       "      <th>Name</th>\n",
       "      <th>Description</th>\n",
       "      <th>Date</th>\n",
       "      <th>Registered Users</th>\n",
       "      <th>Registration</th>\n",
       "      <th>Alexa Rank</th>\n",
       "    </tr>\n",
       "  </thead>\n",
       "  <tbody>\n",
       "    <tr>\n",
       "      <th>49</th>\n",
       "      <td>Facebook</td>\n",
       "      <td>General: photos, videos, blogs, apps.</td>\n",
       "      <td>February 2004</td>\n",
       "      <td>1,280,000,000</td>\n",
       "      <td>Open to people 13 and older</td>\n",
       "      <td>2</td>\n",
       "    </tr>\n",
       "    <tr>\n",
       "      <th>90</th>\n",
       "      <td>Instagram</td>\n",
       "      <td>A photo and video sharing site.</td>\n",
       "      <td>October 2010</td>\n",
       "      <td>300,000,000</td>\n",
       "      <td>Open to anyone 13 or older</td>\n",
       "      <td>41</td>\n",
       "    </tr>\n",
       "    <tr>\n",
       "      <th>182</th>\n",
       "      <td>Twitter</td>\n",
       "      <td>General. Micro-blogging, RSS, updates</td>\n",
       "      <td>15 July 2006</td>\n",
       "      <td>645,750,000</td>\n",
       "      <td>Open to all ages</td>\n",
       "      <td>8</td>\n",
       "    </tr>\n",
       "  </tbody>\n",
       "</table>\n",
       "</div>"
      ],
      "text/plain": [
       "          Name                            Description           Date  \\\n",
       "49    Facebook  General: photos, videos, blogs, apps.  February 2004   \n",
       "90   Instagram        A photo and video sharing site.   October 2010   \n",
       "182    Twitter  General. Micro-blogging, RSS, updates   15 July 2006   \n",
       "\n",
       "     Registered Users                 Registration  Alexa Rank  \n",
       "49      1,280,000,000  Open to people 13 and older           2  \n",
       "90        300,000,000   Open to anyone 13 or older          41  \n",
       "182       645,750,000            Open to all ages            8  "
      ]
     },
     "execution_count": 10,
     "metadata": {},
     "output_type": "execute_result"
    }
   ],
   "source": [
    "# procurar Redes Sociais Específicas\n",
    "df[df['Name'].isin([\"Twitter\", \"Facebook\", \"Instagram\"])]"
   ]
  },
  {
   "cell_type": "code",
   "execution_count": 11,
   "metadata": {},
   "outputs": [
    {
     "data": {
      "text/plain": [
       "209"
      ]
     },
     "execution_count": 11,
     "metadata": {},
     "output_type": "execute_result"
    }
   ],
   "source": [
    "len(df)"
   ]
  },
  {
   "cell_type": "markdown",
   "metadata": {},
   "source": [
    "# Pré-processamento"
   ]
  },
  {
   "cell_type": "code",
   "execution_count": 12,
   "metadata": {
    "scrolled": true
   },
   "outputs": [
    {
     "data": {
      "text/html": [
       "<div>\n",
       "<style scoped>\n",
       "    .dataframe tbody tr th:only-of-type {\n",
       "        vertical-align: middle;\n",
       "    }\n",
       "\n",
       "    .dataframe tbody tr th {\n",
       "        vertical-align: top;\n",
       "    }\n",
       "\n",
       "    .dataframe thead th {\n",
       "        text-align: right;\n",
       "    }\n",
       "</style>\n",
       "<table border=\"1\" class=\"dataframe\">\n",
       "  <thead>\n",
       "    <tr style=\"text-align: right;\">\n",
       "      <th></th>\n",
       "      <th>Name</th>\n",
       "      <th>Description</th>\n",
       "      <th>Date</th>\n",
       "      <th>Registered Users</th>\n",
       "      <th>Registration</th>\n",
       "      <th>Alexa Rank</th>\n",
       "    </tr>\n",
       "  </thead>\n",
       "  <tbody>\n",
       "    <tr>\n",
       "      <th>0</th>\n",
       "      <td>43 Things</td>\n",
       "      <td>Goal setting and achievement</td>\n",
       "      <td>1 January 2005</td>\n",
       "      <td>3,000,000</td>\n",
       "      <td>Closed</td>\n",
       "      <td>12,914</td>\n",
       "    </tr>\n",
       "    <tr>\n",
       "      <th>1</th>\n",
       "      <td>Academia.edu</td>\n",
       "      <td>Social networking site for academics/researchers</td>\n",
       "      <td>September 2008</td>\n",
       "      <td>18,000,000</td>\n",
       "      <td>Open</td>\n",
       "      <td>824</td>\n",
       "    </tr>\n",
       "    <tr>\n",
       "      <th>2</th>\n",
       "      <td>About.me</td>\n",
       "      <td>Social networking site</td>\n",
       "      <td>October 2009</td>\n",
       "      <td>5,000,000</td>\n",
       "      <td>Open</td>\n",
       "      <td>1,447</td>\n",
       "    </tr>\n",
       "    <tr>\n",
       "      <th>3</th>\n",
       "      <td>Advogato</td>\n",
       "      <td>Free and open source software developers</td>\n",
       "      <td>1999</td>\n",
       "      <td>13,575</td>\n",
       "      <td>Open</td>\n",
       "      <td>292,620</td>\n",
       "    </tr>\n",
       "    <tr>\n",
       "      <th>6</th>\n",
       "      <td>aSmallWorld</td>\n",
       "      <td>European jet set and social elite world-wide</td>\n",
       "      <td>March 2004</td>\n",
       "      <td>550,000</td>\n",
       "      <td>Invite-only</td>\n",
       "      <td>580,060</td>\n",
       "    </tr>\n",
       "  </tbody>\n",
       "</table>\n",
       "</div>"
      ],
      "text/plain": [
       "           Name                                       Description  \\\n",
       "0     43 Things                      Goal setting and achievement   \n",
       "1  Academia.edu  Social networking site for academics/researchers   \n",
       "2      About.me                            Social networking site   \n",
       "3      Advogato          Free and open source software developers   \n",
       "6   aSmallWorld      European jet set and social elite world-wide   \n",
       "\n",
       "             Date  Registered Users Registration  Alexa Rank  \n",
       "0  1 January 2005         3,000,000       Closed      12,914  \n",
       "1  September 2008        18,000,000         Open         824  \n",
       "2    October 2009         5,000,000         Open       1,447  \n",
       "3            1999            13,575         Open     292,620  \n",
       "6      March 2004           550,000  Invite-only     580,060  "
      ]
     },
     "execution_count": 12,
     "metadata": {},
     "output_type": "execute_result"
    }
   ],
   "source": [
    "# Elimina linhas com dados \"missing\" (faltosos-Nulos) e zeros\n",
    "df2 = df[np.log(df[columns]).notnull().all(axis=1)].copy()\n",
    "df2.head()"
   ]
  },
  {
   "cell_type": "code",
   "execution_count": 13,
   "metadata": {},
   "outputs": [
    {
     "data": {
      "text/plain": [
       "135"
      ]
     },
     "execution_count": 13,
     "metadata": {},
     "output_type": "execute_result"
    }
   ],
   "source": [
    "len(df2)"
   ]
  },
  {
   "cell_type": "markdown",
   "metadata": {},
   "source": [
    "# Clusterização"
   ]
  },
  {
   "cell_type": "code",
   "execution_count": 14,
   "metadata": {},
   "outputs": [
    {
     "data": {
      "text/plain": [
       "['Registered Users', 'Alexa Rank']"
      ]
     },
     "execution_count": 14,
     "metadata": {},
     "output_type": "execute_result"
    }
   ],
   "source": [
    "columns"
   ]
  },
  {
   "cell_type": "code",
   "execution_count": 15,
   "metadata": {},
   "outputs": [
    {
     "data": {
      "text/html": [
       "<div>\n",
       "<style scoped>\n",
       "    .dataframe tbody tr th:only-of-type {\n",
       "        vertical-align: middle;\n",
       "    }\n",
       "\n",
       "    .dataframe tbody tr th {\n",
       "        vertical-align: top;\n",
       "    }\n",
       "\n",
       "    .dataframe thead th {\n",
       "        text-align: right;\n",
       "    }\n",
       "</style>\n",
       "<table border=\"1\" class=\"dataframe\">\n",
       "  <thead>\n",
       "    <tr style=\"text-align: right;\">\n",
       "      <th></th>\n",
       "      <th>Registered Users</th>\n",
       "      <th>Alexa Rank</th>\n",
       "    </tr>\n",
       "  </thead>\n",
       "  <tbody>\n",
       "    <tr>\n",
       "      <th>0</th>\n",
       "      <td>3,000,000</td>\n",
       "      <td>12,914</td>\n",
       "    </tr>\n",
       "    <tr>\n",
       "      <th>1</th>\n",
       "      <td>18,000,000</td>\n",
       "      <td>824</td>\n",
       "    </tr>\n",
       "    <tr>\n",
       "      <th>2</th>\n",
       "      <td>5,000,000</td>\n",
       "      <td>1,447</td>\n",
       "    </tr>\n",
       "    <tr>\n",
       "      <th>3</th>\n",
       "      <td>13,575</td>\n",
       "      <td>292,620</td>\n",
       "    </tr>\n",
       "    <tr>\n",
       "      <th>6</th>\n",
       "      <td>550,000</td>\n",
       "      <td>580,060</td>\n",
       "    </tr>\n",
       "  </tbody>\n",
       "</table>\n",
       "</div>"
      ],
      "text/plain": [
       "   Registered Users  Alexa Rank\n",
       "0         3,000,000      12,914\n",
       "1        18,000,000         824\n",
       "2         5,000,000       1,447\n",
       "3            13,575     292,620\n",
       "6           550,000     580,060"
      ]
     },
     "execution_count": 15,
     "metadata": {},
     "output_type": "execute_result"
    }
   ],
   "source": [
    "df2.loc[:, columns].head()"
   ]
  },
  {
   "cell_type": "code",
   "execution_count": 16,
   "metadata": {},
   "outputs": [
    {
     "data": {
      "text/plain": [
       "KMeans()"
      ]
     },
     "execution_count": 16,
     "metadata": {},
     "output_type": "execute_result"
    }
   ],
   "source": [
    "# aplicar o algoritmo de clusterização\n",
    "from sklearn.cluster import KMeans\n",
    "kmeans = KMeans()\n",
    "kmeans.fit(np.log(df2[columns]))\n",
    "df2[\"Clusters\"] = kmeans.labels_\n",
    "kmeans"
   ]
  },
  {
   "cell_type": "code",
   "execution_count": 17,
   "metadata": {},
   "outputs": [
    {
     "data": {
      "text/html": [
       "<div>\n",
       "<style scoped>\n",
       "    .dataframe tbody tr th:only-of-type {\n",
       "        vertical-align: middle;\n",
       "    }\n",
       "\n",
       "    .dataframe tbody tr th {\n",
       "        vertical-align: top;\n",
       "    }\n",
       "\n",
       "    .dataframe thead th {\n",
       "        text-align: right;\n",
       "    }\n",
       "</style>\n",
       "<table border=\"1\" class=\"dataframe\">\n",
       "  <thead>\n",
       "    <tr style=\"text-align: right;\">\n",
       "      <th></th>\n",
       "      <th>Name</th>\n",
       "      <th>Description</th>\n",
       "      <th>Date</th>\n",
       "      <th>Registered Users</th>\n",
       "      <th>Registration</th>\n",
       "      <th>Alexa Rank</th>\n",
       "      <th>Clusters</th>\n",
       "    </tr>\n",
       "  </thead>\n",
       "  <tbody>\n",
       "    <tr>\n",
       "      <th>0</th>\n",
       "      <td>43 Things</td>\n",
       "      <td>Goal setting and achievement</td>\n",
       "      <td>1 January 2005</td>\n",
       "      <td>3,000,000</td>\n",
       "      <td>Closed</td>\n",
       "      <td>12,914</td>\n",
       "      <td>4</td>\n",
       "    </tr>\n",
       "    <tr>\n",
       "      <th>1</th>\n",
       "      <td>Academia.edu</td>\n",
       "      <td>Social networking site for academics/researchers</td>\n",
       "      <td>September 2008</td>\n",
       "      <td>18,000,000</td>\n",
       "      <td>Open</td>\n",
       "      <td>824</td>\n",
       "      <td>7</td>\n",
       "    </tr>\n",
       "    <tr>\n",
       "      <th>2</th>\n",
       "      <td>About.me</td>\n",
       "      <td>Social networking site</td>\n",
       "      <td>October 2009</td>\n",
       "      <td>5,000,000</td>\n",
       "      <td>Open</td>\n",
       "      <td>1,447</td>\n",
       "      <td>0</td>\n",
       "    </tr>\n",
       "    <tr>\n",
       "      <th>3</th>\n",
       "      <td>Advogato</td>\n",
       "      <td>Free and open source software developers</td>\n",
       "      <td>1999</td>\n",
       "      <td>13,575</td>\n",
       "      <td>Open</td>\n",
       "      <td>292,620</td>\n",
       "      <td>3</td>\n",
       "    </tr>\n",
       "    <tr>\n",
       "      <th>6</th>\n",
       "      <td>aSmallWorld</td>\n",
       "      <td>European jet set and social elite world-wide</td>\n",
       "      <td>March 2004</td>\n",
       "      <td>550,000</td>\n",
       "      <td>Invite-only</td>\n",
       "      <td>580,060</td>\n",
       "      <td>6</td>\n",
       "    </tr>\n",
       "  </tbody>\n",
       "</table>\n",
       "</div>"
      ],
      "text/plain": [
       "           Name                                       Description  \\\n",
       "0     43 Things                      Goal setting and achievement   \n",
       "1  Academia.edu  Social networking site for academics/researchers   \n",
       "2      About.me                            Social networking site   \n",
       "3      Advogato          Free and open source software developers   \n",
       "6   aSmallWorld      European jet set and social elite world-wide   \n",
       "\n",
       "             Date  Registered Users Registration  Alexa Rank  Clusters  \n",
       "0  1 January 2005         3,000,000       Closed      12,914         4  \n",
       "1  September 2008        18,000,000         Open         824         7  \n",
       "2    October 2009         5,000,000         Open       1,447         0  \n",
       "3            1999            13,575         Open     292,620         3  \n",
       "6      March 2004           550,000  Invite-only     580,060         6  "
      ]
     },
     "execution_count": 17,
     "metadata": {},
     "output_type": "execute_result"
    }
   ],
   "source": [
    "df2.head()"
   ]
  },
  {
   "cell_type": "code",
   "execution_count": 20,
   "metadata": {},
   "outputs": [
    {
     "data": {
      "text/plain": [
       "Name                              About.me\n",
       "Description         Social networking site\n",
       "Date                          October 2009\n",
       "Registered Users                 5,000,000\n",
       "Registration                          Open\n",
       "Alexa Rank                           1,447\n",
       "Clusters                                 0\n",
       "Name: 2, dtype: object"
      ]
     },
     "execution_count": 20,
     "metadata": {},
     "output_type": "execute_result"
    }
   ],
   "source": [
    "# acessando a tupla que contém o Facebook\n",
    "fb = df2.set_index('Name').loc['Facebook']['Clusters']\n",
    "df2.iloc[fb,:]"
   ]
  },
  {
   "cell_type": "code",
   "execution_count": 21,
   "metadata": {},
   "outputs": [
    {
     "data": {
      "text/html": [
       "<div>\n",
       "<style scoped>\n",
       "    .dataframe tbody tr th:only-of-type {\n",
       "        vertical-align: middle;\n",
       "    }\n",
       "\n",
       "    .dataframe tbody tr th {\n",
       "        vertical-align: top;\n",
       "    }\n",
       "\n",
       "    .dataframe thead th {\n",
       "        text-align: right;\n",
       "    }\n",
       "</style>\n",
       "<table border=\"1\" class=\"dataframe\">\n",
       "  <thead>\n",
       "    <tr style=\"text-align: right;\">\n",
       "      <th></th>\n",
       "      <th>Name</th>\n",
       "      <th>Description</th>\n",
       "      <th>Date</th>\n",
       "      <th>Registered Users</th>\n",
       "      <th>Registration</th>\n",
       "      <th>Alexa Rank</th>\n",
       "      <th>Clusters</th>\n",
       "    </tr>\n",
       "  </thead>\n",
       "  <tbody>\n",
       "    <tr>\n",
       "      <th>49</th>\n",
       "      <td>Facebook</td>\n",
       "      <td>General: photos, videos, blogs, apps.</td>\n",
       "      <td>February 2004</td>\n",
       "      <td>1,280,000,000</td>\n",
       "      <td>Open to people 13 and older</td>\n",
       "      <td>2</td>\n",
       "      <td>2</td>\n",
       "    </tr>\n",
       "  </tbody>\n",
       "</table>\n",
       "</div>"
      ],
      "text/plain": [
       "        Name                            Description           Date  \\\n",
       "49  Facebook  General: photos, videos, blogs, apps.  February 2004   \n",
       "\n",
       "    Registered Users                 Registration  Alexa Rank  Clusters  \n",
       "49     1,280,000,000  Open to people 13 and older           2         2  "
      ]
     },
     "execution_count": 21,
     "metadata": {},
     "output_type": "execute_result"
    }
   ],
   "source": [
    "df2[df2.Name == \"Facebook\"]"
   ]
  },
  {
   "cell_type": "code",
   "execution_count": 22,
   "metadata": {},
   "outputs": [
    {
     "data": {
      "text/html": [
       "<div>\n",
       "<style scoped>\n",
       "    .dataframe tbody tr th:only-of-type {\n",
       "        vertical-align: middle;\n",
       "    }\n",
       "\n",
       "    .dataframe tbody tr th {\n",
       "        vertical-align: top;\n",
       "    }\n",
       "\n",
       "    .dataframe thead th {\n",
       "        text-align: right;\n",
       "    }\n",
       "</style>\n",
       "<table border=\"1\" class=\"dataframe\">\n",
       "  <thead>\n",
       "    <tr style=\"text-align: right;\">\n",
       "      <th></th>\n",
       "      <th>Name</th>\n",
       "      <th>Description</th>\n",
       "      <th>Date</th>\n",
       "      <th>Registered Users</th>\n",
       "      <th>Registration</th>\n",
       "      <th>Alexa Rank</th>\n",
       "      <th>Clusters</th>\n",
       "    </tr>\n",
       "  </thead>\n",
       "  <tbody>\n",
       "    <tr>\n",
       "      <th>0</th>\n",
       "      <td>43 Things</td>\n",
       "      <td>Goal setting and achievement</td>\n",
       "      <td>1 January 2005</td>\n",
       "      <td>3,000,000</td>\n",
       "      <td>Closed</td>\n",
       "      <td>12,914</td>\n",
       "      <td>4</td>\n",
       "    </tr>\n",
       "    <tr>\n",
       "      <th>1</th>\n",
       "      <td>Academia.edu</td>\n",
       "      <td>Social networking site for academics/researchers</td>\n",
       "      <td>September 2008</td>\n",
       "      <td>18,000,000</td>\n",
       "      <td>Open</td>\n",
       "      <td>824</td>\n",
       "      <td>7</td>\n",
       "    </tr>\n",
       "    <tr>\n",
       "      <th>2</th>\n",
       "      <td>About.me</td>\n",
       "      <td>Social networking site</td>\n",
       "      <td>October 2009</td>\n",
       "      <td>5,000,000</td>\n",
       "      <td>Open</td>\n",
       "      <td>1,447</td>\n",
       "      <td>0</td>\n",
       "    </tr>\n",
       "    <tr>\n",
       "      <th>3</th>\n",
       "      <td>Advogato</td>\n",
       "      <td>Free and open source software developers</td>\n",
       "      <td>1999</td>\n",
       "      <td>13,575</td>\n",
       "      <td>Open</td>\n",
       "      <td>292,620</td>\n",
       "      <td>3</td>\n",
       "    </tr>\n",
       "    <tr>\n",
       "      <th>6</th>\n",
       "      <td>aSmallWorld</td>\n",
       "      <td>European jet set and social elite world-wide</td>\n",
       "      <td>March 2004</td>\n",
       "      <td>550,000</td>\n",
       "      <td>Invite-only</td>\n",
       "      <td>580,060</td>\n",
       "      <td>6</td>\n",
       "    </tr>\n",
       "  </tbody>\n",
       "</table>\n",
       "</div>"
      ],
      "text/plain": [
       "           Name                                       Description  \\\n",
       "0     43 Things                      Goal setting and achievement   \n",
       "1  Academia.edu  Social networking site for academics/researchers   \n",
       "2      About.me                            Social networking site   \n",
       "3      Advogato          Free and open source software developers   \n",
       "6   aSmallWorld      European jet set and social elite world-wide   \n",
       "\n",
       "             Date  Registered Users Registration  Alexa Rank  Clusters  \n",
       "0  1 January 2005         3,000,000       Closed      12,914         4  \n",
       "1  September 2008        18,000,000         Open         824         7  \n",
       "2    October 2009         5,000,000         Open       1,447         0  \n",
       "3            1999            13,575         Open     292,620         3  \n",
       "6      March 2004           550,000  Invite-only     580,060         6  "
      ]
     },
     "execution_count": 22,
     "metadata": {},
     "output_type": "execute_result"
    }
   ],
   "source": [
    "df2.head()"
   ]
  },
  {
   "cell_type": "code",
   "execution_count": 23,
   "metadata": {},
   "outputs": [
    {
     "data": {
      "text/plain": [
       "1    27\n",
       "5    25\n",
       "7    23\n",
       "0    16\n",
       "4    15\n",
       "3    13\n",
       "6     8\n",
       "2     8\n",
       "Name: Clusters, dtype: int64"
      ]
     },
     "execution_count": 23,
     "metadata": {},
     "output_type": "execute_result"
    }
   ],
   "source": [
    "df2.Clusters.value_counts()"
   ]
  },
  {
   "cell_type": "code",
   "execution_count": 24,
   "metadata": {},
   "outputs": [
    {
     "data": {
      "image/png": "[encoded data removed]",
      "text/plain": [
       "<Figure size 1008x648 with 2 Axes>"
      ]
     },
     "metadata": {
      "needs_background": "light"
     },
     "output_type": "display_data"
    }
   ],
   "source": [
    "import numpy as np\n",
    "import matplotlib.pyplot as plt\n",
    "\n",
    "from mpl_toolkits.mplot3d import Axes3D\n",
    "colors=['#12efff','#eee111','#eee00f','#e00fff','#123456','#abc222','#000000','#123fff','#1eff1f','#2edf4f','#2eaf9f',\n",
    "        '#22222f',\n",
    "        '#eeeff1','#eee112','#00ef00','#aa0000','#0000aa','#000999','#32efff','#23ef68','#2e3f56','#7eef1f','#eeef11']\n",
    "\n",
    "C=1\n",
    "\n",
    "x = df2['Registered Users'] \n",
    "y = df2['Alexa Rank']\n",
    "Cluster = df2[\"Clusters\"]    # Labels of cluster 0 to 3\n",
    "\n",
    "dim_plot = (14,9)\n",
    "fig = plt.figure(figsize=dim_plot)\n",
    "ax = fig.add_subplot(111)\n",
    "scatter = ax.scatter(x,y,c=Cluster,s=100)\n",
    "\n",
    "ax.set_xlabel('Número de Usuários Registrados')\n",
    "ax.set_ylabel('Alexa Rank')\n",
    "plt.colorbar(scatter)\n",
    "plt.title(\"Sites de Redes Sociais\")\n",
    "plt.xscale(\"log\")\n",
    "plt.yscale(\"log\")\n",
    "ax.set_aspect('auto')\n",
    "#plt.figure(figsize=(18,12))\n",
    "#plt.subplots(figsize=(12, 10))\n",
    "\n",
    "#fig.show()\n",
    "plt.show()"
   ]
  },
  {
   "cell_type": "code",
   "execution_count": 25,
   "metadata": {},
   "outputs": [
    {
     "data": {
      "image/png": "[encoded data removed]",
      "text/plain": [
       "<Figure size 1296x684 with 2 Axes>"
      ]
     },
     "metadata": {},
     "output_type": "display_data"
    }
   ],
   "source": [
    "# Select a good-locking style\n",
    "matplotlib.style.use(\"ggplot\")\n",
    "\n",
    "dim_plot = (18,9.5)\n",
    "fig = plt.figure(figsize=dim_plot)\n",
    "ax = fig.add_subplot(111)\n",
    "\n",
    "x = df2['Registered Users'] \n",
    "y = df2['Alexa Rank']\n",
    "Cluster = df2[\"Clusters\"]\n",
    "# Display the results\n",
    "scatter = ax.scatter(x,y,c=Cluster,  cmap=plt.cm.Accent,s=100)\n",
    "\n",
    "#scatter = df2.plot.scatter(columns[0], columns[1], c=\"Clusters\", \n",
    "#                       cmap=plt.cm.Accent, s=100)\n",
    "\n",
    "plt.colorbar(scatter)\n",
    "plt.title(\"Massive online social networking sites\")\n",
    "plt.xscale(\"log\")\n",
    "plt.yscale(\"log\")\n",
    "ax.set_aspect('auto')\n",
    "\n",
    "\n",
    "# Annotate the most prominent sites\n",
    "def add_abbr(site):\n",
    "    if site['Clusters'] == fb:\n",
    "        _ = ax.annotate(site[\"Name\"], site[columns], xytext=(1, 5), \n",
    "                        textcoords=\"offset points\", size=8,\n",
    "                        color=\"darkslategrey\")\n",
    "df2.apply(add_abbr, axis=1)\n",
    "#ax.set_aspect('auto')\n",
    "#ax.set_aspect(.5)\n",
    "plt.show()"
   ]
  },
  {
   "cell_type": "code",
   "execution_count": 26,
   "metadata": {},
   "outputs": [
    {
     "data": {
      "text/html": [
       "<div>\n",
       "<style scoped>\n",
       "    .dataframe tbody tr th:only-of-type {\n",
       "        vertical-align: middle;\n",
       "    }\n",
       "\n",
       "    .dataframe tbody tr th {\n",
       "        vertical-align: top;\n",
       "    }\n",
       "\n",
       "    .dataframe thead th {\n",
       "        text-align: right;\n",
       "    }\n",
       "</style>\n",
       "<table border=\"1\" class=\"dataframe\">\n",
       "  <thead>\n",
       "    <tr style=\"text-align: right;\">\n",
       "      <th></th>\n",
       "      <th>Name</th>\n",
       "      <th>Description</th>\n",
       "      <th>Date</th>\n",
       "      <th>Registered Users</th>\n",
       "      <th>Registration</th>\n",
       "      <th>Alexa Rank</th>\n",
       "      <th>Clusters</th>\n",
       "    </tr>\n",
       "  </thead>\n",
       "  <tbody>\n",
       "    <tr>\n",
       "      <th>0</th>\n",
       "      <td>43 Things</td>\n",
       "      <td>Goal setting and achievement</td>\n",
       "      <td>1 January 2005</td>\n",
       "      <td>3,000,000</td>\n",
       "      <td>Closed</td>\n",
       "      <td>12,914</td>\n",
       "      <td>4</td>\n",
       "    </tr>\n",
       "    <tr>\n",
       "      <th>1</th>\n",
       "      <td>Academia.edu</td>\n",
       "      <td>Social networking site for academics/researchers</td>\n",
       "      <td>September 2008</td>\n",
       "      <td>18,000,000</td>\n",
       "      <td>Open</td>\n",
       "      <td>824</td>\n",
       "      <td>7</td>\n",
       "    </tr>\n",
       "    <tr>\n",
       "      <th>2</th>\n",
       "      <td>About.me</td>\n",
       "      <td>Social networking site</td>\n",
       "      <td>October 2009</td>\n",
       "      <td>5,000,000</td>\n",
       "      <td>Open</td>\n",
       "      <td>1,447</td>\n",
       "      <td>0</td>\n",
       "    </tr>\n",
       "    <tr>\n",
       "      <th>3</th>\n",
       "      <td>Advogato</td>\n",
       "      <td>Free and open source software developers</td>\n",
       "      <td>1999</td>\n",
       "      <td>13,575</td>\n",
       "      <td>Open</td>\n",
       "      <td>292,620</td>\n",
       "      <td>3</td>\n",
       "    </tr>\n",
       "    <tr>\n",
       "      <th>6</th>\n",
       "      <td>aSmallWorld</td>\n",
       "      <td>European jet set and social elite world-wide</td>\n",
       "      <td>March 2004</td>\n",
       "      <td>550,000</td>\n",
       "      <td>Invite-only</td>\n",
       "      <td>580,060</td>\n",
       "      <td>6</td>\n",
       "    </tr>\n",
       "  </tbody>\n",
       "</table>\n",
       "</div>"
      ],
      "text/plain": [
       "           Name                                       Description  \\\n",
       "0     43 Things                      Goal setting and achievement   \n",
       "1  Academia.edu  Social networking site for academics/researchers   \n",
       "2      About.me                            Social networking site   \n",
       "3      Advogato          Free and open source software developers   \n",
       "6   aSmallWorld      European jet set and social elite world-wide   \n",
       "\n",
       "             Date  Registered Users Registration  Alexa Rank  Clusters  \n",
       "0  1 January 2005         3,000,000       Closed      12,914         4  \n",
       "1  September 2008        18,000,000         Open         824         7  \n",
       "2    October 2009         5,000,000         Open       1,447         0  \n",
       "3            1999            13,575         Open     292,620         3  \n",
       "6      March 2004           550,000  Invite-only     580,060         6  "
      ]
     },
     "execution_count": 26,
     "metadata": {},
     "output_type": "execute_result"
    }
   ],
   "source": [
    "df2.head()"
   ]
  },
  {
   "cell_type": "code",
   "execution_count": 27,
   "metadata": {},
   "outputs": [
    {
     "data": {
      "text/html": [
       "<div>\n",
       "<style scoped>\n",
       "    .dataframe tbody tr th:only-of-type {\n",
       "        vertical-align: middle;\n",
       "    }\n",
       "\n",
       "    .dataframe tbody tr th {\n",
       "        vertical-align: top;\n",
       "    }\n",
       "\n",
       "    .dataframe thead th {\n",
       "        text-align: right;\n",
       "    }\n",
       "</style>\n",
       "<table border=\"1\" class=\"dataframe\">\n",
       "  <thead>\n",
       "    <tr style=\"text-align: right;\">\n",
       "      <th></th>\n",
       "      <th>Name</th>\n",
       "      <th>Description</th>\n",
       "      <th>Date</th>\n",
       "      <th>Registered Users</th>\n",
       "      <th>Registration</th>\n",
       "      <th>Alexa Rank</th>\n",
       "      <th>Clusters</th>\n",
       "    </tr>\n",
       "  </thead>\n",
       "  <tbody>\n",
       "    <tr>\n",
       "      <th>49</th>\n",
       "      <td>Facebook</td>\n",
       "      <td>General: photos, videos, blogs, apps.</td>\n",
       "      <td>February 2004</td>\n",
       "      <td>1,280,000,000</td>\n",
       "      <td>Open to people 13 and older</td>\n",
       "      <td>2</td>\n",
       "      <td>2</td>\n",
       "    </tr>\n",
       "  </tbody>\n",
       "</table>\n",
       "</div>"
      ],
      "text/plain": [
       "        Name                            Description           Date  \\\n",
       "49  Facebook  General: photos, videos, blogs, apps.  February 2004   \n",
       "\n",
       "    Registered Users                 Registration  Alexa Rank  Clusters  \n",
       "49     1,280,000,000  Open to people 13 and older           2         2  "
      ]
     },
     "execution_count": 27,
     "metadata": {},
     "output_type": "execute_result"
    }
   ],
   "source": [
    "# Cluster do Facebook\n",
    "df2[df2.Name == \"Facebook\"]"
   ]
  },
  {
   "cell_type": "code",
   "execution_count": 28,
   "metadata": {},
   "outputs": [
    {
     "data": {
      "text/html": [
       "<div>\n",
       "<style scoped>\n",
       "    .dataframe tbody tr th:only-of-type {\n",
       "        vertical-align: middle;\n",
       "    }\n",
       "\n",
       "    .dataframe tbody tr th {\n",
       "        vertical-align: top;\n",
       "    }\n",
       "\n",
       "    .dataframe thead th {\n",
       "        text-align: right;\n",
       "    }\n",
       "</style>\n",
       "<table border=\"1\" class=\"dataframe\">\n",
       "  <thead>\n",
       "    <tr style=\"text-align: right;\">\n",
       "      <th></th>\n",
       "      <th>Name</th>\n",
       "      <th>Description</th>\n",
       "      <th>Date</th>\n",
       "      <th>Registered Users</th>\n",
       "      <th>Registration</th>\n",
       "      <th>Alexa Rank</th>\n",
       "      <th>Clusters</th>\n",
       "    </tr>\n",
       "  </thead>\n",
       "  <tbody>\n",
       "    <tr>\n",
       "      <th>182</th>\n",
       "      <td>Twitter</td>\n",
       "      <td>General. Micro-blogging, RSS, updates</td>\n",
       "      <td>15 July 2006</td>\n",
       "      <td>645,750,000</td>\n",
       "      <td>Open to all ages</td>\n",
       "      <td>8</td>\n",
       "      <td>2</td>\n",
       "    </tr>\n",
       "  </tbody>\n",
       "</table>\n",
       "</div>"
      ],
      "text/plain": [
       "        Name                            Description          Date  \\\n",
       "182  Twitter  General. Micro-blogging, RSS, updates  15 July 2006   \n",
       "\n",
       "     Registered Users       Registration  Alexa Rank  Clusters  \n",
       "182       645,750,000  Open to all ages            8         2  "
      ]
     },
     "execution_count": 28,
     "metadata": {},
     "output_type": "execute_result"
    }
   ],
   "source": [
    "# Cluster do Twitter\n",
    "df2[df2.Name == \"Twitter\"]"
   ]
  },
  {
   "cell_type": "code",
   "execution_count": 29,
   "metadata": {},
   "outputs": [
    {
     "data": {
      "text/html": [
       "<div>\n",
       "<style scoped>\n",
       "    .dataframe tbody tr th:only-of-type {\n",
       "        vertical-align: middle;\n",
       "    }\n",
       "\n",
       "    .dataframe tbody tr th {\n",
       "        vertical-align: top;\n",
       "    }\n",
       "\n",
       "    .dataframe thead th {\n",
       "        text-align: right;\n",
       "    }\n",
       "</style>\n",
       "<table border=\"1\" class=\"dataframe\">\n",
       "  <thead>\n",
       "    <tr style=\"text-align: right;\">\n",
       "      <th></th>\n",
       "      <th>Name</th>\n",
       "      <th>Description</th>\n",
       "      <th>Date</th>\n",
       "      <th>Registered Users</th>\n",
       "      <th>Registration</th>\n",
       "      <th>Alexa Rank</th>\n",
       "      <th>Clusters</th>\n",
       "    </tr>\n",
       "  </thead>\n",
       "  <tbody>\n",
       "    <tr>\n",
       "      <th>1</th>\n",
       "      <td>Academia.edu</td>\n",
       "      <td>Social networking site for academics/researchers</td>\n",
       "      <td>September 2008</td>\n",
       "      <td>18,000,000</td>\n",
       "      <td>Open</td>\n",
       "      <td>824</td>\n",
       "      <td>7</td>\n",
       "    </tr>\n",
       "  </tbody>\n",
       "</table>\n",
       "</div>"
      ],
      "text/plain": [
       "           Name                                       Description  \\\n",
       "1  Academia.edu  Social networking site for academics/researchers   \n",
       "\n",
       "             Date  Registered Users Registration  Alexa Rank  Clusters  \n",
       "1  September 2008        18,000,000         Open         824         7  "
      ]
     },
     "execution_count": 29,
     "metadata": {},
     "output_type": "execute_result"
    }
   ],
   "source": [
    "# Cluster do Academia.edu \n",
    "df2[df2.Name == \"Academia.edu\"]"
   ]
  },
  {
   "cell_type": "code",
   "execution_count": null,
   "metadata": {},
   "outputs": [],
   "source": [
    "df2[df2.Name == \"Instagram\"]"
   ]
  },
  {
   "cell_type": "markdown",
   "metadata": {},
   "source": [
    "# Predição de novos dados"
   ]
  },
  {
   "cell_type": "code",
   "execution_count": null,
   "metadata": {},
   "outputs": [],
   "source": [
    "df2.head()"
   ]
  },
  {
   "cell_type": "code",
   "execution_count": null,
   "metadata": {},
   "outputs": [],
   "source": [
    "df2.tail()"
   ]
  },
  {
   "cell_type": "code",
   "execution_count": null,
   "metadata": {},
   "outputs": [],
   "source": [
    "import numpy as np\n",
    "\n",
    "columns = ['Registered Users', 'Alexa Rank']\n",
    "dados_x = [[1800000, 842], [5000000, 1200], [60000, 35000] ]\n",
    "filmes = np.log([[1800000, 842], [5000000, 1200], [60000, 35000]])\n",
    "kmeans.predict(filmes)"
   ]
  },
  {
   "cell_type": "code",
   "execution_count": null,
   "metadata": {},
   "outputs": [],
   "source": [
    "# Select a good-locking style\n",
    "matplotlib.style.use(\"ggplot\")\n",
    "\n",
    "dim_plot = (18,9.5)\n",
    "fig = plt.figure(figsize=dim_plot)\n",
    "ax = fig.add_subplot(111)\n",
    "\n",
    "x = df2['Registered Users'] \n",
    "y = df2['Alexa Rank']\n",
    "Cluster = df2[\"Clusters\"]\n",
    "# Display the results\n",
    "scatter = ax.scatter(x,y,c=Cluster,  cmap=plt.cm.Accent,s=100)\n",
    "\n",
    "#scatter = df2.plot.scatter(columns[0], columns[1], c=\"Clusters\", \n",
    "#                       cmap=plt.cm.Accent, s=100)\n",
    "\n",
    "plt.colorbar(scatter)\n",
    "plt.title(\"Massive online social networking sites\")\n",
    "plt.xscale(\"log\")\n",
    "plt.yscale(\"log\")\n",
    "ax.set_aspect('auto')\n",
    "\n",
    "\n",
    "# Annotate the most prominent sites\n",
    "def add_abbr(site):\n",
    "    if site['Clusters'] == fb:\n",
    "        _ = ax.annotate(site[\"Name\"], site[columns], xytext=(1, 5), \n",
    "                        textcoords=\"offset points\", size=8,\n",
    "                        color=\"darkslategrey\")\n",
    "df2.apply(add_abbr, axis=1)\n",
    "#ax.set_aspect('auto')\n",
    "#ax.set_aspect(.5)\n",
    "\n",
    "# os novos dados\n",
    "dados_x = [[1800000, 842], [5000000, 1200], [60000, 35000] ]\n",
    "x_new = [x[0] for x in dados_x]\n",
    "y_new = [y[1] for y in dados_x]\n",
    "plt.scatter(x_new,y_new, c='red', marker='x', s=100)\n",
    "\n",
    "plt.show()"
   ]
  },
  {
   "cell_type": "markdown",
   "metadata": {
    "collapsed": true
   },
   "source": [
    "#  Determinando o melhor número de Clusters (Elbow Method)"
   ]
  },
  {
   "cell_type": "code",
   "execution_count": 30,
   "metadata": {},
   "outputs": [
    {
     "name": "stdout",
     "output_type": "stream",
     "text": [
      "['-2,367,150,933,656,047,104', '-635,896,091,657,380,864', '-225,315,240,511,212,288', '-83,721,721,662,697,392', '-32,748,926,094,538,392', '-18,033,409,285,934,744', '-10,673,231,163,854,690', '-6,912,139,416,913,356', '-4,411,692,831,285,032']\n"
     ]
    }
   ],
   "source": [
    "import numpy as np\n",
    "np.set_printoptions(suppress=True, precision=4)\n",
    "\n",
    "Xy = df2.loc[:, ['Registered Users', 'Alexa Rank']]\n",
    "\n",
    "Ks = range(1, 10)\n",
    "km = [KMeans(n_clusters=i) for i in Ks]\n",
    "score = [km[i].fit(Xy).score(Xy) for i in range(len(km))]\n",
    "formatted_score = map(lambda x : '{:,.0f}'.format(x), score)\n",
    "print(list(formatted_score))"
   ]
  },
  {
   "cell_type": "code",
   "execution_count": 31,
   "metadata": {},
   "outputs": [
    {
     "data": {
      "image/png": "[encoded data removed]",
      "text/plain": [
       "<Figure size 432x288 with 1 Axes>"
      ]
     },
     "metadata": {},
     "output_type": "display_data"
    }
   ],
   "source": [
    "plt.scatter( list(range(len(score))), score, c=\"b\")\n",
    "plt.title(\"Curva de Elbow\")\n",
    "plt.xlabel(\"Clusters\")\n",
    "plt.ylabel(\"Distorção\")\n",
    "plt.show()"
   ]
  },
  {
   "cell_type": "code",
   "execution_count": null,
   "metadata": {},
   "outputs": [],
   "source": []
  }
 ],
 "metadata": {
  "kernelspec": {
   "display_name": "Python 3",
   "language": "python",
   "name": "python3"
  },
  "language_info": {
   "codemirror_mode": {
    "name": "ipython",
    "version": 3
   },
   "file_extension": ".py",
   "mimetype": "text/x-python",
   "name": "python",
   "nbconvert_exporter": "python",
   "pygments_lexer": "ipython3",
   "version": "3.8.3"
  }
 },
 "nbformat": 4,
 "nbformat_minor": 2
}
