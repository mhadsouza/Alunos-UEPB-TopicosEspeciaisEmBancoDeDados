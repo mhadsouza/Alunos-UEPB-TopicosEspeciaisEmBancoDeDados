{
  "nbformat": 4,
  "nbformat_minor": 0,
  "metadata": {
    "colab": {
      "name": "keras-Celsius-to-Fahrenheit-Versao-FINAL.ipynb",
      "provenance": [],
      "collapsed_sections": [],
      "include_colab_link": true
    },
    "kernelspec": {
      "name": "python3",
      "display_name": "Python 3"
    },
    "accelerator": "GPU"
  },
  "cells": [
    {
      "cell_type": "markdown",
      "metadata": {
        "id": "view-in-github",
        "colab_type": "text"
      },
      "source": [
        "<a href=\"https://colab.research.google.com/github/vladimiralencar/Alunos-UEPB-TopicosEspeciaisEmBancoDeDados/blob/master/deeplearning/keras_Celsius_to_Fahrenheit_Versao_FINAL.ipynb\" target=\"_parent\"><img src=\"https://colab.research.google.com/assets/colab-badge.svg\" alt=\"Open In Colab\"/></a>"
      ]
    },
    {
      "cell_type": "markdown",
      "metadata": {
        "colab_type": "text",
        "id": "YHI3vyhv5p85"
      },
      "source": [
        "# Treinando um modelo simples usando Keras"
      ]
    },
    {
      "cell_type": "code",
      "metadata": {
        "id": "UvJCkw9RcExc",
        "colab_type": "code",
        "colab": {
          "base_uri": "https://localhost:8080/",
          "height": 306
        },
        "outputId": "621f329a-0c77-4d46-ba61-721c8a50e768"
      },
      "source": [
        "!nvidia-smi"
      ],
      "execution_count": 1,
      "outputs": [
        {
          "output_type": "stream",
          "text": [
            "Tue Dec  3 15:45:51 2019       \n",
            "+-----------------------------------------------------------------------------+\n",
            "| NVIDIA-SMI 440.33.01    Driver Version: 418.67       CUDA Version: 10.1     |\n",
            "|-------------------------------+----------------------+----------------------+\n",
            "| GPU  Name        Persistence-M| Bus-Id        Disp.A | Volatile Uncorr. ECC |\n",
            "| Fan  Temp  Perf  Pwr:Usage/Cap|         Memory-Usage | GPU-Util  Compute M. |\n",
            "|===============================+======================+======================|\n",
            "|   0  Tesla K80           Off  | 00000000:00:04.0 Off |                    0 |\n",
            "| N/A   42C    P8    28W / 149W |      0MiB / 11441MiB |      0%      Default |\n",
            "+-------------------------------+----------------------+----------------------+\n",
            "                                                                               \n",
            "+-----------------------------------------------------------------------------+\n",
            "| Processes:                                                       GPU Memory |\n",
            "|  GPU       PID   Type   Process name                             Usage      |\n",
            "|=============================================================================|\n",
            "|  No running processes found                                                 |\n",
            "+-----------------------------------------------------------------------------+\n"
          ],
          "name": "stdout"
        }
      ]
    },
    {
      "cell_type": "markdown",
      "metadata": {
        "colab_type": "text",
        "id": "F8YVA_634OFk"
      },
      "source": [
        "O problema é converter de Graus  Celsius para Fahrenheit,  a  fórmula é:\n",
        "\n",
        "$$ f = c \\times 1.8 + 32 $$\n",
        "\n",
        "\n",
        "No nosso caso, vamos informar valores em Celsius  (0, 8, 15, 22, 38) and seus correspondenets em Fahrenheit (32, 46, 59, 72, 100).\n",
        "\n",
        "Então, vamos treinar o modelo para \"APRENDER\" A fórmula acima."
      ]
    },
    {
      "cell_type": "markdown",
      "metadata": {
        "id": "HKWOTGDN9-fJ",
        "colab_type": "text"
      },
      "source": [
        "![alt text](https://raw.githubusercontent.com/vladimiralencar/Alunos-UEPB-TopicosEspeciaisEmBancoDeDados/master/deeplearning/data/temperatures.png)"
      ]
    },
    {
      "cell_type": "markdown",
      "metadata": {
        "colab_type": "text",
        "id": "fA93WUy1zzWf"
      },
      "source": [
        "## Importando dependências e bibliotecas\n"
      ]
    },
    {
      "cell_type": "code",
      "metadata": {
        "colab_type": "code",
        "id": "X9uIpOS2zx7k",
        "colab": {
          "base_uri": "https://localhost:8080/",
          "height": 63
        },
        "outputId": "bcf34a3b-3a21-46e5-fef0-7f208d2f90f4"
      },
      "source": [
        "from __future__ import absolute_import, division, print_function, unicode_literals\n",
        "import tensorflow as tf\n",
        "\n",
        "import numpy as np\n",
        "import logging\n",
        "logger = tf.get_logger()\n",
        "logger.setLevel(logging.ERROR)"
      ],
      "execution_count": 2,
      "outputs": [
        {
          "output_type": "display_data",
          "data": {
            "text/html": [
              "<p style=\"color: red;\">\n",
              "The default version of TensorFlow in Colab will soon switch to TensorFlow 2.x.<br>\n",
              "We recommend you <a href=\"https://www.tensorflow.org/guide/migrate\" target=\"_blank\">upgrade</a> now \n",
              "or ensure your notebook will continue to use TensorFlow 1.x via the <code>%tensorflow_version 1.x</code> magic:\n",
              "<a href=\"https://colab.research.google.com/notebooks/tensorflow_version.ipynb\" target=\"_blank\">more info</a>.</p>\n"
            ],
            "text/plain": [
              "<IPython.core.display.HTML object>"
            ]
          },
          "metadata": {
            "tags": []
          }
        }
      ]
    },
    {
      "cell_type": "markdown",
      "metadata": {
        "colab_type": "text",
        "id": "AC3EQFi20buB"
      },
      "source": [
        "##  dados de treino\n",
        "\n",
        "temperaturas em Graus Celsius e Graus Fahrenheit"
      ]
    },
    {
      "cell_type": "code",
      "metadata": {
        "colab_type": "code",
        "id": "gg4pn6aI1vms",
        "colab": {
          "base_uri": "https://localhost:8080/",
          "height": 153
        },
        "outputId": "2e933652-cafa-407a-f072-605aae83841b"
      },
      "source": [
        "celsius_q    = np.array([-40, -10,  0,  8, 15, 22,  38, 40],  dtype=float)\n",
        "fahrenheit_a = np.array([-40,  14, 32, 46, 59, 72, 100, 104],  dtype=float)\n",
        "\n",
        "for i,c in enumerate(celsius_q):\n",
        "  print(\"{} Graus Celsius = {} Graus Fahrenheit\".format(c, fahrenheit_a[i]))"
      ],
      "execution_count": 29,
      "outputs": [
        {
          "output_type": "stream",
          "text": [
            "-40.0 Graus Celsius = -40.0 Graus Fahrenheit\n",
            "-10.0 Graus Celsius = 14.0 Graus Fahrenheit\n",
            "0.0 Graus Celsius = 32.0 Graus Fahrenheit\n",
            "8.0 Graus Celsius = 46.0 Graus Fahrenheit\n",
            "15.0 Graus Celsius = 59.0 Graus Fahrenheit\n",
            "22.0 Graus Celsius = 72.0 Graus Fahrenheit\n",
            "38.0 Graus Celsius = 100.0 Graus Fahrenheit\n",
            "40.0 Graus Celsius = 104.0 Graus Fahrenheit\n"
          ],
          "name": "stdout"
        }
      ]
    },
    {
      "cell_type": "code",
      "metadata": {
        "id": "2zkqmYQTep8e",
        "colab_type": "code",
        "colab": {
          "base_uri": "https://localhost:8080/",
          "height": 34
        },
        "outputId": "dc6404c4-e968-4408-f7ab-30be2b9561b1"
      },
      "source": [
        "c = 40\n",
        "f =c *1.8+32\n",
        "f"
      ],
      "execution_count": 28,
      "outputs": [
        {
          "output_type": "execute_result",
          "data": {
            "text/plain": [
              "104.0"
            ]
          },
          "metadata": {
            "tags": []
          },
          "execution_count": 28
        }
      ]
    },
    {
      "cell_type": "markdown",
      "metadata": {
        "colab_type": "text",
        "id": "VM7_9Klvq7MO"
      },
      "source": [
        "## Criando o modelo \n",
        "\n",
        "\n",
        "### Construindo camadas\n",
        "\n",
        "\n",
        "Parâmetros de configuração:\n",
        "\n",
        "\n",
        "*   `input_shape=[1]` — O shape dos dados de entrada. No nosso exemplo, o tamanho é igual a 1 (Uma temperatura em Graus Celsius)\n",
        "\n",
        "\n",
        "*   `units=1` — O Número de neurônios da camada. (Colocamos somente 1 neurônio, mas, dependendo do problema, podemos variar 10, 100, 1000 neurônioas, etc)\n",
        "\n"
      ]
    },
    {
      "cell_type": "code",
      "metadata": {
        "colab_type": "code",
        "id": "pRllo2HLfXiu",
        "colab": {}
      },
      "source": [
        "layer0 = tf.keras.layers.Dense(units=1, input_shape=[1])  "
      ],
      "execution_count": 0,
      "outputs": []
    },
    {
      "cell_type": "markdown",
      "metadata": {
        "colab_type": "text",
        "id": "_F00_J9duLBD"
      },
      "source": [
        "### Construindo Layers (camadas) no modelo\n",
        "\n",
        "\n",
        "Este modelo tem somente uma camada ou  layer (layer0)"
      ]
    },
    {
      "cell_type": "code",
      "metadata": {
        "colab_type": "code",
        "id": "cSp-GpLSuMRq",
        "colab": {}
      },
      "source": [
        "model = tf.keras.Sequential([layer0])"
      ],
      "execution_count": 0,
      "outputs": []
    },
    {
      "cell_type": "markdown",
      "metadata": {
        "colab_type": "text",
        "id": "kiZG7uhm8qCF"
      },
      "source": [
        "## Compilar o modelo, com o loss (função de peda) and função de otimização\n",
        ":\n",
        "\n",
        "- **Loss function** — Função de perda - Forma de medir o quanto as previsões estão próximas dos resultados ( y  e ypred).  Essa diferença é chamada de perda, função de custo ou \"loss\"\n",
        "\n",
        "- **Optimizer function** — A forma de adjustar o pesos internos com o objetivo de reduzir a perda\n",
        "\n"
      ]
    },
    {
      "cell_type": "code",
      "metadata": {
        "colab_type": "code",
        "id": "m8YQN1H41L-Y",
        "colab": {}
      },
      "source": [
        "model.compile(loss='mean_squared_error',\n",
        "              optimizer=tf.keras.optimizers.Adam(0.1))"
      ],
      "execution_count": 0,
      "outputs": []
    },
    {
      "cell_type": "markdown",
      "metadata": {
        "colab_type": "text",
        "id": "17M3Pqv4P52R"
      },
      "source": [
        "\n",
        "\n",
        "A função de perda -  loss function ([mean squared error](https://en.wikipedia.org/wiki/Mean_squared_error)) e o otimizador  ([Adam](https://machinelearningmastery.com/adam-optimization-algorithm-for-deep-learning/)) foram usados neste modelo. \n",
        "\n",
        "Precisamento definir no Otimizador, a taxa de aprendizado (learning rate), valor 0.1 acima.\n",
        "Se a taxa de aprendizagem é muito pequena, o modelo precisará de muitas iterações para treinar o modelo. Se for muito grande, poderá ter uma acurácia menor.\n",
        "Um bom valor de learning rate necessita de tentativa e erro, mas é muito comum um valor entre 0.001 (default) e 0.1.\n"
      ]
    },
    {
      "cell_type": "markdown",
      "metadata": {
        "colab_type": "text",
        "id": "c-Jk4dG91dvD"
      },
      "source": [
        "## Treinando o modelo\n",
        "\n",
        "Train the model by calling the `fit` method. \n",
        "\n",
        "No treinamento do modelo, são encontrando os pesos (weights).\n",
        "Inicialmente os pesos são inicializados randomicamente. A diferença entre a saída atual (y_previsto) e a saída desejada (y) é calculada usando a função de perda (loss function), e o otimizador acha quais os pesos ideais.\n",
        "\n",
        "Este ciclo de calcular, comparar e ajustar os pesos é controlado pelo método `fit`.\n",
        "\n",
        "As épocas (`epochs`) es.pecifica quantas vezes vamos integir como todo o conjunto de dados de entrada (X).\n"
      ]
    },
    {
      "cell_type": "code",
      "metadata": {
        "colab_type": "code",
        "id": "lpRrl7WK10Pq",
        "colab": {
          "base_uri": "https://localhost:8080/",
          "height": 34
        },
        "outputId": "acf9156e-47d7-485d-be85-c2e238d25e93"
      },
      "source": [
        "history = model.fit(celsius_q, fahrenheit_a, epochs=500, verbose=False)\n",
        "print(\"Finished training the model\")"
      ],
      "execution_count": 33,
      "outputs": [
        {
          "output_type": "stream",
          "text": [
            "Finished training the model\n"
          ],
          "name": "stdout"
        }
      ]
    },
    {
      "cell_type": "code",
      "metadata": {
        "id": "ZgD5G6dQDwXo",
        "colab_type": "code",
        "colab": {}
      },
      "source": [
        "#history.history['loss']"
      ],
      "execution_count": 0,
      "outputs": []
    },
    {
      "cell_type": "markdown",
      "metadata": {
        "colab_type": "text",
        "id": "0-QsNCLD4MJZ"
      },
      "source": [
        "## Display training statistics\n",
        "\n",
        "O métido  `fit` retorna um objeto 'history' que contem o erro (loss) de cada época de treinamento.\n",
        "\n",
        "\n",
        "\n"
      ]
    },
    {
      "cell_type": "code",
      "metadata": {
        "colab_type": "code",
        "id": "IeK6BzfbdO6_",
        "colab": {
          "base_uri": "https://localhost:8080/",
          "height": 296
        },
        "outputId": "c5cbac7b-f471-4c4b-e3c6-13550b6c704c"
      },
      "source": [
        "import matplotlib.pyplot as plt\n",
        "plt.xlabel('Epoch Number')\n",
        "plt.ylabel(\"Loss Magnitude\")\n",
        "plt.plot(history.history['loss'])"
      ],
      "execution_count": 34,
      "outputs": [
        {
          "output_type": "execute_result",
          "data": {
            "text/plain": [
              "[<matplotlib.lines.Line2D at 0x7fc3ae9aea58>]"
            ]
          },
          "metadata": {
            "tags": []
          },
          "execution_count": 34
        },
        {
          "output_type": "display_data",
          "data": {
            "image/png": "[encoded data removed]",
            "text/plain": [
              "<Figure size 432x288 with 1 Axes>"
            ]
          },
          "metadata": {
            "tags": []
          }
        }
      ]
    },
    {
      "cell_type": "markdown",
      "metadata": {
        "colab_type": "text",
        "id": "LtQGDMob5LOD"
      },
      "source": [
        "## Usando o modelo prever novos valores\n"
      ]
    },
    {
      "cell_type": "code",
      "metadata": {
        "colab_type": "code",
        "id": "oxNzL4lS2Gui",
        "colab": {
          "base_uri": "https://localhost:8080/",
          "height": 34
        },
        "outputId": "79d88603-e911-4902-8862-3930a7a406af"
      },
      "source": [
        "print(model.predict([100.0])[0][0])"
      ],
      "execution_count": 35,
      "outputs": [
        {
          "output_type": "stream",
          "text": [
            "213.04485\n"
          ],
          "name": "stdout"
        }
      ]
    },
    {
      "cell_type": "markdown",
      "metadata": {
        "colab_type": "text",
        "id": "jApk6tZ1fBg1"
      },
      "source": [
        "A resposta correta é $100 \\times 1.8 + 32 = 212$, e nosso modelo preveu o valor de 211.7474 (erro de 0.2526, muito próximo)\n"
      ]
    },
    {
      "cell_type": "markdown",
      "metadata": {
        "colab_type": "text",
        "id": "zRrOky5gm20Z"
      },
      "source": [
        "## a Matriz de pesos (layer weights)\n"
      ]
    },
    {
      "cell_type": "code",
      "metadata": {
        "colab_type": "code",
        "id": "kmIkVdkbnZJI",
        "colab": {
          "base_uri": "https://localhost:8080/",
          "height": 34
        },
        "outputId": "5c46a859-7b96-4916-c881-54f7a2e6c0d5"
      },
      "source": [
        "print(\"Matriz de pesos: {}\".format(layer0.get_weights()))"
      ],
      "execution_count": 36,
      "outputs": [
        {
          "output_type": "stream",
          "text": [
            "Matriz de pesos: [array([[1.8459387]], dtype=float32), array([28.45097], dtype=float32)]\n"
          ],
          "name": "stdout"
        }
      ]
    },
    {
      "cell_type": "markdown",
      "metadata": {
        "colab_type": "text",
        "id": "RSplSnMvnWC-"
      },
      "source": [
        "A primeira variável está próxima a  ~1.8 e a segunda a  ~32. Esses valores (1.8 and 32) são os valores reais da fórmula de conversão.\n",
        "\n",
        "Fórmula $y = mx + b$, onde, $f = 1.8c + 32$.\n",
        "Fórmula aprendida $f = 1.820181c + 29.3202$.\n",
        "\n",
        "\n",
        "### Melhorando a previsão\n",
        "\n",
        "Vamos colocar mais camadas, para tentar melhorar a precisão."
      ]
    },
    {
      "cell_type": "code",
      "metadata": {
        "colab_type": "code",
        "id": "Y2zTA-rDS5Xk",
        "colab": {
          "base_uri": "https://localhost:8080/",
          "height": 1000
        },
        "outputId": "cb67bdf4-33f6-4916-b75b-850ef30956ef"
      },
      "source": [
        "l0 = tf.keras.layers.Dense(units=8, input_shape=[1])  \n",
        "l1 = tf.keras.layers.Dense(units=16)  # 10 \n",
        "l1_1 = tf.keras.layers.Dense(units=16)  # 10 \n",
        "l2 = tf.keras.layers.Dense(units=1) \n",
        "model = tf.keras.Sequential([l0, l1, l1_1, l2])\n",
        "model.compile(loss='mean_squared_error', optimizer=tf.keras.optimizers.Adam(0.01))\n",
        "model.fit(celsius_q, fahrenheit_a, epochs=500, verbose=False)\n",
        "print(\"Treinamento concluído\")\n",
        "print('Temperatura Prevista:',model.predict([100.0])[0][0])\n",
        "print()\n",
        "print()\n",
        "print(\"pesos da camada l0: {}\".format(l0.get_weights()))\n",
        "print(\"pesos da camada l1: {}\".format(l1.get_weights()))\n",
        "print(\"pesos da camada l2: {}\".format(l2.get_weights()))\n",
        "# 211.74745\n",
        "# 211.98201 - learning_rate = 0.01\n",
        "# 211.83852"
      ],
      "execution_count": 39,
      "outputs": [
        {
          "output_type": "stream",
          "text": [
            "Treinamento concluído\n",
            "Temperatura Prevista: 211.83855\n",
            "\n",
            "\n",
            "pesos da camada l0: [array([[-0.01663276,  0.57181144,  0.16819194,  0.16827501,  0.720785  ,\n",
            "         0.11062407,  0.06336809,  0.15575126]], dtype=float32), array([-0.83992916,  0.71366405,  0.79101247,  0.65324   ,  0.74500453,\n",
            "       -0.83148956, -0.36743218,  0.5928656 ], dtype=float32)]\n",
            "pesos da camada l1: [array([[ 1.96483284e-01,  7.06727982e-01, -5.51683247e-01,\n",
            "        -4.19381887e-01,  7.23038852e-01, -7.69144356e-01,\n",
            "         1.65438831e-01, -7.03743398e-01, -4.96672601e-01,\n",
            "        -7.06086934e-01, -3.91994268e-01, -1.08787201e-01,\n",
            "        -8.62532035e-02, -3.12222332e-01,  4.78064328e-01,\n",
            "         5.14492333e-01],\n",
            "       [ 2.83920437e-01, -4.44479942e-01, -8.98167118e-02,\n",
            "        -6.34819791e-02,  3.34445447e-01, -3.22333843e-01,\n",
            "        -3.86272013e-01,  1.26337409e-01, -1.26986325e-01,\n",
            "        -1.17437750e-01, -2.11043730e-01, -2.67169327e-01,\n",
            "         2.98460096e-01,  2.30877966e-01, -1.44057512e-01,\n",
            "         4.43060212e-02],\n",
            "       [-2.94146031e-01, -5.33202708e-01, -6.01900890e-02,\n",
            "         6.16222441e-01,  6.24770559e-02, -1.12811103e-01,\n",
            "        -5.46043992e-01,  5.50420918e-02,  5.04082479e-02,\n",
            "         5.37709832e-01,  5.76432981e-02,  1.99784234e-01,\n",
            "         2.75816559e-03, -2.72189170e-01,  3.15120906e-01,\n",
            "         2.88886249e-01],\n",
            "       [-5.80693744e-02,  2.86062747e-01,  5.45605004e-01,\n",
            "         3.21436822e-01, -2.25499585e-01,  4.04345363e-01,\n",
            "        -6.29428178e-02,  4.02080314e-03,  4.34447646e-01,\n",
            "         1.25208557e-01,  2.74421871e-01,  3.40444207e-01,\n",
            "         4.53182936e-01, -9.49326641e-05, -4.91126060e-01,\n",
            "         3.34888577e-01],\n",
            "       [-5.05679846e-01, -1.09498739e-01,  1.69687450e-01,\n",
            "         5.60127735e-01, -5.57852499e-02,  3.41811888e-02,\n",
            "        -2.12142974e-01, -1.57913372e-01, -4.39786091e-02,\n",
            "         4.66309547e-01,  2.93192565e-01,  1.31252035e-01,\n",
            "        -1.04986034e-01,  1.29902707e-02, -7.83503354e-02,\n",
            "         2.79680103e-01],\n",
            "       [ 3.56252730e-01,  7.39408016e-01, -5.72488785e-01,\n",
            "        -7.60909677e-01,  4.15831685e-01, -4.66639578e-01,\n",
            "         3.08300585e-01,  3.22969258e-02, -8.57186198e-01,\n",
            "        -3.29778522e-01, -3.35497022e-01,  7.59586394e-02,\n",
            "        -4.73657519e-01, -7.07534850e-01,  7.68498421e-01,\n",
            "        -1.88541308e-01],\n",
            "       [ 1.29861712e-01, -8.53508804e-03, -4.97309357e-01,\n",
            "        -6.44543707e-01,  3.89085412e-01,  2.46662825e-01,\n",
            "         1.54722214e-01,  1.72038198e-01, -6.17380023e-01,\n",
            "         7.76974112e-02, -3.09668571e-01,  2.73383260e-01,\n",
            "        -3.26209724e-01, -2.76710242e-01, -2.03261688e-01,\n",
            "        -2.12089196e-01],\n",
            "       [-4.53260124e-01, -4.33461815e-01,  4.71871495e-01,\n",
            "        -2.99176633e-01,  3.56347799e-01,  9.47587788e-02,\n",
            "        -3.47082108e-01, -2.86293179e-01, -4.88143861e-02,\n",
            "         4.17593628e-01, -5.71174204e-01,  3.43045205e-01,\n",
            "        -3.63254428e-01, -5.43599904e-01, -3.42792869e-02,\n",
            "        -5.31030834e-01]], dtype=float32), array([-0.8115145 , -0.73346156,  0.81024414,  0.77084184, -0.28316614,\n",
            "        0.75798106, -0.79688984,  0.7433379 ,  0.6401186 ,  0.7794177 ,\n",
            "        0.35855925,  0.22081947,  0.7944141 ,  0.66001946, -0.77796483,\n",
            "       -0.46651566], dtype=float32)]\n",
            "pesos da camada l2: [array([[-0.17483242],\n",
            "       [ 0.2634628 ],\n",
            "       [-0.5303705 ],\n",
            "       [-0.20699209],\n",
            "       [ 0.21831457],\n",
            "       [-0.3727903 ],\n",
            "       [ 0.29876533],\n",
            "       [ 0.59622526],\n",
            "       [-0.6346239 ],\n",
            "       [ 0.2380312 ],\n",
            "       [ 0.06896779],\n",
            "       [-0.15891658],\n",
            "       [-0.41185677],\n",
            "       [-0.3911884 ],\n",
            "       [-0.41000253],\n",
            "       [ 0.2701812 ]], dtype=float32), array([0.66126543], dtype=float32)]\n"
          ],
          "name": "stdout"
        }
      ]
    }
  ]
}