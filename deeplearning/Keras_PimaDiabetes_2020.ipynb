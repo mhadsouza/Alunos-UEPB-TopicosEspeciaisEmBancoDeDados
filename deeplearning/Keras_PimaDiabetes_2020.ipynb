{
  "nbformat": 4,
  "nbformat_minor": 0,
  "metadata": {
    "colab": {
      "name": "Keras-PimaDiabetes-2020.ipynb",
      "provenance": [],
      "collapsed_sections": [],
      "include_colab_link": true
    },
    "kernelspec": {
      "name": "python3",
      "display_name": "Python 3"
    },
    "accelerator": "GPU"
  },
  "cells": [
    {
      "cell_type": "markdown",
      "metadata": {
        "id": "view-in-github",
        "colab_type": "text"
      },
      "source": [
        "<a href=\"https://colab.research.google.com/github/vladimiralencar/Alunos-UEPB-TopicosEspeciaisEmBancoDeDados/blob/master/deeplearning/Keras_PimaDiabetes_2020.ipynb\" target=\"_parent\"><img src=\"https://colab.research.google.com/assets/colab-badge.svg\" alt=\"Open In Colab\"/></a>"
      ]
    },
    {
      "cell_type": "markdown",
      "metadata": {
        "id": "fHUqrYxGZRSA"
      },
      "source": [
        "# Keras - Prenvendo a ocorrência de Diabetes"
      ]
    },
    {
      "cell_type": "code",
      "metadata": {
        "id": "dnzHFAH27SI-"
      },
      "source": [
        "# Create your first MLP in Keras\n",
        "from keras.models import Sequential\n",
        "from keras.layers import Dense, Dropout\n",
        "import numpy as np\n",
        "import pandas as pd\n",
        "# fix random seed for reproducibility\n",
        "np.random.seed(7)"
      ],
      "execution_count": 44,
      "outputs": []
    },
    {
      "cell_type": "markdown",
      "metadata": {
        "id": "R1TdWSEqZgmO"
      },
      "source": [
        "# Lendo um dataset do Github"
      ]
    },
    {
      "cell_type": "code",
      "metadata": {
        "id": "T6ENmUz2w9J_"
      },
      "source": [
        "file = 'https://raw.githubusercontent.com/vladimiralencar/Alunos-UEPB-TopicosEspeciaisEmBancoDeDados/master/deeplearning/data/pima-indians-diabetes.csv'"
      ],
      "execution_count": 16,
      "outputs": []
    },
    {
      "cell_type": "code",
      "metadata": {
        "id": "WWAmyS_pv_fE"
      },
      "source": [
        "atributos =  [\"pregnancies\", \"glucose\", \"blood_pressure\", \"skin_thickness\",\"insulin\",\"bmi\",\"Diabetes_Pedigree_Function\",\"age\",\"outcome\"]\n",
        "df = pd.read_csv(file, header=None, names = atributos)\n",
        "df.head()"
      ],
      "execution_count": null,
      "outputs": []
    },
    {
      "cell_type": "code",
      "metadata": {
        "colab": {
          "base_uri": "https://localhost:8080/"
        },
        "id": "T4Zjwufhxxbj",
        "outputId": "388fabc4-9267-42dc-a604-bbaa782c6fdd"
      },
      "source": [
        "X = df[atributos[:-1]].values\n",
        "X[:3]"
      ],
      "execution_count": 24,
      "outputs": [
        {
          "output_type": "execute_result",
          "data": {
            "text/plain": [
              "array([[  6.   , 148.   ,  72.   ,  35.   ,   0.   ,  33.6  ,   0.627,\n",
              "         50.   ],\n",
              "       [  1.   ,  85.   ,  66.   ,  29.   ,   0.   ,  26.6  ,   0.351,\n",
              "         31.   ],\n",
              "       [  8.   , 183.   ,  64.   ,   0.   ,   0.   ,  23.3  ,   0.672,\n",
              "         32.   ]])"
            ]
          },
          "metadata": {
            "tags": []
          },
          "execution_count": 24
        }
      ]
    },
    {
      "cell_type": "code",
      "metadata": {
        "colab": {
          "base_uri": "https://localhost:8080/"
        },
        "id": "vgxAGY6LyGVB",
        "outputId": "40f3e0b0-e57d-4d70-bdf3-14cff9cc5367"
      },
      "source": [
        "y = df.outcome.values\n",
        "y[:3]"
      ],
      "execution_count": 25,
      "outputs": [
        {
          "output_type": "execute_result",
          "data": {
            "text/plain": [
              "array([1, 0, 1])"
            ]
          },
          "metadata": {
            "tags": []
          },
          "execution_count": 25
        }
      ]
    },
    {
      "cell_type": "markdown",
      "metadata": {
        "id": "VLDe5_WyaNn-"
      },
      "source": [
        "# Modelo"
      ]
    },
    {
      "cell_type": "code",
      "metadata": {
        "id": "0fXObApUaMAQ"
      },
      "source": [
        "# Modelo em keras \n",
        "model = Sequential()\n",
        "model.add(Dense(32, input_dim=8, activation='relu'))\n",
        "model.add(Dense(32, activation='relu'))\n",
        "model.add(Dense(1, activation='sigmoid'))  "
      ],
      "execution_count": 54,
      "outputs": []
    },
    {
      "cell_type": "code",
      "metadata": {
        "id": "8sQsIVMU8bcW"
      },
      "source": [
        "# Compile model\n",
        "model.compile(loss='binary_crossentropy', optimizer='adam', metrics=['accuracy'])"
      ],
      "execution_count": 55,
      "outputs": []
    },
    {
      "cell_type": "code",
      "metadata": {
        "id": "PEW10dTm8f4P",
        "colab": {
          "base_uri": "https://localhost:8080/"
        },
        "outputId": "5e14ef24-da42-4d04-c546-10b82fb839cc"
      },
      "source": [
        "model.summary()"
      ],
      "execution_count": 56,
      "outputs": [
        {
          "output_type": "stream",
          "text": [
            "Model: \"sequential_7\"\n",
            "_________________________________________________________________\n",
            "Layer (type)                 Output Shape              Param #   \n",
            "=================================================================\n",
            "dense_21 (Dense)             (None, 32)                288       \n",
            "_________________________________________________________________\n",
            "dense_22 (Dense)             (None, 32)                1056      \n",
            "_________________________________________________________________\n",
            "dense_23 (Dense)             (None, 1)                 33        \n",
            "=================================================================\n",
            "Total params: 1,377\n",
            "Trainable params: 1,377\n",
            "Non-trainable params: 0\n",
            "_________________________________________________________________\n"
          ],
          "name": "stdout"
        }
      ]
    },
    {
      "cell_type": "code",
      "metadata": {
        "id": "hMKq1T6x8Yde",
        "colab": {
          "base_uri": "https://localhost:8080/"
        },
        "outputId": "3e7d765b-66ea-4b1e-f936-68b574c47a92"
      },
      "source": [
        "%%time\n",
        "# Fit the model\n",
        "history = model.fit(X, Y, epochs=300, batch_size=128, verbose=1)"
      ],
      "execution_count": 59,
      "outputs": [
        {
          "output_type": "stream",
          "text": [
            "Epoch 1/300\n",
            "6/6 [==============================] - 0s 2ms/step - loss: 0.4495 - accuracy: 0.7865\n",
            "Epoch 2/300\n",
            "6/6 [==============================] - 0s 2ms/step - loss: 0.4476 - accuracy: 0.7995\n",
            "Epoch 3/300\n",
            "6/6 [==============================] - 0s 2ms/step - loss: 0.4467 - accuracy: 0.7956\n",
            "Epoch 4/300\n",
            "6/6 [==============================] - 0s 2ms/step - loss: 0.4504 - accuracy: 0.7943\n",
            "Epoch 5/300\n",
            "6/6 [==============================] - 0s 2ms/step - loss: 0.4615 - accuracy: 0.7695\n",
            "Epoch 6/300\n",
            "6/6 [==============================] - 0s 2ms/step - loss: 0.4769 - accuracy: 0.7669\n",
            "Epoch 7/300\n",
            "6/6 [==============================] - 0s 2ms/step - loss: 0.4544 - accuracy: 0.7799\n",
            "Epoch 8/300\n",
            "6/6 [==============================] - 0s 2ms/step - loss: 0.4511 - accuracy: 0.7799\n",
            "Epoch 9/300\n",
            "6/6 [==============================] - 0s 2ms/step - loss: 0.4437 - accuracy: 0.8060\n",
            "Epoch 10/300\n",
            "6/6 [==============================] - 0s 2ms/step - loss: 0.4422 - accuracy: 0.8021\n",
            "Epoch 11/300\n",
            "6/6 [==============================] - 0s 2ms/step - loss: 0.4404 - accuracy: 0.8086\n",
            "Epoch 12/300\n",
            "6/6 [==============================] - 0s 2ms/step - loss: 0.4465 - accuracy: 0.7917\n",
            "Epoch 13/300\n",
            "6/6 [==============================] - 0s 3ms/step - loss: 0.4449 - accuracy: 0.7982\n",
            "Epoch 14/300\n",
            "6/6 [==============================] - 0s 2ms/step - loss: 0.4501 - accuracy: 0.7812\n",
            "Epoch 15/300\n",
            "6/6 [==============================] - 0s 2ms/step - loss: 0.4491 - accuracy: 0.7852\n",
            "Epoch 16/300\n",
            "6/6 [==============================] - 0s 2ms/step - loss: 0.4403 - accuracy: 0.7969\n",
            "Epoch 17/300\n",
            "6/6 [==============================] - 0s 2ms/step - loss: 0.4472 - accuracy: 0.7969\n",
            "Epoch 18/300\n",
            "6/6 [==============================] - 0s 2ms/step - loss: 0.4482 - accuracy: 0.7891\n",
            "Epoch 19/300\n",
            "6/6 [==============================] - 0s 2ms/step - loss: 0.4374 - accuracy: 0.7865\n",
            "Epoch 20/300\n",
            "6/6 [==============================] - 0s 2ms/step - loss: 0.4460 - accuracy: 0.7917\n",
            "Epoch 21/300\n",
            "6/6 [==============================] - 0s 2ms/step - loss: 0.4445 - accuracy: 0.7865\n",
            "Epoch 22/300\n",
            "6/6 [==============================] - 0s 2ms/step - loss: 0.4403 - accuracy: 0.7956\n",
            "Epoch 23/300\n",
            "6/6 [==============================] - 0s 2ms/step - loss: 0.4414 - accuracy: 0.7956\n",
            "Epoch 24/300\n",
            "6/6 [==============================] - 0s 2ms/step - loss: 0.4374 - accuracy: 0.7956\n",
            "Epoch 25/300\n",
            "6/6 [==============================] - 0s 3ms/step - loss: 0.4431 - accuracy: 0.7904\n",
            "Epoch 26/300\n",
            "6/6 [==============================] - 0s 2ms/step - loss: 0.4436 - accuracy: 0.7917\n",
            "Epoch 27/300\n",
            "6/6 [==============================] - 0s 2ms/step - loss: 0.4407 - accuracy: 0.7982\n",
            "Epoch 28/300\n",
            "6/6 [==============================] - 0s 2ms/step - loss: 0.4391 - accuracy: 0.7995\n",
            "Epoch 29/300\n",
            "6/6 [==============================] - 0s 2ms/step - loss: 0.4490 - accuracy: 0.7852\n",
            "Epoch 30/300\n",
            "6/6 [==============================] - 0s 2ms/step - loss: 0.4434 - accuracy: 0.7943\n",
            "Epoch 31/300\n",
            "6/6 [==============================] - 0s 3ms/step - loss: 0.4407 - accuracy: 0.7812\n",
            "Epoch 32/300\n",
            "6/6 [==============================] - 0s 2ms/step - loss: 0.4485 - accuracy: 0.7930\n",
            "Epoch 33/300\n",
            "6/6 [==============================] - 0s 2ms/step - loss: 0.4584 - accuracy: 0.7773\n",
            "Epoch 34/300\n",
            "6/6 [==============================] - 0s 2ms/step - loss: 0.4683 - accuracy: 0.7708\n",
            "Epoch 35/300\n",
            "6/6 [==============================] - 0s 2ms/step - loss: 0.4753 - accuracy: 0.7826\n",
            "Epoch 36/300\n",
            "6/6 [==============================] - 0s 2ms/step - loss: 0.4637 - accuracy: 0.7799\n",
            "Epoch 37/300\n",
            "6/6 [==============================] - 0s 2ms/step - loss: 0.4924 - accuracy: 0.7708\n",
            "Epoch 38/300\n",
            "6/6 [==============================] - 0s 2ms/step - loss: 0.4843 - accuracy: 0.7721\n",
            "Epoch 39/300\n",
            "6/6 [==============================] - 0s 2ms/step - loss: 0.4678 - accuracy: 0.7695\n",
            "Epoch 40/300\n",
            "6/6 [==============================] - 0s 2ms/step - loss: 0.4380 - accuracy: 0.7969\n",
            "Epoch 41/300\n",
            "6/6 [==============================] - 0s 2ms/step - loss: 0.4467 - accuracy: 0.7839\n",
            "Epoch 42/300\n",
            "6/6 [==============================] - 0s 2ms/step - loss: 0.4470 - accuracy: 0.7917\n",
            "Epoch 43/300\n",
            "6/6 [==============================] - 0s 2ms/step - loss: 0.4737 - accuracy: 0.7617\n",
            "Epoch 44/300\n",
            "6/6 [==============================] - 0s 2ms/step - loss: 0.5047 - accuracy: 0.7461\n",
            "Epoch 45/300\n",
            "6/6 [==============================] - 0s 2ms/step - loss: 0.4854 - accuracy: 0.7708\n",
            "Epoch 46/300\n",
            "6/6 [==============================] - 0s 3ms/step - loss: 0.4926 - accuracy: 0.7734\n",
            "Epoch 47/300\n",
            "6/6 [==============================] - 0s 2ms/step - loss: 0.4635 - accuracy: 0.7812\n",
            "Epoch 48/300\n",
            "6/6 [==============================] - 0s 2ms/step - loss: 0.4439 - accuracy: 0.7852\n",
            "Epoch 49/300\n",
            "6/6 [==============================] - 0s 2ms/step - loss: 0.4380 - accuracy: 0.7969\n",
            "Epoch 50/300\n",
            "6/6 [==============================] - 0s 2ms/step - loss: 0.4392 - accuracy: 0.8034\n",
            "Epoch 51/300\n",
            "6/6 [==============================] - 0s 2ms/step - loss: 0.4298 - accuracy: 0.7956\n",
            "Epoch 52/300\n",
            "6/6 [==============================] - 0s 2ms/step - loss: 0.4482 - accuracy: 0.7930\n",
            "Epoch 53/300\n",
            "6/6 [==============================] - 0s 2ms/step - loss: 0.4741 - accuracy: 0.7591\n",
            "Epoch 54/300\n",
            "6/6 [==============================] - 0s 2ms/step - loss: 0.4442 - accuracy: 0.8086\n",
            "Epoch 55/300\n",
            "6/6 [==============================] - 0s 2ms/step - loss: 0.4390 - accuracy: 0.7865\n",
            "Epoch 56/300\n",
            "6/6 [==============================] - 0s 2ms/step - loss: 0.4422 - accuracy: 0.7969\n",
            "Epoch 57/300\n",
            "6/6 [==============================] - 0s 2ms/step - loss: 0.4471 - accuracy: 0.7786\n",
            "Epoch 58/300\n",
            "6/6 [==============================] - 0s 2ms/step - loss: 0.4665 - accuracy: 0.7773\n",
            "Epoch 59/300\n",
            "6/6 [==============================] - 0s 2ms/step - loss: 0.4778 - accuracy: 0.7786\n",
            "Epoch 60/300\n",
            "6/6 [==============================] - 0s 2ms/step - loss: 0.5032 - accuracy: 0.7539\n",
            "Epoch 61/300\n",
            "6/6 [==============================] - 0s 2ms/step - loss: 0.4575 - accuracy: 0.7839\n",
            "Epoch 62/300\n",
            "6/6 [==============================] - 0s 3ms/step - loss: 0.4504 - accuracy: 0.7891\n",
            "Epoch 63/300\n",
            "6/6 [==============================] - 0s 3ms/step - loss: 0.4394 - accuracy: 0.7930\n",
            "Epoch 64/300\n",
            "6/6 [==============================] - 0s 3ms/step - loss: 0.4484 - accuracy: 0.7786\n",
            "Epoch 65/300\n",
            "6/6 [==============================] - 0s 3ms/step - loss: 0.4392 - accuracy: 0.7917\n",
            "Epoch 66/300\n",
            "6/6 [==============================] - 0s 2ms/step - loss: 0.4609 - accuracy: 0.7917\n",
            "Epoch 67/300\n",
            "6/6 [==============================] - 0s 2ms/step - loss: 0.4446 - accuracy: 0.7917\n",
            "Epoch 68/300\n",
            "6/6 [==============================] - 0s 2ms/step - loss: 0.4309 - accuracy: 0.7904\n",
            "Epoch 69/300\n",
            "6/6 [==============================] - 0s 2ms/step - loss: 0.4503 - accuracy: 0.7878\n",
            "Epoch 70/300\n",
            "6/6 [==============================] - 0s 2ms/step - loss: 0.4464 - accuracy: 0.7982\n",
            "Epoch 71/300\n",
            "6/6 [==============================] - 0s 2ms/step - loss: 0.4619 - accuracy: 0.7721\n",
            "Epoch 72/300\n",
            "6/6 [==============================] - 0s 3ms/step - loss: 0.4664 - accuracy: 0.7695\n",
            "Epoch 73/300\n",
            "6/6 [==============================] - 0s 2ms/step - loss: 0.4325 - accuracy: 0.7943\n",
            "Epoch 74/300\n",
            "6/6 [==============================] - 0s 2ms/step - loss: 0.4248 - accuracy: 0.8034\n",
            "Epoch 75/300\n",
            "6/6 [==============================] - 0s 2ms/step - loss: 0.4428 - accuracy: 0.7852\n",
            "Epoch 76/300\n",
            "6/6 [==============================] - 0s 3ms/step - loss: 0.4421 - accuracy: 0.7917\n",
            "Epoch 77/300\n",
            "6/6 [==============================] - 0s 2ms/step - loss: 0.4299 - accuracy: 0.7982\n",
            "Epoch 78/300\n",
            "6/6 [==============================] - 0s 2ms/step - loss: 0.4249 - accuracy: 0.8034\n",
            "Epoch 79/300\n",
            "6/6 [==============================] - 0s 2ms/step - loss: 0.4356 - accuracy: 0.7982\n",
            "Epoch 80/300\n",
            "6/6 [==============================] - 0s 2ms/step - loss: 0.4327 - accuracy: 0.7917\n",
            "Epoch 81/300\n",
            "6/6 [==============================] - 0s 2ms/step - loss: 0.4311 - accuracy: 0.7943\n",
            "Epoch 82/300\n",
            "6/6 [==============================] - 0s 2ms/step - loss: 0.4285 - accuracy: 0.7943\n",
            "Epoch 83/300\n",
            "6/6 [==============================] - 0s 2ms/step - loss: 0.4474 - accuracy: 0.7930\n",
            "Epoch 84/300\n",
            "6/6 [==============================] - 0s 3ms/step - loss: 0.4245 - accuracy: 0.8008\n",
            "Epoch 85/300\n",
            "6/6 [==============================] - 0s 3ms/step - loss: 0.4303 - accuracy: 0.8021\n",
            "Epoch 86/300\n",
            "6/6 [==============================] - 0s 2ms/step - loss: 0.4271 - accuracy: 0.8086\n",
            "Epoch 87/300\n",
            "6/6 [==============================] - 0s 2ms/step - loss: 0.4308 - accuracy: 0.8021\n",
            "Epoch 88/300\n",
            "6/6 [==============================] - 0s 2ms/step - loss: 0.4351 - accuracy: 0.7969\n",
            "Epoch 89/300\n",
            "6/6 [==============================] - 0s 2ms/step - loss: 0.4408 - accuracy: 0.7812\n",
            "Epoch 90/300\n",
            "6/6 [==============================] - 0s 2ms/step - loss: 0.4311 - accuracy: 0.8034\n",
            "Epoch 91/300\n",
            "6/6 [==============================] - 0s 3ms/step - loss: 0.4334 - accuracy: 0.7826\n",
            "Epoch 92/300\n",
            "6/6 [==============================] - 0s 2ms/step - loss: 0.4255 - accuracy: 0.8060\n",
            "Epoch 93/300\n",
            "6/6 [==============================] - 0s 3ms/step - loss: 0.4186 - accuracy: 0.8073\n",
            "Epoch 94/300\n",
            "6/6 [==============================] - 0s 3ms/step - loss: 0.4423 - accuracy: 0.7930\n",
            "Epoch 95/300\n",
            "6/6 [==============================] - 0s 2ms/step - loss: 0.4274 - accuracy: 0.7969\n",
            "Epoch 96/300\n",
            "6/6 [==============================] - 0s 2ms/step - loss: 0.4295 - accuracy: 0.7982\n",
            "Epoch 97/300\n",
            "6/6 [==============================] - 0s 2ms/step - loss: 0.4300 - accuracy: 0.7982\n",
            "Epoch 98/300\n",
            "6/6 [==============================] - 0s 2ms/step - loss: 0.4295 - accuracy: 0.7995\n",
            "Epoch 99/300\n",
            "6/6 [==============================] - 0s 3ms/step - loss: 0.4350 - accuracy: 0.7943\n",
            "Epoch 100/300\n",
            "6/6 [==============================] - 0s 2ms/step - loss: 0.4315 - accuracy: 0.8099\n",
            "Epoch 101/300\n",
            "6/6 [==============================] - 0s 2ms/step - loss: 0.4336 - accuracy: 0.7956\n",
            "Epoch 102/300\n",
            "6/6 [==============================] - 0s 2ms/step - loss: 0.4260 - accuracy: 0.7917\n",
            "Epoch 103/300\n",
            "6/6 [==============================] - 0s 2ms/step - loss: 0.4199 - accuracy: 0.8034\n",
            "Epoch 104/300\n",
            "6/6 [==============================] - 0s 3ms/step - loss: 0.4343 - accuracy: 0.7995\n",
            "Epoch 105/300\n",
            "6/6 [==============================] - 0s 3ms/step - loss: 0.4326 - accuracy: 0.8034\n",
            "Epoch 106/300\n",
            "6/6 [==============================] - 0s 3ms/step - loss: 0.4301 - accuracy: 0.8008\n",
            "Epoch 107/300\n",
            "6/6 [==============================] - 0s 3ms/step - loss: 0.4336 - accuracy: 0.7982\n",
            "Epoch 108/300\n",
            "6/6 [==============================] - 0s 2ms/step - loss: 0.4298 - accuracy: 0.8008\n",
            "Epoch 109/300\n",
            "6/6 [==============================] - 0s 2ms/step - loss: 0.4223 - accuracy: 0.7943\n",
            "Epoch 110/300\n",
            "6/6 [==============================] - 0s 2ms/step - loss: 0.4213 - accuracy: 0.8099\n",
            "Epoch 111/300\n",
            "6/6 [==============================] - 0s 3ms/step - loss: 0.4231 - accuracy: 0.7995\n",
            "Epoch 112/300\n",
            "6/6 [==============================] - 0s 3ms/step - loss: 0.4224 - accuracy: 0.8008\n",
            "Epoch 113/300\n",
            "6/6 [==============================] - 0s 3ms/step - loss: 0.4244 - accuracy: 0.8034\n",
            "Epoch 114/300\n",
            "6/6 [==============================] - 0s 2ms/step - loss: 0.4166 - accuracy: 0.8112\n",
            "Epoch 115/300\n",
            "6/6 [==============================] - 0s 2ms/step - loss: 0.4225 - accuracy: 0.8086\n",
            "Epoch 116/300\n",
            "6/6 [==============================] - 0s 2ms/step - loss: 0.4186 - accuracy: 0.8073\n",
            "Epoch 117/300\n",
            "6/6 [==============================] - 0s 2ms/step - loss: 0.4281 - accuracy: 0.7995\n",
            "Epoch 118/300\n",
            "6/6 [==============================] - 0s 2ms/step - loss: 0.4294 - accuracy: 0.7917\n",
            "Epoch 119/300\n",
            "6/6 [==============================] - 0s 2ms/step - loss: 0.4380 - accuracy: 0.7865\n",
            "Epoch 120/300\n",
            "6/6 [==============================] - 0s 2ms/step - loss: 0.4621 - accuracy: 0.7786\n",
            "Epoch 121/300\n",
            "6/6 [==============================] - 0s 2ms/step - loss: 0.4549 - accuracy: 0.7721\n",
            "Epoch 122/300\n",
            "6/6 [==============================] - 0s 3ms/step - loss: 0.4495 - accuracy: 0.7969\n",
            "Epoch 123/300\n",
            "6/6 [==============================] - 0s 3ms/step - loss: 0.4319 - accuracy: 0.7904\n",
            "Epoch 124/300\n",
            "6/6 [==============================] - 0s 2ms/step - loss: 0.4179 - accuracy: 0.8138\n",
            "Epoch 125/300\n",
            "6/6 [==============================] - 0s 2ms/step - loss: 0.4188 - accuracy: 0.8060\n",
            "Epoch 126/300\n",
            "6/6 [==============================] - 0s 3ms/step - loss: 0.4177 - accuracy: 0.8164\n",
            "Epoch 127/300\n",
            "6/6 [==============================] - 0s 2ms/step - loss: 0.4175 - accuracy: 0.8112\n",
            "Epoch 128/300\n",
            "6/6 [==============================] - 0s 2ms/step - loss: 0.4187 - accuracy: 0.8112\n",
            "Epoch 129/300\n",
            "6/6 [==============================] - 0s 2ms/step - loss: 0.4220 - accuracy: 0.7982\n",
            "Epoch 130/300\n",
            "6/6 [==============================] - 0s 2ms/step - loss: 0.4440 - accuracy: 0.7891\n",
            "Epoch 131/300\n",
            "6/6 [==============================] - 0s 2ms/step - loss: 0.4395 - accuracy: 0.7904\n",
            "Epoch 132/300\n",
            "6/6 [==============================] - 0s 3ms/step - loss: 0.4286 - accuracy: 0.7956\n",
            "Epoch 133/300\n",
            "6/6 [==============================] - 0s 2ms/step - loss: 0.4231 - accuracy: 0.7917\n",
            "Epoch 134/300\n",
            "6/6 [==============================] - 0s 2ms/step - loss: 0.4352 - accuracy: 0.7956\n",
            "Epoch 135/300\n",
            "6/6 [==============================] - 0s 2ms/step - loss: 0.4286 - accuracy: 0.8099\n",
            "Epoch 136/300\n",
            "6/6 [==============================] - 0s 2ms/step - loss: 0.4440 - accuracy: 0.7799\n",
            "Epoch 137/300\n",
            "6/6 [==============================] - 0s 2ms/step - loss: 0.4303 - accuracy: 0.7878\n",
            "Epoch 138/300\n",
            "6/6 [==============================] - 0s 2ms/step - loss: 0.4412 - accuracy: 0.7826\n",
            "Epoch 139/300\n",
            "6/6 [==============================] - 0s 3ms/step - loss: 0.4304 - accuracy: 0.7969\n",
            "Epoch 140/300\n",
            "6/6 [==============================] - 0s 2ms/step - loss: 0.4166 - accuracy: 0.8099\n",
            "Epoch 141/300\n",
            "6/6 [==============================] - 0s 2ms/step - loss: 0.4264 - accuracy: 0.7930\n",
            "Epoch 142/300\n",
            "6/6 [==============================] - 0s 2ms/step - loss: 0.4411 - accuracy: 0.7917\n",
            "Epoch 143/300\n",
            "6/6 [==============================] - 0s 2ms/step - loss: 0.4232 - accuracy: 0.7904\n",
            "Epoch 144/300\n",
            "6/6 [==============================] - 0s 2ms/step - loss: 0.4196 - accuracy: 0.8099\n",
            "Epoch 145/300\n",
            "6/6 [==============================] - 0s 2ms/step - loss: 0.4158 - accuracy: 0.8138\n",
            "Epoch 146/300\n",
            "6/6 [==============================] - 0s 2ms/step - loss: 0.4167 - accuracy: 0.8125\n",
            "Epoch 147/300\n",
            "6/6 [==============================] - 0s 2ms/step - loss: 0.4451 - accuracy: 0.7799\n",
            "Epoch 148/300\n",
            "6/6 [==============================] - 0s 2ms/step - loss: 0.4488 - accuracy: 0.7852\n",
            "Epoch 149/300\n",
            "6/6 [==============================] - 0s 3ms/step - loss: 0.4396 - accuracy: 0.7878\n",
            "Epoch 150/300\n",
            "6/6 [==============================] - 0s 3ms/step - loss: 0.4322 - accuracy: 0.7930\n",
            "Epoch 151/300\n",
            "6/6 [==============================] - 0s 2ms/step - loss: 0.4309 - accuracy: 0.7865\n",
            "Epoch 152/300\n",
            "6/6 [==============================] - 0s 3ms/step - loss: 0.4161 - accuracy: 0.8086\n",
            "Epoch 153/300\n",
            "6/6 [==============================] - 0s 2ms/step - loss: 0.4200 - accuracy: 0.8086\n",
            "Epoch 154/300\n",
            "6/6 [==============================] - 0s 3ms/step - loss: 0.4358 - accuracy: 0.7865\n",
            "Epoch 155/300\n",
            "6/6 [==============================] - 0s 3ms/step - loss: 0.4336 - accuracy: 0.7956\n",
            "Epoch 156/300\n",
            "6/6 [==============================] - 0s 2ms/step - loss: 0.4645 - accuracy: 0.7812\n",
            "Epoch 157/300\n",
            "6/6 [==============================] - 0s 2ms/step - loss: 0.4769 - accuracy: 0.7643\n",
            "Epoch 158/300\n",
            "6/6 [==============================] - 0s 2ms/step - loss: 0.4584 - accuracy: 0.7839\n",
            "Epoch 159/300\n",
            "6/6 [==============================] - 0s 3ms/step - loss: 0.4614 - accuracy: 0.7839\n",
            "Epoch 160/300\n",
            "6/6 [==============================] - 0s 2ms/step - loss: 0.4377 - accuracy: 0.7839\n",
            "Epoch 161/300\n",
            "6/6 [==============================] - 0s 2ms/step - loss: 0.4414 - accuracy: 0.7982\n",
            "Epoch 162/300\n",
            "6/6 [==============================] - 0s 3ms/step - loss: 0.4169 - accuracy: 0.8164\n",
            "Epoch 163/300\n",
            "6/6 [==============================] - 0s 2ms/step - loss: 0.4153 - accuracy: 0.8151\n",
            "Epoch 164/300\n",
            "6/6 [==============================] - 0s 2ms/step - loss: 0.4249 - accuracy: 0.8008\n",
            "Epoch 165/300\n",
            "6/6 [==============================] - 0s 2ms/step - loss: 0.4164 - accuracy: 0.8073\n",
            "Epoch 166/300\n",
            "6/6 [==============================] - 0s 3ms/step - loss: 0.4192 - accuracy: 0.8060\n",
            "Epoch 167/300\n",
            "6/6 [==============================] - 0s 2ms/step - loss: 0.4315 - accuracy: 0.8008\n",
            "Epoch 168/300\n",
            "6/6 [==============================] - 0s 2ms/step - loss: 0.4471 - accuracy: 0.7786\n",
            "Epoch 169/300\n",
            "6/6 [==============================] - 0s 2ms/step - loss: 0.4360 - accuracy: 0.7917\n",
            "Epoch 170/300\n",
            "6/6 [==============================] - 0s 3ms/step - loss: 0.4376 - accuracy: 0.7891\n",
            "Epoch 171/300\n",
            "6/6 [==============================] - 0s 2ms/step - loss: 0.4331 - accuracy: 0.7917\n",
            "Epoch 172/300\n",
            "6/6 [==============================] - 0s 2ms/step - loss: 0.4227 - accuracy: 0.8099\n",
            "Epoch 173/300\n",
            "6/6 [==============================] - 0s 2ms/step - loss: 0.4117 - accuracy: 0.8112\n",
            "Epoch 174/300\n",
            "6/6 [==============================] - 0s 2ms/step - loss: 0.4219 - accuracy: 0.8047\n",
            "Epoch 175/300\n",
            "6/6 [==============================] - 0s 3ms/step - loss: 0.4106 - accuracy: 0.8242\n",
            "Epoch 176/300\n",
            "6/6 [==============================] - 0s 3ms/step - loss: 0.4159 - accuracy: 0.8073\n",
            "Epoch 177/300\n",
            "6/6 [==============================] - 0s 2ms/step - loss: 0.4227 - accuracy: 0.8021\n",
            "Epoch 178/300\n",
            "6/6 [==============================] - 0s 2ms/step - loss: 0.4421 - accuracy: 0.7852\n",
            "Epoch 179/300\n",
            "6/6 [==============================] - 0s 2ms/step - loss: 0.4162 - accuracy: 0.8125\n",
            "Epoch 180/300\n",
            "6/6 [==============================] - 0s 2ms/step - loss: 0.4180 - accuracy: 0.7943\n",
            "Epoch 181/300\n",
            "6/6 [==============================] - 0s 2ms/step - loss: 0.4194 - accuracy: 0.8021\n",
            "Epoch 182/300\n",
            "6/6 [==============================] - 0s 3ms/step - loss: 0.4188 - accuracy: 0.8034\n",
            "Epoch 183/300\n",
            "6/6 [==============================] - 0s 3ms/step - loss: 0.4204 - accuracy: 0.8047\n",
            "Epoch 184/300\n",
            "6/6 [==============================] - 0s 3ms/step - loss: 0.4209 - accuracy: 0.7995\n",
            "Epoch 185/300\n",
            "6/6 [==============================] - 0s 2ms/step - loss: 0.4102 - accuracy: 0.8177\n",
            "Epoch 186/300\n",
            "6/6 [==============================] - 0s 3ms/step - loss: 0.4088 - accuracy: 0.8099\n",
            "Epoch 187/300\n",
            "6/6 [==============================] - 0s 2ms/step - loss: 0.4128 - accuracy: 0.8034\n",
            "Epoch 188/300\n",
            "6/6 [==============================] - 0s 3ms/step - loss: 0.4181 - accuracy: 0.8099\n",
            "Epoch 189/300\n",
            "6/6 [==============================] - 0s 2ms/step - loss: 0.4303 - accuracy: 0.7982\n",
            "Epoch 190/300\n",
            "6/6 [==============================] - 0s 2ms/step - loss: 0.4582 - accuracy: 0.7695\n",
            "Epoch 191/300\n",
            "6/6 [==============================] - 0s 3ms/step - loss: 0.4411 - accuracy: 0.7878\n",
            "Epoch 192/300\n",
            "6/6 [==============================] - 0s 3ms/step - loss: 0.4242 - accuracy: 0.7891\n",
            "Epoch 193/300\n",
            "6/6 [==============================] - 0s 3ms/step - loss: 0.4427 - accuracy: 0.7799\n",
            "Epoch 194/300\n",
            "6/6 [==============================] - 0s 2ms/step - loss: 0.4284 - accuracy: 0.8008\n",
            "Epoch 195/300\n",
            "6/6 [==============================] - 0s 4ms/step - loss: 0.4148 - accuracy: 0.8060\n",
            "Epoch 196/300\n",
            "6/6 [==============================] - 0s 2ms/step - loss: 0.4049 - accuracy: 0.8099\n",
            "Epoch 197/300\n",
            "6/6 [==============================] - 0s 3ms/step - loss: 0.4396 - accuracy: 0.8008\n",
            "Epoch 198/300\n",
            "6/6 [==============================] - 0s 4ms/step - loss: 0.4647 - accuracy: 0.7630\n",
            "Epoch 199/300\n",
            "6/6 [==============================] - 0s 3ms/step - loss: 0.4533 - accuracy: 0.7891\n",
            "Epoch 200/300\n",
            "6/6 [==============================] - 0s 3ms/step - loss: 0.4356 - accuracy: 0.7760\n",
            "Epoch 201/300\n",
            "6/6 [==============================] - 0s 3ms/step - loss: 0.4124 - accuracy: 0.8164\n",
            "Epoch 202/300\n",
            "6/6 [==============================] - 0s 3ms/step - loss: 0.4132 - accuracy: 0.8177\n",
            "Epoch 203/300\n",
            "6/6 [==============================] - 0s 2ms/step - loss: 0.4097 - accuracy: 0.8138\n",
            "Epoch 204/300\n",
            "6/6 [==============================] - 0s 3ms/step - loss: 0.4124 - accuracy: 0.8073\n",
            "Epoch 205/300\n",
            "6/6 [==============================] - 0s 3ms/step - loss: 0.4248 - accuracy: 0.7982\n",
            "Epoch 206/300\n",
            "6/6 [==============================] - 0s 3ms/step - loss: 0.4094 - accuracy: 0.8034\n",
            "Epoch 207/300\n",
            "6/6 [==============================] - 0s 3ms/step - loss: 0.4036 - accuracy: 0.8203\n",
            "Epoch 208/300\n",
            "6/6 [==============================] - 0s 3ms/step - loss: 0.4085 - accuracy: 0.8151\n",
            "Epoch 209/300\n",
            "6/6 [==============================] - 0s 3ms/step - loss: 0.4168 - accuracy: 0.7943\n",
            "Epoch 210/300\n",
            "6/6 [==============================] - 0s 3ms/step - loss: 0.4084 - accuracy: 0.8099\n",
            "Epoch 211/300\n",
            "6/6 [==============================] - 0s 3ms/step - loss: 0.4040 - accuracy: 0.8190\n",
            "Epoch 212/300\n",
            "6/6 [==============================] - 0s 3ms/step - loss: 0.4152 - accuracy: 0.8086\n",
            "Epoch 213/300\n",
            "6/6 [==============================] - 0s 3ms/step - loss: 0.4069 - accuracy: 0.8229\n",
            "Epoch 214/300\n",
            "6/6 [==============================] - 0s 3ms/step - loss: 0.4075 - accuracy: 0.7943\n",
            "Epoch 215/300\n",
            "6/6 [==============================] - 0s 2ms/step - loss: 0.3997 - accuracy: 0.8177\n",
            "Epoch 216/300\n",
            "6/6 [==============================] - 0s 3ms/step - loss: 0.4001 - accuracy: 0.8177\n",
            "Epoch 217/300\n",
            "6/6 [==============================] - 0s 3ms/step - loss: 0.4318 - accuracy: 0.7930\n",
            "Epoch 218/300\n",
            "6/6 [==============================] - 0s 2ms/step - loss: 0.4401 - accuracy: 0.8034\n",
            "Epoch 219/300\n",
            "6/6 [==============================] - 0s 3ms/step - loss: 0.4178 - accuracy: 0.8047\n",
            "Epoch 220/300\n",
            "6/6 [==============================] - 0s 3ms/step - loss: 0.4055 - accuracy: 0.8307\n",
            "Epoch 221/300\n",
            "6/6 [==============================] - 0s 2ms/step - loss: 0.4622 - accuracy: 0.7878\n",
            "Epoch 222/300\n",
            "6/6 [==============================] - 0s 2ms/step - loss: 0.4347 - accuracy: 0.7904\n",
            "Epoch 223/300\n",
            "6/6 [==============================] - 0s 3ms/step - loss: 0.4340 - accuracy: 0.8047\n",
            "Epoch 224/300\n",
            "6/6 [==============================] - 0s 3ms/step - loss: 0.4344 - accuracy: 0.8008\n",
            "Epoch 225/300\n",
            "6/6 [==============================] - 0s 3ms/step - loss: 0.4288 - accuracy: 0.7917\n",
            "Epoch 226/300\n",
            "6/6 [==============================] - 0s 3ms/step - loss: 0.4400 - accuracy: 0.7826\n",
            "Epoch 227/300\n",
            "6/6 [==============================] - 0s 3ms/step - loss: 0.4123 - accuracy: 0.7917\n",
            "Epoch 228/300\n",
            "6/6 [==============================] - 0s 3ms/step - loss: 0.4244 - accuracy: 0.7995\n",
            "Epoch 229/300\n",
            "6/6 [==============================] - 0s 3ms/step - loss: 0.4050 - accuracy: 0.8203\n",
            "Epoch 230/300\n",
            "6/6 [==============================] - 0s 3ms/step - loss: 0.3990 - accuracy: 0.8216\n",
            "Epoch 231/300\n",
            "6/6 [==============================] - 0s 3ms/step - loss: 0.4041 - accuracy: 0.8177\n",
            "Epoch 232/300\n",
            "6/6 [==============================] - 0s 3ms/step - loss: 0.4020 - accuracy: 0.8177\n",
            "Epoch 233/300\n",
            "6/6 [==============================] - 0s 2ms/step - loss: 0.4149 - accuracy: 0.8099\n",
            "Epoch 234/300\n",
            "6/6 [==============================] - 0s 3ms/step - loss: 0.4027 - accuracy: 0.8164\n",
            "Epoch 235/300\n",
            "6/6 [==============================] - 0s 4ms/step - loss: 0.4043 - accuracy: 0.8151\n",
            "Epoch 236/300\n",
            "6/6 [==============================] - 0s 3ms/step - loss: 0.4096 - accuracy: 0.8021\n",
            "Epoch 237/300\n",
            "6/6 [==============================] - 0s 2ms/step - loss: 0.4032 - accuracy: 0.8151\n",
            "Epoch 238/300\n",
            "6/6 [==============================] - 0s 3ms/step - loss: 0.3986 - accuracy: 0.8242\n",
            "Epoch 239/300\n",
            "6/6 [==============================] - 0s 3ms/step - loss: 0.4019 - accuracy: 0.8177\n",
            "Epoch 240/300\n",
            "6/6 [==============================] - 0s 3ms/step - loss: 0.3986 - accuracy: 0.8190\n",
            "Epoch 241/300\n",
            "6/6 [==============================] - 0s 3ms/step - loss: 0.4070 - accuracy: 0.8151\n",
            "Epoch 242/300\n",
            "6/6 [==============================] - 0s 2ms/step - loss: 0.4074 - accuracy: 0.8151\n",
            "Epoch 243/300\n",
            "6/6 [==============================] - 0s 3ms/step - loss: 0.4161 - accuracy: 0.8073\n",
            "Epoch 244/300\n",
            "6/6 [==============================] - 0s 3ms/step - loss: 0.4099 - accuracy: 0.8047\n",
            "Epoch 245/300\n",
            "6/6 [==============================] - 0s 3ms/step - loss: 0.4272 - accuracy: 0.8021\n",
            "Epoch 246/300\n",
            "6/6 [==============================] - 0s 3ms/step - loss: 0.4401 - accuracy: 0.7904\n",
            "Epoch 247/300\n",
            "6/6 [==============================] - 0s 3ms/step - loss: 0.4384 - accuracy: 0.7982\n",
            "Epoch 248/300\n",
            "6/6 [==============================] - 0s 3ms/step - loss: 0.4064 - accuracy: 0.8073\n",
            "Epoch 249/300\n",
            "6/6 [==============================] - 0s 3ms/step - loss: 0.4028 - accuracy: 0.8190\n",
            "Epoch 250/300\n",
            "6/6 [==============================] - 0s 3ms/step - loss: 0.4058 - accuracy: 0.8229\n",
            "Epoch 251/300\n",
            "6/6 [==============================] - 0s 3ms/step - loss: 0.4094 - accuracy: 0.8164\n",
            "Epoch 252/300\n",
            "6/6 [==============================] - 0s 3ms/step - loss: 0.3984 - accuracy: 0.8125\n",
            "Epoch 253/300\n",
            "6/6 [==============================] - 0s 3ms/step - loss: 0.4075 - accuracy: 0.8216\n",
            "Epoch 254/300\n",
            "6/6 [==============================] - 0s 3ms/step - loss: 0.4266 - accuracy: 0.8021\n",
            "Epoch 255/300\n",
            "6/6 [==============================] - 0s 3ms/step - loss: 0.4327 - accuracy: 0.7982\n",
            "Epoch 256/300\n",
            "6/6 [==============================] - 0s 3ms/step - loss: 0.4198 - accuracy: 0.8060\n",
            "Epoch 257/300\n",
            "6/6 [==============================] - 0s 3ms/step - loss: 0.4183 - accuracy: 0.8073\n",
            "Epoch 258/300\n",
            "6/6 [==============================] - 0s 2ms/step - loss: 0.4049 - accuracy: 0.8203\n",
            "Epoch 259/300\n",
            "6/6 [==============================] - 0s 3ms/step - loss: 0.3973 - accuracy: 0.8216\n",
            "Epoch 260/300\n",
            "6/6 [==============================] - 0s 3ms/step - loss: 0.4120 - accuracy: 0.8099\n",
            "Epoch 261/300\n",
            "6/6 [==============================] - 0s 3ms/step - loss: 0.4029 - accuracy: 0.8268\n",
            "Epoch 262/300\n",
            "6/6 [==============================] - 0s 3ms/step - loss: 0.4152 - accuracy: 0.7995\n",
            "Epoch 263/300\n",
            "6/6 [==============================] - 0s 3ms/step - loss: 0.4016 - accuracy: 0.8138\n",
            "Epoch 264/300\n",
            "6/6 [==============================] - 0s 3ms/step - loss: 0.4004 - accuracy: 0.8203\n",
            "Epoch 265/300\n",
            "6/6 [==============================] - 0s 3ms/step - loss: 0.4064 - accuracy: 0.8047\n",
            "Epoch 266/300\n",
            "6/6 [==============================] - 0s 3ms/step - loss: 0.4086 - accuracy: 0.8047\n",
            "Epoch 267/300\n",
            "6/6 [==============================] - 0s 3ms/step - loss: 0.4001 - accuracy: 0.8203\n",
            "Epoch 268/300\n",
            "6/6 [==============================] - 0s 3ms/step - loss: 0.4096 - accuracy: 0.8099\n",
            "Epoch 269/300\n",
            "6/6 [==============================] - 0s 3ms/step - loss: 0.3991 - accuracy: 0.8164\n",
            "Epoch 270/300\n",
            "6/6 [==============================] - 0s 4ms/step - loss: 0.4086 - accuracy: 0.8125\n",
            "Epoch 271/300\n",
            "6/6 [==============================] - 0s 3ms/step - loss: 0.3962 - accuracy: 0.8268\n",
            "Epoch 272/300\n",
            "6/6 [==============================] - 0s 2ms/step - loss: 0.3975 - accuracy: 0.8216\n",
            "Epoch 273/300\n",
            "6/6 [==============================] - 0s 3ms/step - loss: 0.3963 - accuracy: 0.8203\n",
            "Epoch 274/300\n",
            "6/6 [==============================] - 0s 3ms/step - loss: 0.3958 - accuracy: 0.8307\n",
            "Epoch 275/300\n",
            "6/6 [==============================] - 0s 3ms/step - loss: 0.3947 - accuracy: 0.8268\n",
            "Epoch 276/300\n",
            "6/6 [==============================] - 0s 3ms/step - loss: 0.3947 - accuracy: 0.8177\n",
            "Epoch 277/300\n",
            "6/6 [==============================] - 0s 3ms/step - loss: 0.4060 - accuracy: 0.8112\n",
            "Epoch 278/300\n",
            "6/6 [==============================] - 0s 5ms/step - loss: 0.3972 - accuracy: 0.8229\n",
            "Epoch 279/300\n",
            "6/6 [==============================] - 0s 3ms/step - loss: 0.3958 - accuracy: 0.8216\n",
            "Epoch 280/300\n",
            "6/6 [==============================] - 0s 3ms/step - loss: 0.4050 - accuracy: 0.8151\n",
            "Epoch 281/300\n",
            "6/6 [==============================] - 0s 2ms/step - loss: 0.3982 - accuracy: 0.8281\n",
            "Epoch 282/300\n",
            "6/6 [==============================] - 0s 3ms/step - loss: 0.4062 - accuracy: 0.8151\n",
            "Epoch 283/300\n",
            "6/6 [==============================] - 0s 3ms/step - loss: 0.3982 - accuracy: 0.8190\n",
            "Epoch 284/300\n",
            "6/6 [==============================] - 0s 3ms/step - loss: 0.3981 - accuracy: 0.8229\n",
            "Epoch 285/300\n",
            "6/6 [==============================] - 0s 2ms/step - loss: 0.3908 - accuracy: 0.8359\n",
            "Epoch 286/300\n",
            "6/6 [==============================] - 0s 3ms/step - loss: 0.3992 - accuracy: 0.8190\n",
            "Epoch 287/300\n",
            "6/6 [==============================] - 0s 3ms/step - loss: 0.4064 - accuracy: 0.8203\n",
            "Epoch 288/300\n",
            "6/6 [==============================] - 0s 3ms/step - loss: 0.4047 - accuracy: 0.8164\n",
            "Epoch 289/300\n",
            "6/6 [==============================] - 0s 3ms/step - loss: 0.4204 - accuracy: 0.7995\n",
            "Epoch 290/300\n",
            "6/6 [==============================] - 0s 3ms/step - loss: 0.4327 - accuracy: 0.7969\n",
            "Epoch 291/300\n",
            "6/6 [==============================] - 0s 3ms/step - loss: 0.4415 - accuracy: 0.7943\n",
            "Epoch 292/300\n",
            "6/6 [==============================] - 0s 3ms/step - loss: 0.4405 - accuracy: 0.7852\n",
            "Epoch 293/300\n",
            "6/6 [==============================] - 0s 3ms/step - loss: 0.4221 - accuracy: 0.7969\n",
            "Epoch 294/300\n",
            "6/6 [==============================] - 0s 3ms/step - loss: 0.4036 - accuracy: 0.8073\n",
            "Epoch 295/300\n",
            "6/6 [==============================] - 0s 3ms/step - loss: 0.4117 - accuracy: 0.7917\n",
            "Epoch 296/300\n",
            "6/6 [==============================] - 0s 3ms/step - loss: 0.4049 - accuracy: 0.8177\n",
            "Epoch 297/300\n",
            "6/6 [==============================] - 0s 2ms/step - loss: 0.4086 - accuracy: 0.8099\n",
            "Epoch 298/300\n",
            "6/6 [==============================] - 0s 3ms/step - loss: 0.4007 - accuracy: 0.8190\n",
            "Epoch 299/300\n",
            "6/6 [==============================] - 0s 2ms/step - loss: 0.3935 - accuracy: 0.8255\n",
            "Epoch 300/300\n",
            "6/6 [==============================] - 0s 2ms/step - loss: 0.4003 - accuracy: 0.8138\n",
            "CPU times: user 5.92 s, sys: 660 ms, total: 6.58 s\n",
            "Wall time: 6.95 s\n"
          ],
          "name": "stdout"
        }
      ]
    },
    {
      "cell_type": "code",
      "metadata": {
        "id": "bpzydAhQ8yD-",
        "colab": {
          "base_uri": "https://localhost:8080/"
        },
        "outputId": "60543b51-77bd-4ede-df56-92ea431605e1"
      },
      "source": [
        "# evaluate the model\n",
        "scores = model.evaluate(X, Y)\n",
        "print(\"\\n%s: %.2f%%\" % (model.metrics_names[1], scores[1]*100))"
      ],
      "execution_count": 60,
      "outputs": [
        {
          "output_type": "stream",
          "text": [
            "24/24 [==============================] - 0s 2ms/step - loss: 0.3923 - accuracy: 0.8242\n",
            "\n",
            "accuracy: 82.42%\n"
          ],
          "name": "stdout"
        }
      ]
    },
    {
      "cell_type": "code",
      "metadata": {
        "colab": {
          "base_uri": "https://localhost:8080/",
          "height": 296
        },
        "id": "53KDd_7bzqmi",
        "outputId": "6b5cd21c-fac0-4113-a2c7-a721edcb7a36"
      },
      "source": [
        "import matplotlib.pyplot as plt\n",
        "plt.xlabel('Epoch Number')\n",
        "plt.ylabel(\"Loss Magnitude\")\n",
        "plt.plot(history.history['loss'])"
      ],
      "execution_count": 61,
      "outputs": [
        {
          "output_type": "execute_result",
          "data": {
            "text/plain": [
              "[<matplotlib.lines.Line2D at 0x7ff127b923c8>]"
            ]
          },
          "metadata": {
            "tags": []
          },
          "execution_count": 61
        },
        {
          "output_type": "display_data",
          "data": {
            "image/png": "[encoded data removed]",
            "text/plain": [
              "<Figure size 432x288 with 1 Axes>"
            ]
          },
          "metadata": {
            "tags": [],
            "needs_background": "light"
          }
        }
      ]
    },
    {
      "cell_type": "code",
      "metadata": {
        "colab": {
          "base_uri": "https://localhost:8080/",
          "height": 299
        },
        "id": "KN_mnV7n0CJP",
        "outputId": "f6052e7e-133b-48b5-ad11-634d01c766f9"
      },
      "source": [
        "import matplotlib.pyplot as plt\n",
        "plt.xlabel('Epoch Number')\n",
        "plt.ylabel(\"Accuracy\")\n",
        "plt.plot(history.history['accuracy'])"
      ],
      "execution_count": 66,
      "outputs": [
        {
          "output_type": "execute_result",
          "data": {
            "text/plain": [
              "[<matplotlib.lines.Line2D at 0x7ff12737df98>]"
            ]
          },
          "metadata": {
            "tags": []
          },
          "execution_count": 66
        },
        {
          "output_type": "display_data",
          "data": {
            "image/png": "[encoded data removed]",
            "text/plain": [
              "<Figure size 432x288 with 1 Axes>"
            ]
          },
          "metadata": {
            "tags": [],
            "needs_background": "light"
          }
        }
      ]
    }
  ]
}